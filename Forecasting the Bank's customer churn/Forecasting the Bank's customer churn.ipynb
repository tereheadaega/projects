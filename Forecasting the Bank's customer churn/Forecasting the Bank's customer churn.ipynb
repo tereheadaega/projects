{
 "cells": [
  {
   "cell_type": "markdown",
   "id": "3bef88f1",
   "metadata": {},
   "source": [
    "## Прогноз оттока клиентов банка"
   ]
  },
  {
   "cell_type": "markdown",
   "id": "fc3bfcdb",
   "metadata": {},
   "source": [
    "Из «Бета-Банка» стали уходить клиенты. Определено: сохранять текущих клиентов дешевле, чем привлекать новых.\n",
    "\n",
    "Задача: спрогнозировать, уйдёт клиент из банка в ближайшее время или нет.\n",
    "\n",
    "Для исследования предоставлены данные о поведении клиентов и расторжении договоров с банком.\n",
    "\n",
    "Необходимо: Построить модель с предельно большим значением F1-меры."
   ]
  },
  {
   "cell_type": "markdown",
   "id": "d0923f8e",
   "metadata": {
    "toc": true
   },
   "source": [
    "<h1>Содержание<span class=\"tocSkip\"></span></h1>\n",
    "<div class=\"toc\"><ul class=\"toc-item\"><li><ul class=\"toc-item\"><li><span><a href=\"#Прогноз-оттока-клиентов-банка\" data-toc-modified-id=\"Прогноз-оттока-клиентов-банка-0.1\"><span class=\"toc-item-num\">0.1&nbsp;&nbsp;</span>Прогноз оттока клиентов банка</a></span></li></ul></li><li><span><a href=\"#Шаг.-Изучить-общую-информацию-и-подготовить-данные-к-исследованию\" data-toc-modified-id=\"Шаг.-Изучить-общую-информацию-и-подготовить-данные-к-исследованию-1\"><span class=\"toc-item-num\">1&nbsp;&nbsp;</span>Шаг. Изучить общую информацию и подготовить данные к исследованию</a></span><ul class=\"toc-item\"><li><span><a href=\"#Предобработка-данных\" data-toc-modified-id=\"Предобработка-данных-1.1\"><span class=\"toc-item-num\">1.1&nbsp;&nbsp;</span>Предобработка данных</a></span></li><li><span><a href=\"#Применение-техники-OHE\" data-toc-modified-id=\"Применение-техники-OHE-1.2\"><span class=\"toc-item-num\">1.2&nbsp;&nbsp;</span>Применение техники OHE</a></span></li><li><span><a href=\"#Извлечение-целевого-признака-и-разделение-данных\" data-toc-modified-id=\"Извлечение-целевого-признака-и-разделение-данных-1.3\"><span class=\"toc-item-num\">1.3&nbsp;&nbsp;</span>Извлечение целевого признака и разделение данных</a></span></li><li><span><a href=\"#Масштабирование-признаков\" data-toc-modified-id=\"Масштабирование-признаков-1.4\"><span class=\"toc-item-num\">1.4&nbsp;&nbsp;</span>Масштабирование признаков</a></span></li><li><span><a href=\"#Вывод\" data-toc-modified-id=\"Вывод-1.5\"><span class=\"toc-item-num\">1.5&nbsp;&nbsp;</span>Вывод</a></span></li></ul></li><li><span><a href=\"#Шаг.-Исследовать-баланс-классов,-обучить-модель-без-учёта-дисбаланса\" data-toc-modified-id=\"Шаг.-Исследовать-баланс-классов,-обучить-модель-без-учёта-дисбаланса-2\"><span class=\"toc-item-num\">2&nbsp;&nbsp;</span>Шаг. Исследовать баланс классов, обучить модель без учёта дисбаланса</a></span><ul class=\"toc-item\"><li><span><a href=\"#Дерево-решений\" data-toc-modified-id=\"Дерево-решений-2.1\"><span class=\"toc-item-num\">2.1&nbsp;&nbsp;</span>Дерево решений</a></span></li><li><span><a href=\"#Случайный-лес\" data-toc-modified-id=\"Случайный-лес-2.2\"><span class=\"toc-item-num\">2.2&nbsp;&nbsp;</span>Случайный лес</a></span></li><li><span><a href=\"#Логистическая-регрессия\" data-toc-modified-id=\"Логистическая-регрессия-2.3\"><span class=\"toc-item-num\">2.3&nbsp;&nbsp;</span>Логистическая регрессия</a></span></li><li><span><a href=\"#Метрики-качества-моделей\" data-toc-modified-id=\"Метрики-качества-моделей-2.4\"><span class=\"toc-item-num\">2.4&nbsp;&nbsp;</span>Метрики качества моделей</a></span><ul class=\"toc-item\"><li><span><a href=\"#Дерево-решений\" data-toc-modified-id=\"Дерево-решений-2.4.1\"><span class=\"toc-item-num\">2.4.1&nbsp;&nbsp;</span>Дерево решений</a></span></li><li><span><a href=\"#Случайный-лес\" data-toc-modified-id=\"Случайный-лес-2.4.2\"><span class=\"toc-item-num\">2.4.2&nbsp;&nbsp;</span>Случайный лес</a></span></li><li><span><a href=\"#Логистическая-регрессия\" data-toc-modified-id=\"Логистическая-регрессия-2.4.3\"><span class=\"toc-item-num\">2.4.3&nbsp;&nbsp;</span>Логистическая регрессия</a></span></li></ul></li><li><span><a href=\"#Проверка-баланса-моделей\" data-toc-modified-id=\"Проверка-баланса-моделей-2.5\"><span class=\"toc-item-num\">2.5&nbsp;&nbsp;</span>Проверка баланса моделей</a></span><ul class=\"toc-item\"><li><span><a href=\"#Дерево-решений\" data-toc-modified-id=\"Дерево-решений-2.5.1\"><span class=\"toc-item-num\">2.5.1&nbsp;&nbsp;</span>Дерево решений</a></span></li><li><span><a href=\"#Случайный-лес\" data-toc-modified-id=\"Случайный-лес-2.5.2\"><span class=\"toc-item-num\">2.5.2&nbsp;&nbsp;</span>Случайный лес</a></span></li><li><span><a href=\"#Логистическая-регрессия\" data-toc-modified-id=\"Логистическая-регрессия-2.5.3\"><span class=\"toc-item-num\">2.5.3&nbsp;&nbsp;</span>Логистическая регрессия</a></span></li><li><span><a href=\"#Константная-модель\" data-toc-modified-id=\"Константная-модель-2.5.4\"><span class=\"toc-item-num\">2.5.4&nbsp;&nbsp;</span>Константная модель</a></span></li></ul></li><li><span><a href=\"#Вывод\" data-toc-modified-id=\"Вывод-2.6\"><span class=\"toc-item-num\">2.6&nbsp;&nbsp;</span>Вывод</a></span></li></ul></li><li><span><a href=\"#Шаг.-Улучшить-качество-модели,-учитывая-дисбаланс-классов\" data-toc-modified-id=\"Шаг.-Улучшить-качество-модели,-учитывая-дисбаланс-классов-3\"><span class=\"toc-item-num\">3&nbsp;&nbsp;</span>Шаг. Улучшить качество модели, учитывая дисбаланс классов</a></span><ul class=\"toc-item\"><li><span><a href=\"#Взвешивание-классов\" data-toc-modified-id=\"Взвешивание-классов-3.1\"><span class=\"toc-item-num\">3.1&nbsp;&nbsp;</span>Взвешивание классов</a></span><ul class=\"toc-item\"><li><span><a href=\"#Дерево-решений\" data-toc-modified-id=\"Дерево-решений-3.1.1\"><span class=\"toc-item-num\">3.1.1&nbsp;&nbsp;</span>Дерево решений</a></span></li><li><span><a href=\"#Случайный-лес\" data-toc-modified-id=\"Случайный-лес-3.1.2\"><span class=\"toc-item-num\">3.1.2&nbsp;&nbsp;</span>Случайный лес</a></span></li><li><span><a href=\"#Логистическая-регрессия\" data-toc-modified-id=\"Логистическая-регрессия-3.1.3\"><span class=\"toc-item-num\">3.1.3&nbsp;&nbsp;</span>Логистическая регрессия</a></span></li></ul></li><li><span><a href=\"#Увеличение-выборки\" data-toc-modified-id=\"Увеличение-выборки-3.2\"><span class=\"toc-item-num\">3.2&nbsp;&nbsp;</span>Увеличение выборки</a></span><ul class=\"toc-item\"><li><span><a href=\"#Дерево-решений\" data-toc-modified-id=\"Дерево-решений-3.2.1\"><span class=\"toc-item-num\">3.2.1&nbsp;&nbsp;</span>Дерево решений</a></span></li><li><span><a href=\"#Случайный-лес\" data-toc-modified-id=\"Случайный-лес-3.2.2\"><span class=\"toc-item-num\">3.2.2&nbsp;&nbsp;</span>Случайный лес</a></span></li><li><span><a href=\"#Логистическая-регрессия\" data-toc-modified-id=\"Логистическая-регрессия-3.2.3\"><span class=\"toc-item-num\">3.2.3&nbsp;&nbsp;</span>Логистическая регрессия</a></span></li></ul></li><li><span><a href=\"#Уменьшение-выборки\" data-toc-modified-id=\"Уменьшение-выборки-3.3\"><span class=\"toc-item-num\">3.3&nbsp;&nbsp;</span>Уменьшение выборки</a></span><ul class=\"toc-item\"><li><span><a href=\"#Дерево-решений\" data-toc-modified-id=\"Дерево-решений-3.3.1\"><span class=\"toc-item-num\">3.3.1&nbsp;&nbsp;</span>Дерево решений</a></span></li><li><span><a href=\"#Случайный-лес\" data-toc-modified-id=\"Случайный-лес-3.3.2\"><span class=\"toc-item-num\">3.3.2&nbsp;&nbsp;</span>Случайный лес</a></span></li><li><span><a href=\"#Логистическая-регрессия\" data-toc-modified-id=\"Логистическая-регрессия-3.3.3\"><span class=\"toc-item-num\">3.3.3&nbsp;&nbsp;</span>Логистическая регрессия</a></span></li></ul></li><li><span><a href=\"#Метрики-качества-моделей\" data-toc-modified-id=\"Метрики-качества-моделей-3.4\"><span class=\"toc-item-num\">3.4&nbsp;&nbsp;</span>Метрики качества моделей</a></span><ul class=\"toc-item\"><li><span><a href=\"#Дерево-решений\" data-toc-modified-id=\"Дерево-решений-3.4.1\"><span class=\"toc-item-num\">3.4.1&nbsp;&nbsp;</span>Дерево решений</a></span></li><li><span><a href=\"#Случайный-лес\" data-toc-modified-id=\"Случайный-лес-3.4.2\"><span class=\"toc-item-num\">3.4.2&nbsp;&nbsp;</span>Случайный лес</a></span></li><li><span><a href=\"#Логистическая-регрессия\" data-toc-modified-id=\"Логистическая-регрессия-3.4.3\"><span class=\"toc-item-num\">3.4.3&nbsp;&nbsp;</span>Логистическая регрессия</a></span></li></ul></li><li><span><a href=\"#Вывод\" data-toc-modified-id=\"Вывод-3.5\"><span class=\"toc-item-num\">3.5&nbsp;&nbsp;</span>Вывод</a></span></li></ul></li><li><span><a href=\"#Шаг.-Финальное-тестирование\" data-toc-modified-id=\"Шаг.-Финальное-тестирование-4\"><span class=\"toc-item-num\">4&nbsp;&nbsp;</span>Шаг. Финальное тестирование</a></span></li><li><span><a href=\"#Вывод\" data-toc-modified-id=\"Вывод-5\"><span class=\"toc-item-num\">5&nbsp;&nbsp;</span>Вывод</a></span></li></ul></div>"
   ]
  },
  {
   "cell_type": "code",
   "execution_count": 1,
   "id": "435793c2",
   "metadata": {},
   "outputs": [],
   "source": [
    "import pandas as pd\n",
    "import numpy as np\n",
    "import matplotlib.pyplot as plt\n",
    "from sklearn.model_selection import train_test_split\n",
    "#from sklearn.linear_model import LinearRegression\n",
    "from sklearn.tree import DecisionTreeClassifier\n",
    "from sklearn.ensemble import RandomForestClassifier\n",
    "from sklearn.metrics import mean_absolute_error\n",
    "from sklearn.metrics import mean_squared_error\n",
    "from sklearn.metrics import r2_score\n",
    "from sklearn.linear_model import LogisticRegression\n",
    "from sklearn.preprocessing import StandardScaler \n",
    "from sklearn.metrics import f1_score\n",
    "from sklearn.metrics import roc_curve\n",
    "from sklearn.metrics import roc_auc_score\n",
    "from sklearn.metrics import accuracy_score\n",
    "from sklearn.utils import shuffle"
   ]
  },
  {
   "cell_type": "markdown",
   "id": "09c059ce",
   "metadata": {},
   "source": [
    "# Шаг. Изучить общую информацию и подготовить данные к исследованию"
   ]
  },
  {
   "cell_type": "code",
   "execution_count": 2,
   "id": "390d47e3",
   "metadata": {},
   "outputs": [],
   "source": [
    "# В переменную дата запишем полученный датасет\n",
    "import os\n",
    "pth1 = '/Users/maksimkeller/Desktop/Jupyter/Supervised_learning/Churn.csv'\n",
    "pth2 = '/datasets/Churn.csv'\n",
    "if os.path.exists(pth1):\n",
    "    data = pd.read_csv(pth1)\n",
    "elif os.path.exists(pth2):\n",
    "    data = pd.read_csv(pth2)\n",
    "else:\n",
    "    print(\"Проверьте правильность пути к датасету\")"
   ]
  },
  {
   "cell_type": "code",
   "execution_count": 3,
   "id": "e30e1c2e",
   "metadata": {
    "scrolled": false
   },
   "outputs": [
    {
     "name": "stdout",
     "output_type": "stream",
     "text": [
      "<class 'pandas.core.frame.DataFrame'>\n",
      "RangeIndex: 10000 entries, 0 to 9999\n",
      "Data columns (total 14 columns):\n",
      " #   Column           Non-Null Count  Dtype  \n",
      "---  ------           --------------  -----  \n",
      " 0   RowNumber        10000 non-null  int64  \n",
      " 1   CustomerId       10000 non-null  int64  \n",
      " 2   Surname          10000 non-null  object \n",
      " 3   CreditScore      10000 non-null  int64  \n",
      " 4   Geography        10000 non-null  object \n",
      " 5   Gender           10000 non-null  object \n",
      " 6   Age              10000 non-null  int64  \n",
      " 7   Tenure           9091 non-null   float64\n",
      " 8   Balance          10000 non-null  float64\n",
      " 9   NumOfProducts    10000 non-null  int64  \n",
      " 10  HasCrCard        10000 non-null  int64  \n",
      " 11  IsActiveMember   10000 non-null  int64  \n",
      " 12  EstimatedSalary  10000 non-null  float64\n",
      " 13  Exited           10000 non-null  int64  \n",
      "dtypes: float64(3), int64(8), object(3)\n",
      "memory usage: 1.1+ MB\n",
      "None\n"
     ]
    },
    {
     "data": {
      "text/html": [
       "<div>\n",
       "<style scoped>\n",
       "    .dataframe tbody tr th:only-of-type {\n",
       "        vertical-align: middle;\n",
       "    }\n",
       "\n",
       "    .dataframe tbody tr th {\n",
       "        vertical-align: top;\n",
       "    }\n",
       "\n",
       "    .dataframe thead th {\n",
       "        text-align: right;\n",
       "    }\n",
       "</style>\n",
       "<table border=\"1\" class=\"dataframe\">\n",
       "  <thead>\n",
       "    <tr style=\"text-align: right;\">\n",
       "      <th></th>\n",
       "      <th>RowNumber</th>\n",
       "      <th>CustomerId</th>\n",
       "      <th>Surname</th>\n",
       "      <th>CreditScore</th>\n",
       "      <th>Geography</th>\n",
       "      <th>Gender</th>\n",
       "      <th>Age</th>\n",
       "      <th>Tenure</th>\n",
       "      <th>Balance</th>\n",
       "      <th>NumOfProducts</th>\n",
       "      <th>HasCrCard</th>\n",
       "      <th>IsActiveMember</th>\n",
       "      <th>EstimatedSalary</th>\n",
       "      <th>Exited</th>\n",
       "    </tr>\n",
       "  </thead>\n",
       "  <tbody>\n",
       "    <tr>\n",
       "      <th>0</th>\n",
       "      <td>1</td>\n",
       "      <td>15634602</td>\n",
       "      <td>Hargrave</td>\n",
       "      <td>619</td>\n",
       "      <td>France</td>\n",
       "      <td>Female</td>\n",
       "      <td>42</td>\n",
       "      <td>2.0</td>\n",
       "      <td>0.00</td>\n",
       "      <td>1</td>\n",
       "      <td>1</td>\n",
       "      <td>1</td>\n",
       "      <td>101348.88</td>\n",
       "      <td>1</td>\n",
       "    </tr>\n",
       "    <tr>\n",
       "      <th>1</th>\n",
       "      <td>2</td>\n",
       "      <td>15647311</td>\n",
       "      <td>Hill</td>\n",
       "      <td>608</td>\n",
       "      <td>Spain</td>\n",
       "      <td>Female</td>\n",
       "      <td>41</td>\n",
       "      <td>1.0</td>\n",
       "      <td>83807.86</td>\n",
       "      <td>1</td>\n",
       "      <td>0</td>\n",
       "      <td>1</td>\n",
       "      <td>112542.58</td>\n",
       "      <td>0</td>\n",
       "    </tr>\n",
       "    <tr>\n",
       "      <th>2</th>\n",
       "      <td>3</td>\n",
       "      <td>15619304</td>\n",
       "      <td>Onio</td>\n",
       "      <td>502</td>\n",
       "      <td>France</td>\n",
       "      <td>Female</td>\n",
       "      <td>42</td>\n",
       "      <td>8.0</td>\n",
       "      <td>159660.80</td>\n",
       "      <td>3</td>\n",
       "      <td>1</td>\n",
       "      <td>0</td>\n",
       "      <td>113931.57</td>\n",
       "      <td>1</td>\n",
       "    </tr>\n",
       "    <tr>\n",
       "      <th>3</th>\n",
       "      <td>4</td>\n",
       "      <td>15701354</td>\n",
       "      <td>Boni</td>\n",
       "      <td>699</td>\n",
       "      <td>France</td>\n",
       "      <td>Female</td>\n",
       "      <td>39</td>\n",
       "      <td>1.0</td>\n",
       "      <td>0.00</td>\n",
       "      <td>2</td>\n",
       "      <td>0</td>\n",
       "      <td>0</td>\n",
       "      <td>93826.63</td>\n",
       "      <td>0</td>\n",
       "    </tr>\n",
       "    <tr>\n",
       "      <th>4</th>\n",
       "      <td>5</td>\n",
       "      <td>15737888</td>\n",
       "      <td>Mitchell</td>\n",
       "      <td>850</td>\n",
       "      <td>Spain</td>\n",
       "      <td>Female</td>\n",
       "      <td>43</td>\n",
       "      <td>2.0</td>\n",
       "      <td>125510.82</td>\n",
       "      <td>1</td>\n",
       "      <td>1</td>\n",
       "      <td>1</td>\n",
       "      <td>79084.10</td>\n",
       "      <td>0</td>\n",
       "    </tr>\n",
       "  </tbody>\n",
       "</table>\n",
       "</div>"
      ],
      "text/plain": [
       "   RowNumber  CustomerId   Surname  CreditScore Geography  Gender  Age  \\\n",
       "0          1    15634602  Hargrave          619    France  Female   42   \n",
       "1          2    15647311      Hill          608     Spain  Female   41   \n",
       "2          3    15619304      Onio          502    France  Female   42   \n",
       "3          4    15701354      Boni          699    France  Female   39   \n",
       "4          5    15737888  Mitchell          850     Spain  Female   43   \n",
       "\n",
       "   Tenure    Balance  NumOfProducts  HasCrCard  IsActiveMember  \\\n",
       "0     2.0       0.00              1          1               1   \n",
       "1     1.0   83807.86              1          0               1   \n",
       "2     8.0  159660.80              3          1               0   \n",
       "3     1.0       0.00              2          0               0   \n",
       "4     2.0  125510.82              1          1               1   \n",
       "\n",
       "   EstimatedSalary  Exited  \n",
       "0        101348.88       1  \n",
       "1        112542.58       0  \n",
       "2        113931.57       1  \n",
       "3         93826.63       0  \n",
       "4         79084.10       0  "
      ]
     },
     "execution_count": 3,
     "metadata": {},
     "output_type": "execute_result"
    }
   ],
   "source": [
    "# Выведем основные данные и первые 5 строк изначального датасета\n",
    "print(data.info())\n",
    "data.head()"
   ]
  },
  {
   "cell_type": "code",
   "execution_count": 4,
   "id": "b4045489",
   "metadata": {},
   "outputs": [
    {
     "name": "stdout",
     "output_type": "stream",
     "text": [
      "Уникальные значения столбца Geography\n",
      "['France' 'Spain' 'Germany']\n",
      "Уникальные значения столбца Age\n",
      "[42 41 39 43 44 50 29 27 31 24 34 25 35 45 58 32 38 46 36 33 40 51 61 49\n",
      " 37 19 66 56 26 21 55 75 22 30 28 65 48 52 57 73 47 54 72 20 67 79 62 53\n",
      " 80 59 68 23 60 70 63 64 18 82 69 74 71 76 77 88 85 84 78 81 92 83]\n",
      "Уникальные значения столбца Tenure\n",
      "[ 2.  1.  8.  7.  4.  6.  3. 10.  5.  9.  0. nan]\n",
      "Уникальные значения столбца NumOfProducts\n",
      "[1 3 2 4]\n"
     ]
    }
   ],
   "source": [
    "columns = ['Geography','Age', 'Tenure','NumOfProducts']\n",
    "for row in columns:\n",
    "    print('Уникальные значения столбца', row)\n",
    "    print(data[row].unique())"
   ]
  },
  {
   "cell_type": "code",
   "execution_count": 6,
   "id": "7f3215fe",
   "metadata": {},
   "outputs": [
    {
     "data": {
      "text/html": [
       "<div>\n",
       "<style scoped>\n",
       "    .dataframe tbody tr th:only-of-type {\n",
       "        vertical-align: middle;\n",
       "    }\n",
       "\n",
       "    .dataframe tbody tr th {\n",
       "        vertical-align: top;\n",
       "    }\n",
       "\n",
       "    .dataframe thead th {\n",
       "        text-align: right;\n",
       "    }\n",
       "</style>\n",
       "<table border=\"1\" class=\"dataframe\">\n",
       "  <thead>\n",
       "    <tr style=\"text-align: right;\">\n",
       "      <th></th>\n",
       "      <th>RowNumber</th>\n",
       "      <th>CustomerId</th>\n",
       "      <th>Surname</th>\n",
       "      <th>CreditScore</th>\n",
       "      <th>Geography</th>\n",
       "      <th>Gender</th>\n",
       "      <th>Age</th>\n",
       "      <th>Tenure</th>\n",
       "      <th>Balance</th>\n",
       "      <th>NumOfProducts</th>\n",
       "      <th>HasCrCard</th>\n",
       "      <th>IsActiveMember</th>\n",
       "      <th>EstimatedSalary</th>\n",
       "      <th>Exited</th>\n",
       "    </tr>\n",
       "  </thead>\n",
       "  <tbody>\n",
       "    <tr>\n",
       "      <th>count</th>\n",
       "      <td>10000.00000</td>\n",
       "      <td>1.000000e+04</td>\n",
       "      <td>10000</td>\n",
       "      <td>10000.000000</td>\n",
       "      <td>10000</td>\n",
       "      <td>10000</td>\n",
       "      <td>10000.000000</td>\n",
       "      <td>9091.000000</td>\n",
       "      <td>10000.000000</td>\n",
       "      <td>10000.000000</td>\n",
       "      <td>10000.00000</td>\n",
       "      <td>10000.000000</td>\n",
       "      <td>10000.000000</td>\n",
       "      <td>10000.000000</td>\n",
       "    </tr>\n",
       "    <tr>\n",
       "      <th>unique</th>\n",
       "      <td>NaN</td>\n",
       "      <td>NaN</td>\n",
       "      <td>2932</td>\n",
       "      <td>NaN</td>\n",
       "      <td>3</td>\n",
       "      <td>2</td>\n",
       "      <td>NaN</td>\n",
       "      <td>NaN</td>\n",
       "      <td>NaN</td>\n",
       "      <td>NaN</td>\n",
       "      <td>NaN</td>\n",
       "      <td>NaN</td>\n",
       "      <td>NaN</td>\n",
       "      <td>NaN</td>\n",
       "    </tr>\n",
       "    <tr>\n",
       "      <th>top</th>\n",
       "      <td>NaN</td>\n",
       "      <td>NaN</td>\n",
       "      <td>Smith</td>\n",
       "      <td>NaN</td>\n",
       "      <td>France</td>\n",
       "      <td>Male</td>\n",
       "      <td>NaN</td>\n",
       "      <td>NaN</td>\n",
       "      <td>NaN</td>\n",
       "      <td>NaN</td>\n",
       "      <td>NaN</td>\n",
       "      <td>NaN</td>\n",
       "      <td>NaN</td>\n",
       "      <td>NaN</td>\n",
       "    </tr>\n",
       "    <tr>\n",
       "      <th>freq</th>\n",
       "      <td>NaN</td>\n",
       "      <td>NaN</td>\n",
       "      <td>32</td>\n",
       "      <td>NaN</td>\n",
       "      <td>5014</td>\n",
       "      <td>5457</td>\n",
       "      <td>NaN</td>\n",
       "      <td>NaN</td>\n",
       "      <td>NaN</td>\n",
       "      <td>NaN</td>\n",
       "      <td>NaN</td>\n",
       "      <td>NaN</td>\n",
       "      <td>NaN</td>\n",
       "      <td>NaN</td>\n",
       "    </tr>\n",
       "    <tr>\n",
       "      <th>mean</th>\n",
       "      <td>5000.50000</td>\n",
       "      <td>1.569094e+07</td>\n",
       "      <td>NaN</td>\n",
       "      <td>650.528800</td>\n",
       "      <td>NaN</td>\n",
       "      <td>NaN</td>\n",
       "      <td>38.921800</td>\n",
       "      <td>4.997690</td>\n",
       "      <td>76485.889288</td>\n",
       "      <td>1.530200</td>\n",
       "      <td>0.70550</td>\n",
       "      <td>0.515100</td>\n",
       "      <td>100090.239881</td>\n",
       "      <td>0.203700</td>\n",
       "    </tr>\n",
       "    <tr>\n",
       "      <th>std</th>\n",
       "      <td>2886.89568</td>\n",
       "      <td>7.193619e+04</td>\n",
       "      <td>NaN</td>\n",
       "      <td>96.653299</td>\n",
       "      <td>NaN</td>\n",
       "      <td>NaN</td>\n",
       "      <td>10.487806</td>\n",
       "      <td>2.894723</td>\n",
       "      <td>62397.405202</td>\n",
       "      <td>0.581654</td>\n",
       "      <td>0.45584</td>\n",
       "      <td>0.499797</td>\n",
       "      <td>57510.492818</td>\n",
       "      <td>0.402769</td>\n",
       "    </tr>\n",
       "    <tr>\n",
       "      <th>min</th>\n",
       "      <td>1.00000</td>\n",
       "      <td>1.556570e+07</td>\n",
       "      <td>NaN</td>\n",
       "      <td>350.000000</td>\n",
       "      <td>NaN</td>\n",
       "      <td>NaN</td>\n",
       "      <td>18.000000</td>\n",
       "      <td>0.000000</td>\n",
       "      <td>0.000000</td>\n",
       "      <td>1.000000</td>\n",
       "      <td>0.00000</td>\n",
       "      <td>0.000000</td>\n",
       "      <td>11.580000</td>\n",
       "      <td>0.000000</td>\n",
       "    </tr>\n",
       "    <tr>\n",
       "      <th>25%</th>\n",
       "      <td>2500.75000</td>\n",
       "      <td>1.562853e+07</td>\n",
       "      <td>NaN</td>\n",
       "      <td>584.000000</td>\n",
       "      <td>NaN</td>\n",
       "      <td>NaN</td>\n",
       "      <td>32.000000</td>\n",
       "      <td>2.000000</td>\n",
       "      <td>0.000000</td>\n",
       "      <td>1.000000</td>\n",
       "      <td>0.00000</td>\n",
       "      <td>0.000000</td>\n",
       "      <td>51002.110000</td>\n",
       "      <td>0.000000</td>\n",
       "    </tr>\n",
       "    <tr>\n",
       "      <th>50%</th>\n",
       "      <td>5000.50000</td>\n",
       "      <td>1.569074e+07</td>\n",
       "      <td>NaN</td>\n",
       "      <td>652.000000</td>\n",
       "      <td>NaN</td>\n",
       "      <td>NaN</td>\n",
       "      <td>37.000000</td>\n",
       "      <td>5.000000</td>\n",
       "      <td>97198.540000</td>\n",
       "      <td>1.000000</td>\n",
       "      <td>1.00000</td>\n",
       "      <td>1.000000</td>\n",
       "      <td>100193.915000</td>\n",
       "      <td>0.000000</td>\n",
       "    </tr>\n",
       "    <tr>\n",
       "      <th>75%</th>\n",
       "      <td>7500.25000</td>\n",
       "      <td>1.575323e+07</td>\n",
       "      <td>NaN</td>\n",
       "      <td>718.000000</td>\n",
       "      <td>NaN</td>\n",
       "      <td>NaN</td>\n",
       "      <td>44.000000</td>\n",
       "      <td>7.000000</td>\n",
       "      <td>127644.240000</td>\n",
       "      <td>2.000000</td>\n",
       "      <td>1.00000</td>\n",
       "      <td>1.000000</td>\n",
       "      <td>149388.247500</td>\n",
       "      <td>0.000000</td>\n",
       "    </tr>\n",
       "    <tr>\n",
       "      <th>max</th>\n",
       "      <td>10000.00000</td>\n",
       "      <td>1.581569e+07</td>\n",
       "      <td>NaN</td>\n",
       "      <td>850.000000</td>\n",
       "      <td>NaN</td>\n",
       "      <td>NaN</td>\n",
       "      <td>92.000000</td>\n",
       "      <td>10.000000</td>\n",
       "      <td>250898.090000</td>\n",
       "      <td>4.000000</td>\n",
       "      <td>1.00000</td>\n",
       "      <td>1.000000</td>\n",
       "      <td>199992.480000</td>\n",
       "      <td>1.000000</td>\n",
       "    </tr>\n",
       "  </tbody>\n",
       "</table>\n",
       "</div>"
      ],
      "text/plain": [
       "          RowNumber    CustomerId Surname   CreditScore Geography Gender  \\\n",
       "count   10000.00000  1.000000e+04   10000  10000.000000     10000  10000   \n",
       "unique          NaN           NaN    2932           NaN         3      2   \n",
       "top             NaN           NaN   Smith           NaN    France   Male   \n",
       "freq            NaN           NaN      32           NaN      5014   5457   \n",
       "mean     5000.50000  1.569094e+07     NaN    650.528800       NaN    NaN   \n",
       "std      2886.89568  7.193619e+04     NaN     96.653299       NaN    NaN   \n",
       "min         1.00000  1.556570e+07     NaN    350.000000       NaN    NaN   \n",
       "25%      2500.75000  1.562853e+07     NaN    584.000000       NaN    NaN   \n",
       "50%      5000.50000  1.569074e+07     NaN    652.000000       NaN    NaN   \n",
       "75%      7500.25000  1.575323e+07     NaN    718.000000       NaN    NaN   \n",
       "max     10000.00000  1.581569e+07     NaN    850.000000       NaN    NaN   \n",
       "\n",
       "                 Age       Tenure        Balance  NumOfProducts    HasCrCard  \\\n",
       "count   10000.000000  9091.000000   10000.000000   10000.000000  10000.00000   \n",
       "unique           NaN          NaN            NaN            NaN          NaN   \n",
       "top              NaN          NaN            NaN            NaN          NaN   \n",
       "freq             NaN          NaN            NaN            NaN          NaN   \n",
       "mean       38.921800     4.997690   76485.889288       1.530200      0.70550   \n",
       "std        10.487806     2.894723   62397.405202       0.581654      0.45584   \n",
       "min        18.000000     0.000000       0.000000       1.000000      0.00000   \n",
       "25%        32.000000     2.000000       0.000000       1.000000      0.00000   \n",
       "50%        37.000000     5.000000   97198.540000       1.000000      1.00000   \n",
       "75%        44.000000     7.000000  127644.240000       2.000000      1.00000   \n",
       "max        92.000000    10.000000  250898.090000       4.000000      1.00000   \n",
       "\n",
       "        IsActiveMember  EstimatedSalary        Exited  \n",
       "count     10000.000000     10000.000000  10000.000000  \n",
       "unique             NaN              NaN           NaN  \n",
       "top                NaN              NaN           NaN  \n",
       "freq               NaN              NaN           NaN  \n",
       "mean          0.515100    100090.239881      0.203700  \n",
       "std           0.499797     57510.492818      0.402769  \n",
       "min           0.000000        11.580000      0.000000  \n",
       "25%           0.000000     51002.110000      0.000000  \n",
       "50%           1.000000    100193.915000      0.000000  \n",
       "75%           1.000000    149388.247500      0.000000  \n",
       "max           1.000000    199992.480000      1.000000  "
      ]
     },
     "execution_count": 6,
     "metadata": {},
     "output_type": "execute_result"
    }
   ],
   "source": [
    "data.describe(include='all')"
   ]
  },
  {
   "cell_type": "markdown",
   "id": "70e42069",
   "metadata": {},
   "source": [
    "## Предобработка данных"
   ]
  },
  {
   "cell_type": "code",
   "execution_count": 7,
   "id": "16abe0d4",
   "metadata": {},
   "outputs": [],
   "source": [
    "# Удалим столбец дублирующий индексы и столбцы, не относящиеся к исследованию.\n",
    "data = data.drop(['RowNumber','CustomerId','Surname'], axis =1 )"
   ]
  },
  {
   "cell_type": "code",
   "execution_count": 8,
   "id": "56857322",
   "metadata": {},
   "outputs": [],
   "source": [
    "data = data.rename(\n",
    "columns={\n",
    "    'CreditScore' : 'credit_score',\n",
    "    'Geography' : 'geography',\n",
    "    'Gender' : 'gender',\n",
    "    'Age' : 'age',\n",
    "    'Tenure' : 'tenure',\n",
    "    'Balance' : 'balance',\n",
    "    'NumOfProducts' : 'num_of_products',\n",
    "    'HasCrCard': 'has_cr_card',\n",
    "    'IsActiveMember' : 'is_active_member',\n",
    "    'EstimatedSalary' : 'estimated_salary',\n",
    "    'Exited': 'exited'\n",
    "})"
   ]
  },
  {
   "cell_type": "code",
   "execution_count": 9,
   "id": "cfd8c1be",
   "metadata": {
    "scrolled": false
   },
   "outputs": [
    {
     "data": {
      "text/html": [
       "<div>\n",
       "<style scoped>\n",
       "    .dataframe tbody tr th:only-of-type {\n",
       "        vertical-align: middle;\n",
       "    }\n",
       "\n",
       "    .dataframe tbody tr th {\n",
       "        vertical-align: top;\n",
       "    }\n",
       "\n",
       "    .dataframe thead th {\n",
       "        text-align: right;\n",
       "    }\n",
       "</style>\n",
       "<table border=\"1\" class=\"dataframe\">\n",
       "  <thead>\n",
       "    <tr style=\"text-align: right;\">\n",
       "      <th></th>\n",
       "      <th>credit_score</th>\n",
       "      <th>geography</th>\n",
       "      <th>gender</th>\n",
       "      <th>age</th>\n",
       "      <th>tenure</th>\n",
       "      <th>balance</th>\n",
       "      <th>num_of_products</th>\n",
       "      <th>has_cr_card</th>\n",
       "      <th>is_active_member</th>\n",
       "      <th>estimated_salary</th>\n",
       "      <th>exited</th>\n",
       "    </tr>\n",
       "  </thead>\n",
       "  <tbody>\n",
       "    <tr>\n",
       "      <th>9999</th>\n",
       "      <td>792</td>\n",
       "      <td>France</td>\n",
       "      <td>Female</td>\n",
       "      <td>28</td>\n",
       "      <td>NaN</td>\n",
       "      <td>130142.79</td>\n",
       "      <td>1</td>\n",
       "      <td>1</td>\n",
       "      <td>0</td>\n",
       "      <td>38190.78</td>\n",
       "      <td>0</td>\n",
       "    </tr>\n",
       "    <tr>\n",
       "      <th>778</th>\n",
       "      <td>754</td>\n",
       "      <td>France</td>\n",
       "      <td>Male</td>\n",
       "      <td>28</td>\n",
       "      <td>NaN</td>\n",
       "      <td>0.00</td>\n",
       "      <td>2</td>\n",
       "      <td>1</td>\n",
       "      <td>1</td>\n",
       "      <td>52615.62</td>\n",
       "      <td>0</td>\n",
       "    </tr>\n",
       "    <tr>\n",
       "      <th>2121</th>\n",
       "      <td>671</td>\n",
       "      <td>France</td>\n",
       "      <td>Male</td>\n",
       "      <td>30</td>\n",
       "      <td>NaN</td>\n",
       "      <td>0.00</td>\n",
       "      <td>1</td>\n",
       "      <td>0</td>\n",
       "      <td>1</td>\n",
       "      <td>102057.86</td>\n",
       "      <td>0</td>\n",
       "    </tr>\n",
       "    <tr>\n",
       "      <th>3791</th>\n",
       "      <td>705</td>\n",
       "      <td>France</td>\n",
       "      <td>Female</td>\n",
       "      <td>38</td>\n",
       "      <td>NaN</td>\n",
       "      <td>123894.43</td>\n",
       "      <td>1</td>\n",
       "      <td>1</td>\n",
       "      <td>0</td>\n",
       "      <td>21177.10</td>\n",
       "      <td>0</td>\n",
       "    </tr>\n",
       "    <tr>\n",
       "      <th>8083</th>\n",
       "      <td>576</td>\n",
       "      <td>Germany</td>\n",
       "      <td>Male</td>\n",
       "      <td>29</td>\n",
       "      <td>NaN</td>\n",
       "      <td>130575.26</td>\n",
       "      <td>1</td>\n",
       "      <td>0</td>\n",
       "      <td>1</td>\n",
       "      <td>173629.78</td>\n",
       "      <td>0</td>\n",
       "    </tr>\n",
       "  </tbody>\n",
       "</table>\n",
       "</div>"
      ],
      "text/plain": [
       "      credit_score geography  gender  age  tenure    balance  num_of_products  \\\n",
       "9999           792    France  Female   28     NaN  130142.79                1   \n",
       "778            754    France    Male   28     NaN       0.00                2   \n",
       "2121           671    France    Male   30     NaN       0.00                1   \n",
       "3791           705    France  Female   38     NaN  123894.43                1   \n",
       "8083           576   Germany    Male   29     NaN  130575.26                1   \n",
       "\n",
       "      has_cr_card  is_active_member  estimated_salary  exited  \n",
       "9999            1                 0          38190.78       0  \n",
       "778             1                 1          52615.62       0  \n",
       "2121            0                 1         102057.86       0  \n",
       "3791            1                 0          21177.10       0  \n",
       "8083            0                 1         173629.78       0  "
      ]
     },
     "execution_count": 9,
     "metadata": {},
     "output_type": "execute_result"
    }
   ],
   "source": [
    "data[data['tenure'].isna()].sample(5)"
   ]
  },
  {
   "cell_type": "code",
   "execution_count": 10,
   "id": "b8f9b3a2",
   "metadata": {},
   "outputs": [
    {
     "name": "stdout",
     "output_type": "stream",
     "text": [
      "Процент пропущенных значений в столбце tenure: 9%\n"
     ]
    }
   ],
   "source": [
    "skip = np.mean(data['tenure'].isna())\n",
    "print('Процент пропущенных значений в столбце tenure: {:.0%}'.format(skip))"
   ]
  },
  {
   "cell_type": "markdown",
   "id": "e2dfe806",
   "metadata": {},
   "source": [
    "Установить признак, позволяющий заполнить пропуски в столбце `tenure` не представляется возможным.\n",
    "Попытки заполнить пропуски не приводят к корректному результату. Общее количество пропусков не превышает 10%, поэтому строки с пропусками будут удалены из дальнейшего исследования."
   ]
  },
  {
   "cell_type": "code",
   "execution_count": 11,
   "id": "77763bb5",
   "metadata": {},
   "outputs": [],
   "source": [
    "data = data[data['tenure'].isna()== False]"
   ]
  },
  {
   "cell_type": "markdown",
   "id": "1a577553",
   "metadata": {},
   "source": [
    "## Применение техники OHE"
   ]
  },
  {
   "cell_type": "markdown",
   "id": "481cb44d",
   "metadata": {},
   "source": [
    "Как можно видеть выше, исходные данные содержат не только численные, но и категориальные данные. Для того того, чтобы преобразовать категориальные признаки будет использована техника One-Hot Encoding."
   ]
  },
  {
   "cell_type": "code",
   "execution_count": 12,
   "id": "77362b0f",
   "metadata": {},
   "outputs": [],
   "source": [
    "data = pd.get_dummies(data, drop_first=True)"
   ]
  },
  {
   "cell_type": "code",
   "execution_count": 13,
   "id": "76dc8548",
   "metadata": {},
   "outputs": [
    {
     "data": {
      "text/html": [
       "<div>\n",
       "<style scoped>\n",
       "    .dataframe tbody tr th:only-of-type {\n",
       "        vertical-align: middle;\n",
       "    }\n",
       "\n",
       "    .dataframe tbody tr th {\n",
       "        vertical-align: top;\n",
       "    }\n",
       "\n",
       "    .dataframe thead th {\n",
       "        text-align: right;\n",
       "    }\n",
       "</style>\n",
       "<table border=\"1\" class=\"dataframe\">\n",
       "  <thead>\n",
       "    <tr style=\"text-align: right;\">\n",
       "      <th></th>\n",
       "      <th>credit_score</th>\n",
       "      <th>age</th>\n",
       "      <th>tenure</th>\n",
       "      <th>balance</th>\n",
       "      <th>num_of_products</th>\n",
       "      <th>has_cr_card</th>\n",
       "      <th>is_active_member</th>\n",
       "      <th>estimated_salary</th>\n",
       "      <th>exited</th>\n",
       "      <th>geography_Germany</th>\n",
       "      <th>geography_Spain</th>\n",
       "      <th>gender_Male</th>\n",
       "    </tr>\n",
       "  </thead>\n",
       "  <tbody>\n",
       "    <tr>\n",
       "      <th>0</th>\n",
       "      <td>619</td>\n",
       "      <td>42</td>\n",
       "      <td>2.0</td>\n",
       "      <td>0.00</td>\n",
       "      <td>1</td>\n",
       "      <td>1</td>\n",
       "      <td>1</td>\n",
       "      <td>101348.88</td>\n",
       "      <td>1</td>\n",
       "      <td>0</td>\n",
       "      <td>0</td>\n",
       "      <td>0</td>\n",
       "    </tr>\n",
       "    <tr>\n",
       "      <th>1</th>\n",
       "      <td>608</td>\n",
       "      <td>41</td>\n",
       "      <td>1.0</td>\n",
       "      <td>83807.86</td>\n",
       "      <td>1</td>\n",
       "      <td>0</td>\n",
       "      <td>1</td>\n",
       "      <td>112542.58</td>\n",
       "      <td>0</td>\n",
       "      <td>0</td>\n",
       "      <td>1</td>\n",
       "      <td>0</td>\n",
       "    </tr>\n",
       "    <tr>\n",
       "      <th>2</th>\n",
       "      <td>502</td>\n",
       "      <td>42</td>\n",
       "      <td>8.0</td>\n",
       "      <td>159660.80</td>\n",
       "      <td>3</td>\n",
       "      <td>1</td>\n",
       "      <td>0</td>\n",
       "      <td>113931.57</td>\n",
       "      <td>1</td>\n",
       "      <td>0</td>\n",
       "      <td>0</td>\n",
       "      <td>0</td>\n",
       "    </tr>\n",
       "    <tr>\n",
       "      <th>3</th>\n",
       "      <td>699</td>\n",
       "      <td>39</td>\n",
       "      <td>1.0</td>\n",
       "      <td>0.00</td>\n",
       "      <td>2</td>\n",
       "      <td>0</td>\n",
       "      <td>0</td>\n",
       "      <td>93826.63</td>\n",
       "      <td>0</td>\n",
       "      <td>0</td>\n",
       "      <td>0</td>\n",
       "      <td>0</td>\n",
       "    </tr>\n",
       "    <tr>\n",
       "      <th>4</th>\n",
       "      <td>850</td>\n",
       "      <td>43</td>\n",
       "      <td>2.0</td>\n",
       "      <td>125510.82</td>\n",
       "      <td>1</td>\n",
       "      <td>1</td>\n",
       "      <td>1</td>\n",
       "      <td>79084.10</td>\n",
       "      <td>0</td>\n",
       "      <td>0</td>\n",
       "      <td>1</td>\n",
       "      <td>0</td>\n",
       "    </tr>\n",
       "  </tbody>\n",
       "</table>\n",
       "</div>"
      ],
      "text/plain": [
       "   credit_score  age  tenure    balance  num_of_products  has_cr_card  \\\n",
       "0           619   42     2.0       0.00                1            1   \n",
       "1           608   41     1.0   83807.86                1            0   \n",
       "2           502   42     8.0  159660.80                3            1   \n",
       "3           699   39     1.0       0.00                2            0   \n",
       "4           850   43     2.0  125510.82                1            1   \n",
       "\n",
       "   is_active_member  estimated_salary  exited  geography_Germany  \\\n",
       "0                 1         101348.88       1                  0   \n",
       "1                 1         112542.58       0                  0   \n",
       "2                 0         113931.57       1                  0   \n",
       "3                 0          93826.63       0                  0   \n",
       "4                 1          79084.10       0                  0   \n",
       "\n",
       "   geography_Spain  gender_Male  \n",
       "0                0            0  \n",
       "1                1            0  \n",
       "2                0            0  \n",
       "3                0            0  \n",
       "4                1            0  "
      ]
     },
     "execution_count": 13,
     "metadata": {},
     "output_type": "execute_result"
    }
   ],
   "source": [
    "# Код ревьюера. Рекомендую проверяться после каждых изменений\n",
    "\n",
    "data.head()"
   ]
  },
  {
   "cell_type": "markdown",
   "id": "1465f6e4",
   "metadata": {},
   "source": [
    "## Извлечение целевого признака и разделение данных"
   ]
  },
  {
   "cell_type": "code",
   "execution_count": 14,
   "id": "1e750204",
   "metadata": {},
   "outputs": [],
   "source": [
    "target = data['exited']\n",
    "features = data.drop(['exited'], axis=1)"
   ]
  },
  {
   "cell_type": "code",
   "execution_count": 15,
   "id": "69bc3516",
   "metadata": {},
   "outputs": [],
   "source": [
    "features_train, features_test, target_train, target_test = train_test_split(\n",
    "    features, target, train_size= .60,random_state=12345)\n",
    "features_test, features_valid, target_test, target_valid = train_test_split(\n",
    "    features_test, target_test, train_size= .50,random_state=12345)"
   ]
  },
  {
   "cell_type": "code",
   "execution_count": 62,
   "id": "e07b5d05",
   "metadata": {},
   "outputs": [
    {
     "name": "stdout",
     "output_type": "stream",
     "text": [
      "features_train shape (5454, 11)\n",
      "target_train shape (5454,)\n",
      "features_test shape (1818, 11)\n",
      "target_test shape (1818,)\n",
      "features_valid shape (1819, 11)\n",
      "target_valid shape (1819,)\n"
     ]
    }
   ],
   "source": [
    "print('features_train shape',features_train.shape)\n",
    "print('target_train shape',target_train.shape)\n",
    "print('features_test shape', features_test.shape)\n",
    "print('target_test shape', target_test.shape)\n",
    "print('features_valid shape', features_valid.shape)\n",
    "print('target_valid shape', target_valid.shape)"
   ]
  },
  {
   "cell_type": "markdown",
   "id": "abcfed2b",
   "metadata": {},
   "source": [
    "## Масштабирование признаков"
   ]
  },
  {
   "cell_type": "markdown",
   "id": "995c75a4",
   "metadata": {},
   "source": [
    "Выделим все не бинарные признаки в отдельный series."
   ]
  },
  {
   "cell_type": "code",
   "execution_count": 16,
   "id": "2b88d327",
   "metadata": {},
   "outputs": [
    {
     "data": {
      "text/plain": [
       "['credit_score',\n",
       " 'age',\n",
       " 'tenure',\n",
       " 'balance',\n",
       " 'num_of_products',\n",
       " 'estimated_salary']"
      ]
     },
     "execution_count": 16,
     "metadata": {},
     "output_type": "execute_result"
    }
   ],
   "source": [
    "bin_col = []\n",
    "for col in features.columns:\n",
    "    if len(features[col].unique()) != 2 and list(features[col].unique()) != [0,1]:\n",
    "        bin_col.append(col)\n",
    "bin_col"
   ]
  },
  {
   "cell_type": "code",
   "execution_count": 17,
   "id": "758a0886",
   "metadata": {},
   "outputs": [],
   "source": [
    "pd.options.mode.chained_assignment = None\n",
    "\n",
    "scaler = StandardScaler()\n",
    "scaler.fit(features_train[bin_col]) \n",
    "\n",
    "features_train[bin_col] = scaler.transform(features_train[bin_col])\n",
    "features_valid[bin_col] = scaler.transform(features_valid[bin_col])\n",
    "features_test[bin_col] = scaler.transform(features_test[bin_col])"
   ]
  },
  {
   "cell_type": "code",
   "execution_count": 18,
   "id": "ad48ee91",
   "metadata": {},
   "outputs": [
    {
     "data": {
      "text/html": [
       "<div>\n",
       "<style scoped>\n",
       "    .dataframe tbody tr th:only-of-type {\n",
       "        vertical-align: middle;\n",
       "    }\n",
       "\n",
       "    .dataframe tbody tr th {\n",
       "        vertical-align: top;\n",
       "    }\n",
       "\n",
       "    .dataframe thead th {\n",
       "        text-align: right;\n",
       "    }\n",
       "</style>\n",
       "<table border=\"1\" class=\"dataframe\">\n",
       "  <thead>\n",
       "    <tr style=\"text-align: right;\">\n",
       "      <th></th>\n",
       "      <th>credit_score</th>\n",
       "      <th>age</th>\n",
       "      <th>tenure</th>\n",
       "      <th>balance</th>\n",
       "      <th>num_of_products</th>\n",
       "      <th>has_cr_card</th>\n",
       "      <th>is_active_member</th>\n",
       "      <th>estimated_salary</th>\n",
       "      <th>geography_Germany</th>\n",
       "      <th>geography_Spain</th>\n",
       "      <th>gender_Male</th>\n",
       "    </tr>\n",
       "  </thead>\n",
       "  <tbody>\n",
       "    <tr>\n",
       "      <th>9344</th>\n",
       "      <td>0.809075</td>\n",
       "      <td>-1.039327</td>\n",
       "      <td>-1.025995</td>\n",
       "      <td>0.554904</td>\n",
       "      <td>-0.908179</td>\n",
       "      <td>1</td>\n",
       "      <td>0</td>\n",
       "      <td>0.019508</td>\n",
       "      <td>0</td>\n",
       "      <td>0</td>\n",
       "      <td>0</td>\n",
       "    </tr>\n",
       "    <tr>\n",
       "      <th>3796</th>\n",
       "      <td>-1.152518</td>\n",
       "      <td>-1.227561</td>\n",
       "      <td>0.696524</td>\n",
       "      <td>0.480609</td>\n",
       "      <td>-0.908179</td>\n",
       "      <td>0</td>\n",
       "      <td>0</td>\n",
       "      <td>0.056167</td>\n",
       "      <td>0</td>\n",
       "      <td>0</td>\n",
       "      <td>1</td>\n",
       "    </tr>\n",
       "    <tr>\n",
       "      <th>7462</th>\n",
       "      <td>-0.398853</td>\n",
       "      <td>0.090079</td>\n",
       "      <td>1.385532</td>\n",
       "      <td>-1.237830</td>\n",
       "      <td>-0.908179</td>\n",
       "      <td>1</td>\n",
       "      <td>1</td>\n",
       "      <td>0.848738</td>\n",
       "      <td>0</td>\n",
       "      <td>0</td>\n",
       "      <td>1</td>\n",
       "    </tr>\n",
       "    <tr>\n",
       "      <th>1508</th>\n",
       "      <td>-0.749875</td>\n",
       "      <td>-0.286389</td>\n",
       "      <td>0.352020</td>\n",
       "      <td>-1.237830</td>\n",
       "      <td>0.809300</td>\n",
       "      <td>1</td>\n",
       "      <td>1</td>\n",
       "      <td>-0.894953</td>\n",
       "      <td>0</td>\n",
       "      <td>0</td>\n",
       "      <td>1</td>\n",
       "    </tr>\n",
       "    <tr>\n",
       "      <th>4478</th>\n",
       "      <td>-1.028628</td>\n",
       "      <td>-0.756975</td>\n",
       "      <td>-0.336987</td>\n",
       "      <td>-1.237830</td>\n",
       "      <td>0.809300</td>\n",
       "      <td>0</td>\n",
       "      <td>1</td>\n",
       "      <td>-1.284516</td>\n",
       "      <td>0</td>\n",
       "      <td>0</td>\n",
       "      <td>1</td>\n",
       "    </tr>\n",
       "    <tr>\n",
       "      <th>...</th>\n",
       "      <td>...</td>\n",
       "      <td>...</td>\n",
       "      <td>...</td>\n",
       "      <td>...</td>\n",
       "      <td>...</td>\n",
       "      <td>...</td>\n",
       "      <td>...</td>\n",
       "      <td>...</td>\n",
       "      <td>...</td>\n",
       "      <td>...</td>\n",
       "      <td>...</td>\n",
       "    </tr>\n",
       "    <tr>\n",
       "      <th>4938</th>\n",
       "      <td>1.283988</td>\n",
       "      <td>-0.474624</td>\n",
       "      <td>1.730036</td>\n",
       "      <td>0.813031</td>\n",
       "      <td>-0.908179</td>\n",
       "      <td>0</td>\n",
       "      <td>0</td>\n",
       "      <td>-1.092767</td>\n",
       "      <td>1</td>\n",
       "      <td>0</td>\n",
       "      <td>1</td>\n",
       "    </tr>\n",
       "    <tr>\n",
       "      <th>4529</th>\n",
       "      <td>0.158652</td>\n",
       "      <td>0.466548</td>\n",
       "      <td>1.041028</td>\n",
       "      <td>1.071609</td>\n",
       "      <td>-0.908179</td>\n",
       "      <td>1</td>\n",
       "      <td>1</td>\n",
       "      <td>0.260842</td>\n",
       "      <td>0</td>\n",
       "      <td>0</td>\n",
       "      <td>0</td>\n",
       "    </tr>\n",
       "    <tr>\n",
       "      <th>3866</th>\n",
       "      <td>-1.049276</td>\n",
       "      <td>-0.945210</td>\n",
       "      <td>0.352020</td>\n",
       "      <td>0.449165</td>\n",
       "      <td>-0.908179</td>\n",
       "      <td>1</td>\n",
       "      <td>1</td>\n",
       "      <td>-1.086965</td>\n",
       "      <td>0</td>\n",
       "      <td>0</td>\n",
       "      <td>0</td>\n",
       "    </tr>\n",
       "    <tr>\n",
       "      <th>2414</th>\n",
       "      <td>-0.956359</td>\n",
       "      <td>1.219485</td>\n",
       "      <td>1.385532</td>\n",
       "      <td>-1.237830</td>\n",
       "      <td>-0.908179</td>\n",
       "      <td>1</td>\n",
       "      <td>0</td>\n",
       "      <td>1.288527</td>\n",
       "      <td>0</td>\n",
       "      <td>0</td>\n",
       "      <td>0</td>\n",
       "    </tr>\n",
       "    <tr>\n",
       "      <th>5056</th>\n",
       "      <td>1.222043</td>\n",
       "      <td>-1.509912</td>\n",
       "      <td>-1.025995</td>\n",
       "      <td>1.015938</td>\n",
       "      <td>-0.908179</td>\n",
       "      <td>0</td>\n",
       "      <td>1</td>\n",
       "      <td>-1.244002</td>\n",
       "      <td>1</td>\n",
       "      <td>0</td>\n",
       "      <td>1</td>\n",
       "    </tr>\n",
       "  </tbody>\n",
       "</table>\n",
       "<p>5454 rows × 11 columns</p>\n",
       "</div>"
      ],
      "text/plain": [
       "      credit_score       age    tenure   balance  num_of_products  \\\n",
       "9344      0.809075 -1.039327 -1.025995  0.554904        -0.908179   \n",
       "3796     -1.152518 -1.227561  0.696524  0.480609        -0.908179   \n",
       "7462     -0.398853  0.090079  1.385532 -1.237830        -0.908179   \n",
       "1508     -0.749875 -0.286389  0.352020 -1.237830         0.809300   \n",
       "4478     -1.028628 -0.756975 -0.336987 -1.237830         0.809300   \n",
       "...            ...       ...       ...       ...              ...   \n",
       "4938      1.283988 -0.474624  1.730036  0.813031        -0.908179   \n",
       "4529      0.158652  0.466548  1.041028  1.071609        -0.908179   \n",
       "3866     -1.049276 -0.945210  0.352020  0.449165        -0.908179   \n",
       "2414     -0.956359  1.219485  1.385532 -1.237830        -0.908179   \n",
       "5056      1.222043 -1.509912 -1.025995  1.015938        -0.908179   \n",
       "\n",
       "      has_cr_card  is_active_member  estimated_salary  geography_Germany  \\\n",
       "9344            1                 0          0.019508                  0   \n",
       "3796            0                 0          0.056167                  0   \n",
       "7462            1                 1          0.848738                  0   \n",
       "1508            1                 1         -0.894953                  0   \n",
       "4478            0                 1         -1.284516                  0   \n",
       "...           ...               ...               ...                ...   \n",
       "4938            0                 0         -1.092767                  1   \n",
       "4529            1                 1          0.260842                  0   \n",
       "3866            1                 1         -1.086965                  0   \n",
       "2414            1                 0          1.288527                  0   \n",
       "5056            0                 1         -1.244002                  1   \n",
       "\n",
       "      geography_Spain  gender_Male  \n",
       "9344                0            0  \n",
       "3796                0            1  \n",
       "7462                0            1  \n",
       "1508                0            1  \n",
       "4478                0            1  \n",
       "...               ...          ...  \n",
       "4938                0            1  \n",
       "4529                0            0  \n",
       "3866                0            0  \n",
       "2414                0            0  \n",
       "5056                0            1  \n",
       "\n",
       "[5454 rows x 11 columns]"
      ]
     },
     "execution_count": 18,
     "metadata": {},
     "output_type": "execute_result"
    }
   ],
   "source": [
    "features_train"
   ]
  },
  {
   "cell_type": "markdown",
   "id": "284a49ec",
   "metadata": {},
   "source": [
    "## Вывод\n",
    "\n",
    "В данном разделе был загружен исследуемый датасет.\n",
    "Были рассмотрены имеющиеся признаки, а имено:\n",
    "- RowNumber — индекс строки в данных (удалён из рассмотрения всвязи с невостребованнностью в данном исследовании)\n",
    "- CustomerId — уникальный идентификатор клиента (удалён из рассмотрения всвязи с невостребованнностью в данном исследовании)\n",
    "- Surname — фамилия (удалён из рассмотрения всвязи с невостребованнностью в данном исследовании)\n",
    "- CreditScore — кредитный рейтинг\n",
    "- Geography — страна проживания\n",
    "- Gender — пол\n",
    "- Age — возраст\n",
    "- Tenure — сколько лет человек является клиентом банка\n",
    "- Balance — баланс на счёте\n",
    "- NumOfProducts — количество продуктов банка, используемых клиентом\n",
    "- HasCrCard — наличие кредитной карты\n",
    "- IsActiveMember — активность клиента\n",
    "- EstimatedSalary — предполагаемая зарплата\n",
    "- Целевой признак\n",
    "- Exited — факт ухода клиента\n",
    "\n",
    "Для корректной дальнейшей работы все категориальные признаки были переведены в численные при помощи OHE, техники, которая в данном решении подходит более техники Ordinal Encoding.\n",
    "\n",
    "После чего все признаки были масштабированы при помощи метода стандартизации данных.\n"
   ]
  },
  {
   "cell_type": "markdown",
   "id": "0c2f8179",
   "metadata": {},
   "source": [
    "# Шаг. Исследовать баланс классов, обучить модель без учёта дисбаланса"
   ]
  },
  {
   "cell_type": "markdown",
   "id": "9740b60d",
   "metadata": {},
   "source": [
    "В начале данного этапа будут обучены три модели без учёба дисбаланса."
   ]
  },
  {
   "cell_type": "markdown",
   "id": "2ec2b2f5",
   "metadata": {},
   "source": [
    "## Дерево решений"
   ]
  },
  {
   "cell_type": "code",
   "execution_count": 19,
   "id": "9b00a8a8",
   "metadata": {},
   "outputs": [
    {
     "name": "stdout",
     "output_type": "stream",
     "text": [
      "Наилучший показатель f1 меры для дерева решений: 0.5534804753820034\n",
      "Глубина наилучшей модели 7\n",
      "CPU times: user 2.85 s, sys: 10.5 ms, total: 2.86 s\n",
      "Wall time: 2.86 s\n"
     ]
    }
   ],
   "source": [
    "%%time\n",
    "\n",
    "best_f1_tree = 0\n",
    "\n",
    "for depth in range(1, 100):\n",
    "    model_tree = DecisionTreeClassifier(random_state=12345, max_depth=depth)\n",
    "    model_tree.fit(features_train,target_train)\n",
    "    predicted_valid_tree = model_tree.predict(features_valid)\n",
    "    f1_tree_score = f1_score(target_valid, predicted_valid_tree)\n",
    "    if best_f1_tree < f1_tree_score:\n",
    "        best_f1_tree = f1_tree_score\n",
    "        best_tree_depth = depth\n",
    "model_tree = DecisionTreeClassifier(random_state=12345, max_depth= best_tree_depth)\n",
    "model_tree.fit(features_train,target_train)\n",
    "predicted_valid_tree = model_tree.predict(features_valid)\n",
    "print('Наилучший показатель f1 меры для дерева решений:', best_f1_tree)\n",
    "print('Глубина наилучшей модели',best_tree_depth)"
   ]
  },
  {
   "cell_type": "markdown",
   "id": "d6afaa7a",
   "metadata": {},
   "source": [
    "## Случайный лес"
   ]
  },
  {
   "cell_type": "code",
   "execution_count": 20,
   "id": "bfb44597",
   "metadata": {},
   "outputs": [
    {
     "name": "stdout",
     "output_type": "stream",
     "text": [
      "Наилучший показатель f1 меры для модели случайный лес: 0.5929824561403508\n",
      "Глубина наилучшей модели 16\n",
      "Количество деревьев в наилучшей модели 38\n",
      "CPU times: user 4min 21s, sys: 791 ms, total: 4min 22s\n",
      "Wall time: 4min 22s\n"
     ]
    }
   ],
   "source": [
    "%%time\n",
    "\n",
    "best_f1_forest = 0\n",
    "\n",
    "for depth in range(1,20):\n",
    "    for est in range(2,100,2):\n",
    "        model_forest = RandomForestClassifier(random_state=12345, max_depth=depth, n_estimators=est) \n",
    "        model_forest.fit(features_train,target_train)\n",
    "        predicted_valid_forest = model_forest.predict(features_valid)\n",
    "        f1_forest_score = f1_score(target_valid, predicted_valid_forest)\n",
    "        if best_f1_forest < f1_forest_score:\n",
    "            best_f1_forest = f1_forest_score\n",
    "            best_forest_depth = depth\n",
    "            best_forest_est = est\n",
    "model_forest = RandomForestClassifier(random_state=12345, max_depth=best_forest_depth, n_estimators=best_forest_est) \n",
    "model_forest.fit(features_train,target_train)\n",
    "predicted_valid_forest = model_forest.predict(features_valid)\n",
    "print('Наилучший показатель f1 меры для модели случайный лес:', best_f1_forest)\n",
    "print('Глубина наилучшей модели',best_forest_depth)\n",
    "print('Количество деревьев в наилучшей модели',best_forest_est)"
   ]
  },
  {
   "cell_type": "markdown",
   "id": "213bebd1",
   "metadata": {},
   "source": [
    "## Логистическая регрессия"
   ]
  },
  {
   "cell_type": "code",
   "execution_count": 21,
   "id": "60f6cbd3",
   "metadata": {
    "scrolled": true
   },
   "outputs": [
    {
     "name": "stdout",
     "output_type": "stream",
     "text": [
      "Показатель f1 меры для модели логистическая регрессия: 0.3175965665236052\n",
      "CPU times: user 13.5 ms, sys: 2.63 ms, total: 16.2 ms\n",
      "Wall time: 18.2 ms\n"
     ]
    }
   ],
   "source": [
    "%%time\n",
    "\n",
    "model_log = LogisticRegression(random_state=12345,solver='liblinear')\n",
    "model_log.fit(features_train,target_train) \n",
    "predicted_valid_log = model_log.predict(features_valid)\n",
    "best_f1_log = f1_score(target_valid, predicted_valid_log)\n",
    "print('Показатель f1 меры для модели логистическая регрессия:', best_f1_log)"
   ]
  },
  {
   "cell_type": "markdown",
   "id": "f67d5821",
   "metadata": {},
   "source": [
    "Заметим, что уже на данном этапе значение ключевой метрики F1 для модели Случайный лес удовлетворяет требованиям исследования, однако, в целях повышения качества модели, будет произведено дополнительное исследование."
   ]
  },
  {
   "cell_type": "markdown",
   "id": "0f84e998",
   "metadata": {},
   "source": [
    "## Метрики качества моделей"
   ]
  },
  {
   "cell_type": "markdown",
   "id": "3ff917dc",
   "metadata": {},
   "source": [
    "Для определения качества моделей будем использовать ROC- кривую и значение AUC-ROC.\n",
    "\n",
    "На ROC-кривой, или кривой ошибок по горизонтали отмечается доля ложноположительных ответов (FPR), а по вертикали — доля истинно положительных ответов (TPR).\n",
    "\n",
    "AUC-ROC (от англ. Area Under Curve ROC, «площадь под ROC-кривой»). Это метрика качества, которая изменяется от 0 до 1. \n",
    "Важно обратить внимание, что для модели, которая всегда отвечает случайно, ROC-кривая выглядит как прямая, идущая из левого нижнего угла в верхний правый, а AUC-ROC случайной модели равна .5"
   ]
  },
  {
   "cell_type": "code",
   "execution_count": 22,
   "id": "ff8f8b1e",
   "metadata": {},
   "outputs": [],
   "source": [
    "def quality(model, prediction):\n",
    "    probabilities = model.predict_proba(features_valid)\n",
    "    probabilities_one_valid = probabilities[:, 1]\n",
    "\n",
    "    fpr, tpr, thresholds = roc_curve(target_valid, probabilities_one_valid)\n",
    "\n",
    "\n",
    "    plt.figure()\n",
    "    plt.plot([0, 1], [0, 1], linestyle='--')\n",
    "    plt.plot(fpr, tpr)\n",
    "    plt.xlim([0.0, 1.0])\n",
    "    plt.ylim([0.0, 1.0])\n",
    "    plt.xlabel('False Positive Rate')\n",
    "    plt.ylabel('True Positive Rate')\n",
    "    plt.title('ROC-кривая')\n",
    "    plt.show()\n",
    "    \n",
    "    auc_roc = roc_auc_score(target_valid,probabilities_one_valid)\n",
    "    mse = mean_squared_error(target_valid, prediction) \n",
    "    print('Рассматриваемая модель: ', model)\n",
    "    print('Значение метрики AUC-ROC для модели: ', auc_roc)\n",
    "    print('f1 на валидационной выборке:', f1_score(target_valid, prediction) )"
   ]
  },
  {
   "cell_type": "markdown",
   "id": "892c13d6",
   "metadata": {},
   "source": [
    "### Дерево решений"
   ]
  },
  {
   "cell_type": "code",
   "execution_count": 23,
   "id": "58f9e897",
   "metadata": {},
   "outputs": [
    {
     "data": {
      "image/png": "[encoded data removed]",
      "text/plain": [
       "<Figure size 432x288 with 1 Axes>"
      ]
     },
     "metadata": {
      "needs_background": "light"
     },
     "output_type": "display_data"
    },
    {
     "name": "stdout",
     "output_type": "stream",
     "text": [
      "Рассматриваемая модель:  DecisionTreeClassifier(max_depth=7, random_state=12345)\n",
      "Значение метрики AUC-ROC для модели:  0.8280166825807154\n",
      "MAE на валидационной выборке:  0.1445849367784497\n",
      "f1 на валидационной выборке: 0.5534804753820034\n"
     ]
    }
   ],
   "source": [
    "quality(model_tree, predicted_valid_tree)"
   ]
  },
  {
   "cell_type": "markdown",
   "id": "186e4d07",
   "metadata": {},
   "source": [
    "### Случайный лес"
   ]
  },
  {
   "cell_type": "code",
   "execution_count": 24,
   "id": "8811a33c",
   "metadata": {},
   "outputs": [
    {
     "data": {
      "image/png": "[encoded data removed]",
      "text/plain": [
       "<Figure size 432x288 with 1 Axes>"
      ]
     },
     "metadata": {
      "needs_background": "light"
     },
     "output_type": "display_data"
    },
    {
     "name": "stdout",
     "output_type": "stream",
     "text": [
      "Рассматриваемая модель:  RandomForestClassifier(max_depth=16, n_estimators=38, random_state=12345)\n",
      "Значение метрики AUC-ROC для модели:  0.8517441409130783\n",
      "MAE на валидационной выборке:  0.12754260582737767\n",
      "f1 на валидационной выборке: 0.5929824561403508\n"
     ]
    }
   ],
   "source": [
    "quality(model_forest,predicted_valid_forest)"
   ]
  },
  {
   "cell_type": "markdown",
   "id": "86e607c8",
   "metadata": {},
   "source": [
    "### Логистическая регрессия"
   ]
  },
  {
   "cell_type": "code",
   "execution_count": 25,
   "id": "8d6fdc8c",
   "metadata": {},
   "outputs": [
    {
     "data": {
      "image/png": "[encoded data removed]",
      "text/plain": [
       "<Figure size 432x288 with 1 Axes>"
      ]
     },
     "metadata": {
      "needs_background": "light"
     },
     "output_type": "display_data"
    },
    {
     "name": "stdout",
     "output_type": "stream",
     "text": [
      "Рассматриваемая модель:  LogisticRegression(random_state=12345, solver='liblinear')\n",
      "Значение метрики AUC-ROC для модели:  0.780939239386106\n",
      "MAE на валидационной выборке:  0.17482133040131942\n",
      "f1 на валидационной выборке: 0.3175965665236052\n"
     ]
    }
   ],
   "source": [
    "quality(model_log, predicted_valid_log)"
   ]
  },
  {
   "cell_type": "markdown",
   "id": "c7aa9486",
   "metadata": {},
   "source": [
    "## Проверка баланса моделей\n",
    "\n",
    "Выведем как на самом деле относятся 0 и 1 в целевом столбце `exited`"
   ]
  },
  {
   "cell_type": "code",
   "execution_count": 26,
   "id": "633af033",
   "metadata": {
    "scrolled": false
   },
   "outputs": [
    {
     "name": "stdout",
     "output_type": "stream",
     "text": [
      "0    0.796062\n",
      "1    0.203938\n",
      "Name: exited, dtype: float64\n"
     ]
    },
    {
     "data": {
      "image/png": "[encoded data removed]",
      "text/plain": [
       "<Figure size 432x288 with 1 Axes>"
      ]
     },
     "metadata": {
      "needs_background": "light"
     },
     "output_type": "display_data"
    }
   ],
   "source": [
    "class_frequency = data['exited'].value_counts(normalize= True) \n",
    "print(class_frequency)\n",
    "class_frequency.plot(kind='bar')\n",
    "plt.show()"
   ]
  },
  {
   "cell_type": "markdown",
   "id": "4a4d7824",
   "metadata": {},
   "source": [
    "Изучим, какое распределение нулей и единиц у рассматриваемых моделей."
   ]
  },
  {
   "cell_type": "markdown",
   "id": "cf71316d",
   "metadata": {},
   "source": [
    "### Дерево решений"
   ]
  },
  {
   "cell_type": "code",
   "execution_count": 27,
   "id": "76277f3c",
   "metadata": {
    "scrolled": true
   },
   "outputs": [],
   "source": [
    "def zeroes(model):\n",
    "    predicted_valid = pd.Series(model.predict(features_valid))\n",
    "\n",
    "    class_frequency = predicted_valid.value_counts(normalize = True)\n",
    "    print(class_frequency)\n",
    "    class_frequency.plot( kind='bar' )\n",
    "    plt.show()\n",
    "    print('значение accuracy', accuracy_score(target_valid, predicted_valid))"
   ]
  },
  {
   "cell_type": "code",
   "execution_count": 28,
   "id": "2eed4da4",
   "metadata": {
    "scrolled": false
   },
   "outputs": [
    {
     "name": "stdout",
     "output_type": "stream",
     "text": [
      "0    0.869159\n",
      "1    0.130841\n",
      "dtype: float64\n"
     ]
    },
    {
     "data": {
      "image/png": "[encoded data removed]",
      "text/plain": [
       "<Figure size 432x288 with 1 Axes>"
      ]
     },
     "metadata": {
      "needs_background": "light"
     },
     "output_type": "display_data"
    },
    {
     "name": "stdout",
     "output_type": "stream",
     "text": [
      "значение accuracy 0.8554150632215503\n"
     ]
    }
   ],
   "source": [
    "zeroes(model_tree)"
   ]
  },
  {
   "cell_type": "markdown",
   "id": "a99db586",
   "metadata": {},
   "source": [
    "### Случайный лес"
   ]
  },
  {
   "cell_type": "code",
   "execution_count": 29,
   "id": "4ee63bc9",
   "metadata": {
    "scrolled": true
   },
   "outputs": [
    {
     "name": "stdout",
     "output_type": "stream",
     "text": [
      "0    0.879604\n",
      "1    0.120396\n",
      "dtype: float64\n"
     ]
    },
    {
     "data": {
      "image/png": "[encoded data removed]",
      "text/plain": [
       "<Figure size 432x288 with 1 Axes>"
      ]
     },
     "metadata": {
      "needs_background": "light"
     },
     "output_type": "display_data"
    },
    {
     "name": "stdout",
     "output_type": "stream",
     "text": [
      "значение accuracy 0.8724573941726224\n"
     ]
    }
   ],
   "source": [
    "zeroes(model_forest)"
   ]
  },
  {
   "cell_type": "markdown",
   "id": "9caf9963",
   "metadata": {},
   "source": [
    "### Логистическая регрессия"
   ]
  },
  {
   "cell_type": "code",
   "execution_count": 30,
   "id": "12f5fddf",
   "metadata": {
    "scrolled": true
   },
   "outputs": [
    {
     "name": "stdout",
     "output_type": "stream",
     "text": [
      "0    0.936778\n",
      "1    0.063222\n",
      "dtype: float64\n"
     ]
    },
    {
     "data": {
      "image/png": "[encoded data removed]",
      "text/plain": [
       "<Figure size 432x288 with 1 Axes>"
      ]
     },
     "metadata": {
      "needs_background": "light"
     },
     "output_type": "display_data"
    },
    {
     "name": "stdout",
     "output_type": "stream",
     "text": [
      "значение accuracy 0.8251786695986806\n"
     ]
    }
   ],
   "source": [
    "zeroes(model_log)"
   ]
  },
  {
   "cell_type": "markdown",
   "id": "297b8d7f",
   "metadata": {},
   "source": [
    "### Константная модель"
   ]
  },
  {
   "cell_type": "markdown",
   "id": "736fe017",
   "metadata": {},
   "source": [
    "Построим константную модель, которая любому объекту прогнозирует класс «0» и вычислим значение accuracy."
   ]
  },
  {
   "cell_type": "code",
   "execution_count": 31,
   "id": "be9ff151",
   "metadata": {},
   "outputs": [
    {
     "name": "stdout",
     "output_type": "stream",
     "text": [
      "значение accuracy константной модели: 0.8070368334249588\n"
     ]
    }
   ],
   "source": [
    "target_pred_constant = pd.Series([0]*len(target_valid))\n",
    "print('значение accuracy константной модели:', accuracy_score(target_valid, target_pred_constant))"
   ]
  },
  {
   "cell_type": "markdown",
   "id": "20a80e79",
   "metadata": {},
   "source": [
    "Отметим, что значение метрики accuracy на константной модели незначительно превышает аналогичные значения данной метрики на других моделях. Поэтому данная метрика не подходит при дисбалансе класса."
   ]
  },
  {
   "cell_type": "markdown",
   "id": "b3bf3dde",
   "metadata": {},
   "source": [
    "## Вывод\n",
    "\n",
    "\n",
    "В данном разделе были построены и изучены три модели:\n",
    "- Дерево решений\n",
    "- Случайный лес\n",
    "- Логистическая регрессия\n",
    "\n",
    "Для определения адекватности для каждой модели были рассчитаны следующие метрики: AUC-ROC, MAE, RMSE, f1, R2 после чего были представлены отношения 0 и 1 в целевом столбце `exited` и было рассчитано значение accuracy, которое было сравнено с аналогичным значением константной модели (модели, которая каждому объекту присвает 0).\n",
    "\n",
    "Было показано, что на несбалансированной модели метрика accuracy не способна отобразить качество рассматриваемой модели."
   ]
  },
  {
   "cell_type": "markdown",
   "id": "8d9f3d5c",
   "metadata": {},
   "source": [
    "# Шаг. Улучшить качество модели, учитывая дисбаланс классов"
   ]
  },
  {
   "cell_type": "markdown",
   "id": "e77a342a",
   "metadata": {},
   "source": [
    "## Взвешивание классов"
   ]
  },
  {
   "cell_type": "markdown",
   "id": "fd7ae70c",
   "metadata": {},
   "source": [
    "### Дерево решений"
   ]
  },
  {
   "cell_type": "code",
   "execution_count": 32,
   "id": "bee5d754",
   "metadata": {},
   "outputs": [
    {
     "name": "stdout",
     "output_type": "stream",
     "text": [
      "Наилучший показатель f1 меры для сбалансированного дерева решений: 0.5653631284916201\n",
      "Глубина наилучшей модели 5\n",
      "CPU times: user 2.97 s, sys: 8.13 ms, total: 2.98 s\n",
      "Wall time: 2.98 s\n"
     ]
    }
   ],
   "source": [
    "%%time\n",
    "\n",
    "best_f1_tree = 0\n",
    "\n",
    "for depth in range(1, 100):\n",
    "    model_tree_balanced = DecisionTreeClassifier(random_state=12345, max_depth=depth, class_weight='balanced')\n",
    "    model_tree_balanced.fit(features_train,target_train)\n",
    "    predicted_valid_tree_balanced = model_tree_balanced.predict(features_valid)\n",
    "    f1_tree_score = f1_score(target_valid, predicted_valid_tree_balanced)\n",
    "    if best_f1_tree < f1_tree_score:\n",
    "        best_f1_tree = f1_tree_score\n",
    "        best_tree_depth = depth\n",
    "model_tree_balanced = DecisionTreeClassifier(random_state=12345, max_depth= best_tree_depth, class_weight='balanced')\n",
    "model_tree_balanced.fit(features_train,target_train)\n",
    "predicted_valid_tree_balanced = model_tree_balanced.predict(features_valid)\n",
    "print('Наилучший показатель f1 меры для сбалансированного дерева решений:', best_f1_tree)\n",
    "print('Глубина наилучшей модели',best_tree_depth)"
   ]
  },
  {
   "cell_type": "markdown",
   "id": "4aa618ed",
   "metadata": {},
   "source": [
    "### Случайный лес"
   ]
  },
  {
   "cell_type": "code",
   "execution_count": 33,
   "id": "878a4f11",
   "metadata": {},
   "outputs": [
    {
     "name": "stdout",
     "output_type": "stream",
     "text": [
      "Наилучший показатель f1 меры для сбалансированной модели случайный лес: 0.6201780415430267\n",
      "Глубина наилучшей модели 11\n",
      "Количество деревьев в наилучшей модели 32\n",
      "CPU times: user 4min 20s, sys: 778 ms, total: 4min 20s\n",
      "Wall time: 4min 20s\n"
     ]
    }
   ],
   "source": [
    "%%time\n",
    "\n",
    "best_f1_forest = 0\n",
    "\n",
    "for depth in range(1,20):\n",
    "    for est in range(2,100,2):\n",
    "        model_forest_balanced = RandomForestClassifier(random_state=12345, max_depth=depth, n_estimators=est, class_weight='balanced') \n",
    "        model_forest_balanced.fit(features_train,target_train)\n",
    "        predicted_valid_forest_balanced = model_forest_balanced.predict(features_valid)\n",
    "        f1_forest_score = f1_score(target_valid, predicted_valid_forest_balanced)\n",
    "        if best_f1_forest < f1_forest_score:\n",
    "            best_f1_forest = f1_forest_score\n",
    "            best_forest_depth = depth\n",
    "            best_forest_est = est\n",
    "model_forest_balanced = RandomForestClassifier(random_state=12345, max_depth=best_forest_depth, n_estimators=best_forest_est, class_weight='balanced')  \n",
    "model_forest_balanced.fit(features_train,target_train)\n",
    "predicted_valid_forest_balanced = model_forest_balanced.predict(features_valid)\n",
    "print('Наилучший показатель f1 меры для сбалансированной модели случайный лес:', best_f1_forest)\n",
    "print('Глубина наилучшей модели',best_forest_depth)\n",
    "print('Количество деревьев в наилучшей модели',best_forest_est)"
   ]
  },
  {
   "cell_type": "markdown",
   "id": "edc5f001",
   "metadata": {},
   "source": [
    "### Логистическая регрессия"
   ]
  },
  {
   "cell_type": "code",
   "execution_count": 34,
   "id": "e126635e",
   "metadata": {
    "scrolled": false
   },
   "outputs": [
    {
     "name": "stdout",
     "output_type": "stream",
     "text": [
      "Показатель f1 меры для сбалансированной модели логистическая регрессия: 0.3175965665236052\n",
      "CPU times: user 15.1 ms, sys: 2.59 ms, total: 17.7 ms\n",
      "Wall time: 16.2 ms\n"
     ]
    }
   ],
   "source": [
    "%%time\n",
    "\n",
    "model_log_balanced = LogisticRegression(random_state=12345,solver='liblinear', class_weight='balanced')\n",
    "model_log_balanced.fit(features_train,target_train) \n",
    "predicted_valid_log_balanced = model_log_balanced.predict(features_valid)\n",
    "best_f1_log = f1_score(target_valid, predicted_valid_log)\n",
    "print('Показатель f1 меры для сбалансированной модели логистическая регрессия:', best_f1_log)"
   ]
  },
  {
   "cell_type": "markdown",
   "id": "3195dd92",
   "metadata": {},
   "source": [
    "## Увеличение выборки"
   ]
  },
  {
   "cell_type": "code",
   "execution_count": 35,
   "id": "3344f1ff",
   "metadata": {},
   "outputs": [],
   "source": [
    "def upsample(features,target,repeat):\n",
    "    '''\n",
    "    Функция позволяет увеличить выборку за счёт увеличения количества положительный значений.\n",
    "    Аргументы:\n",
    "    features - признаки\n",
    "    target - целевой признак\n",
    "    repeat - количество повторений\n",
    "    '''\n",
    "    features_zeros = features[target_train == 0]\n",
    "    features_ones = features[target_train == 1]\n",
    "    target_zeros = target[target_train == 0]\n",
    "    target_ones = target[target_train == 1]\n",
    "\n",
    "    features_upsampled = pd.concat([features_zeros] + [features_ones] * repeat)\n",
    "    target_upsampled = pd.concat([target_zeros] + [target_ones] * repeat)\n",
    "    features_upsampled, target_upsampled = shuffle(features_upsampled, target_upsampled, random_state = 12345)\n",
    "    return features_upsampled, target_upsampled"
   ]
  },
  {
   "cell_type": "code",
   "execution_count": 36,
   "id": "c0d93c09",
   "metadata": {},
   "outputs": [],
   "source": [
    "features_upsampled, target_upsampled = upsample(features_train, target_train, 4)"
   ]
  },
  {
   "cell_type": "code",
   "execution_count": 37,
   "id": "e2e8a3fb",
   "metadata": {},
   "outputs": [
    {
     "data": {
      "text/plain": [
       "1    4504\n",
       "0    4328\n",
       "Name: exited, dtype: int64"
      ]
     },
     "execution_count": 37,
     "metadata": {},
     "output_type": "execute_result"
    }
   ],
   "source": [
    "# Код ревьюера\n",
    "\n",
    "target_upsampled.value_counts()"
   ]
  },
  {
   "cell_type": "markdown",
   "id": "8816fefb",
   "metadata": {},
   "source": [
    "### Дерево решений"
   ]
  },
  {
   "cell_type": "code",
   "execution_count": 38,
   "id": "dd403b4d",
   "metadata": {
    "scrolled": true
   },
   "outputs": [
    {
     "name": "stdout",
     "output_type": "stream",
     "text": [
      "Наилучший показатель f1 меры для дерева решений с увеличенной выборкой: 0.5653631284916201\n",
      "Глубина наилучшей модели 5\n",
      "CPU times: user 3.74 s, sys: 10.1 ms, total: 3.75 s\n",
      "Wall time: 3.75 s\n"
     ]
    }
   ],
   "source": [
    "%%time\n",
    "\n",
    "best_f1_tree = 0\n",
    "\n",
    "for depth in range(1, 100):\n",
    "    model_tree_upsampled = DecisionTreeClassifier(random_state=12345, max_depth=depth)\n",
    "    model_tree_upsampled.fit(features_upsampled,target_upsampled)\n",
    "    predicted_valid_tree = model_tree_upsampled.predict(features_valid)\n",
    "    f1_tree_score = f1_score(target_valid, predicted_valid_tree)\n",
    "    if best_f1_tree < f1_tree_score:\n",
    "        best_f1_tree = f1_tree_score\n",
    "        best_tree_depth = depth\n",
    "model_tree_upsampled = DecisionTreeClassifier(random_state=12345, max_depth= best_tree_depth)\n",
    "model_tree_upsampled.fit(features_upsampled,target_upsampled)\n",
    "predicted_valid_tree_upsampled = model_tree_upsampled.predict(features_valid)\n",
    "print('Наилучший показатель f1 меры для дерева решений с увеличенной выборкой:', best_f1_tree)\n",
    "print('Глубина наилучшей модели',best_tree_depth)"
   ]
  },
  {
   "cell_type": "markdown",
   "id": "a0c9ca76",
   "metadata": {},
   "source": [
    "До этого наилучший показатель f1 меры для модели был 0.55, т.е. этот показатель увеличился."
   ]
  },
  {
   "cell_type": "markdown",
   "id": "9a8abb63",
   "metadata": {},
   "source": [
    "### Случайный лес"
   ]
  },
  {
   "cell_type": "code",
   "execution_count": 39,
   "id": "2d9b26fe",
   "metadata": {},
   "outputs": [
    {
     "name": "stdout",
     "output_type": "stream",
     "text": [
      "Наилучший показатель f1 меры для модели случайный лес: 0.6193353474320242\n",
      "Глубина наилучшей модели 18\n",
      "Количество деревьев в наилучшей модели 70\n",
      "CPU times: user 6min 5s, sys: 840 ms, total: 6min 6s\n",
      "Wall time: 6min 6s\n"
     ]
    }
   ],
   "source": [
    "%%time\n",
    "\n",
    "best_f1_forest = 0\n",
    "\n",
    "for depth in range(1,20):\n",
    "    for est in range(2,100,2):\n",
    "        model_forest_upsampled = RandomForestClassifier(random_state=12345, max_depth=depth, n_estimators=est) \n",
    "        model_forest_upsampled.fit(features_upsampled,target_upsampled)\n",
    "        predicted_valid_forest = model_forest_upsampled.predict(features_valid)\n",
    "        f1_forest_score = f1_score(target_valid, predicted_valid_forest)\n",
    "        if best_f1_forest < f1_forest_score:\n",
    "            best_f1_forest = f1_forest_score\n",
    "            best_forest_depth = depth\n",
    "            best_forest_est = est\n",
    "model_forest_upsampled = RandomForestClassifier(random_state=12345, max_depth=best_forest_depth, n_estimators=best_forest_est) \n",
    "model_forest_upsampled.fit(features_upsampled,target_upsampled)\n",
    "predicted_valid_forest_upsampled = model_forest_upsampled.predict(features_valid)\n",
    "print('Наилучший показатель f1 меры для модели случайный лес:', best_f1_forest)\n",
    "print('Глубина наилучшей модели',best_forest_depth)\n",
    "print('Количество деревьев в наилучшей модели',best_forest_est)"
   ]
  },
  {
   "cell_type": "markdown",
   "id": "b2970e4f",
   "metadata": {},
   "source": [
    "До этого наилучший показатель f1 меры для модели был 0.59, т.е. этот показатель увеличился."
   ]
  },
  {
   "cell_type": "markdown",
   "id": "a674d93a",
   "metadata": {},
   "source": [
    "### Логистическая регрессия"
   ]
  },
  {
   "cell_type": "code",
   "execution_count": 40,
   "id": "d67a5209",
   "metadata": {
    "scrolled": true
   },
   "outputs": [
    {
     "name": "stdout",
     "output_type": "stream",
     "text": [
      "Показатель f1 меры для модели логистическая регрессия с увеличенной выборкой: 0.3175965665236052\n",
      "CPU times: user 17.8 ms, sys: 1.31 ms, total: 19.1 ms\n",
      "Wall time: 17.9 ms\n"
     ]
    }
   ],
   "source": [
    "%%time\n",
    "\n",
    "model_log_upsampled = LogisticRegression(random_state=12345,solver='liblinear')\n",
    "model_log_upsampled.fit(features_upsampled,target_upsampled) \n",
    "predicted_valid_log_upsampled = model_log_upsampled.predict(features_valid)\n",
    "best_f1_log = f1_score(target_valid, predicted_valid_log)\n",
    "print('Показатель f1 меры для модели логистическая регрессия с увеличенной выборкой:', best_f1_log)"
   ]
  },
  {
   "cell_type": "markdown",
   "id": "f67fbfff",
   "metadata": {},
   "source": [
    "До этого наилучший показатель f1 меры для модели был 0.5025, т.е. этот показатель увеличился."
   ]
  },
  {
   "cell_type": "markdown",
   "id": "2839f52d",
   "metadata": {},
   "source": [
    "## Уменьшение выборки"
   ]
  },
  {
   "cell_type": "code",
   "execution_count": 41,
   "id": "3fb5017b",
   "metadata": {},
   "outputs": [],
   "source": [
    "def downsample(features, target, fraction):\n",
    "    '''\n",
    "    Функция уменьшает выборку за счёт уменьшения отрицательных значений.\n",
    "    Аргументы:\n",
    "    features - признаки\n",
    "    target - целевой признак\n",
    "    fraction - доля отрицательных объектов, которые нужно сохранить\n",
    "    '''\n",
    "    features_zeros = features[target == 0]\n",
    "    features_ones = features[target == 1]\n",
    "    target_zeros = target[target == 0]\n",
    "    target_ones = target[target == 1]\n",
    "\n",
    "    features_downsampled = pd.concat(\n",
    "        [features_zeros.sample(frac=fraction, random_state=12345)] + [features_ones])\n",
    "    target_downsampled = pd.concat(\n",
    "        [target_zeros.sample(frac=fraction, random_state=12345)] + [target_ones])\n",
    "    features_downsampled, target_downsampled = shuffle(\n",
    "        features_downsampled, target_downsampled, random_state=12345)\n",
    "\n",
    "    return features_downsampled, target_downsampled"
   ]
  },
  {
   "cell_type": "code",
   "execution_count": 42,
   "id": "e336d072",
   "metadata": {},
   "outputs": [],
   "source": [
    "features_downsampled, target_downsampled = downsample(features_train, target_train, .25)"
   ]
  },
  {
   "cell_type": "markdown",
   "id": "ce023c6e",
   "metadata": {},
   "source": [
    "### Дерево решений"
   ]
  },
  {
   "cell_type": "code",
   "execution_count": 43,
   "id": "ad0c0fe2",
   "metadata": {},
   "outputs": [
    {
     "name": "stdout",
     "output_type": "stream",
     "text": [
      "Наилучший показатель f1 меры для дерева решений с увеличенной выборкой: 0.5485148514851486\n",
      "Глубина наилучшей модели 6\n",
      "CPU times: user 1.26 s, sys: 4.73 ms, total: 1.26 s\n",
      "Wall time: 1.26 s\n"
     ]
    }
   ],
   "source": [
    "%%time\n",
    "\n",
    "best_f1_tree = 0\n",
    "\n",
    "for depth in range(1, 100):\n",
    "    model_tree = DecisionTreeClassifier(random_state=12345, max_depth=depth)\n",
    "    model_tree.fit(features_downsampled,target_downsampled)\n",
    "    predicted_valid_tree = model_tree.predict(features_valid)\n",
    "    f1_tree_score = f1_score(target_valid, predicted_valid_tree)\n",
    "    if best_f1_tree < f1_tree_score:\n",
    "        best_f1_tree = f1_tree_score\n",
    "        best_tree_depth = depth\n",
    "model_tree = DecisionTreeClassifier(random_state=12345, max_depth= best_tree_depth)\n",
    "model_tree.fit(features_downsampled,target_downsampled)\n",
    "predicted_valid_tree = model_tree.predict(features_valid)\n",
    "print('Наилучший показатель f1 меры для дерева решений с увеличенной выборкой:', best_f1_tree)\n",
    "print('Глубина наилучшей модели',best_tree_depth)"
   ]
  },
  {
   "cell_type": "markdown",
   "id": "8c10fb83",
   "metadata": {},
   "source": [
    "До этого наилучший показатель f1 меры для модели был 0.58, т.е. прироста показателя нет."
   ]
  },
  {
   "cell_type": "markdown",
   "id": "dc8ec352",
   "metadata": {},
   "source": [
    "### Случайный лес"
   ]
  },
  {
   "cell_type": "code",
   "execution_count": 44,
   "id": "9a9a1ed6",
   "metadata": {},
   "outputs": [
    {
     "name": "stdout",
     "output_type": "stream",
     "text": [
      "Наилучший показатель f1 меры для модели случайный лес: 0.5834254143646409\n",
      "Глубина наилучшей модели 5\n",
      "Количество деревьев в наилучшей модели 10\n",
      "CPU times: user 2min 20s, sys: 494 ms, total: 2min 21s\n",
      "Wall time: 2min 21s\n"
     ]
    }
   ],
   "source": [
    "%%time\n",
    "\n",
    "best_f1_forest = 0\n",
    "\n",
    "for depth in range(1,20):\n",
    "    for est in range(2,100,2):\n",
    "        model_forest = RandomForestClassifier(random_state=12345, max_depth=depth, n_estimators=est) \n",
    "        model_forest.fit(features_downsampled,target_downsampled)\n",
    "        predicted_valid_forest = model_forest.predict(features_valid)\n",
    "        f1_forest_score = f1_score(target_valid, predicted_valid_forest)\n",
    "        if best_f1_forest < f1_forest_score:\n",
    "            best_f1_forest = f1_forest_score\n",
    "            best_forest_depth = depth\n",
    "            best_forest_est = est\n",
    "model_forest = RandomForestClassifier(\n",
    "    random_state=12345, max_depth=best_forest_depth, n_estimators=best_forest_est) \n",
    "model_forest.fit(features_downsampled,target_downsampled)\n",
    "predicted_valid_forest = model_forest.predict(features_valid)\n",
    "print('Наилучший показатель f1 меры для модели случайный лес:', best_f1_forest)\n",
    "print('Глубина наилучшей модели',best_forest_depth)\n",
    "print('Количество деревьев в наилучшей модели',best_forest_est)"
   ]
  },
  {
   "cell_type": "markdown",
   "id": "29f4f6b3",
   "metadata": {},
   "source": [
    "До этого наилучший показатель f1 меры для модели был 0.63755, т.е. прироста показателя нет."
   ]
  },
  {
   "cell_type": "markdown",
   "id": "9f3e995a",
   "metadata": {},
   "source": [
    "### Логистическая регрессия"
   ]
  },
  {
   "cell_type": "code",
   "execution_count": 45,
   "id": "c4cde65d",
   "metadata": {},
   "outputs": [
    {
     "name": "stdout",
     "output_type": "stream",
     "text": [
      "Показатель f1 меры для модели логистическая регрессия с увеличенной выборкой: 0.4911591355599214\n",
      "CPU times: user 8.39 ms, sys: 1.63 ms, total: 10 ms\n",
      "Wall time: 8.65 ms\n"
     ]
    }
   ],
   "source": [
    "%%time\n",
    "\n",
    "model_log = LogisticRegression(random_state=12345,solver='liblinear')\n",
    "model_log.fit(features_downsampled,target_downsampled) \n",
    "predicted_valid_log = model_log.predict(features_valid)\n",
    "best_f1_log = f1_score(target_valid, predicted_valid_log)\n",
    "print('Показатель f1 меры для модели логистическая регрессия с увеличенной выборкой:', best_f1_log)"
   ]
  },
  {
   "cell_type": "markdown",
   "id": "c2f1a0c6",
   "metadata": {},
   "source": [
    "До этого наилучший показатель f1 меры для модели был 0.503, т.е. прироста показателя нет."
   ]
  },
  {
   "cell_type": "markdown",
   "id": "f138f01e",
   "metadata": {},
   "source": [
    "## Метрики качества моделей"
   ]
  },
  {
   "cell_type": "markdown",
   "id": "9d478aa6",
   "metadata": {},
   "source": [
    "По аналогии с пунктом 2.4 данного исследования, рассмотрим метрика качества полученных моделей."
   ]
  },
  {
   "cell_type": "markdown",
   "id": "6c623c8e",
   "metadata": {},
   "source": [
    "### Дерево решений"
   ]
  },
  {
   "cell_type": "code",
   "execution_count": 46,
   "id": "cc04d7e7",
   "metadata": {},
   "outputs": [
    {
     "data": {
      "image/png": "[encoded data removed]",
      "text/plain": [
       "<Figure size 432x288 with 1 Axes>"
      ]
     },
     "metadata": {
      "needs_background": "light"
     },
     "output_type": "display_data"
    },
    {
     "name": "stdout",
     "output_type": "stream",
     "text": [
      "Рассматриваемая модель:  DecisionTreeClassifier(max_depth=5, random_state=12345)\n",
      "Значение метрики AUC-ROC для модели:  0.8374962155616106\n",
      "MAE на валидационной выборке:  0.21385376580538756\n",
      "f1 на валидационной выборке: 0.5653631284916201\n"
     ]
    }
   ],
   "source": [
    "quality(model_tree_upsampled, predicted_valid_tree_upsampled)"
   ]
  },
  {
   "cell_type": "markdown",
   "id": "8dfbafa2",
   "metadata": {},
   "source": [
    "### Случайный лес"
   ]
  },
  {
   "cell_type": "code",
   "execution_count": 47,
   "id": "c0033b0a",
   "metadata": {},
   "outputs": [
    {
     "data": {
      "image/png": "[encoded data removed]",
      "text/plain": [
       "<Figure size 432x288 with 1 Axes>"
      ]
     },
     "metadata": {
      "needs_background": "light"
     },
     "output_type": "display_data"
    },
    {
     "name": "stdout",
     "output_type": "stream",
     "text": [
      "Рассматриваемая модель:  RandomForestClassifier(max_depth=18, n_estimators=70, random_state=12345)\n",
      "Значение метрики AUC-ROC для модели:  0.8477306954827392\n",
      "MAE на валидационной выборке:  0.13853765805387575\n",
      "f1 на валидационной выборке: 0.6193353474320242\n"
     ]
    }
   ],
   "source": [
    "quality(model_forest_upsampled, predicted_valid_forest_upsampled)"
   ]
  },
  {
   "cell_type": "markdown",
   "id": "a36ff1b1",
   "metadata": {},
   "source": [
    "### Логистическая регрессия"
   ]
  },
  {
   "cell_type": "code",
   "execution_count": 48,
   "id": "b6a800da",
   "metadata": {},
   "outputs": [
    {
     "data": {
      "image/png": "[encoded data removed]",
      "text/plain": [
       "<Figure size 432x288 with 1 Axes>"
      ]
     },
     "metadata": {
      "needs_background": "light"
     },
     "output_type": "display_data"
    },
    {
     "name": "stdout",
     "output_type": "stream",
     "text": [
      "Рассматриваемая модель:  LogisticRegression(random_state=12345, solver='liblinear')\n",
      "Значение метрики AUC-ROC для модели:  0.7817349418166857\n",
      "MAE на валидационной выборке:  0.279824079164376\n",
      "f1 на валидационной выборке: 0.49653808110781406\n"
     ]
    }
   ],
   "source": [
    "quality(model_log_upsampled, predicted_valid_log_upsampled)"
   ]
  },
  {
   "cell_type": "markdown",
   "id": "e627d25d",
   "metadata": {},
   "source": [
    "## Вывод\n",
    "\n",
    "\n",
    "В данном разделе в целях повышения качества исследуемых моделей были проведены процедуры уменьшения и увеличения выборок. \n",
    "\n",
    "По итогам проделанной работы можно сделать вывод, что больший прирост показателей эффективности даёт увеличение выборки.\n",
    "\n",
    "Исходя из всего вышесказанного, можно сделать вывод, что наилучшие показатели даёт модель Случайного леса с гиперпараметрами: max_depth=13, n_estimators=72, random_state=12345, обученная на увеличнной выборке."
   ]
  },
  {
   "cell_type": "markdown",
   "id": "5c099434",
   "metadata": {},
   "source": [
    "# Шаг. Финальное тестирование"
   ]
  },
  {
   "cell_type": "code",
   "execution_count": 49,
   "id": "376bf118",
   "metadata": {},
   "outputs": [
    {
     "name": "stdout",
     "output_type": "stream",
     "text": [
      "Наилучший показатель f1 меры: 0.622994652406417\n"
     ]
    }
   ],
   "source": [
    "best_model = RandomForestClassifier(max_depth=13, n_estimators=72, random_state=12345)\n",
    "best_model.fit(features_upsampled,target_upsampled)\n",
    "best_predict = best_model.predict(features_test)\n",
    "\n",
    "best_f1 = f1_score(target_test, best_predict)\n",
    "print('Наилучший показатель f1 меры:', best_f1)"
   ]
  },
  {
   "cell_type": "code",
   "execution_count": 63,
   "id": "d478011d",
   "metadata": {},
   "outputs": [
    {
     "data": {
      "image/png": "[encoded data removed]",
      "text/plain": [
       "<Figure size 432x288 with 1 Axes>"
      ]
     },
     "metadata": {
      "needs_background": "light"
     },
     "output_type": "display_data"
    },
    {
     "name": "stdout",
     "output_type": "stream",
     "text": [
      "Рассматриваемая модель:  RandomForestClassifier(max_depth=13, n_estimators=72, random_state=12345)\n",
      "Значение метрики AUC-ROC для модели:  0.8617118601324972\n",
      "MAE на валидационной выборке:  0.1551155115511551\n",
      "f1 на валидационной выборке: 0.622994652406417\n"
     ]
    }
   ],
   "source": [
    "probabilities = best_model.predict_proba(features_test)\n",
    "probabilities_one = probabilities[:, 1]\n",
    "\n",
    "fpr, tpr, thresholds = roc_curve(target_test, probabilities_one)\n",
    "\n",
    "\n",
    "plt.figure()\n",
    "plt.plot([0, 1], [0, 1], linestyle='--')\n",
    "plt.plot(fpr, tpr)\n",
    "plt.xlim([0.0, 1.0])\n",
    "plt.ylim([0.0, 1.0])\n",
    "plt.xlabel('False Positive Rate')\n",
    "plt.ylabel('True Positive Rate')\n",
    "plt.title('ROC-кривая')\n",
    "plt.legend(('Случайная модель','Случайный лес'), loc='lower right', fontsize='x-large')\n",
    "plt.show()\n",
    "    \n",
    "auc_roc = roc_auc_score(target_test,probabilities_one)\n",
    "mse = mean_squared_error(target_test, best_predict) \n",
    "print('Рассматриваемая модель: ', best_model)\n",
    "print('Значение метрики AUC-ROC для модели: ', auc_roc)\n",
    "print('MAE на валидационной выборке: ', mean_absolute_error(target_test, best_predict))\n",
    "print('f1 на валидационной выборке:', f1_score(target_test, best_predict) )"
   ]
  },
  {
   "cell_type": "markdown",
   "id": "ab773924",
   "metadata": {},
   "source": [
    "# Вывод\n",
    "\n",
    "Цель данного исследования прогноз оттока клиентов из «Бета-Банка». Для выполнения поставленной задачи, на основе имеющихся данных, необходимо построить модель с предельно большим значением F1 меры. \n",
    "\n",
    "Было отмечено, что необходимо довести значение этой метрики выше 0.59. По итогам работы модель показывает значение 0.62, что может говорить об успешности построенной модели.\n",
    "\n",
    "Для достижения поставленной цели имеющийся датасет был изучен, предобработан, а данные были разделены на три выборки: обучающую тестовую и валидационную.\n",
    "\n",
    "Затем были построены три модели: Дерево решений, случайный лес и логистическая регрессия.\n",
    "\n",
    "Каждая из моделей подверглась анализу через различные метрики качества, после чего, модели были доработаны через изменение баланса в выборках.\n",
    "\n",
    "По итогу, модель с наилучшими характеристиками - это:\n",
    "RandomForestClassifier(max_depth=13, n_estimators=72, random_state=12345), которая показала достаточно хороший результат не только по метрике F1, но и по другим показателям качества."
   ]
  }
 ],
 "metadata": {
  "ExecuteTimeLog": [
   {
    "duration": 1881,
    "start_time": "2022-04-04T15:26:18.184Z"
   },
   {
    "duration": 26,
    "start_time": "2022-04-04T15:26:20.068Z"
   },
   {
    "duration": 30,
    "start_time": "2022-04-04T15:26:20.096Z"
   },
   {
    "duration": 7,
    "start_time": "2022-04-04T15:26:20.129Z"
   },
   {
    "duration": 78,
    "start_time": "2022-04-04T15:26:20.139Z"
   },
   {
    "duration": 5,
    "start_time": "2022-04-04T15:26:20.220Z"
   },
   {
    "duration": 23,
    "start_time": "2022-04-04T15:26:20.227Z"
   },
   {
    "duration": 49,
    "start_time": "2022-04-04T15:26:20.252Z"
   },
   {
    "duration": 15,
    "start_time": "2022-04-04T15:26:20.304Z"
   },
   {
    "duration": 40,
    "start_time": "2022-04-04T15:26:20.322Z"
   },
   {
    "duration": 56,
    "start_time": "2022-04-04T15:26:20.363Z"
   },
   {
    "duration": 34,
    "start_time": "2022-04-04T15:26:20.421Z"
   },
   {
    "duration": 25,
    "start_time": "2022-04-04T15:26:20.457Z"
   },
   {
    "duration": 17,
    "start_time": "2022-04-04T15:26:20.484Z"
   },
   {
    "duration": 57,
    "start_time": "2022-04-04T15:26:20.503Z"
   },
   {
    "duration": 17,
    "start_time": "2022-04-04T15:26:20.562Z"
   },
   {
    "duration": 2629,
    "start_time": "2022-04-04T15:26:20.581Z"
   },
   {
    "duration": 250029,
    "start_time": "2022-04-04T15:26:23.212Z"
   },
   {
    "duration": 23,
    "start_time": "2022-04-04T15:30:33.243Z"
   },
   {
    "duration": 97,
    "start_time": "2022-04-04T15:30:33.308Z"
   },
   {
    "duration": 224,
    "start_time": "2022-04-04T15:30:33.406Z"
   },
   {
    "duration": 145,
    "start_time": "2022-04-04T15:30:33.632Z"
   },
   {
    "duration": 336,
    "start_time": "2022-04-04T15:30:33.778Z"
   },
   {
    "duration": 120,
    "start_time": "2022-04-04T15:30:34.116Z"
   },
   {
    "duration": 4,
    "start_time": "2022-04-04T15:30:34.238Z"
   },
   {
    "duration": 112,
    "start_time": "2022-04-04T15:30:34.243Z"
   },
   {
    "duration": 120,
    "start_time": "2022-04-04T15:30:34.357Z"
   },
   {
    "duration": 294,
    "start_time": "2022-04-04T15:30:34.481Z"
   },
   {
    "duration": 25,
    "start_time": "2022-04-04T15:30:34.778Z"
   },
   {
    "duration": 38,
    "start_time": "2022-04-04T15:30:34.804Z"
   },
   {
    "duration": 274,
    "start_time": "2022-04-04T15:30:34.844Z"
   },
   {
    "duration": 81,
    "start_time": "2022-04-04T15:30:35.120Z"
   },
   {
    "duration": 97,
    "start_time": "2022-04-04T15:30:35.204Z"
   },
   {
    "duration": 13,
    "start_time": "2022-04-04T15:30:35.303Z"
   },
   {
    "duration": 3161,
    "start_time": "2022-04-04T15:30:35.318Z"
   },
   {
    "duration": 304431,
    "start_time": "2022-04-04T15:30:38.481Z"
   },
   {
    "duration": 27,
    "start_time": "2022-04-04T15:35:42.915Z"
   },
   {
    "duration": 98,
    "start_time": "2022-04-04T15:35:43.003Z"
   },
   {
    "duration": 18,
    "start_time": "2022-04-04T15:35:43.104Z"
   },
   {
    "duration": 1283,
    "start_time": "2022-04-04T15:35:43.125Z"
   },
   {
    "duration": 141326,
    "start_time": "2022-04-04T15:35:44.410Z"
   },
   {
    "duration": 66,
    "start_time": "2022-04-04T15:38:05.738Z"
   },
   {
    "duration": 234,
    "start_time": "2022-04-04T15:38:05.807Z"
   },
   {
    "duration": 207,
    "start_time": "2022-04-04T15:38:06.043Z"
   },
   {
    "duration": 256,
    "start_time": "2022-04-04T15:38:06.253Z"
   },
   {
    "duration": 634,
    "start_time": "2022-04-04T15:38:06.511Z"
   },
   {
    "duration": 281,
    "start_time": "2022-04-04T15:38:07.148Z"
   },
   {
    "duration": 1516,
    "start_time": "2022-04-04T16:26:41.088Z"
   },
   {
    "duration": 28,
    "start_time": "2022-04-04T16:26:46.800Z"
   },
   {
    "duration": 29,
    "start_time": "2022-04-04T16:26:49.250Z"
   },
   {
    "duration": 8,
    "start_time": "2022-04-04T16:26:59.701Z"
   },
   {
    "duration": 147,
    "start_time": "2022-04-04T16:27:16.706Z"
   },
   {
    "duration": 148,
    "start_time": "2022-04-04T16:27:28.988Z"
   },
   {
    "duration": 144,
    "start_time": "2022-04-04T16:27:35.584Z"
   },
   {
    "duration": 135,
    "start_time": "2022-04-04T16:27:59.171Z"
   },
   {
    "duration": 141,
    "start_time": "2022-04-04T16:28:13.386Z"
   },
   {
    "duration": 206,
    "start_time": "2022-04-04T16:28:23.852Z"
   },
   {
    "duration": 52,
    "start_time": "2022-04-04T16:28:39.190Z"
   },
   {
    "duration": 5,
    "start_time": "2022-04-04T16:29:10.393Z"
   },
   {
    "duration": 4,
    "start_time": "2022-04-04T16:29:22.889Z"
   },
   {
    "duration": 16,
    "start_time": "2022-04-04T16:29:24.267Z"
   },
   {
    "duration": 5,
    "start_time": "2022-04-04T16:29:25.287Z"
   },
   {
    "duration": 5,
    "start_time": "2022-04-04T16:29:31.955Z"
   },
   {
    "duration": 12,
    "start_time": "2022-04-04T16:30:32.421Z"
   },
   {
    "duration": 13,
    "start_time": "2022-04-04T16:30:40.540Z"
   },
   {
    "duration": 13,
    "start_time": "2022-04-04T16:32:32.721Z"
   },
   {
    "duration": 5,
    "start_time": "2022-04-04T16:34:31.631Z"
   },
   {
    "duration": 8,
    "start_time": "2022-04-04T16:39:55.140Z"
   },
   {
    "duration": 5,
    "start_time": "2022-04-04T16:40:22.224Z"
   },
   {
    "duration": 10,
    "start_time": "2022-04-04T16:41:35.552Z"
   },
   {
    "duration": 29,
    "start_time": "2022-04-04T16:53:41.024Z"
   },
   {
    "duration": 18,
    "start_time": "2022-04-04T16:53:42.402Z"
   },
   {
    "duration": 2888,
    "start_time": "2022-04-04T16:56:45.144Z"
   },
   {
    "duration": 256688,
    "start_time": "2022-04-04T16:58:57.251Z"
   },
   {
    "duration": 26,
    "start_time": "2022-04-04T17:03:44.816Z"
   },
   {
    "duration": 6,
    "start_time": "2022-04-04T17:09:28.512Z"
   },
   {
    "duration": 7,
    "start_time": "2022-04-04T17:11:01.832Z"
   },
   {
    "duration": 132,
    "start_time": "2022-04-04T17:11:05.219Z"
   },
   {
    "duration": 141,
    "start_time": "2022-04-04T17:19:32.532Z"
   },
   {
    "duration": 294,
    "start_time": "2022-04-04T17:19:35.371Z"
   },
   {
    "duration": 111,
    "start_time": "2022-04-04T17:20:10.481Z"
   },
   {
    "duration": 5,
    "start_time": "2022-04-04T17:20:35.751Z"
   },
   {
    "duration": 93,
    "start_time": "2022-04-04T17:20:37.869Z"
   },
   {
    "duration": 107,
    "start_time": "2022-04-04T17:20:46.556Z"
   },
   {
    "duration": 279,
    "start_time": "2022-04-04T17:20:48.801Z"
   },
   {
    "duration": 6,
    "start_time": "2022-04-04T17:48:36.773Z"
   },
   {
    "duration": 29,
    "start_time": "2022-04-04T17:50:35.055Z"
   },
   {
    "duration": 266,
    "start_time": "2022-04-04T17:50:57.574Z"
   },
   {
    "duration": 25,
    "start_time": "2022-04-04T17:51:05.493Z"
   },
   {
    "duration": 5,
    "start_time": "2022-04-04T17:57:28.317Z"
   },
   {
    "duration": 11,
    "start_time": "2022-04-04T17:58:48.496Z"
   },
   {
    "duration": 5,
    "start_time": "2022-04-04T17:58:57.792Z"
   },
   {
    "duration": 4,
    "start_time": "2022-04-04T17:59:10.602Z"
   },
   {
    "duration": 3,
    "start_time": "2022-04-04T17:59:23.968Z"
   },
   {
    "duration": 6,
    "start_time": "2022-04-04T18:00:56.005Z"
   },
   {
    "duration": 6,
    "start_time": "2022-04-04T18:01:00.820Z"
   },
   {
    "duration": 12,
    "start_time": "2022-04-04T18:01:19.990Z"
   },
   {
    "duration": 7,
    "start_time": "2022-04-04T18:01:20.483Z"
   },
   {
    "duration": 12,
    "start_time": "2022-04-04T18:01:28.799Z"
   },
   {
    "duration": 6,
    "start_time": "2022-04-04T18:01:29.471Z"
   },
   {
    "duration": 6,
    "start_time": "2022-04-04T18:01:46.680Z"
   },
   {
    "duration": 1724,
    "start_time": "2022-04-04T18:10:09.907Z"
   },
   {
    "duration": 28,
    "start_time": "2022-04-04T18:10:14.352Z"
   },
   {
    "duration": 29,
    "start_time": "2022-04-04T18:10:16.026Z"
   },
   {
    "duration": 8,
    "start_time": "2022-04-04T18:10:16.700Z"
   },
   {
    "duration": 144,
    "start_time": "2022-04-04T18:10:22.312Z"
   },
   {
    "duration": 54,
    "start_time": "2022-04-04T18:10:25.214Z"
   },
   {
    "duration": 5,
    "start_time": "2022-04-04T18:10:29.274Z"
   },
   {
    "duration": 5,
    "start_time": "2022-04-04T18:10:33.957Z"
   },
   {
    "duration": 14,
    "start_time": "2022-04-04T18:10:35.893Z"
   },
   {
    "duration": 5,
    "start_time": "2022-04-04T18:10:36.267Z"
   },
   {
    "duration": 5,
    "start_time": "2022-04-04T18:10:47.351Z"
   },
   {
    "duration": 11,
    "start_time": "2022-04-04T18:14:44.419Z"
   },
   {
    "duration": 13,
    "start_time": "2022-04-04T18:14:45.417Z"
   },
   {
    "duration": 6,
    "start_time": "2022-04-04T18:14:48.044Z"
   },
   {
    "duration": 9,
    "start_time": "2022-04-04T18:14:48.522Z"
   },
   {
    "duration": 3,
    "start_time": "2022-04-04T18:14:48.939Z"
   },
   {
    "duration": 11,
    "start_time": "2022-04-04T18:14:55.055Z"
   },
   {
    "duration": 28,
    "start_time": "2022-04-04T18:14:57.268Z"
   },
   {
    "duration": 19,
    "start_time": "2022-04-04T18:14:58.007Z"
   },
   {
    "duration": 2753,
    "start_time": "2022-04-04T18:15:08.987Z"
   },
   {
    "duration": 250153,
    "start_time": "2022-04-04T18:15:15.317Z"
   },
   {
    "duration": 34,
    "start_time": "2022-04-04T18:19:25.472Z"
   },
   {
    "duration": 6,
    "start_time": "2022-04-04T18:19:40.301Z"
   },
   {
    "duration": 125,
    "start_time": "2022-04-04T18:19:45.598Z"
   },
   {
    "duration": 136,
    "start_time": "2022-04-04T18:19:48.786Z"
   },
   {
    "duration": 295,
    "start_time": "2022-04-04T18:19:51.470Z"
   },
   {
    "duration": 113,
    "start_time": "2022-04-04T18:19:53.748Z"
   },
   {
    "duration": 4,
    "start_time": "2022-04-04T18:19:59.294Z"
   },
   {
    "duration": 97,
    "start_time": "2022-04-04T18:20:01.294Z"
   },
   {
    "duration": 108,
    "start_time": "2022-04-04T18:20:03.780Z"
   },
   {
    "duration": 240,
    "start_time": "2022-04-04T18:20:05.139Z"
   },
   {
    "duration": 28,
    "start_time": "2022-04-04T18:21:02.211Z"
   },
   {
    "duration": 275,
    "start_time": "2022-04-04T18:21:04.300Z"
   },
   {
    "duration": 102,
    "start_time": "2022-04-04T18:21:06.799Z"
   },
   {
    "duration": 5,
    "start_time": "2022-04-04T18:21:14.337Z"
   },
   {
    "duration": 11,
    "start_time": "2022-04-04T18:21:18.291Z"
   },
   {
    "duration": 7,
    "start_time": "2022-04-04T18:22:33.830Z"
   },
   {
    "duration": 3399,
    "start_time": "2022-04-04T18:22:49.347Z"
   },
   {
    "duration": 306720,
    "start_time": "2022-04-04T18:22:58.998Z"
   },
   {
    "duration": 24,
    "start_time": "2022-04-04T18:28:12.680Z"
   },
   {
    "duration": 5,
    "start_time": "2022-04-04T18:34:22.163Z"
   },
   {
    "duration": 12,
    "start_time": "2022-04-04T18:34:24.204Z"
   },
   {
    "duration": 1475,
    "start_time": "2022-04-04T18:35:27.246Z"
   },
   {
    "duration": 140072,
    "start_time": "2022-04-04T18:35:34.183Z"
   },
   {
    "duration": 58,
    "start_time": "2022-04-04T18:38:09.446Z"
   },
   {
    "duration": 121,
    "start_time": "2022-04-04T18:39:14.885Z"
   },
   {
    "duration": 164,
    "start_time": "2022-04-04T18:39:17.133Z"
   },
   {
    "duration": 322,
    "start_time": "2022-04-04T18:39:19.092Z"
   },
   {
    "duration": 590,
    "start_time": "2022-04-04T18:40:29.611Z"
   },
   {
    "duration": 361,
    "start_time": "2022-04-04T18:40:39.606Z"
   },
   {
    "duration": 1610,
    "start_time": "2022-04-05T05:10:23.405Z"
   },
   {
    "duration": 27,
    "start_time": "2022-04-05T05:10:25.017Z"
   },
   {
    "duration": 27,
    "start_time": "2022-04-05T05:10:25.046Z"
   },
   {
    "duration": 6,
    "start_time": "2022-04-05T05:10:25.075Z"
   },
   {
    "duration": 136,
    "start_time": "2022-04-05T05:10:25.082Z"
   },
   {
    "duration": 49,
    "start_time": "2022-04-05T05:10:25.219Z"
   },
   {
    "duration": 4,
    "start_time": "2022-04-05T05:10:25.270Z"
   },
   {
    "duration": 7,
    "start_time": "2022-04-05T05:10:25.275Z"
   },
   {
    "duration": 15,
    "start_time": "2022-04-05T05:10:25.283Z"
   },
   {
    "duration": 3,
    "start_time": "2022-04-05T05:10:25.300Z"
   },
   {
    "duration": 5,
    "start_time": "2022-04-05T05:10:25.305Z"
   },
   {
    "duration": 15,
    "start_time": "2022-04-05T05:10:25.311Z"
   },
   {
    "duration": 11,
    "start_time": "2022-04-05T05:10:25.327Z"
   },
   {
    "duration": 6,
    "start_time": "2022-04-05T05:10:25.363Z"
   },
   {
    "duration": 8,
    "start_time": "2022-04-05T05:10:25.370Z"
   },
   {
    "duration": 10,
    "start_time": "2022-04-05T05:10:25.379Z"
   },
   {
    "duration": 25,
    "start_time": "2022-04-05T05:10:25.390Z"
   },
   {
    "duration": 48,
    "start_time": "2022-04-05T05:10:25.417Z"
   },
   {
    "duration": 2292,
    "start_time": "2022-04-05T05:10:25.467Z"
   },
   {
    "duration": 208934,
    "start_time": "2022-04-05T05:10:27.760Z"
   },
   {
    "duration": 20,
    "start_time": "2022-04-05T05:13:56.696Z"
   },
   {
    "duration": 98,
    "start_time": "2022-04-05T05:13:56.764Z"
   },
   {
    "duration": 115,
    "start_time": "2022-04-05T05:13:56.864Z"
   },
   {
    "duration": 129,
    "start_time": "2022-04-05T05:13:56.981Z"
   },
   {
    "duration": 238,
    "start_time": "2022-04-05T05:13:57.112Z"
   },
   {
    "duration": 101,
    "start_time": "2022-04-05T05:13:57.362Z"
   },
   {
    "duration": 4,
    "start_time": "2022-04-05T05:13:57.464Z"
   },
   {
    "duration": 80,
    "start_time": "2022-04-05T05:13:57.471Z"
   },
   {
    "duration": 90,
    "start_time": "2022-04-05T05:13:57.562Z"
   },
   {
    "duration": 265,
    "start_time": "2022-04-05T05:13:57.663Z"
   },
   {
    "duration": 5,
    "start_time": "2022-04-05T05:13:57.929Z"
   },
   {
    "duration": 41,
    "start_time": "2022-04-05T05:13:57.935Z"
   },
   {
    "duration": 230,
    "start_time": "2022-04-05T05:13:57.977Z"
   },
   {
    "duration": 63,
    "start_time": "2022-04-05T05:13:58.208Z"
   },
   {
    "duration": 4,
    "start_time": "2022-04-05T05:13:58.364Z"
   },
   {
    "duration": 11,
    "start_time": "2022-04-05T05:13:58.370Z"
   },
   {
    "duration": 6,
    "start_time": "2022-04-05T05:13:58.382Z"
   },
   {
    "duration": 2903,
    "start_time": "2022-04-05T05:13:58.390Z"
   },
   {
    "duration": 253889,
    "start_time": "2022-04-05T05:14:01.295Z"
   },
   {
    "duration": 79,
    "start_time": "2022-04-05T05:18:15.186Z"
   },
   {
    "duration": 6,
    "start_time": "2022-04-05T05:18:15.267Z"
   },
   {
    "duration": 17,
    "start_time": "2022-04-05T05:18:15.363Z"
   },
   {
    "duration": 1078,
    "start_time": "2022-04-05T05:18:15.382Z"
   },
   {
    "duration": 119452,
    "start_time": "2022-04-05T05:18:16.461Z"
   },
   {
    "duration": 51,
    "start_time": "2022-04-05T05:20:15.915Z"
   },
   {
    "duration": 206,
    "start_time": "2022-04-05T05:20:15.967Z"
   },
   {
    "duration": 135,
    "start_time": "2022-04-05T05:20:16.175Z"
   },
   {
    "duration": 255,
    "start_time": "2022-04-05T05:20:16.312Z"
   },
   {
    "duration": 488,
    "start_time": "2022-04-05T05:20:16.569Z"
   },
   {
    "duration": 247,
    "start_time": "2022-04-05T05:20:17.058Z"
   }
  ],
  "kernelspec": {
   "display_name": "Python 3 (ipykernel)",
   "language": "python",
   "name": "python3"
  },
  "language_info": {
   "codemirror_mode": {
    "name": "ipython",
    "version": 3
   },
   "file_extension": ".py",
   "mimetype": "text/x-python",
   "name": "python",
   "nbconvert_exporter": "python",
   "pygments_lexer": "ipython3",
   "version": "3.9.7"
  },
  "toc": {
   "base_numbering": 1,
   "nav_menu": {},
   "number_sections": true,
   "sideBar": true,
   "skip_h1_title": false,
   "title_cell": "Содержание",
   "title_sidebar": "Содержание",
   "toc_cell": true,
   "toc_position": {
    "height": "calc(100% - 180px)",
    "left": "10px",
    "top": "150px",
    "width": "276.59375px"
   },
   "toc_section_display": true,
   "toc_window_display": true
  }
 },
 "nbformat": 4,
 "nbformat_minor": 5
}
