{
 "cells": [
  {
   "cell_type": "markdown",
   "metadata": {},
   "source": [
    "# Research work on the reliability of borrowers\n",
    "\n",
    "The customer is the credit department of the bank. It is necessary to find out whether the marital status and the number of children of the client affect the fact of repaying the loan on time. Input data from the bank - statistics on the solvency of customers.\n",
    "\n",
    "The results of the study will be taken into account when building a **credit scoring** model - a special system that evaluates the ability of a potential borrower to repay a loan to a bank."
   ]
  },
  {
   "cell_type": "markdown",
   "metadata": {
    "toc": true
   },
   "source": [
    "<h1>Table of Contents<span class=\"tocSkip\"></span></h1>\n",
    "<div class=\"toc\"><ul class=\"toc-item\"><li><span><a href=\"#Open-the-data-file-and-study-the-general-information\" data-toc-modified-id=\"Open-the-data-file-and-study-the-general-information-1\"><span class=\"toc-item-num\">1&nbsp;&nbsp;</span>Open the data file and study the general information</a></span></li><li><span><a href=\"#Data-preprocessing\" data-toc-modified-id=\"Data-preprocessing-2\"><span class=\"toc-item-num\">2&nbsp;&nbsp;</span>Data preprocessing</a></span><ul class=\"toc-item\"><li><span><a href=\"#Pass-processing\" data-toc-modified-id=\"Pass-processing-2.1\"><span class=\"toc-item-num\">2.1&nbsp;&nbsp;</span>Pass processing</a></span></li><li><span><a href=\"#Replacing-the-data-type\" data-toc-modified-id=\"Replacing-the-data-type-2.2\"><span class=\"toc-item-num\">2.2&nbsp;&nbsp;</span>Replacing the data type</a></span></li><li><span><a href=\"#Duplicate-Handling\" data-toc-modified-id=\"Duplicate-Handling-2.3\"><span class=\"toc-item-num\">2.3&nbsp;&nbsp;</span>Duplicate Handling</a></span></li><li><span><a href=\"#Lemmatization\" data-toc-modified-id=\"Lemmatization-2.4\"><span class=\"toc-item-num\">2.4&nbsp;&nbsp;</span>Lemmatization</a></span></li><li><span><a href=\"#Категоризация-данных\" data-toc-modified-id=\"Категоризация-данных-2.5\"><span class=\"toc-item-num\">2.5&nbsp;&nbsp;</span>Категоризация данных</a></span></li></ul></li><li><span><a href=\"#Answer-the-questions\" data-toc-modified-id=\"Answer-the-questions-3\"><span class=\"toc-item-num\">3&nbsp;&nbsp;</span>Answer the questions</a></span></li><li><span><a href=\"#General-conclusion\" data-toc-modified-id=\"General-conclusion-4\"><span class=\"toc-item-num\">4&nbsp;&nbsp;</span>General conclusion</a></span></li></ul></div>"
   ]
  },
  {
   "cell_type": "markdown",
   "metadata": {},
   "source": [
    "## Open the data file and study the general information"
   ]
  },
  {
   "cell_type": "code",
   "execution_count": 1,
   "metadata": {
    "scrolled": true
   },
   "outputs": [],
   "source": [
    "import pandas as pd\n",
    "import seaborn as sb\n",
    "\n",
    "from nltk.stem import SnowballStemmer\n",
    "from pymystem3 import Mystem \n",
    "from collections import Counter\n",
    "\n",
    "russian_stemmer = SnowballStemmer('russian')\n",
    "m = Mystem()"
   ]
  },
  {
   "cell_type": "code",
   "execution_count": 2,
   "metadata": {},
   "outputs": [
    {
     "data": {
      "text/html": [
       "<div>\n",
       "<style scoped>\n",
       "    .dataframe tbody tr th:only-of-type {\n",
       "        vertical-align: middle;\n",
       "    }\n",
       "\n",
       "    .dataframe tbody tr th {\n",
       "        vertical-align: top;\n",
       "    }\n",
       "\n",
       "    .dataframe thead th {\n",
       "        text-align: right;\n",
       "    }\n",
       "</style>\n",
       "<table border=\"1\" class=\"dataframe\">\n",
       "  <thead>\n",
       "    <tr style=\"text-align: right;\">\n",
       "      <th></th>\n",
       "      <th>children</th>\n",
       "      <th>days_employed</th>\n",
       "      <th>dob_years</th>\n",
       "      <th>education</th>\n",
       "      <th>education_id</th>\n",
       "      <th>family_status</th>\n",
       "      <th>family_status_id</th>\n",
       "      <th>gender</th>\n",
       "      <th>income_type</th>\n",
       "      <th>debt</th>\n",
       "      <th>total_income</th>\n",
       "      <th>purpose</th>\n",
       "    </tr>\n",
       "  </thead>\n",
       "  <tbody>\n",
       "    <tr>\n",
       "      <th>0</th>\n",
       "      <td>1</td>\n",
       "      <td>-8437.673028</td>\n",
       "      <td>42</td>\n",
       "      <td>высшее</td>\n",
       "      <td>0</td>\n",
       "      <td>женат / замужем</td>\n",
       "      <td>0</td>\n",
       "      <td>F</td>\n",
       "      <td>сотрудник</td>\n",
       "      <td>0</td>\n",
       "      <td>253875.639453</td>\n",
       "      <td>покупка жилья</td>\n",
       "    </tr>\n",
       "    <tr>\n",
       "      <th>1</th>\n",
       "      <td>1</td>\n",
       "      <td>-4024.803754</td>\n",
       "      <td>36</td>\n",
       "      <td>среднее</td>\n",
       "      <td>1</td>\n",
       "      <td>женат / замужем</td>\n",
       "      <td>0</td>\n",
       "      <td>F</td>\n",
       "      <td>сотрудник</td>\n",
       "      <td>0</td>\n",
       "      <td>112080.014102</td>\n",
       "      <td>приобретение автомобиля</td>\n",
       "    </tr>\n",
       "    <tr>\n",
       "      <th>2</th>\n",
       "      <td>0</td>\n",
       "      <td>-5623.422610</td>\n",
       "      <td>33</td>\n",
       "      <td>Среднее</td>\n",
       "      <td>1</td>\n",
       "      <td>женат / замужем</td>\n",
       "      <td>0</td>\n",
       "      <td>M</td>\n",
       "      <td>сотрудник</td>\n",
       "      <td>0</td>\n",
       "      <td>145885.952297</td>\n",
       "      <td>покупка жилья</td>\n",
       "    </tr>\n",
       "    <tr>\n",
       "      <th>3</th>\n",
       "      <td>3</td>\n",
       "      <td>-4124.747207</td>\n",
       "      <td>32</td>\n",
       "      <td>среднее</td>\n",
       "      <td>1</td>\n",
       "      <td>женат / замужем</td>\n",
       "      <td>0</td>\n",
       "      <td>M</td>\n",
       "      <td>сотрудник</td>\n",
       "      <td>0</td>\n",
       "      <td>267628.550329</td>\n",
       "      <td>дополнительное образование</td>\n",
       "    </tr>\n",
       "    <tr>\n",
       "      <th>4</th>\n",
       "      <td>0</td>\n",
       "      <td>340266.072047</td>\n",
       "      <td>53</td>\n",
       "      <td>среднее</td>\n",
       "      <td>1</td>\n",
       "      <td>гражданский брак</td>\n",
       "      <td>1</td>\n",
       "      <td>F</td>\n",
       "      <td>пенсионер</td>\n",
       "      <td>0</td>\n",
       "      <td>158616.077870</td>\n",
       "      <td>сыграть свадьбу</td>\n",
       "    </tr>\n",
       "  </tbody>\n",
       "</table>\n",
       "</div>"
      ],
      "text/plain": [
       "   children  days_employed  dob_years education  education_id  \\\n",
       "0         1   -8437.673028         42    высшее             0   \n",
       "1         1   -4024.803754         36   среднее             1   \n",
       "2         0   -5623.422610         33   Среднее             1   \n",
       "3         3   -4124.747207         32   среднее             1   \n",
       "4         0  340266.072047         53   среднее             1   \n",
       "\n",
       "      family_status  family_status_id gender income_type  debt   total_income  \\\n",
       "0   женат / замужем                 0      F   сотрудник     0  253875.639453   \n",
       "1   женат / замужем                 0      F   сотрудник     0  112080.014102   \n",
       "2   женат / замужем                 0      M   сотрудник     0  145885.952297   \n",
       "3   женат / замужем                 0      M   сотрудник     0  267628.550329   \n",
       "4  гражданский брак                 1      F   пенсионер     0  158616.077870   \n",
       "\n",
       "                      purpose  \n",
       "0               покупка жилья  \n",
       "1     приобретение автомобиля  \n",
       "2               покупка жилья  \n",
       "3  дополнительное образование  \n",
       "4             сыграть свадьбу  "
      ]
     },
     "execution_count": 2,
     "metadata": {},
     "output_type": "execute_result"
    }
   ],
   "source": [
    "data = pd.read_csv('data.csv')\n",
    "data.head(5)"
   ]
  },
  {
   "cell_type": "code",
   "execution_count": 3,
   "metadata": {},
   "outputs": [
    {
     "name": "stdout",
     "output_type": "stream",
     "text": [
      "<class 'pandas.core.frame.DataFrame'>\n",
      "RangeIndex: 21525 entries, 0 to 21524\n",
      "Data columns (total 12 columns):\n",
      " #   Column            Non-Null Count  Dtype  \n",
      "---  ------            --------------  -----  \n",
      " 0   children          21525 non-null  int64  \n",
      " 1   days_employed     19351 non-null  float64\n",
      " 2   dob_years         21525 non-null  int64  \n",
      " 3   education         21525 non-null  object \n",
      " 4   education_id      21525 non-null  int64  \n",
      " 5   family_status     21525 non-null  object \n",
      " 6   family_status_id  21525 non-null  int64  \n",
      " 7   gender            21525 non-null  object \n",
      " 8   income_type       21525 non-null  object \n",
      " 9   debt              21525 non-null  int64  \n",
      " 10  total_income      19351 non-null  float64\n",
      " 11  purpose           21525 non-null  object \n",
      "dtypes: float64(2), int64(5), object(5)\n",
      "memory usage: 2.0+ MB\n"
     ]
    }
   ],
   "source": [
    "data.info()"
   ]
  },
  {
   "cell_type": "markdown",
   "metadata": {},
   "source": [
    "**Conclusion**\n",
    "The initial review showed that the \"data\" table contains 12 columns and 21525 rows.\n",
    "The number of values in the columns varies, therefore, before working with data, you need to study the gaps and eliminate them."
   ]
  },
  {
   "cell_type": "markdown",
   "metadata": {},
   "source": [
    "## Data preprocessing"
   ]
  },
  {
   "cell_type": "markdown",
   "metadata": {},
   "source": [
    "### Pass processing"
   ]
  },
  {
   "cell_type": "code",
   "execution_count": 4,
   "metadata": {
    "scrolled": true
   },
   "outputs": [
    {
     "name": "stdout",
     "output_type": "stream",
     "text": [
      "[nan]\n"
     ]
    }
   ],
   "source": [
    "print(data[data['days_employed'].isna() == True ]['total_income'].unique())\n",
    "# says that if days_employed is Nan, then total_income is also Nan.\n",
    "data['days_employed'] = data['days_employed'].fillna(0)\n",
    "data['total_income'] = data['total_income'].fillna(0)"
   ]
  },
  {
   "cell_type": "code",
   "execution_count": 5,
   "metadata": {},
   "outputs": [
    {
     "name": "stdout",
     "output_type": "stream",
     "text": [
      "number of rows with negative children value: 47\n",
      "Percentage of rows with negative number of children: 0.2%\n"
     ]
    }
   ],
   "source": [
    "print('number of rows with negative children value:',(data.loc[data.loc[:,'children'] == -1 ]['debt']).count())\n",
    "perc_negative_ch = (data.loc[data.loc[:,'children'] == -1 ]['debt']).count() / data['children'].count()\n",
    "print(\"Percentage of rows with negative number of children: {:.1%}\".format(perc_negative_ch))\n"
   ]
  },
  {
   "cell_type": "code",
   "execution_count": 6,
   "metadata": {},
   "outputs": [],
   "source": [
    "data = data.loc[data['children'] != -1]\n",
    "# the percentage of rows where the number of children -1 is less than 0.5%,\n",
    "# so the effect of these rows on the overall output is negligible and they will be removed \n",
    "# from the overall dataframe."
   ]
  },
  {
   "cell_type": "markdown",
   "metadata": {},
   "source": [
    "**Conclusion**\n",
    "\n",
    "- It has been shown that if days_employed is Nan, then total_income is also Nan. However, there are no zero values in days_employed. It was hypothesized that the Nan value in the days_employed column should be considered as lack of work experience and for further decision all gaps in these columns will be filled with the value 0.\n",
    "\n",
    "- It has been shown that the percentage of rows with a negative value in the \"children\" column is less than one percent, therefore, without establishing the reason for the appearance of such values, without establishing patterns with other columns, rows with a negative value in the \"children\" column have been removed."
   ]
  },
  {
   "cell_type": "markdown",
   "metadata": {},
   "source": [
    "### Replacing the data type"
   ]
  },
  {
   "cell_type": "code",
   "execution_count": 7,
   "metadata": {},
   "outputs": [],
   "source": [
    "data['days_employed']=data['days_employed'].astype('int')\n",
    "data['total_income']=data['total_income'].astype('int')\n",
    "data['education']=data['education'].str.lower()\n"
   ]
  },
  {
   "cell_type": "code",
   "execution_count": 8,
   "metadata": {},
   "outputs": [
    {
     "name": "stdout",
     "output_type": "stream",
     "text": [
      "Number of clients with age \"0\":  101\n",
      "Percentage of rows with zero age value: 0.5%\n",
      "Number of rows with negative income value 0\n",
      "\n",
      "Consider the values in a column \"children\"\n",
      "0     14149\n",
      "1      4818\n",
      "2      2055\n",
      "3       330\n",
      "20       76\n",
      "4        41\n",
      "5         9\n",
      "Name: children, dtype: int64\n",
      "Number of clients with a negative number of days of service 15869\n",
      "Percentage of clients with a negative number of days of service: 73.9%\n"
     ]
    },
    {
     "data": {
      "image/png": "[encoded data removed]",
      "text/plain": [
       "<Figure size 432x288 with 1 Axes>"
      ]
     },
     "metadata": {
      "needs_background": "light"
     },
     "output_type": "display_data"
    }
   ],
   "source": [
    "\n",
    "print('Number of clients with age \"0\": ', data.loc[data.loc[:,'dob_years'] == 0 ]['debt'].count())\n",
    "perc_age_0 = data.loc[data.loc[:,'dob_years'] == 0 ]['debt'].count() / data['debt'].count()\n",
    "print(\"Percentage of rows with zero age value: {:.1%}\".format(perc_age_0))\n",
    "print('Number of rows with negative income value', data.loc[data.loc[:,'total_income'] < 0 ]['dob_years'].count())\n",
    "print()\n",
    "print('Consider the values in a column \"children\"')\n",
    "print(data['children'].value_counts())\n",
    "\n",
    "\n",
    "sb.scatterplot(x = data['days_employed'], y= data['dob_years'] )\n",
    "\n",
    "print('Number of clients with a negative number of days of service', data.loc[data.loc[:,'days_employed'] < 0 ]['days_employed'].count())\n",
    "print(\"Percentage of clients with a negative number of days of service: {:.1%}\".format(data.loc[data.loc[:,'days_employed'] < 0 ]['days_employed'].count()/ data['days_employed'].count()))"
   ]
  },
  {
   "cell_type": "markdown",
   "metadata": {},
   "source": [
    "**Conclusion**\n",
    "\n",
    "In the quest documentation, it was said that\n",
    "\n",
    "days_employed - work experience in days\n",
    "\n",
    "total_income - income per month\n",
    "\n",
    "It is convenient to work with the data from these columns as with integers.\n",
    "For the Pandas library, the standard method for converting values to a numeric type is to_numeric(). However, this method converts the values to the float64 numeric type (real number). Which doesn't do the job.\n",
    "\n",
    "Therefore, in this section, values have been converted to int by the astype() method.\n",
    "\n",
    "A separate check was made for the presence of negative values in the \"total_income\" column. All values in this column are non-negative, which allows us to speak about the correctness of filling this column.\n",
    "\n",
    "Also in this section, the value of the \"children\" column was displayed with a count of the number of values. Although such a distribution raises some doubts, there was no possibility to check the validity of the available data, therefore, we will accept the data as true and not requiring adjustment.\n",
    "\n",
    "Next, the values in the \"days_employed\" and \"dob_years\" columns were examined. Obviously, the values in these columns are anomalous. However, attempts to establish patterns in order to eliminate the anomaly were unsuccessful.\n",
    "\n",
    "Given that these columns do not play a role in answering the research questions, it was decided not to change the values, but to proceed to the next step of the research."
   ]
  },
  {
   "cell_type": "code",
   "execution_count": 9,
   "metadata": {},
   "outputs": [
    {
     "name": "stdout",
     "output_type": "stream",
     "text": [
      "сотрудник          11093\n",
      "компаньон           5076\n",
      "пенсионер           3848\n",
      "госслужащий         1455\n",
      "безработный            2\n",
      "предприниматель        2\n",
      "студент                1\n",
      "в декрете              1\n",
      "Name: income_type, dtype: int64\n",
      "F      14201\n",
      "M       7276\n",
      "XNA        1\n",
      "Name: gender, dtype: int64\n",
      "Percentage of customers with \"XNA\" in the gender column: 0.005%\n"
     ]
    }
   ],
   "source": [
    "print(data['income_type'].value_counts())\n",
    "\n",
    "print(data['gender'].value_counts())\n",
    "xna_pers = data.loc[data.loc[:,'gender'] == 'XNA' ]\n",
    "\n",
    "print('Percentage of customers with \"XNA\" in the gender column: {:.3%}'.format(xna_pers['gender'].count()/ data['gender'].count()))"
   ]
  },
  {
   "cell_type": "markdown",
   "metadata": {},
   "source": [
    "**Addendum to the conclusion:**\n",
    "\n",
    "It was found that in the gender column, there is one undefined value. This does not affect the progress of the research, so this value was left unchanged.\n",
    "\n",
    "It is not difficult to see that all negative values in the seniority column can be the number of days, but with a negative sign, so it is enough to change the sign for these values, but for all positive values in this column, the values cannot correspond to the number of days, so to with them need to be analyzed separately.\n",
    "As part of the main study, a scatterplot was constructed. Within this chart, it can be established that all positive values of the 'days_employed' column are in the range from 300,000 to 400,000. The research documentation said that this column indicates the experience in days, however, 300,000 days is 822 years. If we assume that 300,000 is not days, but hours, we get 34 years, which could correspond to the customer's experience, however, the diagram shows that there are customers in the table that are less than 30 years old, in whose experience column the number exceeds 300,000 , which contradicts the above hypothesis. The final guess is that 300,000 is seconds, but that's less than one year.\n",
    "\n",
    "Separately, it should be noted that the percentage of lines with a negative seniority value above 20, and the removal of these lines, obviously, will negatively affect the representativeness of the sample.\n",
    "\n",
    "Based on the above, we will conclude that there is an error in the data that cannot be eliminated by the available methods and, being unable to access the metadata, it is necessary to leave the values as they are. Realizing at the same time that if the value is negative, then this is the number of days of experience. If the value is positive, the experience data is lost."
   ]
  },
  {
   "cell_type": "markdown",
   "metadata": {},
   "source": [
    "### Duplicate Handling"
   ]
  },
  {
   "cell_type": "code",
   "execution_count": 10,
   "metadata": {
    "scrolled": true
   },
   "outputs": [
    {
     "name": "stdout",
     "output_type": "stream",
     "text": [
      "71 duplicates were found\n"
     ]
    }
   ],
   "source": [
    "print(data.duplicated().sum(), 'duplicates were found')\n",
    "\n",
    "data = data.drop_duplicates().reset_index(drop = True) "
   ]
  },
  {
   "cell_type": "markdown",
   "metadata": {},
   "source": [
    "**Conclusion**\n",
    "\n",
    "During data preprocessing, duplicates were identified and removed.\n",
    "\n",
    "pandas has a special duplicated() method. But it returns a Series with a value of True for duplicate rows, which doesn't serve the intended purpose, which is why the drop_duplicates() method was chosen. It allows you to remove duplicates. However, an error may occur later, due to the omission of some indexes. To overwrite the index order, use the command: reset_index(drop = True).\n",
    "\n",
    "\n",
    "The reasons for the appearance of duplicates deserve special attention. The work done above to identify anomalous values shows that the initial data required detailed study. Note the different filling of the \"education\" column, where education can be written with a different register, which clearly indicates a human factor. It should be assumed that other inaccuracies can be considered a consequence of the human factor."
   ]
  },
  {
   "cell_type": "markdown",
   "metadata": {},
   "source": [
    "### Lemmatization"
   ]
  },
  {
   "cell_type": "code",
   "execution_count": 11,
   "metadata": {},
   "outputs": [
    {
     "name": "stdout",
     "output_type": "stream",
     "text": [
      "Counter({' ': 59, '\\n': 38, 'покупка': 10, 'недвижимость': 10, 'автомобиль': 9, 'образование': 9, 'жилье': 7, 'с': 5, 'операция': 4, 'на': 4, 'свой': 4, 'свадьба': 3, 'строительство': 3, 'получение': 3, 'высокий': 3, 'дополнительный': 2, 'для': 2, 'коммерческий': 2, 'жилой': 2, 'заниматься': 2, 'сделка': 2, 'приобретение': 1, 'сыграть': 1, 'проведение': 1, 'семья': 1, 'собственный': 1, 'подержать': 1, 'со': 1, 'подержанный': 1, 'профильный': 1, 'сдача': 1, 'ремонт': 1})\n"
     ]
    }
   ],
   "source": [
    "lemma = []\n",
    "for one_purpose in data['purpose'].unique():\n",
    "    lemmas = m.lemmatize(one_purpose)\n",
    "    lemma.extend(lemmas)\n",
    "\n",
    "\n",
    "print(Counter(lemma)) \n"
   ]
  },
  {
   "cell_type": "markdown",
   "metadata": {},
   "source": [
    "**Conclusion**\n",
    "\n",
    "In this section, the values ​​in the \"purpose\" column were lemmatized using the nltk library.\n",
    "\n",
    "By accessing each value in the 'purpose' column, having previously applied the unique() function, thereby saving computing resources, we get a set of lemmas, which we append to a pre-prepared list using the .extend() method in order to avoid the appearance of a list of lists (as it will be when using .append())\n",
    "\n",
    "Then the values ​​from the list of lemmas were inferred with a count of the number of repetitions to identify the most popular targets.\n",
    "\n",
    "\n",
    "Studying the resulting list of lems allows us to identify 4 unique categories. In order to formalize and create a more universal code, another category has been added: other.\n",
    "\n",
    "As a result of the work done, the following categories were identified:\n",
    "- real estate\n",
    "- automobile\n",
    "- education\n",
    "- wedding\n",
    "- other"
   ]
  },
  {
   "cell_type": "markdown",
   "metadata": {},
   "source": [
    "### Категоризация данных"
   ]
  },
  {
   "cell_type": "code",
   "execution_count": 12,
   "metadata": {},
   "outputs": [
    {
     "name": "stdout",
     "output_type": "stream",
     "text": [
      "Series([], Name: dob_years, dtype: int64)\n"
     ]
    },
    {
     "data": {
      "text/html": [
       "<div>\n",
       "<style scoped>\n",
       "    .dataframe tbody tr th:only-of-type {\n",
       "        vertical-align: middle;\n",
       "    }\n",
       "\n",
       "    .dataframe tbody tr th {\n",
       "        vertical-align: top;\n",
       "    }\n",
       "\n",
       "    .dataframe thead th {\n",
       "        text-align: right;\n",
       "    }\n",
       "</style>\n",
       "<table border=\"1\" class=\"dataframe\">\n",
       "  <thead>\n",
       "    <tr style=\"text-align: right;\">\n",
       "      <th></th>\n",
       "      <th>children</th>\n",
       "      <th>days_employed</th>\n",
       "      <th>dob_years</th>\n",
       "      <th>education</th>\n",
       "      <th>education_id</th>\n",
       "      <th>family_status</th>\n",
       "      <th>family_status_id</th>\n",
       "      <th>gender</th>\n",
       "      <th>income_type</th>\n",
       "      <th>debt</th>\n",
       "      <th>total_income</th>\n",
       "      <th>purpose</th>\n",
       "      <th>purpose_category</th>\n",
       "      <th>total_income_category</th>\n",
       "      <th>children_category</th>\n",
       "    </tr>\n",
       "  </thead>\n",
       "  <tbody>\n",
       "    <tr>\n",
       "      <th>0</th>\n",
       "      <td>1</td>\n",
       "      <td>-8437</td>\n",
       "      <td>42</td>\n",
       "      <td>высшее</td>\n",
       "      <td>0</td>\n",
       "      <td>женат / замужем</td>\n",
       "      <td>0</td>\n",
       "      <td>F</td>\n",
       "      <td>сотрудник</td>\n",
       "      <td>0</td>\n",
       "      <td>253875</td>\n",
       "      <td>покупка жилья</td>\n",
       "      <td>недвижимость</td>\n",
       "      <td>Category 4 High income</td>\n",
       "      <td>1 child</td>\n",
       "    </tr>\n",
       "    <tr>\n",
       "      <th>1</th>\n",
       "      <td>1</td>\n",
       "      <td>-4024</td>\n",
       "      <td>36</td>\n",
       "      <td>среднее</td>\n",
       "      <td>1</td>\n",
       "      <td>женат / замужем</td>\n",
       "      <td>0</td>\n",
       "      <td>F</td>\n",
       "      <td>сотрудник</td>\n",
       "      <td>0</td>\n",
       "      <td>112080</td>\n",
       "      <td>приобретение автомобиля</td>\n",
       "      <td>автомобиль</td>\n",
       "      <td>Category 2 Below average</td>\n",
       "      <td>1 child</td>\n",
       "    </tr>\n",
       "    <tr>\n",
       "      <th>2</th>\n",
       "      <td>0</td>\n",
       "      <td>-5623</td>\n",
       "      <td>33</td>\n",
       "      <td>среднее</td>\n",
       "      <td>1</td>\n",
       "      <td>женат / замужем</td>\n",
       "      <td>0</td>\n",
       "      <td>M</td>\n",
       "      <td>сотрудник</td>\n",
       "      <td>0</td>\n",
       "      <td>145885</td>\n",
       "      <td>покупка жилья</td>\n",
       "      <td>недвижимость</td>\n",
       "      <td>Category 2 Below average</td>\n",
       "      <td>without children</td>\n",
       "    </tr>\n",
       "    <tr>\n",
       "      <th>3</th>\n",
       "      <td>3</td>\n",
       "      <td>-4124</td>\n",
       "      <td>32</td>\n",
       "      <td>среднее</td>\n",
       "      <td>1</td>\n",
       "      <td>женат / замужем</td>\n",
       "      <td>0</td>\n",
       "      <td>M</td>\n",
       "      <td>сотрудник</td>\n",
       "      <td>0</td>\n",
       "      <td>267628</td>\n",
       "      <td>дополнительное образование</td>\n",
       "      <td>образование</td>\n",
       "      <td>Category 4 High income</td>\n",
       "      <td>2-3 childs</td>\n",
       "    </tr>\n",
       "    <tr>\n",
       "      <th>4</th>\n",
       "      <td>0</td>\n",
       "      <td>340266</td>\n",
       "      <td>53</td>\n",
       "      <td>среднее</td>\n",
       "      <td>1</td>\n",
       "      <td>гражданский брак</td>\n",
       "      <td>1</td>\n",
       "      <td>F</td>\n",
       "      <td>пенсионер</td>\n",
       "      <td>0</td>\n",
       "      <td>158616</td>\n",
       "      <td>сыграть свадьбу</td>\n",
       "      <td>свадьба</td>\n",
       "      <td>Category 3 Average income</td>\n",
       "      <td>without children</td>\n",
       "    </tr>\n",
       "  </tbody>\n",
       "</table>\n",
       "</div>"
      ],
      "text/plain": [
       "   children  days_employed  dob_years education  education_id  \\\n",
       "0         1          -8437         42    высшее             0   \n",
       "1         1          -4024         36   среднее             1   \n",
       "2         0          -5623         33   среднее             1   \n",
       "3         3          -4124         32   среднее             1   \n",
       "4         0         340266         53   среднее             1   \n",
       "\n",
       "      family_status  family_status_id gender income_type  debt  total_income  \\\n",
       "0   женат / замужем                 0      F   сотрудник     0        253875   \n",
       "1   женат / замужем                 0      F   сотрудник     0        112080   \n",
       "2   женат / замужем                 0      M   сотрудник     0        145885   \n",
       "3   женат / замужем                 0      M   сотрудник     0        267628   \n",
       "4  гражданский брак                 1      F   пенсионер     0        158616   \n",
       "\n",
       "                      purpose purpose_category      total_income_category  \\\n",
       "0               покупка жилья     недвижимость     Category 4 High income   \n",
       "1     приобретение автомобиля       автомобиль   Category 2 Below average   \n",
       "2               покупка жилья     недвижимость   Category 2 Below average   \n",
       "3  дополнительное образование      образование     Category 4 High income   \n",
       "4             сыграть свадьбу          свадьба  Category 3 Average income   \n",
       "\n",
       "  children_category  \n",
       "0           1 child  \n",
       "1           1 child  \n",
       "2  without children  \n",
       "3        2-3 childs  \n",
       "4  without children  "
      ]
     },
     "execution_count": 12,
     "metadata": {},
     "output_type": "execute_result"
    }
   ],
   "source": [
    "def give_category (row):\n",
    "    purpose = row['purpose']\n",
    "    if 'недвижим' in purpose:\n",
    "        return 'недвижимость'\n",
    "    elif 'жиль' in purpose:\n",
    "        return 'недвижимость'\n",
    "    elif 'свадьб' in purpose:\n",
    "        return 'свадьба'\n",
    "    elif 'авто' in purpose:\n",
    "        return 'автомобиль'\n",
    "    elif 'образов' in purpose:\n",
    "        return 'образование'\n",
    "    else:\n",
    "        return 'другое'\n",
    "\n",
    "data['purpose_category'] = data.apply(give_category, axis=1)\n",
    "\n",
    "def income_category (row):\n",
    "    purpose = row['total_income']\n",
    "    if purpose < 79159:\n",
    "        return 'Category 1: Low income'\n",
    "    elif purpose < 158318:\n",
    "        return 'Category 2 Below average'\n",
    "    elif purpose < 237477:\n",
    "        return 'Category 3 Average income'\n",
    "    elif purpose < 316636:\n",
    "        return 'Category 4 High income'\n",
    "    else:\n",
    "        return 'Category 5 Super High Income'\n",
    "    \n",
    "data['total_income_category'] = data.apply(income_category, axis =1)\n",
    "\n",
    "def children_category (row):\n",
    "    purpose = row['children']\n",
    "    if purpose < 1:\n",
    "        return 'without children'\n",
    "    elif purpose < 2:\n",
    "        return '1 child'\n",
    "    elif purpose < 4:\n",
    "        return '2-3 childs'\n",
    "    \n",
    "    else:\n",
    "        return 'more than 3 children'\n",
    "    \n",
    "data['children_category'] = data.apply(children_category, axis =1)\n",
    "\n",
    "print(data.loc[data.loc[:,'purpose_category'] == 'другое' ]['dob_years'].value_counts())\n",
    "# Note that nothing falls into the \"other\" category.\n",
    "\n",
    "data.head()\n"
   ]
  },
  {
   "cell_type": "markdown",
   "metadata": {},
   "source": [
    "**Conclusion**\n",
    "\n",
    "Work has been done to categorize the data by the columns \"children\", \"total_income\" and \"purpose\".\n",
    "\n",
    "To do this, the columns \"purpose_category\", \"total_income_category\" and \"children_category\" were created, in which one of the selected categories is recorded by the apply function.\n",
    "\n",
    "As a result of the lemmatization of the \"purpose\" column, 5 main topics were identified, however, in the course of assigning a category to each of the values, it turned out that the last category \"other\" was unclaimed.\n",
    "\n",
    "\n",
    "Also, a detailed study of clients' incomes made it possible to distinguish 5 categories by income level. From low to extra high.\n",
    "\n",
    "Note that customers were given a category and the number of children. 0, 1, 2-3 and more than three.\n",
    "\n",
    "The value of each of the categories is recorded in the corresponding column of the table."
   ]
  },
  {
   "cell_type": "markdown",
   "metadata": {},
   "source": [
    "## Answer the questions"
   ]
  },
  {
   "cell_type": "markdown",
   "metadata": {},
   "source": [
    "- Is there a relationship between having children and repaying a loan on time?"
   ]
  },
  {
   "cell_type": "code",
   "execution_count": 13,
   "metadata": {
    "scrolled": false
   },
   "outputs": [
    {
     "name": "stdout",
     "output_type": "stream",
     "text": [
      "Percentage of clients with debt : 8.13%\n",
      "Percentage of debtors without children of the total number of clients: 4.97%\n",
      "Percentage of debtors with children in the total number of clients: 3.16%\n",
      "\n",
      "The percentage of debtors without children from the number of clients with debt: 61.1%\n",
      "The percentage of debtors with children from the number of clients with debt: 38.9%\n",
      "\n",
      "Percentage of debtors with one child from the number of clients with debt: 25.5%\n",
      "Percentage of debtors with more than one child of the number of clients with debt: 13.4%\n",
      "\n",
      "Percentage of debtors with more than one child of the total number of clients with more than one child: 9.3%\n",
      "Percentage of debtors with one child out of the total number of clients with one child: 9.2%\n",
      "Percentage of debtors without children from the total number of clients without children: 7.5%\n"
     ]
    }
   ],
   "source": [
    "data_debt = data.loc[data.loc[:,'debt'] == 1 ]\n",
    "total_clients = data['debt'].count()\n",
    "sum_debt = data_debt['debt'].count() / total_clients\n",
    "print('Percentage of clients with debt : {:.2%}'.format(sum_debt))\n",
    "\n",
    "data_0_children = data_debt.loc[data_debt.loc[:,'children'] == 0 ]['debt'].count()\n",
    "data_1_children = data_debt.loc[data_debt.loc[:,'children'] == 1 ]['debt'].count()\n",
    "data_not_0_children = data_debt.loc[data_debt.loc[:,'children'] != 0 ]['debt'].count()\n",
    "\n",
    "perc_dept_no_children = data_0_children / total_clients\n",
    "print(\"Percentage of debtors without children of the total number of clients: {:.2%}\".format(perc_dept_no_children))\n",
    "\n",
    "\n",
    "perc_dept_children = data_not_0_children / total_clients\n",
    "print(\"Percentage of debtors with children in the total number of clients: {:.2%}\".format(perc_dept_children))\n",
    "\n",
    "print()\n",
    "perc_debt_no_children = data_0_children / data_debt['debt'].count()\n",
    "print(\"The percentage of debtors without children from the number of clients with debt: {:.1%}\".format(perc_debt_no_children))\n",
    "\n",
    "perc_dept_children = data_not_0_children / data_debt['debt'].count()\n",
    "print(\"The percentage of debtors with children from the number of clients with debt: {:.1%}\".format(perc_dept_children))\n",
    "\n",
    "print()\n",
    "\n",
    "perc_debt_1_children = data_1_children / data_debt['debt'].count()\n",
    "print(\"Percentage of debtors with one child from the number of clients with debt: {:.1%}\".format(perc_debt_1_children))\n",
    "\n",
    "perc_debt_2plus_children = perc_dept_children - perc_debt_1_children \n",
    "print(\"Percentage of debtors with more than one child of the number of clients with debt: {:.1%}\".format(perc_debt_2plus_children))\n",
    "\n",
    "print()\n",
    "\n",
    "data_larg_fam = data.loc[data.loc[:,'children'] > 1 ]['debt'].count()\n",
    "perc_debt_2plus_children = (data_not_0_children - data_1_children) / data_larg_fam\n",
    "print(\"Percentage of debtors with more than one child of the total number of clients with more than one child: {:.1%}\".format(perc_debt_2plus_children))\n",
    "\n",
    "data_1_ch_fam = data.loc[data.loc[:,'children'] == 1 ]['debt'].count()\n",
    "perc_debt_1_children = data_1_children / data_1_ch_fam\n",
    "print(\"Percentage of debtors with one child out of the total number of clients with one child: {:.1%}\".format(perc_debt_1_children))\n",
    "\n",
    "\n",
    "data_0_ch_fam = data.loc[data.loc[:,'children'] == 0 ]['debt'].count()\n",
    "perc_debt_0_children = data_0_children / data_0_ch_fam\n",
    "print(\"Percentage of debtors without children from the total number of clients without children: {:.1%}\".format(perc_debt_0_children))"
   ]
  },
  {
   "cell_type": "markdown",
   "metadata": {},
   "source": [
    "**Conclusion**\n",
    "\n",
    "To test the hypothesis about the existence of a relationship between the fact of having children and the presence of debt, various numerical values were introduced. However, special attention should be paid to the last three obtained values. It can be concluded from them that the probability of debt incurring for clients without children is lower than for clients with children."
   ]
  },
  {
   "cell_type": "markdown",
   "metadata": {},
   "source": [
    "- Is there a relationship between marital status and loan repayment on time?"
   ]
  },
  {
   "cell_type": "code",
   "execution_count": 14,
   "metadata": {},
   "outputs": [
    {
     "data": {
      "text/html": [
       "<div>\n",
       "<style scoped>\n",
       "    .dataframe tbody tr th:only-of-type {\n",
       "        vertical-align: middle;\n",
       "    }\n",
       "\n",
       "    .dataframe tbody tr th {\n",
       "        vertical-align: top;\n",
       "    }\n",
       "\n",
       "    .dataframe thead th {\n",
       "        text-align: right;\n",
       "    }\n",
       "</style>\n",
       "<table border=\"1\" class=\"dataframe\">\n",
       "  <thead>\n",
       "    <tr style=\"text-align: right;\">\n",
       "      <th></th>\n",
       "      <th>married</th>\n",
       "      <th>civil marriage</th>\n",
       "      <th>widower / widow</th>\n",
       "      <th>divorced</th>\n",
       "      <th>Not married</th>\n",
       "    </tr>\n",
       "  </thead>\n",
       "  <tbody>\n",
       "    <tr>\n",
       "      <th>no debt</th>\n",
       "      <td>11380</td>\n",
       "      <td>3758</td>\n",
       "      <td>892</td>\n",
       "      <td>1106</td>\n",
       "      <td>2531</td>\n",
       "    </tr>\n",
       "    <tr>\n",
       "      <th>debt</th>\n",
       "      <td>930</td>\n",
       "      <td>388</td>\n",
       "      <td>63</td>\n",
       "      <td>85</td>\n",
       "      <td>274</td>\n",
       "    </tr>\n",
       "  </tbody>\n",
       "</table>\n",
       "</div>"
      ],
      "text/plain": [
       "         married  civil marriage  widower / widow  divorced  Not married\n",
       "no debt    11380            3758              892      1106         2531\n",
       "debt         930             388               63        85          274"
      ]
     },
     "metadata": {},
     "output_type": "display_data"
    },
    {
     "name": "stdout",
     "output_type": "stream",
     "text": [
      "Percentage with debt in category married : 7.6%\n",
      "Percentage with debt in category civil marriage : 9.4%\n",
      "Percentage with debt in category widower / widow : 6.6%\n",
      "Percentage with debt in category divorced : 7.1%\n",
      "Percentage with debt in category Not married : 9.8%\n"
     ]
    }
   ],
   "source": [
    "data_family_status_debt = data.loc[data.loc[:,'debt'] == 1 ]['family_status_id'].value_counts()\n",
    "data_family_status_no_debt = data.loc[data.loc[:,'debt'] == 0 ]['family_status_id'].value_counts()\n",
    "\n",
    "family_status = {'married':[data_family_status_no_debt[0], data_family_status_debt[0]],\\\n",
    "                 'civil marriage':[data_family_status_no_debt[1], data_family_status_debt[1]], \\\n",
    "                 'widower / widow':[data_family_status_no_debt[2], data_family_status_debt[2]], \\\n",
    "                 'divorced':[data_family_status_no_debt[3], data_family_status_debt[3]],\\\n",
    "                 'Not married':[data_family_status_no_debt[4], data_family_status_debt[4]]}\n",
    "\n",
    "df = pd.DataFrame(family_status, index = ['no debt' , 'debt'])\n",
    "cols = df.columns\n",
    "\n",
    "display(df)\n",
    "\n",
    "for i in range(5):\n",
    "    print(\"Percentage with debt in category\", cols[i] ,\": {:.1%}\".format(data_family_status_debt[i]/ (data_family_status_no_debt[i] + data_family_status_debt[i])))\n"
   ]
  },
  {
   "cell_type": "markdown",
   "metadata": {},
   "source": [
    "**Conclusion**\n",
    "\n",
    "Based on the data obtained, it can be concluded that there is a relationship between marital status and loan repayment on time, but it is not pronounced."
   ]
  },
  {
   "cell_type": "markdown",
   "metadata": {},
   "source": [
    "- Is there a relationship between the level of income and repayment of the loan on time?"
   ]
  },
  {
   "cell_type": "code",
   "execution_count": 15,
   "metadata": {
    "scrolled": false
   },
   "outputs": [
    {
     "name": "stdout",
     "output_type": "stream",
     "text": [
      "Category 1  - these are clients with income [ 0 ; 79159 )\n",
      "Category 2  - these are clients with income [ 79159 ; 158318 )\n",
      "Category 3  - these are clients with income [ 158318 ; 237477 )\n",
      "Category 4  - these are clients with income [ 237477 ; 316636 )\n",
      "Category 5  - these are clients with income [ 316636 ; 2265604  )\n"
     ]
    },
    {
     "data": {
      "text/html": [
       "<div>\n",
       "<style scoped>\n",
       "    .dataframe tbody tr th:only-of-type {\n",
       "        vertical-align: middle;\n",
       "    }\n",
       "\n",
       "    .dataframe tbody tr th {\n",
       "        vertical-align: top;\n",
       "    }\n",
       "\n",
       "    .dataframe thead th {\n",
       "        text-align: right;\n",
       "    }\n",
       "</style>\n",
       "<table border=\"1\" class=\"dataframe\">\n",
       "  <thead>\n",
       "    <tr style=\"text-align: right;\">\n",
       "      <th></th>\n",
       "      <th>debt == 0</th>\n",
       "      <th>debt == 1</th>\n",
       "    </tr>\n",
       "  </thead>\n",
       "  <tbody>\n",
       "    <tr>\n",
       "      <th>category 1</th>\n",
       "      <td>3948</td>\n",
       "      <td>333</td>\n",
       "    </tr>\n",
       "    <tr>\n",
       "      <th>category 2</th>\n",
       "      <td>7993</td>\n",
       "      <td>756</td>\n",
       "    </tr>\n",
       "    <tr>\n",
       "      <th>category 3</th>\n",
       "      <td>4735</td>\n",
       "      <td>425</td>\n",
       "    </tr>\n",
       "    <tr>\n",
       "      <th>category 4</th>\n",
       "      <td>1815</td>\n",
       "      <td>0</td>\n",
       "    </tr>\n",
       "    <tr>\n",
       "      <th>category 5</th>\n",
       "      <td>1176</td>\n",
       "      <td>226</td>\n",
       "    </tr>\n",
       "  </tbody>\n",
       "</table>\n",
       "</div>"
      ],
      "text/plain": [
       "            debt == 0  debt == 1\n",
       "category 1       3948        333\n",
       "category 2       7993        756\n",
       "category 3       4735        425\n",
       "category 4       1815          0\n",
       "category 5       1176        226"
      ]
     },
     "metadata": {},
     "output_type": "display_data"
    },
    {
     "name": "stdout",
     "output_type": "stream",
     "text": [
      "Percentage of clients with debt in the category 1: 7.8%\n",
      "Percentage of clients with debt in the category 2: 8.6%\n",
      "Percentage of clients with debt in the category 3: 8.2%\n",
      "Percentage of clients with debt in the category 4: 0.0%\n",
      "Percentage of clients with debt in the category 5: 16.1%\n"
     ]
    }
   ],
   "source": [
    "df_debt_0_income = data.loc[data.loc[:,'debt'] == 0 ]['total_income'].reset_index(drop = True)\n",
    "df_debt_1_income = data.loc[data.loc[:,'debt'] == 1 ]['total_income'].reset_index(drop = True)\n",
    "\n",
    "df_2 = data['total_income'].sort_values(ascending=True).reset_index(drop = True)\n",
    "part_clients = df_2[int(len(data['total_income'])*0.2)]\n",
    "\n",
    "first_0 = 0\n",
    "first_1 = 0\n",
    "first_2 = 0\n",
    "first_3 = 0\n",
    "first_4 = 0\n",
    "second_0 = 0\n",
    "second_1 = 0\n",
    "second_2 = 0\n",
    "second_3 = 0\n",
    "second_4 = 0\n",
    "\n",
    "\n",
    "for i in range(len(df_debt_0_income)):\n",
    "    if df_debt_0_income[i] < part_clients:\n",
    "        first_0+= 1\n",
    "    elif (df_debt_0_income[i] < part_clients*2):\n",
    "        first_1+= 1\n",
    "    elif (df_debt_0_income[i] < part_clients*3):\n",
    "        first_2+= 1\n",
    "    elif (df_debt_0_income[i] < part_clients*4):\n",
    "        first_3+= 1\n",
    "    else:\n",
    "        first_4+= 1\n",
    "\n",
    "for i in range(len(df_debt_1_income)):\n",
    "    if df_debt_1_income[i] < part_clients:\n",
    "        second_0+= 1\n",
    "    elif (df_debt_1_income[i] < part_clients*2):\n",
    "        second_1+= 1\n",
    "    elif (df_debt_1_income[i] < part_clients*3):\n",
    "        second_2+= 1\n",
    "    elif (df_debt_1_income[i] < part_clients*3):\n",
    "        second_3+= 1\n",
    "    else:\n",
    "        second_4+= 1\n",
    "\n",
    "data_M = {'debt == 0': [first_0, first_1, first_2, first_3, first_4], 'debt == 1': [second_0, second_1, second_2, second_3, second_4]} \n",
    "\n",
    "df01 = pd.DataFrame(data_M, index = ['category 1', 'category 2','category 3','category 4','category 5'])\n",
    "\n",
    "for i in range(4):\n",
    "    print('Category', i+1, ' - these are clients with income [', i * part_clients, ';', (i+1)*part_clients, ')' )\n",
    "print('Category', 4+1, ' - these are clients with income [', 4 * part_clients, ';', data['total_income'].max(), ' )' )\n",
    "\n",
    "display(df01)\n",
    "\n",
    "print(\"Percentage of clients with debt in the category 1: {:.1%}\".format(second_0 / (first_0 + second_0)))\n",
    "print(\"Percentage of clients with debt in the category 2: {:.1%}\".format(second_1 / (first_1+ second_1)))\n",
    "print(\"Percentage of clients with debt in the category 3: {:.1%}\".format(second_2 / (first_2+ second_2)))\n",
    "print(\"Percentage of clients with debt in the category 4: {:.1%}\".format(second_3 / (first_3+ second_3)))\n",
    "print(\"Percentage of clients with debt in the category 5: {:.1%}\".format(second_4 / (first_4+ second_4)))"
   ]
  },
  {
   "cell_type": "markdown",
   "metadata": {},
   "source": [
    "**Conclusion**\n",
    "\n",
    "Based on the data obtained, it can be concluded that clients with ultra-high income are more than twice as likely to be in debt as those clients whose income is less than the majority. At the same time, there is a category of clients with high income, in which the percentage of clients with debt turned out to be equal to zero."
   ]
  },
  {
   "cell_type": "markdown",
   "metadata": {},
   "source": [
    "- How do different purposes of the loan affect its repayment on time?"
   ]
  },
  {
   "cell_type": "code",
   "execution_count": 16,
   "metadata": {
    "scrolled": false
   },
   "outputs": [
    {
     "data": {
      "text/html": [
       "<div>\n",
       "<style scoped>\n",
       "    .dataframe tbody tr th:only-of-type {\n",
       "        vertical-align: middle;\n",
       "    }\n",
       "\n",
       "    .dataframe tbody tr th {\n",
       "        vertical-align: top;\n",
       "    }\n",
       "\n",
       "    .dataframe thead th {\n",
       "        text-align: right;\n",
       "    }\n",
       "</style>\n",
       "<table border=\"1\" class=\"dataframe\">\n",
       "  <thead>\n",
       "    <tr style=\"text-align: right;\">\n",
       "      <th></th>\n",
       "      <th></th>\n",
       "      <th>debt_count</th>\n",
       "    </tr>\n",
       "    <tr>\n",
       "      <th>purpose_category</th>\n",
       "      <th>debt</th>\n",
       "      <th></th>\n",
       "    </tr>\n",
       "  </thead>\n",
       "  <tbody>\n",
       "    <tr>\n",
       "      <th rowspan=\"2\" valign=\"top\">автомобиль</th>\n",
       "      <th>0</th>\n",
       "      <td>3893</td>\n",
       "    </tr>\n",
       "    <tr>\n",
       "      <th>1</th>\n",
       "      <td>402</td>\n",
       "    </tr>\n",
       "    <tr>\n",
       "      <th rowspan=\"2\" valign=\"top\">недвижимость</th>\n",
       "      <th>0</th>\n",
       "      <td>10005</td>\n",
       "    </tr>\n",
       "    <tr>\n",
       "      <th>1</th>\n",
       "      <td>782</td>\n",
       "    </tr>\n",
       "    <tr>\n",
       "      <th rowspan=\"2\" valign=\"top\">образование</th>\n",
       "      <th>0</th>\n",
       "      <td>3633</td>\n",
       "    </tr>\n",
       "    <tr>\n",
       "      <th>1</th>\n",
       "      <td>370</td>\n",
       "    </tr>\n",
       "    <tr>\n",
       "      <th rowspan=\"2\" valign=\"top\">свадьба</th>\n",
       "      <th>0</th>\n",
       "      <td>2136</td>\n",
       "    </tr>\n",
       "    <tr>\n",
       "      <th>1</th>\n",
       "      <td>186</td>\n",
       "    </tr>\n",
       "  </tbody>\n",
       "</table>\n",
       "</div>"
      ],
      "text/plain": [
       "                       debt_count\n",
       "purpose_category debt            \n",
       "автомобиль       0           3893\n",
       "                 1            402\n",
       "недвижимость     0          10005\n",
       "                 1            782\n",
       "образование      0           3633\n",
       "                 1            370\n",
       "свадьба          0           2136\n",
       "                 1            186"
      ]
     },
     "metadata": {},
     "output_type": "display_data"
    },
    {
     "name": "stdout",
     "output_type": "stream",
     "text": [
      "Percentage of clients with debt, for the purpose of a loan on category \"car\" 9.4%\n",
      "Percentage of clients with debt, for the purpose of a loan on category \"realty\" 7.2%\n",
      "Percentage of clients with debt, for the purpose of a loan on category \"study\" 9.2%\n",
      "Percentage of clients with debt, for the purpose of a loan on category \"merrige\" 8.0%\n"
     ]
    }
   ],
   "source": [
    "data_debt_purpose = data.groupby('purpose_category')['debt'].value_counts()\n",
    "\n",
    "df_value_counts = pd.DataFrame(data_debt_purpose)\n",
    "df_value_counts.columns = ['debt_count']\n",
    "display(df_value_counts)\n",
    "#df_value_counts.info()\n",
    "df_value_counts.index\n",
    "#print(df_value_counts.loc[('автомобиль', 1),'debt_count'])\n",
    "\n",
    "print('Percentage of clients with debt, for the purpose of a loan on category \"car\" {:.1%}'.format(df_value_counts.loc[('автомобиль', 1),'debt_count'] / (df_value_counts.loc[('автомобиль', 1),'debt_count']+ df_value_counts.loc[('автомобиль', 0),'debt_count'])))\n",
    "print('Percentage of clients with debt, for the purpose of a loan on category \"realty\" {:.1%}'.format(df_value_counts.loc[('недвижимость', 1),'debt_count'] / (df_value_counts.loc[('недвижимость', 1),'debt_count']+ df_value_counts.loc[('недвижимость', 0),'debt_count'])))\n",
    "print('Percentage of clients with debt, for the purpose of a loan on category \"study\" {:.1%}'.format(df_value_counts.loc[('образование', 1),'debt_count'] / (df_value_counts.loc[('образование', 1),'debt_count']+ df_value_counts.loc[('образование', 0),'debt_count'])))\n",
    "print('Percentage of clients with debt, for the purpose of a loan on category \"merrige\" {:.1%}'.format(df_value_counts.loc[('свадьба', 1),'debt_count'] / (df_value_counts.loc[('свадьба', 1),'debt_count']+ df_value_counts.loc[('свадьба', 0),'debt_count'])))\n"
   ]
  },
  {
   "cell_type": "markdown",
   "metadata": {},
   "source": [
    "**Conclusion**\n",
    "\n",
    "The search for relationships showed a weak relationship between the purpose of the loan and the presence of debt. The largest percentage of indebted clients indicated \"car\" or \"education\" as the purpose of obtaining a loan, the smallest percentage of indebted clients in the \"real estate\" category."
   ]
  },
  {
   "cell_type": "markdown",
   "metadata": {},
   "source": [
    "## General conclusion"
   ]
  },
  {
   "cell_type": "markdown",
   "metadata": {},
   "source": [
    "The presented analysis was carried out on the basis of data obtained from the data.csv table. This table contains 21525 rows and 12 columns with data such as:\n",
    "\n",
    "- `children - the number of children in the family`\n",
    "- `days_employed - work experience in days`\n",
    "- `dob_years - client's age in years`\n",
    "- `education - customer education`\n",
    "- `education_id - education ID`\n",
    "- `family_status - marital status`\n",
    "- `family_status_id - marital status identifier`\n",
    "- `gender - gender of the client`\n",
    "- `income_type - type of employment`\n",
    "- `debt - whether he had a debt to repay loans`\n",
    "- `total_income - income per month`\n",
    "- `purpose - the purpose of the loan`\n",
    "\n",
    "The primary analysis of the table showed that the number of non-zero values in the columns is different. In the column \"number of children\" there are not only positive, but also negative values, and there is also some \"anomaly\" in the distribution of the number of children. In the \"days_employed\" column, values can be not only positive, but also negative or Nan. The documentation for the table indicates that the length of service is indicated in days. However, there are values in the column that exceed the average life expectancy of a person by several times. There are zero values in the \"dob_years\" column. In the \"education\" column, the category names are written in different case. There are more than two categories in the \"gender\" column. There are Nan values in the \"total_income\" column. The \"purpose\" column requires categorization of values.\n",
    "\n",
    "\n",
    "At the initial stage of data processing, it was noted that if days_employed is Nan, then total_income is also Nan. It was hypothesized that the Nan value in the days_employed column should be considered as a lack of work experience, and for further resolution, all gaps in these columns were filled with a value of 0.\n",
    "\n",
    "\n",
    "It has been shown that the percentage of rows with a negative value in the \"children\" column is less than one percent, therefore, without establishing the reason for the occurrence of such values, without establishing patterns with other columns and values ​​\\u200b\\u200bwith which they can be replaced, rows with a negative value in the \"children\" column have been removed.\n",
    "\n",
    "\n",
    "It was found that in the gender column, there is one undefined value. This could not affect the result of the study, therefore this value was left unchanged.\n",
    "\n",
    "\n",
    "Next, the values in the \"days_employed\" and \"dob_years\" columns were examined. Obviously, the values in these columns are anomalous. However, attempts to establish patterns in order to eliminate the anomaly were unsuccessful. I am unable to correct the data, they have been removed from the study.\n",
    "\n",
    "\n",
    "The table was then checked for duplicates. 71 duplicates were found in this table. For correct operation, all duplicates were removed from the table.\n",
    "\n",
    "\n",
    "Work has been done to categorize the data by the columns \"children\", \"total_income\" and \"purpose\".\n",
    "\n",
    "\n",
    "To do this, the columns \"purpose_category\", \"total_income_category\" and \"children_category\" were created, in which one of the selected categories is recorded.\n",
    "\n",
    "Further, 4 hypotheses of the study were tested, namely:\n",
    "- There is a correlation between having children and having debts.\n",
    "- There is a relationship between marital status and debt.\n",
    "- There is a correlation between the level of income and the presence of debt.\n",
    "- There is a relationship between the purpose of obtaining a loan and the presence of debt.\n",
    "\n",
    "\n",
    "To test the hypothesis about the existence of a relationship between the fact of having children and the presence of debt, we calculated the percentage of debtors with more than one child out of the total number of clients with more than one child (9.3%), the percentage of debtors with one child out of the total number of clients with one child (9.2%) and the percentage of debtors without children from the total number of clients without children (7.5%). Based on the data obtained, it can be concluded that the probability of indebtedness among clients without children is lower than among clients with children.\n",
    "\n",
    "\n",
    "To test the hypothesis that there is a relationship between marital status and debt, the percentage of clients with debt in each of the categories was calculated and it was found that although there is some pattern between marital status and debt, however, it is not pronounced.\n",
    "\n",
    "\n",
    "To test the income-debt hypothesis, it was found that ultra-high-income clients were more than twice as likely to be indebted as low-income clients. At the same time, there is a category of clients with high income, in which the percentage of clients with debt is zero.\n",
    "\n",
    "\n",
    "To test the hypothesis about the existence of a relationship between the purpose of obtaining a loan and the presence of debt, the percentage of clients with debt in each of the categories was calculated. The largest percentage of indebted clients indicated \"car\" or \"education\" as the purpose of obtaining a loan, the smallest percentage of indebted clients in the \"real estate\" category."
   ]
  },
  {
   "cell_type": "code",
   "execution_count": null,
   "metadata": {},
   "outputs": [],
   "source": []
  }
 ],
 "metadata": {
  "ExecuteTimeLog": [
   {
    "duration": 815,
    "start_time": "2022-01-16T11:09:32.369Z"
   },
   {
    "duration": 62,
    "start_time": "2022-01-16T11:09:37.646Z"
   },
   {
    "duration": 69,
    "start_time": "2022-01-16T11:09:54.964Z"
   },
   {
    "duration": 66,
    "start_time": "2022-01-16T11:10:02.417Z"
   },
   {
    "duration": 83,
    "start_time": "2022-01-16T11:11:07.920Z"
   },
   {
    "duration": 74,
    "start_time": "2022-01-16T11:11:31.306Z"
   },
   {
    "duration": 87,
    "start_time": "2022-01-16T11:12:24.441Z"
   },
   {
    "duration": 75,
    "start_time": "2022-01-16T11:12:33.364Z"
   },
   {
    "duration": 18,
    "start_time": "2022-01-16T11:12:51.749Z"
   },
   {
    "duration": 16,
    "start_time": "2022-01-16T11:14:11.334Z"
   },
   {
    "duration": 323,
    "start_time": "2022-01-16T12:54:20.904Z"
   },
   {
    "duration": 879,
    "start_time": "2022-01-16T12:54:36.349Z"
   },
   {
    "duration": 15,
    "start_time": "2022-01-16T12:54:37.231Z"
   },
   {
    "duration": 19,
    "start_time": "2022-01-16T12:54:37.249Z"
   },
   {
    "duration": 10,
    "start_time": "2022-01-16T12:56:08.545Z"
   },
   {
    "duration": 310,
    "start_time": "2022-01-16T12:57:29.439Z"
   },
   {
    "duration": 9,
    "start_time": "2022-01-16T12:58:35.625Z"
   },
   {
    "duration": 281,
    "start_time": "2022-01-16T12:58:59.258Z"
   },
   {
    "duration": 7,
    "start_time": "2022-01-16T13:10:33.928Z"
   },
   {
    "duration": 319,
    "start_time": "2022-01-16T13:10:52.116Z"
   },
   {
    "duration": 95,
    "start_time": "2022-01-16T13:10:58.948Z"
   },
   {
    "duration": 295,
    "start_time": "2022-01-16T13:11:34.683Z"
   },
   {
    "duration": 279,
    "start_time": "2022-01-16T13:12:10.163Z"
   },
   {
    "duration": 6,
    "start_time": "2022-01-16T13:12:17.631Z"
   },
   {
    "duration": 28,
    "start_time": "2022-01-16T13:13:37.869Z"
   },
   {
    "duration": 273,
    "start_time": "2022-01-16T13:13:52.860Z"
   },
   {
    "duration": 25,
    "start_time": "2022-01-16T13:14:00.808Z"
   },
   {
    "duration": 23,
    "start_time": "2022-01-16T13:15:03.927Z"
   },
   {
    "duration": 22,
    "start_time": "2022-01-16T13:15:11.503Z"
   },
   {
    "duration": 21,
    "start_time": "2022-01-16T13:15:33.228Z"
   },
   {
    "duration": 23,
    "start_time": "2022-01-16T13:22:41.320Z"
   },
   {
    "duration": 306,
    "start_time": "2022-01-16T13:24:50.702Z"
   },
   {
    "duration": 9,
    "start_time": "2022-01-16T13:25:49.026Z"
   },
   {
    "duration": 7,
    "start_time": "2022-01-16T13:26:17.186Z"
   },
   {
    "duration": 9,
    "start_time": "2022-01-16T13:26:23.416Z"
   },
   {
    "duration": 8,
    "start_time": "2022-01-16T13:27:28.021Z"
   },
   {
    "duration": 100,
    "start_time": "2022-01-16T13:27:59.187Z"
   },
   {
    "duration": 102,
    "start_time": "2022-01-16T13:28:16.662Z"
   },
   {
    "duration": 96,
    "start_time": "2022-01-16T13:28:43.608Z"
   },
   {
    "duration": 12,
    "start_time": "2022-01-16T13:28:49.841Z"
   },
   {
    "duration": 9,
    "start_time": "2022-01-16T13:30:02.204Z"
   },
   {
    "duration": 14,
    "start_time": "2022-01-16T13:31:34.323Z"
   },
   {
    "duration": 13,
    "start_time": "2022-01-16T13:32:48.398Z"
   },
   {
    "duration": 7,
    "start_time": "2022-01-16T13:34:12.053Z"
   },
   {
    "duration": 21,
    "start_time": "2022-01-16T13:34:39.352Z"
   },
   {
    "duration": 35,
    "start_time": "2022-01-16T13:34:51.339Z"
   },
   {
    "duration": 24,
    "start_time": "2022-01-16T13:36:07.767Z"
   },
   {
    "duration": 23,
    "start_time": "2022-01-16T13:36:18.659Z"
   },
   {
    "duration": 93,
    "start_time": "2022-01-16T13:36:26.279Z"
   },
   {
    "duration": 286,
    "start_time": "2022-01-16T13:37:23.868Z"
   },
   {
    "duration": 291,
    "start_time": "2022-01-16T13:37:31.080Z"
   },
   {
    "duration": 1064,
    "start_time": "2022-01-16T13:37:38.251Z"
   },
   {
    "duration": 188,
    "start_time": "2022-01-16T13:37:58.798Z"
   },
   {
    "duration": 287,
    "start_time": "2022-01-16T13:38:03.177Z"
   },
   {
    "duration": 281,
    "start_time": "2022-01-16T13:38:47.796Z"
   },
   {
    "duration": 293,
    "start_time": "2022-01-16T13:40:33.115Z"
   },
   {
    "duration": 38,
    "start_time": "2022-01-16T13:40:44.714Z"
   },
   {
    "duration": 35,
    "start_time": "2022-01-16T13:41:20.032Z"
   },
   {
    "duration": 55,
    "start_time": "2022-01-16T13:43:37.201Z"
   },
   {
    "duration": 8,
    "start_time": "2022-01-16T13:44:02.277Z"
   },
   {
    "duration": 8,
    "start_time": "2022-01-16T13:44:27.003Z"
   },
   {
    "duration": 15,
    "start_time": "2022-01-16T13:44:34.481Z"
   },
   {
    "duration": 21,
    "start_time": "2022-01-16T13:46:58.054Z"
   },
   {
    "duration": 14,
    "start_time": "2022-01-16T13:47:46.189Z"
   },
   {
    "duration": 7,
    "start_time": "2022-01-16T13:49:50.893Z"
   },
   {
    "duration": 102,
    "start_time": "2022-01-16T13:51:16.530Z"
   },
   {
    "duration": 7,
    "start_time": "2022-01-16T13:51:21.618Z"
   },
   {
    "duration": 7,
    "start_time": "2022-01-16T13:51:34.432Z"
   },
   {
    "duration": 12,
    "start_time": "2022-01-16T13:55:38.666Z"
   },
   {
    "duration": 3,
    "start_time": "2022-01-16T13:56:06.111Z"
   },
   {
    "duration": 3,
    "start_time": "2022-01-16T13:56:08.780Z"
   },
   {
    "duration": 11,
    "start_time": "2022-01-16T13:56:12.745Z"
   },
   {
    "duration": 49,
    "start_time": "2022-01-16T13:56:30.268Z"
   },
   {
    "duration": 33,
    "start_time": "2022-01-16T13:56:50.628Z"
   },
   {
    "duration": 13,
    "start_time": "2022-01-16T13:57:02.242Z"
   },
   {
    "duration": 13,
    "start_time": "2022-01-16T13:57:20.254Z"
   },
   {
    "duration": 36,
    "start_time": "2022-01-16T13:58:09.760Z"
   },
   {
    "duration": 99,
    "start_time": "2022-01-16T13:58:58.288Z"
   },
   {
    "duration": 282,
    "start_time": "2022-01-16T13:59:04.682Z"
   },
   {
    "duration": 1066,
    "start_time": "2022-01-16T13:59:20.541Z"
   },
   {
    "duration": 12,
    "start_time": "2022-01-16T13:59:43.663Z"
   },
   {
    "duration": 34,
    "start_time": "2022-01-16T14:00:53.131Z"
   },
   {
    "duration": 12,
    "start_time": "2022-01-16T14:01:59.457Z"
   },
   {
    "duration": 309,
    "start_time": "2022-01-16T14:02:54.046Z"
   },
   {
    "duration": 11,
    "start_time": "2022-01-16T14:03:13.711Z"
   },
   {
    "duration": 11,
    "start_time": "2022-01-16T14:03:38.745Z"
   },
   {
    "duration": 10,
    "start_time": "2022-01-16T14:04:03.245Z"
   },
   {
    "duration": 17,
    "start_time": "2022-01-16T14:04:23.313Z"
   },
   {
    "duration": 15,
    "start_time": "2022-01-16T14:05:19.219Z"
   },
   {
    "duration": 11,
    "start_time": "2022-01-16T14:05:30.123Z"
   },
   {
    "duration": 10,
    "start_time": "2022-01-16T14:05:40.246Z"
   },
   {
    "duration": 9,
    "start_time": "2022-01-16T14:06:08.878Z"
   },
   {
    "duration": 9,
    "start_time": "2022-01-16T14:06:18.894Z"
   },
   {
    "duration": 8,
    "start_time": "2022-01-16T14:06:49.578Z"
   },
   {
    "duration": 11,
    "start_time": "2022-01-16T14:08:04.166Z"
   },
   {
    "duration": 12,
    "start_time": "2022-01-16T14:10:47.132Z"
   },
   {
    "duration": 8,
    "start_time": "2022-01-16T14:10:55.863Z"
   },
   {
    "duration": 283,
    "start_time": "2022-01-16T14:15:15.731Z"
   },
   {
    "duration": 10,
    "start_time": "2022-01-16T14:15:22.550Z"
   },
   {
    "duration": 12,
    "start_time": "2022-01-16T14:17:02.785Z"
   },
   {
    "duration": 21,
    "start_time": "2022-01-16T14:17:18.086Z"
   },
   {
    "duration": 18,
    "start_time": "2022-01-16T14:20:06.764Z"
   },
   {
    "duration": 22,
    "start_time": "2022-01-16T14:20:21.304Z"
   },
   {
    "duration": 6,
    "start_time": "2022-01-16T14:36:31.276Z"
   },
   {
    "duration": 13,
    "start_time": "2022-01-16T14:37:32.413Z"
   },
   {
    "duration": 26,
    "start_time": "2022-01-16T14:37:38.248Z"
   },
   {
    "duration": 18,
    "start_time": "2022-01-16T14:37:52.026Z"
   },
   {
    "duration": 35,
    "start_time": "2022-01-16T14:42:43.509Z"
   },
   {
    "duration": 44,
    "start_time": "2022-01-16T14:44:47.494Z"
   },
   {
    "duration": 64,
    "start_time": "2022-01-16T14:45:01.132Z"
   },
   {
    "duration": 60,
    "start_time": "2022-01-16T14:45:05.106Z"
   },
   {
    "duration": 22,
    "start_time": "2022-01-16T14:45:12.314Z"
   },
   {
    "duration": 48,
    "start_time": "2022-01-16T14:45:28.670Z"
   },
   {
    "duration": 54,
    "start_time": "2022-01-16T14:45:36.755Z"
   },
   {
    "duration": 63,
    "start_time": "2022-01-16T15:00:24.209Z"
   },
   {
    "duration": 91,
    "start_time": "2022-01-16T15:00:47.218Z"
   },
   {
    "duration": 67,
    "start_time": "2022-01-16T15:01:06.026Z"
   },
   {
    "duration": 59,
    "start_time": "2022-01-16T15:01:12.921Z"
   },
   {
    "duration": 62,
    "start_time": "2022-01-16T15:01:22.058Z"
   },
   {
    "duration": 64,
    "start_time": "2022-01-16T15:01:34.364Z"
   },
   {
    "duration": 51,
    "start_time": "2022-01-16T15:01:40.674Z"
   },
   {
    "duration": 93,
    "start_time": "2022-01-16T15:34:15.112Z"
   },
   {
    "duration": 17,
    "start_time": "2022-01-16T15:34:15.209Z"
   },
   {
    "duration": 64,
    "start_time": "2022-01-16T15:34:15.231Z"
   },
   {
    "duration": 21,
    "start_time": "2022-01-16T15:34:15.298Z"
   },
   {
    "duration": 63,
    "start_time": "2022-01-16T15:34:15.322Z"
   },
   {
    "duration": 339,
    "start_time": "2022-01-16T15:54:06.954Z"
   },
   {
    "duration": 298,
    "start_time": "2022-01-16T15:55:03.374Z"
   },
   {
    "duration": 85,
    "start_time": "2022-01-16T15:55:17.738Z"
   },
   {
    "duration": 14,
    "start_time": "2022-01-16T15:55:17.826Z"
   },
   {
    "duration": 48,
    "start_time": "2022-01-16T15:55:17.843Z"
   },
   {
    "duration": 20,
    "start_time": "2022-01-16T15:55:17.894Z"
   },
   {
    "duration": 82,
    "start_time": "2022-01-16T15:55:17.916Z"
   },
   {
    "duration": 302,
    "start_time": "2022-01-16T15:55:18.000Z"
   },
   {
    "duration": 428,
    "start_time": "2022-01-16T15:55:20.582Z"
   },
   {
    "duration": 133,
    "start_time": "2022-01-16T15:56:19.333Z"
   },
   {
    "duration": 1106,
    "start_time": "2022-01-16T15:56:34.737Z"
   },
   {
    "duration": 352,
    "start_time": "2022-01-16T15:58:19.673Z"
   },
   {
    "duration": 5,
    "start_time": "2022-01-16T15:58:28.258Z"
   },
   {
    "duration": 939,
    "start_time": "2022-01-16T16:00:27.101Z"
   },
   {
    "duration": 80,
    "start_time": "2022-01-16T16:00:35.681Z"
   },
   {
    "duration": 23,
    "start_time": "2022-01-16T16:00:35.763Z"
   },
   {
    "duration": 29,
    "start_time": "2022-01-16T16:00:35.790Z"
   },
   {
    "duration": 47,
    "start_time": "2022-01-16T16:00:35.822Z"
   },
   {
    "duration": 50,
    "start_time": "2022-01-16T16:00:35.873Z"
   },
   {
    "duration": 84,
    "start_time": "2022-01-16T16:01:08.440Z"
   },
   {
    "duration": 16,
    "start_time": "2022-01-16T16:01:08.527Z"
   },
   {
    "duration": 42,
    "start_time": "2022-01-16T16:01:08.547Z"
   },
   {
    "duration": 21,
    "start_time": "2022-01-16T16:01:08.592Z"
   },
   {
    "duration": 96,
    "start_time": "2022-01-16T16:01:08.615Z"
   },
   {
    "duration": 4988,
    "start_time": "2022-01-16T16:06:08.466Z"
   },
   {
    "duration": 114,
    "start_time": "2022-01-16T16:06:14.825Z"
   },
   {
    "duration": 29,
    "start_time": "2022-01-16T16:06:14.942Z"
   },
   {
    "duration": 25,
    "start_time": "2022-01-16T16:06:14.975Z"
   },
   {
    "duration": 21,
    "start_time": "2022-01-16T16:06:15.004Z"
   },
   {
    "duration": 95,
    "start_time": "2022-01-16T16:06:15.029Z"
   },
   {
    "duration": 5698,
    "start_time": "2022-01-16T16:06:33.947Z"
   },
   {
    "duration": 4102,
    "start_time": "2022-01-16T16:07:47.257Z"
   },
   {
    "duration": 113,
    "start_time": "2022-01-16T16:08:01.174Z"
   },
   {
    "duration": 15,
    "start_time": "2022-01-16T16:08:01.289Z"
   },
   {
    "duration": 22,
    "start_time": "2022-01-16T16:08:01.307Z"
   },
   {
    "duration": 54,
    "start_time": "2022-01-16T16:08:01.332Z"
   },
   {
    "duration": 47,
    "start_time": "2022-01-16T16:08:01.389Z"
   },
   {
    "duration": 5216,
    "start_time": "2022-01-16T16:08:01.439Z"
   },
   {
    "duration": 14326,
    "start_time": "2022-01-16T16:12:22.598Z"
   },
   {
    "duration": 3896,
    "start_time": "2022-01-16T16:13:37.289Z"
   },
   {
    "duration": 4234,
    "start_time": "2022-01-16T16:13:49.828Z"
   },
   {
    "duration": 4308,
    "start_time": "2022-01-16T16:14:42.096Z"
   },
   {
    "duration": 4033,
    "start_time": "2022-01-16T16:17:51.994Z"
   },
   {
    "duration": 4429,
    "start_time": "2022-01-16T16:18:05.583Z"
   },
   {
    "duration": 13179,
    "start_time": "2022-01-16T16:19:01.230Z"
   },
   {
    "duration": 3962,
    "start_time": "2022-01-16T16:19:52.026Z"
   },
   {
    "duration": 4232,
    "start_time": "2022-01-16T16:20:19.345Z"
   },
   {
    "duration": 4339,
    "start_time": "2022-01-16T16:20:38.680Z"
   },
   {
    "duration": 3972,
    "start_time": "2022-01-16T16:20:54.396Z"
   },
   {
    "duration": 105,
    "start_time": "2022-01-16T16:21:04.589Z"
   },
   {
    "duration": 15,
    "start_time": "2022-01-16T16:21:04.697Z"
   },
   {
    "duration": 20,
    "start_time": "2022-01-16T16:21:04.715Z"
   },
   {
    "duration": 55,
    "start_time": "2022-01-16T16:21:04.738Z"
   },
   {
    "duration": 44,
    "start_time": "2022-01-16T16:21:04.795Z"
   },
   {
    "duration": 5044,
    "start_time": "2022-01-16T16:21:04.841Z"
   },
   {
    "duration": 312,
    "start_time": "2022-01-16T16:23:12.191Z"
   },
   {
    "duration": 332,
    "start_time": "2022-01-16T16:23:44.077Z"
   },
   {
    "duration": 333,
    "start_time": "2022-01-16T16:24:02.740Z"
   },
   {
    "duration": 154,
    "start_time": "2022-01-16T16:25:37.560Z"
   },
   {
    "duration": 84,
    "start_time": "2022-01-16T16:25:47.517Z"
   },
   {
    "duration": 19,
    "start_time": "2022-01-16T16:25:47.604Z"
   },
   {
    "duration": 48,
    "start_time": "2022-01-16T16:25:47.636Z"
   },
   {
    "duration": 19,
    "start_time": "2022-01-16T16:25:47.687Z"
   },
   {
    "duration": 80,
    "start_time": "2022-01-16T16:25:47.708Z"
   },
   {
    "duration": 330,
    "start_time": "2022-01-16T16:25:47.790Z"
   },
   {
    "duration": 69,
    "start_time": "2022-01-16T16:38:41.229Z"
   },
   {
    "duration": 421,
    "start_time": "2022-01-16T16:40:13.799Z"
   },
   {
    "duration": 741,
    "start_time": "2022-01-16T16:41:03.363Z"
   },
   {
    "duration": 60,
    "start_time": "2022-01-16T16:41:12.394Z"
   },
   {
    "duration": 552,
    "start_time": "2022-01-16T16:42:50.993Z"
   },
   {
    "duration": 58,
    "start_time": "2022-01-16T16:45:28.694Z"
   },
   {
    "duration": 631,
    "start_time": "2022-01-16T16:45:50.609Z"
   },
   {
    "duration": 84,
    "start_time": "2022-01-16T17:35:35.840Z"
   },
   {
    "duration": 16,
    "start_time": "2022-01-16T17:35:35.927Z"
   },
   {
    "duration": 43,
    "start_time": "2022-01-16T17:35:35.947Z"
   },
   {
    "duration": 20,
    "start_time": "2022-01-16T17:35:35.993Z"
   },
   {
    "duration": 81,
    "start_time": "2022-01-16T17:35:36.016Z"
   },
   {
    "duration": 558,
    "start_time": "2022-01-16T18:03:43.843Z"
   },
   {
    "duration": 552,
    "start_time": "2022-01-16T18:04:10.644Z"
   },
   {
    "duration": 279,
    "start_time": "2022-01-16T18:05:50.810Z"
   },
   {
    "duration": 380,
    "start_time": "2022-01-16T18:06:05.479Z"
   },
   {
    "duration": 347,
    "start_time": "2022-01-16T18:06:29.689Z"
   },
   {
    "duration": 733,
    "start_time": "2022-01-16T18:06:35.734Z"
   },
   {
    "duration": 297,
    "start_time": "2022-01-16T18:08:45.427Z"
   },
   {
    "duration": 289,
    "start_time": "2022-01-16T18:08:55.563Z"
   },
   {
    "duration": 6087,
    "start_time": "2022-01-16T18:09:18.451Z"
   },
   {
    "duration": 3992,
    "start_time": "2022-01-16T18:09:55.952Z"
   },
   {
    "duration": 3828,
    "start_time": "2022-01-16T18:10:16.603Z"
   },
   {
    "duration": 3997,
    "start_time": "2022-01-16T18:11:26.357Z"
   },
   {
    "duration": 4529,
    "start_time": "2022-01-16T18:13:57.506Z"
   },
   {
    "duration": 3666,
    "start_time": "2022-01-16T18:14:09.154Z"
   },
   {
    "duration": 3704,
    "start_time": "2022-01-16T18:26:10.317Z"
   },
   {
    "duration": 3688,
    "start_time": "2022-01-16T18:26:48.199Z"
   },
   {
    "duration": 7,
    "start_time": "2022-01-16T18:27:56.936Z"
   },
   {
    "duration": 3795,
    "start_time": "2022-01-16T18:28:07.429Z"
   },
   {
    "duration": 4,
    "start_time": "2022-01-16T18:28:20.340Z"
   },
   {
    "duration": 4097,
    "start_time": "2022-01-16T18:30:29.251Z"
   },
   {
    "duration": 7,
    "start_time": "2022-01-16T18:30:36.986Z"
   },
   {
    "duration": 92,
    "start_time": "2022-01-16T18:57:09.652Z"
   },
   {
    "duration": 330,
    "start_time": "2022-01-16T18:57:18.298Z"
   },
   {
    "duration": 303,
    "start_time": "2022-01-16T18:58:09.116Z"
   },
   {
    "duration": 4192,
    "start_time": "2022-01-16T19:00:04.222Z"
   },
   {
    "duration": 7,
    "start_time": "2022-01-16T19:00:12.061Z"
   },
   {
    "duration": 3874,
    "start_time": "2022-01-16T19:11:04.281Z"
   },
   {
    "duration": 291,
    "start_time": "2022-01-16T19:11:14.833Z"
   },
   {
    "duration": 3751,
    "start_time": "2022-01-16T19:11:32.053Z"
   },
   {
    "duration": 285,
    "start_time": "2022-01-16T19:11:37.677Z"
   },
   {
    "duration": 86,
    "start_time": "2022-01-16T19:33:32.243Z"
   },
   {
    "duration": 34,
    "start_time": "2022-01-16T19:33:32.333Z"
   },
   {
    "duration": 22,
    "start_time": "2022-01-16T19:33:32.371Z"
   },
   {
    "duration": 27,
    "start_time": "2022-01-16T19:33:32.396Z"
   },
   {
    "duration": 78,
    "start_time": "2022-01-16T19:33:32.426Z"
   },
   {
    "duration": 5307,
    "start_time": "2022-01-16T19:33:32.507Z"
   },
   {
    "duration": 4493,
    "start_time": "2022-01-16T19:35:39.038Z"
   },
   {
    "duration": 306,
    "start_time": "2022-01-16T19:35:43.534Z"
   },
   {
    "duration": 637,
    "start_time": "2022-01-16T19:36:13.437Z"
   },
   {
    "duration": 3961,
    "start_time": "2022-01-16T19:36:38.238Z"
   },
   {
    "duration": 10,
    "start_time": "2022-01-16T19:36:42.203Z"
   },
   {
    "duration": 9,
    "start_time": "2022-01-16T19:47:23.027Z"
   },
   {
    "duration": 3706,
    "start_time": "2022-01-16T19:52:04.644Z"
   },
   {
    "duration": 22,
    "start_time": "2022-01-16T19:52:08.352Z"
   },
   {
    "duration": 10,
    "start_time": "2022-01-16T19:52:17.395Z"
   },
   {
    "duration": 3752,
    "start_time": "2022-01-16T19:52:25.742Z"
   },
   {
    "duration": 6,
    "start_time": "2022-01-16T19:52:29.497Z"
   },
   {
    "duration": 3761,
    "start_time": "2022-01-16T19:52:58.486Z"
   },
   {
    "duration": 17,
    "start_time": "2022-01-16T19:53:02.250Z"
   },
   {
    "duration": 1197,
    "start_time": "2022-01-17T07:46:29.801Z"
   },
   {
    "duration": 12,
    "start_time": "2022-01-17T07:46:31.000Z"
   },
   {
    "duration": 31,
    "start_time": "2022-01-17T07:46:31.014Z"
   },
   {
    "duration": 12,
    "start_time": "2022-01-17T07:46:31.048Z"
   },
   {
    "duration": 29,
    "start_time": "2022-01-17T07:46:31.062Z"
   },
   {
    "duration": 3146,
    "start_time": "2022-01-17T07:46:31.092Z"
   },
   {
    "duration": 12,
    "start_time": "2022-01-17T07:48:13.191Z"
   },
   {
    "duration": 2423,
    "start_time": "2022-01-17T07:51:27.129Z"
   },
   {
    "duration": 2721,
    "start_time": "2022-01-17T07:52:31.346Z"
   },
   {
    "duration": 2410,
    "start_time": "2022-01-17T07:52:43.748Z"
   },
   {
    "duration": 2493,
    "start_time": "2022-01-17T07:54:05.508Z"
   },
   {
    "duration": 12,
    "start_time": "2022-01-17T07:54:38.556Z"
   },
   {
    "duration": 6,
    "start_time": "2022-01-17T08:36:18.619Z"
   },
   {
    "duration": 10,
    "start_time": "2022-01-17T08:36:23.690Z"
   },
   {
    "duration": 6,
    "start_time": "2022-01-17T08:36:27.370Z"
   },
   {
    "duration": 5178,
    "start_time": "2022-01-17T08:39:57.320Z"
   },
   {
    "duration": 5080,
    "start_time": "2022-01-17T08:40:03.174Z"
   },
   {
    "duration": 928,
    "start_time": "2022-01-17T08:40:45.832Z"
   },
   {
    "duration": 182,
    "start_time": "2022-01-17T08:48:58.687Z"
   },
   {
    "duration": 2,
    "start_time": "2022-01-17T08:49:06.036Z"
   },
   {
    "duration": 3,
    "start_time": "2022-01-17T08:49:18.675Z"
   },
   {
    "duration": 3,
    "start_time": "2022-01-17T08:49:33.088Z"
   },
   {
    "duration": 191,
    "start_time": "2022-01-17T08:51:19.126Z"
   },
   {
    "duration": 175,
    "start_time": "2022-01-17T08:54:47.730Z"
   },
   {
    "duration": 183,
    "start_time": "2022-01-17T09:33:05.992Z"
   },
   {
    "duration": 6,
    "start_time": "2022-01-17T09:33:32.134Z"
   },
   {
    "duration": 4,
    "start_time": "2022-01-17T09:33:38.063Z"
   },
   {
    "duration": 3,
    "start_time": "2022-01-17T09:35:15.461Z"
   },
   {
    "duration": 2361,
    "start_time": "2022-01-17T09:35:25.676Z"
   },
   {
    "duration": 4,
    "start_time": "2022-01-17T09:36:32.610Z"
   },
   {
    "duration": 58,
    "start_time": "2022-01-17T09:37:01.914Z"
   },
   {
    "duration": 63,
    "start_time": "2022-01-17T09:38:00.905Z"
   },
   {
    "duration": 59,
    "start_time": "2022-01-17T09:42:47.580Z"
   },
   {
    "duration": 4,
    "start_time": "2022-01-17T09:43:00.501Z"
   },
   {
    "duration": 64,
    "start_time": "2022-01-17T09:43:16.858Z"
   },
   {
    "duration": 56,
    "start_time": "2022-01-17T09:43:34.813Z"
   },
   {
    "duration": 69,
    "start_time": "2022-01-17T09:47:05.103Z"
   },
   {
    "duration": 1607,
    "start_time": "2022-01-17T13:32:53.098Z"
   },
   {
    "duration": 16,
    "start_time": "2022-01-17T13:32:54.709Z"
   },
   {
    "duration": 42,
    "start_time": "2022-01-17T13:32:54.728Z"
   },
   {
    "duration": 28,
    "start_time": "2022-01-17T13:32:54.773Z"
   },
   {
    "duration": 72,
    "start_time": "2022-01-17T13:32:54.805Z"
   },
   {
    "duration": 961,
    "start_time": "2022-01-17T13:32:54.880Z"
   },
   {
    "duration": 18,
    "start_time": "2022-01-17T13:33:20.093Z"
   },
   {
    "duration": 525,
    "start_time": "2022-01-17T13:33:22.782Z"
   },
   {
    "duration": 109,
    "start_time": "2022-01-17T13:33:34.352Z"
   },
   {
    "duration": 15,
    "start_time": "2022-01-17T13:33:34.463Z"
   },
   {
    "duration": 20,
    "start_time": "2022-01-17T13:33:34.482Z"
   },
   {
    "duration": 19,
    "start_time": "2022-01-17T13:33:34.505Z"
   },
   {
    "duration": 81,
    "start_time": "2022-01-17T13:33:34.526Z"
   },
   {
    "duration": 1041,
    "start_time": "2022-01-17T13:33:34.610Z"
   },
   {
    "duration": 148,
    "start_time": "2022-01-17T13:33:35.654Z"
   },
   {
    "duration": 117,
    "start_time": "2022-01-17T17:41:30.735Z"
   },
   {
    "duration": 17,
    "start_time": "2022-01-17T17:41:30.856Z"
   },
   {
    "duration": 21,
    "start_time": "2022-01-17T17:41:30.877Z"
   },
   {
    "duration": 19,
    "start_time": "2022-01-17T17:41:30.902Z"
   },
   {
    "duration": 78,
    "start_time": "2022-01-17T17:41:30.924Z"
   },
   {
    "duration": 1142,
    "start_time": "2022-01-17T17:41:31.005Z"
   },
   {
    "duration": 101,
    "start_time": "2022-01-17T17:41:32.150Z"
   },
   {
    "duration": 18,
    "start_time": "2022-01-17T17:45:40.816Z"
   },
   {
    "duration": 93,
    "start_time": "2022-01-17T17:45:44.000Z"
   },
   {
    "duration": 96,
    "start_time": "2022-01-17T17:46:29.955Z"
   },
   {
    "duration": 104,
    "start_time": "2022-01-17T17:46:49.626Z"
   },
   {
    "duration": 90,
    "start_time": "2022-01-17T17:47:06.291Z"
   },
   {
    "duration": 95,
    "start_time": "2022-01-17T17:47:14.468Z"
   },
   {
    "duration": 6,
    "start_time": "2022-01-17T17:47:28.131Z"
   },
   {
    "duration": 8,
    "start_time": "2022-01-17T17:49:05.851Z"
   },
   {
    "duration": 10,
    "start_time": "2022-01-17T17:49:12.943Z"
   },
   {
    "duration": 447,
    "start_time": "2022-01-17T17:57:39.387Z"
   },
   {
    "duration": 419,
    "start_time": "2022-01-17T17:59:35.669Z"
   },
   {
    "duration": 402,
    "start_time": "2022-01-17T18:00:47.358Z"
   },
   {
    "duration": 441,
    "start_time": "2022-01-17T18:01:05.957Z"
   },
   {
    "duration": 417,
    "start_time": "2022-01-17T18:02:19.351Z"
   },
   {
    "duration": 16,
    "start_time": "2022-01-17T18:09:16.810Z"
   },
   {
    "duration": 392,
    "start_time": "2022-01-17T18:09:55.209Z"
   },
   {
    "duration": 398,
    "start_time": "2022-01-17T18:10:05.829Z"
   },
   {
    "duration": 429,
    "start_time": "2022-01-17T18:12:24.588Z"
   },
   {
    "duration": 405,
    "start_time": "2022-01-17T18:12:47.515Z"
   },
   {
    "duration": 391,
    "start_time": "2022-01-17T18:15:22.991Z"
   },
   {
    "duration": 46,
    "start_time": "2022-01-17T18:15:51.353Z"
   },
   {
    "duration": 19,
    "start_time": "2022-01-17T18:16:00.956Z"
   },
   {
    "duration": 114,
    "start_time": "2022-01-17T18:16:15.594Z"
   },
   {
    "duration": 16,
    "start_time": "2022-01-17T18:16:21.777Z"
   },
   {
    "duration": 6977,
    "start_time": "2022-01-17T18:18:24.152Z"
   },
   {
    "duration": 6875,
    "start_time": "2022-01-17T18:18:58.592Z"
   },
   {
    "duration": 4981,
    "start_time": "2022-01-17T18:19:37.933Z"
   },
   {
    "duration": 414,
    "start_time": "2022-01-17T18:20:08.538Z"
   },
   {
    "duration": 5801,
    "start_time": "2022-01-17T18:20:26.323Z"
   },
   {
    "duration": 11,
    "start_time": "2022-01-17T18:21:13.804Z"
   },
   {
    "duration": 12,
    "start_time": "2022-01-17T18:21:23.554Z"
   },
   {
    "duration": 405,
    "start_time": "2022-01-17T18:21:31.696Z"
   },
   {
    "duration": 421,
    "start_time": "2022-01-17T18:21:55.733Z"
   },
   {
    "duration": 9,
    "start_time": "2022-01-17T18:22:01.331Z"
   },
   {
    "duration": 82,
    "start_time": "2022-01-17T20:40:44.620Z"
   },
   {
    "duration": 15,
    "start_time": "2022-01-17T20:40:44.705Z"
   },
   {
    "duration": 44,
    "start_time": "2022-01-17T20:40:44.722Z"
   },
   {
    "duration": 20,
    "start_time": "2022-01-17T20:40:44.769Z"
   },
   {
    "duration": 43,
    "start_time": "2022-01-17T20:40:44.791Z"
   },
   {
    "duration": 936,
    "start_time": "2022-01-17T20:40:44.836Z"
   },
   {
    "duration": 415,
    "start_time": "2022-01-17T20:40:45.774Z"
   },
   {
    "duration": 13,
    "start_time": "2022-01-17T20:40:46.193Z"
   },
   {
    "duration": 369,
    "start_time": "2022-01-17T21:10:14.788Z"
   },
   {
    "duration": 12,
    "start_time": "2022-01-17T21:10:41.014Z"
   },
   {
    "duration": 11,
    "start_time": "2022-01-17T21:11:47.824Z"
   },
   {
    "duration": 12,
    "start_time": "2022-01-17T21:12:05.285Z"
   },
   {
    "duration": 11,
    "start_time": "2022-01-17T21:12:28.187Z"
   },
   {
    "duration": 8,
    "start_time": "2022-01-17T21:14:03.261Z"
   },
   {
    "duration": 120,
    "start_time": "2022-01-17T21:14:19.192Z"
   },
   {
    "duration": 372,
    "start_time": "2022-01-17T21:14:36.792Z"
   },
   {
    "duration": 9,
    "start_time": "2022-01-17T21:14:40.128Z"
   },
   {
    "duration": 8,
    "start_time": "2022-01-17T21:14:58.124Z"
   },
   {
    "duration": 387,
    "start_time": "2022-01-17T21:15:13.732Z"
   },
   {
    "duration": 18,
    "start_time": "2022-01-17T21:28:18.943Z"
   },
   {
    "duration": 386,
    "start_time": "2022-01-17T21:29:07.624Z"
   },
   {
    "duration": 10,
    "start_time": "2022-01-17T21:29:19.565Z"
   },
   {
    "duration": 400,
    "start_time": "2022-01-17T21:30:52.366Z"
   },
   {
    "duration": 300,
    "start_time": "2022-01-17T21:33:40.142Z"
   },
   {
    "duration": 280,
    "start_time": "2022-01-17T21:33:56.500Z"
   },
   {
    "duration": 312,
    "start_time": "2022-01-17T21:34:13.914Z"
   },
   {
    "duration": 303,
    "start_time": "2022-01-17T21:34:19.072Z"
   },
   {
    "duration": 98,
    "start_time": "2022-01-17T21:34:27.731Z"
   },
   {
    "duration": 293,
    "start_time": "2022-01-17T21:34:31.638Z"
   },
   {
    "duration": 293,
    "start_time": "2022-01-17T21:34:57.693Z"
   },
   {
    "duration": 10,
    "start_time": "2022-01-17T21:35:07.600Z"
   },
   {
    "duration": 11,
    "start_time": "2022-01-17T21:35:17.828Z"
   },
   {
    "duration": 293,
    "start_time": "2022-01-17T21:35:51.186Z"
   },
   {
    "duration": 10,
    "start_time": "2022-01-17T21:36:22.482Z"
   },
   {
    "duration": 9,
    "start_time": "2022-01-17T21:36:40.704Z"
   },
   {
    "duration": 11,
    "start_time": "2022-01-17T21:37:44.915Z"
   },
   {
    "duration": 283,
    "start_time": "2022-01-17T21:38:38.043Z"
   },
   {
    "duration": 9332,
    "start_time": "2022-01-17T21:38:47.661Z"
   },
   {
    "duration": 5,
    "start_time": "2022-01-17T21:39:09.924Z"
   },
   {
    "duration": 6603,
    "start_time": "2022-01-17T21:39:12.169Z"
   },
   {
    "duration": 297,
    "start_time": "2022-01-17T21:40:39.098Z"
   },
   {
    "duration": 285,
    "start_time": "2022-01-17T21:40:57.890Z"
   },
   {
    "duration": 6,
    "start_time": "2022-01-17T21:41:03.964Z"
   },
   {
    "duration": 9,
    "start_time": "2022-01-17T21:41:20.698Z"
   },
   {
    "duration": 284,
    "start_time": "2022-01-17T21:41:36.864Z"
   },
   {
    "duration": 7,
    "start_time": "2022-01-17T21:41:49.655Z"
   },
   {
    "duration": 3600,
    "start_time": "2022-01-17T21:43:32.218Z"
   },
   {
    "duration": 11,
    "start_time": "2022-01-17T21:43:54.137Z"
   },
   {
    "duration": 101,
    "start_time": "2022-01-17T21:44:15.042Z"
   },
   {
    "duration": 9,
    "start_time": "2022-01-17T21:44:19.818Z"
   },
   {
    "duration": 11,
    "start_time": "2022-01-17T21:44:26.275Z"
   },
   {
    "duration": 8,
    "start_time": "2022-01-17T21:47:37.672Z"
   },
   {
    "duration": 9,
    "start_time": "2022-01-17T21:47:41.958Z"
   },
   {
    "duration": 11,
    "start_time": "2022-01-17T21:48:10.276Z"
   },
   {
    "duration": 410,
    "start_time": "2022-01-17T21:48:39.527Z"
   },
   {
    "duration": 33,
    "start_time": "2022-01-17T21:58:32.871Z"
   },
   {
    "duration": 392,
    "start_time": "2022-01-17T21:58:45.528Z"
   },
   {
    "duration": 384,
    "start_time": "2022-01-17T22:00:27.403Z"
   },
   {
    "duration": 1017,
    "start_time": "2022-01-17T22:02:02.013Z"
   },
   {
    "duration": 646,
    "start_time": "2022-01-17T22:02:42.422Z"
   },
   {
    "duration": 649,
    "start_time": "2022-01-17T22:05:10.326Z"
   },
   {
    "duration": 21,
    "start_time": "2022-01-17T22:06:05.772Z"
   },
   {
    "duration": 770,
    "start_time": "2022-01-17T22:06:14.332Z"
   },
   {
    "duration": 690,
    "start_time": "2022-01-17T22:06:33.592Z"
   },
   {
    "duration": 674,
    "start_time": "2022-01-17T22:07:12.515Z"
   },
   {
    "duration": 674,
    "start_time": "2022-01-17T22:09:05.848Z"
   },
   {
    "duration": 718,
    "start_time": "2022-01-17T22:09:25.732Z"
   },
   {
    "duration": 348,
    "start_time": "2022-01-17T22:09:40.252Z"
   },
   {
    "duration": 348,
    "start_time": "2022-01-17T22:10:44.655Z"
   },
   {
    "duration": 384,
    "start_time": "2022-01-17T22:10:57.061Z"
   },
   {
    "duration": 42,
    "start_time": "2022-01-17T22:11:48.433Z"
   },
   {
    "duration": 300,
    "start_time": "2022-01-17T22:11:56.603Z"
   },
   {
    "duration": 46,
    "start_time": "2022-01-17T22:12:17.755Z"
   },
   {
    "duration": 43,
    "start_time": "2022-01-17T22:12:32.400Z"
   },
   {
    "duration": 35,
    "start_time": "2022-01-17T22:12:57.960Z"
   },
   {
    "duration": 39,
    "start_time": "2022-01-17T22:13:16.651Z"
   },
   {
    "duration": 330,
    "start_time": "2022-01-17T22:13:53.849Z"
   },
   {
    "duration": 306,
    "start_time": "2022-01-17T22:13:58.734Z"
   },
   {
    "duration": 310,
    "start_time": "2022-01-17T22:14:11.953Z"
   },
   {
    "duration": 35,
    "start_time": "2022-01-17T22:14:19.959Z"
   },
   {
    "duration": 33,
    "start_time": "2022-01-17T22:15:05.292Z"
   },
   {
    "duration": 32,
    "start_time": "2022-01-17T22:15:38.858Z"
   },
   {
    "duration": 32,
    "start_time": "2022-01-17T22:16:20.760Z"
   },
   {
    "duration": 47,
    "start_time": "2022-01-17T22:16:45.822Z"
   },
   {
    "duration": 44,
    "start_time": "2022-01-17T22:17:08.124Z"
   },
   {
    "duration": 96,
    "start_time": "2022-01-17T22:17:24.594Z"
   },
   {
    "duration": 44,
    "start_time": "2022-01-17T22:17:29.944Z"
   },
   {
    "duration": 45,
    "start_time": "2022-01-17T22:18:00.897Z"
   },
   {
    "duration": 44,
    "start_time": "2022-01-17T22:19:47.695Z"
   },
   {
    "duration": 124,
    "start_time": "2022-01-17T22:19:55.703Z"
   },
   {
    "duration": 299,
    "start_time": "2022-01-17T22:19:59.539Z"
   },
   {
    "duration": 44,
    "start_time": "2022-01-17T22:20:12.281Z"
   },
   {
    "duration": 45,
    "start_time": "2022-01-17T22:21:01.420Z"
   },
   {
    "duration": 47,
    "start_time": "2022-01-17T22:21:17.112Z"
   },
   {
    "duration": 50,
    "start_time": "2022-01-17T22:22:10.619Z"
   },
   {
    "duration": 51,
    "start_time": "2022-01-17T22:23:04.713Z"
   },
   {
    "duration": 46,
    "start_time": "2022-01-17T22:23:09.408Z"
   },
   {
    "duration": 56,
    "start_time": "2022-01-17T22:23:58.365Z"
   },
   {
    "duration": 337,
    "start_time": "2022-01-17T22:24:20.221Z"
   },
   {
    "duration": 53,
    "start_time": "2022-01-17T22:25:33.288Z"
   },
   {
    "duration": 57,
    "start_time": "2022-01-17T22:26:10.393Z"
   },
   {
    "duration": 61,
    "start_time": "2022-01-17T22:26:25.267Z"
   },
   {
    "duration": 44,
    "start_time": "2022-01-17T22:26:56.875Z"
   },
   {
    "duration": 46,
    "start_time": "2022-01-17T22:28:47.404Z"
   },
   {
    "duration": 47,
    "start_time": "2022-01-17T22:28:59.321Z"
   },
   {
    "duration": 57,
    "start_time": "2022-01-17T22:29:02.599Z"
   },
   {
    "duration": 55,
    "start_time": "2022-01-17T22:30:12.212Z"
   },
   {
    "duration": 45,
    "start_time": "2022-01-17T22:31:27.913Z"
   },
   {
    "duration": 57,
    "start_time": "2022-01-17T22:32:02.287Z"
   },
   {
    "duration": 47,
    "start_time": "2022-01-17T22:32:07.334Z"
   },
   {
    "duration": 48,
    "start_time": "2022-01-17T22:33:00.337Z"
   },
   {
    "duration": 39,
    "start_time": "2022-01-17T22:33:27.314Z"
   },
   {
    "duration": 308,
    "start_time": "2022-01-17T22:33:49.917Z"
   },
   {
    "duration": 309,
    "start_time": "2022-01-17T22:34:04.019Z"
   },
   {
    "duration": 55,
    "start_time": "2022-01-17T22:34:14.373Z"
   },
   {
    "duration": 43,
    "start_time": "2022-01-17T22:34:26.133Z"
   },
   {
    "duration": 40,
    "start_time": "2022-01-17T22:35:42.086Z"
   },
   {
    "duration": 62,
    "start_time": "2022-01-17T22:36:16.592Z"
   },
   {
    "duration": 45,
    "start_time": "2022-01-17T22:38:20.383Z"
   },
   {
    "duration": 39,
    "start_time": "2022-01-17T22:39:03.809Z"
   },
   {
    "duration": 40,
    "start_time": "2022-01-17T22:39:44.414Z"
   },
   {
    "duration": 101,
    "start_time": "2022-01-17T22:39:50.348Z"
   },
   {
    "duration": 41,
    "start_time": "2022-01-17T22:39:55.373Z"
   },
   {
    "duration": 38,
    "start_time": "2022-01-17T22:41:34.168Z"
   },
   {
    "duration": 39,
    "start_time": "2022-01-17T22:48:39.310Z"
   },
   {
    "duration": 377,
    "start_time": "2022-01-18T07:44:13.324Z"
   },
   {
    "duration": 1297,
    "start_time": "2022-01-18T07:44:37.569Z"
   },
   {
    "duration": 9,
    "start_time": "2022-01-18T07:44:38.868Z"
   },
   {
    "duration": 13,
    "start_time": "2022-01-18T07:44:38.879Z"
   },
   {
    "duration": 46,
    "start_time": "2022-01-18T07:44:38.894Z"
   },
   {
    "duration": 29,
    "start_time": "2022-01-18T07:44:38.941Z"
   },
   {
    "duration": 670,
    "start_time": "2022-01-18T07:44:38.973Z"
   },
   {
    "duration": 238,
    "start_time": "2022-01-18T07:44:39.645Z"
   },
   {
    "duration": 8,
    "start_time": "2022-01-18T07:44:39.884Z"
   },
   {
    "duration": 106,
    "start_time": "2022-01-18T07:44:39.894Z"
   },
   {
    "duration": 23,
    "start_time": "2022-01-18T07:44:50.174Z"
   },
   {
    "duration": 18,
    "start_time": "2022-01-18T07:45:23.312Z"
   },
   {
    "duration": 72,
    "start_time": "2022-01-18T07:45:29.647Z"
   },
   {
    "duration": 10,
    "start_time": "2022-01-18T07:45:29.720Z"
   },
   {
    "duration": 12,
    "start_time": "2022-01-18T07:45:29.732Z"
   },
   {
    "duration": 29,
    "start_time": "2022-01-18T07:45:29.746Z"
   },
   {
    "duration": 15,
    "start_time": "2022-01-18T07:45:29.776Z"
   },
   {
    "duration": 145,
    "start_time": "2022-01-18T07:46:48.427Z"
   },
   {
    "duration": 28,
    "start_time": "2022-01-18T07:47:05.906Z"
   },
   {
    "duration": 27,
    "start_time": "2022-01-18T07:47:25.151Z"
   },
   {
    "duration": 55,
    "start_time": "2022-01-18T07:47:40.860Z"
   },
   {
    "duration": 8,
    "start_time": "2022-01-18T07:47:40.917Z"
   },
   {
    "duration": 16,
    "start_time": "2022-01-18T07:47:40.928Z"
   },
   {
    "duration": 27,
    "start_time": "2022-01-18T07:47:40.946Z"
   },
   {
    "duration": 28,
    "start_time": "2022-01-18T07:47:40.974Z"
   },
   {
    "duration": 657,
    "start_time": "2022-01-18T07:47:41.004Z"
   },
   {
    "duration": 239,
    "start_time": "2022-01-18T07:47:41.663Z"
   },
   {
    "duration": 8,
    "start_time": "2022-01-18T07:47:41.905Z"
   },
   {
    "duration": 115,
    "start_time": "2022-01-18T07:47:41.914Z"
   },
   {
    "duration": 596,
    "start_time": "2022-01-18T07:49:41.873Z"
   },
   {
    "duration": 500,
    "start_time": "2022-01-18T07:50:12.495Z"
   },
   {
    "duration": 124,
    "start_time": "2022-01-18T07:56:02.617Z"
   },
   {
    "duration": 8783,
    "start_time": "2022-01-18T07:56:10.030Z"
   },
   {
    "duration": 8813,
    "start_time": "2022-01-18T07:56:43.607Z"
   },
   {
    "duration": 234,
    "start_time": "2022-01-18T07:57:09.025Z"
   },
   {
    "duration": 236,
    "start_time": "2022-01-18T07:57:21.646Z"
   },
   {
    "duration": 232,
    "start_time": "2022-01-18T07:57:53.707Z"
   },
   {
    "duration": 229,
    "start_time": "2022-01-18T07:58:08.660Z"
   },
   {
    "duration": 7,
    "start_time": "2022-01-18T08:00:37.298Z"
   },
   {
    "duration": 10,
    "start_time": "2022-01-18T08:01:12.525Z"
   },
   {
    "duration": 6,
    "start_time": "2022-01-18T08:01:25.044Z"
   },
   {
    "duration": 5,
    "start_time": "2022-01-18T08:01:39.357Z"
   },
   {
    "duration": 5,
    "start_time": "2022-01-18T08:02:34.044Z"
   },
   {
    "duration": 7,
    "start_time": "2022-01-18T08:03:22.072Z"
   },
   {
    "duration": 8,
    "start_time": "2022-01-18T08:03:31.830Z"
   },
   {
    "duration": 5,
    "start_time": "2022-01-18T08:03:35.926Z"
   },
   {
    "duration": 6,
    "start_time": "2022-01-18T08:03:45.343Z"
   },
   {
    "duration": 1613,
    "start_time": "2022-01-18T08:04:04.805Z"
   },
   {
    "duration": 7,
    "start_time": "2022-01-18T08:04:15.491Z"
   },
   {
    "duration": 6,
    "start_time": "2022-01-18T08:04:47.340Z"
   },
   {
    "duration": 6,
    "start_time": "2022-01-18T08:05:11.750Z"
   },
   {
    "duration": 6,
    "start_time": "2022-01-18T08:05:17.564Z"
   },
   {
    "duration": 6,
    "start_time": "2022-01-18T08:05:29.115Z"
   },
   {
    "duration": 7,
    "start_time": "2022-01-18T08:05:39.070Z"
   },
   {
    "duration": 6,
    "start_time": "2022-01-18T08:06:07.693Z"
   },
   {
    "duration": 6,
    "start_time": "2022-01-18T08:06:25.687Z"
   },
   {
    "duration": 6,
    "start_time": "2022-01-18T08:06:45.366Z"
   },
   {
    "duration": 6,
    "start_time": "2022-01-18T08:06:55.085Z"
   },
   {
    "duration": 6,
    "start_time": "2022-01-18T08:07:07.591Z"
   },
   {
    "duration": 6,
    "start_time": "2022-01-18T08:07:27.915Z"
   },
   {
    "duration": 5,
    "start_time": "2022-01-18T08:07:37.109Z"
   },
   {
    "duration": 7,
    "start_time": "2022-01-18T08:07:52.679Z"
   },
   {
    "duration": 355,
    "start_time": "2022-01-18T08:08:16.746Z"
   },
   {
    "duration": 7,
    "start_time": "2022-01-18T08:08:23.536Z"
   },
   {
    "duration": 6,
    "start_time": "2022-01-18T08:09:13.121Z"
   },
   {
    "duration": 6,
    "start_time": "2022-01-18T08:09:46.641Z"
   },
   {
    "duration": 7,
    "start_time": "2022-01-18T08:09:55.786Z"
   },
   {
    "duration": 6,
    "start_time": "2022-01-18T08:11:16.496Z"
   },
   {
    "duration": 760,
    "start_time": "2022-01-18T08:15:03.616Z"
   },
   {
    "duration": 373,
    "start_time": "2022-01-18T08:15:33.426Z"
   },
   {
    "duration": 329,
    "start_time": "2022-01-18T08:26:57.471Z"
   },
   {
    "duration": 338,
    "start_time": "2022-01-18T08:27:08.677Z"
   },
   {
    "duration": 461,
    "start_time": "2022-01-18T08:28:49.659Z"
   },
   {
    "duration": 333,
    "start_time": "2022-01-18T08:28:59.424Z"
   },
   {
    "duration": 353,
    "start_time": "2022-01-18T08:29:38.894Z"
   },
   {
    "duration": 17,
    "start_time": "2022-01-18T08:29:42.761Z"
   },
   {
    "duration": 6,
    "start_time": "2022-01-18T08:29:56.448Z"
   },
   {
    "duration": 6,
    "start_time": "2022-01-18T08:31:15.699Z"
   },
   {
    "duration": 10,
    "start_time": "2022-01-18T08:31:26.980Z"
   },
   {
    "duration": 70,
    "start_time": "2022-01-18T08:31:41.528Z"
   },
   {
    "duration": 8,
    "start_time": "2022-01-18T08:31:41.600Z"
   },
   {
    "duration": 19,
    "start_time": "2022-01-18T08:31:41.610Z"
   },
   {
    "duration": 8748,
    "start_time": "2022-01-18T08:31:41.630Z"
   },
   {
    "duration": -9,
    "start_time": "2022-01-18T08:31:50.389Z"
   },
   {
    "duration": -11,
    "start_time": "2022-01-18T08:31:50.392Z"
   },
   {
    "duration": -12,
    "start_time": "2022-01-18T08:31:50.394Z"
   },
   {
    "duration": -13,
    "start_time": "2022-01-18T08:31:50.396Z"
   },
   {
    "duration": -14,
    "start_time": "2022-01-18T08:31:50.398Z"
   },
   {
    "duration": -18,
    "start_time": "2022-01-18T08:31:50.403Z"
   },
   {
    "duration": 9,
    "start_time": "2022-01-18T08:32:29.045Z"
   },
   {
    "duration": 7,
    "start_time": "2022-01-18T08:32:46.833Z"
   },
   {
    "duration": 34,
    "start_time": "2022-01-18T08:36:13.430Z"
   },
   {
    "duration": 55,
    "start_time": "2022-01-18T08:36:30.172Z"
   },
   {
    "duration": 10,
    "start_time": "2022-01-18T08:36:30.228Z"
   },
   {
    "duration": 13,
    "start_time": "2022-01-18T08:36:30.239Z"
   },
   {
    "duration": 6,
    "start_time": "2022-01-18T08:36:30.253Z"
   },
   {
    "duration": 504,
    "start_time": "2022-01-18T08:36:30.260Z"
   },
   {
    "duration": 29,
    "start_time": "2022-01-18T08:36:33.876Z"
   },
   {
    "duration": 7,
    "start_time": "2022-01-18T08:37:21.708Z"
   },
   {
    "duration": 7,
    "start_time": "2022-01-18T08:37:57.995Z"
   },
   {
    "duration": 6392,
    "start_time": "2022-01-18T08:38:00.100Z"
   },
   {
    "duration": 7582,
    "start_time": "2022-01-18T08:38:28.679Z"
   },
   {
    "duration": 6,
    "start_time": "2022-01-18T08:38:43.092Z"
   },
   {
    "duration": 8,
    "start_time": "2022-01-18T08:39:01.050Z"
   },
   {
    "duration": 6,
    "start_time": "2022-01-18T08:39:10.625Z"
   },
   {
    "duration": 340,
    "start_time": "2022-01-18T08:39:57.784Z"
   },
   {
    "duration": 7,
    "start_time": "2022-01-18T08:40:06.279Z"
   },
   {
    "duration": 7,
    "start_time": "2022-01-18T08:41:27.508Z"
   },
   {
    "duration": 105,
    "start_time": "2022-01-18T08:41:38.508Z"
   },
   {
    "duration": 238,
    "start_time": "2022-01-18T08:41:48.722Z"
   },
   {
    "duration": 13,
    "start_time": "2022-01-18T08:41:59.225Z"
   },
   {
    "duration": 10,
    "start_time": "2022-01-18T08:45:54.230Z"
   },
   {
    "duration": 7,
    "start_time": "2022-01-18T08:46:02.726Z"
   },
   {
    "duration": 7,
    "start_time": "2022-01-18T08:46:07.715Z"
   },
   {
    "duration": 58,
    "start_time": "2022-01-18T08:46:21.361Z"
   },
   {
    "duration": 9,
    "start_time": "2022-01-18T08:46:21.420Z"
   },
   {
    "duration": 12,
    "start_time": "2022-01-18T08:46:21.431Z"
   },
   {
    "duration": 8,
    "start_time": "2022-01-18T08:46:23.369Z"
   },
   {
    "duration": 8,
    "start_time": "2022-01-18T08:46:35.873Z"
   },
   {
    "duration": 8,
    "start_time": "2022-01-18T08:49:25.248Z"
   },
   {
    "duration": 56,
    "start_time": "2022-01-18T08:49:31.606Z"
   },
   {
    "duration": 11,
    "start_time": "2022-01-18T08:49:31.664Z"
   },
   {
    "duration": 14,
    "start_time": "2022-01-18T08:49:31.677Z"
   },
   {
    "duration": 21,
    "start_time": "2022-01-18T08:49:31.693Z"
   },
   {
    "duration": 9,
    "start_time": "2022-01-18T08:49:31.727Z"
   },
   {
    "duration": 496,
    "start_time": "2022-01-18T08:49:31.738Z"
   },
   {
    "duration": 29,
    "start_time": "2022-01-18T08:49:32.235Z"
   },
   {
    "duration": 612,
    "start_time": "2022-01-18T08:49:32.266Z"
   },
   {
    "duration": 234,
    "start_time": "2022-01-18T08:49:32.880Z"
   },
   {
    "duration": 16,
    "start_time": "2022-01-18T08:49:33.116Z"
   },
   {
    "duration": 115,
    "start_time": "2022-01-18T08:49:33.134Z"
   },
   {
    "duration": 8,
    "start_time": "2022-01-18T08:49:54.093Z"
   },
   {
    "duration": 16,
    "start_time": "2022-01-18T08:50:34.237Z"
   },
   {
    "duration": 14,
    "start_time": "2022-01-18T08:50:56.492Z"
   },
   {
    "duration": 13,
    "start_time": "2022-01-18T08:51:09.034Z"
   },
   {
    "duration": 8,
    "start_time": "2022-01-18T08:51:29.933Z"
   },
   {
    "duration": 7,
    "start_time": "2022-01-18T08:51:42.060Z"
   },
   {
    "duration": 1009,
    "start_time": "2022-01-18T08:52:23.396Z"
   },
   {
    "duration": 906,
    "start_time": "2022-01-18T08:52:34.041Z"
   },
   {
    "duration": 11,
    "start_time": "2022-01-18T08:52:43.086Z"
   },
   {
    "duration": 338,
    "start_time": "2022-01-18T08:52:57.098Z"
   },
   {
    "duration": 17,
    "start_time": "2022-01-18T08:53:40.579Z"
   },
   {
    "duration": 8,
    "start_time": "2022-01-18T08:54:06.134Z"
   },
   {
    "duration": 6,
    "start_time": "2022-01-18T08:54:24.710Z"
   },
   {
    "duration": 8,
    "start_time": "2022-01-18T08:55:00.424Z"
   },
   {
    "duration": 10,
    "start_time": "2022-01-18T08:56:54.209Z"
   },
   {
    "duration": 6,
    "start_time": "2022-01-18T11:07:44.466Z"
   },
   {
    "duration": 533,
    "start_time": "2022-01-18T11:08:35.556Z"
   },
   {
    "duration": 521,
    "start_time": "2022-01-18T11:08:53.915Z"
   },
   {
    "duration": 459,
    "start_time": "2022-01-18T11:10:10.239Z"
   },
   {
    "duration": 456,
    "start_time": "2022-01-18T11:11:41.502Z"
   },
   {
    "duration": 471,
    "start_time": "2022-01-18T11:11:54.756Z"
   },
   {
    "duration": 466,
    "start_time": "2022-01-18T11:12:15.174Z"
   },
   {
    "duration": 464,
    "start_time": "2022-01-18T11:13:10.434Z"
   },
   {
    "duration": 494,
    "start_time": "2022-01-18T11:13:18.357Z"
   },
   {
    "duration": 488,
    "start_time": "2022-01-18T11:14:17.049Z"
   },
   {
    "duration": 488,
    "start_time": "2022-01-18T11:14:25.076Z"
   },
   {
    "duration": 7,
    "start_time": "2022-01-18T11:16:50.067Z"
   },
   {
    "duration": 679,
    "start_time": "2022-01-18T11:17:45.983Z"
   },
   {
    "duration": 487,
    "start_time": "2022-01-18T11:24:21.473Z"
   },
   {
    "duration": 72,
    "start_time": "2022-01-18T11:27:13.201Z"
   },
   {
    "duration": 9,
    "start_time": "2022-01-18T11:27:13.274Z"
   },
   {
    "duration": 11,
    "start_time": "2022-01-18T11:27:13.285Z"
   },
   {
    "duration": 7,
    "start_time": "2022-01-18T11:27:13.297Z"
   },
   {
    "duration": 6,
    "start_time": "2022-01-18T11:27:13.305Z"
   },
   {
    "duration": 25,
    "start_time": "2022-01-18T11:27:13.312Z"
   },
   {
    "duration": 441,
    "start_time": "2022-01-18T11:27:13.338Z"
   },
   {
    "duration": 30,
    "start_time": "2022-01-18T11:27:13.781Z"
   },
   {
    "duration": 628,
    "start_time": "2022-01-18T11:27:13.813Z"
   },
   {
    "duration": 230,
    "start_time": "2022-01-18T11:27:14.442Z"
   },
   {
    "duration": 7,
    "start_time": "2022-01-18T11:27:14.674Z"
   },
   {
    "duration": 11,
    "start_time": "2022-01-18T11:27:14.683Z"
   },
   {
    "duration": 6,
    "start_time": "2022-01-18T11:36:44.142Z"
   },
   {
    "duration": 7,
    "start_time": "2022-01-18T11:37:29.371Z"
   },
   {
    "duration": 6,
    "start_time": "2022-01-18T11:37:36.392Z"
   },
   {
    "duration": 6,
    "start_time": "2022-01-18T11:37:42.210Z"
   },
   {
    "duration": 47,
    "start_time": "2022-01-18T11:50:40.469Z"
   },
   {
    "duration": 100,
    "start_time": "2022-01-18T11:50:47.724Z"
   },
   {
    "duration": 16,
    "start_time": "2022-01-18T11:50:47.827Z"
   },
   {
    "duration": 9,
    "start_time": "2022-01-18T11:50:47.845Z"
   },
   {
    "duration": 6,
    "start_time": "2022-01-18T11:50:47.855Z"
   },
   {
    "duration": 6,
    "start_time": "2022-01-18T11:50:47.863Z"
   },
   {
    "duration": 14,
    "start_time": "2022-01-18T11:50:47.870Z"
   },
   {
    "duration": 515,
    "start_time": "2022-01-18T11:50:47.886Z"
   },
   {
    "duration": 42,
    "start_time": "2022-01-18T11:50:51.674Z"
   },
   {
    "duration": 598,
    "start_time": "2022-01-18T11:54:55.754Z"
   },
   {
    "duration": 229,
    "start_time": "2022-01-18T12:01:18.196Z"
   },
   {
    "duration": 9,
    "start_time": "2022-01-18T12:12:33.794Z"
   },
   {
    "duration": 10,
    "start_time": "2022-01-18T12:12:40.579Z"
   },
   {
    "duration": 10,
    "start_time": "2022-01-18T12:12:57.179Z"
   },
   {
    "duration": 10,
    "start_time": "2022-01-18T12:13:40.539Z"
   },
   {
    "duration": 11,
    "start_time": "2022-01-18T12:14:06.726Z"
   },
   {
    "duration": 10,
    "start_time": "2022-01-18T12:19:46.916Z"
   },
   {
    "duration": 15,
    "start_time": "2022-01-18T12:20:49.529Z"
   },
   {
    "duration": 360,
    "start_time": "2022-01-18T12:25:46.149Z"
   },
   {
    "duration": 23,
    "start_time": "2022-01-18T12:26:55.875Z"
   },
   {
    "duration": 22,
    "start_time": "2022-01-18T12:27:45.444Z"
   },
   {
    "duration": 20,
    "start_time": "2022-01-18T12:28:04.874Z"
   },
   {
    "duration": 346,
    "start_time": "2022-01-18T12:31:05.408Z"
   },
   {
    "duration": 345,
    "start_time": "2022-01-18T12:31:42.326Z"
   },
   {
    "duration": 351,
    "start_time": "2022-01-18T12:32:16.065Z"
   },
   {
    "duration": 21,
    "start_time": "2022-01-18T12:32:27.516Z"
   },
   {
    "duration": 21,
    "start_time": "2022-01-18T12:32:41.194Z"
   },
   {
    "duration": 21,
    "start_time": "2022-01-18T12:32:56.201Z"
   },
   {
    "duration": 20,
    "start_time": "2022-01-18T12:33:11.015Z"
   },
   {
    "duration": 21,
    "start_time": "2022-01-18T12:36:08.313Z"
   },
   {
    "duration": 17,
    "start_time": "2022-01-18T12:55:10.785Z"
   },
   {
    "duration": 9,
    "start_time": "2022-01-18T14:29:07.973Z"
   },
   {
    "duration": 126,
    "start_time": "2022-01-18T14:29:13.040Z"
   },
   {
    "duration": 11,
    "start_time": "2022-01-18T14:29:17.990Z"
   },
   {
    "duration": 9,
    "start_time": "2022-01-18T14:35:27.060Z"
   },
   {
    "duration": 8,
    "start_time": "2022-01-18T14:36:16.195Z"
   },
   {
    "duration": 8,
    "start_time": "2022-01-18T14:36:45.918Z"
   },
   {
    "duration": 3,
    "start_time": "2022-01-18T14:36:57.467Z"
   },
   {
    "duration": 5,
    "start_time": "2022-01-18T14:37:27.193Z"
   },
   {
    "duration": 2,
    "start_time": "2022-01-18T14:49:17.274Z"
   },
   {
    "duration": 7,
    "start_time": "2022-01-18T14:49:26.796Z"
   },
   {
    "duration": 6,
    "start_time": "2022-01-18T14:50:53.673Z"
   },
   {
    "duration": 10,
    "start_time": "2022-01-18T14:51:13.260Z"
   },
   {
    "duration": 13,
    "start_time": "2022-01-18T14:51:29.947Z"
   },
   {
    "duration": 1332,
    "start_time": "2022-01-18T15:01:44.304Z"
   },
   {
    "duration": 22,
    "start_time": "2022-01-18T15:01:54.027Z"
   },
   {
    "duration": 23,
    "start_time": "2022-01-18T15:02:57.134Z"
   },
   {
    "duration": 21,
    "start_time": "2022-01-18T15:05:43.499Z"
   },
   {
    "duration": 22,
    "start_time": "2022-01-18T15:06:38.761Z"
   },
   {
    "duration": 12,
    "start_time": "2022-01-18T15:12:19.156Z"
   },
   {
    "duration": 16,
    "start_time": "2022-01-18T15:17:52.261Z"
   },
   {
    "duration": 15,
    "start_time": "2022-01-18T15:18:52.848Z"
   },
   {
    "duration": 12,
    "start_time": "2022-01-18T15:22:26.922Z"
   },
   {
    "duration": 17,
    "start_time": "2022-01-18T15:22:35.801Z"
   },
   {
    "duration": 12,
    "start_time": "2022-01-18T15:22:39.671Z"
   },
   {
    "duration": 12,
    "start_time": "2022-01-18T15:22:48.348Z"
   },
   {
    "duration": 10,
    "start_time": "2022-01-18T15:23:35.806Z"
   },
   {
    "duration": 12,
    "start_time": "2022-01-18T15:24:21.482Z"
   },
   {
    "duration": 16,
    "start_time": "2022-01-18T15:32:54.486Z"
   },
   {
    "duration": 16,
    "start_time": "2022-01-18T15:33:19.907Z"
   },
   {
    "duration": 338,
    "start_time": "2022-01-18T15:33:48.779Z"
   },
   {
    "duration": 17,
    "start_time": "2022-01-18T15:34:12.806Z"
   },
   {
    "duration": 563,
    "start_time": "2022-01-18T15:35:32.685Z"
   },
   {
    "duration": 403,
    "start_time": "2022-01-18T15:36:18.536Z"
   },
   {
    "duration": 17,
    "start_time": "2022-01-18T15:37:11.627Z"
   },
   {
    "duration": 14,
    "start_time": "2022-01-18T15:39:05.895Z"
   },
   {
    "duration": 16,
    "start_time": "2022-01-18T15:42:04.792Z"
   },
   {
    "duration": 8064,
    "start_time": "2022-01-18T15:45:25.237Z"
   },
   {
    "duration": 18,
    "start_time": "2022-01-18T15:45:37.851Z"
   },
   {
    "duration": 17,
    "start_time": "2022-01-18T15:49:41.698Z"
   },
   {
    "duration": 17,
    "start_time": "2022-01-18T15:49:51.003Z"
   },
   {
    "duration": 18,
    "start_time": "2022-01-18T15:50:04.593Z"
   },
   {
    "duration": 18,
    "start_time": "2022-01-18T15:50:23.002Z"
   },
   {
    "duration": 19,
    "start_time": "2022-01-18T15:59:01.828Z"
   },
   {
    "duration": 15,
    "start_time": "2022-01-18T16:07:37.833Z"
   },
   {
    "duration": 22,
    "start_time": "2022-01-18T16:07:56.037Z"
   },
   {
    "duration": 68,
    "start_time": "2022-01-18T16:09:38.716Z"
   },
   {
    "duration": 9,
    "start_time": "2022-01-18T16:09:38.786Z"
   },
   {
    "duration": 7,
    "start_time": "2022-01-18T16:09:38.797Z"
   },
   {
    "duration": 7,
    "start_time": "2022-01-18T16:09:38.806Z"
   },
   {
    "duration": 17,
    "start_time": "2022-01-18T16:09:38.814Z"
   },
   {
    "duration": 13,
    "start_time": "2022-01-18T16:09:38.833Z"
   },
   {
    "duration": 550,
    "start_time": "2022-01-18T16:09:38.847Z"
   },
   {
    "duration": 37,
    "start_time": "2022-01-18T16:09:39.399Z"
   },
   {
    "duration": 626,
    "start_time": "2022-01-18T16:09:39.438Z"
   },
   {
    "duration": 233,
    "start_time": "2022-01-18T16:09:40.066Z"
   },
   {
    "duration": 13,
    "start_time": "2022-01-18T16:09:40.300Z"
   },
   {
    "duration": 26,
    "start_time": "2022-01-18T16:09:40.314Z"
   },
   {
    "duration": 23,
    "start_time": "2022-01-18T16:09:41.720Z"
   },
   {
    "duration": 142,
    "start_time": "2022-01-18T16:10:22.952Z"
   },
   {
    "duration": 21,
    "start_time": "2022-01-18T16:10:30.586Z"
   },
   {
    "duration": 23,
    "start_time": "2022-01-18T16:10:44.060Z"
   },
   {
    "duration": 23,
    "start_time": "2022-01-18T16:10:51.191Z"
   },
   {
    "duration": 23,
    "start_time": "2022-01-18T16:11:29.846Z"
   },
   {
    "duration": 5452,
    "start_time": "2022-01-18T16:11:47.285Z"
   },
   {
    "duration": 13,
    "start_time": "2022-01-18T17:17:25.602Z"
   },
   {
    "duration": 7525,
    "start_time": "2022-01-18T17:17:33.237Z"
   },
   {
    "duration": 13,
    "start_time": "2022-01-18T17:17:48.713Z"
   },
   {
    "duration": 7762,
    "start_time": "2022-01-18T17:17:58.375Z"
   },
   {
    "duration": 12,
    "start_time": "2022-01-18T17:19:17.589Z"
   },
   {
    "duration": 5548,
    "start_time": "2022-01-18T17:19:29.862Z"
   },
   {
    "duration": 6084,
    "start_time": "2022-01-18T17:19:57.575Z"
   },
   {
    "duration": 12,
    "start_time": "2022-01-18T17:20:24.180Z"
   },
   {
    "duration": 13,
    "start_time": "2022-01-18T17:21:42.806Z"
   },
   {
    "duration": 12,
    "start_time": "2022-01-18T17:21:48.603Z"
   },
   {
    "duration": 302,
    "start_time": "2022-01-18T18:33:44.432Z"
   },
   {
    "duration": 1350,
    "start_time": "2022-01-18T18:33:48.022Z"
   },
   {
    "duration": 10,
    "start_time": "2022-01-18T18:33:49.375Z"
   },
   {
    "duration": 25,
    "start_time": "2022-01-18T18:33:49.387Z"
   },
   {
    "duration": 9,
    "start_time": "2022-01-18T18:33:49.414Z"
   },
   {
    "duration": 10,
    "start_time": "2022-01-18T18:33:49.424Z"
   },
   {
    "duration": 19,
    "start_time": "2022-01-18T18:33:49.436Z"
   },
   {
    "duration": 574,
    "start_time": "2022-01-18T18:33:49.457Z"
   },
   {
    "duration": 32,
    "start_time": "2022-01-18T18:33:50.033Z"
   },
   {
    "duration": 697,
    "start_time": "2022-01-18T18:33:50.068Z"
   },
   {
    "duration": 267,
    "start_time": "2022-01-18T18:33:50.767Z"
   },
   {
    "duration": 14,
    "start_time": "2022-01-18T18:33:51.036Z"
   },
   {
    "duration": 33,
    "start_time": "2022-01-18T18:33:51.051Z"
   },
   {
    "duration": 11,
    "start_time": "2022-01-18T18:33:51.098Z"
   },
   {
    "duration": 11,
    "start_time": "2022-01-18T18:37:28.064Z"
   },
   {
    "duration": 10,
    "start_time": "2022-01-18T18:38:20.077Z"
   },
   {
    "duration": 93,
    "start_time": "2022-01-18T18:39:22.495Z"
   },
   {
    "duration": 10,
    "start_time": "2022-01-18T18:39:29.929Z"
   },
   {
    "duration": 11,
    "start_time": "2022-01-18T18:41:15.574Z"
   },
   {
    "duration": 14,
    "start_time": "2022-01-18T18:41:34.723Z"
   },
   {
    "duration": 353,
    "start_time": "2022-01-18T18:55:07.970Z"
   },
   {
    "duration": 4360,
    "start_time": "2022-01-18T18:56:35.380Z"
   },
   {
    "duration": 354,
    "start_time": "2022-01-18T18:57:43.070Z"
   },
   {
    "duration": 272,
    "start_time": "2022-01-18T18:58:05.559Z"
   },
   {
    "duration": 73,
    "start_time": "2022-01-18T18:58:51.837Z"
   },
   {
    "duration": 16,
    "start_time": "2022-01-18T18:58:51.912Z"
   },
   {
    "duration": 7,
    "start_time": "2022-01-18T18:58:51.930Z"
   },
   {
    "duration": 7,
    "start_time": "2022-01-18T18:58:51.939Z"
   },
   {
    "duration": 7,
    "start_time": "2022-01-18T18:58:51.947Z"
   },
   {
    "duration": 45,
    "start_time": "2022-01-18T18:58:51.955Z"
   },
   {
    "duration": 582,
    "start_time": "2022-01-18T18:58:52.003Z"
   },
   {
    "duration": 47,
    "start_time": "2022-01-18T18:58:52.587Z"
   },
   {
    "duration": 713,
    "start_time": "2022-01-18T18:58:52.636Z"
   },
   {
    "duration": 267,
    "start_time": "2022-01-18T18:58:53.351Z"
   },
   {
    "duration": 17,
    "start_time": "2022-01-18T18:58:53.621Z"
   },
   {
    "duration": 18,
    "start_time": "2022-01-18T18:58:53.639Z"
   },
   {
    "duration": 380,
    "start_time": "2022-01-18T18:58:53.659Z"
   },
   {
    "duration": 256,
    "start_time": "2022-01-18T18:59:36.229Z"
   },
   {
    "duration": 82,
    "start_time": "2022-01-18T18:59:44.008Z"
   },
   {
    "duration": 13,
    "start_time": "2022-01-18T18:59:44.092Z"
   },
   {
    "duration": 19,
    "start_time": "2022-01-18T18:59:44.108Z"
   },
   {
    "duration": 7,
    "start_time": "2022-01-18T18:59:44.129Z"
   },
   {
    "duration": 7,
    "start_time": "2022-01-18T18:59:44.137Z"
   },
   {
    "duration": 13,
    "start_time": "2022-01-18T18:59:44.145Z"
   },
   {
    "duration": 573,
    "start_time": "2022-01-18T18:59:44.160Z"
   },
   {
    "duration": 31,
    "start_time": "2022-01-18T18:59:44.736Z"
   },
   {
    "duration": 729,
    "start_time": "2022-01-18T18:59:44.769Z"
   },
   {
    "duration": 274,
    "start_time": "2022-01-18T18:59:45.501Z"
   },
   {
    "duration": 22,
    "start_time": "2022-01-18T18:59:45.777Z"
   },
   {
    "duration": 19,
    "start_time": "2022-01-18T18:59:45.800Z"
   },
   {
    "duration": 218,
    "start_time": "2022-01-18T18:59:45.821Z"
   },
   {
    "duration": 85,
    "start_time": "2022-01-18T19:00:23.480Z"
   },
   {
    "duration": 11,
    "start_time": "2022-01-18T19:00:23.567Z"
   },
   {
    "duration": 8,
    "start_time": "2022-01-18T19:00:23.580Z"
   },
   {
    "duration": 12,
    "start_time": "2022-01-18T19:00:23.589Z"
   },
   {
    "duration": 6,
    "start_time": "2022-01-18T19:00:23.603Z"
   },
   {
    "duration": 15,
    "start_time": "2022-01-18T19:00:23.610Z"
   },
   {
    "duration": 619,
    "start_time": "2022-01-18T19:00:23.628Z"
   },
   {
    "duration": 32,
    "start_time": "2022-01-18T19:00:24.250Z"
   },
   {
    "duration": 720,
    "start_time": "2022-01-18T19:00:24.284Z"
   },
   {
    "duration": 278,
    "start_time": "2022-01-18T19:00:25.006Z"
   },
   {
    "duration": 25,
    "start_time": "2022-01-18T19:00:25.286Z"
   },
   {
    "duration": 20,
    "start_time": "2022-01-18T19:00:25.313Z"
   },
   {
    "duration": 236,
    "start_time": "2022-01-18T19:00:25.334Z"
   },
   {
    "duration": 230,
    "start_time": "2022-01-18T19:01:39.038Z"
   },
   {
    "duration": 218,
    "start_time": "2022-01-18T19:03:24.490Z"
   },
   {
    "duration": 87,
    "start_time": "2022-01-18T19:03:54.984Z"
   },
   {
    "duration": 92,
    "start_time": "2022-01-18T19:03:59.881Z"
   },
   {
    "duration": 227,
    "start_time": "2022-01-18T19:04:06.090Z"
   },
   {
    "duration": 165,
    "start_time": "2022-01-18T19:05:11.763Z"
   },
   {
    "duration": 91,
    "start_time": "2022-01-18T19:05:31.313Z"
   },
   {
    "duration": 456,
    "start_time": "2022-01-18T19:05:36.109Z"
   },
   {
    "duration": 165,
    "start_time": "2022-01-18T19:05:44.077Z"
   },
   {
    "duration": 194,
    "start_time": "2022-01-18T19:09:22.213Z"
   },
   {
    "duration": 435,
    "start_time": "2022-01-18T19:11:43.533Z"
   },
   {
    "duration": 172,
    "start_time": "2022-01-18T19:12:05.076Z"
   },
   {
    "duration": 163,
    "start_time": "2022-01-18T19:13:10.448Z"
   },
   {
    "duration": 165,
    "start_time": "2022-01-18T19:14:34.015Z"
   },
   {
    "duration": 1431,
    "start_time": "2022-01-19T07:30:33.294Z"
   },
   {
    "duration": 12,
    "start_time": "2022-01-19T07:30:34.727Z"
   },
   {
    "duration": 7,
    "start_time": "2022-01-19T07:30:34.741Z"
   },
   {
    "duration": 8,
    "start_time": "2022-01-19T07:30:34.750Z"
   },
   {
    "duration": 11,
    "start_time": "2022-01-19T07:30:34.760Z"
   },
   {
    "duration": 24,
    "start_time": "2022-01-19T07:30:34.791Z"
   },
   {
    "duration": 578,
    "start_time": "2022-01-19T07:30:34.817Z"
   },
   {
    "duration": 34,
    "start_time": "2022-01-19T07:30:35.398Z"
   },
   {
    "duration": 709,
    "start_time": "2022-01-19T07:30:35.433Z"
   },
   {
    "duration": 266,
    "start_time": "2022-01-19T07:30:36.144Z"
   },
   {
    "duration": 13,
    "start_time": "2022-01-19T07:30:36.412Z"
   },
   {
    "duration": 36,
    "start_time": "2022-01-19T07:30:36.426Z"
   },
   {
    "duration": 184,
    "start_time": "2022-01-19T07:30:36.464Z"
   },
   {
    "duration": 14,
    "start_time": "2022-01-19T07:40:32.408Z"
   },
   {
    "duration": 13,
    "start_time": "2022-01-19T07:41:07.319Z"
   },
   {
    "duration": 14,
    "start_time": "2022-01-19T07:41:51.908Z"
   },
   {
    "duration": 13,
    "start_time": "2022-01-19T07:44:30.895Z"
   },
   {
    "duration": 14,
    "start_time": "2022-01-19T07:45:08.478Z"
   },
   {
    "duration": 21,
    "start_time": "2022-01-19T07:49:50.722Z"
   },
   {
    "duration": 18,
    "start_time": "2022-01-19T07:51:48.685Z"
   },
   {
    "duration": 19,
    "start_time": "2022-01-19T07:53:32.436Z"
   },
   {
    "duration": 206,
    "start_time": "2022-01-19T07:56:07.821Z"
   },
   {
    "duration": 164,
    "start_time": "2022-01-19T07:56:22.374Z"
   },
   {
    "duration": 176,
    "start_time": "2022-01-19T07:58:01.787Z"
   },
   {
    "duration": 68,
    "start_time": "2022-01-19T07:58:50.388Z"
   },
   {
    "duration": 68,
    "start_time": "2022-01-19T07:59:41.941Z"
   },
   {
    "duration": 163,
    "start_time": "2022-01-19T07:59:51.378Z"
   },
   {
    "duration": 163,
    "start_time": "2022-01-19T08:04:13.948Z"
   },
   {
    "duration": 162,
    "start_time": "2022-01-19T08:04:48.429Z"
   },
   {
    "duration": 159,
    "start_time": "2022-01-19T08:05:09.721Z"
   },
   {
    "duration": 172,
    "start_time": "2022-01-19T08:08:16.797Z"
   },
   {
    "duration": 169,
    "start_time": "2022-01-19T08:18:20.294Z"
   },
   {
    "duration": 166,
    "start_time": "2022-01-19T08:18:32.418Z"
   },
   {
    "duration": 443,
    "start_time": "2022-01-19T08:19:39.822Z"
   },
   {
    "duration": 173,
    "start_time": "2022-01-19T08:20:27.722Z"
   },
   {
    "duration": 270,
    "start_time": "2022-01-19T08:25:01.612Z"
   },
   {
    "duration": 274,
    "start_time": "2022-01-19T08:25:29.226Z"
   },
   {
    "duration": 267,
    "start_time": "2022-01-19T08:25:55.681Z"
   },
   {
    "duration": 258,
    "start_time": "2022-01-19T08:26:11.140Z"
   },
   {
    "duration": 265,
    "start_time": "2022-01-19T08:26:55.639Z"
   },
   {
    "duration": 268,
    "start_time": "2022-01-19T08:27:25.391Z"
   },
   {
    "duration": 71,
    "start_time": "2022-01-19T08:28:08.032Z"
   },
   {
    "duration": 447,
    "start_time": "2022-01-19T08:28:26.030Z"
   },
   {
    "duration": 264,
    "start_time": "2022-01-19T08:28:38.060Z"
   },
   {
    "duration": 279,
    "start_time": "2022-01-19T08:33:19.291Z"
   },
   {
    "duration": 265,
    "start_time": "2022-01-19T08:34:10.107Z"
   },
   {
    "duration": 278,
    "start_time": "2022-01-19T08:35:17.090Z"
   },
   {
    "duration": 277,
    "start_time": "2022-01-19T08:35:51.985Z"
   },
   {
    "duration": 270,
    "start_time": "2022-01-19T08:35:58.737Z"
   },
   {
    "duration": 279,
    "start_time": "2022-01-19T08:36:48.184Z"
   },
   {
    "duration": 269,
    "start_time": "2022-01-19T08:37:40.405Z"
   },
   {
    "duration": 64,
    "start_time": "2022-01-19T08:38:44.696Z"
   },
   {
    "duration": 269,
    "start_time": "2022-01-19T08:38:49.665Z"
   },
   {
    "duration": 278,
    "start_time": "2022-01-19T08:38:59.368Z"
   },
   {
    "duration": 276,
    "start_time": "2022-01-19T08:39:39.849Z"
   },
   {
    "duration": 276,
    "start_time": "2022-01-19T08:39:49.553Z"
   },
   {
    "duration": 257,
    "start_time": "2022-01-19T08:39:57.825Z"
   },
   {
    "duration": 276,
    "start_time": "2022-01-19T08:40:06.393Z"
   },
   {
    "duration": 264,
    "start_time": "2022-01-19T08:45:18.034Z"
   },
   {
    "duration": 350,
    "start_time": "2022-01-19T08:46:19.963Z"
   },
   {
    "duration": 68,
    "start_time": "2022-01-19T08:47:30.799Z"
   },
   {
    "duration": 349,
    "start_time": "2022-01-19T08:47:57.036Z"
   },
   {
    "duration": 546,
    "start_time": "2022-01-19T08:51:18.080Z"
   },
   {
    "duration": 362,
    "start_time": "2022-01-19T08:51:30.016Z"
   },
   {
    "duration": 356,
    "start_time": "2022-01-19T08:51:50.209Z"
   },
   {
    "duration": 370,
    "start_time": "2022-01-19T08:52:17.898Z"
   },
   {
    "duration": 377,
    "start_time": "2022-01-19T09:22:59.005Z"
   },
   {
    "duration": 98,
    "start_time": "2022-01-19T12:31:46.491Z"
   },
   {
    "duration": 12,
    "start_time": "2022-01-19T12:31:46.591Z"
   },
   {
    "duration": 13,
    "start_time": "2022-01-19T12:31:46.605Z"
   },
   {
    "duration": 22,
    "start_time": "2022-01-19T12:31:46.620Z"
   },
   {
    "duration": 15,
    "start_time": "2022-01-19T12:31:46.644Z"
   },
   {
    "duration": 19,
    "start_time": "2022-01-19T12:31:46.661Z"
   },
   {
    "duration": 538,
    "start_time": "2022-01-19T12:31:46.682Z"
   },
   {
    "duration": 34,
    "start_time": "2022-01-19T12:31:47.222Z"
   },
   {
    "duration": 850,
    "start_time": "2022-01-19T12:31:47.259Z"
   },
   {
    "duration": 266,
    "start_time": "2022-01-19T12:31:48.112Z"
   },
   {
    "duration": 24,
    "start_time": "2022-01-19T12:31:48.380Z"
   },
   {
    "duration": 20,
    "start_time": "2022-01-19T12:31:48.405Z"
   },
   {
    "duration": 380,
    "start_time": "2022-01-19T12:31:48.427Z"
   },
   {
    "duration": 603,
    "start_time": "2022-01-19T12:31:48.809Z"
   },
   {
    "duration": 358,
    "start_time": "2022-01-19T12:33:46.940Z"
   },
   {
    "duration": 383,
    "start_time": "2022-01-19T12:33:51.391Z"
   },
   {
    "duration": 71,
    "start_time": "2022-01-19T12:42:11.735Z"
   },
   {
    "duration": 69,
    "start_time": "2022-01-19T12:43:21.833Z"
   },
   {
    "duration": 62,
    "start_time": "2022-01-19T12:47:52.630Z"
   },
   {
    "duration": 348,
    "start_time": "2022-01-19T12:48:14.184Z"
   },
   {
    "duration": 12,
    "start_time": "2022-01-19T12:55:07.126Z"
   },
   {
    "duration": 12,
    "start_time": "2022-01-19T12:55:16.807Z"
   },
   {
    "duration": 227,
    "start_time": "2022-01-19T12:56:18.204Z"
   },
   {
    "duration": 4264,
    "start_time": "2022-01-19T12:56:35.565Z"
   },
   {
    "duration": 205,
    "start_time": "2022-01-19T12:57:38.965Z"
   },
   {
    "duration": 3332,
    "start_time": "2022-01-19T12:58:41.373Z"
   },
   {
    "duration": 59,
    "start_time": "2022-01-19T12:59:40.105Z"
   },
   {
    "duration": 59,
    "start_time": "2022-01-19T12:59:45.797Z"
   },
   {
    "duration": 3954,
    "start_time": "2022-01-19T12:59:49.779Z"
   },
   {
    "duration": 58,
    "start_time": "2022-01-19T13:00:03.525Z"
   },
   {
    "duration": 573,
    "start_time": "2022-01-19T13:00:15.231Z"
   },
   {
    "duration": 2420,
    "start_time": "2022-01-19T13:02:09.135Z"
   },
   {
    "duration": 12,
    "start_time": "2022-01-19T13:02:19.921Z"
   },
   {
    "duration": 182,
    "start_time": "2022-01-19T13:03:46.338Z"
   },
   {
    "duration": 14,
    "start_time": "2022-01-19T13:04:03.798Z"
   },
   {
    "duration": 22,
    "start_time": "2022-01-19T13:05:50.764Z"
   },
   {
    "duration": 21,
    "start_time": "2022-01-19T13:06:06.042Z"
   },
   {
    "duration": 18,
    "start_time": "2022-01-19T14:00:20.477Z"
   },
   {
    "duration": 21,
    "start_time": "2022-01-19T14:03:00.324Z"
   },
   {
    "duration": 24,
    "start_time": "2022-01-19T14:03:43.231Z"
   },
   {
    "duration": 27,
    "start_time": "2022-01-19T14:03:53.655Z"
   },
   {
    "duration": 22,
    "start_time": "2022-01-19T14:04:01.350Z"
   },
   {
    "duration": 5552,
    "start_time": "2022-01-19T14:14:05.391Z"
   },
   {
    "duration": 4780,
    "start_time": "2022-01-19T14:15:39.898Z"
   },
   {
    "duration": 5694,
    "start_time": "2022-01-19T14:16:02.878Z"
   },
   {
    "duration": 4393,
    "start_time": "2022-01-19T14:16:40.650Z"
   },
   {
    "duration": 20,
    "start_time": "2022-01-19T14:21:00.061Z"
   },
   {
    "duration": 5068,
    "start_time": "2022-01-19T14:21:14.003Z"
   },
   {
    "duration": 4968,
    "start_time": "2022-01-19T14:25:34.746Z"
   },
   {
    "duration": 18,
    "start_time": "2022-01-19T14:26:50.958Z"
   },
   {
    "duration": 4874,
    "start_time": "2022-01-19T14:28:35.529Z"
   },
   {
    "duration": 4869,
    "start_time": "2022-01-19T14:28:59.639Z"
   },
   {
    "duration": 190,
    "start_time": "2022-01-19T14:35:06.410Z"
   },
   {
    "duration": 202,
    "start_time": "2022-01-19T14:35:19.069Z"
   },
   {
    "duration": 696,
    "start_time": "2022-01-19T14:35:49.183Z"
   },
   {
    "duration": 12,
    "start_time": "2022-01-19T14:36:21.998Z"
   },
   {
    "duration": 12,
    "start_time": "2022-01-19T14:36:45.313Z"
   },
   {
    "duration": 16,
    "start_time": "2022-01-19T14:37:16.786Z"
   },
   {
    "duration": 6504,
    "start_time": "2022-01-19T14:38:58.204Z"
   },
   {
    "duration": 4676,
    "start_time": "2022-01-19T14:39:14.462Z"
   },
   {
    "duration": 4842,
    "start_time": "2022-01-19T14:40:32.939Z"
   },
   {
    "duration": 4723,
    "start_time": "2022-01-19T14:40:51.409Z"
   },
   {
    "duration": 18,
    "start_time": "2022-01-19T14:42:19.371Z"
   },
   {
    "duration": 4895,
    "start_time": "2022-01-19T14:42:45.750Z"
   },
   {
    "duration": 19,
    "start_time": "2022-01-19T14:42:54.721Z"
   },
   {
    "duration": 4809,
    "start_time": "2022-01-19T14:43:13.044Z"
   },
   {
    "duration": 5520,
    "start_time": "2022-01-19T14:43:37.254Z"
   },
   {
    "duration": 18,
    "start_time": "2022-01-19T14:43:48.434Z"
   },
   {
    "duration": 17,
    "start_time": "2022-01-19T14:43:58.140Z"
   },
   {
    "duration": 205,
    "start_time": "2022-01-19T14:45:47.791Z"
   },
   {
    "duration": 5157,
    "start_time": "2022-01-19T14:46:06.415Z"
   },
   {
    "duration": 4824,
    "start_time": "2022-01-19T14:46:17.706Z"
   },
   {
    "duration": 5205,
    "start_time": "2022-01-19T14:46:38.966Z"
   },
   {
    "duration": 340,
    "start_time": "2022-01-19T14:49:11.568Z"
   },
   {
    "duration": 189,
    "start_time": "2022-01-19T14:49:17.988Z"
   },
   {
    "duration": 19,
    "start_time": "2022-01-19T14:49:33.893Z"
   },
   {
    "duration": 13,
    "start_time": "2022-01-19T14:51:35.069Z"
   },
   {
    "duration": 14,
    "start_time": "2022-01-19T14:51:58.022Z"
   },
   {
    "duration": 15,
    "start_time": "2022-01-19T14:52:08.787Z"
   },
   {
    "duration": 2269,
    "start_time": "2022-01-19T18:37:06.814Z"
   },
   {
    "duration": 14,
    "start_time": "2022-01-19T18:37:09.086Z"
   },
   {
    "duration": 10,
    "start_time": "2022-01-19T18:37:09.104Z"
   },
   {
    "duration": 14,
    "start_time": "2022-01-19T18:37:09.118Z"
   },
   {
    "duration": 11,
    "start_time": "2022-01-19T18:37:09.166Z"
   },
   {
    "duration": 27,
    "start_time": "2022-01-19T18:37:09.180Z"
   },
   {
    "duration": 894,
    "start_time": "2022-01-19T18:37:09.210Z"
   },
   {
    "duration": 66,
    "start_time": "2022-01-19T18:37:10.109Z"
   },
   {
    "duration": 986,
    "start_time": "2022-01-19T18:37:10.179Z"
   },
   {
    "duration": 444,
    "start_time": "2022-01-19T18:37:11.168Z"
   },
   {
    "duration": 19,
    "start_time": "2022-01-19T18:37:11.614Z"
   },
   {
    "duration": 51,
    "start_time": "2022-01-19T18:37:11.635Z"
   },
   {
    "duration": 701,
    "start_time": "2022-01-19T18:37:11.689Z"
   },
   {
    "duration": 20,
    "start_time": "2022-01-19T18:37:12.392Z"
   },
   {
    "duration": 53,
    "start_time": "2022-01-19T18:37:12.415Z"
   },
   {
    "duration": 19,
    "start_time": "2022-01-19T18:37:41.771Z"
   },
   {
    "duration": 24,
    "start_time": "2022-01-19T18:39:53.055Z"
   },
   {
    "duration": 31,
    "start_time": "2022-01-19T18:39:57.600Z"
   },
   {
    "duration": 101,
    "start_time": "2022-01-19T18:47:46.446Z"
   },
   {
    "duration": 93,
    "start_time": "2022-01-19T18:48:05.888Z"
   },
   {
    "duration": 22,
    "start_time": "2022-01-19T18:48:24.531Z"
   },
   {
    "duration": 23,
    "start_time": "2022-01-19T18:49:18.620Z"
   },
   {
    "duration": 26,
    "start_time": "2022-01-19T18:50:03.377Z"
   },
   {
    "duration": 28,
    "start_time": "2022-01-19T18:50:41.312Z"
   },
   {
    "duration": 28,
    "start_time": "2022-01-19T18:53:17.949Z"
   },
   {
    "duration": 111,
    "start_time": "2022-01-19T19:06:02.427Z"
   },
   {
    "duration": 811,
    "start_time": "2022-01-19T19:06:14.858Z"
   },
   {
    "duration": 612,
    "start_time": "2022-01-19T19:12:14.930Z"
   },
   {
    "duration": 20,
    "start_time": "2022-01-19T20:23:46.465Z"
   },
   {
    "duration": 21,
    "start_time": "2022-01-19T20:24:26.750Z"
   },
   {
    "duration": 21,
    "start_time": "2022-01-19T20:37:20.370Z"
   },
   {
    "duration": 22,
    "start_time": "2022-01-19T20:39:42.163Z"
   },
   {
    "duration": 51,
    "start_time": "2022-01-19T20:40:10.585Z"
   },
   {
    "duration": 24,
    "start_time": "2022-01-19T20:42:01.011Z"
   },
   {
    "duration": 1499,
    "start_time": "2022-01-19T20:42:10.509Z"
   },
   {
    "duration": 24,
    "start_time": "2022-01-19T20:42:21.718Z"
   },
   {
    "duration": 23,
    "start_time": "2022-01-19T20:42:37.870Z"
   },
   {
    "duration": 22,
    "start_time": "2022-01-19T20:43:21.953Z"
   },
   {
    "duration": 20,
    "start_time": "2022-01-19T20:45:21.078Z"
   },
   {
    "duration": 98,
    "start_time": "2022-01-19T20:49:15.209Z"
   },
   {
    "duration": 500,
    "start_time": "2022-01-19T20:49:42.364Z"
   },
   {
    "duration": 808,
    "start_time": "2022-01-19T20:50:13.883Z"
   },
   {
    "duration": 27,
    "start_time": "2022-01-19T20:50:59.823Z"
   },
   {
    "duration": 26,
    "start_time": "2022-01-19T20:51:27.628Z"
   },
   {
    "duration": 25,
    "start_time": "2022-01-19T20:51:56.710Z"
   },
   {
    "duration": 26,
    "start_time": "2022-01-19T20:52:40.229Z"
   },
   {
    "duration": 27,
    "start_time": "2022-01-19T21:02:45.748Z"
   },
   {
    "duration": 34,
    "start_time": "2022-01-19T21:04:26.237Z"
   },
   {
    "duration": 34,
    "start_time": "2022-01-19T21:05:15.492Z"
   },
   {
    "duration": 56,
    "start_time": "2022-01-19T21:09:54.389Z"
   },
   {
    "duration": 46,
    "start_time": "2022-01-19T21:11:46.741Z"
   },
   {
    "duration": 771,
    "start_time": "2022-01-19T21:12:35.746Z"
   },
   {
    "duration": 667,
    "start_time": "2022-01-19T21:13:13.321Z"
   },
   {
    "duration": 650,
    "start_time": "2022-01-19T21:13:21.944Z"
   },
   {
    "duration": 603,
    "start_time": "2022-01-19T21:23:19.910Z"
   },
   {
    "duration": 105,
    "start_time": "2022-01-19T21:36:02.566Z"
   },
   {
    "duration": 13,
    "start_time": "2022-01-19T21:36:02.674Z"
   },
   {
    "duration": 9,
    "start_time": "2022-01-19T21:36:02.691Z"
   },
   {
    "duration": 11,
    "start_time": "2022-01-19T21:36:02.703Z"
   },
   {
    "duration": 51,
    "start_time": "2022-01-19T21:36:02.717Z"
   },
   {
    "duration": 19,
    "start_time": "2022-01-19T21:36:02.771Z"
   },
   {
    "duration": 678,
    "start_time": "2022-01-19T21:36:02.792Z"
   },
   {
    "duration": 41,
    "start_time": "2022-01-19T21:36:03.473Z"
   },
   {
    "duration": 941,
    "start_time": "2022-01-19T21:36:03.517Z"
   },
   {
    "duration": 411,
    "start_time": "2022-01-19T21:36:04.460Z"
   },
   {
    "duration": 33,
    "start_time": "2022-01-19T21:36:04.873Z"
   },
   {
    "duration": 59,
    "start_time": "2022-01-19T21:36:04.908Z"
   },
   {
    "duration": 602,
    "start_time": "2022-01-19T21:36:04.970Z"
   },
   {
    "duration": 29,
    "start_time": "2022-01-19T21:36:05.574Z"
   },
   {
    "duration": 30,
    "start_time": "2022-01-19T22:09:44.742Z"
   },
   {
    "duration": 29,
    "start_time": "2022-01-19T22:09:52.499Z"
   },
   {
    "duration": 30,
    "start_time": "2022-01-19T22:10:00.959Z"
   },
   {
    "duration": 35,
    "start_time": "2022-01-19T22:10:10.292Z"
   },
   {
    "duration": 28,
    "start_time": "2022-01-19T22:10:25.666Z"
   },
   {
    "duration": 29,
    "start_time": "2022-01-19T22:10:54.258Z"
   },
   {
    "duration": 599,
    "start_time": "2022-01-19T22:14:29.402Z"
   },
   {
    "duration": 579,
    "start_time": "2022-01-19T22:14:51.695Z"
   },
   {
    "duration": 597,
    "start_time": "2022-01-19T22:16:19.216Z"
   },
   {
    "duration": 594,
    "start_time": "2022-01-19T22:16:54.548Z"
   },
   {
    "duration": 601,
    "start_time": "2022-01-19T22:17:03.288Z"
   },
   {
    "duration": 495,
    "start_time": "2022-01-19T22:21:39.335Z"
   },
   {
    "duration": 600,
    "start_time": "2022-01-19T22:22:29.731Z"
   },
   {
    "duration": 93,
    "start_time": "2022-01-19T22:28:42.260Z"
   },
   {
    "duration": 1419,
    "start_time": "2022-01-24T09:20:34.852Z"
   },
   {
    "duration": 11,
    "start_time": "2022-01-24T09:20:36.573Z"
   },
   {
    "duration": 11,
    "start_time": "2022-01-24T09:21:59.112Z"
   },
   {
    "duration": 11,
    "start_time": "2022-01-24T09:29:25.880Z"
   },
   {
    "duration": 383,
    "start_time": "2022-01-24T09:33:49.824Z"
   },
   {
    "duration": 274,
    "start_time": "2022-01-24T09:34:16.563Z"
   },
   {
    "duration": 6,
    "start_time": "2022-01-24T09:34:37.414Z"
   },
   {
    "duration": 8,
    "start_time": "2022-01-24T09:34:51.800Z"
   },
   {
    "duration": 7,
    "start_time": "2022-01-24T09:35:04.350Z"
   },
   {
    "duration": 17,
    "start_time": "2022-01-24T09:36:06.081Z"
   },
   {
    "duration": 4,
    "start_time": "2022-01-24T09:36:28.258Z"
   },
   {
    "duration": 276,
    "start_time": "2022-01-24T09:37:03.979Z"
   },
   {
    "duration": 8,
    "start_time": "2022-01-24T09:37:10.306Z"
   },
   {
    "duration": 7,
    "start_time": "2022-01-24T10:29:14.367Z"
   },
   {
    "duration": 6,
    "start_time": "2022-01-24T10:30:33.575Z"
   },
   {
    "duration": 6,
    "start_time": "2022-01-24T10:30:47.886Z"
   },
   {
    "duration": 5,
    "start_time": "2022-01-24T10:31:41.283Z"
   },
   {
    "duration": 526,
    "start_time": "2022-01-24T10:34:51.685Z"
   },
   {
    "duration": 509,
    "start_time": "2022-01-24T10:35:01.586Z"
   },
   {
    "duration": 6,
    "start_time": "2022-01-24T10:39:48.919Z"
   },
   {
    "duration": 9,
    "start_time": "2022-01-24T10:40:13.845Z"
   },
   {
    "duration": 14,
    "start_time": "2022-01-24T10:40:28.464Z"
   },
   {
    "duration": 15,
    "start_time": "2022-01-24T10:41:26.462Z"
   },
   {
    "duration": 13,
    "start_time": "2022-01-24T10:41:35.291Z"
   },
   {
    "duration": 14,
    "start_time": "2022-01-24T10:41:43.852Z"
   },
   {
    "duration": 64,
    "start_time": "2022-01-24T12:08:14.389Z"
   },
   {
    "duration": 13,
    "start_time": "2022-01-24T12:08:14.455Z"
   },
   {
    "duration": 30,
    "start_time": "2022-01-24T12:08:14.470Z"
   },
   {
    "duration": 7,
    "start_time": "2022-01-24T12:08:14.503Z"
   },
   {
    "duration": 8,
    "start_time": "2022-01-24T12:08:14.512Z"
   },
   {
    "duration": 14,
    "start_time": "2022-01-24T12:08:14.522Z"
   },
   {
    "duration": 15,
    "start_time": "2022-01-24T12:08:14.538Z"
   },
   {
    "duration": 567,
    "start_time": "2022-01-24T12:08:14.554Z"
   },
   {
    "duration": 34,
    "start_time": "2022-01-24T12:08:15.123Z"
   },
   {
    "duration": 702,
    "start_time": "2022-01-24T12:08:15.159Z"
   },
   {
    "duration": 275,
    "start_time": "2022-01-24T12:08:15.863Z"
   },
   {
    "duration": 42,
    "start_time": "2022-01-24T12:08:16.140Z"
   },
   {
    "duration": 21,
    "start_time": "2022-01-24T12:08:16.184Z"
   },
   {
    "duration": 400,
    "start_time": "2022-01-24T12:08:16.207Z"
   },
   {
    "duration": 20,
    "start_time": "2022-01-24T12:08:16.608Z"
   },
   {
    "duration": 6,
    "start_time": "2022-01-24T12:08:16.629Z"
   },
   {
    "duration": 83,
    "start_time": "2022-01-24T12:18:37.911Z"
   },
   {
    "duration": 8,
    "start_time": "2022-01-24T12:18:46.892Z"
   },
   {
    "duration": 16,
    "start_time": "2022-01-24T12:18:57.620Z"
   },
   {
    "duration": 14,
    "start_time": "2022-01-24T12:19:57.363Z"
   },
   {
    "duration": 17,
    "start_time": "2022-01-24T12:21:09.828Z"
   },
   {
    "duration": 14,
    "start_time": "2022-01-24T12:25:09.927Z"
   },
   {
    "duration": 7,
    "start_time": "2022-01-24T12:25:21.831Z"
   },
   {
    "duration": 13,
    "start_time": "2022-01-24T12:25:33.768Z"
   },
   {
    "duration": 14,
    "start_time": "2022-01-24T12:25:48.271Z"
   },
   {
    "duration": 85,
    "start_time": "2022-01-24T12:28:04.123Z"
   },
   {
    "duration": 85,
    "start_time": "2022-01-24T12:28:10.267Z"
   },
   {
    "duration": 561,
    "start_time": "2022-01-24T12:28:55.404Z"
   },
   {
    "duration": 14,
    "start_time": "2022-01-24T12:30:28.568Z"
   },
   {
    "duration": 285,
    "start_time": "2022-01-24T12:32:41.452Z"
   },
   {
    "duration": 7,
    "start_time": "2022-01-24T12:32:45.857Z"
   },
   {
    "duration": 5,
    "start_time": "2022-01-24T12:38:25.404Z"
   },
   {
    "duration": 13,
    "start_time": "2022-01-24T12:38:49.822Z"
   },
   {
    "duration": 6,
    "start_time": "2022-01-24T12:38:55.254Z"
   },
   {
    "duration": 16,
    "start_time": "2022-01-24T12:39:10.170Z"
   },
   {
    "duration": 19,
    "start_time": "2022-01-24T12:40:01.897Z"
   },
   {
    "duration": 26,
    "start_time": "2022-01-24T12:40:28.808Z"
   },
   {
    "duration": 13,
    "start_time": "2022-01-24T12:40:34.131Z"
   },
   {
    "duration": 13,
    "start_time": "2022-01-24T12:40:42.389Z"
   },
   {
    "duration": 4,
    "start_time": "2022-01-24T12:42:26.149Z"
   },
   {
    "duration": 15,
    "start_time": "2022-01-24T12:47:22.921Z"
   },
   {
    "duration": 13,
    "start_time": "2022-01-24T12:47:38.014Z"
   },
   {
    "duration": 7,
    "start_time": "2022-01-24T12:48:01.961Z"
   },
   {
    "duration": 10,
    "start_time": "2022-01-24T12:48:46.898Z"
   },
   {
    "duration": 9,
    "start_time": "2022-01-24T12:48:54.207Z"
   },
   {
    "duration": 7,
    "start_time": "2022-01-24T12:49:21.966Z"
   },
   {
    "duration": 8,
    "start_time": "2022-01-24T12:49:42.271Z"
   },
   {
    "duration": 13,
    "start_time": "2022-01-24T12:50:00.965Z"
   },
   {
    "duration": 7,
    "start_time": "2022-01-24T12:50:31.867Z"
   },
   {
    "duration": 7,
    "start_time": "2022-01-24T12:50:39.957Z"
   },
   {
    "duration": 8,
    "start_time": "2022-01-24T12:50:43.653Z"
   },
   {
    "duration": 9,
    "start_time": "2022-01-24T12:50:47.791Z"
   },
   {
    "duration": 13,
    "start_time": "2022-01-24T12:50:51.715Z"
   },
   {
    "duration": 8,
    "start_time": "2022-01-24T12:51:35.975Z"
   },
   {
    "duration": 8,
    "start_time": "2022-01-24T12:51:39.867Z"
   },
   {
    "duration": 15,
    "start_time": "2022-01-24T12:51:43.276Z"
   },
   {
    "duration": 16,
    "start_time": "2022-01-24T12:59:44.803Z"
   },
   {
    "duration": 16,
    "start_time": "2022-01-24T13:00:37.580Z"
   },
   {
    "duration": 14,
    "start_time": "2022-01-24T13:00:46.600Z"
   },
   {
    "duration": 312,
    "start_time": "2022-01-24T13:03:06.978Z"
   },
   {
    "duration": 290,
    "start_time": "2022-01-24T13:03:13.878Z"
   },
   {
    "duration": 9,
    "start_time": "2022-01-24T13:03:24.686Z"
   },
   {
    "duration": 11,
    "start_time": "2022-01-24T13:05:03.165Z"
   },
   {
    "duration": 3686,
    "start_time": "2022-01-24T13:05:14.073Z"
   },
   {
    "duration": 272,
    "start_time": "2022-01-24T13:05:45.518Z"
   },
   {
    "duration": 87,
    "start_time": "2022-01-24T13:05:56.532Z"
   },
   {
    "duration": 12,
    "start_time": "2022-01-24T13:05:59.428Z"
   },
   {
    "duration": 13,
    "start_time": "2022-01-24T13:07:55.017Z"
   },
   {
    "duration": 11,
    "start_time": "2022-01-24T13:09:16.335Z"
   },
   {
    "duration": 5,
    "start_time": "2022-01-24T13:24:55.672Z"
   },
   {
    "duration": 6,
    "start_time": "2022-01-24T13:25:15.718Z"
   },
   {
    "duration": 13,
    "start_time": "2022-01-24T13:25:39.484Z"
   },
   {
    "duration": 6,
    "start_time": "2022-01-24T13:26:21.828Z"
   },
   {
    "duration": 13,
    "start_time": "2022-01-24T13:35:51.858Z"
   },
   {
    "duration": 741,
    "start_time": "2022-01-24T14:54:49.713Z"
   },
   {
    "duration": 732,
    "start_time": "2022-01-24T15:10:34.703Z"
   },
   {
    "duration": 28,
    "start_time": "2022-01-24T15:47:13.072Z"
   },
   {
    "duration": 27,
    "start_time": "2022-01-24T15:48:29.280Z"
   },
   {
    "duration": 23,
    "start_time": "2022-01-24T15:49:07.597Z"
   },
   {
    "duration": 93,
    "start_time": "2022-01-24T16:30:38.668Z"
   },
   {
    "duration": 86,
    "start_time": "2022-01-24T16:31:24.790Z"
   },
   {
    "duration": 12,
    "start_time": "2022-01-24T16:36:46.133Z"
   },
   {
    "duration": 9,
    "start_time": "2022-01-24T16:37:13.070Z"
   },
   {
    "duration": 273,
    "start_time": "2022-01-24T16:37:29.330Z"
   },
   {
    "duration": 266,
    "start_time": "2022-01-24T16:37:35.292Z"
   },
   {
    "duration": 9,
    "start_time": "2022-01-24T16:37:46.875Z"
   },
   {
    "duration": 8,
    "start_time": "2022-01-24T16:38:28.856Z"
   },
   {
    "duration": 12,
    "start_time": "2022-01-24T16:38:47.386Z"
   },
   {
    "duration": 96,
    "start_time": "2022-01-24T16:39:35.126Z"
   },
   {
    "duration": 9,
    "start_time": "2022-01-24T16:39:47.324Z"
   },
   {
    "duration": 9,
    "start_time": "2022-01-24T16:39:58.208Z"
   },
   {
    "duration": 10,
    "start_time": "2022-01-24T16:40:02.594Z"
   },
   {
    "duration": 85,
    "start_time": "2022-01-24T16:42:02.360Z"
   },
   {
    "duration": 515,
    "start_time": "2022-01-24T16:42:08.252Z"
   },
   {
    "duration": 495,
    "start_time": "2022-01-24T16:43:19.298Z"
   },
   {
    "duration": 500,
    "start_time": "2022-01-24T16:45:36.275Z"
   },
   {
    "duration": 71,
    "start_time": "2022-01-24T16:55:17.482Z"
   },
   {
    "duration": 10,
    "start_time": "2022-01-24T16:55:17.555Z"
   },
   {
    "duration": 7,
    "start_time": "2022-01-24T16:55:17.567Z"
   },
   {
    "duration": 22,
    "start_time": "2022-01-24T16:55:17.576Z"
   },
   {
    "duration": 12,
    "start_time": "2022-01-24T16:55:17.600Z"
   },
   {
    "duration": 29,
    "start_time": "2022-01-24T16:55:17.613Z"
   },
   {
    "duration": 529,
    "start_time": "2022-01-24T16:55:17.644Z"
   },
   {
    "duration": 9,
    "start_time": "2022-01-24T16:55:18.176Z"
   },
   {
    "duration": 59,
    "start_time": "2022-01-24T16:55:18.187Z"
   },
   {
    "duration": 684,
    "start_time": "2022-01-24T16:55:18.247Z"
   },
   {
    "duration": 714,
    "start_time": "2022-01-24T16:55:18.934Z"
   },
   {
    "duration": 26,
    "start_time": "2022-01-24T16:55:19.651Z"
   },
   {
    "duration": 37,
    "start_time": "2022-01-24T16:55:19.680Z"
   },
   {
    "duration": 406,
    "start_time": "2022-01-24T16:55:19.719Z"
   },
   {
    "duration": 22,
    "start_time": "2022-01-24T16:55:20.126Z"
   },
   {
    "duration": 13,
    "start_time": "2022-01-24T16:55:20.150Z"
   },
   {
    "duration": 266,
    "start_time": "2022-01-24T16:59:50.988Z"
   },
   {
    "duration": 8,
    "start_time": "2022-01-24T17:00:04.065Z"
   },
   {
    "duration": 13,
    "start_time": "2022-01-24T17:00:58.757Z"
   },
   {
    "duration": 13,
    "start_time": "2022-01-24T17:01:03.168Z"
   },
   {
    "duration": 13,
    "start_time": "2022-01-24T17:01:17.644Z"
   },
   {
    "duration": 13,
    "start_time": "2022-01-24T17:01:38.610Z"
   },
   {
    "duration": 18,
    "start_time": "2022-01-24T17:04:25.228Z"
   },
   {
    "duration": 19,
    "start_time": "2022-01-24T17:05:20.592Z"
   },
   {
    "duration": 15,
    "start_time": "2022-01-24T17:05:36.164Z"
   },
   {
    "duration": 267,
    "start_time": "2022-01-24T17:05:51.909Z"
   },
   {
    "duration": 19,
    "start_time": "2022-01-24T17:06:07.199Z"
   },
   {
    "duration": 13,
    "start_time": "2022-01-24T17:06:49.210Z"
   },
   {
    "duration": 91,
    "start_time": "2022-01-24T17:07:43.604Z"
   },
   {
    "duration": 10,
    "start_time": "2022-01-24T17:07:43.698Z"
   },
   {
    "duration": 10,
    "start_time": "2022-01-24T17:07:43.710Z"
   },
   {
    "duration": 16,
    "start_time": "2022-01-24T17:07:43.722Z"
   },
   {
    "duration": 8,
    "start_time": "2022-01-24T17:07:43.740Z"
   },
   {
    "duration": 14,
    "start_time": "2022-01-24T17:07:43.750Z"
   },
   {
    "duration": 640,
    "start_time": "2022-01-24T17:07:43.766Z"
   },
   {
    "duration": 13,
    "start_time": "2022-01-24T17:07:44.408Z"
   },
   {
    "duration": 42,
    "start_time": "2022-01-24T17:07:44.423Z"
   },
   {
    "duration": 726,
    "start_time": "2022-01-24T17:07:44.467Z"
   },
   {
    "duration": 743,
    "start_time": "2022-01-24T17:07:45.195Z"
   },
   {
    "duration": 25,
    "start_time": "2022-01-24T17:07:45.940Z"
   },
   {
    "duration": 42,
    "start_time": "2022-01-24T17:07:45.967Z"
   },
   {
    "duration": 418,
    "start_time": "2022-01-24T17:07:46.010Z"
   },
   {
    "duration": 20,
    "start_time": "2022-01-24T17:07:46.429Z"
   }
  ],
  "kernelspec": {
   "display_name": "Python 3 (ipykernel)",
   "language": "python",
   "name": "python3"
  },
  "language_info": {
   "codemirror_mode": {
    "name": "ipython",
    "version": 3
   },
   "file_extension": ".py",
   "mimetype": "text/x-python",
   "name": "python",
   "nbconvert_exporter": "python",
   "pygments_lexer": "ipython3",
   "version": "3.9.7"
  },
  "toc": {
   "base_numbering": 1,
   "nav_menu": {},
   "number_sections": true,
   "sideBar": true,
   "skip_h1_title": true,
   "title_cell": "Table of Contents",
   "title_sidebar": "Contents",
   "toc_cell": true,
   "toc_position": {},
   "toc_section_display": true,
   "toc_window_display": true
  }
 },
 "nbformat": 4,
 "nbformat_minor": 2
}
