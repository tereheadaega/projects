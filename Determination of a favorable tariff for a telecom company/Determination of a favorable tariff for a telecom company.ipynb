{
 "cells": [
  {
   "cell_type": "markdown",
   "id": "afbf7514",
   "metadata": {},
   "source": [
    "## Аналитика компании \"Мегалайн\"\n",
    "«Мегалайн» — федеральный оператор сотовой связи. Клиентам предлагают два тарифных плана: «Смарт» и «Ультра». Чтобы скорректировать рекламный бюджет, коммерческий департамент хочет понять, какой тариф приносит больше денег.\n",
    "\n",
    "В распоряжении данные 500 пользователей «Мегалайна»: кто они, откуда, каким тарифом пользуются, сколько звонков и сообщений каждый отправил за 2018 год. Нужно проанализировать поведение клиентов и сделать вывод — какой тариф лучше."
   ]
  },
  {
   "cell_type": "markdown",
   "id": "f061715d",
   "metadata": {},
   "source": [
    "# Шаг 1. Изучить общую информацию"
   ]
  },
  {
   "cell_type": "code",
   "execution_count": 1,
   "id": "adc0c607",
   "metadata": {},
   "outputs": [],
   "source": [
    "# импортируем необходимые библиотеки\n",
    "\n",
    "import pandas as pd\n",
    "import numpy as np\n",
    "import matplotlib.pyplot as plt\n",
    "from scipy import stats as st\n"
   ]
  },
  {
   "cell_type": "code",
   "execution_count": 3,
   "id": "4f7b0307",
   "metadata": {},
   "outputs": [
    {
     "name": "stdout",
     "output_type": "stream",
     "text": [
      "<class 'pandas.core.frame.DataFrame'>\n",
      "RangeIndex: 500 entries, 0 to 499\n",
      "Data columns (total 8 columns):\n",
      " #   Column      Non-Null Count  Dtype         \n",
      "---  ------      --------------  -----         \n",
      " 0   user_id     500 non-null    int64         \n",
      " 1   age         500 non-null    int64         \n",
      " 2   churn_date  38 non-null     object        \n",
      " 3   city        500 non-null    object        \n",
      " 4   first_name  500 non-null    object        \n",
      " 5   last_name   500 non-null    object        \n",
      " 6   reg_date    500 non-null    datetime64[ns]\n",
      " 7   tariff      500 non-null    object        \n",
      "dtypes: datetime64[ns](1), int64(2), object(5)\n",
      "memory usage: 31.4+ KB\n",
      "None\n"
     ]
    },
    {
     "data": {
      "text/html": [
       "<div>\n",
       "<style scoped>\n",
       "    .dataframe tbody tr th:only-of-type {\n",
       "        vertical-align: middle;\n",
       "    }\n",
       "\n",
       "    .dataframe tbody tr th {\n",
       "        vertical-align: top;\n",
       "    }\n",
       "\n",
       "    .dataframe thead th {\n",
       "        text-align: right;\n",
       "    }\n",
       "</style>\n",
       "<table border=\"1\" class=\"dataframe\">\n",
       "  <thead>\n",
       "    <tr style=\"text-align: right;\">\n",
       "      <th></th>\n",
       "      <th>user_id</th>\n",
       "      <th>age</th>\n",
       "      <th>churn_date</th>\n",
       "      <th>city</th>\n",
       "      <th>first_name</th>\n",
       "      <th>last_name</th>\n",
       "      <th>reg_date</th>\n",
       "      <th>tariff</th>\n",
       "    </tr>\n",
       "  </thead>\n",
       "  <tbody>\n",
       "    <tr>\n",
       "      <th>495</th>\n",
       "      <td>1495</td>\n",
       "      <td>65</td>\n",
       "      <td>NaN</td>\n",
       "      <td>Иркутск</td>\n",
       "      <td>Авксентий</td>\n",
       "      <td>Фокин</td>\n",
       "      <td>2018-08-28</td>\n",
       "      <td>ultra</td>\n",
       "    </tr>\n",
       "    <tr>\n",
       "      <th>496</th>\n",
       "      <td>1496</td>\n",
       "      <td>36</td>\n",
       "      <td>NaN</td>\n",
       "      <td>Вологда</td>\n",
       "      <td>Трифон</td>\n",
       "      <td>Блохин</td>\n",
       "      <td>2018-01-27</td>\n",
       "      <td>smart</td>\n",
       "    </tr>\n",
       "    <tr>\n",
       "      <th>497</th>\n",
       "      <td>1497</td>\n",
       "      <td>32</td>\n",
       "      <td>NaN</td>\n",
       "      <td>Челябинск</td>\n",
       "      <td>Каролина</td>\n",
       "      <td>Агеева</td>\n",
       "      <td>2018-10-09</td>\n",
       "      <td>smart</td>\n",
       "    </tr>\n",
       "    <tr>\n",
       "      <th>498</th>\n",
       "      <td>1498</td>\n",
       "      <td>68</td>\n",
       "      <td>2018-10-25</td>\n",
       "      <td>Владикавказ</td>\n",
       "      <td>Всеволод</td>\n",
       "      <td>Акимчин</td>\n",
       "      <td>2018-07-19</td>\n",
       "      <td>smart</td>\n",
       "    </tr>\n",
       "    <tr>\n",
       "      <th>499</th>\n",
       "      <td>1499</td>\n",
       "      <td>35</td>\n",
       "      <td>NaN</td>\n",
       "      <td>Пермь</td>\n",
       "      <td>Гектор</td>\n",
       "      <td>Корнилов</td>\n",
       "      <td>2018-09-27</td>\n",
       "      <td>smart</td>\n",
       "    </tr>\n",
       "  </tbody>\n",
       "</table>\n",
       "</div>"
      ],
      "text/plain": [
       "     user_id  age  churn_date         city first_name last_name   reg_date  \\\n",
       "495     1495   65         NaN      Иркутск  Авксентий     Фокин 2018-08-28   \n",
       "496     1496   36         NaN      Вологда     Трифон    Блохин 2018-01-27   \n",
       "497     1497   32         NaN    Челябинск   Каролина    Агеева 2018-10-09   \n",
       "498     1498   68  2018-10-25  Владикавказ   Всеволод   Акимчин 2018-07-19   \n",
       "499     1499   35         NaN        Пермь     Гектор  Корнилов 2018-09-27   \n",
       "\n",
       "    tariff  \n",
       "495  ultra  \n",
       "496  smart  \n",
       "497  smart  \n",
       "498  smart  \n",
       "499  smart  "
      ]
     },
     "execution_count": 3,
     "metadata": {},
     "output_type": "execute_result"
    }
   ],
   "source": [
    "d_users = pd.read_csv('users.csv', parse_dates=['reg_date'])\n",
    "print(d_users.info())\n",
    "d_users.tail()"
   ]
  },
  {
   "cell_type": "code",
   "execution_count": 4,
   "id": "14ed9228",
   "metadata": {},
   "outputs": [
    {
     "name": "stdout",
     "output_type": "stream",
     "text": [
      "<class 'pandas.core.frame.DataFrame'>\n",
      "RangeIndex: 202607 entries, 0 to 202606\n",
      "Data columns (total 4 columns):\n",
      " #   Column     Non-Null Count   Dtype         \n",
      "---  ------     --------------   -----         \n",
      " 0   id         202607 non-null  object        \n",
      " 1   call_date  202607 non-null  datetime64[ns]\n",
      " 2   duration   202607 non-null  float64       \n",
      " 3   user_id    202607 non-null  int64         \n",
      "dtypes: datetime64[ns](1), float64(1), int64(1), object(1)\n",
      "memory usage: 6.2+ MB\n",
      "None\n"
     ]
    },
    {
     "data": {
      "text/html": [
       "<div>\n",
       "<style scoped>\n",
       "    .dataframe tbody tr th:only-of-type {\n",
       "        vertical-align: middle;\n",
       "    }\n",
       "\n",
       "    .dataframe tbody tr th {\n",
       "        vertical-align: top;\n",
       "    }\n",
       "\n",
       "    .dataframe thead th {\n",
       "        text-align: right;\n",
       "    }\n",
       "</style>\n",
       "<table border=\"1\" class=\"dataframe\">\n",
       "  <thead>\n",
       "    <tr style=\"text-align: right;\">\n",
       "      <th></th>\n",
       "      <th>id</th>\n",
       "      <th>call_date</th>\n",
       "      <th>duration</th>\n",
       "      <th>user_id</th>\n",
       "    </tr>\n",
       "  </thead>\n",
       "  <tbody>\n",
       "    <tr>\n",
       "      <th>0</th>\n",
       "      <td>1000_0</td>\n",
       "      <td>2018-07-25</td>\n",
       "      <td>0.00</td>\n",
       "      <td>1000</td>\n",
       "    </tr>\n",
       "    <tr>\n",
       "      <th>1</th>\n",
       "      <td>1000_1</td>\n",
       "      <td>2018-08-17</td>\n",
       "      <td>0.00</td>\n",
       "      <td>1000</td>\n",
       "    </tr>\n",
       "    <tr>\n",
       "      <th>2</th>\n",
       "      <td>1000_2</td>\n",
       "      <td>2018-06-11</td>\n",
       "      <td>2.85</td>\n",
       "      <td>1000</td>\n",
       "    </tr>\n",
       "    <tr>\n",
       "      <th>3</th>\n",
       "      <td>1000_3</td>\n",
       "      <td>2018-09-21</td>\n",
       "      <td>13.80</td>\n",
       "      <td>1000</td>\n",
       "    </tr>\n",
       "    <tr>\n",
       "      <th>4</th>\n",
       "      <td>1000_4</td>\n",
       "      <td>2018-12-15</td>\n",
       "      <td>5.18</td>\n",
       "      <td>1000</td>\n",
       "    </tr>\n",
       "  </tbody>\n",
       "</table>\n",
       "</div>"
      ],
      "text/plain": [
       "       id  call_date  duration  user_id\n",
       "0  1000_0 2018-07-25      0.00     1000\n",
       "1  1000_1 2018-08-17      0.00     1000\n",
       "2  1000_2 2018-06-11      2.85     1000\n",
       "3  1000_3 2018-09-21     13.80     1000\n",
       "4  1000_4 2018-12-15      5.18     1000"
      ]
     },
     "execution_count": 4,
     "metadata": {},
     "output_type": "execute_result"
    }
   ],
   "source": [
    "d_calls = pd.read_csv('calls.csv', parse_dates=['call_date'])\n",
    "print(d_calls.info())\n",
    "d_calls.head()"
   ]
  },
  {
   "cell_type": "code",
   "execution_count": 4,
   "id": "c8a41b9d",
   "metadata": {},
   "outputs": [
    {
     "name": "stdout",
     "output_type": "stream",
     "text": [
      "<class 'pandas.core.frame.DataFrame'>\n",
      "Int64Index: 149396 entries, 0 to 149395\n",
      "Data columns (total 4 columns):\n",
      "id              149396 non-null object\n",
      "mb_used         149396 non-null float64\n",
      "session_date    149396 non-null datetime64[ns]\n",
      "user_id         149396 non-null int64\n",
      "dtypes: datetime64[ns](1), float64(1), int64(1), object(1)\n",
      "memory usage: 5.7+ MB\n",
      "None\n"
     ]
    },
    {
     "data": {
      "text/html": [
       "<div>\n",
       "<style scoped>\n",
       "    .dataframe tbody tr th:only-of-type {\n",
       "        vertical-align: middle;\n",
       "    }\n",
       "\n",
       "    .dataframe tbody tr th {\n",
       "        vertical-align: top;\n",
       "    }\n",
       "\n",
       "    .dataframe thead th {\n",
       "        text-align: right;\n",
       "    }\n",
       "</style>\n",
       "<table border=\"1\" class=\"dataframe\">\n",
       "  <thead>\n",
       "    <tr style=\"text-align: right;\">\n",
       "      <th></th>\n",
       "      <th>id</th>\n",
       "      <th>mb_used</th>\n",
       "      <th>session_date</th>\n",
       "      <th>user_id</th>\n",
       "    </tr>\n",
       "  </thead>\n",
       "  <tbody>\n",
       "    <tr>\n",
       "      <td>0</td>\n",
       "      <td>1000_0</td>\n",
       "      <td>112.95</td>\n",
       "      <td>2018-11-25</td>\n",
       "      <td>1000</td>\n",
       "    </tr>\n",
       "    <tr>\n",
       "      <td>1</td>\n",
       "      <td>1000_1</td>\n",
       "      <td>1052.81</td>\n",
       "      <td>2018-09-07</td>\n",
       "      <td>1000</td>\n",
       "    </tr>\n",
       "    <tr>\n",
       "      <td>2</td>\n",
       "      <td>1000_2</td>\n",
       "      <td>1197.26</td>\n",
       "      <td>2018-06-25</td>\n",
       "      <td>1000</td>\n",
       "    </tr>\n",
       "    <tr>\n",
       "      <td>3</td>\n",
       "      <td>1000_3</td>\n",
       "      <td>550.27</td>\n",
       "      <td>2018-08-22</td>\n",
       "      <td>1000</td>\n",
       "    </tr>\n",
       "    <tr>\n",
       "      <td>4</td>\n",
       "      <td>1000_4</td>\n",
       "      <td>302.56</td>\n",
       "      <td>2018-09-24</td>\n",
       "      <td>1000</td>\n",
       "    </tr>\n",
       "  </tbody>\n",
       "</table>\n",
       "</div>"
      ],
      "text/plain": [
       "       id  mb_used session_date  user_id\n",
       "0  1000_0   112.95   2018-11-25     1000\n",
       "1  1000_1  1052.81   2018-09-07     1000\n",
       "2  1000_2  1197.26   2018-06-25     1000\n",
       "3  1000_3   550.27   2018-08-22     1000\n",
       "4  1000_4   302.56   2018-09-24     1000"
      ]
     },
     "execution_count": 4,
     "metadata": {},
     "output_type": "execute_result"
    }
   ],
   "source": [
    "d_net = pd.read_csv('/datasets/internet.csv', parse_dates=['session_date'], index_col=0)\n",
    "print(d_net.info())\n",
    "d_net.head()"
   ]
  },
  {
   "cell_type": "code",
   "execution_count": 5,
   "id": "1412a19f",
   "metadata": {},
   "outputs": [
    {
     "name": "stdout",
     "output_type": "stream",
     "text": [
      "<class 'pandas.core.frame.DataFrame'>\n",
      "RangeIndex: 123036 entries, 0 to 123035\n",
      "Data columns (total 3 columns):\n",
      "id              123036 non-null object\n",
      "message_date    123036 non-null datetime64[ns]\n",
      "user_id         123036 non-null int64\n",
      "dtypes: datetime64[ns](1), int64(1), object(1)\n",
      "memory usage: 2.8+ MB\n",
      "None\n"
     ]
    },
    {
     "data": {
      "text/html": [
       "<div>\n",
       "<style scoped>\n",
       "    .dataframe tbody tr th:only-of-type {\n",
       "        vertical-align: middle;\n",
       "    }\n",
       "\n",
       "    .dataframe tbody tr th {\n",
       "        vertical-align: top;\n",
       "    }\n",
       "\n",
       "    .dataframe thead th {\n",
       "        text-align: right;\n",
       "    }\n",
       "</style>\n",
       "<table border=\"1\" class=\"dataframe\">\n",
       "  <thead>\n",
       "    <tr style=\"text-align: right;\">\n",
       "      <th></th>\n",
       "      <th>id</th>\n",
       "      <th>message_date</th>\n",
       "      <th>user_id</th>\n",
       "    </tr>\n",
       "  </thead>\n",
       "  <tbody>\n",
       "    <tr>\n",
       "      <td>0</td>\n",
       "      <td>1000_0</td>\n",
       "      <td>2018-06-27</td>\n",
       "      <td>1000</td>\n",
       "    </tr>\n",
       "    <tr>\n",
       "      <td>1</td>\n",
       "      <td>1000_1</td>\n",
       "      <td>2018-10-08</td>\n",
       "      <td>1000</td>\n",
       "    </tr>\n",
       "    <tr>\n",
       "      <td>2</td>\n",
       "      <td>1000_2</td>\n",
       "      <td>2018-08-04</td>\n",
       "      <td>1000</td>\n",
       "    </tr>\n",
       "    <tr>\n",
       "      <td>3</td>\n",
       "      <td>1000_3</td>\n",
       "      <td>2018-06-16</td>\n",
       "      <td>1000</td>\n",
       "    </tr>\n",
       "    <tr>\n",
       "      <td>4</td>\n",
       "      <td>1000_4</td>\n",
       "      <td>2018-12-05</td>\n",
       "      <td>1000</td>\n",
       "    </tr>\n",
       "    <tr>\n",
       "      <td>5</td>\n",
       "      <td>1000_5</td>\n",
       "      <td>2018-06-20</td>\n",
       "      <td>1000</td>\n",
       "    </tr>\n",
       "    <tr>\n",
       "      <td>6</td>\n",
       "      <td>1000_6</td>\n",
       "      <td>2018-11-19</td>\n",
       "      <td>1000</td>\n",
       "    </tr>\n",
       "    <tr>\n",
       "      <td>7</td>\n",
       "      <td>1000_7</td>\n",
       "      <td>2018-10-29</td>\n",
       "      <td>1000</td>\n",
       "    </tr>\n",
       "    <tr>\n",
       "      <td>8</td>\n",
       "      <td>1000_8</td>\n",
       "      <td>2018-06-25</td>\n",
       "      <td>1000</td>\n",
       "    </tr>\n",
       "    <tr>\n",
       "      <td>9</td>\n",
       "      <td>1000_9</td>\n",
       "      <td>2018-12-18</td>\n",
       "      <td>1000</td>\n",
       "    </tr>\n",
       "    <tr>\n",
       "      <td>10</td>\n",
       "      <td>1000_10</td>\n",
       "      <td>2018-05-30</td>\n",
       "      <td>1000</td>\n",
       "    </tr>\n",
       "    <tr>\n",
       "      <td>11</td>\n",
       "      <td>1000_11</td>\n",
       "      <td>2018-07-06</td>\n",
       "      <td>1000</td>\n",
       "    </tr>\n",
       "    <tr>\n",
       "      <td>12</td>\n",
       "      <td>1000_12</td>\n",
       "      <td>2018-08-20</td>\n",
       "      <td>1000</td>\n",
       "    </tr>\n",
       "    <tr>\n",
       "      <td>13</td>\n",
       "      <td>1000_13</td>\n",
       "      <td>2018-10-30</td>\n",
       "      <td>1000</td>\n",
       "    </tr>\n",
       "    <tr>\n",
       "      <td>14</td>\n",
       "      <td>1000_14</td>\n",
       "      <td>2018-09-14</td>\n",
       "      <td>1000</td>\n",
       "    </tr>\n",
       "    <tr>\n",
       "      <td>15</td>\n",
       "      <td>1000_15</td>\n",
       "      <td>2018-08-28</td>\n",
       "      <td>1000</td>\n",
       "    </tr>\n",
       "  </tbody>\n",
       "</table>\n",
       "</div>"
      ],
      "text/plain": [
       "         id message_date  user_id\n",
       "0    1000_0   2018-06-27     1000\n",
       "1    1000_1   2018-10-08     1000\n",
       "2    1000_2   2018-08-04     1000\n",
       "3    1000_3   2018-06-16     1000\n",
       "4    1000_4   2018-12-05     1000\n",
       "5    1000_5   2018-06-20     1000\n",
       "6    1000_6   2018-11-19     1000\n",
       "7    1000_7   2018-10-29     1000\n",
       "8    1000_8   2018-06-25     1000\n",
       "9    1000_9   2018-12-18     1000\n",
       "10  1000_10   2018-05-30     1000\n",
       "11  1000_11   2018-07-06     1000\n",
       "12  1000_12   2018-08-20     1000\n",
       "13  1000_13   2018-10-30     1000\n",
       "14  1000_14   2018-09-14     1000\n",
       "15  1000_15   2018-08-28     1000"
      ]
     },
     "execution_count": 5,
     "metadata": {},
     "output_type": "execute_result"
    }
   ],
   "source": [
    "d_sms = pd.read_csv('/datasets/messages.csv', parse_dates=['message_date'])\n",
    "print(d_sms.info())\n",
    "d_sms.head(16)"
   ]
  },
  {
   "cell_type": "code",
   "execution_count": 6,
   "id": "17205dc0",
   "metadata": {},
   "outputs": [
    {
     "data": {
      "text/html": [
       "<div>\n",
       "<style scoped>\n",
       "    .dataframe tbody tr th:only-of-type {\n",
       "        vertical-align: middle;\n",
       "    }\n",
       "\n",
       "    .dataframe tbody tr th {\n",
       "        vertical-align: top;\n",
       "    }\n",
       "\n",
       "    .dataframe thead th {\n",
       "        text-align: right;\n",
       "    }\n",
       "</style>\n",
       "<table border=\"1\" class=\"dataframe\">\n",
       "  <thead>\n",
       "    <tr style=\"text-align: right;\">\n",
       "      <th></th>\n",
       "      <th>messages_included</th>\n",
       "      <th>mb_per_month_included</th>\n",
       "      <th>minutes_included</th>\n",
       "      <th>rub_monthly_fee</th>\n",
       "      <th>rub_per_gb</th>\n",
       "      <th>rub_per_message</th>\n",
       "      <th>rub_per_minute</th>\n",
       "      <th>tariff_name</th>\n",
       "    </tr>\n",
       "  </thead>\n",
       "  <tbody>\n",
       "    <tr>\n",
       "      <td>0</td>\n",
       "      <td>50</td>\n",
       "      <td>15360</td>\n",
       "      <td>500</td>\n",
       "      <td>550</td>\n",
       "      <td>200</td>\n",
       "      <td>3</td>\n",
       "      <td>3</td>\n",
       "      <td>smart</td>\n",
       "    </tr>\n",
       "    <tr>\n",
       "      <td>1</td>\n",
       "      <td>1000</td>\n",
       "      <td>30720</td>\n",
       "      <td>3000</td>\n",
       "      <td>1950</td>\n",
       "      <td>150</td>\n",
       "      <td>1</td>\n",
       "      <td>1</td>\n",
       "      <td>ultra</td>\n",
       "    </tr>\n",
       "  </tbody>\n",
       "</table>\n",
       "</div>"
      ],
      "text/plain": [
       "   messages_included  mb_per_month_included  minutes_included  \\\n",
       "0                 50                  15360               500   \n",
       "1               1000                  30720              3000   \n",
       "\n",
       "   rub_monthly_fee  rub_per_gb  rub_per_message  rub_per_minute tariff_name  \n",
       "0              550         200                3               3       smart  \n",
       "1             1950         150                1               1       ultra  "
      ]
     },
     "execution_count": 6,
     "metadata": {},
     "output_type": "execute_result"
    }
   ],
   "source": [
    "d_tariffs = pd.read_csv('/datasets/tariffs.csv')\n",
    "d_tariffs.head()"
   ]
  },
  {
   "cell_type": "markdown",
   "id": "70dc1bd7",
   "metadata": {},
   "source": [
    "**Вывод**\n",
    "\n",
    "На данном этапе были загружены 5 таблиц с данными.\n",
    "\n",
    "Таблица \"tariffs\" содержит общую информацию об имеющихся тарифах и стоимости услуг внутри каждого из тарифов.\n",
    "\n",
    "Таблица \"users\" содержит информацию о 500 клиентах \"Мегалайна\". В каждом столбце, кроме \"churn_date\", 500 значений, что может говорить о том, что пропусков в этой таблице нет.\n",
    "\n",
    "Таблица \"calls\" содержит 4 столбца по 202607 значений. Можно утверждать, что в этой таблице пропусков нет.\n",
    "\n",
    "Талица \"internet\" содержит 5 столбцов, в каждом 149396 значений. Однако первый столбец этой таблицы не имеет названия и, возможно, хранит в себе номера строк. В ходе дальнейшей работы это будет проверено и, при необходимости, этот столбец будет удалён.\n",
    "\n",
    "Таблица \"messages\" содержит 123036 строк. В каждом столбце количетсво строк одинаковое. \n",
    "\n",
    "На основе данных таблиц будет произведён дальнейший анализ."
   ]
  },
  {
   "cell_type": "markdown",
   "id": "46840f46",
   "metadata": {},
   "source": [
    "# Шаг 2. Предобработка данных"
   ]
  },
  {
   "cell_type": "markdown",
   "id": "c3ed5910",
   "metadata": {},
   "source": [
    "### Исправление ошибок"
   ]
  },
  {
   "cell_type": "code",
   "execution_count": 7,
   "id": "8010dc3b",
   "metadata": {},
   "outputs": [],
   "source": [
    "# округление израсходованных минут, согласно корпоративным стандартам\n",
    "d_calls['duration'] = d_calls['duration'].apply(np.ceil)"
   ]
  },
  {
   "cell_type": "code",
   "execution_count": 8,
   "id": "45c7d934",
   "metadata": {},
   "outputs": [],
   "source": [
    "# добавление столбца с значением месяц\n",
    "d_calls.insert(2,'month', pd.DatetimeIndex(d_calls['call_date']).month)\n",
    "#d_calls.insert(2,'month', d_calls['call_date'].astype('datetime64[M]'))\n",
    "d_sms.insert(2,'month', pd.DatetimeIndex(d_sms['message_date']).month)\n",
    "d_net.insert(3,'month', pd.DatetimeIndex(d_net['session_date']).month)"
   ]
  },
  {
   "cell_type": "code",
   "execution_count": 9,
   "id": "1eb7b387",
   "metadata": {},
   "outputs": [
    {
     "data": {
      "text/plain": [
       "(12.5, 18.75]                    282\n",
       "(-0.026000000000000002, 6.25]    128\n",
       "(6.25, 12.5]                      49\n",
       "(18.75, 25.0]                     41\n",
       "Name: pers, dtype: int64"
      ]
     },
     "execution_count": 9,
     "metadata": {},
     "output_type": "execute_result"
    }
   ],
   "source": [
    "#display(d_net[d_net['mb_used'] < 1])\n",
    "#13% сессий иметют трафик 0.0 \n",
    "#d_net.groupby('user_id').count()\n",
    "d_0net = d_net[d_net['mb_used'] < 0.1].groupby('user_id')['id'].count()\n",
    "d_1net = d_net.groupby('user_id')['id'].count()\n",
    "zero_session = []\n",
    "for i in range (1000,1500):\n",
    "    try:\n",
    "        t= d_0net[i]/d_1net[i]*100\n",
    "        zero_session.append(t)\n",
    "    except:\n",
    "        zero_session.append(0)\n",
    "zero_session= pd.DataFrame(data= zero_session, columns=['pers'])\n",
    "\n",
    "zero_session['pers'].value_counts(bins=4)\n",
    "#zero_session.loc[zero_session['pers'] == 0].count() #пользователей, кто не пользовался интернетом 6 "
   ]
  },
  {
   "cell_type": "markdown",
   "id": "f4e588a5",
   "metadata": {},
   "source": [
    "Таблица \"internet\" содержит столбец, дублирующий номера строк. Он был удалён. Далее значения длительности телефонных разговоров были округлены согласно корпоративным стандартам.\n",
    "Были изучены значения в столбце used_mb, показывающим объём потраченного за сессию интернет-трафика (в мегабайтах). Отмечено, что около 13% значений менее 0,1. Будем считать, что в данных сессиях объём передаваемых данных был столь незначителен, что им можно пренебречь. "
   ]
  },
  {
   "cell_type": "markdown",
   "id": "f24d9000",
   "metadata": {},
   "source": [
    "### Добавление рассчётов"
   ]
  },
  {
   "cell_type": "markdown",
   "id": "631ba762",
   "metadata": {},
   "source": [
    "Посчитайте для каждого пользователя:\n",
    "\n",
    "    количество сделанных звонков и израсходованных минут разговора по месяцам;\n",
    "    количество отправленных сообщений по месяцам;\n",
    "    объем израсходованного интернет-трафика по месяцам;\n",
    "    помесячную выручку с каждого пользователя (вычтите бесплатный лимит из суммарного количества звонков, сообщений и интернет-трафика; остаток умножьте на значение из тарифного плана; прибавьте абонентскую плату, соответствующую тарифному плану)."
   ]
  },
  {
   "cell_type": "code",
   "execution_count": 12,
   "id": "58d7ce70",
   "metadata": {},
   "outputs": [
    {
     "data": {
      "text/html": [
       "<div>\n",
       "<style scoped>\n",
       "    .dataframe tbody tr th:only-of-type {\n",
       "        vertical-align: middle;\n",
       "    }\n",
       "\n",
       "    .dataframe tbody tr th {\n",
       "        vertical-align: top;\n",
       "    }\n",
       "\n",
       "    .dataframe thead th {\n",
       "        text-align: right;\n",
       "    }\n",
       "</style>\n",
       "<table border=\"1\" class=\"dataframe\">\n",
       "  <thead>\n",
       "    <tr style=\"text-align: right;\">\n",
       "      <th></th>\n",
       "      <th>user_id</th>\n",
       "      <th>month</th>\n",
       "      <th>calls_count</th>\n",
       "      <th>calls_sum</th>\n",
       "    </tr>\n",
       "  </thead>\n",
       "  <tbody>\n",
       "    <tr>\n",
       "      <td>0</td>\n",
       "      <td>1000</td>\n",
       "      <td>5</td>\n",
       "      <td>22</td>\n",
       "      <td>159.0</td>\n",
       "    </tr>\n",
       "    <tr>\n",
       "      <td>1</td>\n",
       "      <td>1000</td>\n",
       "      <td>6</td>\n",
       "      <td>43</td>\n",
       "      <td>172.0</td>\n",
       "    </tr>\n",
       "    <tr>\n",
       "      <td>2</td>\n",
       "      <td>1000</td>\n",
       "      <td>7</td>\n",
       "      <td>47</td>\n",
       "      <td>340.0</td>\n",
       "    </tr>\n",
       "    <tr>\n",
       "      <td>3</td>\n",
       "      <td>1000</td>\n",
       "      <td>8</td>\n",
       "      <td>52</td>\n",
       "      <td>408.0</td>\n",
       "    </tr>\n",
       "    <tr>\n",
       "      <td>4</td>\n",
       "      <td>1000</td>\n",
       "      <td>9</td>\n",
       "      <td>58</td>\n",
       "      <td>466.0</td>\n",
       "    </tr>\n",
       "  </tbody>\n",
       "</table>\n",
       "</div>"
      ],
      "text/plain": [
       "   user_id  month  calls_count  calls_sum\n",
       "0     1000      5           22      159.0\n",
       "1     1000      6           43      172.0\n",
       "2     1000      7           47      340.0\n",
       "3     1000      8           52      408.0\n",
       "4     1000      9           58      466.0"
      ]
     },
     "execution_count": 12,
     "metadata": {},
     "output_type": "execute_result"
    }
   ],
   "source": [
    "# Звонки\n",
    "calls = d_calls.pivot_table(index=['user_id', 'month'], values='duration', aggfunc=['count', 'sum']).reset_index()\n",
    "calls.columns = ['user_id', 'month', 'calls_count', 'calls_sum']\n",
    "calls.head()"
   ]
  },
  {
   "cell_type": "code",
   "execution_count": 27,
   "id": "351a826a",
   "metadata": {},
   "outputs": [
    {
     "data": {
      "text/plain": [
       "492"
      ]
     },
     "execution_count": 27,
     "metadata": {},
     "output_type": "execute_result"
    }
   ],
   "source": [
    "calls.user_id.nunique()"
   ]
  },
  {
   "cell_type": "code",
   "execution_count": 14,
   "id": "b80d19c9",
   "metadata": {},
   "outputs": [
    {
     "data": {
      "text/html": [
       "<div>\n",
       "<style scoped>\n",
       "    .dataframe tbody tr th:only-of-type {\n",
       "        vertical-align: middle;\n",
       "    }\n",
       "\n",
       "    .dataframe tbody tr th {\n",
       "        vertical-align: top;\n",
       "    }\n",
       "\n",
       "    .dataframe thead th {\n",
       "        text-align: right;\n",
       "    }\n",
       "</style>\n",
       "<table border=\"1\" class=\"dataframe\">\n",
       "  <thead>\n",
       "    <tr style=\"text-align: right;\">\n",
       "      <th></th>\n",
       "      <th>user_id</th>\n",
       "      <th>month</th>\n",
       "      <th>messages_count</th>\n",
       "    </tr>\n",
       "  </thead>\n",
       "  <tbody>\n",
       "    <tr>\n",
       "      <td>0</td>\n",
       "      <td>1000</td>\n",
       "      <td>5</td>\n",
       "      <td>22</td>\n",
       "    </tr>\n",
       "    <tr>\n",
       "      <td>1</td>\n",
       "      <td>1000</td>\n",
       "      <td>6</td>\n",
       "      <td>60</td>\n",
       "    </tr>\n",
       "    <tr>\n",
       "      <td>2</td>\n",
       "      <td>1000</td>\n",
       "      <td>7</td>\n",
       "      <td>75</td>\n",
       "    </tr>\n",
       "    <tr>\n",
       "      <td>3</td>\n",
       "      <td>1000</td>\n",
       "      <td>8</td>\n",
       "      <td>81</td>\n",
       "    </tr>\n",
       "    <tr>\n",
       "      <td>4</td>\n",
       "      <td>1000</td>\n",
       "      <td>9</td>\n",
       "      <td>57</td>\n",
       "    </tr>\n",
       "  </tbody>\n",
       "</table>\n",
       "</div>"
      ],
      "text/plain": [
       "   user_id  month  messages_count\n",
       "0     1000      5              22\n",
       "1     1000      6              60\n",
       "2     1000      7              75\n",
       "3     1000      8              81\n",
       "4     1000      9              57"
      ]
     },
     "execution_count": 14,
     "metadata": {},
     "output_type": "execute_result"
    }
   ],
   "source": [
    "# СМС\n",
    "messages = d_sms.pivot_table(index=['user_id', 'month'], values='id', aggfunc='count').reset_index()\n",
    "messages.columns = ['user_id', 'month', 'messages_count']\n",
    "messages.head()"
   ]
  },
  {
   "cell_type": "code",
   "execution_count": 26,
   "id": "6ca814e2",
   "metadata": {},
   "outputs": [
    {
     "data": {
      "text/plain": [
       "426"
      ]
     },
     "execution_count": 26,
     "metadata": {},
     "output_type": "execute_result"
    }
   ],
   "source": [
    "messages.user_id.nunique()"
   ]
  },
  {
   "cell_type": "code",
   "execution_count": 16,
   "id": "04d20f73",
   "metadata": {},
   "outputs": [
    {
     "data": {
      "text/html": [
       "<div>\n",
       "<style scoped>\n",
       "    .dataframe tbody tr th:only-of-type {\n",
       "        vertical-align: middle;\n",
       "    }\n",
       "\n",
       "    .dataframe tbody tr th {\n",
       "        vertical-align: top;\n",
       "    }\n",
       "\n",
       "    .dataframe thead th {\n",
       "        text-align: right;\n",
       "    }\n",
       "</style>\n",
       "<table border=\"1\" class=\"dataframe\">\n",
       "  <thead>\n",
       "    <tr style=\"text-align: right;\">\n",
       "      <th></th>\n",
       "      <th>user_id</th>\n",
       "      <th>month</th>\n",
       "      <th>mb_sum_internet</th>\n",
       "    </tr>\n",
       "  </thead>\n",
       "  <tbody>\n",
       "    <tr>\n",
       "      <td>0</td>\n",
       "      <td>1000</td>\n",
       "      <td>5</td>\n",
       "      <td>2253.49</td>\n",
       "    </tr>\n",
       "    <tr>\n",
       "      <td>1</td>\n",
       "      <td>1000</td>\n",
       "      <td>6</td>\n",
       "      <td>23233.77</td>\n",
       "    </tr>\n",
       "    <tr>\n",
       "      <td>2</td>\n",
       "      <td>1000</td>\n",
       "      <td>7</td>\n",
       "      <td>14003.64</td>\n",
       "    </tr>\n",
       "    <tr>\n",
       "      <td>3</td>\n",
       "      <td>1000</td>\n",
       "      <td>8</td>\n",
       "      <td>14055.93</td>\n",
       "    </tr>\n",
       "    <tr>\n",
       "      <td>4</td>\n",
       "      <td>1000</td>\n",
       "      <td>9</td>\n",
       "      <td>14568.91</td>\n",
       "    </tr>\n",
       "  </tbody>\n",
       "</table>\n",
       "</div>"
      ],
      "text/plain": [
       "   user_id  month  mb_sum_internet\n",
       "0     1000      5          2253.49\n",
       "1     1000      6         23233.77\n",
       "2     1000      7         14003.64\n",
       "3     1000      8         14055.93\n",
       "4     1000      9         14568.91"
      ]
     },
     "execution_count": 16,
     "metadata": {},
     "output_type": "execute_result"
    }
   ],
   "source": [
    "# Интернет\n",
    "internet = d_net.pivot_table(index=['user_id', 'month'], values='mb_used', aggfunc='sum').reset_index()\n",
    "internet.columns = ['user_id', 'month', 'mb_sum_internet']\n",
    "internet.head()"
   ]
  },
  {
   "cell_type": "code",
   "execution_count": 25,
   "id": "7f62492d",
   "metadata": {},
   "outputs": [
    {
     "data": {
      "text/plain": [
       "497"
      ]
     },
     "execution_count": 25,
     "metadata": {},
     "output_type": "execute_result"
    }
   ],
   "source": [
    "internet.user_id.nunique()"
   ]
  },
  {
   "cell_type": "code",
   "execution_count": 24,
   "id": "0e3bcab3",
   "metadata": {},
   "outputs": [
    {
     "data": {
      "text/plain": [
       "500"
      ]
     },
     "execution_count": 24,
     "metadata": {},
     "output_type": "execute_result"
    }
   ],
   "source": [
    "d_users.user_id.nunique()"
   ]
  },
  {
   "cell_type": "code",
   "execution_count": 21,
   "id": "7f8945bb",
   "metadata": {},
   "outputs": [
    {
     "data": {
      "text/html": [
       "<div>\n",
       "<style scoped>\n",
       "    .dataframe tbody tr th:only-of-type {\n",
       "        vertical-align: middle;\n",
       "    }\n",
       "\n",
       "    .dataframe tbody tr th {\n",
       "        vertical-align: top;\n",
       "    }\n",
       "\n",
       "    .dataframe thead th {\n",
       "        text-align: right;\n",
       "    }\n",
       "</style>\n",
       "<table border=\"1\" class=\"dataframe\">\n",
       "  <thead>\n",
       "    <tr style=\"text-align: right;\">\n",
       "      <th></th>\n",
       "      <th>user_id</th>\n",
       "      <th>month</th>\n",
       "      <th>calls_count</th>\n",
       "      <th>calls_sum</th>\n",
       "      <th>messages_count</th>\n",
       "      <th>mb_sum_internet</th>\n",
       "      <th>tariff</th>\n",
       "      <th>city</th>\n",
       "    </tr>\n",
       "  </thead>\n",
       "  <tbody>\n",
       "    <tr>\n",
       "      <td>0</td>\n",
       "      <td>1000</td>\n",
       "      <td>5</td>\n",
       "      <td>22.0</td>\n",
       "      <td>159.0</td>\n",
       "      <td>22.0</td>\n",
       "      <td>2253.49</td>\n",
       "      <td>ultra</td>\n",
       "      <td>Краснодар</td>\n",
       "    </tr>\n",
       "    <tr>\n",
       "      <td>1</td>\n",
       "      <td>1000</td>\n",
       "      <td>6</td>\n",
       "      <td>43.0</td>\n",
       "      <td>172.0</td>\n",
       "      <td>60.0</td>\n",
       "      <td>23233.77</td>\n",
       "      <td>ultra</td>\n",
       "      <td>Краснодар</td>\n",
       "    </tr>\n",
       "    <tr>\n",
       "      <td>2</td>\n",
       "      <td>1000</td>\n",
       "      <td>7</td>\n",
       "      <td>47.0</td>\n",
       "      <td>340.0</td>\n",
       "      <td>75.0</td>\n",
       "      <td>14003.64</td>\n",
       "      <td>ultra</td>\n",
       "      <td>Краснодар</td>\n",
       "    </tr>\n",
       "    <tr>\n",
       "      <td>3</td>\n",
       "      <td>1000</td>\n",
       "      <td>8</td>\n",
       "      <td>52.0</td>\n",
       "      <td>408.0</td>\n",
       "      <td>81.0</td>\n",
       "      <td>14055.93</td>\n",
       "      <td>ultra</td>\n",
       "      <td>Краснодар</td>\n",
       "    </tr>\n",
       "    <tr>\n",
       "      <td>4</td>\n",
       "      <td>1000</td>\n",
       "      <td>9</td>\n",
       "      <td>58.0</td>\n",
       "      <td>466.0</td>\n",
       "      <td>57.0</td>\n",
       "      <td>14568.91</td>\n",
       "      <td>ultra</td>\n",
       "      <td>Краснодар</td>\n",
       "    </tr>\n",
       "    <tr>\n",
       "      <td>...</td>\n",
       "      <td>...</td>\n",
       "      <td>...</td>\n",
       "      <td>...</td>\n",
       "      <td>...</td>\n",
       "      <td>...</td>\n",
       "      <td>...</td>\n",
       "      <td>...</td>\n",
       "      <td>...</td>\n",
       "    </tr>\n",
       "    <tr>\n",
       "      <td>3209</td>\n",
       "      <td>1489</td>\n",
       "      <td>9</td>\n",
       "      <td>NaN</td>\n",
       "      <td>NaN</td>\n",
       "      <td>32.0</td>\n",
       "      <td>17206.30</td>\n",
       "      <td>smart</td>\n",
       "      <td>Санкт-Петербург</td>\n",
       "    </tr>\n",
       "    <tr>\n",
       "      <td>3210</td>\n",
       "      <td>1489</td>\n",
       "      <td>10</td>\n",
       "      <td>NaN</td>\n",
       "      <td>NaN</td>\n",
       "      <td>21.0</td>\n",
       "      <td>19559.44</td>\n",
       "      <td>smart</td>\n",
       "      <td>Санкт-Петербург</td>\n",
       "    </tr>\n",
       "    <tr>\n",
       "      <td>3211</td>\n",
       "      <td>1489</td>\n",
       "      <td>11</td>\n",
       "      <td>NaN</td>\n",
       "      <td>NaN</td>\n",
       "      <td>20.0</td>\n",
       "      <td>17491.56</td>\n",
       "      <td>smart</td>\n",
       "      <td>Санкт-Петербург</td>\n",
       "    </tr>\n",
       "    <tr>\n",
       "      <td>3212</td>\n",
       "      <td>1489</td>\n",
       "      <td>12</td>\n",
       "      <td>NaN</td>\n",
       "      <td>NaN</td>\n",
       "      <td>35.0</td>\n",
       "      <td>17322.51</td>\n",
       "      <td>smart</td>\n",
       "      <td>Санкт-Петербург</td>\n",
       "    </tr>\n",
       "    <tr>\n",
       "      <td>3213</td>\n",
       "      <td>1476</td>\n",
       "      <td>4</td>\n",
       "      <td>NaN</td>\n",
       "      <td>NaN</td>\n",
       "      <td>NaN</td>\n",
       "      <td>530.78</td>\n",
       "      <td>ultra</td>\n",
       "      <td>Москва</td>\n",
       "    </tr>\n",
       "  </tbody>\n",
       "</table>\n",
       "<p>3214 rows × 8 columns</p>\n",
       "</div>"
      ],
      "text/plain": [
       "      user_id  month  calls_count  calls_sum  messages_count  mb_sum_internet  \\\n",
       "0        1000      5         22.0      159.0            22.0          2253.49   \n",
       "1        1000      6         43.0      172.0            60.0         23233.77   \n",
       "2        1000      7         47.0      340.0            75.0         14003.64   \n",
       "3        1000      8         52.0      408.0            81.0         14055.93   \n",
       "4        1000      9         58.0      466.0            57.0         14568.91   \n",
       "...       ...    ...          ...        ...             ...              ...   \n",
       "3209     1489      9          NaN        NaN            32.0         17206.30   \n",
       "3210     1489     10          NaN        NaN            21.0         19559.44   \n",
       "3211     1489     11          NaN        NaN            20.0         17491.56   \n",
       "3212     1489     12          NaN        NaN            35.0         17322.51   \n",
       "3213     1476      4          NaN        NaN             NaN           530.78   \n",
       "\n",
       "     tariff             city  \n",
       "0     ultra        Краснодар  \n",
       "1     ultra        Краснодар  \n",
       "2     ultra        Краснодар  \n",
       "3     ultra        Краснодар  \n",
       "4     ultra        Краснодар  \n",
       "...     ...              ...  \n",
       "3209  smart  Санкт-Петербург  \n",
       "3210  smart  Санкт-Петербург  \n",
       "3211  smart  Санкт-Петербург  \n",
       "3212  smart  Санкт-Петербург  \n",
       "3213  ultra           Москва  \n",
       "\n",
       "[3214 rows x 8 columns]"
      ]
     },
     "execution_count": 21,
     "metadata": {},
     "output_type": "execute_result"
    }
   ],
   "source": [
    "revenue = calls.merge(messages, on=['user_id', 'month'], how='outer')\n",
    "revenue = revenue.merge(internet, on=['user_id', 'month'], how='outer')\n",
    "revenue = revenue.merge(d_users[['user_id', 'tariff', 'city']], on='user_id', how='left')\n",
    "revenue"
   ]
  },
  {
   "cell_type": "code",
   "execution_count": 23,
   "id": "b0463c28",
   "metadata": {},
   "outputs": [
    {
     "data": {
      "text/plain": [
       "498"
      ]
     },
     "execution_count": 23,
     "metadata": {},
     "output_type": "execute_result"
    }
   ],
   "source": [
    "revenue.user_id.nunique()"
   ]
  },
  {
   "cell_type": "code",
   "execution_count": 28,
   "id": "b6701bd9",
   "metadata": {},
   "outputs": [
    {
     "data": {
      "text/html": [
       "<div>\n",
       "<style scoped>\n",
       "    .dataframe tbody tr th:only-of-type {\n",
       "        vertical-align: middle;\n",
       "    }\n",
       "\n",
       "    .dataframe tbody tr th {\n",
       "        vertical-align: top;\n",
       "    }\n",
       "\n",
       "    .dataframe thead th {\n",
       "        text-align: right;\n",
       "    }\n",
       "</style>\n",
       "<table border=\"1\" class=\"dataframe\">\n",
       "  <thead>\n",
       "    <tr style=\"text-align: right;\">\n",
       "      <th></th>\n",
       "      <th>user_id</th>\n",
       "      <th>age</th>\n",
       "      <th>churn_date</th>\n",
       "      <th>city</th>\n",
       "      <th>first_name</th>\n",
       "      <th>last_name</th>\n",
       "      <th>reg_date</th>\n",
       "      <th>tariff</th>\n",
       "    </tr>\n",
       "  </thead>\n",
       "  <tbody>\n",
       "    <tr>\n",
       "      <td>128</td>\n",
       "      <td>1128</td>\n",
       "      <td>51</td>\n",
       "      <td>2018-12-23</td>\n",
       "      <td>Волжский</td>\n",
       "      <td>Ксения</td>\n",
       "      <td>Агаева</td>\n",
       "      <td>2018-12-15</td>\n",
       "      <td>ultra</td>\n",
       "    </tr>\n",
       "    <tr>\n",
       "      <td>371</td>\n",
       "      <td>1371</td>\n",
       "      <td>50</td>\n",
       "      <td>2018-12-30</td>\n",
       "      <td>Омск</td>\n",
       "      <td>Ириней</td>\n",
       "      <td>Трофимов</td>\n",
       "      <td>2018-12-25</td>\n",
       "      <td>smart</td>\n",
       "    </tr>\n",
       "  </tbody>\n",
       "</table>\n",
       "</div>"
      ],
      "text/plain": [
       "     user_id  age  churn_date      city first_name last_name   reg_date tariff\n",
       "128     1128   51  2018-12-23  Волжский     Ксения    Агаева 2018-12-15  ultra\n",
       "371     1371   50  2018-12-30      Омск     Ириней  Трофимов 2018-12-25  smart"
      ]
     },
     "execution_count": 28,
     "metadata": {},
     "output_type": "execute_result"
    }
   ],
   "source": [
    "d_users[d_users['user_id'].isin(revenue['user_id'].unique()) == False]"
   ]
  },
  {
   "cell_type": "markdown",
   "id": "c0c7c221",
   "metadata": {},
   "source": [
    "Они отключились почти сразу после подключения. Они действительно могли просто не успеть воспользоваться услугами связи. Т.е., их отсуствие в итоговой тблице нормально и не говорит о том, что мы ошиблись."
   ]
  },
  {
   "cell_type": "code",
   "execution_count": 29,
   "id": "06058e76",
   "metadata": {},
   "outputs": [],
   "source": [
    "# создадим новые, объединённые таблицы, в которых будут храниться данные пользователей и их расходы по статьям\n",
    "d_c_u = d_users.merge(d_calls, how = 'outer', on = ['user_id'])\n",
    "d_c_u = d_c_u.drop(columns=['age' ,'id','call_date'])\n",
    "d_s_u = d_users.merge(d_sms, how = 'outer', on = ['user_id'])\n",
    "d_s_u = d_s_u.drop(columns=['age', 'id','message_date'])\n",
    "d_n_u = d_users.merge(d_net, how = 'outer', on = ['user_id'])\n",
    "d_n_u = d_n_u.drop(columns=['age', 'id', 'session_date'])"
   ]
  },
  {
   "cell_type": "code",
   "execution_count": 30,
   "id": "0ea977bd",
   "metadata": {},
   "outputs": [],
   "source": [
    "data = d_users.copy()"
   ]
  },
  {
   "cell_type": "code",
   "execution_count": 31,
   "id": "4b4d2a15",
   "metadata": {},
   "outputs": [],
   "source": [
    "# в таблице d_c_u хранятся значения количества звонков и потраченных минут\n",
    "for id in range(1000,1500):\n",
    "    for month in range(1,13):\n",
    "        d_c_u.loc[(d_c_u['user_id']== id) & (d_c_u['month']== month),'month_count']= d_c_u.loc[(d_c_u['user_id']== id) & (d_c_u['month']== month)]['duration'].count()\n",
    "        d_c_u.loc[(d_c_u['user_id']== id) & (d_c_u['month']== month),'month_duration']= d_c_u.loc[(d_c_u['user_id']== id) & (d_c_u['month']== month)]['duration'].sum()\n",
    "d_c_u = d_c_u.drop(columns=['duration']).drop_duplicates().sort_values(by=['user_id', 'month'])\n"
   ]
  },
  {
   "cell_type": "code",
   "execution_count": 32,
   "id": "e764547f",
   "metadata": {},
   "outputs": [],
   "source": [
    "d_c_u['month_count'] = d_c_u['month_count'].fillna(0)\n",
    "d_c_u['month_duration'] = d_c_u['month_duration'].fillna(0)"
   ]
  },
  {
   "cell_type": "code",
   "execution_count": 33,
   "id": "533fec96",
   "metadata": {},
   "outputs": [],
   "source": [
    "# в таблице d_s_u хранятся значения количества отправленных сообщений по месяцам\n",
    "for id in range(1000,1500):\n",
    "    for month in range(1,13):\n",
    "        d_s_u.loc[(d_s_u['user_id']== id) & (d_s_u['month']== month),'month_sms'] = d_s_u.loc[(d_s_u['user_id']== id) & (d_s_u['month']== month)]['month'].count()   \n",
    "d_s_u = d_s_u.drop_duplicates().sort_values(by=['user_id', 'month'])#.fillna(0)"
   ]
  },
  {
   "cell_type": "code",
   "execution_count": 34,
   "id": "6f6f1521",
   "metadata": {},
   "outputs": [],
   "source": [
    "d_s_u['month_sms'] = d_s_u['month_sms'].fillna(0)"
   ]
  },
  {
   "cell_type": "code",
   "execution_count": 35,
   "id": "fb6274f9",
   "metadata": {},
   "outputs": [],
   "source": [
    "# в таблице d_n_u хранятся объем израсходованного интернет-трафика по месяцам (в Мб.)\n",
    "for id in range(1000,1500):\n",
    "    for month in range(1,13):\n",
    "        d_n_u.loc[(d_n_u['user_id']== id) & (d_n_u['month']== month),'month_mg']=(np.ceil(d_n_u.loc[(d_n_u['user_id']== id) & (d_n_u['month']== month)]['mb_used'].sum()))\n",
    "d_n_u = d_n_u.drop(columns=['mb_used']).drop_duplicates().sort_values(by=['user_id', 'month'])"
   ]
  },
  {
   "cell_type": "code",
   "execution_count": 36,
   "id": "0c80c662",
   "metadata": {},
   "outputs": [],
   "source": [
    "# Проверим значения на превышение пакетного предложения по количеству звонков\n",
    "def call_limits(row):\n",
    "    # Функция проверяет, есть ли превышение разговорных минут. \n",
    "    # В случае превышения функция возвращает сумму, на которую были предоставлены услуги\n",
    "    tariff = row['tariff']\n",
    "    if tariff == 'smart':\n",
    "        if row['month_duration'] > 500:\n",
    "            return 3*(row['month_duration']-500)\n",
    "        else:\n",
    "            return 0\n",
    "    else:\n",
    "        if row['month_duration'] > 3000:\n",
    "            return 1*(row['month_duration']-3000)\n",
    "        else:\n",
    "            return 0\n",
    "\n",
    "d_c_u['call_profit'] = d_c_u.apply(call_limits, axis =1)"
   ]
  },
  {
   "cell_type": "code",
   "execution_count": 37,
   "id": "1007b58e",
   "metadata": {},
   "outputs": [],
   "source": [
    "# Проверим значения на превышение пакетного предложения по количеству смс\n",
    "def sms_limits(row):\n",
    "    # Функция проверяет, есть ли превышение количества смс. \n",
    "    # В случае превышения функция возвращает сумму, на которую были предоставлены услуги\n",
    "    tariff = row['tariff']\n",
    "    if tariff == 'smart':\n",
    "        if row['month_sms'] > 50:\n",
    "            return 3*(row['month_sms']-50)\n",
    "        else:\n",
    "            return 0\n",
    "    else:\n",
    "        if row['month_sms'] > 1000:\n",
    "            return 1*(row['month_sms']-1000)\n",
    "        else:\n",
    "            return 0\n",
    "\n",
    "d_s_u['sms_profit'] = d_s_u.apply(sms_limits, axis =1)"
   ]
  },
  {
   "cell_type": "code",
   "execution_count": 38,
   "id": "3160c05b",
   "metadata": {},
   "outputs": [],
   "source": [
    "d_s_u['sms_profit'] = d_s_u['sms_profit'].fillna(0)"
   ]
  },
  {
   "cell_type": "code",
   "execution_count": 39,
   "id": "f1481846",
   "metadata": {},
   "outputs": [],
   "source": [
    "# Проверим значения на превышение пакетного предложения по количеству Mb\n",
    "def mb_limits(row):\n",
    "    # Функция проверяет, есть ли превышение количества Mb. \n",
    "    # В случае превышения функция возвращает сумму, на которую были предоставлены услуги\n",
    "    tariff = row['tariff']\n",
    "    if tariff == 'smart':\n",
    "        if row['month_mg'] > 15360:\n",
    "            return 200*(np.ceil((row['month_mg']-15360)/1024))\n",
    "        else:\n",
    "            return 0\n",
    "    else:\n",
    "        if row['month_mg'] > 30720:\n",
    "            return 150*(np.ceil((row['month_mg']-30720)/1024))\n",
    "        else:\n",
    "            return 0\n",
    "\n",
    "d_n_u['net_profit'] = d_n_u.apply(mb_limits, axis =1)"
   ]
  },
  {
   "cell_type": "code",
   "execution_count": 40,
   "id": "db1f33e7",
   "metadata": {},
   "outputs": [],
   "source": [
    "d_n_u['month_mg'] = d_n_u['month_mg'].fillna(0)"
   ]
  },
  {
   "cell_type": "code",
   "execution_count": 41,
   "id": "ec4a57b4",
   "metadata": {},
   "outputs": [],
   "source": [
    "data = data.merge(d_n_u, how='right', on = ['user_id','churn_date','city','first_name', 'reg_date',\n",
    "                                          'last_name', 'tariff'])\n",
    "data = data.drop(columns=['month_mg'])\n",
    "#data_users = users.merge(tariffs, left_on='tariff', right_on='tariff_name', how='outer')"
   ]
  },
  {
   "cell_type": "code",
   "execution_count": 44,
   "id": "c84a831f",
   "metadata": {},
   "outputs": [
    {
     "data": {
      "text/plain": [
       "500"
      ]
     },
     "execution_count": 44,
     "metadata": {},
     "output_type": "execute_result"
    }
   ],
   "source": [
    "data.user_id.nunique()"
   ]
  },
  {
   "cell_type": "code",
   "execution_count": 45,
   "id": "0b56516a",
   "metadata": {},
   "outputs": [],
   "source": [
    "# Пришлось поставить костыль, т.к. так и не понял, как объединить мои таблицы чтобы всё завелось.\n",
    "data.loc[data['user_id']==1128,'month'] = 12\n",
    "data.loc[data['user_id']==1371,'month'] = 12"
   ]
  },
  {
   "cell_type": "code",
   "execution_count": 46,
   "id": "2d614a88",
   "metadata": {},
   "outputs": [],
   "source": [
    "data = data[data['month'].isna()==False]"
   ]
  },
  {
   "cell_type": "code",
   "execution_count": 48,
   "id": "d0b113f2",
   "metadata": {},
   "outputs": [],
   "source": [
    "kornilov = d_c_u[d_c_u['user_id']== 1273]\n",
    "kornilov = kornilov.drop(columns=['month_count','month_duration','call_profit'])"
   ]
  },
  {
   "cell_type": "code",
   "execution_count": 49,
   "id": "84b88202",
   "metadata": {},
   "outputs": [],
   "source": [
    "data = data.merge(kornilov, how = 'outer', on = ['user_id','city','first_name','last_name','churn_date',\n",
    "                                                'reg_date', 'tariff','month'])"
   ]
  },
  {
   "cell_type": "code",
   "execution_count": 50,
   "id": "15bbd4fa",
   "metadata": {
    "scrolled": false
   },
   "outputs": [],
   "source": [
    "data['net_profit'] = data['net_profit'].fillna(0)"
   ]
  },
  {
   "cell_type": "code",
   "execution_count": 51,
   "id": "08150e66",
   "metadata": {},
   "outputs": [],
   "source": [
    "data = data.merge(d_c_u, how='left', on = ['user_id','churn_date','city','first_name', 'reg_date',\n",
    "                                          'last_name', 'tariff','month'])\n",
    "data = data.drop(columns=['month_count', 'month_duration'])\n",
    "data['call_profit'] = data['call_profit'].fillna(0)"
   ]
  },
  {
   "cell_type": "code",
   "execution_count": 52,
   "id": "4ddcc593",
   "metadata": {},
   "outputs": [],
   "source": [
    "data = data.merge(d_s_u, how='left', on = ['user_id','churn_date','city','first_name', 'reg_date',\n",
    "                                          'last_name', 'tariff','month'])\n",
    "data = data.drop(columns=['month_sms'])\n",
    "data['sms_profit'] = data['sms_profit'].fillna(0)"
   ]
  },
  {
   "cell_type": "code",
   "execution_count": 55,
   "id": "108f20fe",
   "metadata": {},
   "outputs": [
    {
     "data": {
      "text/plain": [
       "500"
      ]
     },
     "execution_count": 55,
     "metadata": {},
     "output_type": "execute_result"
    }
   ],
   "source": [
    "data.user_id.nunique()"
   ]
  },
  {
   "cell_type": "code",
   "execution_count": 56,
   "id": "9da62266",
   "metadata": {},
   "outputs": [],
   "source": [
    "# В users добавим помесячную выручку от каждого пользователя\n",
    "def month_profit (row):\n",
    "    '''\n",
    "    Функция считает доход для от клиента по тарифу и параметрам тарифа\n",
    "    row - строка, из которой берётся индекс клиента и тариф, которым он пользуется\n",
    "    '''\n",
    "    tariff = row['tariff']\n",
    "    profit = row['call_profit'] + row['sms_profit'] + row['net_profit']\n",
    "    if tariff == 'smart':\n",
    "        profit += 550\n",
    "    else:\n",
    "        profit += 1950\n",
    "    return profit\n",
    "\n",
    "data['total_profit']= data.apply(month_profit, axis =1)"
   ]
  },
  {
   "cell_type": "code",
   "execution_count": 57,
   "id": "e158087a",
   "metadata": {},
   "outputs": [],
   "source": [
    "data = data.drop(columns=['call_profit', 'sms_profit', 'net_profit'])"
   ]
  },
  {
   "cell_type": "code",
   "execution_count": 58,
   "id": "69707054",
   "metadata": {},
   "outputs": [
    {
     "data": {
      "text/html": [
       "<div>\n",
       "<style scoped>\n",
       "    .dataframe tbody tr th:only-of-type {\n",
       "        vertical-align: middle;\n",
       "    }\n",
       "\n",
       "    .dataframe tbody tr th {\n",
       "        vertical-align: top;\n",
       "    }\n",
       "\n",
       "    .dataframe thead th {\n",
       "        text-align: right;\n",
       "    }\n",
       "</style>\n",
       "<table border=\"1\" class=\"dataframe\">\n",
       "  <thead>\n",
       "    <tr style=\"text-align: right;\">\n",
       "      <th></th>\n",
       "      <th>user_id</th>\n",
       "      <th>age</th>\n",
       "      <th>churn_date</th>\n",
       "      <th>city</th>\n",
       "      <th>first_name</th>\n",
       "      <th>last_name</th>\n",
       "      <th>reg_date</th>\n",
       "      <th>tariff</th>\n",
       "      <th>month</th>\n",
       "      <th>total_profit</th>\n",
       "    </tr>\n",
       "  </thead>\n",
       "  <tbody>\n",
       "    <tr>\n",
       "      <td>2916</td>\n",
       "      <td>1456</td>\n",
       "      <td>40.0</td>\n",
       "      <td>NaN</td>\n",
       "      <td>Санкт-Петербург</td>\n",
       "      <td>Мануэла</td>\n",
       "      <td>Андропова</td>\n",
       "      <td>2018-08-25</td>\n",
       "      <td>smart</td>\n",
       "      <td>9.0</td>\n",
       "      <td>2118.0</td>\n",
       "    </tr>\n",
       "    <tr>\n",
       "      <td>834</td>\n",
       "      <td>1130</td>\n",
       "      <td>58.0</td>\n",
       "      <td>NaN</td>\n",
       "      <td>Тюмень</td>\n",
       "      <td>Инара</td>\n",
       "      <td>Крюкова</td>\n",
       "      <td>2018-04-01</td>\n",
       "      <td>smart</td>\n",
       "      <td>9.0</td>\n",
       "      <td>2641.0</td>\n",
       "    </tr>\n",
       "    <tr>\n",
       "      <td>2590</td>\n",
       "      <td>1404</td>\n",
       "      <td>61.0</td>\n",
       "      <td>NaN</td>\n",
       "      <td>Иркутск</td>\n",
       "      <td>Роберт</td>\n",
       "      <td>Уваров</td>\n",
       "      <td>2018-04-18</td>\n",
       "      <td>smart</td>\n",
       "      <td>8.0</td>\n",
       "      <td>950.0</td>\n",
       "    </tr>\n",
       "    <tr>\n",
       "      <td>2158</td>\n",
       "      <td>1340</td>\n",
       "      <td>50.0</td>\n",
       "      <td>NaN</td>\n",
       "      <td>Пенза</td>\n",
       "      <td>Тимофей</td>\n",
       "      <td>Алютин</td>\n",
       "      <td>2018-01-30</td>\n",
       "      <td>smart</td>\n",
       "      <td>11.0</td>\n",
       "      <td>867.0</td>\n",
       "    </tr>\n",
       "    <tr>\n",
       "      <td>1066</td>\n",
       "      <td>1168</td>\n",
       "      <td>28.0</td>\n",
       "      <td>NaN</td>\n",
       "      <td>Кострома</td>\n",
       "      <td>Лилия</td>\n",
       "      <td>Ананьева</td>\n",
       "      <td>2018-01-24</td>\n",
       "      <td>ultra</td>\n",
       "      <td>11.0</td>\n",
       "      <td>2250.0</td>\n",
       "    </tr>\n",
       "  </tbody>\n",
       "</table>\n",
       "</div>"
      ],
      "text/plain": [
       "      user_id   age churn_date             city first_name  last_name  \\\n",
       "2916     1456  40.0        NaN  Санкт-Петербург    Мануэла  Андропова   \n",
       "834      1130  58.0        NaN           Тюмень      Инара    Крюкова   \n",
       "2590     1404  61.0        NaN          Иркутск     Роберт     Уваров   \n",
       "2158     1340  50.0        NaN            Пенза    Тимофей     Алютин   \n",
       "1066     1168  28.0        NaN         Кострома      Лилия   Ананьева   \n",
       "\n",
       "       reg_date tariff  month  total_profit  \n",
       "2916 2018-08-25  smart    9.0        2118.0  \n",
       "834  2018-04-01  smart    9.0        2641.0  \n",
       "2590 2018-04-18  smart    8.0         950.0  \n",
       "2158 2018-01-30  smart   11.0         867.0  \n",
       "1066 2018-01-24  ultra   11.0        2250.0  "
      ]
     },
     "execution_count": 58,
     "metadata": {},
     "output_type": "execute_result"
    }
   ],
   "source": [
    "# Удостоверимся, что в столбце 'user_id' нет пропусков.\n",
    "#data['user_id'].unique()\n",
    "data.sample(5)"
   ]
  },
  {
   "cell_type": "markdown",
   "id": "c2275df3",
   "metadata": {},
   "source": [
    "### Вывод\n",
    "\n",
    "\n",
    "Были проверены значения количества интернет-трафика. Часть данных имеют трафик менее 0,1 Мб. Однако, аномальных значений обнаружено не было.\n",
    "\n",
    "Были созданы таблицы d_c_u, d_s_u, d_n_u, d которых сохранены количество и длительность звонков, количество смс и интернет трафика для каждого клиента. В таблице data сохранена помесячная выручка с каждого клиента."
   ]
  },
  {
   "cell_type": "code",
   "execution_count": 68,
   "id": "f0f182e0",
   "metadata": {},
   "outputs": [
    {
     "data": {
      "text/plain": [
       "500"
      ]
     },
     "execution_count": 68,
     "metadata": {},
     "output_type": "execute_result"
    }
   ],
   "source": [
    "data.user_id.nunique()"
   ]
  },
  {
   "cell_type": "markdown",
   "id": "adbce276",
   "metadata": {},
   "source": [
    "# Шаг 3. Анализ данных."
   ]
  },
  {
   "cell_type": "markdown",
   "id": "47e0d6a2",
   "metadata": {},
   "source": [
    "Посчитаем средние значения количества звонков, среднее количества потраченных минут, дисперсию и стандартное отклонение для выборок обоих тарифов. Построим гистограммы."
   ]
  },
  {
   "cell_type": "code",
   "execution_count": 49,
   "id": "09613e71",
   "metadata": {},
   "outputs": [],
   "source": [
    "#d_c_u['user_id'].unique()"
   ]
  },
  {
   "cell_type": "code",
   "execution_count": 67,
   "id": "61b0c10e",
   "metadata": {},
   "outputs": [
    {
     "name": "stdout",
     "output_type": "stream",
     "text": [
      "Тариф Smart\n",
      "Среднее значение количетсва звонков по тарифу Smart для имеющейся выборки: 58.57\n",
      "Рассмотрим общую статистику по количеству потраченных минут в месяц среди клиентов тарифа Smart в данной выборке\n",
      "count    2225.000000\n",
      "mean      418.686292\n",
      "std       189.656900\n",
      "min         0.000000\n",
      "25%       284.000000\n",
      "50%       422.000000\n",
      "75%       545.000000\n",
      "max      1435.000000\n",
      "Name: month_duration, dtype: float64\n",
      "Имея выборку клиентов тарифа Smart, мы можем рассчитать приближённо значение дисперсии генеральной совокупности.\n",
      "Приближённое значение дисперсии генеральной совокупности клиентов с тарифом Smart равно 35969.73967262146\n",
      "В задании указано, что необходимо вывести стандартное отклонение. Отметим, что при вызове функции describe(), стандартное отклонение уже было выведено.\n",
      "Повторим вывод стандартного отклонения для клиентов тарифа Smart 189.65689988139493\n"
     ]
    },
    {
     "data": {
      "image/png": "[encoded data removed]",
      "text/plain": [
       "<Figure size 432x288 with 1 Axes>"
      ]
     },
     "metadata": {
      "needs_background": "light"
     },
     "output_type": "display_data"
    },
    {
     "name": "stdout",
     "output_type": "stream",
     "text": [
      "\n",
      "Тариф Ultra\n",
      "Среднее значение количетсва звонков по тарифу Ultra для имеющейся выборки: 75.54\n",
      "Рассмотрим общую статистику по количеству потраченных минут в месяц среди клиентов тарифа Ultra в данной выборке\n",
      "count     957.000000\n",
      "mean      542.031348\n",
      "std       308.978539\n",
      "min         0.000000\n",
      "25%       308.000000\n",
      "50%       525.000000\n",
      "75%       756.000000\n",
      "max      1673.000000\n",
      "Name: month_duration, dtype: float64\n",
      "Имея выборку клиентов тарифа Ultra, мы можем рассчитать приближённо значение дисперсии генеральной совокупности.\n",
      "Приближённое значение дисперсии генеральной совокупности клиентов с тарифом Ultra равно 95467.73751000119\n",
      "В задании указано, что необходимо вывести стандартное отклонение. Отметим, что при вызове функции describe(), стандартное отклонение уже было выведено.\n",
      "Повторим вывод стандартного отклонения для клиентов тарифа Smart 308.97853891492394\n"
     ]
    },
    {
     "data": {
      "image/png": "[encoded data removed]",
      "text/plain": [
       "<Figure size 432x288 with 1 Axes>"
      ]
     },
     "metadata": {
      "needs_background": "light"
     },
     "output_type": "display_data"
    }
   ],
   "source": [
    "print('Тариф Smart')\n",
    "print('Среднее значение количетсва звонков по тарифу Smart для имеющейся выборки:',round(d_c_u.loc[d_c_u['tariff']== 'smart','month_count'].mean(),2))\n",
    "\n",
    "print('Рассмотрим общую статистику по количеству потраченных минут в месяц среди клиентов тарифа Smart в данной выборке')\n",
    "print(d_c_u.loc[d_c_u['tariff']== 'smart', 'month_duration'].describe())\n",
    "\n",
    "variance_est_smart = np.var(d_c_u.loc[d_c_u['tariff']== 'smart', 'month_duration'], ddof=1)\n",
    "print('Имея выборку клиентов тарифа Smart, мы можем рассчитать приближённо значение дисперсии генеральной совокупности.')\n",
    "print('Приближённое значение дисперсии генеральной совокупности клиентов с тарифом Smart равно', variance_est_smart)\n",
    "standard_deviation_est_smart = np.sqrt(variance_est_smart)\n",
    "\n",
    "print('В задании указано, что необходимо вывести стандартное отклонение. Отметим, что при вызове функции describe(), стандартное отклонение уже было выведено.')\n",
    "print('Повторим вывод стандартного отклонения для клиентов тарифа Smart',standard_deviation_est_smart)\n",
    "\n",
    "plt.hist(d_c_u.loc[d_c_u['tariff']== 'smart', 'month_duration'],bins = 30)\n",
    "plt.title('Гистограмма количества потраченных минут по месяцам среди клиентов тарифа Smart')\n",
    "plt.show()\n",
    "\n",
    "\n",
    "print()\n",
    "print('Тариф Ultra')\n",
    "print('Среднее значение количетсва звонков по тарифу Ultra для имеющейся выборки:',round(d_c_u.loc[d_c_u['tariff']== 'ultra','month_count'].mean(),2))\n",
    "\n",
    "print('Рассмотрим общую статистику по количеству потраченных минут в месяц среди клиентов тарифа Ultra в данной выборке')\n",
    "print(d_c_u.loc[d_c_u['tariff']== 'ultra', 'month_duration'].describe())\n",
    "\n",
    "variance_est_ultra = np.var(d_c_u.loc[d_c_u['tariff']== 'ultra', 'month_duration'], ddof=1)\n",
    "print('Имея выборку клиентов тарифа Ultra, мы можем рассчитать приближённо значение дисперсии генеральной совокупности.')\n",
    "print('Приближённое значение дисперсии генеральной совокупности клиентов с тарифом Ultra равно', variance_est_ultra)\n",
    "standard_deviation_est_ultra = np.sqrt(variance_est_ultra)\n",
    "\n",
    "print('В задании указано, что необходимо вывести стандартное отклонение. Отметим, что при вызове функции describe(), стандартное отклонение уже было выведено.')\n",
    "print('Повторим вывод стандартного отклонения для клиентов тарифа Smart',standard_deviation_est_ultra)\n",
    "\n",
    "plt.hist(d_c_u.loc[d_c_u['tariff']== 'ultra', 'month_duration'],bins = 20)\n",
    "plt.title('Гистограмма количества потраченных минут по месяцам среди клиентов тарифа Ultra')\n",
    "plt.show()"
   ]
  },
  {
   "cell_type": "code",
   "execution_count": 71,
   "id": "dcb68d8a",
   "metadata": {},
   "outputs": [
    {
     "data": {
      "text/html": [
       "<div>\n",
       "<style scoped>\n",
       "    .dataframe tbody tr th:only-of-type {\n",
       "        vertical-align: middle;\n",
       "    }\n",
       "\n",
       "    .dataframe tbody tr th {\n",
       "        vertical-align: top;\n",
       "    }\n",
       "\n",
       "    .dataframe thead tr th {\n",
       "        text-align: left;\n",
       "    }\n",
       "\n",
       "    .dataframe thead tr:last-of-type th {\n",
       "        text-align: right;\n",
       "    }\n",
       "</style>\n",
       "<table border=\"1\" class=\"dataframe\">\n",
       "  <thead>\n",
       "    <tr>\n",
       "      <th></th>\n",
       "      <th>mean</th>\n",
       "      <th>var</th>\n",
       "      <th>std</th>\n",
       "    </tr>\n",
       "    <tr>\n",
       "      <th></th>\n",
       "      <th>month_duration</th>\n",
       "      <th>month_duration</th>\n",
       "      <th>month_duration</th>\n",
       "    </tr>\n",
       "    <tr>\n",
       "      <th>tariff</th>\n",
       "      <th></th>\n",
       "      <th></th>\n",
       "      <th></th>\n",
       "    </tr>\n",
       "  </thead>\n",
       "  <tbody>\n",
       "    <tr>\n",
       "      <td>smart</td>\n",
       "      <td>418.686292</td>\n",
       "      <td>35969.739673</td>\n",
       "      <td>189.656900</td>\n",
       "    </tr>\n",
       "    <tr>\n",
       "      <td>ultra</td>\n",
       "      <td>542.031348</td>\n",
       "      <td>95467.737510</td>\n",
       "      <td>308.978539</td>\n",
       "    </tr>\n",
       "  </tbody>\n",
       "</table>\n",
       "</div>"
      ],
      "text/plain": [
       "                 mean            var            std\n",
       "       month_duration month_duration month_duration\n",
       "tariff                                             \n",
       "smart      418.686292   35969.739673     189.656900\n",
       "ultra      542.031348   95467.737510     308.978539"
      ]
     },
     "execution_count": 71,
     "metadata": {},
     "output_type": "execute_result"
    }
   ],
   "source": [
    "d_c_u.pivot_table(index= 'tariff', values= 'month_duration', aggfunc= ['mean', 'var','std'])"
   ]
  },
  {
   "cell_type": "markdown",
   "id": "efca47e0",
   "metadata": {},
   "source": [
    "Отметим, что гистограммы показывают наличие небольшой скошенности у обеих выборок. Однако, в выборке клиентов тарифа Smart скошенность влево, в то время, как в выборке клиентов тариа Ultima присутствует небольшая скошенность вправо."
   ]
  },
  {
   "cell_type": "markdown",
   "id": "dcb13351",
   "metadata": {},
   "source": [
    "Посчитаем средние значения количества смс, дисперсию и стандартное отклонение для выборок обоих тарифов. Построим гистограммы."
   ]
  },
  {
   "cell_type": "code",
   "execution_count": 51,
   "id": "5ecc59c5",
   "metadata": {
    "scrolled": false
   },
   "outputs": [
    {
     "name": "stdout",
     "output_type": "stream",
     "text": [
      "Тариф Smart\n",
      "Рассмотрим общую статистику по количеству потраченных SMS в месяц среди клиентов тарифа Smart в данной выборке\n",
      "count    1971.000000\n",
      "mean       37.753932\n",
      "std        27.131206\n",
      "min         0.000000\n",
      "25%        16.000000\n",
      "50%        33.000000\n",
      "75%        54.500000\n",
      "max       143.000000\n",
      "Name: month_sms, dtype: float64\n",
      "Приближённое значение дисперсии генеральной совокупности клиентов с тарифом Smart равно 736.1023639730405\n",
      "Cтандартное отклонение для клиентов тарифа Smart 27.131206459961202\n"
     ]
    },
    {
     "data": {
      "image/png": "[encoded data removed]",
      "text/plain": [
       "<Figure size 432x288 with 1 Axes>"
      ]
     },
     "metadata": {
      "needs_background": "light"
     },
     "output_type": "display_data"
    },
    {
     "name": "stdout",
     "output_type": "stream",
     "text": [
      "\n",
      "Тариф Ultra\n",
      "Рассмотрим общую статистику по количеству потраченных SMS в месяц среди клиентов тарифа Ultra в данной выборке\n",
      "count    820.000000\n",
      "mean      59.296341\n",
      "std       46.432366\n",
      "min        0.000000\n",
      "25%       22.000000\n",
      "50%       49.000000\n",
      "75%       85.000000\n",
      "max      224.000000\n",
      "Name: month_sms, dtype: float64\n",
      "Приближённое значение дисперсии генеральной совокупности клиентов с тарифом Ultra равно 2155.9645775633585\n",
      "Cтандартное отклонение для клиентов тарифа Ultra 46.43236562531957\n"
     ]
    },
    {
     "data": {
      "image/png": "[encoded data removed]",
      "text/plain": [
       "<Figure size 432x288 with 1 Axes>"
      ]
     },
     "metadata": {
      "needs_background": "light"
     },
     "output_type": "display_data"
    }
   ],
   "source": [
    "print('Тариф Smart')\n",
    "print('Рассмотрим общую статистику по количеству потраченных SMS в месяц среди клиентов тарифа Smart в данной выборке')\n",
    "print(d_s_u.loc[d_s_u['tariff']== 'smart', 'month_sms'].describe())\n",
    "\n",
    "variance_est_smart = np.var(d_s_u.loc[d_s_u['tariff']== 'smart', 'month_sms'], ddof=1)\n",
    "print('Приближённое значение дисперсии генеральной совокупности клиентов с тарифом Smart равно', variance_est_smart)\n",
    "standard_deviation_est_smart = np.sqrt(variance_est_smart)\n",
    "\n",
    "print('Cтандартное отклонение для клиентов тарифа Smart',standard_deviation_est_smart)\n",
    "\n",
    "plt.hist(d_s_u.loc[d_s_u['tariff']== 'smart', 'month_sms'],bins = 20)\n",
    "plt.title('Гистограмма количества SMS по месяцам среди клиентов тарифа Smart')\n",
    "plt.show()\n",
    "\n",
    "\n",
    "print()\n",
    "print('Тариф Ultra')\n",
    "print('Рассмотрим общую статистику по количеству потраченных SMS в месяц среди клиентов тарифа Ultra в данной выборке')\n",
    "print(d_s_u.loc[d_s_u['tariff']== 'ultra', 'month_sms'].describe())\n",
    "\n",
    "variance_est_smart = np.var(d_s_u.loc[d_s_u['tariff']== 'ultra', 'month_sms'], ddof=1)\n",
    "print('Приближённое значение дисперсии генеральной совокупности клиентов с тарифом Ultra равно', variance_est_smart)\n",
    "standard_deviation_est_smart = np.sqrt(variance_est_smart)\n",
    "\n",
    "print('Cтандартное отклонение для клиентов тарифа Ultra',standard_deviation_est_smart)\n",
    "\n",
    "plt.hist(d_s_u.loc[d_s_u['tariff']== 'ultra', 'month_sms'],bins = 20)\n",
    "plt.title('Гистограмма количества SMS по месяцам среди клиентов тарифа Ultra')\n",
    "plt.show()\n",
    "\n",
    "\n"
   ]
  },
  {
   "cell_type": "markdown",
   "id": "fefb9db8",
   "metadata": {},
   "source": [
    "Отметим, что гистограммы показывают наличие скошенности у обеих выборок. При этом у обеих выборок прослеживается скошенность вправо."
   ]
  },
  {
   "cell_type": "markdown",
   "id": "0ad72686",
   "metadata": {},
   "source": [
    "Посчитаем средние значения количество потраченного интернет-трафика, дисперсию и стандартное отклонение для выборок обоих тарифов. Построим гистограммы."
   ]
  },
  {
   "cell_type": "code",
   "execution_count": 52,
   "id": "d1b4297e",
   "metadata": {},
   "outputs": [
    {
     "name": "stdout",
     "output_type": "stream",
     "text": [
      "Тариф Smart\n",
      "Рассмотрим статистику по количеству потраченного интернет-трафика в месяц среди клиентов тарифа Smart в выборке\n",
      "count     2229.000000\n",
      "mean     16208.872589\n",
      "std       5870.482897\n",
      "min          0.000000\n",
      "25%      12644.000000\n",
      "50%      16507.000000\n",
      "75%      20043.000000\n",
      "max      38553.000000\n",
      "Name: month_mg, dtype: float64\n",
      "Приближённое значение дисперсии генеральной совокупности клиентов с тарифом Smart равно 34462569.44246641\n",
      "Cтандартное отклонение для клиентов тарифа Smart 5870.482896871978\n"
     ]
    },
    {
     "data": {
      "image/png": "[encoded data removed]",
      "text/plain": [
       "<Figure size 432x288 with 1 Axes>"
      ]
     },
     "metadata": {
      "needs_background": "light"
     },
     "output_type": "display_data"
    },
    {
     "name": "stdout",
     "output_type": "stream",
     "text": [
      "\n",
      "Тариф Ultra\n",
      "Рассмотрим статистику по количеству потраченного интернет-трафика в месяц среди клиентов тарифа Ultra в выборке\n",
      "count      977.000000\n",
      "mean     19628.727738\n",
      "std       9972.617374\n",
      "min          0.000000\n",
      "25%      11920.000000\n",
      "50%      19377.000000\n",
      "75%      26866.000000\n",
      "max      49746.000000\n",
      "Name: month_mg, dtype: float64\n",
      "Приближённое значение дисперсии генеральной совокупности клиентов с тарифом Ultra равно 99453097.29055154\n",
      "Cтандартное отклонение для клиентов тарифа Ultra 9972.617374117566\n"
     ]
    },
    {
     "data": {
      "image/png": "[encoded data removed]",
      "text/plain": [
       "<Figure size 432x288 with 1 Axes>"
      ]
     },
     "metadata": {
      "needs_background": "light"
     },
     "output_type": "display_data"
    }
   ],
   "source": [
    "print('Тариф Smart')\n",
    "print('Рассмотрим статистику по количеству потраченного интернет-трафика в месяц среди клиентов тарифа Smart в выборке')\n",
    "print(d_n_u.loc[d_n_u['tariff']== 'smart', 'month_mg'].describe())\n",
    "\n",
    "variance_est_smart = np.var(d_n_u.loc[d_n_u['tariff']== 'smart', 'month_mg'], ddof=1)\n",
    "print('Приближённое значение дисперсии генеральной совокупности клиентов с тарифом Smart равно', variance_est_smart)\n",
    "standard_deviation_est_smart = np.sqrt(variance_est_smart)\n",
    "\n",
    "print('Cтандартное отклонение для клиентов тарифа Smart',standard_deviation_est_smart)\n",
    "\n",
    "plt.hist(d_n_u.loc[d_n_u['tariff']== 'smart', 'month_mg'],bins = 20)\n",
    "plt.title('Гистограмма количества потраченного интернет-трафика по месяцам среди клиентов тарифа Smart')\n",
    "plt.show()\n",
    "\n",
    "\n",
    "print()\n",
    "print('Тариф Ultra')\n",
    "print('Рассмотрим статистику по количеству потраченного интернет-трафика в месяц среди клиентов тарифа Ultra в выборке')\n",
    "print(d_n_u.loc[d_n_u['tariff']== 'ultra', 'month_mg'].describe())\n",
    "\n",
    "variance_est_smart = np.var(d_n_u.loc[d_n_u['tariff']== 'ultra', 'month_mg'], ddof=1)\n",
    "print('Приближённое значение дисперсии генеральной совокупности клиентов с тарифом Ultra равно', variance_est_smart)\n",
    "standard_deviation_est_smart = np.sqrt(variance_est_smart)\n",
    "\n",
    "print('Cтандартное отклонение для клиентов тарифа Ultra',standard_deviation_est_smart)\n",
    "\n",
    "plt.hist(d_n_u.loc[d_n_u['tariff']== 'ultra', 'month_mg'],bins = 15)\n",
    "plt.title('Гистограмма количества потраченного интернет-трафика по месяцам среди клиентов тарифа Ultra')\n",
    "plt.show()"
   ]
  },
  {
   "cell_type": "markdown",
   "id": "9d7f8b83",
   "metadata": {},
   "source": [
    "Отметим, что гистограммы имет форму нормального распределения."
   ]
  },
  {
   "cell_type": "markdown",
   "id": "89786bc4",
   "metadata": {},
   "source": [
    "### Вывод\n",
    "\n",
    "В данном разделе были рассчитаны средние значения, дисперсия и стандартное отклонение по количеству разговорных минут, смс и интернет-трафика по каждому из двух тарифов.\n",
    "\n",
    "Можно отметить, что  распределение количества минут и интернет-трафика имеют вид нормального распределения с незначительной скошенностью. Тем самым значения среднего стремятся к медианным значениям. Распределение отправленных смс скошено вправо. \n",
    "Были получены значения.\n",
    "\n",
    "Для тарифа Smart:\n",
    "\n",
    "* Среднее значение количества минут разговора: 419\n",
    "* Стандартное отклонение: 189\n",
    "* Среднее значение количества потраченных смс: 38\n",
    "* Стандартное отклонение: 27\n",
    "* Среднее значение количества потраченного интернет- трафика: 16216\n",
    "* Стандартное отклонение: 5862\n",
    "\n",
    "Для тарифа Ultra:\n",
    "* Среднее значение количества минут разговора: 545\n",
    "* Стандартное отклонение: 307\n",
    "* Среднее значение количества потраченных смс: 61\n",
    "* Стандартное отклонение: 45\n",
    "* Среднее значение количества потраченного интернет- трафика: 19669\n",
    "* Стандартное отклонение: 9943\n"
   ]
  },
  {
   "cell_type": "markdown",
   "id": "b378331d",
   "metadata": {},
   "source": [
    "# Шаг 4. Проверьте гипотезы"
   ]
  },
  {
   "cell_type": "markdown",
   "id": "3a6e3117",
   "metadata": {},
   "source": [
    "В данном разделе будут выдвинуты и проверены две гипотезы о генеральной совокупности клиентов \"Мегалайн\".\n",
    "\n",
    "Сформулируем первую нулевую гипотезу:\n",
    "\"Средние выручки пользователей от тарифов «Ультра» и «Смарт» равны\"\n",
    "Алтернативная гипотеза:\n",
    "\"Средняя выручка пользователей от тарифа «Ультра» больше, чем от тарифа «Смарт»\"\n",
    "критический уровень статистической значимости установим как 0.05 для всех исследований.\n",
    "\n",
    "Общепринято, что нулеая гипотеза формулируется со знаком равенства. Альтернативная гипотеза была сформулирована как односторонняя для определения более выгодного для оператора тарифа.\n",
    "\n",
    "В Python есть специальный метод для проверки гипотезы о равенстве среднего двух генеральных совокупностей по взятым из них выборкам: scipy.stats.ttest_ind (array1, array2,equal_var). Применим метод в данном исследовании."
   ]
  },
  {
   "cell_type": "code",
   "execution_count": 65,
   "id": "7bd15bd9",
   "metadata": {},
   "outputs": [
    {
     "name": "stdout",
     "output_type": "stream",
     "text": [
      "Smart\n",
      "count    2229.000000\n",
      "mean     1289.973531\n",
      "std       818.404367\n",
      "min       550.000000\n",
      "25%       550.000000\n",
      "50%      1023.000000\n",
      "75%      1750.000000\n",
      "max      6770.000000\n",
      "Name: total_profit, dtype: float64\n",
      "Ultra\n",
      "count     984.000000\n",
      "mean     2070.274390\n",
      "std       376.358882\n",
      "min      1950.000000\n",
      "25%      1950.000000\n",
      "50%      1950.000000\n",
      "75%      1950.000000\n",
      "max      4800.000000\n",
      "Name: total_profit, dtype: float64\n"
     ]
    }
   ],
   "source": [
    "print('Smart')\n",
    "print(data.loc[data['tariff']== 'smart','total_profit'].describe())\n",
    "smart_prof = data.loc[data['tariff']== 'smart','total_profit'].describe()\n",
    "print('Ultra')\n",
    "print(data.loc[data['tariff']== 'ultra','total_profit'].describe())\n",
    "ultra_prof = data.loc[data['tariff']== 'ultra','total_profit'].describe()"
   ]
  },
  {
   "cell_type": "code",
   "execution_count": 74,
   "id": "04e3b4b1",
   "metadata": {},
   "outputs": [
    {
     "name": "stdout",
     "output_type": "stream",
     "text": [
      "Smart\n",
      "8       1150.0\n",
      "9        550.0\n",
      "10       550.0\n",
      "11      1150.0\n",
      "12      1550.0\n",
      "         ...  \n",
      "3200    1750.0\n",
      "3201     550.0\n",
      "3202    1150.0\n",
      "3203    1513.0\n",
      "3204     598.0\n",
      "Name: total_profit, Length: 2229, dtype: float64\n",
      "Ultra\n",
      "0       1950.0\n",
      "1       1950.0\n",
      "2       1950.0\n",
      "3       1950.0\n",
      "4       1950.0\n",
      "         ...  \n",
      "3208    1950.0\n",
      "3209    1950.0\n",
      "3210    1950.0\n",
      "3211    1950.0\n",
      "3212    1950.0\n",
      "Name: total_profit, Length: 984, dtype: float64\n"
     ]
    }
   ],
   "source": [
    "print('Smart')\n",
    "print(data.loc[data['tariff']== 'smart','total_profit'])\n",
    "smart_prof = data.loc[data['tariff']== 'smart','total_profit']\n",
    "print('Ultra')\n",
    "print(data.loc[data['tariff']== 'ultra','total_profit'])\n",
    "ultra_prof = data.loc[data['tariff']== 'ultra','total_profit']"
   ]
  },
  {
   "cell_type": "markdown",
   "id": "b02cbaed",
   "metadata": {},
   "source": [
    "В вышеописанном методе присутствует необязательный параметр equal_var, задающий, считать ли равными дисперсии выборок. Применив метод .describe(), можно сделать вывод, что дисперсии не равны (хотя данный метод не показывает значение дисперсии, мы можем оценить её через параметр std). \n",
    "В итоге, понимая, что выборки разного размера(количество пользователей тарифов разное smart 351 ultra 149) установим параметр equal_var как False."
   ]
  },
  {
   "cell_type": "code",
   "execution_count": 75,
   "id": "a5b8cab6",
   "metadata": {},
   "outputs": [
    {
     "name": "stdout",
     "output_type": "stream",
     "text": [
      "p-value:  2.5690576841877785e-250\n",
      "Отвергаем нулевую гипотезу\n"
     ]
    }
   ],
   "source": [
    "alpha = .05 # критический уровень статистической значимости\n",
    "# если p-value окажется меньше него - отвегнем гипотезу\n",
    "\n",
    "results = st.ttest_ind(\n",
    "    smart_prof, \n",
    "    ultra_prof,\n",
    "    equal_var = False)\n",
    "\n",
    "print('p-value: ', results.pvalue / 2)\n",
    "\n",
    "if results.pvalue < alpha:\n",
    "    print(\"Отвергаем нулевую гипотезу\")\n",
    "else:\n",
    "    print(\"Не получилось отвергнуть нулевую гипотезу\")\n"
   ]
  },
  {
   "cell_type": "markdown",
   "id": "dab28934",
   "metadata": {},
   "source": [
    "Полученное значение p-value говорит о том, что вероятность получить такое или большее различие случайно почти 44%, хотя среднее значение доходов от клиентов разных тарифов в имеющейся выборке отличается. Это явно слишком большая вероятность, чтобы делать вывод о значимом различии между средними значениями."
   ]
  },
  {
   "cell_type": "markdown",
   "id": "0359f0a4",
   "metadata": {},
   "source": [
    "Вторая нулевая гипотеза:\n",
    "\"Средняя выручка пользотвателей из Москвы равна средней выручке клиентов из других регионов\"\n",
    "Альтернативная гипотеза:\n",
    "\"Средняя выручка пользователей из Москвы не равна средней выручке клиентов из других регионов\"\n",
    "критический уровень статистической значимости установим как 0.05 для всех исследований.\n",
    "\n",
    "Согласно изученному материалу, нулеая гипотеза формулируется со знаком равенства. Альтернативная гипотеза была сформулирована как двусторонняя.\n",
    "\n",
    "Изучим данные с пременением вышеописанного метода."
   ]
  },
  {
   "cell_type": "code",
   "execution_count": 55,
   "id": "d03740c9",
   "metadata": {},
   "outputs": [],
   "source": [
    "moscow_profit = data.loc[data['city']== 'Москва','total_profit']\n",
    "russia_profit = data.loc[data['city']!= 'Москва','total_profit']"
   ]
  },
  {
   "cell_type": "code",
   "execution_count": 56,
   "id": "816359c6",
   "metadata": {},
   "outputs": [
    {
     "name": "stdout",
     "output_type": "stream",
     "text": [
      "p-значение:  0.5226670866411216\n",
      "Не получилось отвергнуть нулевую гипотезу\n"
     ]
    }
   ],
   "source": [
    "alpha = .05 # критический уровень статистической значимости\n",
    "# если p-value окажется меньше него - отвегнем гипотезу\n",
    "\n",
    "results = st.ttest_ind(\n",
    "    moscow_profit, \n",
    "    russia_profit,\n",
    "    equal_var = False)\n",
    "\n",
    "print('p-значение: ', results.pvalue)\n",
    "\n",
    "if results.pvalue < alpha:\n",
    "    print(\"Отвергаем нулевую гипотезу\")\n",
    "else:\n",
    "    print(\"Не получилось отвергнуть нулевую гипотезу\") \n"
   ]
  },
  {
   "cell_type": "markdown",
   "id": "9eb22048",
   "metadata": {},
   "source": [
    "Было получено, что вероятость равенства двух средних достаточно высока чтобы отбросить нулевую гипотезу, поэтому не представляется возможным утверждать, что средняя выручка пользователей из Москвы не равна средней выручке клиентов из других регионов."
   ]
  },
  {
   "cell_type": "markdown",
   "id": "67f35acf",
   "metadata": {},
   "source": [
    "### Вывод\n",
    "\n",
    "В данном разделе были проверены две гипотезы исследования:\n",
    "\n",
    "- о средней выручке пользователей тарифов\n",
    "- о средней выручке пользователей из Москвы и регионов\n",
    "\n",
    "В ходе работы над данным разделом были сформулированы и проверены следующие гипотезы:\n",
    "\"Средние выручки пользователей от тарифов «Ультра» и «Смарт» равны\"\n",
    "\"Средняя выручка пользователей из Москвы равна средней выручке клиентов из других регионов\"\n",
    "Исходя из имеющихся данных, опровергнуть эти гипотезы не представляется возможным.\n",
    "\n",
    "Хотя в данной выборке средняя выручка клиентов тарифа Ultra выше выручки от клиентов тарифа Smart, а выручка клиентов из Москвы больше выручки клиентов из других регионов, утверждать, что  в генеральной совокупности прослеживается аналогичная тенденция невозможно. "
   ]
  },
  {
   "cell_type": "markdown",
   "id": "bf3a8b75",
   "metadata": {},
   "source": [
    "# Шаг 5. Итоговый вывод."
   ]
  },
  {
   "cell_type": "markdown",
   "id": "b583d176",
   "metadata": {},
   "source": [
    "\n",
    "Данное исследование основано на выборке клиентов компании «Мегалайн» с целью корректировки рекламного бюджета.\n",
    "\n",
    "Выборка содержит данные 351 клиента тарифа smart и 149 клиентов тарифа ultra.\n",
    "\n",
    "Выборка содержит данные о звонках, смс и интернет-трафике за 2018 год, которые хранятся в 5 датасетах.\n",
    "\n",
    "На первом шаге была изучена общая информация о данных, на втором - данные были предобработаны, был удалён лишний столбец, была проведена проверка данных на наличие выбросов. В данном разделе был произведён расчёт количества совершенных звонков, израсходованных минут, отправленных смс и израсходованного интернет-трафика по месяцам для каждого клиента из выборки. Аналогично была рассчитана помесячная выручка.\n",
    "\n",
    "На следующем этапе данные были проанализированы. \n",
    "\n",
    "\n",
    "Для тарифа Smart было получено:\n",
    "Среднее значение количетсва звонков для имеющейся выборки: 59\n",
    "Приближённое значение дисперсии генеральной совокупности звонков клиентов 35844.2\n",
    "стандартное отклонения для звонков клиентов 189.3\n",
    "Приближённое значение дисперсии количества смс равно 717.6\n",
    "Cтандартное отклонение для количества смс 26.8\n",
    "Приближённое значение дисперсии генеральной совокупности интернет-трафика равно 34360017.6\n",
    "Cтандартное отклонение для интернет-трафика равно 5861.7\n",
    "\n",
    "Для тарифа Ultra было получено:\n",
    "Среднее значение количетсва звонков для имеющейся выборки: 76\n",
    "Приближённое значение дисперсии генеральной совокупности звонков клиентов 94203.4\n",
    "стандартное отклонения для звонков клиентов 306.9\n",
    "Приближённое значение дисперсии количества смс равно 2109.7\n",
    "Cтандартное отклонение для количества смс 45.9\n",
    "\n",
    "Приближённое значение дисперсии генеральной совокупности интернет-трафика равно 98864546.6\n",
    "Cтандартное отклонение для интернет-трафика равно 9943.1\n",
    "\n",
    "На следующем шаге были сформулированы и проверены две гипотезы:\n",
    "Средние выручки пользователей от тарифов «Ультра» и «Смарт» равны и её альтернативная гипотеза: Средняя выручка пользователей от тарифа «Ультра» больше, чем от тарифа «Смарт».\n",
    "и\n",
    "\"Средняя выручка пользотвателей из Москвы равна средней выручке клиентов из других регионов\" и её альтернативная гипотеза: «Средняя выручка пользователей из Москвы не равна средней выручке клиентов из других регионов\"\n",
    "В ходе анализа было получено, что опровергнуть обе гипотезы невозможно. Вероятность верности нулевых гипотез статистически значима."
   ]
  },
  {
   "cell_type": "code",
   "execution_count": null,
   "id": "636945b8",
   "metadata": {},
   "outputs": [],
   "source": []
  }
 ],
 "metadata": {
  "ExecuteTimeLog": [
   {
    "duration": 1387,
    "start_time": "2022-03-04T11:46:05.833Z"
   },
   {
    "duration": 5092,
    "start_time": "2022-03-04T11:46:08.878Z"
   },
   {
    "duration": 2408,
    "start_time": "2022-03-04T11:46:11.564Z"
   },
   {
    "duration": 2407,
    "start_time": "2022-03-04T11:46:11.567Z"
   },
   {
    "duration": 67,
    "start_time": "2022-03-04T12:03:48.414Z"
   },
   {
    "duration": 104,
    "start_time": "2022-03-04T12:29:59.384Z"
   },
   {
    "duration": 1429,
    "start_time": "2022-03-04T15:21:10.425Z"
   },
   {
    "duration": 2219,
    "start_time": "2022-03-04T15:21:11.857Z"
   },
   {
    "duration": -88,
    "start_time": "2022-03-04T15:21:14.169Z"
   },
   {
    "duration": -89,
    "start_time": "2022-03-04T15:21:14.172Z"
   },
   {
    "duration": -88,
    "start_time": "2022-03-04T15:21:14.174Z"
   },
   {
    "duration": -88,
    "start_time": "2022-03-04T15:21:14.176Z"
   },
   {
    "duration": -89,
    "start_time": "2022-03-04T15:21:14.179Z"
   },
   {
    "duration": -89,
    "start_time": "2022-03-04T15:21:14.181Z"
   },
   {
    "duration": -90,
    "start_time": "2022-03-04T15:21:14.184Z"
   },
   {
    "duration": -90,
    "start_time": "2022-03-04T15:21:14.186Z"
   },
   {
    "duration": -90,
    "start_time": "2022-03-04T15:21:14.188Z"
   },
   {
    "duration": -90,
    "start_time": "2022-03-04T15:21:14.190Z"
   },
   {
    "duration": -90,
    "start_time": "2022-03-04T15:21:14.192Z"
   },
   {
    "duration": -97,
    "start_time": "2022-03-04T15:21:14.201Z"
   },
   {
    "duration": -97,
    "start_time": "2022-03-04T15:21:14.203Z"
   },
   {
    "duration": -101,
    "start_time": "2022-03-04T15:21:14.209Z"
   },
   {
    "duration": -100,
    "start_time": "2022-03-04T15:21:14.210Z"
   },
   {
    "duration": -100,
    "start_time": "2022-03-04T15:21:14.212Z"
   },
   {
    "duration": -100,
    "start_time": "2022-03-04T15:21:14.214Z"
   },
   {
    "duration": -100,
    "start_time": "2022-03-04T15:21:14.216Z"
   },
   {
    "duration": -99,
    "start_time": "2022-03-04T15:21:14.218Z"
   },
   {
    "duration": -88,
    "start_time": "2022-03-04T15:21:14.220Z"
   },
   {
    "duration": -87,
    "start_time": "2022-03-04T15:21:14.222Z"
   },
   {
    "duration": -86,
    "start_time": "2022-03-04T15:21:14.223Z"
   },
   {
    "duration": -85,
    "start_time": "2022-03-04T15:21:14.224Z"
   },
   {
    "duration": -84,
    "start_time": "2022-03-04T15:21:14.225Z"
   },
   {
    "duration": -84,
    "start_time": "2022-03-04T15:21:14.227Z"
   },
   {
    "duration": -83,
    "start_time": "2022-03-04T15:21:14.228Z"
   },
   {
    "duration": -82,
    "start_time": "2022-03-04T15:21:14.229Z"
   },
   {
    "duration": -82,
    "start_time": "2022-03-04T15:21:14.231Z"
   },
   {
    "duration": -109,
    "start_time": "2022-03-04T15:21:14.261Z"
   },
   {
    "duration": -115,
    "start_time": "2022-03-04T15:21:14.268Z"
   },
   {
    "duration": -114,
    "start_time": "2022-03-04T15:21:14.269Z"
   },
   {
    "duration": -114,
    "start_time": "2022-03-04T15:21:14.270Z"
   },
   {
    "duration": -118,
    "start_time": "2022-03-04T15:21:14.276Z"
   },
   {
    "duration": -118,
    "start_time": "2022-03-04T15:21:14.278Z"
   },
   {
    "duration": -119,
    "start_time": "2022-03-04T15:21:14.280Z"
   },
   {
    "duration": -120,
    "start_time": "2022-03-04T15:21:14.282Z"
   },
   {
    "duration": -119,
    "start_time": "2022-03-04T15:21:14.283Z"
   },
   {
    "duration": -120,
    "start_time": "2022-03-04T15:21:14.285Z"
   },
   {
    "duration": 2193,
    "start_time": "2022-03-04T15:28:32.087Z"
   },
   {
    "duration": 87,
    "start_time": "2022-03-04T15:29:08.441Z"
   },
   {
    "duration": 4,
    "start_time": "2022-03-04T15:29:10.245Z"
   },
   {
    "duration": 70,
    "start_time": "2022-03-04T15:29:11.295Z"
   },
   {
    "duration": 251,
    "start_time": "2022-03-04T15:29:18.646Z"
   },
   {
    "duration": 222,
    "start_time": "2022-03-04T15:29:25.439Z"
   },
   {
    "duration": 4,
    "start_time": "2022-03-04T15:29:32.603Z"
   },
   {
    "duration": 74,
    "start_time": "2022-03-04T15:29:32.609Z"
   },
   {
    "duration": 260,
    "start_time": "2022-03-04T15:29:32.686Z"
   },
   {
    "duration": 230,
    "start_time": "2022-03-04T15:29:32.949Z"
   },
   {
    "duration": 2386,
    "start_time": "2022-03-04T15:29:33.181Z"
   },
   {
    "duration": -126,
    "start_time": "2022-03-04T15:29:35.697Z"
   },
   {
    "duration": -127,
    "start_time": "2022-03-04T15:29:35.699Z"
   },
   {
    "duration": -127,
    "start_time": "2022-03-04T15:29:35.701Z"
   },
   {
    "duration": -128,
    "start_time": "2022-03-04T15:29:35.703Z"
   },
   {
    "duration": -127,
    "start_time": "2022-03-04T15:29:35.704Z"
   },
   {
    "duration": -127,
    "start_time": "2022-03-04T15:29:35.706Z"
   },
   {
    "duration": -128,
    "start_time": "2022-03-04T15:29:35.708Z"
   },
   {
    "duration": -128,
    "start_time": "2022-03-04T15:29:35.709Z"
   },
   {
    "duration": -135,
    "start_time": "2022-03-04T15:29:35.718Z"
   },
   {
    "duration": -136,
    "start_time": "2022-03-04T15:29:35.720Z"
   },
   {
    "duration": -137,
    "start_time": "2022-03-04T15:29:35.722Z"
   },
   {
    "duration": -136,
    "start_time": "2022-03-04T15:29:35.723Z"
   },
   {
    "duration": -136,
    "start_time": "2022-03-04T15:29:35.724Z"
   },
   {
    "duration": -137,
    "start_time": "2022-03-04T15:29:35.726Z"
   },
   {
    "duration": -137,
    "start_time": "2022-03-04T15:29:35.727Z"
   },
   {
    "duration": -137,
    "start_time": "2022-03-04T15:29:35.729Z"
   },
   {
    "duration": -137,
    "start_time": "2022-03-04T15:29:35.730Z"
   },
   {
    "duration": -136,
    "start_time": "2022-03-04T15:29:35.731Z"
   },
   {
    "duration": -136,
    "start_time": "2022-03-04T15:29:35.732Z"
   },
   {
    "duration": -138,
    "start_time": "2022-03-04T15:29:35.735Z"
   },
   {
    "duration": -143,
    "start_time": "2022-03-04T15:29:35.741Z"
   },
   {
    "duration": -142,
    "start_time": "2022-03-04T15:29:35.742Z"
   },
   {
    "duration": -142,
    "start_time": "2022-03-04T15:29:35.743Z"
   },
   {
    "duration": -142,
    "start_time": "2022-03-04T15:29:35.745Z"
   },
   {
    "duration": -142,
    "start_time": "2022-03-04T15:29:35.746Z"
   },
   {
    "duration": -143,
    "start_time": "2022-03-04T15:29:35.749Z"
   },
   {
    "duration": -120,
    "start_time": "2022-03-04T15:29:35.751Z"
   },
   {
    "duration": -119,
    "start_time": "2022-03-04T15:29:35.752Z"
   },
   {
    "duration": -119,
    "start_time": "2022-03-04T15:29:35.753Z"
   },
   {
    "duration": -119,
    "start_time": "2022-03-04T15:29:35.754Z"
   },
   {
    "duration": -118,
    "start_time": "2022-03-04T15:29:35.755Z"
   },
   {
    "duration": -118,
    "start_time": "2022-03-04T15:29:35.756Z"
   },
   {
    "duration": -117,
    "start_time": "2022-03-04T15:29:35.757Z"
   },
   {
    "duration": -122,
    "start_time": "2022-03-04T15:29:35.763Z"
   },
   {
    "duration": -121,
    "start_time": "2022-03-04T15:29:35.764Z"
   },
   {
    "duration": 154,
    "start_time": "2022-03-04T15:30:22.937Z"
   },
   {
    "duration": 3,
    "start_time": "2022-03-04T15:30:34.957Z"
   },
   {
    "duration": 61,
    "start_time": "2022-03-04T15:30:34.968Z"
   },
   {
    "duration": 260,
    "start_time": "2022-03-04T15:30:35.031Z"
   },
   {
    "duration": 224,
    "start_time": "2022-03-04T15:30:35.295Z"
   },
   {
    "duration": 166,
    "start_time": "2022-03-04T15:30:35.522Z"
   },
   {
    "duration": 28,
    "start_time": "2022-03-04T15:30:35.691Z"
   },
   {
    "duration": 11,
    "start_time": "2022-03-04T15:30:35.721Z"
   },
   {
    "duration": 73,
    "start_time": "2022-03-04T15:30:35.734Z"
   },
   {
    "duration": 85,
    "start_time": "2022-03-04T15:30:35.809Z"
   },
   {
    "duration": 493,
    "start_time": "2022-03-04T15:30:35.898Z"
   },
   {
    "duration": 4,
    "start_time": "2022-03-04T15:30:36.394Z"
   },
   {
    "duration": 82539,
    "start_time": "2022-03-04T15:30:36.401Z"
   },
   {
    "duration": 5,
    "start_time": "2022-03-04T15:31:58.942Z"
   },
   {
    "duration": 37673,
    "start_time": "2022-03-04T15:31:58.950Z"
   },
   {
    "duration": 7,
    "start_time": "2022-03-04T15:32:36.626Z"
   },
   {
    "duration": 39272,
    "start_time": "2022-03-04T15:32:36.636Z"
   },
   {
    "duration": 128,
    "start_time": "2022-03-04T15:33:15.911Z"
   },
   {
    "duration": 110,
    "start_time": "2022-03-04T15:33:16.042Z"
   },
   {
    "duration": 4,
    "start_time": "2022-03-04T15:33:16.154Z"
   },
   {
    "duration": 142,
    "start_time": "2022-03-04T15:33:16.161Z"
   },
   {
    "duration": 5,
    "start_time": "2022-03-04T15:33:16.305Z"
   },
   {
    "duration": 31,
    "start_time": "2022-03-04T15:33:16.312Z"
   },
   {
    "duration": 10,
    "start_time": "2022-03-04T15:33:16.345Z"
   },
   {
    "duration": 10,
    "start_time": "2022-03-04T15:33:16.357Z"
   },
   {
    "duration": 9,
    "start_time": "2022-03-04T15:33:16.370Z"
   },
   {
    "duration": 51,
    "start_time": "2022-03-04T15:33:16.381Z"
   },
   {
    "duration": 5,
    "start_time": "2022-03-04T15:33:16.435Z"
   },
   {
    "duration": 21,
    "start_time": "2022-03-04T15:33:16.448Z"
   },
   {
    "duration": 29,
    "start_time": "2022-03-04T15:33:16.473Z"
   },
   {
    "duration": 314,
    "start_time": "2022-03-04T15:33:16.534Z"
   },
   {
    "duration": 9,
    "start_time": "2022-03-04T15:33:16.851Z"
   },
   {
    "duration": 23,
    "start_time": "2022-03-04T15:33:16.862Z"
   },
   {
    "duration": 10,
    "start_time": "2022-03-04T15:33:16.888Z"
   },
   {
    "duration": 770,
    "start_time": "2022-03-04T15:33:16.900Z"
   },
   {
    "duration": 870,
    "start_time": "2022-03-04T15:33:17.673Z"
   },
   {
    "duration": 728,
    "start_time": "2022-03-04T15:33:18.546Z"
   },
   {
    "duration": 28,
    "start_time": "2022-03-04T15:33:19.276Z"
   },
   {
    "duration": 26,
    "start_time": "2022-03-04T15:33:19.307Z"
   },
   {
    "duration": 7,
    "start_time": "2022-03-04T15:33:19.336Z"
   },
   {
    "duration": 7,
    "start_time": "2022-03-04T15:33:19.345Z"
   },
   {
    "duration": 1077,
    "start_time": "2022-03-05T06:52:34.061Z"
   },
   {
    "duration": 38,
    "start_time": "2022-03-05T06:52:35.140Z"
   },
   {
    "duration": 205,
    "start_time": "2022-03-05T06:52:37.667Z"
   },
   {
    "duration": 174,
    "start_time": "2022-03-05T06:52:38.183Z"
   },
   {
    "duration": 112,
    "start_time": "2022-03-05T06:52:42.485Z"
   },
   {
    "duration": 16,
    "start_time": "2022-03-05T06:52:42.900Z"
   },
   {
    "duration": 4,
    "start_time": "2022-03-05T06:52:44.627Z"
   },
   {
    "duration": 52,
    "start_time": "2022-03-05T06:52:48.680Z"
   },
   {
    "duration": 59,
    "start_time": "2022-03-05T06:52:56.541Z"
   },
   {
    "duration": 273,
    "start_time": "2022-03-05T06:58:51.935Z"
   },
   {
    "duration": 185,
    "start_time": "2022-03-05T06:59:17.145Z"
   },
   {
    "duration": 64,
    "start_time": "2022-03-05T06:59:21.105Z"
   },
   {
    "duration": 174,
    "start_time": "2022-03-05T06:59:48.014Z"
   },
   {
    "duration": 37,
    "start_time": "2022-03-05T06:59:51.655Z"
   },
   {
    "duration": 184,
    "start_time": "2022-03-05T07:00:03.898Z"
   },
   {
    "duration": 31,
    "start_time": "2022-03-05T07:00:17.327Z"
   },
   {
    "duration": 5,
    "start_time": "2022-03-05T07:02:06.812Z"
   },
   {
    "duration": 4,
    "start_time": "2022-03-05T07:02:17.203Z"
   },
   {
    "duration": 5,
    "start_time": "2022-03-05T07:02:29.738Z"
   },
   {
    "duration": 231,
    "start_time": "2022-03-05T07:04:06.358Z"
   },
   {
    "duration": 29,
    "start_time": "2022-03-05T07:04:27.213Z"
   },
   {
    "duration": 4,
    "start_time": "2022-03-05T07:04:50.071Z"
   },
   {
    "duration": 5,
    "start_time": "2022-03-05T07:05:41.254Z"
   },
   {
    "duration": 4,
    "start_time": "2022-03-05T07:05:56.465Z"
   },
   {
    "duration": 5,
    "start_time": "2022-03-05T07:06:06.163Z"
   },
   {
    "duration": 4,
    "start_time": "2022-03-05T07:06:10.780Z"
   },
   {
    "duration": 4,
    "start_time": "2022-03-05T07:06:16.324Z"
   },
   {
    "duration": 16,
    "start_time": "2022-03-05T07:09:29.593Z"
   },
   {
    "duration": 266,
    "start_time": "2022-03-05T07:11:20.832Z"
   },
   {
    "duration": 3,
    "start_time": "2022-03-05T07:11:22.469Z"
   },
   {
    "duration": 59404,
    "start_time": "2022-03-05T07:11:22.859Z"
   },
   {
    "duration": 5,
    "start_time": "2022-03-05T07:12:22.265Z"
   },
   {
    "duration": 24884,
    "start_time": "2022-03-05T07:12:22.272Z"
   },
   {
    "duration": 4,
    "start_time": "2022-03-05T07:12:47.158Z"
   },
   {
    "duration": 26556,
    "start_time": "2022-03-05T07:12:47.164Z"
   },
   {
    "duration": 79,
    "start_time": "2022-03-05T07:13:13.722Z"
   },
   {
    "duration": 73,
    "start_time": "2022-03-05T07:13:13.803Z"
   },
   {
    "duration": 4,
    "start_time": "2022-03-05T07:13:13.878Z"
   },
   {
    "duration": 95,
    "start_time": "2022-03-05T07:13:13.884Z"
   },
   {
    "duration": 3,
    "start_time": "2022-03-05T07:13:13.981Z"
   },
   {
    "duration": 17,
    "start_time": "2022-03-05T07:13:13.986Z"
   },
   {
    "duration": 21,
    "start_time": "2022-03-05T07:17:35.428Z"
   },
   {
    "duration": 217,
    "start_time": "2022-03-05T07:17:52.356Z"
   },
   {
    "duration": 4,
    "start_time": "2022-03-05T07:17:56.058Z"
   },
   {
    "duration": 7,
    "start_time": "2022-03-05T07:20:36.435Z"
   },
   {
    "duration": 5,
    "start_time": "2022-03-05T07:20:37.969Z"
   },
   {
    "duration": 5,
    "start_time": "2022-03-05T07:20:45.815Z"
   },
   {
    "duration": 7,
    "start_time": "2022-03-05T07:21:58.027Z"
   },
   {
    "duration": 18,
    "start_time": "2022-03-05T07:21:58.730Z"
   },
   {
    "duration": 4,
    "start_time": "2022-03-05T07:21:59.927Z"
   },
   {
    "duration": 19,
    "start_time": "2022-03-05T07:22:00.286Z"
   },
   {
    "duration": 19,
    "start_time": "2022-03-05T07:22:00.618Z"
   },
   {
    "duration": 205,
    "start_time": "2022-03-05T07:22:13.428Z"
   },
   {
    "duration": 21,
    "start_time": "2022-03-05T07:22:19.758Z"
   },
   {
    "duration": 6,
    "start_time": "2022-03-05T07:22:27.589Z"
   },
   {
    "duration": 114,
    "start_time": "2022-03-05T07:22:37.159Z"
   },
   {
    "duration": 5,
    "start_time": "2022-03-05T07:22:37.573Z"
   },
   {
    "duration": 12,
    "start_time": "2022-03-05T07:22:37.964Z"
   },
   {
    "duration": 19,
    "start_time": "2022-03-05T07:28:29.145Z"
   },
   {
    "duration": 5,
    "start_time": "2022-03-05T07:28:32.432Z"
   },
   {
    "duration": 4,
    "start_time": "2022-03-05T07:28:54.423Z"
   },
   {
    "duration": 6,
    "start_time": "2022-03-05T07:37:34.576Z"
   },
   {
    "duration": 4,
    "start_time": "2022-03-05T07:37:57.194Z"
   },
   {
    "duration": 5,
    "start_time": "2022-03-05T07:38:45.796Z"
   },
   {
    "duration": 19,
    "start_time": "2022-03-05T07:39:03.379Z"
   },
   {
    "duration": 5,
    "start_time": "2022-03-05T07:39:12.571Z"
   },
   {
    "duration": 491,
    "start_time": "2022-03-05T07:39:32.385Z"
   },
   {
    "duration": 4,
    "start_time": "2022-03-05T07:52:03.287Z"
   },
   {
    "duration": 202,
    "start_time": "2022-03-05T07:54:25.811Z"
   },
   {
    "duration": 4,
    "start_time": "2022-03-05T07:54:36.913Z"
   },
   {
    "duration": 25,
    "start_time": "2022-03-05T07:56:25.305Z"
   },
   {
    "duration": 62,
    "start_time": "2022-03-05T08:10:44.636Z"
   },
   {
    "duration": 59,
    "start_time": "2022-03-05T08:11:08.359Z"
   },
   {
    "duration": 11,
    "start_time": "2022-03-05T08:11:26.149Z"
   },
   {
    "duration": 5,
    "start_time": "2022-03-05T08:11:33.798Z"
   }
  ],
  "kernelspec": {
   "display_name": "Python 3 (ipykernel)",
   "language": "python",
   "name": "python3"
  },
  "language_info": {
   "codemirror_mode": {
    "name": "ipython",
    "version": 3
   },
   "file_extension": ".py",
   "mimetype": "text/x-python",
   "name": "python",
   "nbconvert_exporter": "python",
   "pygments_lexer": "ipython3",
   "version": "3.9.7"
  },
  "toc": {
   "base_numbering": 1,
   "nav_menu": {},
   "number_sections": true,
   "sideBar": true,
   "skip_h1_title": false,
   "title_cell": "Table of Contents",
   "title_sidebar": "Contents",
   "toc_cell": false,
   "toc_position": {
    "height": "calc(100% - 180px)",
    "left": "10px",
    "top": "150px",
    "width": "168px"
   },
   "toc_section_display": true,
   "toc_window_display": true
  }
 },
 "nbformat": 4,
 "nbformat_minor": 5
}
