{
 "cells": [
  {
   "cell_type": "markdown",
   "id": "cf27eefd",
   "metadata": {},
   "source": [
    "# Wise Case study. Presented by Maxim Keller\n",
    "\n",
    "## Library Imports and Constant Declarations"
   ]
  },
  {
   "cell_type": "code",
   "execution_count": 1,
   "id": "0d4b0bf9",
   "metadata": {},
   "outputs": [],
   "source": [
    "import pandas as pd"
   ]
  },
  {
   "cell_type": "code",
   "execution_count": 2,
   "id": "9f8005a0",
   "metadata": {},
   "outputs": [],
   "source": [
    "START_DATE = '2022-04-01'\n",
    "END_DATE = '2023-08-01'"
   ]
  },
  {
   "cell_type": "markdown",
   "id": "9a160277",
   "metadata": {},
   "source": [
    "## Data input, data clearance\n",
    "### Customers tab"
   ]
  },
  {
   "cell_type": "code",
   "execution_count": 3,
   "id": "14ff4b2f",
   "metadata": {},
   "outputs": [],
   "source": [
    "# import DataFrame\n",
    "customer = pd.read_excel('Dummy Data.xlsx', sheet_name=\"Customer\", header=1)"
   ]
  },
  {
   "cell_type": "code",
   "execution_count": 4,
   "id": "78f5b43b",
   "metadata": {},
   "outputs": [],
   "source": [
    "#As the initial file wasn’t properly prepared, \n",
    "#it is important to prepare the DataFrame correctly.\n",
    "#keep only needed columns and rename to exclude whitespaces\n",
    "\n",
    "columns = ['Customer_Id ', \n",
    "         'Customer_Type',\n",
    "         'Current_Address_Country',\n",
    "         'Customer_Since_Date'\n",
    "        ]\n",
    "customer = customer[columns]\n",
    "customer = customer.rename(columns={'Customer_Id ': 'Customer_Id'})"
   ]
  },
  {
   "cell_type": "code",
   "execution_count": 5,
   "id": "89eaff3f",
   "metadata": {},
   "outputs": [
    {
     "name": "stdout",
     "output_type": "stream",
     "text": [
      "<class 'pandas.core.frame.DataFrame'>\n",
      "RangeIndex: 100 entries, 0 to 99\n",
      "Data columns (total 4 columns):\n",
      " #   Column                   Non-Null Count  Dtype         \n",
      "---  ------                   --------------  -----         \n",
      " 0   Customer_Id              100 non-null    float64       \n",
      " 1   Customer_Type            96 non-null     object        \n",
      " 2   Current_Address_Country  100 non-null    object        \n",
      " 3   Customer_Since_Date      100 non-null    datetime64[ns]\n",
      "dtypes: datetime64[ns](1), float64(1), object(2)\n",
      "memory usage: 3.2+ KB\n"
     ]
    }
   ],
   "source": [
    "# Ensure that all the formats are correct\n",
    "customer.info()"
   ]
  },
  {
   "cell_type": "code",
   "execution_count": 6,
   "id": "8947f661",
   "metadata": {},
   "outputs": [],
   "source": [
    "# According to the existing inputs, \n",
    "# we can change the format of the Customer_Id column.\n",
    "customer['Customer_Id'] = customer['Customer_Id'].astype(int)"
   ]
  },
  {
   "cell_type": "code",
   "execution_count": 7,
   "id": "20385de9",
   "metadata": {},
   "outputs": [
    {
     "data": {
      "text/html": [
       "<div>\n",
       "<style scoped>\n",
       "    .dataframe tbody tr th:only-of-type {\n",
       "        vertical-align: middle;\n",
       "    }\n",
       "\n",
       "    .dataframe tbody tr th {\n",
       "        vertical-align: top;\n",
       "    }\n",
       "\n",
       "    .dataframe thead th {\n",
       "        text-align: right;\n",
       "    }\n",
       "</style>\n",
       "<table border=\"1\" class=\"dataframe\">\n",
       "  <thead>\n",
       "    <tr style=\"text-align: right;\">\n",
       "      <th></th>\n",
       "      <th>Customer_Id</th>\n",
       "      <th>Customer_Type</th>\n",
       "      <th>Current_Address_Country</th>\n",
       "      <th>Customer_Since_Date</th>\n",
       "    </tr>\n",
       "  </thead>\n",
       "  <tbody>\n",
       "    <tr>\n",
       "      <th>count</th>\n",
       "      <td>100.000000</td>\n",
       "      <td>96</td>\n",
       "      <td>100</td>\n",
       "      <td>100</td>\n",
       "    </tr>\n",
       "    <tr>\n",
       "      <th>unique</th>\n",
       "      <td>NaN</td>\n",
       "      <td>2</td>\n",
       "      <td>12</td>\n",
       "      <td>NaN</td>\n",
       "    </tr>\n",
       "    <tr>\n",
       "      <th>top</th>\n",
       "      <td>NaN</td>\n",
       "      <td>Personal</td>\n",
       "      <td>UK</td>\n",
       "      <td>NaN</td>\n",
       "    </tr>\n",
       "    <tr>\n",
       "      <th>freq</th>\n",
       "      <td>NaN</td>\n",
       "      <td>67</td>\n",
       "      <td>34</td>\n",
       "      <td>NaN</td>\n",
       "    </tr>\n",
       "    <tr>\n",
       "      <th>mean</th>\n",
       "      <td>50.500000</td>\n",
       "      <td>NaN</td>\n",
       "      <td>NaN</td>\n",
       "      <td>2023-01-29 09:36:00</td>\n",
       "    </tr>\n",
       "    <tr>\n",
       "      <th>min</th>\n",
       "      <td>1.000000</td>\n",
       "      <td>NaN</td>\n",
       "      <td>NaN</td>\n",
       "      <td>2022-01-27 00:00:00</td>\n",
       "    </tr>\n",
       "    <tr>\n",
       "      <th>25%</th>\n",
       "      <td>25.750000</td>\n",
       "      <td>NaN</td>\n",
       "      <td>NaN</td>\n",
       "      <td>2022-08-11 06:00:00</td>\n",
       "    </tr>\n",
       "    <tr>\n",
       "      <th>50%</th>\n",
       "      <td>50.500000</td>\n",
       "      <td>NaN</td>\n",
       "      <td>NaN</td>\n",
       "      <td>2023-01-17 00:00:00</td>\n",
       "    </tr>\n",
       "    <tr>\n",
       "      <th>75%</th>\n",
       "      <td>75.250000</td>\n",
       "      <td>NaN</td>\n",
       "      <td>NaN</td>\n",
       "      <td>2023-09-16 12:00:00</td>\n",
       "    </tr>\n",
       "    <tr>\n",
       "      <th>max</th>\n",
       "      <td>100.000000</td>\n",
       "      <td>NaN</td>\n",
       "      <td>NaN</td>\n",
       "      <td>2023-12-26 00:00:00</td>\n",
       "    </tr>\n",
       "    <tr>\n",
       "      <th>std</th>\n",
       "      <td>29.011492</td>\n",
       "      <td>NaN</td>\n",
       "      <td>NaN</td>\n",
       "      <td>NaN</td>\n",
       "    </tr>\n",
       "  </tbody>\n",
       "</table>\n",
       "</div>"
      ],
      "text/plain": [
       "        Customer_Id Customer_Type Current_Address_Country  Customer_Since_Date\n",
       "count    100.000000            96                     100                  100\n",
       "unique          NaN             2                      12                  NaN\n",
       "top             NaN      Personal                      UK                  NaN\n",
       "freq            NaN            67                      34                  NaN\n",
       "mean      50.500000           NaN                     NaN  2023-01-29 09:36:00\n",
       "min        1.000000           NaN                     NaN  2022-01-27 00:00:00\n",
       "25%       25.750000           NaN                     NaN  2022-08-11 06:00:00\n",
       "50%       50.500000           NaN                     NaN  2023-01-17 00:00:00\n",
       "75%       75.250000           NaN                     NaN  2023-09-16 12:00:00\n",
       "max      100.000000           NaN                     NaN  2023-12-26 00:00:00\n",
       "std       29.011492           NaN                     NaN                  NaN"
      ]
     },
     "execution_count": 7,
     "metadata": {},
     "output_type": "execute_result"
    }
   ],
   "source": [
    "# As an initial step in data cleaning, \n",
    "# we will use the describe() function.\n",
    "customer.describe(include='all',datetime_is_numeric=True)"
   ]
  },
  {
   "cell_type": "code",
   "execution_count": 8,
   "id": "b925c2e5",
   "metadata": {},
   "outputs": [],
   "source": [
    "# There are some null values in the Customer_Type column. \n",
    "# Since we can’t fill them, we will add the label “Unknown.”\n",
    "customer['Customer_Type'].fillna('Unknown', inplace = True)"
   ]
  },
  {
   "cell_type": "code",
   "execution_count": 9,
   "id": "6f55fe95",
   "metadata": {},
   "outputs": [
    {
     "data": {
      "text/plain": [
       "0"
      ]
     },
     "execution_count": 9,
     "metadata": {},
     "output_type": "execute_result"
    }
   ],
   "source": [
    "# Ensure that there are no duplicates in the Customer_Id column\n",
    "customer_id_counts = customer['Customer_Id'].value_counts()\n",
    "customer_id_counts[customer_id_counts > 1].count()"
   ]
  },
  {
   "cell_type": "markdown",
   "id": "45758454",
   "metadata": {},
   "source": [
    "### Transactions tab"
   ]
  },
  {
   "cell_type": "code",
   "execution_count": 10,
   "id": "33ab2b35",
   "metadata": {},
   "outputs": [],
   "source": [
    "# import DataFrame\n",
    "transaction = pd.read_excel('Dummy Data.xlsx', sheet_name=\"Transactions\", header=1)"
   ]
  },
  {
   "cell_type": "code",
   "execution_count": 11,
   "id": "202d9456",
   "metadata": {},
   "outputs": [],
   "source": [
    "# Repeating the same steps as for customer DataFrame\n",
    "\n",
    "columns_tr = ['Transaction Id', \n",
    "         'Customer_Id ',\n",
    "         'Amount_GBP',\n",
    "         'Currency_Route ',\n",
    "         'Transaction Date'\n",
    "        ]\n",
    "transaction = transaction[columns_tr]\n",
    "transaction = transaction.rename(columns={'Customer_Id ': 'Customer_Id',\n",
    "                                         'Currency_Route ': 'Currency_Route',\n",
    "                                         'Transaction Date': 'Transaction_Date',\n",
    "                                         'Transaction Id': 'Transaction_Id'})"
   ]
  },
  {
   "cell_type": "code",
   "execution_count": 12,
   "id": "feabbeb4",
   "metadata": {},
   "outputs": [
    {
     "data": {
      "text/html": [
       "<div>\n",
       "<style scoped>\n",
       "    .dataframe tbody tr th:only-of-type {\n",
       "        vertical-align: middle;\n",
       "    }\n",
       "\n",
       "    .dataframe tbody tr th {\n",
       "        vertical-align: top;\n",
       "    }\n",
       "\n",
       "    .dataframe thead th {\n",
       "        text-align: right;\n",
       "    }\n",
       "</style>\n",
       "<table border=\"1\" class=\"dataframe\">\n",
       "  <thead>\n",
       "    <tr style=\"text-align: right;\">\n",
       "      <th></th>\n",
       "      <th>Transaction_Id</th>\n",
       "      <th>Customer_Id</th>\n",
       "      <th>Amount_GBP</th>\n",
       "      <th>Currency_Route</th>\n",
       "      <th>Transaction_Date</th>\n",
       "    </tr>\n",
       "  </thead>\n",
       "  <tbody>\n",
       "    <tr>\n",
       "      <th>count</th>\n",
       "      <td>90.000000</td>\n",
       "      <td>90.000000</td>\n",
       "      <td>90.000000</td>\n",
       "      <td>90</td>\n",
       "      <td>90</td>\n",
       "    </tr>\n",
       "    <tr>\n",
       "      <th>unique</th>\n",
       "      <td>NaN</td>\n",
       "      <td>NaN</td>\n",
       "      <td>NaN</td>\n",
       "      <td>16</td>\n",
       "      <td>NaN</td>\n",
       "    </tr>\n",
       "    <tr>\n",
       "      <th>top</th>\n",
       "      <td>NaN</td>\n",
       "      <td>NaN</td>\n",
       "      <td>NaN</td>\n",
       "      <td>GBP --&gt; AUD</td>\n",
       "      <td>NaN</td>\n",
       "    </tr>\n",
       "    <tr>\n",
       "      <th>freq</th>\n",
       "      <td>NaN</td>\n",
       "      <td>NaN</td>\n",
       "      <td>NaN</td>\n",
       "      <td>7</td>\n",
       "      <td>NaN</td>\n",
       "    </tr>\n",
       "    <tr>\n",
       "      <th>mean</th>\n",
       "      <td>73.477778</td>\n",
       "      <td>53.888889</td>\n",
       "      <td>491.377778</td>\n",
       "      <td>NaN</td>\n",
       "      <td>2022-11-08 17:52:00</td>\n",
       "    </tr>\n",
       "    <tr>\n",
       "      <th>min</th>\n",
       "      <td>1.000000</td>\n",
       "      <td>1.000000</td>\n",
       "      <td>-584.000000</td>\n",
       "      <td>NaN</td>\n",
       "      <td>2022-01-08 00:00:00</td>\n",
       "    </tr>\n",
       "    <tr>\n",
       "      <th>25%</th>\n",
       "      <td>32.000000</td>\n",
       "      <td>29.000000</td>\n",
       "      <td>176.500000</td>\n",
       "      <td>NaN</td>\n",
       "      <td>2022-05-17 06:00:00</td>\n",
       "    </tr>\n",
       "    <tr>\n",
       "      <th>50%</th>\n",
       "      <td>81.000000</td>\n",
       "      <td>55.500000</td>\n",
       "      <td>534.000000</td>\n",
       "      <td>NaN</td>\n",
       "      <td>2022-09-26 00:00:00</td>\n",
       "    </tr>\n",
       "    <tr>\n",
       "      <th>75%</th>\n",
       "      <td>108.750000</td>\n",
       "      <td>77.000000</td>\n",
       "      <td>793.500000</td>\n",
       "      <td>NaN</td>\n",
       "      <td>2023-04-26 12:00:00</td>\n",
       "    </tr>\n",
       "    <tr>\n",
       "      <th>max</th>\n",
       "      <td>147.000000</td>\n",
       "      <td>100.000000</td>\n",
       "      <td>1000.000000</td>\n",
       "      <td>NaN</td>\n",
       "      <td>2023-12-03 00:00:00</td>\n",
       "    </tr>\n",
       "    <tr>\n",
       "      <th>std</th>\n",
       "      <td>44.112274</td>\n",
       "      <td>28.950343</td>\n",
       "      <td>341.335664</td>\n",
       "      <td>NaN</td>\n",
       "      <td>NaN</td>\n",
       "    </tr>\n",
       "  </tbody>\n",
       "</table>\n",
       "</div>"
      ],
      "text/plain": [
       "        Transaction_Id  Customer_Id   Amount_GBP Currency_Route  \\\n",
       "count        90.000000    90.000000    90.000000             90   \n",
       "unique             NaN          NaN          NaN             16   \n",
       "top                NaN          NaN          NaN    GBP --> AUD   \n",
       "freq               NaN          NaN          NaN              7   \n",
       "mean         73.477778    53.888889   491.377778            NaN   \n",
       "min           1.000000     1.000000  -584.000000            NaN   \n",
       "25%          32.000000    29.000000   176.500000            NaN   \n",
       "50%          81.000000    55.500000   534.000000            NaN   \n",
       "75%         108.750000    77.000000   793.500000            NaN   \n",
       "max         147.000000   100.000000  1000.000000            NaN   \n",
       "std          44.112274    28.950343   341.335664            NaN   \n",
       "\n",
       "           Transaction_Date  \n",
       "count                    90  \n",
       "unique                  NaN  \n",
       "top                     NaN  \n",
       "freq                    NaN  \n",
       "mean    2022-11-08 17:52:00  \n",
       "min     2022-01-08 00:00:00  \n",
       "25%     2022-05-17 06:00:00  \n",
       "50%     2022-09-26 00:00:00  \n",
       "75%     2023-04-26 12:00:00  \n",
       "max     2023-12-03 00:00:00  \n",
       "std                     NaN  "
      ]
     },
     "execution_count": 12,
     "metadata": {},
     "output_type": "execute_result"
    }
   ],
   "source": [
    "transaction.describe(include='all',datetime_is_numeric=True)"
   ]
  },
  {
   "cell_type": "code",
   "execution_count": 13,
   "id": "d26efde9",
   "metadata": {},
   "outputs": [
    {
     "data": {
      "text/html": [
       "<div>\n",
       "<style scoped>\n",
       "    .dataframe tbody tr th:only-of-type {\n",
       "        vertical-align: middle;\n",
       "    }\n",
       "\n",
       "    .dataframe tbody tr th {\n",
       "        vertical-align: top;\n",
       "    }\n",
       "\n",
       "    .dataframe thead th {\n",
       "        text-align: right;\n",
       "    }\n",
       "</style>\n",
       "<table border=\"1\" class=\"dataframe\">\n",
       "  <thead>\n",
       "    <tr style=\"text-align: right;\">\n",
       "      <th></th>\n",
       "      <th>Transaction_Id</th>\n",
       "      <th>Customer_Id</th>\n",
       "      <th>Amount_GBP</th>\n",
       "      <th>Currency_Route</th>\n",
       "      <th>Transaction_Date</th>\n",
       "    </tr>\n",
       "  </thead>\n",
       "  <tbody>\n",
       "    <tr>\n",
       "      <th>16</th>\n",
       "      <td>109.0</td>\n",
       "      <td>19.0</td>\n",
       "      <td>-250.0</td>\n",
       "      <td>USD --&gt; EUR</td>\n",
       "      <td>2023-09-06</td>\n",
       "    </tr>\n",
       "    <tr>\n",
       "      <th>76</th>\n",
       "      <td>107.0</td>\n",
       "      <td>88.0</td>\n",
       "      <td>-584.0</td>\n",
       "      <td>GBP --&gt; USD</td>\n",
       "      <td>2022-08-11</td>\n",
       "    </tr>\n",
       "  </tbody>\n",
       "</table>\n",
       "</div>"
      ],
      "text/plain": [
       "    Transaction_Id  Customer_Id  Amount_GBP Currency_Route Transaction_Date\n",
       "16           109.0         19.0      -250.0    USD --> EUR       2023-09-06\n",
       "76           107.0         88.0      -584.0    GBP --> USD       2022-08-11"
      ]
     },
     "execution_count": 13,
     "metadata": {},
     "output_type": "execute_result"
    }
   ],
   "source": [
    "transaction[transaction['Amount_GBP']<=0]"
   ]
  },
  {
   "cell_type": "markdown",
   "id": "fb435b0d",
   "metadata": {},
   "source": [
    "As we can see, there are two negative values in the Amount_GBP column. At the end of this section, these records should be excluded from the report since the nature of the issue is unknown.\n",
    "(Excluding those two transactions now would be a mistake, as it will affect the issue that will be highlighted next)"
   ]
  },
  {
   "cell_type": "code",
   "execution_count": 14,
   "id": "691275ca",
   "metadata": {},
   "outputs": [
    {
     "name": "stdout",
     "output_type": "stream",
     "text": [
      "<class 'pandas.core.frame.DataFrame'>\n",
      "RangeIndex: 90 entries, 0 to 89\n",
      "Data columns (total 5 columns):\n",
      " #   Column            Non-Null Count  Dtype         \n",
      "---  ------            --------------  -----         \n",
      " 0   Transaction_Id    90 non-null     float64       \n",
      " 1   Customer_Id       90 non-null     float64       \n",
      " 2   Amount_GBP        90 non-null     float64       \n",
      " 3   Currency_Route    90 non-null     object        \n",
      " 4   Transaction_Date  90 non-null     datetime64[ns]\n",
      "dtypes: datetime64[ns](1), float64(3), object(1)\n",
      "memory usage: 3.6+ KB\n"
     ]
    }
   ],
   "source": [
    "transaction.info()"
   ]
  },
  {
   "cell_type": "code",
   "execution_count": 15,
   "id": "a275ae00",
   "metadata": {},
   "outputs": [],
   "source": [
    "# Changing the type to a more appropriate one, \n",
    "# based on the nature of the values in the column.\n",
    "transaction['Transaction_Id'] = transaction['Transaction_Id'].astype(int)\n",
    "transaction['Customer_Id'] = transaction['Customer_Id'].astype(int)"
   ]
  },
  {
   "cell_type": "code",
   "execution_count": 16,
   "id": "25c0f909",
   "metadata": {
    "scrolled": true
   },
   "outputs": [
    {
     "name": "stdout",
     "output_type": "stream",
     "text": [
      "Number of transactions with a non-unique Transaction Id: 21\n"
     ]
    }
   ],
   "source": [
    "transaction_id_counts = transaction['Transaction_Id'].value_counts()\n",
    "print('Number of transactions with a non-unique Transaction Id:', transaction_id_counts[transaction_id_counts > 1].count())"
   ]
  },
  {
   "cell_type": "code",
   "execution_count": 17,
   "id": "4800b575",
   "metadata": {},
   "outputs": [
    {
     "data": {
      "text/html": [
       "<div>\n",
       "<style scoped>\n",
       "    .dataframe tbody tr th:only-of-type {\n",
       "        vertical-align: middle;\n",
       "    }\n",
       "\n",
       "    .dataframe tbody tr th {\n",
       "        vertical-align: top;\n",
       "    }\n",
       "\n",
       "    .dataframe thead th {\n",
       "        text-align: right;\n",
       "    }\n",
       "</style>\n",
       "<table border=\"1\" class=\"dataframe\">\n",
       "  <thead>\n",
       "    <tr style=\"text-align: right;\">\n",
       "      <th></th>\n",
       "      <th>Transaction_Id</th>\n",
       "      <th>Customer_Id</th>\n",
       "      <th>Amount_GBP</th>\n",
       "      <th>Currency_Route</th>\n",
       "      <th>Transaction_Date</th>\n",
       "    </tr>\n",
       "  </thead>\n",
       "  <tbody>\n",
       "    <tr>\n",
       "      <th>2</th>\n",
       "      <td>11</td>\n",
       "      <td>2</td>\n",
       "      <td>253.0</td>\n",
       "      <td>AUD --&gt; AUD</td>\n",
       "      <td>2022-06-30</td>\n",
       "    </tr>\n",
       "    <tr>\n",
       "      <th>25</th>\n",
       "      <td>11</td>\n",
       "      <td>31</td>\n",
       "      <td>283.0</td>\n",
       "      <td>GBP --&gt; USD</td>\n",
       "      <td>2022-03-21</td>\n",
       "    </tr>\n",
       "    <tr>\n",
       "      <th>43</th>\n",
       "      <td>11</td>\n",
       "      <td>55</td>\n",
       "      <td>36.0</td>\n",
       "      <td>AUD --&gt; GBP</td>\n",
       "      <td>2022-03-24</td>\n",
       "    </tr>\n",
       "  </tbody>\n",
       "</table>\n",
       "</div>"
      ],
      "text/plain": [
       "    Transaction_Id  Customer_Id  Amount_GBP Currency_Route Transaction_Date\n",
       "2               11            2       253.0    AUD --> AUD       2022-06-30\n",
       "25              11           31       283.0    GBP --> USD       2022-03-21\n",
       "43              11           55        36.0    AUD --> GBP       2022-03-24"
      ]
     },
     "execution_count": 17,
     "metadata": {},
     "output_type": "execute_result"
    }
   ],
   "source": [
    "transaction[transaction['Transaction_Id']== 11]"
   ]
  },
  {
   "attachments": {},
   "cell_type": "markdown",
   "id": "2fd735de",
   "metadata": {},
   "source": [
    "As we see, there are 21 transactions with a non-unique Transaction_Id, which goes against the given definition stating that Transaction_Id is a unique identifier for a given transaction. Also, as we can see in the presented example, three transactions with Transaction_ID = 11 were made by different customers, with different currency routes, and on different dates, so they can’t be considered duplicates.\n",
    "\n",
    "\n",
    "The reasons behind this must be further investigated, but for now, they will be removed from the dataset to ensure data integrity."
   ]
  },
  {
   "cell_type": "code",
   "execution_count": 18,
   "id": "6892e1d7",
   "metadata": {},
   "outputs": [],
   "source": [
    "# Excluding non-unique Transaction Ids.\n",
    "transactions = transaction[~transaction['Transaction_Id'].duplicated(keep=False)]\n",
    "\n",
    "# Excluding transaction with a negative amount\n",
    "transactions = transactions[transactions['Amount_GBP']> 0]\n"
   ]
  },
  {
   "cell_type": "code",
   "execution_count": 19,
   "id": "fee221ec",
   "metadata": {},
   "outputs": [
    {
     "data": {
      "text/html": [
       "<div>\n",
       "<style scoped>\n",
       "    .dataframe tbody tr th:only-of-type {\n",
       "        vertical-align: middle;\n",
       "    }\n",
       "\n",
       "    .dataframe tbody tr th {\n",
       "        vertical-align: top;\n",
       "    }\n",
       "\n",
       "    .dataframe thead th {\n",
       "        text-align: right;\n",
       "    }\n",
       "</style>\n",
       "<table border=\"1\" class=\"dataframe\">\n",
       "  <thead>\n",
       "    <tr style=\"text-align: right;\">\n",
       "      <th></th>\n",
       "      <th>Transaction_Id</th>\n",
       "      <th>Customer_Id</th>\n",
       "      <th>Amount_GBP</th>\n",
       "      <th>Currency_Route</th>\n",
       "      <th>Transaction_Date</th>\n",
       "    </tr>\n",
       "  </thead>\n",
       "  <tbody>\n",
       "    <tr>\n",
       "      <th>28</th>\n",
       "      <td>28</td>\n",
       "      <td>37</td>\n",
       "      <td>985.0</td>\n",
       "      <td>EUR --&gt; USD</td>\n",
       "      <td>2023-08-20</td>\n",
       "    </tr>\n",
       "  </tbody>\n",
       "</table>\n",
       "</div>"
      ],
      "text/plain": [
       "    Transaction_Id  Customer_Id  Amount_GBP Currency_Route Transaction_Date\n",
       "28              28           37       985.0    EUR --> USD       2023-08-20"
      ]
     },
     "execution_count": 19,
     "metadata": {},
     "output_type": "execute_result"
    }
   ],
   "source": [
    "transactions[transactions['Customer_Id']==37]"
   ]
  },
  {
   "cell_type": "code",
   "execution_count": 20,
   "id": "e59fbfe0",
   "metadata": {},
   "outputs": [
    {
     "name": "stdout",
     "output_type": "stream",
     "text": [
      "Out of the initial 90 records in the Transactions DataFrame, only 45 remain.\n"
     ]
    }
   ],
   "source": [
    "print(f'Out of the initial {transaction.Transaction_Id.count()} records in the Transactions DataFrame, only {transactions.Transaction_Id.count()} remain.')"
   ]
  },
  {
   "cell_type": "markdown",
   "id": "1c4d2131",
   "metadata": {},
   "source": [
    "### Merge two dataframes"
   ]
  },
  {
   "cell_type": "code",
   "execution_count": 21,
   "id": "e4655f5a",
   "metadata": {},
   "outputs": [],
   "source": [
    "# As we can see from our previous research, in both DataFrames, \n",
    "# Customer_ID values range between 1 and 100. \n",
    "# However, to ensure that all transactions are preserved, \n",
    "# we will use a left join.\n",
    "tr_cus = pd.merge(transactions, customer, on='Customer_Id', how='left')"
   ]
  },
  {
   "cell_type": "code",
   "execution_count": 22,
   "id": "644e044e",
   "metadata": {},
   "outputs": [
    {
     "data": {
      "text/html": [
       "<div>\n",
       "<style scoped>\n",
       "    .dataframe tbody tr th:only-of-type {\n",
       "        vertical-align: middle;\n",
       "    }\n",
       "\n",
       "    .dataframe tbody tr th {\n",
       "        vertical-align: top;\n",
       "    }\n",
       "\n",
       "    .dataframe thead th {\n",
       "        text-align: right;\n",
       "    }\n",
       "</style>\n",
       "<table border=\"1\" class=\"dataframe\">\n",
       "  <thead>\n",
       "    <tr style=\"text-align: right;\">\n",
       "      <th></th>\n",
       "      <th>Transaction_Id</th>\n",
       "      <th>Customer_Id</th>\n",
       "      <th>Amount_GBP</th>\n",
       "      <th>Currency_Route</th>\n",
       "      <th>Transaction_Date</th>\n",
       "      <th>Customer_Type</th>\n",
       "      <th>Current_Address_Country</th>\n",
       "      <th>Customer_Since_Date</th>\n",
       "    </tr>\n",
       "  </thead>\n",
       "  <tbody>\n",
       "    <tr>\n",
       "      <th>0</th>\n",
       "      <td>73</td>\n",
       "      <td>1</td>\n",
       "      <td>809.0</td>\n",
       "      <td>GBP --&gt; AUD</td>\n",
       "      <td>2022-08-23</td>\n",
       "      <td>Personal</td>\n",
       "      <td>GBR</td>\n",
       "      <td>2023-02-23</td>\n",
       "    </tr>\n",
       "    <tr>\n",
       "      <th>2</th>\n",
       "      <td>85</td>\n",
       "      <td>3</td>\n",
       "      <td>460.0</td>\n",
       "      <td>USD --&gt; USD</td>\n",
       "      <td>2022-12-30</td>\n",
       "      <td>Business</td>\n",
       "      <td>ESP</td>\n",
       "      <td>2023-03-06</td>\n",
       "    </tr>\n",
       "    <tr>\n",
       "      <th>5</th>\n",
       "      <td>130</td>\n",
       "      <td>14</td>\n",
       "      <td>547.0</td>\n",
       "      <td>GBP --&gt; EUR</td>\n",
       "      <td>2022-03-08</td>\n",
       "      <td>Personal</td>\n",
       "      <td>UK</td>\n",
       "      <td>2022-12-14</td>\n",
       "    </tr>\n",
       "    <tr>\n",
       "      <th>9</th>\n",
       "      <td>19</td>\n",
       "      <td>22</td>\n",
       "      <td>670.0</td>\n",
       "      <td>USD --&gt; GBP</td>\n",
       "      <td>2022-08-24</td>\n",
       "      <td>Personal</td>\n",
       "      <td>UK</td>\n",
       "      <td>2022-12-29</td>\n",
       "    </tr>\n",
       "    <tr>\n",
       "      <th>11</th>\n",
       "      <td>144</td>\n",
       "      <td>27</td>\n",
       "      <td>823.0</td>\n",
       "      <td>AUD --&gt; USD</td>\n",
       "      <td>2023-02-05</td>\n",
       "      <td>Business</td>\n",
       "      <td>GBR</td>\n",
       "      <td>2023-10-27</td>\n",
       "    </tr>\n",
       "    <tr>\n",
       "      <th>16</th>\n",
       "      <td>12</td>\n",
       "      <td>53</td>\n",
       "      <td>135.0</td>\n",
       "      <td>EUR --&gt; EUR</td>\n",
       "      <td>2023-06-19</td>\n",
       "      <td>Unknown</td>\n",
       "      <td>UK</td>\n",
       "      <td>2023-10-28</td>\n",
       "    </tr>\n",
       "    <tr>\n",
       "      <th>17</th>\n",
       "      <td>80</td>\n",
       "      <td>53</td>\n",
       "      <td>538.0</td>\n",
       "      <td>USD --&gt; USD</td>\n",
       "      <td>2022-05-08</td>\n",
       "      <td>Unknown</td>\n",
       "      <td>UK</td>\n",
       "      <td>2023-10-28</td>\n",
       "    </tr>\n",
       "    <tr>\n",
       "      <th>23</th>\n",
       "      <td>96</td>\n",
       "      <td>67</td>\n",
       "      <td>853.0</td>\n",
       "      <td>USD --&gt; EUR</td>\n",
       "      <td>2022-02-27</td>\n",
       "      <td>Unknown</td>\n",
       "      <td>FRA</td>\n",
       "      <td>2023-11-24</td>\n",
       "    </tr>\n",
       "    <tr>\n",
       "      <th>24</th>\n",
       "      <td>30</td>\n",
       "      <td>72</td>\n",
       "      <td>282.0</td>\n",
       "      <td>EUR --&gt; EUR</td>\n",
       "      <td>2022-05-15</td>\n",
       "      <td>Personal</td>\n",
       "      <td>ESP</td>\n",
       "      <td>2022-11-23</td>\n",
       "    </tr>\n",
       "    <tr>\n",
       "      <th>27</th>\n",
       "      <td>1</td>\n",
       "      <td>75</td>\n",
       "      <td>985.0</td>\n",
       "      <td>EUR --&gt; GBP</td>\n",
       "      <td>2022-04-06</td>\n",
       "      <td>Personal</td>\n",
       "      <td>FRA</td>\n",
       "      <td>2022-10-31</td>\n",
       "    </tr>\n",
       "    <tr>\n",
       "      <th>28</th>\n",
       "      <td>40</td>\n",
       "      <td>77</td>\n",
       "      <td>56.0</td>\n",
       "      <td>GBP --&gt; GBP</td>\n",
       "      <td>2022-03-31</td>\n",
       "      <td>Personal</td>\n",
       "      <td>ITA</td>\n",
       "      <td>2023-05-26</td>\n",
       "    </tr>\n",
       "    <tr>\n",
       "      <th>29</th>\n",
       "      <td>138</td>\n",
       "      <td>79</td>\n",
       "      <td>848.0</td>\n",
       "      <td>GBP --&gt; GBP</td>\n",
       "      <td>2022-02-19</td>\n",
       "      <td>Business</td>\n",
       "      <td>ITA</td>\n",
       "      <td>2022-08-12</td>\n",
       "    </tr>\n",
       "    <tr>\n",
       "      <th>32</th>\n",
       "      <td>105</td>\n",
       "      <td>81</td>\n",
       "      <td>908.0</td>\n",
       "      <td>GBP --&gt; AUD</td>\n",
       "      <td>2022-04-19</td>\n",
       "      <td>Business</td>\n",
       "      <td>FRA</td>\n",
       "      <td>2023-10-06</td>\n",
       "    </tr>\n",
       "    <tr>\n",
       "      <th>33</th>\n",
       "      <td>134</td>\n",
       "      <td>81</td>\n",
       "      <td>174.0</td>\n",
       "      <td>GBP --&gt; USD</td>\n",
       "      <td>2022-09-05</td>\n",
       "      <td>Business</td>\n",
       "      <td>FRA</td>\n",
       "      <td>2023-10-06</td>\n",
       "    </tr>\n",
       "    <tr>\n",
       "      <th>34</th>\n",
       "      <td>94</td>\n",
       "      <td>82</td>\n",
       "      <td>154.0</td>\n",
       "      <td>EUR --&gt; EUR</td>\n",
       "      <td>2022-02-05</td>\n",
       "      <td>Business</td>\n",
       "      <td>UK</td>\n",
       "      <td>2023-12-05</td>\n",
       "    </tr>\n",
       "    <tr>\n",
       "      <th>35</th>\n",
       "      <td>62</td>\n",
       "      <td>85</td>\n",
       "      <td>266.0</td>\n",
       "      <td>USD --&gt; GBP</td>\n",
       "      <td>2022-06-02</td>\n",
       "      <td>Personal</td>\n",
       "      <td>ESP</td>\n",
       "      <td>2023-09-18</td>\n",
       "    </tr>\n",
       "    <tr>\n",
       "      <th>39</th>\n",
       "      <td>65</td>\n",
       "      <td>92</td>\n",
       "      <td>436.0</td>\n",
       "      <td>USD --&gt; GBP</td>\n",
       "      <td>2023-07-03</td>\n",
       "      <td>Business</td>\n",
       "      <td>FRA</td>\n",
       "      <td>2023-11-04</td>\n",
       "    </tr>\n",
       "    <tr>\n",
       "      <th>42</th>\n",
       "      <td>108</td>\n",
       "      <td>95</td>\n",
       "      <td>717.0</td>\n",
       "      <td>EUR --&gt; EUR</td>\n",
       "      <td>2022-10-01</td>\n",
       "      <td>Personal</td>\n",
       "      <td>UK</td>\n",
       "      <td>2023-10-11</td>\n",
       "    </tr>\n",
       "  </tbody>\n",
       "</table>\n",
       "</div>"
      ],
      "text/plain": [
       "    Transaction_Id  Customer_Id  Amount_GBP Currency_Route Transaction_Date  \\\n",
       "0               73            1       809.0    GBP --> AUD       2022-08-23   \n",
       "2               85            3       460.0    USD --> USD       2022-12-30   \n",
       "5              130           14       547.0    GBP --> EUR       2022-03-08   \n",
       "9               19           22       670.0    USD --> GBP       2022-08-24   \n",
       "11             144           27       823.0    AUD --> USD       2023-02-05   \n",
       "16              12           53       135.0    EUR --> EUR       2023-06-19   \n",
       "17              80           53       538.0    USD --> USD       2022-05-08   \n",
       "23              96           67       853.0    USD --> EUR       2022-02-27   \n",
       "24              30           72       282.0    EUR --> EUR       2022-05-15   \n",
       "27               1           75       985.0    EUR --> GBP       2022-04-06   \n",
       "28              40           77        56.0    GBP --> GBP       2022-03-31   \n",
       "29             138           79       848.0    GBP --> GBP       2022-02-19   \n",
       "32             105           81       908.0    GBP --> AUD       2022-04-19   \n",
       "33             134           81       174.0    GBP --> USD       2022-09-05   \n",
       "34              94           82       154.0    EUR --> EUR       2022-02-05   \n",
       "35              62           85       266.0    USD --> GBP       2022-06-02   \n",
       "39              65           92       436.0    USD --> GBP       2023-07-03   \n",
       "42             108           95       717.0    EUR --> EUR       2022-10-01   \n",
       "\n",
       "   Customer_Type Current_Address_Country Customer_Since_Date  \n",
       "0       Personal                     GBR          2023-02-23  \n",
       "2       Business                     ESP          2023-03-06  \n",
       "5       Personal                      UK          2022-12-14  \n",
       "9       Personal                      UK          2022-12-29  \n",
       "11      Business                     GBR          2023-10-27  \n",
       "16       Unknown                      UK          2023-10-28  \n",
       "17       Unknown                      UK          2023-10-28  \n",
       "23       Unknown                     FRA          2023-11-24  \n",
       "24      Personal                     ESP          2022-11-23  \n",
       "27      Personal                     FRA          2022-10-31  \n",
       "28      Personal                     ITA          2023-05-26  \n",
       "29      Business                     ITA          2022-08-12  \n",
       "32      Business                     FRA          2023-10-06  \n",
       "33      Business                     FRA          2023-10-06  \n",
       "34      Business                      UK          2023-12-05  \n",
       "35      Personal                     ESP          2023-09-18  \n",
       "39      Business                     FRA          2023-11-04  \n",
       "42      Personal                      UK          2023-10-11  "
      ]
     },
     "execution_count": 22,
     "metadata": {},
     "output_type": "execute_result"
    }
   ],
   "source": [
    "# It is now important to highlight cases where \n",
    "# a user’s transaction date was registered before the date they signed up.\n",
    "tr_cus[tr_cus['Customer_Since_Date'] > tr_cus['Transaction_Date']] #[['Transaction_Date', 'Customer_Since_Date']].head()"
   ]
  },
  {
   "cell_type": "code",
   "execution_count": 23,
   "id": "9dfa1af4",
   "metadata": {},
   "outputs": [
    {
     "name": "stdout",
     "output_type": "stream",
     "text": [
      "In the presented data in 18 case user’s transaction date was registered before the date they signed up.\n"
     ]
    }
   ],
   "source": [
    "print('In the presented data in', tr_cus[tr_cus['Customer_Since_Date'] > tr_cus['Transaction_Date']].Transaction_Id.count(), 'case user’s transaction date was registered before the date they signed up.')"
   ]
  },
  {
   "cell_type": "code",
   "execution_count": 24,
   "id": "d197aa56",
   "metadata": {},
   "outputs": [],
   "source": [
    "# Since this was considered a mistake, \n",
    "#these transactions will also be excluded from the analysis.\n",
    "tr_cu = tr_cus[tr_cus['Customer_Since_Date'] <= tr_cus['Transaction_Date']]"
   ]
  },
  {
   "cell_type": "code",
   "execution_count": 25,
   "id": "5527d190",
   "metadata": {},
   "outputs": [
    {
     "data": {
      "text/html": [
       "<div>\n",
       "<style scoped>\n",
       "    .dataframe tbody tr th:only-of-type {\n",
       "        vertical-align: middle;\n",
       "    }\n",
       "\n",
       "    .dataframe tbody tr th {\n",
       "        vertical-align: top;\n",
       "    }\n",
       "\n",
       "    .dataframe thead th {\n",
       "        text-align: right;\n",
       "    }\n",
       "</style>\n",
       "<table border=\"1\" class=\"dataframe\">\n",
       "  <thead>\n",
       "    <tr style=\"text-align: right;\">\n",
       "      <th></th>\n",
       "      <th>Transaction_Id</th>\n",
       "      <th>Customer_Id</th>\n",
       "      <th>Amount_GBP</th>\n",
       "      <th>Currency_Route</th>\n",
       "      <th>Transaction_Date</th>\n",
       "      <th>Customer_Type</th>\n",
       "      <th>Current_Address_Country</th>\n",
       "      <th>Customer_Since_Date</th>\n",
       "    </tr>\n",
       "  </thead>\n",
       "  <tbody>\n",
       "    <tr>\n",
       "      <th>1</th>\n",
       "      <td>7</td>\n",
       "      <td>2</td>\n",
       "      <td>783.0</td>\n",
       "      <td>AUD --&gt; EUR</td>\n",
       "      <td>2023-12-03</td>\n",
       "      <td>Business</td>\n",
       "      <td>ESP</td>\n",
       "      <td>2023-10-18</td>\n",
       "    </tr>\n",
       "    <tr>\n",
       "      <th>3</th>\n",
       "      <td>56</td>\n",
       "      <td>9</td>\n",
       "      <td>573.0</td>\n",
       "      <td>AUD --&gt; EUR</td>\n",
       "      <td>2022-07-22</td>\n",
       "      <td>Personal</td>\n",
       "      <td>DEU</td>\n",
       "      <td>2022-02-12</td>\n",
       "    </tr>\n",
       "    <tr>\n",
       "      <th>4</th>\n",
       "      <td>15</td>\n",
       "      <td>12</td>\n",
       "      <td>450.0</td>\n",
       "      <td>GBP --&gt; EUR</td>\n",
       "      <td>2023-03-10</td>\n",
       "      <td>Business</td>\n",
       "      <td>UK</td>\n",
       "      <td>2022-02-06</td>\n",
       "    </tr>\n",
       "    <tr>\n",
       "      <th>6</th>\n",
       "      <td>66</td>\n",
       "      <td>16</td>\n",
       "      <td>993.0</td>\n",
       "      <td>EUR --&gt; GBP</td>\n",
       "      <td>2023-02-27</td>\n",
       "      <td>Business</td>\n",
       "      <td>AUS</td>\n",
       "      <td>2022-11-08</td>\n",
       "    </tr>\n",
       "    <tr>\n",
       "      <th>7</th>\n",
       "      <td>86</td>\n",
       "      <td>19</td>\n",
       "      <td>71.0</td>\n",
       "      <td>EUR --&gt; AUD</td>\n",
       "      <td>2022-08-30</td>\n",
       "      <td>Unknown</td>\n",
       "      <td>FRA</td>\n",
       "      <td>2022-08-25</td>\n",
       "    </tr>\n",
       "  </tbody>\n",
       "</table>\n",
       "</div>"
      ],
      "text/plain": [
       "   Transaction_Id  Customer_Id  Amount_GBP Currency_Route Transaction_Date  \\\n",
       "1               7            2       783.0    AUD --> EUR       2023-12-03   \n",
       "3              56            9       573.0    AUD --> EUR       2022-07-22   \n",
       "4              15           12       450.0    GBP --> EUR       2023-03-10   \n",
       "6              66           16       993.0    EUR --> GBP       2023-02-27   \n",
       "7              86           19        71.0    EUR --> AUD       2022-08-30   \n",
       "\n",
       "  Customer_Type Current_Address_Country Customer_Since_Date  \n",
       "1      Business                     ESP          2023-10-18  \n",
       "3      Personal                     DEU          2022-02-12  \n",
       "4      Business                      UK          2022-02-06  \n",
       "6      Business                     AUS          2022-11-08  \n",
       "7       Unknown                     FRA          2022-08-25  "
      ]
     },
     "metadata": {},
     "output_type": "display_data"
    },
    {
     "name": "stdout",
     "output_type": "stream",
     "text": [
      "Number of transactions: 27\n"
     ]
    }
   ],
   "source": [
    "display(tr_cu.head())\n",
    "print('Number of transactions:', tr_cu.Transaction_Id.count())"
   ]
  },
  {
   "cell_type": "markdown",
   "id": "d449ef0c",
   "metadata": {},
   "source": [
    "### Conclusion\n",
    "\n",
    "In this section, two DataFrames were imported: customers and transactions. Several issues were identified, including four customers with missing type information, 21 non-unique but non-duplicated Transaction_Id, and two transactions with negative amounts.\n",
    "\n",
    "After that the dataframes were merged using the Customer_Id column. Further analysis revealed that in 18 instances, the recorded transaction date preceded the customer’s joining date.\n",
    "\n",
    "Before proceeding with the data from these records, additional steps are required. It is critical to communicate with the data providers to investigate the root causes of these anomalies and explore potential solutions. Gaining insights from a data steward or the person responsible for this data could clarify these issues and enable the use of the dataset. However, until these anomalies are resolved, it is recommended to exclude the affected data points from further analysis.\n",
    "\n",
    "## R1\n",
    "### Total cross-currency volume in GBP under UK Entity in the given date range.\n",
    "In this part it is needed to present total cross-currency volume in GBP under UK Entity between 01/04/2022 and 01/08/2023. To give answer on this question it will be used dataframe prepared in the previous step. "
   ]
  },
  {
   "cell_type": "code",
   "execution_count": 26,
   "id": "e33a55bd",
   "metadata": {},
   "outputs": [
    {
     "data": {
      "text/plain": [
       "1594.0"
      ]
     },
     "execution_count": 26,
     "metadata": {},
     "output_type": "execute_result"
    }
   ],
   "source": [
    "tr_cu[(tr_cu['Transaction_Date']>= START_DATE)\n",
    "       &(tr_cu['Transaction_Date']<= END_DATE)\n",
    "       &(tr_cu['Current_Address_Country']=='UK')\n",
    "       &(tr_cu['Currency_Route'].str.count('GBP')==1)\n",
    "     ].Amount_GBP.sum()"
   ]
  },
  {
   "cell_type": "markdown",
   "id": "c83572f2",
   "metadata": {},
   "source": [
    "## R2\n",
    "### Total cross-currency volume in GBP under US Entity in the given date range.\n",
    "\n",
    "In this section, it is necessary to present the total cross-currency volume in GBP under the US Entity between 01/04/2022 and 01/08/2023. To answer this question, we will use the DataFrame prepared in the previous step. Additionally, it is important to pay attention to the given definition of the US Entity. It was mentioned that the US Entity should be considered as transactions from customers whose address country at the time of any transaction was the USA or who made the transaction from the US (IP Address or similar). However, the provided dataset lacks additional information about IP Addresses or similar data. This point should be investigated further before submitting the report."
   ]
  },
  {
   "cell_type": "code",
   "execution_count": 27,
   "id": "bdffb3da",
   "metadata": {},
   "outputs": [
    {
     "data": {
      "text/plain": [
       "0.0"
      ]
     },
     "execution_count": 27,
     "metadata": {},
     "output_type": "execute_result"
    }
   ],
   "source": [
    "tr_cu[(tr_cu['Transaction_Date']>= START_DATE)\n",
    "       &(tr_cu['Transaction_Date']<= END_DATE)\n",
    "       &(tr_cu['Current_Address_Country']=='USA')\n",
    "       &(tr_cu['Currency_Route'].str.count('GBP')==1)\n",
    "     ].Amount_GBP.sum()"
   ]
  },
  {
   "cell_type": "markdown",
   "id": "8d30ed8b",
   "metadata": {},
   "source": [
    "As we can see, the amount is 0, as there were no confirmed transactions under the US Entity.\n",
    "\n",
    "### Total same-currency volume in GBP under US Entity in the given date range.\n",
    "\n",
    "According definition of the same-currency transactions in GBP means that the start and end currency is GBP, so in the Currency_Route column GBP should appear twice. "
   ]
  },
  {
   "cell_type": "code",
   "execution_count": 28,
   "id": "946b6525",
   "metadata": {},
   "outputs": [
    {
     "data": {
      "text/plain": [
       "0.0"
      ]
     },
     "execution_count": 28,
     "metadata": {},
     "output_type": "execute_result"
    }
   ],
   "source": [
    "tr_cu[(tr_cu['Transaction_Date']>= START_DATE)\n",
    "       &(tr_cu['Transaction_Date']<= END_DATE)\n",
    "       &(tr_cu['Current_Address_Country']=='USA')\n",
    "       &(tr_cu['Currency_Route'].str.count('GBP')==2)\n",
    "     ].Amount_GBP.sum()"
   ]
  },
  {
   "cell_type": "markdown",
   "id": "91f08f37",
   "metadata": {},
   "source": [
    "## Alternative Numbers.\n",
    "\n",
    "As it was shown previously, most of records were excluded from the consideration bacause of the mentioned issues. To get alternative version of the reporting numbers will be used initial transaction dataset."
   ]
  },
  {
   "cell_type": "code",
   "execution_count": 29,
   "id": "2f5de881",
   "metadata": {},
   "outputs": [],
   "source": [
    "tr_cus_alt = pd.merge(transaction, customer, on='Customer_Id', how='left')"
   ]
  },
  {
   "cell_type": "code",
   "execution_count": 30,
   "id": "811509d1",
   "metadata": {},
   "outputs": [
    {
     "data": {
      "text/plain": [
       "3520.0"
      ]
     },
     "execution_count": 30,
     "metadata": {},
     "output_type": "execute_result"
    }
   ],
   "source": [
    "# Alternative Version of R1 submission\n",
    "tr_cus_alt[(tr_cus_alt['Transaction_Date']>= START_DATE)\n",
    "       &(tr_cus_alt['Transaction_Date']<= END_DATE)\n",
    "       &(tr_cus_alt['Current_Address_Country']=='UK')\n",
    "       &(tr_cus_alt['Currency_Route'].str.count('GBP')==1)\n",
    "     ].Amount_GBP.sum()"
   ]
  },
  {
   "cell_type": "code",
   "execution_count": 31,
   "id": "154c50e3",
   "metadata": {},
   "outputs": [
    {
     "data": {
      "text/plain": [
       "365.0"
      ]
     },
     "execution_count": 31,
     "metadata": {},
     "output_type": "execute_result"
    }
   ],
   "source": [
    "# Alternative Version of R2, part 1 submission\n",
    "tr_cus_alt[(tr_cus_alt['Transaction_Date']>= START_DATE)\n",
    "       &(tr_cus_alt['Transaction_Date']<= END_DATE)\n",
    "       &(tr_cus_alt['Current_Address_Country']=='USA')\n",
    "       &(tr_cus_alt['Currency_Route'].str.count('GBP')==1)\n",
    "     ].Amount_GBP.sum()"
   ]
  },
  {
   "cell_type": "code",
   "execution_count": 32,
   "id": "e8bb0731",
   "metadata": {},
   "outputs": [
    {
     "data": {
      "text/plain": [
       "0.0"
      ]
     },
     "execution_count": 32,
     "metadata": {},
     "output_type": "execute_result"
    }
   ],
   "source": [
    "# Alternative Version of R2, part 2 submission\n",
    "tr_cus_alt[(tr_cus_alt['Transaction_Date']>= START_DATE)\n",
    "       &(tr_cus_alt['Transaction_Date']<= END_DATE)\n",
    "       &(tr_cus_alt['Current_Address_Country']=='USA')\n",
    "       &(tr_cus_alt['Currency_Route'].str.count('GBP')==2)\n",
    "     ].Amount_GBP.sum()"
   ]
  },
  {
   "cell_type": "markdown",
   "id": "913e979b",
   "metadata": {},
   "source": [
    "## Conclusion\n",
    "\n",
    "### Section 1. R1 & R2\n",
    "In this section 5 questions to be answered:\n",
    "1. How would you summarise the results of the data?\n",
    "\n",
    "Based on the provided data and its analysis, it is clear that the quality of the raw data is currently suboptimal. A significant portion of the records in the dataset cannot be validated, which limits their usability for reporting to the regulators. \n",
    "\n",
    "2. How would you summarise main caveats to available data?\n",
    "The analysis of the available data highlights several significant limitations:\n",
    "\n",
    "    a.\tUser Region Changes: The dataset may not account for users changing regions, which could lead to inaccuracies in the report. \n",
    "    \n",
    "\tb.\tLack of Time Zone Detail: The dataset does not provide detailed time zone information, which can significantly impact data accuracy. For instance, a transaction logged at a specific time may correspond to different dates in various regions due to time zone differences. This lack of clarity can lead to misinterpretations in the report and affect reporting accuracy.\n",
    "    \n",
    "    c. Whole Number Rounding: In the current version of the dataset, all amounts are presented as whole numbers. The method of rounding may also affect accuracy. Best practice in such cases would be to use numbers with two decimal places, as this would provide higher precision.\n",
    "    \n",
    "    \n",
    "3. Are there any issues you identified with the data? Why? If so, how do you propose to fix these?\n",
    "Yes, several issues have been identified with the data:\n",
    "\n",
    "\t1. Data Formatting Issues: The current format of the dataset requires adjustments, as it does not start from the first row or column, and the column headers lack consistency.\n",
    "\t•\tProposed Fix: Implement a standardized template for data exports that begins from the first row and column, ensuring all headers follow a uniform naming convention. Additionally, a data validation step should be included to identify any missing values.\n",
    "    \n",
    "\t2. Missing Values in the Customer_Type Column.\n",
    "\t•\tProposed Fix: In this work, missing values were replaced with “Unknown” as this does not affect the final output.\n",
    "    \n",
    "\t3.\tDuplicates in the Transaction_id Column: This is the most significant issue. According to the given definition, Transaction_id must be a unique value, but in the provided dataset, there are many cases where transaction_id is not a unique key for a transaction. As shown, there are not a duplicates of the same transactions but completely different transactions without any patterns. This may indicate significant issues in the data extraction process. Potentially, the entire dataset could represent incorrect figures, leading to incorrect figures in all reported numbers.\n",
    "\t•\tProposed Fix: Reach out to the person responsible for data extraction and clarify the reasons behind the highlighted issue.\n",
    "    \n",
    "\t4.\tTransaction Dates Before User Sign-Up: For some of the presented transactions, the date of the transaction occurs before the user’s sign-up date.\n",
    "\t•\tProposed Fix: This should be considered additional evidence of issues in the data extraction process. The solution lies in communicating with the data extraction responsible person.\n",
    "\n",
    "\n",
    "4. Is there any information you are missing? If so, what is the nature of missing information? What structure would you require this information in? How would you join it to existing data?\n",
    "\n",
    "According to the given definitions, a US Entity should be considered as all customers who made a transaction from the US. In the provided dataset, there is no information about this aspect. This information should be part of the metadata for any transaction (e.g., IP address and similar details).\n",
    "\n",
    "5. What would be your approach given the reports need to be submitted now?\n",
    "\n",
    "The first and most critical step would be to communicate with stakeholders immediately. In situations where it may not be possible to deliver the work to the expected quality due to data issues or time constraints, the key lies in effective and transparent communication.\n",
    "\n",
    "This communication should focus on outlining the specific issues, such as missing or unvalidated data, and how they affect the final output.\n",
    "\n",
    "The goal of this communication is to collaboratively develop an actionable plan. This plan could include:\n",
    "\n",
    "    1. Reviewing Calculated Numbers: Carefully go through the available calculated metrics to determine if they meet the minimum required standards for reporting.\n",
    "\t2. Proposing interim solutions, such as submitting a partial or provisional report based on the best available data.\n",
    "\t3. Acknowledging any temporary gaps in the report while committing to deliver more accurate data once it is available.\n",
    "\n",
    "By setting clear expectations and agreeing on the next steps, we can avoid misunderstandings and manage risks. Effective communication ensures that even if the report is not perfect, we maintain transparency and a clear path for improving future submissions."
   ]
  },
  {
   "cell_type": "code",
   "execution_count": null,
   "id": "39d3db0a",
   "metadata": {},
   "outputs": [],
   "source": []
  }
 ],
 "metadata": {
  "kernelspec": {
   "display_name": "Python 3 (ipykernel)",
   "language": "python",
   "name": "python3"
  },
  "language_info": {
   "codemirror_mode": {
    "name": "ipython",
    "version": 3
   },
   "file_extension": ".py",
   "mimetype": "text/x-python",
   "name": "python",
   "nbconvert_exporter": "python",
   "pygments_lexer": "ipython3",
   "version": "3.9.7"
  },
  "toc": {
   "base_numbering": 1,
   "nav_menu": {},
   "number_sections": true,
   "sideBar": true,
   "skip_h1_title": false,
   "title_cell": "Table of Contents",
   "title_sidebar": "Contents",
   "toc_cell": false,
   "toc_position": {},
   "toc_section_display": true,
   "toc_window_display": false
  }
 },
 "nbformat": 4,
 "nbformat_minor": 5
}
