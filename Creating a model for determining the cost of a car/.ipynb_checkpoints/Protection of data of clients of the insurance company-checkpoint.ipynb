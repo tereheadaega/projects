{
 "cells": [
  {
   "cell_type": "markdown",
   "id": "5bc88879",
   "metadata": {},
   "source": [
    "## Определение стоимости автомобилей"
   ]
  },
  {
   "cell_type": "markdown",
   "id": "4ad3690b",
   "metadata": {},
   "source": [
    "Сервис по продаже автомобилей с пробегом «Не бит, не крашен» разрабатывает приложение для привлечения новых клиентов. В нём можно быстро узнать рыночную стоимость своего автомобиля. \n",
    "\n",
    "В распоряжении исторические данные: технические характеристики, комплектации и цены автомобилей. \n",
    "\n",
    "Нужно построить модель для определения стоимости.\n",
    "\n",
    "При подготовке проекта важно учитывать:\n",
    "- качество предсказания\n",
    "- скорость предсказания\n",
    "- время обучения"
   ]
  },
  {
   "cell_type": "markdown",
   "id": "79c6af77",
   "metadata": {},
   "source": [
    "Признаки: \n",
    "- DateCrawled — дата скачивания анкеты из базы\n",
    "- VehicleType — тип автомобильного кузова\n",
    "- RegistrationYear — год регистрации автомобиля\n",
    "- Gearbox — тип коробки передач\n",
    "- Power — мощность (л. с.)\n",
    "- Model — модель автомобиля\n",
    "- Kilometer — пробег (км)\n",
    "- RegistrationMonth — месяц регистрации автомобиля\n",
    "- FuelType — тип топлива\n",
    "- Brand — марка автомобиля\n",
    "- NotRepaired — была машина в ремонте или нет\n",
    "- DateCreated — дата создания анкеты\n",
    "- NumberOfPictures — количество фотографий автомобиля\n",
    "- PostalCode — почтовый индекс владельца анкеты (пользователя)\n",
    "- LastSeen — дата последней активности пользователя\n",
    "\n",
    "Целевой признак:\n",
    "- Price — цена (евро)"
   ]
  },
  {
   "cell_type": "markdown",
   "id": "ffd94785",
   "metadata": {
    "toc": true
   },
   "source": [
    "<h1>Содержание<span class=\"tocSkip\"></span></h1>\n",
    "<div class=\"toc\"><ul class=\"toc-item\"><li><ul class=\"toc-item\"><li><span><a href=\"#Определение-стоимости-автомобилей\" data-toc-modified-id=\"Определение-стоимости-автомобилей-0.1\"><span class=\"toc-item-num\">0.1&nbsp;&nbsp;</span>Определение стоимости автомобилей</a></span></li></ul></li><li><span><a href=\"#Шаг.-Изучить-и-подготовить-данные\" data-toc-modified-id=\"Шаг.-Изучить-и-подготовить-данные-1\"><span class=\"toc-item-num\">1&nbsp;&nbsp;</span>Шаг. Изучить и подготовить данные</a></span><ul class=\"toc-item\"><li><span><a href=\"#Вывод\" data-toc-modified-id=\"Вывод-1.1\"><span class=\"toc-item-num\">1.1&nbsp;&nbsp;</span>Вывод</a></span></li></ul></li><li><span><a href=\"#Шаг.-Обучить-различные-модели\" data-toc-modified-id=\"Шаг.-Обучить-различные-модели-2\"><span class=\"toc-item-num\">2&nbsp;&nbsp;</span>Шаг. Обучить различные модели</a></span><ul class=\"toc-item\"><li><span><a href=\"#Дерево-решений\" data-toc-modified-id=\"Дерево-решений-2.1\"><span class=\"toc-item-num\">2.1&nbsp;&nbsp;</span>Дерево решений</a></span></li><li><span><a href=\"#Случайный-лес\" data-toc-modified-id=\"Случайный-лес-2.2\"><span class=\"toc-item-num\">2.2&nbsp;&nbsp;</span>Случайный лес</a></span></li><li><span><a href=\"#Линейная-регрессия\" data-toc-modified-id=\"Линейная-регрессия-2.3\"><span class=\"toc-item-num\">2.3&nbsp;&nbsp;</span>Линейная регрессия</a></span></li><li><span><a href=\"#Модели-градиентного-бустинга-с-библиотекой-LightGBM\" data-toc-modified-id=\"Модели-градиентного-бустинга-с-библиотекой-LightGBM-2.4\"><span class=\"toc-item-num\">2.4&nbsp;&nbsp;</span>Модели градиентного бустинга с библиотекой LightGBM</a></span></li><li><span><a href=\"#Модель-градиентного-бустинга-с-библиотекой-CatBoost\" data-toc-modified-id=\"Модель-градиентного-бустинга-с-библиотекой-CatBoost-2.5\"><span class=\"toc-item-num\">2.5&nbsp;&nbsp;</span>Модель градиентного бустинга с библиотекой CatBoost</a></span></li><li><span><a href=\"#Проверка-на-адекватность\" data-toc-modified-id=\"Проверка-на-адекватность-2.6\"><span class=\"toc-item-num\">2.6&nbsp;&nbsp;</span>Проверка на адекватность</a></span></li><li><span><a href=\"#Проверка-лучшей-модели-на-тестовой-выборке\" data-toc-modified-id=\"Проверка-лучшей-модели-на-тестовой-выборке-2.7\"><span class=\"toc-item-num\">2.7&nbsp;&nbsp;</span>Проверка лучшей модели на тестовой выборке</a></span></li></ul></li><li><span><a href=\"#Шаг.-Вывод\" data-toc-modified-id=\"Шаг.-Вывод-3\"><span class=\"toc-item-num\">3&nbsp;&nbsp;</span>Шаг. Вывод</a></span></li></ul></div>"
   ]
  },
  {
   "cell_type": "markdown",
   "id": "bc108547",
   "metadata": {},
   "source": [
    "# Шаг. Изучить и подготовить данные"
   ]
  },
  {
   "cell_type": "code",
   "execution_count": 14,
   "id": "7806078c",
   "metadata": {},
   "outputs": [],
   "source": [
    "import matplotlib.pyplot as plt\n",
    "import numpy as np\n",
    "import os\n",
    "import pandas as pd\n",
    "import seaborn as sb\n",
    "\n",
    "\n",
    "from sklearn.tree import DecisionTreeRegressor\n",
    "from sklearn.ensemble import RandomForestRegressor\n",
    "from sklearn.linear_model import LinearRegression\n",
    "from lightgbm import LGBMRegressor\n",
    "from catboost import CatBoostRegressor\n",
    "from sklearn.dummy import DummyRegressor\n",
    "\n",
    "from sklearn.model_selection import train_test_split\n",
    "\n",
    "from sklearn.metrics import mean_squared_error\n",
    "\n",
    "from sklearn.preprocessing import StandardScaler\n",
    "\n",
    "\n",
    "from sklearn.preprocessing import OrdinalEncoder"
   ]
  },
  {
   "cell_type": "code",
   "execution_count": 15,
   "id": "426b298d",
   "metadata": {},
   "outputs": [],
   "source": [
    "pth1 = 'autos.csv'\n",
    "pth2 = '/datasets/autos.csv'\n",
    "if os.path.exists(pth1):\n",
    "    data = pd.read_csv(pth1)\n",
    "elif os.path.exists(pth2):\n",
    "    data = pd.read_csv(pth2)\n",
    "else:\n",
    "    print(\"Проверьте правильность пути к датасету\")"
   ]
  },
  {
   "cell_type": "code",
   "execution_count": 16,
   "id": "a1f5c9bd",
   "metadata": {},
   "outputs": [],
   "source": [
    "# Приведём названия признаков к змеиному регистру\n",
    "data = data.rename(\n",
    "columns={\n",
    "'DateCrawled': 'Date_Crawled',\n",
    "'VehicleType': 'Vehicle_Type',\n",
    "'RegistrationYear': 'Registration_Year',\n",
    "'RegistrationMonth': 'Registration_Month',\n",
    "'FuelType': 'Fuel_Type',\n",
    "'NotRepaired': 'Not_Repaired',\n",
    "'DateCreated': 'Date_Created',\n",
    "'NumberOfPictures': 'Number_Of_Pictures',\n",
    "'PostalCode': 'Postal_Code',\n",
    "'LastSeen': 'Last_Seen'})\n",
    "\n",
    "data.columns = map(str.lower, data.columns)"
   ]
  },
  {
   "cell_type": "code",
   "execution_count": 17,
   "id": "d39818ce",
   "metadata": {},
   "outputs": [
    {
     "data": {
      "text/html": [
       "<div>\n",
       "<style scoped>\n",
       "    .dataframe tbody tr th:only-of-type {\n",
       "        vertical-align: middle;\n",
       "    }\n",
       "\n",
       "    .dataframe tbody tr th {\n",
       "        vertical-align: top;\n",
       "    }\n",
       "\n",
       "    .dataframe thead th {\n",
       "        text-align: right;\n",
       "    }\n",
       "</style>\n",
       "<table border=\"1\" class=\"dataframe\">\n",
       "  <thead>\n",
       "    <tr style=\"text-align: right;\">\n",
       "      <th></th>\n",
       "      <th>date_crawled</th>\n",
       "      <th>price</th>\n",
       "      <th>vehicle_type</th>\n",
       "      <th>registration_year</th>\n",
       "      <th>gearbox</th>\n",
       "      <th>power</th>\n",
       "      <th>model</th>\n",
       "      <th>kilometer</th>\n",
       "      <th>registration_month</th>\n",
       "      <th>fuel_type</th>\n",
       "      <th>brand</th>\n",
       "      <th>not_repaired</th>\n",
       "      <th>date_created</th>\n",
       "      <th>number_of_pictures</th>\n",
       "      <th>postal_code</th>\n",
       "      <th>last_seen</th>\n",
       "    </tr>\n",
       "  </thead>\n",
       "  <tbody>\n",
       "    <tr>\n",
       "      <th>0</th>\n",
       "      <td>2016-03-24 11:52:17</td>\n",
       "      <td>480</td>\n",
       "      <td>NaN</td>\n",
       "      <td>1993</td>\n",
       "      <td>manual</td>\n",
       "      <td>0</td>\n",
       "      <td>golf</td>\n",
       "      <td>150000</td>\n",
       "      <td>0</td>\n",
       "      <td>petrol</td>\n",
       "      <td>volkswagen</td>\n",
       "      <td>NaN</td>\n",
       "      <td>2016-03-24 00:00:00</td>\n",
       "      <td>0</td>\n",
       "      <td>70435</td>\n",
       "      <td>2016-04-07 03:16:57</td>\n",
       "    </tr>\n",
       "    <tr>\n",
       "      <th>1</th>\n",
       "      <td>2016-03-24 10:58:45</td>\n",
       "      <td>18300</td>\n",
       "      <td>coupe</td>\n",
       "      <td>2011</td>\n",
       "      <td>manual</td>\n",
       "      <td>190</td>\n",
       "      <td>NaN</td>\n",
       "      <td>125000</td>\n",
       "      <td>5</td>\n",
       "      <td>gasoline</td>\n",
       "      <td>audi</td>\n",
       "      <td>yes</td>\n",
       "      <td>2016-03-24 00:00:00</td>\n",
       "      <td>0</td>\n",
       "      <td>66954</td>\n",
       "      <td>2016-04-07 01:46:50</td>\n",
       "    </tr>\n",
       "    <tr>\n",
       "      <th>2</th>\n",
       "      <td>2016-03-14 12:52:21</td>\n",
       "      <td>9800</td>\n",
       "      <td>suv</td>\n",
       "      <td>2004</td>\n",
       "      <td>auto</td>\n",
       "      <td>163</td>\n",
       "      <td>grand</td>\n",
       "      <td>125000</td>\n",
       "      <td>8</td>\n",
       "      <td>gasoline</td>\n",
       "      <td>jeep</td>\n",
       "      <td>NaN</td>\n",
       "      <td>2016-03-14 00:00:00</td>\n",
       "      <td>0</td>\n",
       "      <td>90480</td>\n",
       "      <td>2016-04-05 12:47:46</td>\n",
       "    </tr>\n",
       "    <tr>\n",
       "      <th>3</th>\n",
       "      <td>2016-03-17 16:54:04</td>\n",
       "      <td>1500</td>\n",
       "      <td>small</td>\n",
       "      <td>2001</td>\n",
       "      <td>manual</td>\n",
       "      <td>75</td>\n",
       "      <td>golf</td>\n",
       "      <td>150000</td>\n",
       "      <td>6</td>\n",
       "      <td>petrol</td>\n",
       "      <td>volkswagen</td>\n",
       "      <td>no</td>\n",
       "      <td>2016-03-17 00:00:00</td>\n",
       "      <td>0</td>\n",
       "      <td>91074</td>\n",
       "      <td>2016-03-17 17:40:17</td>\n",
       "    </tr>\n",
       "    <tr>\n",
       "      <th>4</th>\n",
       "      <td>2016-03-31 17:25:20</td>\n",
       "      <td>3600</td>\n",
       "      <td>small</td>\n",
       "      <td>2008</td>\n",
       "      <td>manual</td>\n",
       "      <td>69</td>\n",
       "      <td>fabia</td>\n",
       "      <td>90000</td>\n",
       "      <td>7</td>\n",
       "      <td>gasoline</td>\n",
       "      <td>skoda</td>\n",
       "      <td>no</td>\n",
       "      <td>2016-03-31 00:00:00</td>\n",
       "      <td>0</td>\n",
       "      <td>60437</td>\n",
       "      <td>2016-04-06 10:17:21</td>\n",
       "    </tr>\n",
       "  </tbody>\n",
       "</table>\n",
       "</div>"
      ],
      "text/plain": [
       "          date_crawled  price vehicle_type  registration_year gearbox  power  \\\n",
       "0  2016-03-24 11:52:17    480          NaN               1993  manual      0   \n",
       "1  2016-03-24 10:58:45  18300        coupe               2011  manual    190   \n",
       "2  2016-03-14 12:52:21   9800          suv               2004    auto    163   \n",
       "3  2016-03-17 16:54:04   1500        small               2001  manual     75   \n",
       "4  2016-03-31 17:25:20   3600        small               2008  manual     69   \n",
       "\n",
       "   model  kilometer  registration_month fuel_type       brand not_repaired  \\\n",
       "0   golf     150000                   0    petrol  volkswagen          NaN   \n",
       "1    NaN     125000                   5  gasoline        audi          yes   \n",
       "2  grand     125000                   8  gasoline        jeep          NaN   \n",
       "3   golf     150000                   6    petrol  volkswagen           no   \n",
       "4  fabia      90000                   7  gasoline       skoda           no   \n",
       "\n",
       "          date_created  number_of_pictures  postal_code            last_seen  \n",
       "0  2016-03-24 00:00:00                   0        70435  2016-04-07 03:16:57  \n",
       "1  2016-03-24 00:00:00                   0        66954  2016-04-07 01:46:50  \n",
       "2  2016-03-14 00:00:00                   0        90480  2016-04-05 12:47:46  \n",
       "3  2016-03-17 00:00:00                   0        91074  2016-03-17 17:40:17  \n",
       "4  2016-03-31 00:00:00                   0        60437  2016-04-06 10:17:21  "
      ]
     },
     "metadata": {},
     "output_type": "display_data"
    },
    {
     "name": "stdout",
     "output_type": "stream",
     "text": [
      "<class 'pandas.core.frame.DataFrame'>\n",
      "RangeIndex: 354369 entries, 0 to 354368\n",
      "Data columns (total 16 columns):\n",
      " #   Column              Non-Null Count   Dtype \n",
      "---  ------              --------------   ----- \n",
      " 0   date_crawled        354369 non-null  object\n",
      " 1   price               354369 non-null  int64 \n",
      " 2   vehicle_type        316879 non-null  object\n",
      " 3   registration_year   354369 non-null  int64 \n",
      " 4   gearbox             334536 non-null  object\n",
      " 5   power               354369 non-null  int64 \n",
      " 6   model               334664 non-null  object\n",
      " 7   kilometer           354369 non-null  int64 \n",
      " 8   registration_month  354369 non-null  int64 \n",
      " 9   fuel_type           321474 non-null  object\n",
      " 10  brand               354369 non-null  object\n",
      " 11  not_repaired        283215 non-null  object\n",
      " 12  date_created        354369 non-null  object\n",
      " 13  number_of_pictures  354369 non-null  int64 \n",
      " 14  postal_code         354369 non-null  int64 \n",
      " 15  last_seen           354369 non-null  object\n",
      "dtypes: int64(7), object(9)\n",
      "memory usage: 43.3+ MB\n",
      "None\n",
      "Количество пропусков в столбцах\n"
     ]
    },
    {
     "data": {
      "text/plain": [
       "date_crawled              0\n",
       "price                     0\n",
       "vehicle_type          37490\n",
       "registration_year         0\n",
       "gearbox               19833\n",
       "power                     0\n",
       "model                 19705\n",
       "kilometer                 0\n",
       "registration_month        0\n",
       "fuel_type             32895\n",
       "brand                     0\n",
       "not_repaired          71154\n",
       "date_created              0\n",
       "number_of_pictures        0\n",
       "postal_code               0\n",
       "last_seen                 0\n",
       "dtype: int64"
      ]
     },
     "execution_count": 17,
     "metadata": {},
     "output_type": "execute_result"
    }
   ],
   "source": [
    "display(data.head())\n",
    "print(data.info())\n",
    "print('Количество пропусков в столбцах')\n",
    "data.isna().sum()"
   ]
  },
  {
   "cell_type": "code",
   "execution_count": 18,
   "id": "3cff0a25",
   "metadata": {},
   "outputs": [
    {
     "data": {
      "text/html": [
       "<div>\n",
       "<style scoped>\n",
       "    .dataframe tbody tr th:only-of-type {\n",
       "        vertical-align: middle;\n",
       "    }\n",
       "\n",
       "    .dataframe tbody tr th {\n",
       "        vertical-align: top;\n",
       "    }\n",
       "\n",
       "    .dataframe thead th {\n",
       "        text-align: right;\n",
       "    }\n",
       "</style>\n",
       "<table border=\"1\" class=\"dataframe\">\n",
       "  <thead>\n",
       "    <tr style=\"text-align: right;\">\n",
       "      <th></th>\n",
       "      <th>date_crawled</th>\n",
       "      <th>price</th>\n",
       "      <th>vehicle_type</th>\n",
       "      <th>registration_year</th>\n",
       "      <th>gearbox</th>\n",
       "      <th>power</th>\n",
       "      <th>model</th>\n",
       "      <th>kilometer</th>\n",
       "      <th>registration_month</th>\n",
       "      <th>fuel_type</th>\n",
       "      <th>brand</th>\n",
       "      <th>not_repaired</th>\n",
       "      <th>date_created</th>\n",
       "      <th>number_of_pictures</th>\n",
       "      <th>postal_code</th>\n",
       "      <th>last_seen</th>\n",
       "    </tr>\n",
       "  </thead>\n",
       "  <tbody>\n",
       "    <tr>\n",
       "      <th>211085</th>\n",
       "      <td>2016-03-16 15:38:42</td>\n",
       "      <td>3900</td>\n",
       "      <td>wagon</td>\n",
       "      <td>2000</td>\n",
       "      <td>auto</td>\n",
       "      <td>197</td>\n",
       "      <td>e_klasse</td>\n",
       "      <td>150000</td>\n",
       "      <td>2</td>\n",
       "      <td>gasoline</td>\n",
       "      <td>mercedes_benz</td>\n",
       "      <td>no</td>\n",
       "      <td>2016-03-16 00:00:00</td>\n",
       "      <td>0</td>\n",
       "      <td>49832</td>\n",
       "      <td>2016-04-02 17:17:49</td>\n",
       "    </tr>\n",
       "    <tr>\n",
       "      <th>115256</th>\n",
       "      <td>2016-03-26 14:54:47</td>\n",
       "      <td>11350</td>\n",
       "      <td>wagon</td>\n",
       "      <td>2005</td>\n",
       "      <td>auto</td>\n",
       "      <td>192</td>\n",
       "      <td>5er</td>\n",
       "      <td>125000</td>\n",
       "      <td>2</td>\n",
       "      <td>petrol</td>\n",
       "      <td>bmw</td>\n",
       "      <td>no</td>\n",
       "      <td>2016-03-26 00:00:00</td>\n",
       "      <td>0</td>\n",
       "      <td>85452</td>\n",
       "      <td>2016-04-06 03:17:43</td>\n",
       "    </tr>\n",
       "    <tr>\n",
       "      <th>101822</th>\n",
       "      <td>2016-03-12 23:48:01</td>\n",
       "      <td>3300</td>\n",
       "      <td>sedan</td>\n",
       "      <td>2000</td>\n",
       "      <td>auto</td>\n",
       "      <td>184</td>\n",
       "      <td>5er</td>\n",
       "      <td>150000</td>\n",
       "      <td>6</td>\n",
       "      <td>gasoline</td>\n",
       "      <td>bmw</td>\n",
       "      <td>no</td>\n",
       "      <td>2016-03-12 00:00:00</td>\n",
       "      <td>0</td>\n",
       "      <td>25842</td>\n",
       "      <td>2016-04-05 23:46:21</td>\n",
       "    </tr>\n",
       "  </tbody>\n",
       "</table>\n",
       "</div>"
      ],
      "text/plain": [
       "               date_crawled  price vehicle_type  registration_year gearbox  \\\n",
       "211085  2016-03-16 15:38:42   3900        wagon               2000    auto   \n",
       "115256  2016-03-26 14:54:47  11350        wagon               2005    auto   \n",
       "101822  2016-03-12 23:48:01   3300        sedan               2000    auto   \n",
       "\n",
       "        power     model  kilometer  registration_month fuel_type  \\\n",
       "211085    197  e_klasse     150000                   2  gasoline   \n",
       "115256    192       5er     125000                   2    petrol   \n",
       "101822    184       5er     150000                   6  gasoline   \n",
       "\n",
       "                brand not_repaired         date_created  number_of_pictures  \\\n",
       "211085  mercedes_benz           no  2016-03-16 00:00:00                   0   \n",
       "115256            bmw           no  2016-03-26 00:00:00                   0   \n",
       "101822            bmw           no  2016-03-12 00:00:00                   0   \n",
       "\n",
       "        postal_code            last_seen  \n",
       "211085        49832  2016-04-02 17:17:49  \n",
       "115256        85452  2016-04-06 03:17:43  \n",
       "101822        25842  2016-04-05 23:46:21  "
      ]
     },
     "metadata": {},
     "output_type": "display_data"
    },
    {
     "data": {
      "text/html": [
       "<div>\n",
       "<style scoped>\n",
       "    .dataframe tbody tr th:only-of-type {\n",
       "        vertical-align: middle;\n",
       "    }\n",
       "\n",
       "    .dataframe tbody tr th {\n",
       "        vertical-align: top;\n",
       "    }\n",
       "\n",
       "    .dataframe thead th {\n",
       "        text-align: right;\n",
       "    }\n",
       "</style>\n",
       "<table border=\"1\" class=\"dataframe\">\n",
       "  <thead>\n",
       "    <tr style=\"text-align: right;\">\n",
       "      <th></th>\n",
       "      <th>price</th>\n",
       "      <th>registration_year</th>\n",
       "      <th>power</th>\n",
       "      <th>kilometer</th>\n",
       "      <th>registration_month</th>\n",
       "      <th>number_of_pictures</th>\n",
       "      <th>postal_code</th>\n",
       "    </tr>\n",
       "  </thead>\n",
       "  <tbody>\n",
       "    <tr>\n",
       "      <th>count</th>\n",
       "      <td>354369.000000</td>\n",
       "      <td>354369.000000</td>\n",
       "      <td>354369.000000</td>\n",
       "      <td>354369.000000</td>\n",
       "      <td>354369.000000</td>\n",
       "      <td>354369.0</td>\n",
       "      <td>354369.000000</td>\n",
       "    </tr>\n",
       "    <tr>\n",
       "      <th>mean</th>\n",
       "      <td>4416.656776</td>\n",
       "      <td>2004.234448</td>\n",
       "      <td>110.094337</td>\n",
       "      <td>128211.172535</td>\n",
       "      <td>5.714645</td>\n",
       "      <td>0.0</td>\n",
       "      <td>50508.689087</td>\n",
       "    </tr>\n",
       "    <tr>\n",
       "      <th>std</th>\n",
       "      <td>4514.158514</td>\n",
       "      <td>90.227958</td>\n",
       "      <td>189.850405</td>\n",
       "      <td>37905.341530</td>\n",
       "      <td>3.726421</td>\n",
       "      <td>0.0</td>\n",
       "      <td>25783.096248</td>\n",
       "    </tr>\n",
       "    <tr>\n",
       "      <th>min</th>\n",
       "      <td>0.000000</td>\n",
       "      <td>1000.000000</td>\n",
       "      <td>0.000000</td>\n",
       "      <td>5000.000000</td>\n",
       "      <td>0.000000</td>\n",
       "      <td>0.0</td>\n",
       "      <td>1067.000000</td>\n",
       "    </tr>\n",
       "    <tr>\n",
       "      <th>25%</th>\n",
       "      <td>1050.000000</td>\n",
       "      <td>1999.000000</td>\n",
       "      <td>69.000000</td>\n",
       "      <td>125000.000000</td>\n",
       "      <td>3.000000</td>\n",
       "      <td>0.0</td>\n",
       "      <td>30165.000000</td>\n",
       "    </tr>\n",
       "    <tr>\n",
       "      <th>50%</th>\n",
       "      <td>2700.000000</td>\n",
       "      <td>2003.000000</td>\n",
       "      <td>105.000000</td>\n",
       "      <td>150000.000000</td>\n",
       "      <td>6.000000</td>\n",
       "      <td>0.0</td>\n",
       "      <td>49413.000000</td>\n",
       "    </tr>\n",
       "    <tr>\n",
       "      <th>75%</th>\n",
       "      <td>6400.000000</td>\n",
       "      <td>2008.000000</td>\n",
       "      <td>143.000000</td>\n",
       "      <td>150000.000000</td>\n",
       "      <td>9.000000</td>\n",
       "      <td>0.0</td>\n",
       "      <td>71083.000000</td>\n",
       "    </tr>\n",
       "    <tr>\n",
       "      <th>max</th>\n",
       "      <td>20000.000000</td>\n",
       "      <td>9999.000000</td>\n",
       "      <td>20000.000000</td>\n",
       "      <td>150000.000000</td>\n",
       "      <td>12.000000</td>\n",
       "      <td>0.0</td>\n",
       "      <td>99998.000000</td>\n",
       "    </tr>\n",
       "  </tbody>\n",
       "</table>\n",
       "</div>"
      ],
      "text/plain": [
       "               price  registration_year          power      kilometer  \\\n",
       "count  354369.000000      354369.000000  354369.000000  354369.000000   \n",
       "mean     4416.656776        2004.234448     110.094337  128211.172535   \n",
       "std      4514.158514          90.227958     189.850405   37905.341530   \n",
       "min         0.000000        1000.000000       0.000000    5000.000000   \n",
       "25%      1050.000000        1999.000000      69.000000  125000.000000   \n",
       "50%      2700.000000        2003.000000     105.000000  150000.000000   \n",
       "75%      6400.000000        2008.000000     143.000000  150000.000000   \n",
       "max     20000.000000        9999.000000   20000.000000  150000.000000   \n",
       "\n",
       "       registration_month  number_of_pictures    postal_code  \n",
       "count       354369.000000            354369.0  354369.000000  \n",
       "mean             5.714645                 0.0   50508.689087  \n",
       "std              3.726421                 0.0   25783.096248  \n",
       "min              0.000000                 0.0    1067.000000  \n",
       "25%              3.000000                 0.0   30165.000000  \n",
       "50%              6.000000                 0.0   49413.000000  \n",
       "75%              9.000000                 0.0   71083.000000  \n",
       "max             12.000000                 0.0   99998.000000  "
      ]
     },
     "metadata": {},
     "output_type": "display_data"
    },
    {
     "data": {
      "text/html": [
       "<div>\n",
       "<style scoped>\n",
       "    .dataframe tbody tr th:only-of-type {\n",
       "        vertical-align: middle;\n",
       "    }\n",
       "\n",
       "    .dataframe tbody tr th {\n",
       "        vertical-align: top;\n",
       "    }\n",
       "\n",
       "    .dataframe thead th {\n",
       "        text-align: right;\n",
       "    }\n",
       "</style>\n",
       "<table border=\"1\" class=\"dataframe\">\n",
       "  <thead>\n",
       "    <tr style=\"text-align: right;\">\n",
       "      <th></th>\n",
       "      <th>date_crawled</th>\n",
       "      <th>vehicle_type</th>\n",
       "      <th>gearbox</th>\n",
       "      <th>model</th>\n",
       "      <th>fuel_type</th>\n",
       "      <th>brand</th>\n",
       "      <th>not_repaired</th>\n",
       "      <th>date_created</th>\n",
       "      <th>last_seen</th>\n",
       "    </tr>\n",
       "  </thead>\n",
       "  <tbody>\n",
       "    <tr>\n",
       "      <th>count</th>\n",
       "      <td>354369</td>\n",
       "      <td>316879</td>\n",
       "      <td>334536</td>\n",
       "      <td>334664</td>\n",
       "      <td>321474</td>\n",
       "      <td>354369</td>\n",
       "      <td>283215</td>\n",
       "      <td>354369</td>\n",
       "      <td>354369</td>\n",
       "    </tr>\n",
       "    <tr>\n",
       "      <th>unique</th>\n",
       "      <td>271174</td>\n",
       "      <td>8</td>\n",
       "      <td>2</td>\n",
       "      <td>250</td>\n",
       "      <td>7</td>\n",
       "      <td>40</td>\n",
       "      <td>2</td>\n",
       "      <td>109</td>\n",
       "      <td>179150</td>\n",
       "    </tr>\n",
       "    <tr>\n",
       "      <th>top</th>\n",
       "      <td>2016-03-24 14:49:47</td>\n",
       "      <td>sedan</td>\n",
       "      <td>manual</td>\n",
       "      <td>golf</td>\n",
       "      <td>petrol</td>\n",
       "      <td>volkswagen</td>\n",
       "      <td>no</td>\n",
       "      <td>2016-04-03 00:00:00</td>\n",
       "      <td>2016-04-06 13:45:54</td>\n",
       "    </tr>\n",
       "    <tr>\n",
       "      <th>freq</th>\n",
       "      <td>7</td>\n",
       "      <td>91457</td>\n",
       "      <td>268251</td>\n",
       "      <td>29232</td>\n",
       "      <td>216352</td>\n",
       "      <td>77013</td>\n",
       "      <td>247161</td>\n",
       "      <td>13719</td>\n",
       "      <td>17</td>\n",
       "    </tr>\n",
       "  </tbody>\n",
       "</table>\n",
       "</div>"
      ],
      "text/plain": [
       "               date_crawled vehicle_type gearbox   model fuel_type  \\\n",
       "count                354369       316879  334536  334664    321474   \n",
       "unique               271174            8       2     250         7   \n",
       "top     2016-03-24 14:49:47        sedan  manual    golf    petrol   \n",
       "freq                      7        91457  268251   29232    216352   \n",
       "\n",
       "             brand not_repaired         date_created            last_seen  \n",
       "count       354369       283215               354369               354369  \n",
       "unique          40            2                  109               179150  \n",
       "top     volkswagen           no  2016-04-03 00:00:00  2016-04-06 13:45:54  \n",
       "freq         77013       247161                13719                   17  "
      ]
     },
     "metadata": {},
     "output_type": "display_data"
    }
   ],
   "source": [
    "display(data.sample(3))\n",
    "display(data.describe(include=[np.number]))\n",
    "display(data.describe(exclude=[np.number]))"
   ]
  },
  {
   "cell_type": "markdown",
   "id": "b1573811",
   "metadata": {},
   "source": [
    "Можно отметить, что в имеющемся наборе данных наиболее популярна марка VolksWagen, а модель - Golf.\n",
    "Подавляющее большинтсво автомобилей в выборке имеют механическую коробку передач и ездят на бензине.\n",
    "50% всех цен на автомобили находится в промежутке от 1050 до 6400 евро."
   ]
  },
  {
   "cell_type": "markdown",
   "id": "43dd281a",
   "metadata": {},
   "source": [
    "Отметим, что в данных присутствуют признаки, не имеющие прямого отношения к цене, а именно:\n",
    "- date_crawled\n",
    "- registration_month\n",
    "- date_created\n",
    "- last_seen\n",
    "- number_of_pictures\n",
    "- postal_code\n",
    "- last_seen"
   ]
  },
  {
   "cell_type": "code",
   "execution_count": 19,
   "id": "4fdb1a50",
   "metadata": {},
   "outputs": [],
   "source": [
    "data = data.drop(['date_crawled',\n",
    "                  'registration_month',\n",
    "                  'date_created',\n",
    "                  'last_seen',\n",
    "                  'postal_code',\n",
    "                  'last_seen',\n",
    "                  'number_of_pictures'], axis=1)"
   ]
  },
  {
   "cell_type": "code",
   "execution_count": 20,
   "id": "ed1a5f93",
   "metadata": {},
   "outputs": [
    {
     "name": "stdout",
     "output_type": "stream",
     "text": [
      "Число авто с ценой 0: 10772\n"
     ]
    }
   ],
   "source": [
    "print('Число авто с ценой 0:', data[data['price']==0]['price'].count())"
   ]
  },
  {
   "cell_type": "markdown",
   "id": "9b1c3130",
   "metadata": {},
   "source": [
    "Очевидно, что цена не может быть равна нулю и, следовательно, эти значения нужно удалить для повышения качества моделей.\n",
    "Отметим, что нулевая цена только у 3% всех объявлений."
   ]
  },
  {
   "cell_type": "code",
   "execution_count": 21,
   "id": "79a4445e",
   "metadata": {},
   "outputs": [],
   "source": [
    "data = data[data['price']!=0]"
   ]
  },
  {
   "cell_type": "markdown",
   "id": "919aae79",
   "metadata": {},
   "source": [
    "Отметим, что в столбце \"number_of_pictures\" все значения нули. Этот столбец удалим из исследования."
   ]
  },
  {
   "cell_type": "code",
   "execution_count": 22,
   "id": "5a662db5",
   "metadata": {
    "scrolled": false
   },
   "outputs": [
    {
     "name": "stdout",
     "output_type": "stream",
     "text": [
      "Heatmap корреляций:\n"
     ]
    },
    {
     "data": {
      "image/png": "[encoded data removed]",
      "text/plain": [
       "<Figure size 720x720 with 2 Axes>"
      ]
     },
     "metadata": {
      "needs_background": "light"
     },
     "output_type": "display_data"
    }
   ],
   "source": [
    "print('Heatmap корреляций:')\n",
    "plt.figure(figsize=(10, 10))\n",
    "heatmap = sb.heatmap(data.corr(), vmin=-1, vmax=1, annot=True) \n",
    "#heatmap.set_title('Correlation Heatmap', fontdict={'fontsize':10}, pad=12);\n",
    "plt.show()"
   ]
  },
  {
   "cell_type": "markdown",
   "id": "42620e4e",
   "metadata": {},
   "source": [
    "Отметим, что признаков со степенью корреляции по модулю выше 0.35 нет."
   ]
  },
  {
   "cell_type": "code",
   "execution_count": 23,
   "id": "ba0af949",
   "metadata": {
    "scrolled": true
   },
   "outputs": [
    {
     "name": "stdout",
     "output_type": "stream",
     "text": [
      "Количество дубликатов: 43172\n"
     ]
    }
   ],
   "source": [
    "print('Количество дубликатов:', data.duplicated().sum())"
   ]
  },
  {
   "cell_type": "markdown",
   "id": "8d88eb82",
   "metadata": {},
   "source": [
    "После удаления признаков, не имеющих прямого влияния на цену, было обнаружено 43 тыс. дубликатов, что соответсвует 12,5% от общего размера датасета. Будем считать, что без удаления дубликатов модель будет работать менее эффективно."
   ]
  },
  {
   "cell_type": "code",
   "execution_count": 24,
   "id": "fabde48c",
   "metadata": {},
   "outputs": [],
   "source": [
    "data.drop_duplicates(keep='last', inplace=True)"
   ]
  },
  {
   "cell_type": "markdown",
   "id": "e2a2c3e8",
   "metadata": {},
   "source": [
    "## Вывод\n",
    "\n",
    "Было получено, что:\n",
    "- Значения не имеют значимой степени корреляции между собой. Данный вывод можно сделать после изучения построенного heatmap.\n",
    "- Установлено, что имеются пропуски значений в столбцах ‘VehicleType’ , ‘Gearbox’, ’Model’, ‘FuelType’, ‘NotRepaired’.\n",
    "- Изучение данных позволяет получить, что подавляющее большинство представленных автомобилей в качестве топлива используют бензин, а наиболее распространённая коробка передач - механическая, однако пропущенные значения не были заполнены т.к., это может привести к снижению качества предсказаний будущем.\n",
    "- В то же время, в столбце с ценами было получено, что около 3% значений нулевые. Объекты с нулями в столбце цены были удалены из исследования.\n",
    "- В столбце с количеством фотографий везде нули. Очевидно, что этот признак, как и другие признаки, такие как количество фотографий, дата регистрации объявления и т.д. не содержит информацию, влияющую на цену автомобиля. Поэтому данные признаки могут быть исключёны из исследования."
   ]
  },
  {
   "cell_type": "code",
   "execution_count": 25,
   "id": "ee373dfe",
   "metadata": {
    "scrolled": false
   },
   "outputs": [
    {
     "name": "stderr",
     "output_type": "stream",
     "text": [
      "/Users/maksimkeller/opt/anaconda3/lib/python3.9/site-packages/seaborn/distributions.py:2619: FutureWarning: `distplot` is a deprecated function and will be removed in a future version. Please adapt your code to use either `displot` (a figure-level function with similar flexibility) or `histplot` (an axes-level function for histograms).\n",
      "  warnings.warn(msg, FutureWarning)\n"
     ]
    },
    {
     "data": {
      "text/plain": [
       "<AxesSubplot:xlabel='power', ylabel='Density'>"
      ]
     },
     "execution_count": 25,
     "metadata": {},
     "output_type": "execute_result"
    },
    {
     "data": {
      "image/png": "[encoded data removed]",
      "text/plain": [
       "<Figure size 432x288 with 1 Axes>"
      ]
     },
     "metadata": {
      "needs_background": "light"
     },
     "output_type": "display_data"
    }
   ],
   "source": [
    "#`\n",
    "sb.distplot(data[data['power']<800].power)"
   ]
  },
  {
   "cell_type": "markdown",
   "id": "b8b5f1ed",
   "metadata": {},
   "source": [
    "#`\n",
    "\n",
    "На графике распределения видно, что существует пик в нуле, а после 300 график почти полностью сливается с осью.\n",
    "Проверим, в каком количестве объявлений мощность равна нулю и в каком количестве автомобилей мощность выше $600^*$ л.с.\n",
    "\n",
    "\n",
    "$^*$Из [открытых источников](https://www.drom.ru/catalog/porsche/cayenne/specs/engine_capacity/?ysclid=l3lbrk8s9j) можно узнать, что мощность некоторых моделей porsche может достигать 570 л.с. Очевидно, что мощность автомобиля может быть и выше 600 л.с., однако, третья квантиль заканчивается на 143 л.с., потому, считаю, уместным поставить верхнюю планку в 600 л.с. тем самым мы отсечём 361 объявление. Это около 0.1% от общего числа объявлений."
   ]
  },
  {
   "cell_type": "code",
   "execution_count": 26,
   "id": "8d919223",
   "metadata": {
    "scrolled": true
   },
   "outputs": [
    {
     "name": "stdout",
     "output_type": "stream",
     "text": [
      "Количество автомобилей с мощностью выше 600 л.с. :  355\n"
     ]
    },
    {
     "data": {
      "text/html": [
       "<div>\n",
       "<style scoped>\n",
       "    .dataframe tbody tr th:only-of-type {\n",
       "        vertical-align: middle;\n",
       "    }\n",
       "\n",
       "    .dataframe tbody tr th {\n",
       "        vertical-align: top;\n",
       "    }\n",
       "\n",
       "    .dataframe thead th {\n",
       "        text-align: right;\n",
       "    }\n",
       "</style>\n",
       "<table border=\"1\" class=\"dataframe\">\n",
       "  <thead>\n",
       "    <tr style=\"text-align: right;\">\n",
       "      <th></th>\n",
       "      <th>price</th>\n",
       "      <th>vehicle_type</th>\n",
       "      <th>registration_year</th>\n",
       "      <th>gearbox</th>\n",
       "      <th>power</th>\n",
       "      <th>model</th>\n",
       "      <th>kilometer</th>\n",
       "      <th>fuel_type</th>\n",
       "      <th>brand</th>\n",
       "      <th>not_repaired</th>\n",
       "    </tr>\n",
       "  </thead>\n",
       "  <tbody>\n",
       "    <tr>\n",
       "      <th>1816</th>\n",
       "      <td>3200</td>\n",
       "      <td>small</td>\n",
       "      <td>2004</td>\n",
       "      <td>manual</td>\n",
       "      <td>1398</td>\n",
       "      <td>corolla</td>\n",
       "      <td>5000</td>\n",
       "      <td>petrol</td>\n",
       "      <td>toyota</td>\n",
       "      <td>no</td>\n",
       "    </tr>\n",
       "    <tr>\n",
       "      <th>4060</th>\n",
       "      <td>3100</td>\n",
       "      <td>sedan</td>\n",
       "      <td>2005</td>\n",
       "      <td>manual</td>\n",
       "      <td>953</td>\n",
       "      <td>colt</td>\n",
       "      <td>150000</td>\n",
       "      <td>gasoline</td>\n",
       "      <td>mitsubishi</td>\n",
       "      <td>no</td>\n",
       "    </tr>\n",
       "    <tr>\n",
       "      <th>5328</th>\n",
       "      <td>500</td>\n",
       "      <td>wagon</td>\n",
       "      <td>1999</td>\n",
       "      <td>manual</td>\n",
       "      <td>1001</td>\n",
       "      <td>astra</td>\n",
       "      <td>150000</td>\n",
       "      <td>petrol</td>\n",
       "      <td>opel</td>\n",
       "      <td>NaN</td>\n",
       "    </tr>\n",
       "  </tbody>\n",
       "</table>\n",
       "</div>"
      ],
      "text/plain": [
       "      price vehicle_type  registration_year gearbox  power    model  \\\n",
       "1816   3200        small               2004  manual   1398  corolla   \n",
       "4060   3100        sedan               2005  manual    953     colt   \n",
       "5328    500        wagon               1999  manual   1001    astra   \n",
       "\n",
       "      kilometer fuel_type       brand not_repaired  \n",
       "1816       5000    petrol      toyota           no  \n",
       "4060     150000  gasoline  mitsubishi           no  \n",
       "5328     150000    petrol        opel          NaN  "
      ]
     },
     "metadata": {},
     "output_type": "display_data"
    }
   ],
   "source": [
    "#`\n",
    "print('Количество автомобилей с мощностью выше 600 л.с. : ',data.loc[data['power']>600]['price'].count())\n",
    "display(data.loc[data['power']>600].head(3))"
   ]
  },
  {
   "cell_type": "markdown",
   "id": "4bb900c6",
   "metadata": {},
   "source": [
    "#`\n",
    "\n",
    "На примере этих трёх объявлений можно убедиться, что в данных ошибка т.к. подобные модели не оборудовались двигателями подобной мощности."
   ]
  },
  {
   "cell_type": "code",
   "execution_count": 27,
   "id": "bf08e976",
   "metadata": {},
   "outputs": [
    {
     "name": "stdout",
     "output_type": "stream",
     "text": [
      "Количество автомобилей с нулевой мощностью:  32972\n"
     ]
    },
    {
     "data": {
      "text/html": [
       "<div>\n",
       "<style scoped>\n",
       "    .dataframe tbody tr th:only-of-type {\n",
       "        vertical-align: middle;\n",
       "    }\n",
       "\n",
       "    .dataframe tbody tr th {\n",
       "        vertical-align: top;\n",
       "    }\n",
       "\n",
       "    .dataframe thead th {\n",
       "        text-align: right;\n",
       "    }\n",
       "</style>\n",
       "<table border=\"1\" class=\"dataframe\">\n",
       "  <thead>\n",
       "    <tr style=\"text-align: right;\">\n",
       "      <th></th>\n",
       "      <th>price</th>\n",
       "      <th>vehicle_type</th>\n",
       "      <th>registration_year</th>\n",
       "      <th>gearbox</th>\n",
       "      <th>power</th>\n",
       "      <th>model</th>\n",
       "      <th>kilometer</th>\n",
       "      <th>fuel_type</th>\n",
       "      <th>brand</th>\n",
       "      <th>not_repaired</th>\n",
       "    </tr>\n",
       "  </thead>\n",
       "  <tbody>\n",
       "    <tr>\n",
       "      <th>0</th>\n",
       "      <td>480</td>\n",
       "      <td>NaN</td>\n",
       "      <td>1993</td>\n",
       "      <td>manual</td>\n",
       "      <td>0</td>\n",
       "      <td>golf</td>\n",
       "      <td>150000</td>\n",
       "      <td>petrol</td>\n",
       "      <td>volkswagen</td>\n",
       "      <td>NaN</td>\n",
       "    </tr>\n",
       "    <tr>\n",
       "      <th>15</th>\n",
       "      <td>450</td>\n",
       "      <td>small</td>\n",
       "      <td>1910</td>\n",
       "      <td>NaN</td>\n",
       "      <td>0</td>\n",
       "      <td>ka</td>\n",
       "      <td>5000</td>\n",
       "      <td>petrol</td>\n",
       "      <td>ford</td>\n",
       "      <td>NaN</td>\n",
       "    </tr>\n",
       "    <tr>\n",
       "      <th>32</th>\n",
       "      <td>245</td>\n",
       "      <td>sedan</td>\n",
       "      <td>1994</td>\n",
       "      <td>NaN</td>\n",
       "      <td>0</td>\n",
       "      <td>golf</td>\n",
       "      <td>150000</td>\n",
       "      <td>petrol</td>\n",
       "      <td>volkswagen</td>\n",
       "      <td>no</td>\n",
       "    </tr>\n",
       "  </tbody>\n",
       "</table>\n",
       "</div>"
      ],
      "text/plain": [
       "    price vehicle_type  registration_year gearbox  power model  kilometer  \\\n",
       "0     480          NaN               1993  manual      0  golf     150000   \n",
       "15    450        small               1910     NaN      0    ka       5000   \n",
       "32    245        sedan               1994     NaN      0  golf     150000   \n",
       "\n",
       "   fuel_type       brand not_repaired  \n",
       "0     petrol  volkswagen          NaN  \n",
       "15    petrol        ford          NaN  \n",
       "32    petrol  volkswagen           no  "
      ]
     },
     "metadata": {},
     "output_type": "display_data"
    }
   ],
   "source": [
    "#`\n",
    "print('Количество автомобилей с нулевой мощностью: ',data.loc[data['power']==0]['price'].count())\n",
    "display(data.loc[data['power']==0].head(3))"
   ]
  },
  {
   "cell_type": "markdown",
   "id": "8e0b0095",
   "metadata": {},
   "source": [
    "#`\n",
    "\n",
    "Очевидно, что автомобили не могут иметь нулевую мощность.\n",
    "\n",
    "Данные, рассмотренные выше, будут удалены из исследования."
   ]
  },
  {
   "cell_type": "code",
   "execution_count": 28,
   "id": "9de763a1",
   "metadata": {},
   "outputs": [],
   "source": [
    "#`\n",
    "data2 = data.loc[(data['power']<600) & (data['power']!=0)]"
   ]
  },
  {
   "cell_type": "code",
   "execution_count": 29,
   "id": "3a34d31f",
   "metadata": {
    "scrolled": false
   },
   "outputs": [
    {
     "name": "stderr",
     "output_type": "stream",
     "text": [
      "/Users/maksimkeller/opt/anaconda3/lib/python3.9/site-packages/seaborn/distributions.py:2619: FutureWarning: `distplot` is a deprecated function and will be removed in a future version. Please adapt your code to use either `displot` (a figure-level function with similar flexibility) or `histplot` (an axes-level function for histograms).\n",
      "  warnings.warn(msg, FutureWarning)\n"
     ]
    },
    {
     "data": {
      "text/plain": [
       "<AxesSubplot:xlabel='registration_year', ylabel='Density'>"
      ]
     },
     "execution_count": 29,
     "metadata": {},
     "output_type": "execute_result"
    },
    {
     "data": {
      "image/png": "[encoded data removed]",
      "text/plain": [
       "<Figure size 432x288 with 1 Axes>"
      ]
     },
     "metadata": {
      "needs_background": "light"
     },
     "output_type": "display_data"
    }
   ],
   "source": [
    "# [data2['power']<800]\n",
    "sb.distplot(data2.loc[(data2['registration_year']>1970)& (data2['registration_year']<2022)].registration_year)"
   ]
  },
  {
   "cell_type": "code",
   "execution_count": 30,
   "id": "e5862553",
   "metadata": {
    "scrolled": true
   },
   "outputs": [
    {
     "name": "stdout",
     "output_type": "stream",
     "text": [
      "Количество автомобилей \"будущего\" :  20\n"
     ]
    }
   ],
   "source": [
    "#`\n",
    "print('Количество автомобилей \"будущего\" : ',data2.loc[data2['registration_year']>2022]['price'].count())"
   ]
  },
  {
   "cell_type": "code",
   "execution_count": 31,
   "id": "df967796",
   "metadata": {},
   "outputs": [
    {
     "name": "stdout",
     "output_type": "stream",
     "text": [
      "Количество автомобилей \"ретро\" :  6590\n"
     ]
    },
    {
     "data": {
      "text/html": [
       "<div>\n",
       "<style scoped>\n",
       "    .dataframe tbody tr th:only-of-type {\n",
       "        vertical-align: middle;\n",
       "    }\n",
       "\n",
       "    .dataframe tbody tr th {\n",
       "        vertical-align: top;\n",
       "    }\n",
       "\n",
       "    .dataframe thead th {\n",
       "        text-align: right;\n",
       "    }\n",
       "</style>\n",
       "<table border=\"1\" class=\"dataframe\">\n",
       "  <thead>\n",
       "    <tr style=\"text-align: right;\">\n",
       "      <th></th>\n",
       "      <th>price</th>\n",
       "      <th>vehicle_type</th>\n",
       "      <th>registration_year</th>\n",
       "      <th>gearbox</th>\n",
       "      <th>power</th>\n",
       "      <th>model</th>\n",
       "      <th>kilometer</th>\n",
       "      <th>fuel_type</th>\n",
       "      <th>brand</th>\n",
       "      <th>not_repaired</th>\n",
       "    </tr>\n",
       "  </thead>\n",
       "  <tbody>\n",
       "    <tr>\n",
       "      <th>353910</th>\n",
       "      <td>11500</td>\n",
       "      <td>suv</td>\n",
       "      <td>1976</td>\n",
       "      <td>manual</td>\n",
       "      <td>100</td>\n",
       "      <td>other</td>\n",
       "      <td>150000</td>\n",
       "      <td>petrol</td>\n",
       "      <td>jeep</td>\n",
       "      <td>NaN</td>\n",
       "    </tr>\n",
       "    <tr>\n",
       "      <th>353941</th>\n",
       "      <td>400</td>\n",
       "      <td>sedan</td>\n",
       "      <td>1987</td>\n",
       "      <td>manual</td>\n",
       "      <td>60</td>\n",
       "      <td>kadett</td>\n",
       "      <td>150000</td>\n",
       "      <td>petrol</td>\n",
       "      <td>opel</td>\n",
       "      <td>NaN</td>\n",
       "    </tr>\n",
       "    <tr>\n",
       "      <th>353993</th>\n",
       "      <td>7000</td>\n",
       "      <td>coupe</td>\n",
       "      <td>1980</td>\n",
       "      <td>auto</td>\n",
       "      <td>114</td>\n",
       "      <td>other</td>\n",
       "      <td>80000</td>\n",
       "      <td>petrol</td>\n",
       "      <td>ford</td>\n",
       "      <td>no</td>\n",
       "    </tr>\n",
       "    <tr>\n",
       "      <th>354037</th>\n",
       "      <td>10500</td>\n",
       "      <td>convertible</td>\n",
       "      <td>1968</td>\n",
       "      <td>manual</td>\n",
       "      <td>54</td>\n",
       "      <td>other</td>\n",
       "      <td>20000</td>\n",
       "      <td>NaN</td>\n",
       "      <td>renault</td>\n",
       "      <td>no</td>\n",
       "    </tr>\n",
       "    <tr>\n",
       "      <th>354165</th>\n",
       "      <td>8500</td>\n",
       "      <td>coupe</td>\n",
       "      <td>1981</td>\n",
       "      <td>auto</td>\n",
       "      <td>136</td>\n",
       "      <td>other</td>\n",
       "      <td>150000</td>\n",
       "      <td>petrol</td>\n",
       "      <td>mercedes_benz</td>\n",
       "      <td>no</td>\n",
       "    </tr>\n",
       "    <tr>\n",
       "      <th>354237</th>\n",
       "      <td>2500</td>\n",
       "      <td>sedan</td>\n",
       "      <td>1988</td>\n",
       "      <td>auto</td>\n",
       "      <td>188</td>\n",
       "      <td>7er</td>\n",
       "      <td>150000</td>\n",
       "      <td>petrol</td>\n",
       "      <td>bmw</td>\n",
       "      <td>no</td>\n",
       "    </tr>\n",
       "    <tr>\n",
       "      <th>354286</th>\n",
       "      <td>16500</td>\n",
       "      <td>coupe</td>\n",
       "      <td>1973</td>\n",
       "      <td>manual</td>\n",
       "      <td>200</td>\n",
       "      <td>other</td>\n",
       "      <td>150000</td>\n",
       "      <td>petrol</td>\n",
       "      <td>bmw</td>\n",
       "      <td>yes</td>\n",
       "    </tr>\n",
       "    <tr>\n",
       "      <th>354304</th>\n",
       "      <td>850</td>\n",
       "      <td>sedan</td>\n",
       "      <td>1989</td>\n",
       "      <td>manual</td>\n",
       "      <td>113</td>\n",
       "      <td>80</td>\n",
       "      <td>150000</td>\n",
       "      <td>petrol</td>\n",
       "      <td>audi</td>\n",
       "      <td>yes</td>\n",
       "    </tr>\n",
       "    <tr>\n",
       "      <th>354316</th>\n",
       "      <td>3300</td>\n",
       "      <td>coupe</td>\n",
       "      <td>1957</td>\n",
       "      <td>manual</td>\n",
       "      <td>40</td>\n",
       "      <td>other</td>\n",
       "      <td>100000</td>\n",
       "      <td>petrol</td>\n",
       "      <td>trabant</td>\n",
       "      <td>no</td>\n",
       "    </tr>\n",
       "  </tbody>\n",
       "</table>\n",
       "</div>"
      ],
      "text/plain": [
       "        price vehicle_type  registration_year gearbox  power   model  \\\n",
       "353910  11500          suv               1976  manual    100   other   \n",
       "353941    400        sedan               1987  manual     60  kadett   \n",
       "353993   7000        coupe               1980    auto    114   other   \n",
       "354037  10500  convertible               1968  manual     54   other   \n",
       "354165   8500        coupe               1981    auto    136   other   \n",
       "354237   2500        sedan               1988    auto    188     7er   \n",
       "354286  16500        coupe               1973  manual    200   other   \n",
       "354304    850        sedan               1989  manual    113      80   \n",
       "354316   3300        coupe               1957  manual     40   other   \n",
       "\n",
       "        kilometer fuel_type          brand not_repaired  \n",
       "353910     150000    petrol           jeep          NaN  \n",
       "353941     150000    petrol           opel          NaN  \n",
       "353993      80000    petrol           ford           no  \n",
       "354037      20000       NaN        renault           no  \n",
       "354165     150000    petrol  mercedes_benz           no  \n",
       "354237     150000    petrol            bmw           no  \n",
       "354286     150000    petrol            bmw          yes  \n",
       "354304     150000    petrol           audi          yes  \n",
       "354316     100000    petrol        trabant           no  "
      ]
     },
     "metadata": {},
     "output_type": "display_data"
    }
   ],
   "source": [
    "#`\n",
    "print('Количество автомобилей \"ретро\" : ',data2.loc[data2['registration_year']<1990]['price'].count())\n",
    "display(data2.loc[data2['registration_year']<1990].tail(9))"
   ]
  },
  {
   "cell_type": "markdown",
   "id": "d07ad6be",
   "metadata": {},
   "source": [
    "#`\n",
    "\n",
    "Было получено, что в выборке имеются автомобили с ненаступившим годом регистрации, также имеются автомобили с годом регистрации ранее ХХ века. Очевидно, что эти данные не могут соответствовать действительности.\n",
    "Отдельно отметим, что в наборе присутствивуют ретро-автомобили. Ценообразование таких автомобилей кординально отличается от ценообразования обычных автомобилей, поэтому для дальнейшего исследования будут выбраны автомобили в интервале с 1990 по 2022 год регистрации."
   ]
  },
  {
   "cell_type": "code",
   "execution_count": 32,
   "id": "4b57777d",
   "metadata": {},
   "outputs": [],
   "source": [
    "#`\n",
    "\n",
    "data2 = data2.loc[(data2['registration_year']>1990) & (data2['registration_year']<2022)]"
   ]
  },
  {
   "cell_type": "code",
   "execution_count": 33,
   "id": "d3f278e1",
   "metadata": {},
   "outputs": [
    {
     "data": {
      "text/plain": [
       "(258720, 10)"
      ]
     },
     "execution_count": 33,
     "metadata": {},
     "output_type": "execute_result"
    }
   ],
   "source": [
    "#`\n",
    "data2.shape"
   ]
  },
  {
   "cell_type": "markdown",
   "id": "5cc017d1",
   "metadata": {},
   "source": [
    "#`\n",
    "\n",
    "Разумеется, эти часть из удалённых данных можно восстановить, однако, в датасете по прежнему около 300 тысяч. записей. Этого достаточно для качественного обучения моделей.\n",
    "В то же время, попытки восстановить часть данных могут привести к искажению реальной картины."
   ]
  },
  {
   "cell_type": "markdown",
   "id": "bfcb307d",
   "metadata": {},
   "source": [
    "# Шаг. Обучить различные модели"
   ]
  },
  {
   "cell_type": "markdown",
   "id": "2f153b7b",
   "metadata": {},
   "source": [
    "В данном проекте стоит задача предсказания цены, следовательно задача регрессии.\n",
    "Для построения моделей и последующего контроля качества обученных моделей разделим целевой признак и общие признаки на обучающую и валидационные выборки.\n",
    "\n",
    "Однако, предварительно необходимо провести подготовку данных."
   ]
  },
  {
   "cell_type": "markdown",
   "id": "fd9b2161",
   "metadata": {},
   "source": [
    "Как можно видеть выше, исходные данные содержат не только численные, но и категориальные данные. Для того того, чтобы преобразовать категориальные признаки будет использована техника One-Hot Encoding."
   ]
  },
  {
   "cell_type": "code",
   "execution_count": 34,
   "id": "6fa71ce1",
   "metadata": {},
   "outputs": [],
   "source": [
    "data_ohe = pd.get_dummies(data, drop_first=True)"
   ]
  },
  {
   "cell_type": "code",
   "execution_count": 35,
   "id": "1e89d1da",
   "metadata": {},
   "outputs": [
    {
     "data": {
      "text/html": [
       "<div>\n",
       "<style scoped>\n",
       "    .dataframe tbody tr th:only-of-type {\n",
       "        vertical-align: middle;\n",
       "    }\n",
       "\n",
       "    .dataframe tbody tr th {\n",
       "        vertical-align: top;\n",
       "    }\n",
       "\n",
       "    .dataframe thead th {\n",
       "        text-align: right;\n",
       "    }\n",
       "</style>\n",
       "<table border=\"1\" class=\"dataframe\">\n",
       "  <thead>\n",
       "    <tr style=\"text-align: right;\">\n",
       "      <th></th>\n",
       "      <th>price</th>\n",
       "      <th>registration_year</th>\n",
       "      <th>power</th>\n",
       "      <th>kilometer</th>\n",
       "      <th>vehicle_type_convertible</th>\n",
       "      <th>vehicle_type_coupe</th>\n",
       "      <th>vehicle_type_other</th>\n",
       "      <th>vehicle_type_sedan</th>\n",
       "      <th>vehicle_type_small</th>\n",
       "      <th>vehicle_type_suv</th>\n",
       "      <th>...</th>\n",
       "      <th>brand_skoda</th>\n",
       "      <th>brand_smart</th>\n",
       "      <th>brand_sonstige_autos</th>\n",
       "      <th>brand_subaru</th>\n",
       "      <th>brand_suzuki</th>\n",
       "      <th>brand_toyota</th>\n",
       "      <th>brand_trabant</th>\n",
       "      <th>brand_volkswagen</th>\n",
       "      <th>brand_volvo</th>\n",
       "      <th>not_repaired_yes</th>\n",
       "    </tr>\n",
       "  </thead>\n",
       "  <tbody>\n",
       "    <tr>\n",
       "      <th>297580</th>\n",
       "      <td>7000</td>\n",
       "      <td>2006</td>\n",
       "      <td>136</td>\n",
       "      <td>150000</td>\n",
       "      <td>0</td>\n",
       "      <td>0</td>\n",
       "      <td>0</td>\n",
       "      <td>0</td>\n",
       "      <td>0</td>\n",
       "      <td>0</td>\n",
       "      <td>...</td>\n",
       "      <td>0</td>\n",
       "      <td>0</td>\n",
       "      <td>0</td>\n",
       "      <td>0</td>\n",
       "      <td>0</td>\n",
       "      <td>0</td>\n",
       "      <td>0</td>\n",
       "      <td>0</td>\n",
       "      <td>0</td>\n",
       "      <td>0</td>\n",
       "    </tr>\n",
       "  </tbody>\n",
       "</table>\n",
       "<p>1 rows × 307 columns</p>\n",
       "</div>"
      ],
      "text/plain": [
       "        price  registration_year  power  kilometer  vehicle_type_convertible  \\\n",
       "297580   7000               2006    136     150000                         0   \n",
       "\n",
       "        vehicle_type_coupe  vehicle_type_other  vehicle_type_sedan  \\\n",
       "297580                   0                   0                   0   \n",
       "\n",
       "        vehicle_type_small  vehicle_type_suv  ...  brand_skoda  brand_smart  \\\n",
       "297580                   0                 0  ...            0            0   \n",
       "\n",
       "        brand_sonstige_autos  brand_subaru  brand_suzuki  brand_toyota  \\\n",
       "297580                     0             0             0             0   \n",
       "\n",
       "        brand_trabant  brand_volkswagen  brand_volvo  not_repaired_yes  \n",
       "297580              0                 0            0                 0  \n",
       "\n",
       "[1 rows x 307 columns]"
      ]
     },
     "execution_count": 35,
     "metadata": {},
     "output_type": "execute_result"
    }
   ],
   "source": [
    "data_ohe.sample()"
   ]
  },
  {
   "cell_type": "code",
   "execution_count": 36,
   "id": "44834142",
   "metadata": {},
   "outputs": [],
   "source": [
    "numeric = ['registration_year','power','kilometer']"
   ]
  },
  {
   "cell_type": "code",
   "execution_count": 37,
   "id": "cd24f2f8",
   "metadata": {},
   "outputs": [],
   "source": [
    "target = data_ohe['price']\n",
    "features = data_ohe.drop(['price'], axis=1)"
   ]
  },
  {
   "cell_type": "code",
   "execution_count": 38,
   "id": "9b5712e9",
   "metadata": {},
   "outputs": [],
   "source": [
    "features_train, features_test, target_train, target_test = train_test_split(\n",
    "    features, target, train_size= .60,random_state=12345)\n",
    "features_test, features_valid, target_test, target_valid = train_test_split(\n",
    "    features_test, target_test, train_size= .50,random_state=12345)"
   ]
  },
  {
   "cell_type": "markdown",
   "id": "7380af5a",
   "metadata": {},
   "source": [
    "Удостоверимся, что разбиение выполнено корректно:"
   ]
  },
  {
   "cell_type": "code",
   "execution_count": 39,
   "id": "27c174bc",
   "metadata": {},
   "outputs": [
    {
     "name": "stdout",
     "output_type": "stream",
     "text": [
      "features_train shape (180255, 306)\n",
      "target_train shape (180255,)\n",
      "features_test shape (60085, 306)\n",
      "target_test shape (60085,)\n",
      "features_valid shape (60085, 306)\n",
      "target_valid shape (60085,)\n"
     ]
    }
   ],
   "source": [
    "print('features_train shape',features_train.shape)\n",
    "print('target_train shape',target_train.shape)\n",
    "print('features_test shape', features_test.shape)\n",
    "print('target_test shape', target_test.shape)\n",
    "print('features_valid shape', features_valid.shape)\n",
    "print('target_valid shape', target_valid.shape)"
   ]
  },
  {
   "cell_type": "markdown",
   "id": "3c2366ed",
   "metadata": {},
   "source": [
    "Далее масштабируем все численные признаки."
   ]
  },
  {
   "cell_type": "code",
   "execution_count": 40,
   "id": "f1b63957",
   "metadata": {
    "scrolled": true
   },
   "outputs": [
    {
     "name": "stderr",
     "output_type": "stream",
     "text": [
      "/Users/maksimkeller/opt/anaconda3/lib/python3.9/site-packages/pandas/core/frame.py:3678: SettingWithCopyWarning: \n",
      "A value is trying to be set on a copy of a slice from a DataFrame.\n",
      "Try using .loc[row_indexer,col_indexer] = value instead\n",
      "\n",
      "See the caveats in the documentation: https://pandas.pydata.org/pandas-docs/stable/user_guide/indexing.html#returning-a-view-versus-a-copy\n",
      "  self[col] = igetitem(value, i)\n"
     ]
    }
   ],
   "source": [
    "scaler = StandardScaler()\n",
    "scaler.fit(features_train[numeric])\n",
    "features_train[numeric] = scaler.transform(features_train[numeric])\n",
    "features_valid[numeric] = scaler.transform(features_valid[numeric])\n",
    "features_test[numeric] = scaler.transform(features_test[numeric])"
   ]
  },
  {
   "cell_type": "code",
   "execution_count": 41,
   "id": "660dcf04",
   "metadata": {},
   "outputs": [
    {
     "data": {
      "text/html": [
       "<div>\n",
       "<style scoped>\n",
       "    .dataframe tbody tr th:only-of-type {\n",
       "        vertical-align: middle;\n",
       "    }\n",
       "\n",
       "    .dataframe tbody tr th {\n",
       "        vertical-align: top;\n",
       "    }\n",
       "\n",
       "    .dataframe thead th {\n",
       "        text-align: right;\n",
       "    }\n",
       "</style>\n",
       "<table border=\"1\" class=\"dataframe\">\n",
       "  <thead>\n",
       "    <tr style=\"text-align: right;\">\n",
       "      <th></th>\n",
       "      <th>registration_year</th>\n",
       "      <th>power</th>\n",
       "      <th>kilometer</th>\n",
       "      <th>vehicle_type_convertible</th>\n",
       "      <th>vehicle_type_coupe</th>\n",
       "      <th>vehicle_type_other</th>\n",
       "      <th>vehicle_type_sedan</th>\n",
       "      <th>vehicle_type_small</th>\n",
       "      <th>vehicle_type_suv</th>\n",
       "      <th>vehicle_type_wagon</th>\n",
       "      <th>...</th>\n",
       "      <th>brand_skoda</th>\n",
       "      <th>brand_smart</th>\n",
       "      <th>brand_sonstige_autos</th>\n",
       "      <th>brand_subaru</th>\n",
       "      <th>brand_suzuki</th>\n",
       "      <th>brand_toyota</th>\n",
       "      <th>brand_trabant</th>\n",
       "      <th>brand_volkswagen</th>\n",
       "      <th>brand_volvo</th>\n",
       "      <th>not_repaired_yes</th>\n",
       "    </tr>\n",
       "  </thead>\n",
       "  <tbody>\n",
       "    <tr>\n",
       "      <th>240667</th>\n",
       "      <td>-0.002507</td>\n",
       "      <td>0.575537</td>\n",
       "      <td>-1.241483</td>\n",
       "      <td>0</td>\n",
       "      <td>0</td>\n",
       "      <td>0</td>\n",
       "      <td>0</td>\n",
       "      <td>1</td>\n",
       "      <td>0</td>\n",
       "      <td>0</td>\n",
       "      <td>...</td>\n",
       "      <td>0</td>\n",
       "      <td>0</td>\n",
       "      <td>0</td>\n",
       "      <td>0</td>\n",
       "      <td>0</td>\n",
       "      <td>0</td>\n",
       "      <td>0</td>\n",
       "      <td>0</td>\n",
       "      <td>0</td>\n",
       "      <td>1</td>\n",
       "    </tr>\n",
       "  </tbody>\n",
       "</table>\n",
       "<p>1 rows × 306 columns</p>\n",
       "</div>"
      ],
      "text/plain": [
       "        registration_year     power  kilometer  vehicle_type_convertible  \\\n",
       "240667          -0.002507  0.575537  -1.241483                         0   \n",
       "\n",
       "        vehicle_type_coupe  vehicle_type_other  vehicle_type_sedan  \\\n",
       "240667                   0                   0                   0   \n",
       "\n",
       "        vehicle_type_small  vehicle_type_suv  vehicle_type_wagon  ...  \\\n",
       "240667                   1                 0                   0  ...   \n",
       "\n",
       "        brand_skoda  brand_smart  brand_sonstige_autos  brand_subaru  \\\n",
       "240667            0            0                     0             0   \n",
       "\n",
       "        brand_suzuki  brand_toyota  brand_trabant  brand_volkswagen  \\\n",
       "240667             0             0              0                 0   \n",
       "\n",
       "        brand_volvo  not_repaired_yes  \n",
       "240667            0                 1  \n",
       "\n",
       "[1 rows x 306 columns]"
      ]
     },
     "execution_count": 41,
     "metadata": {},
     "output_type": "execute_result"
    }
   ],
   "source": [
    "features_train.sample()"
   ]
  },
  {
   "cell_type": "markdown",
   "id": "1eef73a6",
   "metadata": {},
   "source": [
    "Данные подготовлены к построению предсказывающих моделей. \n",
    "\n",
    "Следующим этапом исследования станет построение и изучение показателя ключевой метрики RMSE на моделях без использования градиентного бустинга."
   ]
  },
  {
   "cell_type": "code",
   "execution_count": 42,
   "id": "fb30c5ac",
   "metadata": {},
   "outputs": [
    {
     "data": {
      "text/plain": [
       "(192782, 10)"
      ]
     },
     "execution_count": 42,
     "metadata": {},
     "output_type": "execute_result"
    }
   ],
   "source": [
    "#`\n",
    "# Чтобы применить технику ОЕ удалим все строчки, содержащие Nan. \n",
    "# Удостоверимся, что датасет содержит достаточное количество строк\n",
    "data2.dropna(inplace=True)\n",
    "data2.shape"
   ]
  },
  {
   "cell_type": "code",
   "execution_count": 43,
   "id": "713bb1ad",
   "metadata": {},
   "outputs": [
    {
     "data": {
      "text/html": [
       "<div>\n",
       "<style scoped>\n",
       "    .dataframe tbody tr th:only-of-type {\n",
       "        vertical-align: middle;\n",
       "    }\n",
       "\n",
       "    .dataframe tbody tr th {\n",
       "        vertical-align: top;\n",
       "    }\n",
       "\n",
       "    .dataframe thead th {\n",
       "        text-align: right;\n",
       "    }\n",
       "</style>\n",
       "<table border=\"1\" class=\"dataframe\">\n",
       "  <thead>\n",
       "    <tr style=\"text-align: right;\">\n",
       "      <th></th>\n",
       "      <th>price</th>\n",
       "      <th>vehicle_type</th>\n",
       "      <th>registration_year</th>\n",
       "      <th>gearbox</th>\n",
       "      <th>power</th>\n",
       "      <th>model</th>\n",
       "      <th>kilometer</th>\n",
       "      <th>fuel_type</th>\n",
       "      <th>brand</th>\n",
       "      <th>not_repaired</th>\n",
       "    </tr>\n",
       "  </thead>\n",
       "  <tbody>\n",
       "    <tr>\n",
       "      <th>182681</th>\n",
       "      <td>1952.0</td>\n",
       "      <td>6.0</td>\n",
       "      <td>15.0</td>\n",
       "      <td>1.0</td>\n",
       "      <td>184.0</td>\n",
       "      <td>196.0</td>\n",
       "      <td>11.0</td>\n",
       "      <td>6.0</td>\n",
       "      <td>12.0</td>\n",
       "      <td>0.0</td>\n",
       "    </tr>\n",
       "    <tr>\n",
       "      <th>51204</th>\n",
       "      <td>2169.0</td>\n",
       "      <td>7.0</td>\n",
       "      <td>18.0</td>\n",
       "      <td>1.0</td>\n",
       "      <td>138.0</td>\n",
       "      <td>99.0</td>\n",
       "      <td>11.0</td>\n",
       "      <td>2.0</td>\n",
       "      <td>30.0</td>\n",
       "      <td>0.0</td>\n",
       "    </tr>\n",
       "    <tr>\n",
       "      <th>17145</th>\n",
       "      <td>1990.0</td>\n",
       "      <td>4.0</td>\n",
       "      <td>14.0</td>\n",
       "      <td>1.0</td>\n",
       "      <td>253.0</td>\n",
       "      <td>28.0</td>\n",
       "      <td>12.0</td>\n",
       "      <td>6.0</td>\n",
       "      <td>1.0</td>\n",
       "      <td>1.0</td>\n",
       "    </tr>\n",
       "  </tbody>\n",
       "</table>\n",
       "</div>"
      ],
      "text/plain": [
       "         price  vehicle_type  registration_year  gearbox  power  model  \\\n",
       "182681  1952.0           6.0               15.0      1.0  184.0  196.0   \n",
       "51204   2169.0           7.0               18.0      1.0  138.0   99.0   \n",
       "17145   1990.0           4.0               14.0      1.0  253.0   28.0   \n",
       "\n",
       "        kilometer  fuel_type  brand  not_repaired  \n",
       "182681       11.0        6.0   12.0           0.0  \n",
       "51204        11.0        2.0   30.0           0.0  \n",
       "17145        12.0        6.0    1.0           1.0  "
      ]
     },
     "execution_count": 43,
     "metadata": {},
     "output_type": "execute_result"
    }
   ],
   "source": [
    "#`\n",
    "# Для того чтобы не создавать более 300 столбцов, воспользуемся методом ОЕ.\n",
    "encoder = OrdinalEncoder()\n",
    "data_ordinal2 = pd.DataFrame(encoder.fit_transform(data2),columns=data2.columns)\n",
    "data_ordinal2.sample(3)"
   ]
  },
  {
   "cell_type": "code",
   "execution_count": 44,
   "id": "077c8113",
   "metadata": {},
   "outputs": [],
   "source": [
    "#`\n",
    "target2 = data2['price']\n",
    "features2 = data_ordinal2.drop(['price'], axis=1)\n",
    "\n",
    "features_train2, features_test2, target_train2, target_test2 = train_test_split(\n",
    "    features2, target2, train_size= .60,random_state=12345)\n",
    "features_test2, features_valid2, target_test2, target_valid2 = train_test_split(\n",
    "    features_test2, target_test2, train_size= .50,random_state=12345)"
   ]
  },
  {
   "cell_type": "code",
   "execution_count": 45,
   "id": "aa3e56e1",
   "metadata": {},
   "outputs": [
    {
     "name": "stdout",
     "output_type": "stream",
     "text": [
      "features_train shape (115669, 9)\n",
      "target_train shape (115669,)\n",
      "features_test shape (38556, 9)\n",
      "target_test shape (38556,)\n",
      "features_valid shape (38557, 9)\n",
      "target_valid shape (38557,)\n"
     ]
    }
   ],
   "source": [
    "#`\n",
    "print('features_train shape',features_train2.shape)\n",
    "print('target_train shape',target_train2.shape)\n",
    "print('features_test shape', features_test2.shape)\n",
    "print('target_test shape', target_test2.shape)\n",
    "print('features_valid shape', features_valid2.shape)\n",
    "print('target_valid shape', target_valid2.shape)"
   ]
  },
  {
   "cell_type": "markdown",
   "id": "634bb940",
   "metadata": {},
   "source": [
    "Мы получили размеры выборок меньше, однако имеющегося количества данных достаточно чтобы обучить модели."
   ]
  },
  {
   "cell_type": "code",
   "execution_count": 46,
   "id": "ba06f0ae",
   "metadata": {},
   "outputs": [
    {
     "data": {
      "text/plain": [
       "Index(['vehicle_type', 'registration_year', 'gearbox', 'power', 'model',\n",
       "       'kilometer', 'fuel_type', 'brand', 'not_repaired'],\n",
       "      dtype='object')"
      ]
     },
     "execution_count": 46,
     "metadata": {},
     "output_type": "execute_result"
    }
   ],
   "source": [
    "#`\n",
    "numeric2 = features2.columns\n",
    "numeric2"
   ]
  },
  {
   "cell_type": "code",
   "execution_count": 47,
   "id": "e0618e7b",
   "metadata": {},
   "outputs": [
    {
     "name": "stderr",
     "output_type": "stream",
     "text": [
      "/Users/maksimkeller/opt/anaconda3/lib/python3.9/site-packages/pandas/core/frame.py:3678: SettingWithCopyWarning: \n",
      "A value is trying to be set on a copy of a slice from a DataFrame.\n",
      "Try using .loc[row_indexer,col_indexer] = value instead\n",
      "\n",
      "See the caveats in the documentation: https://pandas.pydata.org/pandas-docs/stable/user_guide/indexing.html#returning-a-view-versus-a-copy\n",
      "  self[col] = igetitem(value, i)\n"
     ]
    }
   ],
   "source": [
    "#`\n",
    "\n",
    "\n",
    "scaler = StandardScaler()\n",
    "scaler.fit(features_train2[numeric2])\n",
    "features_train2[numeric2] = scaler.transform(features_train2[numeric2])\n",
    "features_valid2[numeric2] = scaler.transform(features_valid2[numeric2])\n",
    "features_test2[numeric2] = scaler.transform(features_test2[numeric2])\n"
   ]
  },
  {
   "cell_type": "code",
   "execution_count": 48,
   "id": "52cba98d",
   "metadata": {},
   "outputs": [
    {
     "data": {
      "text/html": [
       "<div>\n",
       "<style scoped>\n",
       "    .dataframe tbody tr th:only-of-type {\n",
       "        vertical-align: middle;\n",
       "    }\n",
       "\n",
       "    .dataframe tbody tr th {\n",
       "        vertical-align: top;\n",
       "    }\n",
       "\n",
       "    .dataframe thead th {\n",
       "        text-align: right;\n",
       "    }\n",
       "</style>\n",
       "<table border=\"1\" class=\"dataframe\">\n",
       "  <thead>\n",
       "    <tr style=\"text-align: right;\">\n",
       "      <th></th>\n",
       "      <th>vehicle_type</th>\n",
       "      <th>registration_year</th>\n",
       "      <th>gearbox</th>\n",
       "      <th>power</th>\n",
       "      <th>model</th>\n",
       "      <th>kilometer</th>\n",
       "      <th>fuel_type</th>\n",
       "      <th>brand</th>\n",
       "      <th>not_repaired</th>\n",
       "    </tr>\n",
       "  </thead>\n",
       "  <tbody>\n",
       "    <tr>\n",
       "      <th>171803</th>\n",
       "      <td>0.81511</td>\n",
       "      <td>0.440414</td>\n",
       "      <td>-1.911626</td>\n",
       "      <td>0.490664</td>\n",
       "      <td>1.266183</td>\n",
       "      <td>0.558333</td>\n",
       "      <td>-1.389918</td>\n",
       "      <td>-0.611387</td>\n",
       "      <td>-0.35468</td>\n",
       "    </tr>\n",
       "    <tr>\n",
       "      <th>100690</th>\n",
       "      <td>0.35478</td>\n",
       "      <td>0.053798</td>\n",
       "      <td>0.523115</td>\n",
       "      <td>-0.956557</td>\n",
       "      <td>-0.722700</td>\n",
       "      <td>-0.203088</td>\n",
       "      <td>0.728611</td>\n",
       "      <td>-1.150024</td>\n",
       "      <td>-0.35468</td>\n",
       "    </tr>\n",
       "  </tbody>\n",
       "</table>\n",
       "</div>"
      ],
      "text/plain": [
       "        vehicle_type  registration_year   gearbox     power     model  \\\n",
       "171803       0.81511           0.440414 -1.911626  0.490664  1.266183   \n",
       "100690       0.35478           0.053798  0.523115 -0.956557 -0.722700   \n",
       "\n",
       "        kilometer  fuel_type     brand  not_repaired  \n",
       "171803   0.558333  -1.389918 -0.611387      -0.35468  \n",
       "100690  -0.203088   0.728611 -1.150024      -0.35468  "
      ]
     },
     "execution_count": 48,
     "metadata": {},
     "output_type": "execute_result"
    }
   ],
   "source": [
    "#`\n",
    "features_train2.sample(2)"
   ]
  },
  {
   "cell_type": "markdown",
   "id": "2865f9c9",
   "metadata": {},
   "source": [
    "## Дерево решений"
   ]
  },
  {
   "cell_type": "code",
   "execution_count": 20,
   "id": "8322de45",
   "metadata": {},
   "outputs": [
    {
     "name": "stdout",
     "output_type": "stream",
     "text": [
      "RMSE наилучшей модели на валидационной выборке: 1949 Глубина дерева: 14\n",
      "CPU times: user 40 s, sys: 3.58 s, total: 43.6 s\n",
      "Wall time: 43.6 s\n"
     ]
    }
   ],
   "source": [
    "%%time\n",
    "\n",
    "best_tree_model = None\n",
    "best_tree_result = 10000\n",
    "best_tree_depth = 0\n",
    "for depth in range(1, 15):\n",
    "    model = DecisionTreeRegressor(random_state=12345, max_depth=depth)\n",
    "    model.fit(features_train, target_train)\n",
    "    predictions_valid = model.predict(features_valid)\n",
    "    result = mean_squared_error(target_valid, predictions_valid, squared=False)\n",
    "    if result < best_tree_result:\n",
    "        best_tree_model = model\n",
    "        best_tree_result = result\n",
    "        best_tree_depth = depth\n",
    "\n",
    "print('RMSE наилучшей модели на валидационной выборке:', round(best_tree_result), 'Глубина дерева:', best_tree_depth)\n"
   ]
  },
  {
   "cell_type": "markdown",
   "id": "c0804eff",
   "metadata": {},
   "source": [
    "## Случайный лес"
   ]
  },
  {
   "cell_type": "code",
   "execution_count": 21,
   "id": "503696a1",
   "metadata": {},
   "outputs": [
    {
     "name": "stdout",
     "output_type": "stream",
     "text": [
      "RMSE наилучшей модели на валидационной выборке: 1948.5970040393113 Количество деревьев: 10 Максимальная глубина: 10\n",
      "CPU times: user 35min 33s, sys: 11.9 s, total: 35min 44s\n",
      "Wall time: 35min 57s\n"
     ]
    }
   ],
   "source": [
    "%%time\n",
    "\n",
    "best_forest_model = None\n",
    "best_forest_result = 10000\n",
    "best_forest_est = 0\n",
    "best_forest_depth = 0\n",
    "for est in range(10, 51, 10):\n",
    "    for depth in range (1, 11):\n",
    "        model = RandomForestRegressor(random_state=12345, n_estimators=est, max_depth=depth)\n",
    "        model.fit(features_train, target_train)\n",
    "        result = mean_squared_error(target_valid, predictions_valid, squared=False)\n",
    "        if result < best_forest_result:\n",
    "            best_forest_model = model\n",
    "            best_forest_result = result\n",
    "            best_forest_est = est\n",
    "            best_forest_depth = depth\n",
    "\n",
    "print('RMSE наилучшей модели на валидационной выборке:', best_forest_result, 'Количество деревьев:', best_forest_est, 'Максимальная глубина:', depth)"
   ]
  },
  {
   "cell_type": "markdown",
   "id": "4ec7d220",
   "metadata": {},
   "source": [
    "## Линейная регрессия"
   ]
  },
  {
   "cell_type": "code",
   "execution_count": 22,
   "id": "966b1b9f",
   "metadata": {},
   "outputs": [
    {
     "name": "stdout",
     "output_type": "stream",
     "text": [
      "RMSE модели линейной регрессии на валидационной выборке: 3229\n",
      "CPU times: user 24.6 s, sys: 26.9 s, total: 51.4 s\n",
      "Wall time: 51.7 s\n"
     ]
    }
   ],
   "source": [
    "%%time\n",
    "\n",
    "model_lenear = LinearRegression()\n",
    "model_lenear.fit(features_train, target_train)\n",
    "predictions_lenear_valid = model_lenear.predict(features_valid)\n",
    "\n",
    "result_lenear = mean_squared_error(target_valid, predictions_lenear_valid, squared=False)\n",
    "\n",
    "print('RMSE модели линейной регрессии на валидационной выборке:', round(result_lenear))\n"
   ]
  },
  {
   "cell_type": "markdown",
   "id": "d1c0f034",
   "metadata": {},
   "source": [
    "Далее построим несколько моделей, использующих градиентный бустинг."
   ]
  },
  {
   "cell_type": "markdown",
   "id": "a38d5f36",
   "metadata": {},
   "source": [
    "## Модели градиентного бустинга с библиотекой LightGBM "
   ]
  },
  {
   "cell_type": "markdown",
   "id": "d9bd51af",
   "metadata": {},
   "source": [
    "На начальном этапе запустим модель со значениями гиперпараметров по умолчанию."
   ]
  },
  {
   "cell_type": "code",
   "execution_count": 23,
   "id": "e0384752",
   "metadata": {},
   "outputs": [
    {
     "name": "stdout",
     "output_type": "stream",
     "text": [
      "RMSE градиентного бустинга с параметрами по умолчанию на валидационной выборке: 1778\n",
      "CPU times: user 6min 10s, sys: 4.99 s, total: 6min 15s\n",
      "Wall time: 11min 22s\n"
     ]
    }
   ],
   "source": [
    "%%time\n",
    "\n",
    "model_lgbmr = LGBMRegressor()\n",
    "model_lgbmr.fit(features_train, target_train)\n",
    "\n",
    "predictions_lgbmr = model_lgbmr.predict(features_valid)\n",
    "\n",
    "result_lgbmr = mean_squared_error(target_valid, predictions_lgbmr, squared=False)\n",
    "\n",
    "print('RMSE градиентного бустинга с параметрами по умолчанию на валидационной выборке:', round(result_lgbmr))"
   ]
  },
  {
   "cell_type": "markdown",
   "id": "f04082f7",
   "metadata": {},
   "source": [
    "Изменим алгоритм бустинга на ‘goss‘: одностороннюю выборку на основе градиента."
   ]
  },
  {
   "cell_type": "code",
   "execution_count": 24,
   "id": "a0a57255",
   "metadata": {
    "scrolled": true
   },
   "outputs": [
    {
     "name": "stdout",
     "output_type": "stream",
     "text": [
      "RMSE градиентного бустинга с параметром 'goss' на валидационной выборке: 1783\n",
      "CPU times: user 6min 13s, sys: 5.55 s, total: 6min 18s\n",
      "Wall time: 12min 43s\n"
     ]
    }
   ],
   "source": [
    "%%time\n",
    "\n",
    "model_lgbmr0 = LGBMRegressor(boosting_type='goss')\n",
    "model_lgbmr0.fit(features_train, target_train)\n",
    "\n",
    "predictions_lgbmr0 = model_lgbmr0.predict(features_valid)\n",
    "\n",
    "result_lgbmr0 = mean_squared_error(target_valid, predictions_lgbmr0, squared=False)\n",
    "\n",
    "print('RMSE градиентного бустинга с параметром \\'goss\\' на валидационной выборке:', round(result_lgbmr0))"
   ]
  },
  {
   "cell_type": "code",
   "execution_count": 49,
   "id": "65a11ebf",
   "metadata": {},
   "outputs": [
    {
     "name": "stderr",
     "output_type": "stream",
     "text": [
      "/var/folders/0p/_prrccxj0n139bry1p6r136h0000gn/T/ipykernel_12858/2708650769.py:5: SettingWithCopyWarning: \n",
      "A value is trying to be set on a copy of a slice from a DataFrame.\n",
      "Try using .loc[row_indexer,col_indexer] = value instead\n",
      "\n",
      "See the caveats in the documentation: https://pandas.pydata.org/pandas-docs/stable/user_guide/indexing.html#returning-a-view-versus-a-copy\n",
      "  features_train2[c] = features_train2[c].astype('category')\n"
     ]
    },
    {
     "data": {
      "text/html": [
       "<div>\n",
       "<style scoped>\n",
       "    .dataframe tbody tr th:only-of-type {\n",
       "        vertical-align: middle;\n",
       "    }\n",
       "\n",
       "    .dataframe tbody tr th {\n",
       "        vertical-align: top;\n",
       "    }\n",
       "\n",
       "    .dataframe thead th {\n",
       "        text-align: right;\n",
       "    }\n",
       "</style>\n",
       "<table border=\"1\" class=\"dataframe\">\n",
       "  <thead>\n",
       "    <tr style=\"text-align: right;\">\n",
       "      <th></th>\n",
       "      <th>vehicle_type</th>\n",
       "      <th>registration_year</th>\n",
       "      <th>gearbox</th>\n",
       "      <th>power</th>\n",
       "      <th>model</th>\n",
       "      <th>kilometer</th>\n",
       "      <th>fuel_type</th>\n",
       "      <th>brand</th>\n",
       "      <th>not_repaired</th>\n",
       "    </tr>\n",
       "  </thead>\n",
       "  <tbody>\n",
       "    <tr>\n",
       "      <th>84317</th>\n",
       "      <td>-1.94687</td>\n",
       "      <td>0.633722</td>\n",
       "      <td>0.523115</td>\n",
       "      <td>-0.556667</td>\n",
       "      <td>1.788088</td>\n",
       "      <td>0.558333</td>\n",
       "      <td>-1.389918</td>\n",
       "      <td>0.004198</td>\n",
       "      <td>-0.35468</td>\n",
       "    </tr>\n",
       "    <tr>\n",
       "      <th>2367</th>\n",
       "      <td>-0.10555</td>\n",
       "      <td>0.247106</td>\n",
       "      <td>0.523115</td>\n",
       "      <td>-0.366243</td>\n",
       "      <td>-1.371555</td>\n",
       "      <td>0.558333</td>\n",
       "      <td>0.728611</td>\n",
       "      <td>-0.072750</td>\n",
       "      <td>-0.35468</td>\n",
       "    </tr>\n",
       "    <tr>\n",
       "      <th>163305</th>\n",
       "      <td>-0.10555</td>\n",
       "      <td>-1.299358</td>\n",
       "      <td>-1.911626</td>\n",
       "      <td>0.871512</td>\n",
       "      <td>-1.075339</td>\n",
       "      <td>0.558333</td>\n",
       "      <td>0.728611</td>\n",
       "      <td>-1.457817</td>\n",
       "      <td>-0.35468</td>\n",
       "    </tr>\n",
       "    <tr>\n",
       "      <th>67737</th>\n",
       "      <td>-1.94687</td>\n",
       "      <td>0.053798</td>\n",
       "      <td>0.523115</td>\n",
       "      <td>-0.442413</td>\n",
       "      <td>1.576505</td>\n",
       "      <td>0.558333</td>\n",
       "      <td>-1.389918</td>\n",
       "      <td>1.312317</td>\n",
       "      <td>-0.35468</td>\n",
       "    </tr>\n",
       "    <tr>\n",
       "      <th>37336</th>\n",
       "      <td>-0.10555</td>\n",
       "      <td>-0.139510</td>\n",
       "      <td>0.523115</td>\n",
       "      <td>-0.156777</td>\n",
       "      <td>-1.357450</td>\n",
       "      <td>0.177622</td>\n",
       "      <td>0.728611</td>\n",
       "      <td>-1.380869</td>\n",
       "      <td>-0.35468</td>\n",
       "    </tr>\n",
       "    <tr>\n",
       "      <th>...</th>\n",
       "      <td>...</td>\n",
       "      <td>...</td>\n",
       "      <td>...</td>\n",
       "      <td>...</td>\n",
       "      <td>...</td>\n",
       "      <td>...</td>\n",
       "      <td>...</td>\n",
       "      <td>...</td>\n",
       "      <td>...</td>\n",
       "    </tr>\n",
       "    <tr>\n",
       "      <th>109993</th>\n",
       "      <td>0.35478</td>\n",
       "      <td>-0.526126</td>\n",
       "      <td>0.523115</td>\n",
       "      <td>-1.070812</td>\n",
       "      <td>1.900933</td>\n",
       "      <td>0.177622</td>\n",
       "      <td>0.728611</td>\n",
       "      <td>1.158421</td>\n",
       "      <td>-0.35468</td>\n",
       "    </tr>\n",
       "    <tr>\n",
       "      <th>85412</th>\n",
       "      <td>-0.10555</td>\n",
       "      <td>0.633722</td>\n",
       "      <td>-1.911626</td>\n",
       "      <td>-0.366243</td>\n",
       "      <td>0.123633</td>\n",
       "      <td>-0.203088</td>\n",
       "      <td>-1.389918</td>\n",
       "      <td>1.312317</td>\n",
       "      <td>-0.35468</td>\n",
       "    </tr>\n",
       "    <tr>\n",
       "      <th>133249</th>\n",
       "      <td>1.27544</td>\n",
       "      <td>0.053798</td>\n",
       "      <td>0.523115</td>\n",
       "      <td>0.357367</td>\n",
       "      <td>-0.680383</td>\n",
       "      <td>0.558333</td>\n",
       "      <td>0.728611</td>\n",
       "      <td>0.004198</td>\n",
       "      <td>-0.35468</td>\n",
       "    </tr>\n",
       "    <tr>\n",
       "      <th>130333</th>\n",
       "      <td>0.81511</td>\n",
       "      <td>1.600262</td>\n",
       "      <td>-1.911626</td>\n",
       "      <td>0.738215</td>\n",
       "      <td>-0.948389</td>\n",
       "      <td>-1.345219</td>\n",
       "      <td>-1.389918</td>\n",
       "      <td>0.311991</td>\n",
       "      <td>-0.35468</td>\n",
       "    </tr>\n",
       "    <tr>\n",
       "      <th>77285</th>\n",
       "      <td>0.35478</td>\n",
       "      <td>1.406954</td>\n",
       "      <td>0.523115</td>\n",
       "      <td>-0.937515</td>\n",
       "      <td>-0.341850</td>\n",
       "      <td>0.558333</td>\n",
       "      <td>-1.389918</td>\n",
       "      <td>0.311991</td>\n",
       "      <td>-0.35468</td>\n",
       "    </tr>\n",
       "  </tbody>\n",
       "</table>\n",
       "<p>115669 rows × 9 columns</p>\n",
       "</div>"
      ],
      "text/plain": [
       "       vehicle_type registration_year   gearbox     power     model  \\\n",
       "84317      -1.94687          0.633722  0.523115 -0.556667  1.788088   \n",
       "2367       -0.10555          0.247106  0.523115 -0.366243 -1.371555   \n",
       "163305     -0.10555         -1.299358 -1.911626  0.871512 -1.075339   \n",
       "67737      -1.94687          0.053798  0.523115 -0.442413  1.576505   \n",
       "37336      -0.10555         -0.139510  0.523115 -0.156777 -1.357450   \n",
       "...             ...               ...       ...       ...       ...   \n",
       "109993      0.35478         -0.526126  0.523115 -1.070812  1.900933   \n",
       "85412      -0.10555          0.633722 -1.911626 -0.366243  0.123633   \n",
       "133249      1.27544          0.053798  0.523115  0.357367 -0.680383   \n",
       "130333      0.81511          1.600262 -1.911626  0.738215 -0.948389   \n",
       "77285       0.35478          1.406954  0.523115 -0.937515 -0.341850   \n",
       "\n",
       "        kilometer  fuel_type     brand not_repaired  \n",
       "84317    0.558333  -1.389918  0.004198     -0.35468  \n",
       "2367     0.558333   0.728611 -0.072750     -0.35468  \n",
       "163305   0.558333   0.728611 -1.457817     -0.35468  \n",
       "67737    0.558333  -1.389918  1.312317     -0.35468  \n",
       "37336    0.177622   0.728611 -1.380869     -0.35468  \n",
       "...           ...        ...       ...          ...  \n",
       "109993   0.177622   0.728611  1.158421     -0.35468  \n",
       "85412   -0.203088  -1.389918  1.312317     -0.35468  \n",
       "133249   0.558333   0.728611  0.004198     -0.35468  \n",
       "130333  -1.345219  -1.389918  0.311991     -0.35468  \n",
       "77285    0.558333  -1.389918  0.311991     -0.35468  \n",
       "\n",
       "[115669 rows x 9 columns]"
      ]
     },
     "execution_count": 49,
     "metadata": {},
     "output_type": "execute_result"
    }
   ],
   "source": [
    "#`\n",
    "categorical_feats = ['vehicle_type', 'registration_year', 'gearbox', 'model', 'brand', 'not_repaired']\n",
    "\n",
    "for c in categorical_feats:\n",
    "    features_train2[c] = features_train2[c].astype('category')\n",
    "    features_valid2[c] = features_valid2[c].astype('category')\n",
    "    \n",
    "features_train2"
   ]
  },
  {
   "cell_type": "code",
   "execution_count": 50,
   "id": "ecdca49a",
   "metadata": {},
   "outputs": [
    {
     "name": "stdout",
     "output_type": "stream",
     "text": [
      "RMSE градиентного бустинга с параметром 'goss' на валидационной выборке: 1577\n",
      "CPU times: user 5.67 s, sys: 270 ms, total: 5.94 s\n",
      "Wall time: 803 ms\n"
     ]
    }
   ],
   "source": [
    "%%time\n",
    "#`\n",
    "# Повторим обучение без ОНЕ\n",
    "\n",
    "\n",
    "model_lgbmr02 = LGBMRegressor(boosting_type='goss')\n",
    "model_lgbmr02.fit(features_train2, target_train2)\n",
    "\n",
    "predictions_lgbmr02 = model_lgbmr02.predict(features_valid2)\n",
    "\n",
    "result_lgbmr02 = mean_squared_error(target_valid2, predictions_lgbmr02, squared=False)\n",
    "\n",
    "print('RMSE градиентного бустинга с параметром \\'goss\\' на валидационной выборке:', round(result_lgbmr02))"
   ]
  },
  {
   "cell_type": "code",
   "execution_count": 54,
   "id": "85811a37",
   "metadata": {},
   "outputs": [],
   "source": [
    "cat_list = ['vehicle_type', 'registration_year', 'gearbox', 'model', 'brand', 'not_repaired']"
   ]
  },
  {
   "cell_type": "code",
   "execution_count": 55,
   "id": "d50826cd",
   "metadata": {},
   "outputs": [
    {
     "ename": "TypeError",
     "evalue": "fit() got an unexpected keyword argument 'cat_feature'",
     "output_type": "error",
     "traceback": [
      "\u001b[0;31m---------------------------------------------------------------------------\u001b[0m",
      "\u001b[0;31mTypeError\u001b[0m                                 Traceback (most recent call last)",
      "\u001b[0;32m<timed exec>\u001b[0m in \u001b[0;36m<module>\u001b[0;34m\u001b[0m\n",
      "\u001b[0;31mTypeError\u001b[0m: fit() got an unexpected keyword argument 'cat_feature'"
     ]
    }
   ],
   "source": [
    "%%time\n",
    "#``\n",
    "# Повторим обучение, когда категориальные признаки описываются в fit\n",
    "\n",
    "model_lgbmr02 = LGBMRegressor(boosting_type='goss')\n",
    "model_lgbmr02.fit(features_train2, target_train2, cat_feature= cat_list)\n",
    "\n",
    "predictions_lgbmr02 = model_lgbmr02.predict(features_valid2)\n",
    "\n",
    "result_lgbmr02 = mean_squared_error(target_valid2, predictions_lgbmr02, squared=False)\n",
    "\n",
    "print('RMSE градиентного бустинга с параметром \\'goss\\' на валидационной выборке:', round(result_lgbmr02))"
   ]
  },
  {
   "cell_type": "markdown",
   "id": "b1c6f85e",
   "metadata": {},
   "source": [
    "Далее рассмотрим влияние максимальной глубины и максимального количества листьев на предсказания модели.\n",
    "Заметим, что по умолчанию num_leaves=31, в то время, как max_depth=-1, что означает отсутствие ограничениц.\n",
    "Значение параметра n_estimators по умолчанию равно 100."
   ]
  },
  {
   "cell_type": "code",
   "execution_count": null,
   "id": "0d10c59f",
   "metadata": {},
   "outputs": [],
   "source": [
    "%%time\n",
    "\n",
    "best_lgbmr_model = None\n",
    "best_lgbmr_result = 10000\n",
    "best_lgbmr_est = 0\n",
    "best_lgbmr_learning_rate = 0\n",
    "best_lgbmr_depth = 0\n",
    "best_lgbmr_num_leaves = 0\n",
    "\n",
    "for est in range(310, 530, 50):\n",
    "    for lr in np.arange(.001,.042, .01):\n",
    "        for md in range(3,6):\n",
    "            for nl in range(2,2**md):\n",
    "                model_lgbmr = LGBMRegressor(n_estimators = est, learning_rate = lr,max_depth=md, num_leaves=nl)\n",
    "                model_lgbmr.fit(features_train, target_train)\n",
    "\n",
    "                predictions_lgbmr = model_lgbmr.predict(features_valid)\n",
    "\n",
    "                result_lgbmr = mean_squared_error(target_valid, predictions_lgbmr, squared=False)\n",
    "                if result_lgbmr < best_lgbmr_result:\n",
    "                    best_lgbmr_model = model_lgbmr\n",
    "                    best_lgbmr_result = result_lgbmr\n",
    "                    best_lgbmr_est = est\n",
    "                    best_lgbmr_learning_rate = lr\n",
    "                    best_lgbmr_depth = md\n",
    "                    best_lgbmr_num_leaves = nl\n",
    "                   \n",
    "\n",
    "print('RMSE градиентного бустинга с подобранными параметрами на валидационной выборке:', round(best_lgbmr_result))"
   ]
  },
  {
   "cell_type": "markdown",
   "id": "cfbff0ec",
   "metadata": {},
   "source": [
    "После обучения значения параметров наилучшей модели зафиксированы на следующей отметке:"
   ]
  },
  {
   "cell_type": "code",
   "execution_count": null,
   "id": "4944f73c",
   "metadata": {},
   "outputs": [],
   "source": [
    "print('best_lgbmr_est',est)\n",
    "print('best_lgbmr_learning_rate',lr)\n",
    "print('best_lgbmr_depth',md)\n",
    "print('best_lgbmr_num_leaves',nl)"
   ]
  },
  {
   "cell_type": "markdown",
   "id": "6e023569",
   "metadata": {},
   "source": [
    "## Модель градиентного бустинга с библиотекой CatBoost "
   ]
  },
  {
   "cell_type": "code",
   "execution_count": null,
   "id": "eaa192b1",
   "metadata": {},
   "outputs": [],
   "source": [
    "%%time\n",
    "\n",
    "cat = CatBoostRegressor()\n",
    "cat.fit(features_train, target_train,verbose=False)\n",
    "predictions_cat = cat.predict(features_valid)\n",
    "\n",
    "result_cat = mean_squared_error(target_valid, predictions_cat, squared=False)\n",
    "\n",
    "print('RMSE градиентного бустинга c библиотекой Catbost на валидационной выборке:', round(result_cat))"
   ]
  },
  {
   "cell_type": "markdown",
   "id": "5c88dad2",
   "metadata": {},
   "source": [
    "В завершении данного раздела построим константную модель, дающую предсказание в виде среднего значения выборки и изучим значение метрики RMSE."
   ]
  },
  {
   "cell_type": "markdown",
   "id": "764fbacd",
   "metadata": {},
   "source": [
    "## Проверка на адекватность"
   ]
  },
  {
   "cell_type": "code",
   "execution_count": null,
   "id": "2af69537",
   "metadata": {},
   "outputs": [],
   "source": [
    "%%time\n",
    "\n",
    "dummy_regr = DummyRegressor(strategy=\"mean\")\n",
    "dummy_regr.fit(features_train, target_train)\n",
    "\n",
    "predictions_dummy = dummy_regr.predict(features_valid)\n",
    "\n",
    "result_dummy = mean_squared_error(target_valid, predictions_dummy, squared=False)\n",
    "\n",
    "print('RMSE тестовой модели на валидационной выборке:', round(result_dummy))\n"
   ]
  },
  {
   "cell_type": "markdown",
   "id": "ba1e8a45",
   "metadata": {},
   "source": [
    "Очевидно, что все построенные модели машинного обучения дают предсказания лучше, чем константная модель."
   ]
  },
  {
   "cell_type": "code",
   "execution_count": null,
   "id": "2f89791f",
   "metadata": {},
   "outputs": [],
   "source": [
    "df= {'RMSE':[best_tree_result,best_forest_result,result_lenear,result_lgbmr,\n",
    "            result_lgbmr0,best_lgbmr_result,result_cat,result_dummy],\n",
    "    'time (sec.)':[43,1349,4,1,2,3301,12,2]}\n",
    "\n",
    "conclusion = pd.DataFrame(df,index = ['Дерево решений', 'Случайный лес','Линейная регрессия',\n",
    "                                     'Базовая модель LightGBM','Модель LightGBM с параметром goss',\n",
    "                                     'Модель LightGBM с гиперпараметрами','Базовая модель CatBoost',\n",
    "                                     'Константная модель'])"
   ]
  },
  {
   "cell_type": "markdown",
   "id": "98c2b615",
   "metadata": {},
   "source": [
    "## Проверка лучшей модели на тестовой выборке"
   ]
  },
  {
   "cell_type": "markdown",
   "id": "027b2a2d",
   "metadata": {},
   "source": [
    "По результатам значений выбранной метрики лучшее значение показала модель, построенная средствами библиотеки CatBoost. Проверим качество предсказаний данной модели на тестовой выборке."
   ]
  },
  {
   "cell_type": "code",
   "execution_count": null,
   "id": "2477eb87",
   "metadata": {
    "scrolled": true
   },
   "outputs": [],
   "source": [
    "predictions_test = cat.predict(features_test)\n",
    "\n",
    "\n",
    "result_test = mean_squared_error(target_test, predictions_test, squared=False)\n",
    "\n",
    "print('RMSE градиентного бустинга c библиотекой Catbost на валидационной выборке:', round(result_test))"
   ]
  },
  {
   "cell_type": "markdown",
   "id": "b1a5b8da",
   "metadata": {},
   "source": [
    "При обучении модели на валидационной выборке значение RMSE было равно 1687. Сопоставимые показатели качества данной метрики свидетельствуют об отсутствии переобученности модели и, как следствие, эффективности построенной модели."
   ]
  },
  {
   "cell_type": "markdown",
   "id": "40582fb5",
   "metadata": {},
   "source": [
    "# Шаг. Вывод"
   ]
  },
  {
   "cell_type": "markdown",
   "id": "2c15465b",
   "metadata": {},
   "source": [
    "В данном исследовании были построены и изучены модели машинного обучения, предсказывающие стоимость автомобиля.\n",
    "Метрикой качества является RMSE и скорость работы кода. Были получены следующие значения:"
   ]
  },
  {
   "cell_type": "code",
   "execution_count": null,
   "id": "27b4209b",
   "metadata": {
    "scrolled": true
   },
   "outputs": [],
   "source": [
    "display(conclusion)"
   ]
  },
  {
   "cell_type": "markdown",
   "id": "598c67ae",
   "metadata": {},
   "source": [
    "Из приведённой таблицы видно, что построенные модели показали результат, превосходящий константную модель, однако, для некоторых из них время обучения может занимать до часа. Наилучший результат показала модель, использующая библиотеку CatBoost. Однако, стоит отметить, что и другие модели показывают достаточно схожий результат. Так модель построенная с помощью библиотеки LightGBM способна показать сопоставимо хороший результат как по качеству предсказания, так и по затрачиваемому времени.\n",
    "Для проверки точности работы модели, построенной средствами библиотеки CatBoost, модель была проверена на тестовой выборке. Результирующее RMSE не показало падения качества предсказания, что свидетельствует об отсутствии переобученности и, как следствие, готовности к выполнению поставленных задач."
   ]
  },
  {
   "cell_type": "code",
   "execution_count": null,
   "id": "ebe3138f",
   "metadata": {},
   "outputs": [],
   "source": []
  }
 ],
 "metadata": {
  "ExecuteTimeLog": [
   {
    "duration": 1293,
    "start_time": "2022-05-24T12:39:11.110Z"
   },
   {
    "duration": 2636,
    "start_time": "2022-05-24T12:39:12.405Z"
   },
   {
    "duration": 67,
    "start_time": "2022-05-24T12:39:15.042Z"
   },
   {
    "duration": 268,
    "start_time": "2022-05-24T12:39:15.111Z"
   },
   {
    "duration": 888,
    "start_time": "2022-05-24T12:39:15.381Z"
   },
   {
    "duration": 42,
    "start_time": "2022-05-24T12:39:16.270Z"
   },
   {
    "duration": 9,
    "start_time": "2022-05-24T12:39:16.313Z"
   },
   {
    "duration": 33,
    "start_time": "2022-05-24T12:39:16.324Z"
   },
   {
    "duration": 354,
    "start_time": "2022-05-24T12:39:16.375Z"
   },
   {
    "duration": 175,
    "start_time": "2022-05-24T12:39:16.732Z"
   },
   {
    "duration": 181,
    "start_time": "2022-05-24T12:39:16.909Z"
   },
   {
    "duration": 796,
    "start_time": "2022-05-24T12:39:17.091Z"
   },
   {
    "duration": 109,
    "start_time": "2022-05-24T12:39:17.889Z"
   },
   {
    "duration": 2,
    "start_time": "2022-05-24T12:39:17.999Z"
   },
   {
    "duration": 127,
    "start_time": "2022-05-24T12:39:18.003Z"
   },
   {
    "duration": 444,
    "start_time": "2022-05-24T12:39:18.131Z"
   },
   {
    "duration": 4,
    "start_time": "2022-05-24T12:39:18.577Z"
   },
   {
    "duration": 167,
    "start_time": "2022-05-24T12:39:18.583Z"
   },
   {
    "duration": 26,
    "start_time": "2022-05-24T12:39:18.752Z"
   },
   {
    "duration": 43640,
    "start_time": "2022-05-24T12:39:18.779Z"
   },
   {
    "duration": 2157736,
    "start_time": "2022-05-24T12:40:02.421Z"
   },
   {
    "duration": 51730,
    "start_time": "2022-05-24T13:16:00.159Z"
   },
   {
    "duration": 682293,
    "start_time": "2022-05-24T13:16:51.891Z"
   },
   {
    "duration": 764089,
    "start_time": "2022-05-24T13:28:14.186Z"
   },
   {
    "duration": 64,
    "start_time": "2022-05-27T07:05:30.375Z"
   }
  ],
  "kernelspec": {
   "display_name": "Python 3 (ipykernel)",
   "language": "python",
   "name": "python3"
  },
  "language_info": {
   "codemirror_mode": {
    "name": "ipython",
    "version": 3
   },
   "file_extension": ".py",
   "mimetype": "text/x-python",
   "name": "python",
   "nbconvert_exporter": "python",
   "pygments_lexer": "ipython3",
   "version": "3.9.7"
  },
  "toc": {
   "base_numbering": 1,
   "nav_menu": {},
   "number_sections": true,
   "sideBar": true,
   "skip_h1_title": false,
   "title_cell": "Содержание",
   "title_sidebar": "Содержание",
   "toc_cell": true,
   "toc_position": {
    "height": "calc(100% - 180px)",
    "left": "10px",
    "top": "150px",
    "width": "190.796875px"
   },
   "toc_section_display": true,
   "toc_window_display": true
  }
 },
 "nbformat": 4,
 "nbformat_minor": 5
}
