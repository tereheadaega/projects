{
 "cells": [
  {
   "cell_type": "markdown",
   "metadata": {
    "id": "E0vqbgi9ay0H"
   },
   "source": [
    "# Yandex.Music"
   ]
  },
  {
   "cell_type": "markdown",
   "metadata": {
    "id": "VUC88oWjTJw2"
   },
   "source": [
    "Comparison of Moscow and St. Petersburg is surrounded by myths. For example:\n",
    " * Moscow is a metropolis subject to the rigid rhythm of the working week;\n",
    " * St. Petersburg is a cultural capital, with its own tastes.\n",
    "\n",
    "Using Yandex.Music data, you will compare the behavior of users in the two capitals.\n",
    "\n",
    "**Research Purpose** - three hypotheses will be tested:\n",
    "1. User activity depends on the day of the week. Moreover, in Moscow and St. Petersburg this manifests itself in different ways.\n",
    "2. On Monday morning, certain genres prevail in Moscow, while others prevail in St. Petersburg. Similarly, Friday evenings are dominated by different genres, depending on the city.\n",
    "3. Moscow and St. Petersburg prefer different genres of music. In Moscow, they listen to pop music more often, in St. Petersburg - Russian rap.\n",
    "\n",
    "**Research Progress**\n",
    "\n",
    "You will receive data on user behavior from the `yandex_music_project.csv` file. Nothing is known about the quality of the data. Therefore, before testing hypotheses, a review of the data is required.\n",
    "\n",
    "You will check the data for errors and assess their impact on the study. Then, during the pre-processing phase, you will look for opportunities to correct the most critical data errors.\n",
    " \n",
    "Thus, the study will take place in three stages:\n",
    " 1. Data review.\n",
    " 2. Data preprocessing.\n",
    " 3. Hypothesis testing.\n"
   ]
  },
  {
   "cell_type": "markdown",
   "metadata": {
    "id": "Ml1hmfXC_Zcs"
   },
   "source": [
    "## Data overview"
   ]
  },
  {
   "cell_type": "code",
   "execution_count": 1,
   "metadata": {
    "id": "AXN7PHPN_Zcs"
   },
   "outputs": [],
   "source": [
    "import pandas as pd\n",
    "# pandas library import"
   ]
  },
  {
   "cell_type": "code",
   "execution_count": 2,
   "metadata": {
    "id": "fFVu7vqh_Zct"
   },
   "outputs": [],
   "source": [
    "df = pd.read_csv('yandex_music_project.csv')"
   ]
  },
  {
   "cell_type": "code",
   "execution_count": 3,
   "metadata": {
    "id": "oWTVX3gW_Zct"
   },
   "outputs": [
    {
     "data": {
      "text/html": [
       "<div>\n",
       "<style scoped>\n",
       "    .dataframe tbody tr th:only-of-type {\n",
       "        vertical-align: middle;\n",
       "    }\n",
       "\n",
       "    .dataframe tbody tr th {\n",
       "        vertical-align: top;\n",
       "    }\n",
       "\n",
       "    .dataframe thead th {\n",
       "        text-align: right;\n",
       "    }\n",
       "</style>\n",
       "<table border=\"1\" class=\"dataframe\">\n",
       "  <thead>\n",
       "    <tr style=\"text-align: right;\">\n",
       "      <th></th>\n",
       "      <th>userID</th>\n",
       "      <th>Track</th>\n",
       "      <th>artist</th>\n",
       "      <th>genre</th>\n",
       "      <th>City</th>\n",
       "      <th>time</th>\n",
       "      <th>Day</th>\n",
       "    </tr>\n",
       "  </thead>\n",
       "  <tbody>\n",
       "    <tr>\n",
       "      <th>0</th>\n",
       "      <td>FFB692EC</td>\n",
       "      <td>Kamigata To Boots</td>\n",
       "      <td>The Mass Missile</td>\n",
       "      <td>rock</td>\n",
       "      <td>Saint-Petersburg</td>\n",
       "      <td>20:28:33</td>\n",
       "      <td>Wednesday</td>\n",
       "    </tr>\n",
       "    <tr>\n",
       "      <th>1</th>\n",
       "      <td>55204538</td>\n",
       "      <td>Delayed Because of Accident</td>\n",
       "      <td>Andreas Rönnberg</td>\n",
       "      <td>rock</td>\n",
       "      <td>Moscow</td>\n",
       "      <td>14:07:09</td>\n",
       "      <td>Friday</td>\n",
       "    </tr>\n",
       "    <tr>\n",
       "      <th>2</th>\n",
       "      <td>20EC38</td>\n",
       "      <td>Funiculì funiculà</td>\n",
       "      <td>Mario Lanza</td>\n",
       "      <td>pop</td>\n",
       "      <td>Saint-Petersburg</td>\n",
       "      <td>20:58:07</td>\n",
       "      <td>Wednesday</td>\n",
       "    </tr>\n",
       "    <tr>\n",
       "      <th>3</th>\n",
       "      <td>A3DD03C9</td>\n",
       "      <td>Dragons in the Sunset</td>\n",
       "      <td>Fire + Ice</td>\n",
       "      <td>folk</td>\n",
       "      <td>Saint-Petersburg</td>\n",
       "      <td>08:37:09</td>\n",
       "      <td>Monday</td>\n",
       "    </tr>\n",
       "    <tr>\n",
       "      <th>4</th>\n",
       "      <td>E2DC1FAE</td>\n",
       "      <td>Soul People</td>\n",
       "      <td>Space Echo</td>\n",
       "      <td>dance</td>\n",
       "      <td>Moscow</td>\n",
       "      <td>08:34:34</td>\n",
       "      <td>Monday</td>\n",
       "    </tr>\n",
       "    <tr>\n",
       "      <th>5</th>\n",
       "      <td>842029A1</td>\n",
       "      <td>Преданная</td>\n",
       "      <td>IMPERVTOR</td>\n",
       "      <td>rusrap</td>\n",
       "      <td>Saint-Petersburg</td>\n",
       "      <td>13:09:41</td>\n",
       "      <td>Friday</td>\n",
       "    </tr>\n",
       "    <tr>\n",
       "      <th>6</th>\n",
       "      <td>4CB90AA5</td>\n",
       "      <td>True</td>\n",
       "      <td>Roman Messer</td>\n",
       "      <td>dance</td>\n",
       "      <td>Moscow</td>\n",
       "      <td>13:00:07</td>\n",
       "      <td>Wednesday</td>\n",
       "    </tr>\n",
       "    <tr>\n",
       "      <th>7</th>\n",
       "      <td>F03E1C1F</td>\n",
       "      <td>Feeling This Way</td>\n",
       "      <td>Polina Griffith</td>\n",
       "      <td>dance</td>\n",
       "      <td>Moscow</td>\n",
       "      <td>20:47:49</td>\n",
       "      <td>Wednesday</td>\n",
       "    </tr>\n",
       "    <tr>\n",
       "      <th>8</th>\n",
       "      <td>8FA1D3BE</td>\n",
       "      <td>И вновь продолжается бой</td>\n",
       "      <td>NaN</td>\n",
       "      <td>ruspop</td>\n",
       "      <td>Moscow</td>\n",
       "      <td>09:17:40</td>\n",
       "      <td>Friday</td>\n",
       "    </tr>\n",
       "    <tr>\n",
       "      <th>9</th>\n",
       "      <td>E772D5C0</td>\n",
       "      <td>Pessimist</td>\n",
       "      <td>NaN</td>\n",
       "      <td>dance</td>\n",
       "      <td>Saint-Petersburg</td>\n",
       "      <td>21:20:49</td>\n",
       "      <td>Wednesday</td>\n",
       "    </tr>\n",
       "  </tbody>\n",
       "</table>\n",
       "</div>"
      ],
      "text/plain": [
       "     userID                        Track            artist   genre  \\\n",
       "0  FFB692EC            Kamigata To Boots  The Mass Missile    rock   \n",
       "1  55204538  Delayed Because of Accident  Andreas Rönnberg    rock   \n",
       "2    20EC38            Funiculì funiculà       Mario Lanza     pop   \n",
       "3  A3DD03C9        Dragons in the Sunset        Fire + Ice    folk   \n",
       "4  E2DC1FAE                  Soul People        Space Echo   dance   \n",
       "5  842029A1                    Преданная         IMPERVTOR  rusrap   \n",
       "6  4CB90AA5                         True      Roman Messer   dance   \n",
       "7  F03E1C1F             Feeling This Way   Polina Griffith   dance   \n",
       "8  8FA1D3BE     И вновь продолжается бой               NaN  ruspop   \n",
       "9  E772D5C0                    Pessimist               NaN   dance   \n",
       "\n",
       "             City        time        Day  \n",
       "0  Saint-Petersburg  20:28:33  Wednesday  \n",
       "1            Moscow  14:07:09     Friday  \n",
       "2  Saint-Petersburg  20:58:07  Wednesday  \n",
       "3  Saint-Petersburg  08:37:09     Monday  \n",
       "4            Moscow  08:34:34     Monday  \n",
       "5  Saint-Petersburg  13:09:41     Friday  \n",
       "6            Moscow  13:00:07  Wednesday  \n",
       "7            Moscow  20:47:49  Wednesday  \n",
       "8            Moscow  09:17:40     Friday  \n",
       "9  Saint-Petersburg  21:20:49  Wednesday  "
      ]
     },
     "metadata": {},
     "output_type": "display_data"
    }
   ],
   "source": [
    "# getting the first 10 rows of the table\n",
    "display(df.head(10))"
   ]
  },
  {
   "cell_type": "code",
   "execution_count": 4,
   "metadata": {
    "id": "DSf2kIb-_Zct",
    "scrolled": false
   },
   "outputs": [
    {
     "name": "stdout",
     "output_type": "stream",
     "text": [
      "<class 'pandas.core.frame.DataFrame'>\n",
      "RangeIndex: 65079 entries, 0 to 65078\n",
      "Data columns (total 7 columns):\n",
      " #   Column    Non-Null Count  Dtype \n",
      "---  ------    --------------  ----- \n",
      " 0     userID  65079 non-null  object\n",
      " 1   Track     63848 non-null  object\n",
      " 2   artist    57876 non-null  object\n",
      " 3   genre     63881 non-null  object\n",
      " 4     City    65079 non-null  object\n",
      " 5   time      65079 non-null  object\n",
      " 6   Day       65079 non-null  object\n",
      "dtypes: object(7)\n",
      "memory usage: 3.5+ MB\n"
     ]
    }
   ],
   "source": [
    "# getting general information about data in df table\n",
    "df.info()"
   ]
  },
  {
   "cell_type": "markdown",
   "metadata": {
    "id": "TaQ2Iwbr_Zct"
   },
   "source": [
    "The table has seven columns. The data type in all columns is `object`.\n",
    "\n",
    "According to the data documentation:\n",
    "* `userID` - user ID;\n",
    "* `Track` — track name;\n",
    "* `artist` — artist name;\n",
    "* `genre` — genre name;\n",
    "* `City` - user's city;\n",
    "* `time` - start time of listening;\n",
    "* `Day` is the day of the week.\n",
    "\n",
    "There are three style violations in the column headings:\n",
    "1. Lowercase letters are combined with uppercase.\n",
    "2. There are gaps.\n",
    "3. Mixed Latin and Cyrillic.\n",
    "\n",
    "\n",
    "The number of values in the columns varies. This means there are missing values in the data."
   ]
  },
  {
   "cell_type": "markdown",
   "metadata": {
    "id": "MCB6-dXG_Zct"
   },
   "source": [
    "**Conclusions**\n",
    "\n",
    "Each line of the table contains data about the track you have listened to. Some of the columns describe the composition itself: title, artist and genre. The rest of the data tells about the user: what city he is from, when he listened to music.\n",
    "\n",
    "Preliminarily, it can be argued that there is enough data to test hypotheses. But there are gaps in the data, and discrepancies in the names of the columns with good style.\n",
    "\n",
    "To move forward, you need to fix problems in the data."
   ]
  },
  {
   "cell_type": "markdown",
   "metadata": {
    "id": "SjYF6Ub9_Zct"
   },
   "source": [
    "## Data preprocessing\n",
    "Correct the style in the column headings, eliminate gaps. Then check the data for duplicates."
   ]
  },
  {
   "cell_type": "markdown",
   "metadata": {
    "id": "dIaKXr29_Zct"
   },
   "source": [
    "### Heading style\n",
    "Display the column names:"
   ]
  },
  {
   "cell_type": "code",
   "execution_count": 5,
   "metadata": {
    "id": "oKOTdF_Q_Zct"
   },
   "outputs": [
    {
     "data": {
      "text/plain": [
       "Index(['  userID', 'Track', 'artist', 'genre', '  City  ', 'time', 'Day'], dtype='object')"
      ]
     },
     "execution_count": 5,
     "metadata": {},
     "output_type": "execute_result"
    }
   ],
   "source": [
    "# list of column names of table df\n",
    "df.columns"
   ]
  },
  {
   "cell_type": "markdown",
   "metadata": {
    "id": "zj5534cv_Zct"
   },
   "source": [
    "Bring titles in line with good style:\n",
    "* write a few words in the title in \"snake_register\",\n",
    "* make all characters lowercase,\n",
    "* eliminate spaces.\n",
    "\n",
    "To do this, rename the columns like this:\n",
    "* `'  userID'` → `'user_id'`;\n",
    "* `'Track'` → `'track'`;\n",
    "* `'  City  '` → `'city'`;\n",
    "* `'Day'` → `'day'`."
   ]
  },
  {
   "cell_type": "code",
   "execution_count": 6,
   "metadata": {
    "id": "ISlFqs5y_Zct"
   },
   "outputs": [],
   "source": [
    "# renaming columns\n",
    "df = df.rename(\n",
    "columns={\n",
    "'  userID' : 'user_id',\n",
    "'Track' : 'track',\n",
    "'  City  ' : 'city',\n",
    "'Day' : 'day' }\n",
    ")"
   ]
  },
  {
   "cell_type": "code",
   "execution_count": 7,
   "metadata": {
    "id": "d4NOAmTW_Zct"
   },
   "outputs": [
    {
     "data": {
      "text/plain": [
       "Index(['user_id', 'track', 'artist', 'genre', 'city', 'time', 'day'], dtype='object')"
      ]
     },
     "execution_count": 7,
     "metadata": {},
     "output_type": "execute_result"
    }
   ],
   "source": [
    "# check results - list column names\n",
    "df.columns"
   ]
  },
  {
   "cell_type": "markdown",
   "metadata": {
    "id": "5ISfbcfY_Zct"
   },
   "source": [
    "### Missing values\n",
    "First, count how many missing values are in the table. Two `pandas` methods are sufficient for this:"
   ]
  },
  {
   "cell_type": "code",
   "execution_count": 8,
   "metadata": {
    "id": "RskX29qr_Zct"
   },
   "outputs": [
    {
     "data": {
      "text/plain": [
       "user_id       0\n",
       "track      1231\n",
       "artist     7203\n",
       "genre      1198\n",
       "city          0\n",
       "time          0\n",
       "day           0\n",
       "dtype: int64"
      ]
     },
     "execution_count": 8,
     "metadata": {},
     "output_type": "execute_result"
    }
   ],
   "source": [
    "# skip count\n",
    "df.isna().sum()"
   ]
  },
  {
   "cell_type": "markdown",
   "metadata": {
    "id": "qubhgnlO_Zct"
   },
   "source": [
    "Not all missing values affect the study. So in `track` and `artist` the gaps are not important for your work. It suffices to replace them with explicit notation.\n",
    "\n",
    "But omissions in `genre` can interfere with the comparison of musical tastes in Moscow and St. Petersburg. In practice, it would be correct to determine the cause of the gaps and restore the data. This option is not available in the curriculum. Have to:\n",
    "* fill in these gaps with explicit notation,\n",
    "* estimate how much they will damage the calculations."
   ]
  },
  {
   "cell_type": "markdown",
   "metadata": {
    "id": "fSv2laPA_Zct"
   },
   "source": [
    "Replace the missing values in the `track`, `artist` and `genre` columns with the string `'unknown'`. To do this, create a `columns_to_replace` list, iterate through its elements with a `for` loop, and for each column, replace the missing values:"
   ]
  },
  {
   "cell_type": "code",
   "execution_count": 9,
   "metadata": {
    "id": "KplB5qWs_Zct"
   },
   "outputs": [],
   "source": [
    "# loop through column names and replace missing values with 'unknown'\n",
    "columns_to_replace = ['track', 'artist' , 'genre']\n",
    "for element in columns_to_replace:\n",
    "    df[element]= df[element].fillna('unknown')"
   ]
  },
  {
   "cell_type": "code",
   "execution_count": 10,
   "metadata": {
    "id": "Tq4nYRX4_Zct"
   },
   "outputs": [
    {
     "data": {
      "text/plain": [
       "user_id    0\n",
       "track      0\n",
       "artist     0\n",
       "genre      0\n",
       "city       0\n",
       "time       0\n",
       "day        0\n",
       "dtype: int64"
      ]
     },
     "execution_count": 10,
     "metadata": {},
     "output_type": "execute_result"
    }
   ],
   "source": [
    "# skips count\n",
    "df.isna().sum()"
   ]
  },
  {
   "cell_type": "markdown",
   "metadata": {
    "id": "BWKRtBJ3_Zct"
   },
   "source": [
    "### Duplicates\n",
    "Read the obvious duplicates in the table of one team:"
   ]
  },
  {
   "cell_type": "code",
   "execution_count": 11,
   "metadata": {
    "id": "36eES_S0_Zct"
   },
   "outputs": [
    {
     "data": {
      "text/plain": [
       "3826"
      ]
     },
     "execution_count": 11,
     "metadata": {},
     "output_type": "execute_result"
    }
   ],
   "source": [
    "# counting clear duplicates\n",
    "\n",
    "df.duplicated().sum()"
   ]
  },
  {
   "cell_type": "code",
   "execution_count": 12,
   "metadata": {
    "id": "exFHq6tt_Zct"
   },
   "outputs": [],
   "source": [
    "# removal of explicit duplicates (with the removal of old indexes and the formation of new ones)\n",
    "df = df.drop_duplicates().reset_index(drop=True)"
   ]
  },
  {
   "cell_type": "code",
   "execution_count": 13,
   "metadata": {
    "id": "-8PuNWQ0_Zct"
   },
   "outputs": [
    {
     "data": {
      "text/plain": [
       "0"
      ]
     },
     "execution_count": 13,
     "metadata": {},
     "output_type": "execute_result"
    }
   ],
   "source": [
    "# check for duplicates\n",
    "df.duplicated().sum()"
   ]
  },
  {
   "cell_type": "markdown",
   "metadata": {
    "id": "QlFBsxAr_Zct"
   },
   "source": [
    "Now get rid of the implicit duplicates in the `genre` column. For example, the name of the same genre can be spelled slightly differently. Such errors will also affect the result of the study."
   ]
  },
  {
   "cell_type": "markdown",
   "metadata": {
    "id": "eSjWwsOh_Zct"
   },
   "source": [
    "Display a list of unique genre names sorted alphabetically. For this:\n",
    "* extract the desired dataframe column,\n",
    "* apply a sort method to it,\n",
    "* for a sorted column, call a method that will return the unique values from the column."
   ]
  },
  {
   "cell_type": "code",
   "execution_count": 14,
   "metadata": {
    "id": "JIUcqzZN_Zct",
    "scrolled": true
   },
   "outputs": [
    {
     "data": {
      "text/plain": [
       "['acid',\n",
       " 'acoustic',\n",
       " 'action',\n",
       " 'adult',\n",
       " 'africa',\n",
       " 'afrikaans',\n",
       " 'alternative',\n",
       " 'alternativepunk',\n",
       " 'ambient',\n",
       " 'americana',\n",
       " 'animated',\n",
       " 'anime',\n",
       " 'arabesk',\n",
       " 'arabic',\n",
       " 'arena',\n",
       " 'argentinetango',\n",
       " 'art',\n",
       " 'audiobook',\n",
       " 'author',\n",
       " 'avantgarde',\n",
       " 'axé',\n",
       " 'baile',\n",
       " 'balkan',\n",
       " 'beats',\n",
       " 'bigroom',\n",
       " 'black',\n",
       " 'bluegrass',\n",
       " 'blues',\n",
       " 'bollywood',\n",
       " 'bossa',\n",
       " 'brazilian',\n",
       " 'breakbeat',\n",
       " 'breaks',\n",
       " 'broadway',\n",
       " 'cantautori',\n",
       " 'cantopop',\n",
       " 'canzone',\n",
       " 'caribbean',\n",
       " 'caucasian',\n",
       " 'celtic',\n",
       " 'chamber',\n",
       " 'chanson',\n",
       " 'children',\n",
       " 'chill',\n",
       " 'chinese',\n",
       " 'choral',\n",
       " 'christian',\n",
       " 'christmas',\n",
       " 'classical',\n",
       " 'classicmetal',\n",
       " 'club',\n",
       " 'colombian',\n",
       " 'comedy',\n",
       " 'conjazz',\n",
       " 'contemporary',\n",
       " 'country',\n",
       " 'cuban',\n",
       " 'dance',\n",
       " 'dancehall',\n",
       " 'dancepop',\n",
       " 'dark',\n",
       " 'death',\n",
       " 'deep',\n",
       " 'deutschrock',\n",
       " 'deutschspr',\n",
       " 'dirty',\n",
       " 'disco',\n",
       " 'dnb',\n",
       " 'documentary',\n",
       " 'downbeat',\n",
       " 'downtempo',\n",
       " 'drum',\n",
       " 'dub',\n",
       " 'dubstep',\n",
       " 'eastern',\n",
       " 'easy',\n",
       " 'electronic',\n",
       " 'electropop',\n",
       " 'emo',\n",
       " 'entehno',\n",
       " 'epicmetal',\n",
       " 'estrada',\n",
       " 'ethnic',\n",
       " 'eurofolk',\n",
       " 'european',\n",
       " 'experimental',\n",
       " 'extrememetal',\n",
       " 'fado',\n",
       " 'fairytail',\n",
       " 'film',\n",
       " 'fitness',\n",
       " 'flamenco',\n",
       " 'folk',\n",
       " 'folklore',\n",
       " 'folkmetal',\n",
       " 'folkrock',\n",
       " 'folktronica',\n",
       " 'forró',\n",
       " 'frankreich',\n",
       " 'französisch',\n",
       " 'french',\n",
       " 'funk',\n",
       " 'future',\n",
       " 'gangsta',\n",
       " 'garage',\n",
       " 'german',\n",
       " 'ghazal',\n",
       " 'gitarre',\n",
       " 'glitch',\n",
       " 'gospel',\n",
       " 'gothic',\n",
       " 'grime',\n",
       " 'grunge',\n",
       " 'gypsy',\n",
       " 'handsup',\n",
       " \"hard'n'heavy\",\n",
       " 'hardcore',\n",
       " 'hardstyle',\n",
       " 'hardtechno',\n",
       " 'hip',\n",
       " 'hip-hop',\n",
       " 'hiphop',\n",
       " 'historisch',\n",
       " 'holiday',\n",
       " 'hop',\n",
       " 'horror',\n",
       " 'house',\n",
       " 'hymn',\n",
       " 'idm',\n",
       " 'independent',\n",
       " 'indian',\n",
       " 'indie',\n",
       " 'indipop',\n",
       " 'industrial',\n",
       " 'inspirational',\n",
       " 'instrumental',\n",
       " 'international',\n",
       " 'irish',\n",
       " 'jam',\n",
       " 'japanese',\n",
       " 'jazz',\n",
       " 'jewish',\n",
       " 'jpop',\n",
       " 'jungle',\n",
       " 'k-pop',\n",
       " 'karadeniz',\n",
       " 'karaoke',\n",
       " 'kayokyoku',\n",
       " 'korean',\n",
       " 'laiko',\n",
       " 'latin',\n",
       " 'latino',\n",
       " 'leftfield',\n",
       " 'local',\n",
       " 'lounge',\n",
       " 'loungeelectronic',\n",
       " 'lovers',\n",
       " 'malaysian',\n",
       " 'mandopop',\n",
       " 'marschmusik',\n",
       " 'meditative',\n",
       " 'mediterranean',\n",
       " 'melodic',\n",
       " 'metal',\n",
       " 'metalcore',\n",
       " 'mexican',\n",
       " 'middle',\n",
       " 'minimal',\n",
       " 'miscellaneous',\n",
       " 'modern',\n",
       " 'mood',\n",
       " 'mpb',\n",
       " 'muslim',\n",
       " 'native',\n",
       " 'neoklassik',\n",
       " 'neue',\n",
       " 'new',\n",
       " 'newage',\n",
       " 'newwave',\n",
       " 'nu',\n",
       " 'nujazz',\n",
       " 'numetal',\n",
       " 'oceania',\n",
       " 'old',\n",
       " 'opera',\n",
       " 'orchestral',\n",
       " 'other',\n",
       " 'piano',\n",
       " 'podcasts',\n",
       " 'pop',\n",
       " 'popdance',\n",
       " 'popelectronic',\n",
       " 'popeurodance',\n",
       " 'poprussian',\n",
       " 'post',\n",
       " 'posthardcore',\n",
       " 'postrock',\n",
       " 'power',\n",
       " 'progmetal',\n",
       " 'progressive',\n",
       " 'psychedelic',\n",
       " 'punjabi',\n",
       " 'punk',\n",
       " 'quebecois',\n",
       " 'ragga',\n",
       " 'ram',\n",
       " 'rancheras',\n",
       " 'rap',\n",
       " 'rave',\n",
       " 'reggae',\n",
       " 'reggaeton',\n",
       " 'regional',\n",
       " 'relax',\n",
       " 'religious',\n",
       " 'retro',\n",
       " 'rhythm',\n",
       " 'rnb',\n",
       " 'rnr',\n",
       " 'rock',\n",
       " 'rockabilly',\n",
       " 'rockalternative',\n",
       " 'rockindie',\n",
       " 'rockother',\n",
       " 'romance',\n",
       " 'roots',\n",
       " 'ruspop',\n",
       " 'rusrap',\n",
       " 'rusrock',\n",
       " 'russian',\n",
       " 'salsa',\n",
       " 'samba',\n",
       " 'scenic',\n",
       " 'schlager',\n",
       " 'self',\n",
       " 'sertanejo',\n",
       " 'shanson',\n",
       " 'shoegazing',\n",
       " 'showtunes',\n",
       " 'singer',\n",
       " 'ska',\n",
       " 'skarock',\n",
       " 'slow',\n",
       " 'smooth',\n",
       " 'soft',\n",
       " 'soul',\n",
       " 'soulful',\n",
       " 'sound',\n",
       " 'soundtrack',\n",
       " 'southern',\n",
       " 'specialty',\n",
       " 'speech',\n",
       " 'spiritual',\n",
       " 'sport',\n",
       " 'stonerrock',\n",
       " 'surf',\n",
       " 'swing',\n",
       " 'synthpop',\n",
       " 'synthrock',\n",
       " 'sängerportrait',\n",
       " 'tango',\n",
       " 'tanzorchester',\n",
       " 'taraftar',\n",
       " 'tatar',\n",
       " 'tech',\n",
       " 'techno',\n",
       " 'teen',\n",
       " 'thrash',\n",
       " 'top',\n",
       " 'traditional',\n",
       " 'tradjazz',\n",
       " 'trance',\n",
       " 'tribal',\n",
       " 'trip',\n",
       " 'triphop',\n",
       " 'tropical',\n",
       " 'türk',\n",
       " 'türkçe',\n",
       " 'ukrrock',\n",
       " 'unknown',\n",
       " 'urban',\n",
       " 'uzbek',\n",
       " 'variété',\n",
       " 'vi',\n",
       " 'videogame',\n",
       " 'vocal',\n",
       " 'western',\n",
       " 'world',\n",
       " 'worldbeat',\n",
       " 'ïîï',\n",
       " 'электроника']"
      ]
     },
     "metadata": {},
     "output_type": "display_data"
    }
   ],
   "source": [
    "# View Unique Genre Names\n",
    "display(sorted(df['genre'].unique()))"
   ]
  },
  {
   "cell_type": "markdown",
   "metadata": {
    "id": "qej-Qmuo_Zct"
   },
   "source": [
    "Look through the list and look for implicit duplicates of the name `hiphop`. These may be misspelled titles or alternative titles in the same genre.\n",
    "\n",
    "You will see the following implicit duplicates:\n",
    "* *hip*,\n",
    "* *hop*,\n",
    "* *hip-hop*.\n",
    "\n",
    "`In addition to the implicit duplicates described above, it can be noted that in this list there is a single genre written in Cyrillic: 'electronics', while in the list you can see the same genre written in Latin: 'electronic' `\n",
    "Separately, I note the genres: 'ïîï', 'türk', 'türkçe'.\n",
    "\n",
    "If it is difficult to say anything about the first genre (except that characters not from the Danish alphabet are used. I can assume that there is a problem with the encoding)\n",
    "the second and third genre are most likely implicit duplicates.\n",
    "However, an independent study of these hypotheses did not yield results. In further research, we will proceed from the fact that these data affect the overall study insignificantly.\n",
    "\n",
    "\n",
    "\n",
    "To clear the table of them, write the `replace_wrong_genres()` function with two parameters:\n",
    "* `wrong_genres` - list of duplicates,\n",
    "* `correct_genre` is a string with the correct value.\n",
    "\n",
    "The function should correct the `genre` column in the `df` table: replace each value from the `wrong_genres` list with a value from `correct_genre`."
   ]
  },
  {
   "cell_type": "code",
   "execution_count": 15,
   "metadata": {
    "id": "ErNDkmns_Zct"
   },
   "outputs": [],
   "source": [
    "# Function to replace implicit duplicates\n",
    "def replace_wrong_genres(wrong_genres, correct_genre):\n",
    "    for wrong_genre in wrong_genres:\n",
    "        df['genre'] = df['genre'].replace(wrong_genres, correct_genre)\n",
    "    "
   ]
  },
  {
   "cell_type": "code",
   "execution_count": 16,
   "metadata": {
    "id": "YN5i2hpmSo09"
   },
   "outputs": [],
   "source": [
    "problem_genres = ['hip', 'hop', 'hip-hop']\n",
    "replace_wrong_genres(problem_genres, 'hiphop')"
   ]
  },
  {
   "cell_type": "code",
   "execution_count": 17,
   "metadata": {
    "id": "wvixALnFG15m"
   },
   "outputs": [
    {
     "data": {
      "text/plain": [
       "['acid',\n",
       " 'acoustic',\n",
       " 'action',\n",
       " 'adult',\n",
       " 'africa',\n",
       " 'afrikaans',\n",
       " 'alternative',\n",
       " 'alternativepunk',\n",
       " 'ambient',\n",
       " 'americana',\n",
       " 'animated',\n",
       " 'anime',\n",
       " 'arabesk',\n",
       " 'arabic',\n",
       " 'arena',\n",
       " 'argentinetango',\n",
       " 'art',\n",
       " 'audiobook',\n",
       " 'author',\n",
       " 'avantgarde',\n",
       " 'axé',\n",
       " 'baile',\n",
       " 'balkan',\n",
       " 'beats',\n",
       " 'bigroom',\n",
       " 'black',\n",
       " 'bluegrass',\n",
       " 'blues',\n",
       " 'bollywood',\n",
       " 'bossa',\n",
       " 'brazilian',\n",
       " 'breakbeat',\n",
       " 'breaks',\n",
       " 'broadway',\n",
       " 'cantautori',\n",
       " 'cantopop',\n",
       " 'canzone',\n",
       " 'caribbean',\n",
       " 'caucasian',\n",
       " 'celtic',\n",
       " 'chamber',\n",
       " 'chanson',\n",
       " 'children',\n",
       " 'chill',\n",
       " 'chinese',\n",
       " 'choral',\n",
       " 'christian',\n",
       " 'christmas',\n",
       " 'classical',\n",
       " 'classicmetal',\n",
       " 'club',\n",
       " 'colombian',\n",
       " 'comedy',\n",
       " 'conjazz',\n",
       " 'contemporary',\n",
       " 'country',\n",
       " 'cuban',\n",
       " 'dance',\n",
       " 'dancehall',\n",
       " 'dancepop',\n",
       " 'dark',\n",
       " 'death',\n",
       " 'deep',\n",
       " 'deutschrock',\n",
       " 'deutschspr',\n",
       " 'dirty',\n",
       " 'disco',\n",
       " 'dnb',\n",
       " 'documentary',\n",
       " 'downbeat',\n",
       " 'downtempo',\n",
       " 'drum',\n",
       " 'dub',\n",
       " 'dubstep',\n",
       " 'eastern',\n",
       " 'easy',\n",
       " 'electronic',\n",
       " 'electropop',\n",
       " 'emo',\n",
       " 'entehno',\n",
       " 'epicmetal',\n",
       " 'estrada',\n",
       " 'ethnic',\n",
       " 'eurofolk',\n",
       " 'european',\n",
       " 'experimental',\n",
       " 'extrememetal',\n",
       " 'fado',\n",
       " 'fairytail',\n",
       " 'film',\n",
       " 'fitness',\n",
       " 'flamenco',\n",
       " 'folk',\n",
       " 'folklore',\n",
       " 'folkmetal',\n",
       " 'folkrock',\n",
       " 'folktronica',\n",
       " 'forró',\n",
       " 'frankreich',\n",
       " 'französisch',\n",
       " 'french',\n",
       " 'funk',\n",
       " 'future',\n",
       " 'gangsta',\n",
       " 'garage',\n",
       " 'german',\n",
       " 'ghazal',\n",
       " 'gitarre',\n",
       " 'glitch',\n",
       " 'gospel',\n",
       " 'gothic',\n",
       " 'grime',\n",
       " 'grunge',\n",
       " 'gypsy',\n",
       " 'handsup',\n",
       " \"hard'n'heavy\",\n",
       " 'hardcore',\n",
       " 'hardstyle',\n",
       " 'hardtechno',\n",
       " 'hiphop',\n",
       " 'historisch',\n",
       " 'holiday',\n",
       " 'horror',\n",
       " 'house',\n",
       " 'hymn',\n",
       " 'idm',\n",
       " 'independent',\n",
       " 'indian',\n",
       " 'indie',\n",
       " 'indipop',\n",
       " 'industrial',\n",
       " 'inspirational',\n",
       " 'instrumental',\n",
       " 'international',\n",
       " 'irish',\n",
       " 'jam',\n",
       " 'japanese',\n",
       " 'jazz',\n",
       " 'jewish',\n",
       " 'jpop',\n",
       " 'jungle',\n",
       " 'k-pop',\n",
       " 'karadeniz',\n",
       " 'karaoke',\n",
       " 'kayokyoku',\n",
       " 'korean',\n",
       " 'laiko',\n",
       " 'latin',\n",
       " 'latino',\n",
       " 'leftfield',\n",
       " 'local',\n",
       " 'lounge',\n",
       " 'loungeelectronic',\n",
       " 'lovers',\n",
       " 'malaysian',\n",
       " 'mandopop',\n",
       " 'marschmusik',\n",
       " 'meditative',\n",
       " 'mediterranean',\n",
       " 'melodic',\n",
       " 'metal',\n",
       " 'metalcore',\n",
       " 'mexican',\n",
       " 'middle',\n",
       " 'minimal',\n",
       " 'miscellaneous',\n",
       " 'modern',\n",
       " 'mood',\n",
       " 'mpb',\n",
       " 'muslim',\n",
       " 'native',\n",
       " 'neoklassik',\n",
       " 'neue',\n",
       " 'new',\n",
       " 'newage',\n",
       " 'newwave',\n",
       " 'nu',\n",
       " 'nujazz',\n",
       " 'numetal',\n",
       " 'oceania',\n",
       " 'old',\n",
       " 'opera',\n",
       " 'orchestral',\n",
       " 'other',\n",
       " 'piano',\n",
       " 'podcasts',\n",
       " 'pop',\n",
       " 'popdance',\n",
       " 'popelectronic',\n",
       " 'popeurodance',\n",
       " 'poprussian',\n",
       " 'post',\n",
       " 'posthardcore',\n",
       " 'postrock',\n",
       " 'power',\n",
       " 'progmetal',\n",
       " 'progressive',\n",
       " 'psychedelic',\n",
       " 'punjabi',\n",
       " 'punk',\n",
       " 'quebecois',\n",
       " 'ragga',\n",
       " 'ram',\n",
       " 'rancheras',\n",
       " 'rap',\n",
       " 'rave',\n",
       " 'reggae',\n",
       " 'reggaeton',\n",
       " 'regional',\n",
       " 'relax',\n",
       " 'religious',\n",
       " 'retro',\n",
       " 'rhythm',\n",
       " 'rnb',\n",
       " 'rnr',\n",
       " 'rock',\n",
       " 'rockabilly',\n",
       " 'rockalternative',\n",
       " 'rockindie',\n",
       " 'rockother',\n",
       " 'romance',\n",
       " 'roots',\n",
       " 'ruspop',\n",
       " 'rusrap',\n",
       " 'rusrock',\n",
       " 'russian',\n",
       " 'salsa',\n",
       " 'samba',\n",
       " 'scenic',\n",
       " 'schlager',\n",
       " 'self',\n",
       " 'sertanejo',\n",
       " 'shanson',\n",
       " 'shoegazing',\n",
       " 'showtunes',\n",
       " 'singer',\n",
       " 'ska',\n",
       " 'skarock',\n",
       " 'slow',\n",
       " 'smooth',\n",
       " 'soft',\n",
       " 'soul',\n",
       " 'soulful',\n",
       " 'sound',\n",
       " 'soundtrack',\n",
       " 'southern',\n",
       " 'specialty',\n",
       " 'speech',\n",
       " 'spiritual',\n",
       " 'sport',\n",
       " 'stonerrock',\n",
       " 'surf',\n",
       " 'swing',\n",
       " 'synthpop',\n",
       " 'synthrock',\n",
       " 'sängerportrait',\n",
       " 'tango',\n",
       " 'tanzorchester',\n",
       " 'taraftar',\n",
       " 'tatar',\n",
       " 'tech',\n",
       " 'techno',\n",
       " 'teen',\n",
       " 'thrash',\n",
       " 'top',\n",
       " 'traditional',\n",
       " 'tradjazz',\n",
       " 'trance',\n",
       " 'tribal',\n",
       " 'trip',\n",
       " 'triphop',\n",
       " 'tropical',\n",
       " 'türk',\n",
       " 'türkçe',\n",
       " 'ukrrock',\n",
       " 'unknown',\n",
       " 'urban',\n",
       " 'uzbek',\n",
       " 'variété',\n",
       " 'vi',\n",
       " 'videogame',\n",
       " 'vocal',\n",
       " 'western',\n",
       " 'world',\n",
       " 'worldbeat',\n",
       " 'ïîï',\n",
       " 'электроника']"
      ]
     },
     "metadata": {},
     "output_type": "display_data"
    }
   ],
   "source": [
    "display(sorted(df['genre'].unique()))"
   ]
  },
  {
   "cell_type": "markdown",
   "metadata": {
    "id": "jz6a9-7HQUDd"
   },
   "source": [
    "**Conclusions**\n",
    "\n",
    "Preprocessing found three problems in the data:\n",
    "\n",
    "- headline style violations,\n",
    "- missing values,\n",
    "- duplicates - explicit and implicit.\n",
    "\n",
    "You've fixed the headers to make the table easier to work with. Without duplicates, the study will become more accurate.\n",
    "\n",
    "You have replaced missing values with `'unknown'`. It remains to be seen whether the gaps in the `genre` column will harm the study.\n",
    "\n",
    "Now we can move on to hypothesis testing."
   ]
  },
  {
   "cell_type": "markdown",
   "metadata": {
    "id": "WttZHXH0SqKk"
   },
   "source": [
    "## Hypothesis testing"
   ]
  },
  {
   "cell_type": "markdown",
   "metadata": {
    "id": "Im936VVi_Zcu"
   },
   "source": [
    "### Comparison of user behavior of two capitals"
   ]
  },
  {
   "cell_type": "markdown",
   "metadata": {
    "id": "nwt_MuaL_Zcu"
   },
   "source": [
    "The first hypothesis states that users listen to music differently in Moscow and St. Petersburg. Check this assumption against the data on the three days of the week - Monday, Wednesday and Friday. For this:\n",
    "\n",
    "* Separate Moscow and St. Petersburg users\n",
    "* Compare how many tracks each user group listened to on Monday, Wednesday and Friday.\n"
   ]
  },
  {
   "cell_type": "markdown",
   "metadata": {
    "id": "8Dw_YMmT_Zcu"
   },
   "source": [
    "For training, first perform each of the calculations separately.\n",
    "\n",
    "Estimate user activity in each city. Group the data by city and count the plays in each group."
   ]
  },
  {
   "cell_type": "code",
   "execution_count": 18,
   "metadata": {
    "id": "0_Qs96oh_Zcu"
   },
   "outputs": [
    {
     "data": {
      "text/plain": [
       "city\n",
       "Moscow              42741\n",
       "Saint-Petersburg    18512\n",
       "Name: user_id, dtype: int64"
      ]
     },
     "execution_count": 18,
     "metadata": {},
     "output_type": "execute_result"
    }
   ],
   "source": [
    "# Counting plays in each city\n",
    "df.groupby('city')['user_id'].count()"
   ]
  },
  {
   "cell_type": "markdown",
   "metadata": {
    "id": "dzli3w8o_Zcu"
   },
   "source": [
    "There are more auditions in Moscow than in St. Petersburg. It does not follow from this that Moscow users listen to music more often. There are simply more users in Moscow.\n",
    "\n",
    "Now group the data by day of the week and count the plays on Monday, Wednesday, and Friday. Please note that the data only contains information about the plays for these days only."
   ]
  },
  {
   "cell_type": "code",
   "execution_count": 19,
   "metadata": {
    "id": "uZMKjiJz_Zcu"
   },
   "outputs": [
    {
     "data": {
      "text/plain": [
       "day\n",
       "Friday       21840\n",
       "Monday       21354\n",
       "Wednesday    18059\n",
       "Name: user_id, dtype: int64"
      ]
     },
     "execution_count": 19,
     "metadata": {},
     "output_type": "execute_result"
    }
   ],
   "source": [
    "# Play count for each of the three days\n",
    "df.groupby('day')['user_id'].count()"
   ]
  },
  {
   "cell_type": "markdown",
   "metadata": {
    "id": "cC2tNrlL_Zcu"
   },
   "source": [
    "On average, users from the two cities are less active on Wednesdays. But the picture may change if we consider each city separately."
   ]
  },
  {
   "cell_type": "markdown",
   "metadata": {
    "id": "POzs8bGa_Zcu"
   },
   "source": [
    "You have seen how grouping by city and by day of the week works. Now write a function that combines these two calculations.\n",
    "\n",
    "Create a `number_tracks()` function that will count the plays for a given day and city. She needs two parameters:\n",
    "* day of the week,\n",
    "* city name.\n",
    "\n",
    "In the function, save to a variable the rows of the source table that have the value:\n",
    "  * in the `day` column is equal to the `day` parameter,\n",
    "  * in the `city` column is equal to the `city` parameter.\n",
    "\n",
    "To do this, apply sequential filtering with logical indexing.\n",
    "\n",
    "Then count the values in the `user_id` column of the resulting table. Save the result to a new variable. Return this variable from the function."
   ]
  },
  {
   "cell_type": "code",
   "execution_count": 20,
   "metadata": {
    "id": "Nz3GdQB1_Zcu"
   },
   "outputs": [],
   "source": [
    "\n",
    "def number_tracks(day, city):\n",
    "    '''\n",
    "    INPUT - day, city type srting\n",
    "    OUTPUT - number\n",
    "    DISCRIPTION - Function for counting plays for a specific city and day. \n",
    "                Using sequential filtering with logical indexing, \n",
    "                it will first get rows with the desired day from the source table, \n",
    "                then filter the rows with the desired city from the result, \n",
    "                using the count() method to calculate the number of values in the user_id column. \n",
    "                The function will return this number as a result.\n",
    "    '''\n",
    "    track_list = df[df['day'] == day]\n",
    "    track_list = track_list[track_list['city'] == city]\n",
    "    track_list_count = track_list['user_id'].count()\n",
    "    return track_list_count\n",
    "\n"
   ]
  },
  {
   "cell_type": "markdown",
   "metadata": {
    "id": "ytf7xFrFJQ2r"
   },
   "source": [
    "Call `number_tracks()` six times, changing the parameters so that you get data for each city on each of the three days."
   ]
  },
  {
   "cell_type": "code",
   "execution_count": 21,
   "metadata": {
    "id": "rJcRATNQ_Zcu"
   },
   "outputs": [
    {
     "name": "stdout",
     "output_type": "stream",
     "text": [
      "15740\n"
     ]
    }
   ],
   "source": [
    "# number of auditions in Moscow on Mondays\n",
    "print(number_tracks('Monday', 'Moscow'))"
   ]
  },
  {
   "cell_type": "code",
   "execution_count": 22,
   "metadata": {
    "id": "hq_ncZ5T_Zcu",
    "scrolled": true
   },
   "outputs": [
    {
     "name": "stdout",
     "output_type": "stream",
     "text": [
      "5614\n"
     ]
    }
   ],
   "source": [
    "# number of auditions in St. Petersburg on Mondays\n",
    "print(number_tracks('Monday', 'Saint-Petersburg'))"
   ]
  },
  {
   "cell_type": "code",
   "execution_count": 23,
   "metadata": {
    "id": "_NTy2VPU_Zcu"
   },
   "outputs": [
    {
     "name": "stdout",
     "output_type": "stream",
     "text": [
      "11056\n"
     ]
    }
   ],
   "source": [
    "# number of auditions in Moscow on Wednesdays\n",
    "print(number_tracks('Wednesday', 'Moscow'))"
   ]
  },
  {
   "cell_type": "code",
   "execution_count": 24,
   "metadata": {
    "id": "j2y3TAwo_Zcu"
   },
   "outputs": [
    {
     "name": "stdout",
     "output_type": "stream",
     "text": [
      "7003\n"
     ]
    }
   ],
   "source": [
    "# number of auditions in St. Petersburg on Wednesdays\n",
    "print(number_tracks('Wednesday', 'Saint-Petersburg'))"
   ]
  },
  {
   "cell_type": "code",
   "execution_count": 25,
   "metadata": {
    "id": "vYDw5u_K_Zcu"
   },
   "outputs": [
    {
     "name": "stdout",
     "output_type": "stream",
     "text": [
      "15945\n"
     ]
    }
   ],
   "source": [
    "# number of auditions in Moscow on Fridays\n",
    "print(number_tracks('Friday', 'Moscow'))"
   ]
  },
  {
   "cell_type": "code",
   "execution_count": 26,
   "metadata": {
    "id": "8_yzFtW3_Zcu"
   },
   "outputs": [
    {
     "name": "stdout",
     "output_type": "stream",
     "text": [
      "5895\n"
     ]
    }
   ],
   "source": [
    "# number of auditions in St. Petersburg on Fridays\n",
    "print(number_tracks('Friday', 'Saint-Petersburg'))"
   ]
  },
  {
   "cell_type": "markdown",
   "metadata": {
    "id": "7QXffbO-_Zcu"
   },
   "source": [
    "Create a table using the `pd.DataFrame` constructor, where\n",
    "* column names - `['city', 'monday', 'wednesday', 'friday']`;\n",
    "* data is the results you got with `number_tracks`."
   ]
  },
  {
   "cell_type": "code",
   "execution_count": 27,
   "metadata": {
    "id": "APAcLpOr_Zcu"
   },
   "outputs": [
    {
     "data": {
      "text/html": [
       "<div>\n",
       "<style scoped>\n",
       "    .dataframe tbody tr th:only-of-type {\n",
       "        vertical-align: middle;\n",
       "    }\n",
       "\n",
       "    .dataframe tbody tr th {\n",
       "        vertical-align: top;\n",
       "    }\n",
       "\n",
       "    .dataframe thead th {\n",
       "        text-align: right;\n",
       "    }\n",
       "</style>\n",
       "<table border=\"1\" class=\"dataframe\">\n",
       "  <thead>\n",
       "    <tr style=\"text-align: right;\">\n",
       "      <th></th>\n",
       "      <th>city</th>\n",
       "      <th>monday</th>\n",
       "      <th>wednesday</th>\n",
       "      <th>friday</th>\n",
       "    </tr>\n",
       "  </thead>\n",
       "  <tbody>\n",
       "    <tr>\n",
       "      <th>0</th>\n",
       "      <td>Saint-Petersburg</td>\n",
       "      <td>5614</td>\n",
       "      <td>7003</td>\n",
       "      <td>5895</td>\n",
       "    </tr>\n",
       "    <tr>\n",
       "      <th>1</th>\n",
       "      <td>Moscow</td>\n",
       "      <td>15740</td>\n",
       "      <td>11056</td>\n",
       "      <td>15945</td>\n",
       "    </tr>\n",
       "  </tbody>\n",
       "</table>\n",
       "</div>"
      ],
      "text/plain": [
       "               city  monday  wednesday  friday\n",
       "0  Saint-Petersburg    5614       7003    5895\n",
       "1            Moscow   15740      11056   15945"
      ]
     },
     "metadata": {},
     "output_type": "display_data"
    }
   ],
   "source": [
    "column = ['city', 'monday', 'wednesday', 'friday']\n",
    "music = [\n",
    "    ['Saint-Petersburg', number_tracks('Monday', 'Saint-Petersburg'), number_tracks('Wednesday', 'Saint-Petersburg'), number_tracks('Friday', 'Saint-Petersburg')],\n",
    "    ['Moscow', number_tracks('Monday', 'Moscow'), number_tracks('Wednesday', 'Moscow'), number_tracks('Friday', 'Moscow')]\n",
    "]\n",
    "daily_activity = pd.DataFrame(data= music,columns= column)\n",
    "display(daily_activity)"
   ]
  },
  {
   "cell_type": "markdown",
   "metadata": {
    "id": "-EgPIHYu_Zcu"
   },
   "source": [
    "**Conclusions**\n",
    "\n",
    "The data shows the difference in user behavior:\n",
    "\n",
    "- In Moscow, the peak of listening falls on Monday and Friday, and on Wednesday there is a noticeable decline.\n",
    "- In St. Petersburg, on the contrary, they listen to music more on Wednesdays. Activity on Monday and Friday here is almost equally inferior to Wednesday.\n",
    "\n",
    "So the data support the first hypothesis."
   ]
  },
  {
   "cell_type": "markdown",
   "metadata": {
    "id": "atZAxtq4_Zcu"
   },
   "source": [
    "### Music at the beginning and end of the week"
   ]
  },
  {
   "cell_type": "markdown",
   "metadata": {
    "id": "eXrQqXFH_Zcu"
   },
   "source": [
    "According to the second hypothesis, on Monday morning certain genres predominate in Moscow, while others dominate in St. Petersburg. Similarly, Friday evenings are dominated by different genres, depending on the city."
   ]
  },
  {
   "cell_type": "markdown",
   "metadata": {
    "id": "S8UcW6Hw_Zcu"
   },
   "source": [
    "Save tables with data in two variables:\n",
    "* in Moscow - in `moscow_general`;\n",
    "* in St. Petersburg - in `spb_general`."
   ]
  },
  {
   "cell_type": "code",
   "execution_count": 28,
   "metadata": {
    "id": "qeaFfM_P_Zcu"
   },
   "outputs": [],
   "source": [
    "moscow_general = df[df['city']== 'Moscow']"
   ]
  },
  {
   "cell_type": "code",
   "execution_count": 29,
   "metadata": {
    "id": "ORaVRKto_Zcu"
   },
   "outputs": [],
   "source": [
    "spb_general = df[df['city']== 'Saint-Petersburg']"
   ]
  },
  {
   "cell_type": "markdown",
   "metadata": {
    "id": "MEJV-CX2_Zcu"
   },
   "source": [
    "Create a function `genre_weekday()` with four parameters:\n",
    "* table (dataframe) with data,\n",
    "* day of the week,\n",
    "* start timestamp in 'hh:mm' format,\n",
    "* last timestamp in 'hh:mm' format.\n",
    "\n",
    "The function should return information about the top 10 genres of those tracks that were listened to on the specified day, in the interval between two timestamps."
   ]
  },
  {
   "cell_type": "code",
   "execution_count": 30,
   "metadata": {
    "id": "laJT9BYl_Zcu"
   },
   "outputs": [],
   "source": [
    "\n",
    "def genre_weekday(table, day, time1, time2):\n",
    "'''function returns information about the most popular genres on the specified day in given time:'''\n",
    "    genre_df = table[table['day'] == day]\n",
    "    genre_df = genre_df[genre_df['time'] > time1]\n",
    "    genre_df = genre_df[genre_df['time'] < time2]\n",
    "    genre_df_count = genre_df.groupby('genre')['user_id'].count()\n",
    "    genre_df_sorted = genre_df_count.sort_values(ascending = False)\n",
    "    genre_df_sorted = genre_df_sorted.head(10)\n",
    "    return genre_df_sorted"
   ]
  },
  {
   "cell_type": "markdown",
   "metadata": {
    "id": "la2s2_PF_Zcu"
   },
   "source": [
    "Compare the results of the `genre_weekday()` function for Moscow and St. Petersburg on Monday morning (from 7:00 to 11:00) and Friday evening (from 17:00 to 23:00):"
   ]
  },
  {
   "cell_type": "code",
   "execution_count": 31,
   "metadata": {
    "id": "yz7itPUQ_Zcu"
   },
   "outputs": [
    {
     "data": {
      "text/plain": [
       "genre\n",
       "pop            781\n",
       "dance          549\n",
       "electronic     480\n",
       "rock           474\n",
       "hiphop         286\n",
       "ruspop         186\n",
       "world          181\n",
       "rusrap         175\n",
       "alternative    164\n",
       "unknown        161\n",
       "Name: user_id, dtype: int64"
      ]
     },
     "execution_count": 31,
     "metadata": {},
     "output_type": "execute_result"
    }
   ],
   "source": [
    "genre_weekday(moscow_general, 'Monday', '07:00', '11:00')"
   ]
  },
  {
   "cell_type": "code",
   "execution_count": 32,
   "metadata": {
    "id": "kwUcHPdy_Zcu"
   },
   "outputs": [
    {
     "data": {
      "text/plain": [
       "genre\n",
       "pop            218\n",
       "dance          182\n",
       "rock           162\n",
       "electronic     147\n",
       "hiphop          80\n",
       "ruspop          64\n",
       "alternative     58\n",
       "rusrap          55\n",
       "jazz            44\n",
       "classical       40\n",
       "Name: user_id, dtype: int64"
      ]
     },
     "execution_count": 32,
     "metadata": {},
     "output_type": "execute_result"
    }
   ],
   "source": [
    "genre_weekday(spb_general, 'Monday', '07:00', '11:00')"
   ]
  },
  {
   "cell_type": "code",
   "execution_count": 33,
   "metadata": {
    "id": "EzXVRE1o_Zcu"
   },
   "outputs": [
    {
     "data": {
      "text/plain": [
       "genre\n",
       "pop            713\n",
       "rock           517\n",
       "dance          495\n",
       "electronic     482\n",
       "hiphop         273\n",
       "world          208\n",
       "ruspop         170\n",
       "alternative    163\n",
       "classical      163\n",
       "rusrap         142\n",
       "Name: user_id, dtype: int64"
      ]
     },
     "execution_count": 33,
     "metadata": {},
     "output_type": "execute_result"
    }
   ],
   "source": [
    "genre_weekday(moscow_general, 'Friday', '17:00', '23:00')"
   ]
  },
  {
   "cell_type": "code",
   "execution_count": 34,
   "metadata": {
    "id": "JZaEKu5v_Zcu"
   },
   "outputs": [
    {
     "data": {
      "text/plain": [
       "genre\n",
       "pop            256\n",
       "electronic     216\n",
       "rock           216\n",
       "dance          210\n",
       "hiphop          97\n",
       "alternative     63\n",
       "jazz            61\n",
       "classical       60\n",
       "rusrap          59\n",
       "world           54\n",
       "Name: user_id, dtype: int64"
      ]
     },
     "execution_count": 34,
     "metadata": {},
     "output_type": "execute_result"
    }
   ],
   "source": [
    "genre_weekday(spb_general, 'Friday', '17:00', '23:00')"
   ]
  },
  {
   "cell_type": "markdown",
   "metadata": {
    "id": "wrCe4MNX_Zcu"
   },
   "source": [
    "**Conclusions**\n",
    "\n",
    "If we compare the top 10 genres on Monday morning, we can draw the following conclusions:\n",
    "\n",
    "1. In Moscow and St. Petersburg they listen to similar music. The only difference is that the Moscow rating includes the “world” genre, while the St. Petersburg rating includes jazz and classical.\n",
    "\n",
    "2. There were so many missing values in Moscow that the value `'unknown'` took tenth place among the most popular genres. This means that missing values occupy a significant share in the data and threaten the reliability of the study.\n",
    "\n",
    "Friday night does not change this picture. Some genres rise a little higher, others go down, but overall the top 10 stays the same.\n",
    "\n",
    "Thus, the second hypothesis was only partially confirmed:\n",
    "* Users listen to similar music at the beginning of the week and at the end.\n",
    "* The difference between Moscow and St. Petersburg is not very pronounced. In Moscow, they listen to Russian popular music more often, in St. Petersburg - jazz.\n",
    "\n",
    "However, gaps in the data cast doubt on this result. There are so many of them in Moscow that the top 10 ranking could look different if it were not for the lost genre data."
   ]
  },
  {
   "cell_type": "markdown",
   "metadata": {
    "id": "JolODAqr_Zcu"
   },
   "source": [
    "### Genre preferences in Moscow and St. Petersburg\n",
    "\n",
    "Hypothesis: St. Petersburg is the capital of rap, the music of this genre is listened to more often than in Moscow. And Moscow is a city of contrasts, which, nevertheless, is dominated by pop music."
   ]
  },
  {
   "cell_type": "markdown",
   "metadata": {
    "id": "DlegSvaT_Zcu"
   },
   "source": [
    "Group the `moscow_general` table by genre and count the plays of each genre's tracks using the `count()` method. Then sort the result in descending order and store it in the `moscow_genres` table."
   ]
  },
  {
   "cell_type": "code",
   "execution_count": 35,
   "metadata": {
    "id": "r19lIPke_Zcu"
   },
   "outputs": [],
   "source": [
    "moscow_genres = moscow_general.groupby('genre')['genre'].count().sort_values(ascending = False)"
   ]
  },
  {
   "cell_type": "code",
   "execution_count": 36,
   "metadata": {
    "id": "WhCSooF8_Zcv"
   },
   "outputs": [
    {
     "data": {
      "text/plain": [
       "genre\n",
       "pop            5892\n",
       "dance          4435\n",
       "rock           3965\n",
       "electronic     3786\n",
       "hiphop         2096\n",
       "classical      1616\n",
       "world          1432\n",
       "alternative    1379\n",
       "ruspop         1372\n",
       "rusrap         1161\n",
       "Name: genre, dtype: int64"
      ]
     },
     "metadata": {},
     "output_type": "display_data"
    }
   ],
   "source": [
    "display(moscow_genres.head(10))"
   ]
  },
  {
   "cell_type": "markdown",
   "metadata": {
    "id": "cnPG2vnN_Zcv"
   },
   "source": [
    "Now repeat the same for Petersburg.\n",
    "\n",
    "Group the `spb_general` table by genre. Count the number of listens to tracks of each genre. Sort the result in descending order and store it in the `spb_genres` table:"
   ]
  },
  {
   "cell_type": "code",
   "execution_count": 37,
   "metadata": {
    "id": "gluLIpE7_Zcv"
   },
   "outputs": [],
   "source": [
    "spb_genres = spb_general.groupby('genre')['genre'].count().sort_values(ascending = False)"
   ]
  },
  {
   "cell_type": "code",
   "execution_count": 38,
   "metadata": {
    "id": "uaGJHjVU_Zcv"
   },
   "outputs": [
    {
     "data": {
      "text/plain": [
       "genre\n",
       "pop            2431\n",
       "dance          1932\n",
       "rock           1879\n",
       "electronic     1736\n",
       "hiphop          960\n",
       "alternative     649\n",
       "classical       646\n",
       "rusrap          564\n",
       "ruspop          538\n",
       "world           515\n",
       "Name: genre, dtype: int64"
      ]
     },
     "metadata": {},
     "output_type": "display_data"
    }
   ],
   "source": [
    "# просмотр первых 10 строк spb_genres\n",
    "display(spb_genres.head(10))"
   ]
  },
  {
   "cell_type": "markdown",
   "metadata": {
    "id": "nVhnJEm__Zcv"
   },
   "source": [
    "**Conclusions**\n",
    "The hypothesis was partially confirmed:\n",
    "* Pop music is the most popular genre in Moscow, as the hypothesis suggested. Moreover, in the top 10 genres there is a close genre - Russian popular music.\n",
    "* Contrary to expectations, rap is equally popular in Moscow and St. Petersburg.\n",
    "* The remark about genres that do not affect the overall study was confirmed."
   ]
  },
  {
   "cell_type": "markdown",
   "metadata": {
    "id": "tjUwbHb3_Zcv"
   },
   "source": [
    "## Results of the study\n",
    "\n",
    "We tested three hypotheses and found:\n",
    "\n",
    "1. The day of the week has a different effect on the activity of users in Moscow and St. Petersburg.\n",
    "\n",
    "The first hypothesis was fully confirmed.\n",
    "\n",
    "2. Musical preferences do not change much during the week - be it Moscow or St. Petersburg. Small differences are noticeable at the beginning of the week, on Mondays:\n",
    "* in Moscow they listen to music of the “world” genre,\n",
    "* in St. Petersburg - jazz and classical music.\n",
    "\n",
    "Thus, the second hypothesis was only partly confirmed. This result could have been different were it not for gaps in the data.\n",
    "\n",
    "3. The tastes of users of Moscow and St. Petersburg have more in common than differences. Contrary to expectations, genre preferences in St. Petersburg resemble those in Moscow.\n",
    "\n",
    "The third hypothesis was not confirmed. If there are differences in preferences, they are invisible to the bulk of users.\n",
    "\n",
    "**In practice, studies contain tests of statistical hypotheses.**\n",
    "From the data of one service, it is not always possible to draw a conclusion about all the inhabitants of the city.\n",
    "Tests of statistical hypotheses will show how reliable they are, based on the available data.\n",
    "You will learn more about hypothesis testing methods in the following topics."
   ]
  },
  {
   "cell_type": "code",
   "execution_count": null,
   "metadata": {},
   "outputs": [],
   "source": []
  }
 ],
 "metadata": {
  "ExecuteTimeLog": [
   {
    "duration": 770,
    "start_time": "2021-12-28T20:52:23.854Z"
   },
   {
    "duration": 2308,
    "start_time": "2021-12-28T20:54:54.710Z"
   },
   {
    "duration": 2124,
    "start_time": "2021-12-28T21:06:20.600Z"
   },
   {
    "duration": 389,
    "start_time": "2021-12-28T21:06:46.124Z"
   },
   {
    "duration": 206,
    "start_time": "2021-12-28T21:07:53.895Z"
   },
   {
    "duration": 221,
    "start_time": "2021-12-28T21:08:00.323Z"
   },
   {
    "duration": 196,
    "start_time": "2021-12-28T21:08:25.811Z"
   },
   {
    "duration": 24,
    "start_time": "2021-12-28T21:08:48.560Z"
   },
   {
    "duration": 15,
    "start_time": "2021-12-28T21:08:52.980Z"
   },
   {
    "duration": 12,
    "start_time": "2021-12-28T21:09:25.376Z"
   },
   {
    "duration": 32,
    "start_time": "2021-12-28T21:09:42.378Z"
   },
   {
    "duration": 51,
    "start_time": "2021-12-28T21:15:00.100Z"
   },
   {
    "duration": 5,
    "start_time": "2021-12-28T21:22:18.798Z"
   },
   {
    "duration": 26,
    "start_time": "2021-12-28T21:24:15.605Z"
   },
   {
    "duration": 5,
    "start_time": "2021-12-28T21:24:27.920Z"
   },
   {
    "duration": 30,
    "start_time": "2021-12-28T21:25:10.963Z"
   },
   {
    "duration": 24,
    "start_time": "2021-12-28T21:32:11.286Z"
   },
   {
    "duration": 31,
    "start_time": "2021-12-28T21:32:23.895Z"
   },
   {
    "duration": 84,
    "start_time": "2021-12-28T21:33:47.343Z"
   },
   {
    "duration": 88,
    "start_time": "2021-12-28T21:34:12.835Z"
   },
   {
    "duration": 74,
    "start_time": "2021-12-28T21:34:20.590Z"
   },
   {
    "duration": 310,
    "start_time": "2021-12-28T21:37:02.341Z"
   },
   {
    "duration": 9,
    "start_time": "2021-12-28T21:37:21.575Z"
   },
   {
    "duration": 9,
    "start_time": "2021-12-28T21:37:32.166Z"
   },
   {
    "duration": 9,
    "start_time": "2021-12-28T21:37:42.484Z"
   },
   {
    "duration": 289,
    "start_time": "2021-12-28T21:38:04.653Z"
   },
   {
    "duration": 313,
    "start_time": "2021-12-28T21:39:10.335Z"
   },
   {
    "duration": 4282,
    "start_time": "2021-12-28T21:40:18.951Z"
   },
   {
    "duration": -62,
    "start_time": "2021-12-28T21:40:28.364Z"
   },
   {
    "duration": 319,
    "start_time": "2021-12-28T21:41:23.965Z"
   },
   {
    "duration": 311,
    "start_time": "2021-12-28T21:42:51.217Z"
   },
   {
    "duration": 4363,
    "start_time": "2021-12-28T21:42:55.830Z"
   },
   {
    "duration": 4161,
    "start_time": "2021-12-28T21:43:05.988Z"
   },
   {
    "duration": 4114,
    "start_time": "2021-12-28T21:53:31.309Z"
   },
   {
    "duration": 3577,
    "start_time": "2021-12-28T21:53:44.141Z"
   },
   {
    "duration": 4015,
    "start_time": "2021-12-28T21:53:58.365Z"
   },
   {
    "duration": 358,
    "start_time": "2021-12-28T21:56:35.723Z"
   },
   {
    "duration": 294,
    "start_time": "2021-12-28T21:57:57.603Z"
   },
   {
    "duration": 3998,
    "start_time": "2021-12-28T21:58:03.820Z"
   },
   {
    "duration": 3639,
    "start_time": "2021-12-28T21:58:43.470Z"
   },
   {
    "duration": 3654,
    "start_time": "2021-12-28T21:58:59.814Z"
   },
   {
    "duration": 3643,
    "start_time": "2021-12-28T21:59:25.099Z"
   },
   {
    "duration": 4618,
    "start_time": "2021-12-28T21:59:52.719Z"
   },
   {
    "duration": 3776,
    "start_time": "2021-12-28T22:01:00.300Z"
   },
   {
    "duration": 5634,
    "start_time": "2021-12-28T22:05:54.283Z"
   },
   {
    "duration": 3760,
    "start_time": "2021-12-28T22:06:25.543Z"
   },
   {
    "duration": 4488,
    "start_time": "2021-12-28T22:34:02.679Z"
   },
   {
    "duration": 4154,
    "start_time": "2021-12-28T22:34:12.497Z"
   },
   {
    "duration": 3840,
    "start_time": "2021-12-28T22:34:37.768Z"
   },
   {
    "duration": 4112,
    "start_time": "2021-12-28T22:34:48.003Z"
   },
   {
    "duration": 3846,
    "start_time": "2021-12-28T22:35:04.727Z"
   },
   {
    "duration": 3679,
    "start_time": "2021-12-28T22:35:23.893Z"
   },
   {
    "duration": 375,
    "start_time": "2021-12-29T09:52:19.434Z"
   },
   {
    "duration": 278,
    "start_time": "2021-12-29T09:52:40.012Z"
   },
   {
    "duration": 839,
    "start_time": "2021-12-29T09:57:20.509Z"
   },
   {
    "duration": 258,
    "start_time": "2021-12-29T09:57:21.350Z"
   },
   {
    "duration": 37,
    "start_time": "2021-12-29T09:57:21.616Z"
   },
   {
    "duration": 32,
    "start_time": "2021-12-29T09:57:21.657Z"
   },
   {
    "duration": 32,
    "start_time": "2021-12-29T09:57:21.691Z"
   },
   {
    "duration": 32,
    "start_time": "2021-12-29T09:57:21.726Z"
   },
   {
    "duration": 8,
    "start_time": "2021-12-29T09:57:21.761Z"
   },
   {
    "duration": 74,
    "start_time": "2021-12-29T09:57:21.772Z"
   },
   {
    "duration": 22,
    "start_time": "2021-12-29T09:57:21.849Z"
   },
   {
    "duration": 63,
    "start_time": "2021-12-29T09:57:21.873Z"
   },
   {
    "duration": 96,
    "start_time": "2021-12-29T09:57:21.938Z"
   },
   {
    "duration": 123,
    "start_time": "2021-12-29T09:57:22.038Z"
   },
   {
    "duration": 95,
    "start_time": "2021-12-29T09:57:22.164Z"
   },
   {
    "duration": 8,
    "start_time": "2021-12-29T09:57:26.068Z"
   },
   {
    "duration": 10,
    "start_time": "2021-12-29T09:57:30.072Z"
   },
   {
    "duration": 454,
    "start_time": "2021-12-29T10:22:33.772Z"
   },
   {
    "duration": 87,
    "start_time": "2021-12-29T10:22:53.791Z"
   },
   {
    "duration": 142,
    "start_time": "2021-12-29T10:23:16.381Z"
   },
   {
    "duration": 11,
    "start_time": "2021-12-29T10:26:51.328Z"
   },
   {
    "duration": 11,
    "start_time": "2021-12-29T10:27:07.338Z"
   },
   {
    "duration": 9,
    "start_time": "2021-12-29T10:27:42.942Z"
   },
   {
    "duration": 9,
    "start_time": "2021-12-29T10:27:47.282Z"
   },
   {
    "duration": 12,
    "start_time": "2021-12-29T10:28:49.684Z"
   },
   {
    "duration": 12,
    "start_time": "2021-12-29T10:28:57.918Z"
   },
   {
    "duration": 11,
    "start_time": "2021-12-29T10:29:50.266Z"
   },
   {
    "duration": 535,
    "start_time": "2021-12-29T10:30:01.371Z"
   },
   {
    "duration": 10,
    "start_time": "2021-12-29T10:30:30.155Z"
   },
   {
    "duration": 92,
    "start_time": "2021-12-29T10:31:16.578Z"
   },
   {
    "duration": 57,
    "start_time": "2021-12-29T10:31:45.940Z"
   },
   {
    "duration": 73,
    "start_time": "2021-12-29T10:33:09.197Z"
   },
   {
    "duration": 4,
    "start_time": "2021-12-29T10:46:32.307Z"
   },
   {
    "duration": 31,
    "start_time": "2021-12-29T10:49:56.412Z"
   },
   {
    "duration": 87,
    "start_time": "2021-12-29T10:50:10.401Z"
   },
   {
    "duration": 275,
    "start_time": "2021-12-29T10:58:54.913Z"
   },
   {
    "duration": 297,
    "start_time": "2021-12-29T10:59:03.996Z"
   },
   {
    "duration": 77,
    "start_time": "2021-12-29T10:59:24.930Z"
   },
   {
    "duration": 18,
    "start_time": "2021-12-29T10:59:55.497Z"
   },
   {
    "duration": 20,
    "start_time": "2021-12-29T11:00:06.290Z"
   },
   {
    "duration": 54,
    "start_time": "2021-12-29T11:02:38.834Z"
   },
   {
    "duration": 20,
    "start_time": "2021-12-29T11:02:52.337Z"
   },
   {
    "duration": 17,
    "start_time": "2021-12-29T11:03:00.538Z"
   },
   {
    "duration": 6,
    "start_time": "2021-12-29T11:12:09.278Z"
   },
   {
    "duration": 292,
    "start_time": "2021-12-29T11:13:42.013Z"
   },
   {
    "duration": 314,
    "start_time": "2021-12-29T11:14:36.942Z"
   },
   {
    "duration": -340,
    "start_time": "2021-12-29T11:14:49.585Z"
   },
   {
    "duration": -94,
    "start_time": "2021-12-29T11:14:59.002Z"
   },
   {
    "duration": 9,
    "start_time": "2021-12-29T11:16:14.541Z"
   },
   {
    "duration": 31,
    "start_time": "2021-12-29T11:16:18.792Z"
   },
   {
    "duration": 8,
    "start_time": "2021-12-29T11:16:34.381Z"
   },
   {
    "duration": 4243,
    "start_time": "2021-12-29T11:16:36.610Z"
   },
   {
    "duration": 7,
    "start_time": "2021-12-29T11:16:46.439Z"
   },
   {
    "duration": 23,
    "start_time": "2021-12-29T11:16:48.578Z"
   },
   {
    "duration": 20,
    "start_time": "2021-12-29T11:18:19.799Z"
   },
   {
    "duration": 21,
    "start_time": "2021-12-29T11:18:21.334Z"
   },
   {
    "duration": 18,
    "start_time": "2021-12-29T11:18:22.568Z"
   },
   {
    "duration": 23,
    "start_time": "2021-12-29T11:18:24.480Z"
   },
   {
    "duration": 24,
    "start_time": "2021-12-29T11:18:25.530Z"
   },
   {
    "duration": 104,
    "start_time": "2021-12-29T11:25:47.504Z"
   },
   {
    "duration": 375,
    "start_time": "2021-12-29T11:25:57.990Z"
   },
   {
    "duration": 261,
    "start_time": "2021-12-29T11:27:54.577Z"
   },
   {
    "duration": 291,
    "start_time": "2021-12-29T11:30:45.384Z"
   },
   {
    "duration": 273,
    "start_time": "2021-12-29T11:31:46.310Z"
   },
   {
    "duration": 6,
    "start_time": "2021-12-29T11:33:43.011Z"
   },
   {
    "duration": 8,
    "start_time": "2021-12-29T11:33:55.766Z"
   },
   {
    "duration": 6,
    "start_time": "2021-12-29T11:34:00.215Z"
   },
   {
    "duration": 6,
    "start_time": "2021-12-29T11:34:11.557Z"
   },
   {
    "duration": 6,
    "start_time": "2021-12-29T11:34:20.115Z"
   },
   {
    "duration": 13,
    "start_time": "2021-12-29T11:34:37.651Z"
   },
   {
    "duration": 12,
    "start_time": "2021-12-29T11:35:32.847Z"
   },
   {
    "duration": 97,
    "start_time": "2021-12-29T11:36:09.388Z"
   },
   {
    "duration": 6,
    "start_time": "2021-12-29T11:36:15.888Z"
   },
   {
    "duration": 13,
    "start_time": "2021-12-29T11:36:28.541Z"
   },
   {
    "duration": 34,
    "start_time": "2021-12-29T11:36:53.593Z"
   },
   {
    "duration": 66,
    "start_time": "2021-12-29T11:37:23.289Z"
   },
   {
    "duration": 114,
    "start_time": "2021-12-29T11:38:34.601Z"
   },
   {
    "duration": 14,
    "start_time": "2021-12-29T11:40:43.193Z"
   },
   {
    "duration": 31,
    "start_time": "2021-12-29T11:40:55.652Z"
   },
   {
    "duration": 17,
    "start_time": "2021-12-29T11:41:13.929Z"
   },
   {
    "duration": 12,
    "start_time": "2021-12-29T11:41:43.685Z"
   },
   {
    "duration": 34,
    "start_time": "2021-12-29T11:41:59.916Z"
   },
   {
    "duration": 20,
    "start_time": "2021-12-29T11:42:03.575Z"
   },
   {
    "duration": 4,
    "start_time": "2021-12-29T11:44:50.063Z"
   },
   {
    "duration": 6,
    "start_time": "2021-12-29T11:45:50.061Z"
   },
   {
    "duration": 6,
    "start_time": "2021-12-29T11:45:59.064Z"
   },
   {
    "duration": 5,
    "start_time": "2021-12-29T11:46:20.086Z"
   },
   {
    "duration": 5,
    "start_time": "2021-12-29T11:48:16.621Z"
   },
   {
    "duration": 5,
    "start_time": "2021-12-29T11:48:22.598Z"
   },
   {
    "duration": 7,
    "start_time": "2021-12-29T11:50:38.526Z"
   },
   {
    "duration": 6,
    "start_time": "2021-12-29T11:51:24.906Z"
   },
   {
    "duration": 3,
    "start_time": "2021-12-29T11:52:24.262Z"
   },
   {
    "duration": 190,
    "start_time": "2021-12-29T11:52:24.276Z"
   },
   {
    "duration": 15,
    "start_time": "2021-12-29T11:52:24.469Z"
   },
   {
    "duration": 47,
    "start_time": "2021-12-29T11:52:24.486Z"
   },
   {
    "duration": 6,
    "start_time": "2021-12-29T11:52:24.536Z"
   },
   {
    "duration": 33,
    "start_time": "2021-12-29T11:52:24.544Z"
   },
   {
    "duration": 42,
    "start_time": "2021-12-29T11:52:24.579Z"
   },
   {
    "duration": 32,
    "start_time": "2021-12-29T11:52:24.624Z"
   },
   {
    "duration": 23,
    "start_time": "2021-12-29T11:52:24.658Z"
   },
   {
    "duration": 55,
    "start_time": "2021-12-29T11:52:24.684Z"
   },
   {
    "duration": 97,
    "start_time": "2021-12-29T11:52:24.742Z"
   },
   {
    "duration": 113,
    "start_time": "2021-12-29T11:52:24.842Z"
   },
   {
    "duration": 84,
    "start_time": "2021-12-29T11:52:24.958Z"
   },
   {
    "duration": 8,
    "start_time": "2021-12-29T11:52:35.992Z"
   },
   {
    "duration": 17,
    "start_time": "2021-12-29T11:52:52.064Z"
   },
   {
    "duration": 7,
    "start_time": "2021-12-29T11:54:57.337Z"
   },
   {
    "duration": 4,
    "start_time": "2021-12-29T11:55:02.464Z"
   },
   {
    "duration": 214,
    "start_time": "2021-12-29T11:55:02.471Z"
   },
   {
    "duration": 16,
    "start_time": "2021-12-29T11:55:02.688Z"
   },
   {
    "duration": 32,
    "start_time": "2021-12-29T11:55:02.717Z"
   },
   {
    "duration": 5,
    "start_time": "2021-12-29T11:55:02.752Z"
   },
   {
    "duration": 59,
    "start_time": "2021-12-29T11:55:02.760Z"
   },
   {
    "duration": 6,
    "start_time": "2021-12-29T11:55:02.821Z"
   },
   {
    "duration": 37,
    "start_time": "2021-12-29T11:55:02.830Z"
   },
   {
    "duration": 65,
    "start_time": "2021-12-29T11:55:02.873Z"
   },
   {
    "duration": 49,
    "start_time": "2021-12-29T11:55:02.943Z"
   },
   {
    "duration": 128,
    "start_time": "2021-12-29T11:55:03.019Z"
   },
   {
    "duration": 147,
    "start_time": "2021-12-29T11:55:03.151Z"
   },
   {
    "duration": 126,
    "start_time": "2021-12-29T11:55:03.301Z"
   },
   {
    "duration": 20,
    "start_time": "2021-12-29T11:55:03.430Z"
   },
   {
    "duration": 20,
    "start_time": "2021-12-29T11:55:03.453Z"
   },
   {
    "duration": 53,
    "start_time": "2021-12-29T11:55:03.476Z"
   },
   {
    "duration": 94,
    "start_time": "2021-12-29T11:55:03.531Z"
   },
   {
    "duration": 18,
    "start_time": "2021-12-29T11:55:03.628Z"
   },
   {
    "duration": 17,
    "start_time": "2021-12-29T11:55:03.648Z"
   },
   {
    "duration": 6,
    "start_time": "2021-12-29T11:55:03.667Z"
   },
   {
    "duration": 63,
    "start_time": "2021-12-29T11:55:03.675Z"
   },
   {
    "duration": 21,
    "start_time": "2021-12-29T11:55:03.740Z"
   },
   {
    "duration": 21,
    "start_time": "2021-12-29T11:55:03.764Z"
   },
   {
    "duration": 19,
    "start_time": "2021-12-29T11:55:03.818Z"
   },
   {
    "duration": 25,
    "start_time": "2021-12-29T11:55:03.840Z"
   },
   {
    "duration": 54,
    "start_time": "2021-12-29T11:55:03.868Z"
   },
   {
    "duration": 139,
    "start_time": "2021-12-29T11:55:03.927Z"
   },
   {
    "duration": 23,
    "start_time": "2021-12-29T11:55:04.070Z"
   },
   {
    "duration": 31,
    "start_time": "2021-12-29T11:55:04.095Z"
   },
   {
    "duration": 7,
    "start_time": "2021-12-29T11:55:04.128Z"
   },
   {
    "duration": 581,
    "start_time": "2021-12-29T11:55:27.357Z"
   },
   {
    "duration": 6,
    "start_time": "2021-12-29T12:58:56.092Z"
   },
   {
    "duration": 614,
    "start_time": "2021-12-29T12:59:00.821Z"
   },
   {
    "duration": 9,
    "start_time": "2021-12-29T13:00:02.528Z"
   },
   {
    "duration": 606,
    "start_time": "2021-12-29T13:00:04.670Z"
   },
   {
    "duration": 6,
    "start_time": "2021-12-29T13:00:59.067Z"
   },
   {
    "duration": 596,
    "start_time": "2021-12-29T13:01:00.134Z"
   },
   {
    "duration": 513,
    "start_time": "2021-12-29T13:06:56.047Z"
   },
   {
    "duration": 292,
    "start_time": "2021-12-29T13:07:22.427Z"
   },
   {
    "duration": 1093,
    "start_time": "2021-12-29T13:08:29.189Z"
   },
   {
    "duration": 103,
    "start_time": "2021-12-29T13:10:16.575Z"
   },
   {
    "duration": 120,
    "start_time": "2021-12-29T13:10:38.697Z"
   },
   {
    "duration": 399,
    "start_time": "2021-12-29T13:10:45.879Z"
   },
   {
    "duration": 300,
    "start_time": "2021-12-29T13:11:05.197Z"
   },
   {
    "duration": 904,
    "start_time": "2021-12-29T13:22:22.180Z"
   },
   {
    "duration": 8,
    "start_time": "2021-12-29T13:25:52.943Z"
   },
   {
    "duration": 770,
    "start_time": "2021-12-29T13:25:55.038Z"
   },
   {
    "duration": 862,
    "start_time": "2021-12-29T13:36:50.758Z"
   },
   {
    "duration": 6,
    "start_time": "2021-12-29T13:37:11.070Z"
   },
   {
    "duration": 819,
    "start_time": "2021-12-29T13:37:12.643Z"
   },
   {
    "duration": 18,
    "start_time": "2021-12-29T13:39:24.969Z"
   },
   {
    "duration": 33,
    "start_time": "2021-12-29T13:39:26.023Z"
   },
   {
    "duration": 41,
    "start_time": "2021-12-29T13:43:04.982Z"
   },
   {
    "duration": 29,
    "start_time": "2021-12-29T13:43:41.696Z"
   },
   {
    "duration": 18,
    "start_time": "2021-12-29T13:43:54.273Z"
   },
   {
    "duration": 17,
    "start_time": "2021-12-29T13:44:14.169Z"
   },
   {
    "duration": 308,
    "start_time": "2021-12-29T13:48:30.705Z"
   },
   {
    "duration": 372,
    "start_time": "2021-12-29T13:49:03.597Z"
   },
   {
    "duration": 291,
    "start_time": "2021-12-29T13:49:17.943Z"
   },
   {
    "duration": 289,
    "start_time": "2021-12-29T13:49:29.643Z"
   },
   {
    "duration": 405,
    "start_time": "2021-12-29T13:50:08.593Z"
   },
   {
    "duration": 18,
    "start_time": "2021-12-29T13:50:41.642Z"
   },
   {
    "duration": 17,
    "start_time": "2021-12-29T13:50:44.911Z"
   },
   {
    "duration": 300,
    "start_time": "2021-12-29T13:51:07.220Z"
   },
   {
    "duration": 13,
    "start_time": "2021-12-29T13:51:15.287Z"
   },
   {
    "duration": 8,
    "start_time": "2021-12-29T13:51:16.229Z"
   },
   {
    "duration": 14,
    "start_time": "2021-12-29T13:51:29.981Z"
   },
   {
    "duration": 7,
    "start_time": "2021-12-29T13:51:32.838Z"
   },
   {
    "duration": 13,
    "start_time": "2021-12-29T13:51:48.760Z"
   },
   {
    "duration": 7,
    "start_time": "2021-12-29T13:51:49.873Z"
   },
   {
    "duration": 444,
    "start_time": "2021-12-29T13:52:16.824Z"
   },
   {
    "duration": 10,
    "start_time": "2021-12-29T13:52:33.627Z"
   },
   {
    "duration": 8,
    "start_time": "2021-12-29T13:52:57.248Z"
   },
   {
    "duration": 13,
    "start_time": "2021-12-29T13:53:45.850Z"
   },
   {
    "duration": 8,
    "start_time": "2021-12-29T13:53:47.846Z"
   },
   {
    "duration": 9,
    "start_time": "2021-12-29T13:54:08.572Z"
   },
   {
    "duration": 6,
    "start_time": "2021-12-29T13:54:09.885Z"
   },
   {
    "duration": 14,
    "start_time": "2021-12-29T13:54:17.652Z"
   },
   {
    "duration": 10,
    "start_time": "2021-12-29T13:54:18.525Z"
   },
   {
    "duration": 14,
    "start_time": "2021-12-29T14:34:34.801Z"
   },
   {
    "duration": 3,
    "start_time": "2021-12-29T14:34:41.867Z"
   },
   {
    "duration": 203,
    "start_time": "2021-12-29T14:34:42.022Z"
   },
   {
    "duration": 17,
    "start_time": "2021-12-29T14:34:42.228Z"
   },
   {
    "duration": 72,
    "start_time": "2021-12-29T14:34:42.250Z"
   },
   {
    "duration": 8,
    "start_time": "2021-12-29T14:34:42.326Z"
   },
   {
    "duration": 37,
    "start_time": "2021-12-29T14:34:42.339Z"
   },
   {
    "duration": 41,
    "start_time": "2021-12-29T14:34:42.380Z"
   },
   {
    "duration": 42,
    "start_time": "2021-12-29T14:34:42.425Z"
   },
   {
    "duration": 62,
    "start_time": "2021-12-29T14:34:42.470Z"
   },
   {
    "duration": 48,
    "start_time": "2021-12-29T14:34:42.538Z"
   },
   {
    "duration": 148,
    "start_time": "2021-12-29T14:34:42.590Z"
   },
   {
    "duration": 153,
    "start_time": "2021-12-29T14:34:42.741Z"
   },
   {
    "duration": 87,
    "start_time": "2021-12-29T14:34:42.896Z"
   },
   {
    "duration": 33,
    "start_time": "2021-12-29T14:34:42.986Z"
   },
   {
    "duration": 5,
    "start_time": "2021-12-29T14:34:43.022Z"
   },
   {
    "duration": 28,
    "start_time": "2021-12-29T14:34:43.030Z"
   },
   {
    "duration": 17,
    "start_time": "2021-12-29T14:34:43.061Z"
   },
   {
    "duration": 56,
    "start_time": "2021-12-29T14:34:43.082Z"
   },
   {
    "duration": 24,
    "start_time": "2021-12-29T14:34:43.141Z"
   },
   {
    "duration": 6,
    "start_time": "2021-12-29T14:34:43.168Z"
   },
   {
    "duration": 66,
    "start_time": "2021-12-29T14:34:43.176Z"
   },
   {
    "duration": 18,
    "start_time": "2021-12-29T14:34:43.245Z"
   },
   {
    "duration": 19,
    "start_time": "2021-12-29T14:34:43.266Z"
   },
   {
    "duration": 20,
    "start_time": "2021-12-29T14:34:43.317Z"
   },
   {
    "duration": 19,
    "start_time": "2021-12-29T14:34:43.339Z"
   },
   {
    "duration": 57,
    "start_time": "2021-12-29T14:34:43.360Z"
   },
   {
    "duration": 161,
    "start_time": "2021-12-29T14:34:43.420Z"
   },
   {
    "duration": 33,
    "start_time": "2021-12-29T14:34:43.588Z"
   },
   {
    "duration": 22,
    "start_time": "2021-12-29T14:34:43.625Z"
   },
   {
    "duration": 8,
    "start_time": "2021-12-29T14:34:43.650Z"
   },
   {
    "duration": 72,
    "start_time": "2021-12-29T14:34:43.662Z"
   },
   {
    "duration": 20,
    "start_time": "2021-12-29T14:34:43.737Z"
   },
   {
    "duration": 59,
    "start_time": "2021-12-29T14:34:43.760Z"
   },
   {
    "duration": 19,
    "start_time": "2021-12-29T14:34:43.822Z"
   },
   {
    "duration": 13,
    "start_time": "2021-12-29T14:34:43.845Z"
   },
   {
    "duration": 8,
    "start_time": "2021-12-29T14:34:43.861Z"
   },
   {
    "duration": 51,
    "start_time": "2021-12-29T14:34:43.872Z"
   },
   {
    "duration": 8,
    "start_time": "2021-12-29T14:34:43.926Z"
   },
   {
    "duration": 7,
    "start_time": "2021-12-29T14:35:43.083Z"
   },
   {
    "duration": 31,
    "start_time": "2021-12-29T14:35:45.777Z"
   },
   {
    "duration": 20,
    "start_time": "2021-12-29T14:35:46.454Z"
   },
   {
    "duration": 22,
    "start_time": "2021-12-29T14:35:46.984Z"
   },
   {
    "duration": 21,
    "start_time": "2021-12-29T14:35:47.277Z"
   },
   {
    "duration": 30,
    "start_time": "2021-12-29T14:35:47.581Z"
   },
   {
    "duration": 28,
    "start_time": "2021-12-29T14:35:48.091Z"
   },
   {
    "duration": 101,
    "start_time": "2021-12-29T14:35:49.488Z"
   },
   {
    "duration": 18,
    "start_time": "2021-12-29T14:36:01.135Z"
   },
   {
    "duration": 13,
    "start_time": "2021-12-29T14:36:01.539Z"
   },
   {
    "duration": 8,
    "start_time": "2021-12-29T14:36:03.109Z"
   },
   {
    "duration": 6,
    "start_time": "2021-12-29T14:36:27.238Z"
   },
   {
    "duration": 1419,
    "start_time": "2021-12-29T14:36:31.654Z"
   },
   {
    "duration": 138,
    "start_time": "2021-12-29T14:36:57.646Z"
   },
   {
    "duration": 1537,
    "start_time": "2021-12-29T14:37:00.676Z"
   },
   {
    "duration": 1558,
    "start_time": "2021-12-29T14:37:03.240Z"
   },
   {
    "duration": 8,
    "start_time": "2021-12-29T14:37:25.294Z"
   },
   {
    "duration": 35,
    "start_time": "2021-12-29T14:37:27.644Z"
   },
   {
    "duration": 26,
    "start_time": "2021-12-29T14:37:30.958Z"
   },
   {
    "duration": 36,
    "start_time": "2021-12-29T14:37:37.500Z"
   },
   {
    "duration": 24,
    "start_time": "2021-12-29T14:37:37.539Z"
   },
   {
    "duration": 17,
    "start_time": "2021-12-29T14:37:37.567Z"
   },
   {
    "duration": 32,
    "start_time": "2021-12-29T14:37:37.588Z"
   },
   {
    "duration": 13,
    "start_time": "2021-12-29T14:37:37.624Z"
   },
   {
    "duration": 9,
    "start_time": "2021-12-29T14:37:37.640Z"
   },
   {
    "duration": 144,
    "start_time": "2021-12-30T14:34:02.659Z"
   },
   {
    "duration": 10,
    "start_time": "2021-12-30T14:36:17.194Z"
   }
  ],
  "colab": {
   "collapsed_sections": [
    "E0vqbgi9ay0H",
    "VUC88oWjTJw2"
   ],
   "name": "yandex_music_project_2021.2.ipynb",
   "provenance": []
  },
  "kernelspec": {
   "display_name": "Python 3 (ipykernel)",
   "language": "python",
   "name": "python3"
  },
  "language_info": {
   "codemirror_mode": {
    "name": "ipython",
    "version": 3
   },
   "file_extension": ".py",
   "mimetype": "text/x-python",
   "name": "python",
   "nbconvert_exporter": "python",
   "pygments_lexer": "ipython3",
   "version": "3.9.7"
  },
  "toc": {
   "base_numbering": 1,
   "nav_menu": {},
   "number_sections": true,
   "sideBar": true,
   "skip_h1_title": true,
   "title_cell": "Table of Contents",
   "title_sidebar": "Contents",
   "toc_cell": false,
   "toc_position": {
    "height": "calc(100% - 180px)",
    "left": "10px",
    "top": "150px",
    "width": "165px"
   },
   "toc_section_display": true,
   "toc_window_display": true
  }
 },
 "nbformat": 4,
 "nbformat_minor": 1
}
