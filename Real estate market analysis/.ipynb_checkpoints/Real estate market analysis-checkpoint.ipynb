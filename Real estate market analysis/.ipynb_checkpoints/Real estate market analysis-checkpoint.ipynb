{
 "cells": [
  {
   "cell_type": "markdown",
   "metadata": {},
   "source": [
    "# Study of ads for the sale of apartments\n",
    "\n",
    "At your disposal is the data of the Yandex.Realty service - an archive of ads for the sale of apartments in St. Petersburg and neighboring settlements for several years. You need to learn how to determine the market value of real estate. Your job is to set the parameters. This will allow to build an automated system: it will track anomalies and fraudulent activity.\n",
    "\n",
    "Two types of data are available for each apartment for sale. The first ones are entered by the user, the second ones are obtained automatically on the basis of cartographic data. For example, the distance to the center, airport, nearest park and reservoir.\n",
    "\n",
    "Target:\n",
    "answer the question what factors most affect the cost of an apartment?\n",
    "Study the dependence of the price on the date of placement: day of the week, month and year.\n",
    "Choose 10 settlements with the largest number of ads. Calculate the average price per square meter in these settlements.\n",
    "Select the settlements with the highest and lowest cost of housing."
   ]
  },
  {
   "cell_type": "markdown",
   "metadata": {
    "toc": true
   },
   "source": [
    "<h1>Contents<span class=\"tocSkip\"></span></h1>\n",
    "<div class=\"toc\"><ul class=\"toc-item\"><li><span><a href=\"#Exploring-data-from-a-file\" data-toc-modified-id=\"Exploring-data-from-a-file-1\"><span class=\"toc-item-num\">1&nbsp;&nbsp;</span>Exploring data from a file</a></span><ul class=\"toc-item\"><li><span><a href=\"#Conclusion\" data-toc-modified-id=\"Conclusion-1.1\"><span class=\"toc-item-num\">1.1&nbsp;&nbsp;</span>Conclusion</a></span></li></ul></li><li><span><a href=\"#Data-preprocessing\" data-toc-modified-id=\"Data-preprocessing-2\"><span class=\"toc-item-num\">2&nbsp;&nbsp;</span>Data preprocessing</a></span></li><li><span><a href=\"#Calculations-and-adding-results-to-the-table\" data-toc-modified-id=\"Calculations-and-adding-results-to-the-table-3\"><span class=\"toc-item-num\">3&nbsp;&nbsp;</span>Calculations and adding results to the table</a></span><ul class=\"toc-item\"><li><span><a href=\"#Conclusion\" data-toc-modified-id=\"Conclusion-3.1\"><span class=\"toc-item-num\">3.1&nbsp;&nbsp;</span>Conclusion</a></span></li></ul></li><li><span><a href=\"#Exploratory-data-analysis\" data-toc-modified-id=\"Exploratory-data-analysis-4\"><span class=\"toc-item-num\">4&nbsp;&nbsp;</span>Exploratory data analysis</a></span></li><li><span><a href=\"#Total-conclusion\" data-toc-modified-id=\"Total-conclusion-5\"><span class=\"toc-item-num\">5&nbsp;&nbsp;</span>Total conclusion</a></span></li></ul></div>"
   ]
  },
  {
   "cell_type": "markdown",
   "metadata": {},
   "source": [
    "## Exploring data from a file"
   ]
  },
  {
   "cell_type": "code",
   "execution_count": 1,
   "metadata": {},
   "outputs": [],
   "source": [
    "import pandas as pd\n",
    "import matplotlib.pyplot as plt \n",
    "import seaborn as sb\n",
    "import numpy as np\n",
    "import math\n",
    "\n",
    "pd.set_option(\"display.max_rows\", 30)\n",
    "pd.set_option('display.max_columns', None)"
   ]
  },
  {
   "cell_type": "code",
   "execution_count": 2,
   "metadata": {},
   "outputs": [
    {
     "name": "stdout",
     "output_type": "stream",
     "text": [
      "<class 'pandas.core.frame.DataFrame'>\n",
      "RangeIndex: 23699 entries, 0 to 23698\n",
      "Data columns (total 22 columns):\n",
      " #   Column                Non-Null Count  Dtype  \n",
      "---  ------                --------------  -----  \n",
      " 0   total_images          23699 non-null  int64  \n",
      " 1   last_price            23699 non-null  float64\n",
      " 2   total_area            23699 non-null  float64\n",
      " 3   first_day_exposition  23699 non-null  object \n",
      " 4   rooms                 23699 non-null  int64  \n",
      " 5   ceiling_height        14504 non-null  float64\n",
      " 6   floors_total          23613 non-null  float64\n",
      " 7   living_area           21796 non-null  float64\n",
      " 8   floor                 23699 non-null  int64  \n",
      " 9   is_apartment          2775 non-null   object \n",
      " 10  studio                23699 non-null  bool   \n",
      " 11  open_plan             23699 non-null  bool   \n",
      " 12  kitchen_area          21421 non-null  float64\n",
      " 13  balcony               12180 non-null  float64\n",
      " 14  locality_name         23650 non-null  object \n",
      " 15  airports_nearest      18157 non-null  float64\n",
      " 16  cityCenters_nearest   18180 non-null  float64\n",
      " 17  parks_around3000      18181 non-null  float64\n",
      " 18  parks_nearest         8079 non-null   float64\n",
      " 19  ponds_around3000      18181 non-null  float64\n",
      " 20  ponds_nearest         9110 non-null   float64\n",
      " 21  days_exposition       20518 non-null  float64\n",
      "dtypes: bool(2), float64(14), int64(3), object(3)\n",
      "memory usage: 3.7+ MB\n"
     ]
    },
    {
     "data": {
      "text/html": [
       "<div>\n",
       "<style scoped>\n",
       "    .dataframe tbody tr th:only-of-type {\n",
       "        vertical-align: middle;\n",
       "    }\n",
       "\n",
       "    .dataframe tbody tr th {\n",
       "        vertical-align: top;\n",
       "    }\n",
       "\n",
       "    .dataframe thead th {\n",
       "        text-align: right;\n",
       "    }\n",
       "</style>\n",
       "<table border=\"1\" class=\"dataframe\">\n",
       "  <thead>\n",
       "    <tr style=\"text-align: right;\">\n",
       "      <th></th>\n",
       "      <th>total_images</th>\n",
       "      <th>last_price</th>\n",
       "      <th>total_area</th>\n",
       "      <th>first_day_exposition</th>\n",
       "      <th>rooms</th>\n",
       "      <th>ceiling_height</th>\n",
       "      <th>floors_total</th>\n",
       "      <th>living_area</th>\n",
       "      <th>floor</th>\n",
       "      <th>is_apartment</th>\n",
       "      <th>studio</th>\n",
       "      <th>open_plan</th>\n",
       "      <th>kitchen_area</th>\n",
       "      <th>balcony</th>\n",
       "      <th>locality_name</th>\n",
       "      <th>airports_nearest</th>\n",
       "      <th>cityCenters_nearest</th>\n",
       "      <th>parks_around3000</th>\n",
       "      <th>parks_nearest</th>\n",
       "      <th>ponds_around3000</th>\n",
       "      <th>ponds_nearest</th>\n",
       "      <th>days_exposition</th>\n",
       "    </tr>\n",
       "  </thead>\n",
       "  <tbody>\n",
       "    <tr>\n",
       "      <th>23694</th>\n",
       "      <td>9</td>\n",
       "      <td>9700000.0</td>\n",
       "      <td>133.81</td>\n",
       "      <td>2017-03-21T00:00:00</td>\n",
       "      <td>3</td>\n",
       "      <td>3.7</td>\n",
       "      <td>5.0</td>\n",
       "      <td>73.3</td>\n",
       "      <td>3</td>\n",
       "      <td>NaN</td>\n",
       "      <td>False</td>\n",
       "      <td>False</td>\n",
       "      <td>13.83</td>\n",
       "      <td>NaN</td>\n",
       "      <td>Санкт-Петербург</td>\n",
       "      <td>24665.0</td>\n",
       "      <td>4232.0</td>\n",
       "      <td>1.0</td>\n",
       "      <td>796.0</td>\n",
       "      <td>3.0</td>\n",
       "      <td>381.0</td>\n",
       "      <td>NaN</td>\n",
       "    </tr>\n",
       "    <tr>\n",
       "      <th>23695</th>\n",
       "      <td>14</td>\n",
       "      <td>3100000.0</td>\n",
       "      <td>59.00</td>\n",
       "      <td>2018-01-15T00:00:00</td>\n",
       "      <td>3</td>\n",
       "      <td>NaN</td>\n",
       "      <td>5.0</td>\n",
       "      <td>38.0</td>\n",
       "      <td>4</td>\n",
       "      <td>NaN</td>\n",
       "      <td>False</td>\n",
       "      <td>False</td>\n",
       "      <td>8.50</td>\n",
       "      <td>NaN</td>\n",
       "      <td>Тосно</td>\n",
       "      <td>NaN</td>\n",
       "      <td>NaN</td>\n",
       "      <td>NaN</td>\n",
       "      <td>NaN</td>\n",
       "      <td>NaN</td>\n",
       "      <td>NaN</td>\n",
       "      <td>45.0</td>\n",
       "    </tr>\n",
       "    <tr>\n",
       "      <th>23696</th>\n",
       "      <td>18</td>\n",
       "      <td>2500000.0</td>\n",
       "      <td>56.70</td>\n",
       "      <td>2018-02-11T00:00:00</td>\n",
       "      <td>2</td>\n",
       "      <td>NaN</td>\n",
       "      <td>3.0</td>\n",
       "      <td>29.7</td>\n",
       "      <td>1</td>\n",
       "      <td>NaN</td>\n",
       "      <td>False</td>\n",
       "      <td>False</td>\n",
       "      <td>NaN</td>\n",
       "      <td>NaN</td>\n",
       "      <td>село Рождествено</td>\n",
       "      <td>NaN</td>\n",
       "      <td>NaN</td>\n",
       "      <td>NaN</td>\n",
       "      <td>NaN</td>\n",
       "      <td>NaN</td>\n",
       "      <td>NaN</td>\n",
       "      <td>NaN</td>\n",
       "    </tr>\n",
       "    <tr>\n",
       "      <th>23697</th>\n",
       "      <td>13</td>\n",
       "      <td>11475000.0</td>\n",
       "      <td>76.75</td>\n",
       "      <td>2017-03-28T00:00:00</td>\n",
       "      <td>2</td>\n",
       "      <td>3.0</td>\n",
       "      <td>17.0</td>\n",
       "      <td>NaN</td>\n",
       "      <td>12</td>\n",
       "      <td>NaN</td>\n",
       "      <td>False</td>\n",
       "      <td>False</td>\n",
       "      <td>23.30</td>\n",
       "      <td>2.0</td>\n",
       "      <td>Санкт-Петербург</td>\n",
       "      <td>39140.0</td>\n",
       "      <td>10364.0</td>\n",
       "      <td>2.0</td>\n",
       "      <td>173.0</td>\n",
       "      <td>3.0</td>\n",
       "      <td>196.0</td>\n",
       "      <td>602.0</td>\n",
       "    </tr>\n",
       "    <tr>\n",
       "      <th>23698</th>\n",
       "      <td>4</td>\n",
       "      <td>1350000.0</td>\n",
       "      <td>32.30</td>\n",
       "      <td>2017-07-21T00:00:00</td>\n",
       "      <td>1</td>\n",
       "      <td>2.5</td>\n",
       "      <td>5.0</td>\n",
       "      <td>12.3</td>\n",
       "      <td>1</td>\n",
       "      <td>NaN</td>\n",
       "      <td>False</td>\n",
       "      <td>False</td>\n",
       "      <td>9.00</td>\n",
       "      <td>NaN</td>\n",
       "      <td>поселок Новый Учхоз</td>\n",
       "      <td>NaN</td>\n",
       "      <td>NaN</td>\n",
       "      <td>NaN</td>\n",
       "      <td>NaN</td>\n",
       "      <td>NaN</td>\n",
       "      <td>NaN</td>\n",
       "      <td>NaN</td>\n",
       "    </tr>\n",
       "  </tbody>\n",
       "</table>\n",
       "</div>"
      ],
      "text/plain": [
       "       total_images  last_price  total_area first_day_exposition  rooms  \\\n",
       "23694             9   9700000.0      133.81  2017-03-21T00:00:00      3   \n",
       "23695            14   3100000.0       59.00  2018-01-15T00:00:00      3   \n",
       "23696            18   2500000.0       56.70  2018-02-11T00:00:00      2   \n",
       "23697            13  11475000.0       76.75  2017-03-28T00:00:00      2   \n",
       "23698             4   1350000.0       32.30  2017-07-21T00:00:00      1   \n",
       "\n",
       "       ceiling_height  floors_total  living_area  floor is_apartment  studio  \\\n",
       "23694             3.7           5.0         73.3      3          NaN   False   \n",
       "23695             NaN           5.0         38.0      4          NaN   False   \n",
       "23696             NaN           3.0         29.7      1          NaN   False   \n",
       "23697             3.0          17.0          NaN     12          NaN   False   \n",
       "23698             2.5           5.0         12.3      1          NaN   False   \n",
       "\n",
       "       open_plan  kitchen_area  balcony        locality_name  \\\n",
       "23694      False         13.83      NaN      Санкт-Петербург   \n",
       "23695      False          8.50      NaN                Тосно   \n",
       "23696      False           NaN      NaN     село Рождествено   \n",
       "23697      False         23.30      2.0      Санкт-Петербург   \n",
       "23698      False          9.00      NaN  поселок Новый Учхоз   \n",
       "\n",
       "       airports_nearest  cityCenters_nearest  parks_around3000  parks_nearest  \\\n",
       "23694           24665.0               4232.0               1.0          796.0   \n",
       "23695               NaN                  NaN               NaN            NaN   \n",
       "23696               NaN                  NaN               NaN            NaN   \n",
       "23697           39140.0              10364.0               2.0          173.0   \n",
       "23698               NaN                  NaN               NaN            NaN   \n",
       "\n",
       "       ponds_around3000  ponds_nearest  days_exposition  \n",
       "23694               3.0          381.0              NaN  \n",
       "23695               NaN            NaN             45.0  \n",
       "23696               NaN            NaN              NaN  \n",
       "23697               3.0          196.0            602.0  \n",
       "23698               NaN            NaN              NaN  "
      ]
     },
     "execution_count": 2,
     "metadata": {},
     "output_type": "execute_result"
    }
   ],
   "source": [
    "data = pd.read_csv('real_estate_data.csv', sep='\\t')\n",
    "data_rows_bef = data['total_images'].count() # the variable stores the initial number of rows\n",
    "data.info()\n",
    "data.tail()"
   ]
  },
  {
   "cell_type": "markdown",
   "metadata": {},
   "source": [
    "### Conclusion"
   ]
  },
  {
   "cell_type": "markdown",
   "metadata": {},
   "source": [
    "This study is based on the \"real_estate_data.csv\" table, which contains 22 columns with 23699 rows, however, the number of non-zero cells in different columns will differ, in some columns the values ​​do not correspond to the type declared in the documentation.\n",
    "For example, the description of the data specifies that the \"is_apartment\" column must be of boolean type, but the call to the .info() command indicates that this column contains the \"object\" data type.\n",
    "The output of the first five lines showed a large number of gaps in various columns and rows.\n",
    "Calling the tail() function showed that ads located outside St. Petersburg may lack almost all values. However, this hypothesis requires further study.\n",
    "From all of the above, we can conclude that the table is heterogeneous and requires pre-processing before starting the study."
   ]
  },
  {
   "cell_type": "markdown",
   "metadata": {},
   "source": [
    "## Data preprocessing"
   ]
  },
  {
   "cell_type": "code",
   "execution_count": 3,
   "metadata": {
    "scrolled": false
   },
   "outputs": [
    {
     "name": "stdout",
     "output_type": "stream",
     "text": [
      "0 duplicates were found\n"
     ]
    }
   ],
   "source": [
    "print(data.duplicated().sum(), 'duplicates were found')"
   ]
  },
  {
   "cell_type": "code",
   "execution_count": 4,
   "metadata": {
    "scrolled": false
   },
   "outputs": [],
   "source": [
    "data['last_price']=data['last_price']/10**6 \n",
    "# For ease of perception of information, we will indicate the price for the object in millions of rubles."
   ]
  },
  {
   "cell_type": "code",
   "execution_count": 5,
   "metadata": {},
   "outputs": [],
   "source": [
    "data['total_images']=data['total_images'].astype('int')\n",
    "# the values in the column for the number of photos will be converted \n",
    "# to an integer type to match the value of the column"
   ]
  },
  {
   "cell_type": "code",
   "execution_count": 6,
   "metadata": {},
   "outputs": [],
   "source": [
    "# Let's translate the values in the column 'floors_total' into int\n",
    "data['floors_total'].fillna(0).astype('int')\n",
    "data.loc[(data['floors_total'] == 0 ), 'floors_total'] = np.NaN"
   ]
  },
  {
   "cell_type": "markdown",
   "metadata": {},
   "source": [
    "For further work on the study, we will clarify the interpretation of the correlation coefficient (according to Ivanter E.V., Korosov A.V.):\n",
    "\n",
    "strong at correlation coefficient r>0.70\n",
    "\n",
    "medium at 0.50<r<0.69;\n",
    "\n",
    "moderate at 0.30<r<0.49;\n",
    "\n",
    "weak at 0.20<r<0.29;\n",
    "\n",
    "very weak at r<0.19."
   ]
  },
  {
   "cell_type": "code",
   "execution_count": 7,
   "metadata": {},
   "outputs": [
    {
     "name": "stderr",
     "output_type": "stream",
     "text": [
      "/Users/maksimkeller/opt/anaconda3/lib/python3.9/site-packages/seaborn/_decorators.py:36: FutureWarning: Pass the following variables as keyword args: x, y. From version 0.12, the only valid positional argument will be `data`, and passing other arguments without an explicit keyword will result in an error or misinterpretation.\n",
      "  warnings.warn(\n",
      "/Users/maksimkeller/opt/anaconda3/lib/python3.9/site-packages/seaborn/_decorators.py:36: FutureWarning: Pass the following variables as keyword args: x, y. From version 0.12, the only valid positional argument will be `data`, and passing other arguments without an explicit keyword will result in an error or misinterpretation.\n",
      "  warnings.warn(\n"
     ]
    },
    {
     "name": "stdout",
     "output_type": "stream",
     "text": [
      "Correlation coefficient between total area and living area: 0.9395373338721498\n",
      "Correlation coefficient between total area and kitchen area: 0.6091211711198319\n",
      "Correlation coefficient between total area and kitchen area in one room appartment: 0.6859333443303643\n",
      "Correlation coefficient between total area and kitchen area in two room appartment: 0.7219725270005756\n",
      "Correlation coefficient between living area and kitchen area: 0.4286743066844123\n"
     ]
    },
    {
     "data": {
      "image/png": "[encoded data removed]",
      "text/plain": [
       "<Figure size 432x288 with 1 Axes>"
      ]
     },
     "metadata": {
      "needs_background": "light"
     },
     "output_type": "display_data"
    },
    {
     "data": {
      "image/png": "[encoded data removed]",
      "text/plain": [
       "<Figure size 432x288 with 1 Axes>"
      ]
     },
     "metadata": {
      "needs_background": "light"
     },
     "output_type": "display_data"
    }
   ],
   "source": [
    "# Let's find the connection of the column, the values in which are \n",
    "# most correlated with the values of the total area of the premises\n",
    "fig, ax = plt.subplots()\n",
    "sb.regplot('living_area', 'total_area', data=data)\n",
    "ax.set_title('Correlation of living area and total area')\n",
    "plt.xlabel('living area')\n",
    "plt.ylabel('total area')\n",
    "fig, ax = plt.subplots()\n",
    "sb.regplot('kitchen_area', 'total_area', data=data)\n",
    "ax.set_title('Correlation of kitchen area and total area')\n",
    "plt.xlabel('kitchen area')\n",
    "plt.ylabel('total area')\n",
    "print('Correlation coefficient between total area and living area:',data['living_area'].corr(data['total_area']))\n",
    "print('Correlation coefficient between total area and kitchen area:',data['kitchen_area'].corr(data['total_area']))\n",
    "print('Correlation coefficient between total area and kitchen area in one room appartment:',data.loc[data['rooms']==1,'kitchen_area'].corr(data.loc[data['rooms']==1,'total_area']))\n",
    "print('Correlation coefficient between total area and kitchen area in two room appartment:',data.loc[data['rooms']==2,'kitchen_area'].corr(data.loc[data['rooms']==2,'total_area']))\n",
    "print('Correlation coefficient between living area and kitchen area:',data['kitchen_area'].corr(data['living_area']))\n"
   ]
  },
  {
   "cell_type": "code",
   "execution_count": 8,
   "metadata": {
    "scrolled": false
   },
   "outputs": [],
   "source": [
    "data_living_area = data[data['living_area'].isna() == False].copy()\n",
    "data_living_area['middle_livind_area']= data_living_area['total_area']/ data_living_area['living_area']\n",
    "\n",
    "living_const = data_living_area['middle_livind_area'].mean()\n",
    "\n",
    "data['living_area'] = data['living_area'].fillna(0)"
   ]
  },
  {
   "cell_type": "code",
   "execution_count": 9,
   "metadata": {
    "scrolled": true
   },
   "outputs": [],
   "source": [
    "data.loc[data['living_area'] == 0, 'living_area']= round(data.loc[data['living_area'] == 0 ,'total_area']/ living_const,1)\n",
    "# calculate the living area based on the median"
   ]
  },
  {
   "cell_type": "code",
   "execution_count": 10,
   "metadata": {},
   "outputs": [],
   "source": [
    "data_kitchen_area = data[data['kitchen_area'].isna() == False].copy()\n",
    "data['kitchen_area'] = data['kitchen_area'].fillna(0)\n",
    "kitchen_area_consts = []\n",
    "for i in range(1,20):\n",
    "    data_kitchen_area.loc[data_kitchen_area['rooms']== i, 'middle_kitchen_area']= data_kitchen_area.loc[data_kitchen_area['rooms']== i,'total_area']/ data_kitchen_area.loc[data_kitchen_area['rooms']== i,'kitchen_area']\n",
    "    kitchen_area_consts.append(data_kitchen_area.loc[data_kitchen_area['rooms']== i,'middle_kitchen_area'].mean())\n",
    "    data.loc[((data['kitchen_area'] == 0) & (data['rooms'] == i)), 'kitchen_area']= round((data.loc[((data['kitchen_area'] == 0) &  (data['rooms'] == i)),'total_area']/ kitchen_area_consts[i-1]),1)"
   ]
  },
  {
   "cell_type": "code",
   "execution_count": 11,
   "metadata": {
    "scrolled": false
   },
   "outputs": [],
   "source": [
    "data['balcony']=data['balcony'].fillna(0).astype('int') \n",
    "# we understand that this advertisement doesn't contain information about the number of balconies"
   ]
  },
  {
   "cell_type": "code",
   "execution_count": 12,
   "metadata": {
    "scrolled": false
   },
   "outputs": [],
   "source": [
    "data['locality_name'].value_counts()\n",
    "\n",
    "data.loc[data['locality_name'] == 'посёлок Мурино', 'locality_name']= 'Мурино'\n",
    "data.loc[data['locality_name'] == 'поселок Мурино', 'locality_name']= 'Мурино'"
   ]
  },
  {
   "cell_type": "markdown",
   "metadata": {},
   "source": [
    "Murino has gained city status since 2019.\n",
    "Checking the spelling of the 10 largest cities of the Leningrad Region showed that only Murino has a difference in spelling. Moreover, there are 3 spelling options: Murino, the village of Murino and the village of Murino. All of them were combined into one name.\n",
    "8 cannot be determined at all.\n",
    "With the help of third-party services https://www.calcmaps.com/ru/map-radius/ you can see that if you build a circle centered on Palace Square and capture such satellite cities that are part of the federal city of St. Petersburg, like Pushkin and Kolpino, then the radius of the resulting circle will be about 25 km.\n",
    "We will assume that apartments, the distance from which to the center is not more than 25 km. are located in St. Petersburg.\n",
    "Thus, we get that the percentage of data without belonging to any of the cities is less than 1%. These data will be removed from further research, based on the impossibility of accurately establishing their belonging to one of the cities."
   ]
  },
  {
   "cell_type": "code",
   "execution_count": 13,
   "metadata": {
    "scrolled": true
   },
   "outputs": [],
   "source": [
    "city_distance = {\n",
    "    'locality_name': ['Мурино','Всеволожск','Гатчина', 'деревня Кудрово', 'Выборг', 'Кудрово', 'деревня Новое Девяткино', 'Сертолово',\n",
    "            'Кириши', 'Сланцы', 'Волхов', 'Тосно', 'Кингисепп', 'Никольское','Коммунар', 'Сосновый Бор', 'Кировск', 'Отрадное', 'Приозерск'],\n",
    "        'cityCenters_nearest': [14000, 21000, 43000, 12000, 122000, 12000, 16000, 24000, 110000, 154000, 115000, 55000, 113000, 38000, 35000,\n",
    "                                68000, 39000, 33000, 123000]\n",
    "}\n",
    "df = pd.DataFrame(city_distance)\n",
    "\n",
    "for i in range(len(df['locality_name'])):\n",
    "    data.loc[data['locality_name'] == df.loc[i,'locality_name'], 'cityCenters_nearest'] = df.loc[i,'cityCenters_nearest']\n",
    "    \n",
    "\n",
    "data.loc[(data['locality_name'] == 0 ), 'locality_name'] = np.NaN"
   ]
  },
  {
   "cell_type": "code",
   "execution_count": 14,
   "metadata": {},
   "outputs": [],
   "source": [
    "data.loc[data['parks_nearest'].isna(), 'parks_around3000'].unique()\n",
    "# got that if parks_nearest = Nan, then parks_around3000- 0., nan\n",
    "data.loc[data['parks_nearest']==0, 'parks_around3000']\n",
    "# got that if parks_nearest = 0, then parks_nearest- nan\n",
    "data.loc[data['parks_around3000'].isna(), 'parks_nearest'].unique()\n",
    "# got that if parks_around3000 = Nan, then parks_nearest- nan\n",
    "data.loc[data['parks_around3000']==0, 'parks_nearest'].unique()\n",
    "# got that if parks_around3000 = 0, then parks_nearest- nan, 3064., 3190., 3013.]\n",
    "\n",
    "# Let's assume that if in St. Petersburg and the Leningrad Region if there is a reservoir somewhere, then there must be a park nearby. \n",
    "# Therefore, if the table shows the distance to the nearest body of water, but does not indicate the distance to the nearest park, \n",
    "# then the distance to the nearest park will be equal to the distance to the nearest body of water.\n",
    "data.loc[data['parks_nearest'].isna() & data['ponds_nearest'] !=0, ['parks_nearest']]= data.loc[data['parks_nearest'].isna(), 'ponds_nearest'] "
   ]
  },
  {
   "cell_type": "markdown",
   "metadata": {},
   "source": [
    "**Conclusion**\n",
    "\n",
    "At this stage, the dataset was examined for duplicates (they were not identified). In the \"last_price\" column, all values are recalculated in million rubles to facilitate the perception of numerical values in further research. In the \"total_images\" column, all values are converted to int type.\n",
    "\n",
    "The values in the 'floors_total' column were examined. It was hypothesized that if values are missing in this column, this means that the building in which the apartment is located has one floor. However, a study of the data showed that if the values of the total number of floors are missing in the column, the floor column on which the apartment is located can have different non-zero values. Not being able to obtain additional information on this data, we will not fill in the gaps, but we will transfer all available values to the int type.\n",
    "\n",
    "An analysis was then made to establish a measure of the correlation of values in the 'total_area' column with values in other columns.\n",
    "At this stage, graphs were presented that show the presence of outlier-like values, but detailed work on them was done in subsequent stages (according to these recommendations).\n",
    "\n",
    "According to the data obtained, we note that there is a strong correlation between total and living space. This relationship will allow us to fill in the gaps. Note that there is no need to fill in the gaps in 'total_area' since there are no such gaps in this table.\n",
    "Next, according to the established relationships, we will fill in the gaps in the 'kitchen_area' column.\n",
    "In the 'balcony' column, we fill in all the gaps with zeros, assuming that if there is no data, this means that the apartment does not have a balcony.\n",
    "\n",
    "Separately, we note that there is a relationship between the number of rooms and the kitchen area. If there are 0 rooms, then the area of the kitchen is 0, but only a part of these rooms is marked as a studio. Note that for further research, the values in the studio column will not be used, so without having a clear idea of what data should be filled in this column, the values will be left unchanged.\n",
    "When examining the values in the 'locality_name' column, a discrepancy was noticed in the spelling of the name of the settlement Murino. This is partly due to the fact that since 2019 the settlement has the status of a city. Further analysis of the 10 largest cities in the Leningrad region showed that there are no differences in spelling.\n",
    "\n",
    "For further research, we will argue that if the apartment is within a radius of 25 km. from the center, we will assume that it is located in St. Petersburg (the number 25 was obtained at the entrance to constructing a circle with a center on Palace Square and capturing the extreme northern and southern parts of the city)\n",
    "\n",
    "Further, for apartments for which the settlement is known, but the distance to the center is unknown, the value in the 'cityCenters_nearest' column was filled in. The values were taken in Yandex.Maps, taking into account the distance from the center of the settlement to Palace Square.\n",
    "Finally, the values in the columns 'parks_nearest', 'parks_around3000', 'ponds_nearest' were checked to fill in the gaps.\n",
    "\n",
    "It is important to note the reason for the gaps in the columns. Although part of the data, according to the terms of reference, was filled in automatically, however, the main reason for the omissions should be considered the human factor. It can be assumed that some of the data was not filled in due to the fact that the people who entered the values did not know some of the data and skipped it or entered indicators that did not correspond to reality (this aspect will be discussed in more detail in Part 4). It is important to note that in this case, most of the data looks reliable, from which it can be concluded that it is possible to conduct a study, the sample is representative."
   ]
  },
  {
   "cell_type": "markdown",
   "metadata": {},
   "source": [
    "## Calculations and adding results to the table"
   ]
  },
  {
   "cell_type": "code",
   "execution_count": 15,
   "metadata": {},
   "outputs": [],
   "source": [
    "data['first_day_exposition'] = pd.to_datetime(data['first_day_exposition'], format='%Y-%m-%d') \n",
    "# it's easy to see that the time in the date column is always 00:00:00. \n",
    "#For this study, rounding to the nearest day would be acceptable.\n",
    "# we cover a span of several years, so rounding to the nearest day is acceptable\n",
    "data.insert(4,'weekday', data['first_day_exposition'].dt.weekday)\n",
    "data.insert(5,'month', pd.DatetimeIndex(data['first_day_exposition']).month)\n",
    "data.insert(6,'year', pd.DatetimeIndex(data['first_day_exposition']).year)\n",
    "\n",
    "s = pd.Series(['Пн.','Вт.', 'Ср.', 'Чт.', 'Пт.', 'Сб.', 'Вс.'])\n",
    "\n",
    "for i in range(7):\n",
    "    data.loc[data['weekday'] == i,'weekday'] = s[i]\n"
   ]
  },
  {
   "cell_type": "code",
   "execution_count": 16,
   "metadata": {},
   "outputs": [],
   "source": [
    "data.insert(2,'price_per_meter', round((1000 * data['last_price']/data['total_area'])))\n",
    "# price per square meter in thousand rub."
   ]
  },
  {
   "cell_type": "code",
   "execution_count": 17,
   "metadata": {},
   "outputs": [],
   "source": [
    "def floor_cat (row):\n",
    "    '''\n",
    "    input: row - database with columns floor and floor_total\n",
    "    output: column where category will be indicated: first-last-other \n",
    "    '''\n",
    "    floor = row['floor']\n",
    "    if floor == 1:\n",
    "        return 'first'\n",
    "    elif floor == row['floors_total']:\n",
    "        return 'last'\n",
    "    else:\n",
    "        return 'other'\n",
    "\n",
    "data.insert(9,'floor_category', data.apply(floor_cat, axis=1))"
   ]
  },
  {
   "cell_type": "code",
   "execution_count": 18,
   "metadata": {},
   "outputs": [],
   "source": [
    "# add new columns: the ratio of living and total area, as well as the ratio of kitchen area to total in percent\n",
    "data.insert(11,'living_perc', round(data['living_area']/data['total_area']*100))\n",
    "data.insert(17,'kitchen_perc', round(data['kitchen_area']/data['total_area']*100))"
   ]
  },
  {
   "cell_type": "markdown",
   "metadata": {},
   "source": [
    "### Conclusion\n",
    "\n",
    "In this section, the preparatory work has been completed.\n",
    "\n",
    "The values in the \"first_day_exposition\" column are converted to YYYY-MM-DD. Values ​​have been cast to datetime64 to the nearest day, a rounding that is acceptable given the study's hypotheses and the time span covered by the study. The days of the week, month and year in which the ad was posted were entered in a separate column.\n",
    "\n",
    "Columns were added with the price per square meter in thousands of rubles and the percentage of living space and kitchen to the total area of ​​the premises.\n",
    "\n",
    "The categorization of the floor of the apartment was made: first-last-other."
   ]
  },
  {
   "cell_type": "markdown",
   "metadata": {},
   "source": [
    "## Exploratory data analysis"
   ]
  },
  {
   "cell_type": "code",
   "execution_count": 19,
   "metadata": {},
   "outputs": [
    {
     "name": "stdout",
     "output_type": "stream",
     "text": [
      "count    23699.000000\n",
      "mean        60.348651\n",
      "std         35.654083\n",
      "min         12.000000\n",
      "25%         40.000000\n",
      "50%         52.000000\n",
      "75%         69.900000\n",
      "max        900.000000\n",
      "Name: total_area, dtype: float64\n"
     ]
    },
    {
     "data": {
      "image/png": "[encoded data removed]",
      "text/plain": [
       "<Figure size 432x288 with 1 Axes>"
      ]
     },
     "metadata": {
      "needs_background": "light"
     },
     "output_type": "display_data"
    },
    {
     "data": {
      "image/png": "[encoded data removed]",
      "text/plain": [
       "<Figure size 432x288 with 1 Axes>"
      ]
     },
     "metadata": {
      "needs_background": "light"
     },
     "output_type": "display_data"
    }
   ],
   "source": [
    "# Examine the values in the area column\n",
    "print(data['total_area'].describe())\n",
    "\n",
    "plt.hist(data['total_area'], bins = 400)\n",
    "\n",
    "plt.show()\n",
    "\n",
    "sb.boxplot( x=data['total_area'])\n",
    "plt.show()\n",
    "\n",
    "# It is possible to see that there are values that are very much out of the picture."
   ]
  },
  {
   "cell_type": "code",
   "execution_count": 20,
   "metadata": {},
   "outputs": [],
   "source": [
    "def plot_subs(feature, suptitle, title1, title2, xlabel1, xlabel2, ylabel1, xticks=None, xlim=None, bins=None):\n",
    "    '''\n",
    "    input:\n",
    "        feature - feature name\n",
    "        suptitle - plot name\n",
    "        title1, title2 - name of the histogram and boxplot\n",
    "        xlabel1, xlabel2 - name of the x-axis of the histogram and boxplot\n",
    "        ylabel1, ylabel2 - name of the y-axis of the histogram and boxplot\n",
    "    output:\n",
    "        plots\n",
    "    '''\n",
    "    print(data[feature].describe())\n",
    "    \n",
    "    fig, axs = plt.subplots(1, 2, figsize=(18,7))\n",
    "    plt.suptitle(suptitle, size=18)\n",
    "\n",
    "    data[feature].hist(bins=bins, ax=axs[0])\n",
    "    axs[0].set_title(title1, size=13)\n",
    "    axs[0].set_xlabel(xlabel1)\n",
    "    axs[0].set_ylabel(ylabel1)\n",
    "\n",
    "\n",
    "    sb.boxplot(x=feature, data=data, ax=axs[1])\n",
    "    axs[1].set_title(title2, size=13)\n",
    "    axs[1].set_xlabel(xlabel2)\n",
    "    \n",
    "    \n",
    "    if xticks is not None:\n",
    "        axs[0].set_xticks(xticks)\n",
    "        axs[1].set_xticks(xticks)\n",
    "    \n",
    "    if xlim is not None:\n",
    "        axs[0].set_xlim(xlim)\n",
    "        axs[1].set_xlim(xlim)\n",
    "        \n",
    "    plt.show()    \n",
    "\n"
   ]
  },
  {
   "cell_type": "code",
   "execution_count": 21,
   "metadata": {},
   "outputs": [
    {
     "name": "stdout",
     "output_type": "stream",
     "text": [
      "count    23699.000000\n",
      "mean        60.348651\n",
      "std         35.654083\n",
      "min         12.000000\n",
      "25%         40.000000\n",
      "50%         52.000000\n",
      "75%         69.900000\n",
      "max        900.000000\n",
      "Name: total_area, dtype: float64\n"
     ]
    },
    {
     "data": {
      "image/png": "[encoded data removed]",
      "text/plain": [
       "<Figure size 1296x504 with 2 Axes>"
      ]
     },
     "metadata": {
      "needs_background": "light"
     },
     "output_type": "display_data"
    }
   ],
   "source": [
    "plot_subs('total_area', 'Distribution', 'Total area distribution - histogram', \n",
    "          'Distribution of the total area - boxplot',\n",
    "          'total area', 'total area', 'frequency',  bins=400)"
   ]
  },
  {
   "cell_type": "code",
   "execution_count": 22,
   "metadata": {},
   "outputs": [
    {
     "name": "stdout",
     "output_type": "stream",
     "text": [
      "count    23699.000000\n",
      "mean        60.348651\n",
      "std         35.654083\n",
      "min         12.000000\n",
      "25%         40.000000\n",
      "50%         52.000000\n",
      "75%         69.900000\n",
      "max        900.000000\n",
      "Name: total_area, dtype: float64\n"
     ]
    },
    {
     "data": {
      "image/png": "[encoded data removed]",
      "text/plain": [
       "<Figure size 432x288 with 1 Axes>"
      ]
     },
     "metadata": {
      "needs_background": "light"
     },
     "output_type": "display_data"
    },
    {
     "data": {
      "image/png": "[encoded data removed]",
      "text/plain": [
       "<Figure size 432x288 with 1 Axes>"
      ]
     },
     "metadata": {
      "needs_background": "light"
     },
     "output_type": "display_data"
    }
   ],
   "source": [
    "# Explore the values in the area column\n",
    "print(data['total_area'].describe())\n",
    "\n",
    "plt.hist(data['total_area'], bins = 400)\n",
    "plt.title('area histogram')\n",
    "plt.show()\n",
    "\n",
    "plt.title('area chart')\n",
    "sb.boxplot( x=data['total_area'])\n",
    "plt.show()"
   ]
  },
  {
   "cell_type": "markdown",
   "metadata": {},
   "source": [
    "The 'total_area' column contains 23699 non-null values. The range plot shows a large number of outliers to the right of the interquartile range. For further research, values exceeding 550 square meters will be removed."
   ]
  },
  {
   "cell_type": "code",
   "execution_count": 23,
   "metadata": {},
   "outputs": [
    {
     "data": {
      "text/html": [
       "<div>\n",
       "<style scoped>\n",
       "    .dataframe tbody tr th:only-of-type {\n",
       "        vertical-align: middle;\n",
       "    }\n",
       "\n",
       "    .dataframe tbody tr th {\n",
       "        vertical-align: top;\n",
       "    }\n",
       "\n",
       "    .dataframe thead th {\n",
       "        text-align: right;\n",
       "    }\n",
       "</style>\n",
       "<table border=\"1\" class=\"dataframe\">\n",
       "  <thead>\n",
       "    <tr style=\"text-align: right;\">\n",
       "      <th></th>\n",
       "      <th>total_images</th>\n",
       "      <th>last_price</th>\n",
       "      <th>price_per_meter</th>\n",
       "      <th>total_area</th>\n",
       "      <th>first_day_exposition</th>\n",
       "      <th>weekday</th>\n",
       "      <th>month</th>\n",
       "      <th>year</th>\n",
       "      <th>rooms</th>\n",
       "      <th>floor_category</th>\n",
       "      <th>ceiling_height</th>\n",
       "      <th>living_perc</th>\n",
       "      <th>floors_total</th>\n",
       "      <th>living_area</th>\n",
       "      <th>floor</th>\n",
       "      <th>is_apartment</th>\n",
       "      <th>studio</th>\n",
       "      <th>kitchen_perc</th>\n",
       "      <th>open_plan</th>\n",
       "      <th>kitchen_area</th>\n",
       "      <th>balcony</th>\n",
       "      <th>locality_name</th>\n",
       "      <th>airports_nearest</th>\n",
       "      <th>cityCenters_nearest</th>\n",
       "      <th>parks_around3000</th>\n",
       "      <th>parks_nearest</th>\n",
       "      <th>ponds_around3000</th>\n",
       "      <th>ponds_nearest</th>\n",
       "      <th>days_exposition</th>\n",
       "    </tr>\n",
       "  </thead>\n",
       "  <tbody>\n",
       "  </tbody>\n",
       "</table>\n",
       "</div>"
      ],
      "text/plain": [
       "Empty DataFrame\n",
       "Columns: [total_images, last_price, price_per_meter, total_area, first_day_exposition, weekday, month, year, rooms, floor_category, ceiling_height, living_perc, floors_total, living_area, floor, is_apartment, studio, kitchen_perc, open_plan, kitchen_area, balcony, locality_name, airports_nearest, cityCenters_nearest, parks_around3000, parks_nearest, ponds_around3000, ponds_nearest, days_exposition]\n",
       "Index: []"
      ]
     },
     "execution_count": 23,
     "metadata": {},
     "output_type": "execute_result"
    }
   ],
   "source": [
    "# we note that apartments with a footage of more than 400 m2 are located exclusively in St. Petersburg.\n",
    "data.loc[(data['total_area'] > 400) & (data['locality_name'] != \"Санкт-Петербург\") ]"
   ]
  },
  {
   "cell_type": "code",
   "execution_count": 24,
   "metadata": {},
   "outputs": [
    {
     "name": "stdout",
     "output_type": "stream",
     "text": [
      "count    23699.000000\n",
      "mean         6.541549\n",
      "std         10.887013\n",
      "min          0.012190\n",
      "25%          3.400000\n",
      "50%          4.650000\n",
      "75%          6.800000\n",
      "max        763.000000\n",
      "Name: last_price, dtype: float64\n"
     ]
    },
    {
     "data": {
      "image/png": "[encoded data removed]",
      "text/plain": [
       "<Figure size 432x288 with 1 Axes>"
      ]
     },
     "metadata": {
      "needs_background": "light"
     },
     "output_type": "display_data"
    },
    {
     "data": {
      "text/plain": [
       "Text(0.5, 1.0, 'диаграмма размаха цен')"
      ]
     },
     "execution_count": 24,
     "metadata": {},
     "output_type": "execute_result"
    },
    {
     "data": {
      "image/png": "[encoded data removed]",
      "text/plain": [
       "<Figure size 432x288 with 1 Axes>"
      ]
     },
     "metadata": {
      "needs_background": "light"
     },
     "output_type": "display_data"
    }
   ],
   "source": [
    "# Explore the values in the price column\n",
    "print(data['last_price'].describe())\n",
    "\n",
    "plt.hist(data['last_price'], bins = 2000)\n",
    "plt.title('гистограмма цен')\n",
    "plt.show()\n",
    "sb.boxplot( x=data['last_price'] )\n",
    "plt.title('диаграмма размаха цен')"
   ]
  },
  {
   "cell_type": "markdown",
   "metadata": {},
   "source": [
    "'last_price' column. It is characterized by \"outliers\" outside the interquartile range.\n",
    "\n",
    "Based on the range diagram, values in excess of 200 million rubles per apartment will be removed from the study."
   ]
  },
  {
   "cell_type": "code",
   "execution_count": 25,
   "metadata": {},
   "outputs": [
    {
     "name": "stdout",
     "output_type": "stream",
     "text": [
      "count    23699.000000\n",
      "mean        99.422170\n",
      "std         50.309256\n",
      "min          0.000000\n",
      "25%         77.000000\n",
      "50%         95.000000\n",
      "75%        114.000000\n",
      "max       1908.000000\n",
      "Name: price_per_meter, dtype: float64\n"
     ]
    },
    {
     "data": {
      "image/png": "[encoded data removed]",
      "text/plain": [
       "<Figure size 432x288 with 1 Axes>"
      ]
     },
     "metadata": {
      "needs_background": "light"
     },
     "output_type": "display_data"
    },
    {
     "data": {
      "image/png": "[encoded data removed]",
      "text/plain": [
       "<Figure size 432x288 with 1 Axes>"
      ]
     },
     "metadata": {
      "needs_background": "light"
     },
     "output_type": "display_data"
    },
    {
     "data": {
      "text/plain": [
       "Text(0.5, 1.0, 'price range chart per square meter. approximation of the left side of the diagram.')"
      ]
     },
     "execution_count": 25,
     "metadata": {},
     "output_type": "execute_result"
    },
    {
     "data": {
      "image/png": "[encoded data removed]",
      "text/plain": [
       "<Figure size 432x288 with 1 Axes>"
      ]
     },
     "metadata": {
      "needs_background": "light"
     },
     "output_type": "display_data"
    }
   ],
   "source": [
    "# Let's examine the values in the price per square meter column\n",
    "print(data['price_per_meter'].describe())\n",
    "plt.xlim(0, 250)\n",
    "plt.hist(data['price_per_meter'], bins = 200)\n",
    "plt.title('histogram of prices per square meter')\n",
    "plt.show()\n",
    "\n",
    "sb.boxplot( x=data['price_per_meter'] )\n",
    "plt.title('price range chart per square meter. general.')\n",
    "plt.show()\n",
    "plt.xlim(0, 102)\n",
    "sb.boxplot( x=data['price_per_meter'] )\n",
    "plt.title('price range chart per square meter. approximation of the left side of the diagram.')"
   ]
  },
  {
   "cell_type": "markdown",
   "metadata": {},
   "source": [
    "'price_per_meter' column. Using the range chart, we can establish that there are price outliers not only to the right of the interquartile range, but also to the left of it.\n",
    "\n",
    "Let's take into account that there are two categories in the study: apartments in St. Petersburg and the Leningrad region. The data in these categories is heterogeneous, which can lead to an incorrect interpretation of the concept of outlier. Let's build two range charts. For St. Petersburg and the Leningrad region separately."
   ]
  },
  {
   "cell_type": "code",
   "execution_count": 26,
   "metadata": {
    "scrolled": false
   },
   "outputs": [
    {
     "name": "stdout",
     "output_type": "stream",
     "text": [
      "data[locality_name] == \"Санкт-Петербург\"\n",
      "count    15721.000000\n",
      "mean       114.850200\n",
      "std         52.587064\n",
      "min          0.000000\n",
      "25%         91.000000\n",
      "50%        105.000000\n",
      "75%        124.000000\n",
      "max       1908.000000\n",
      "Name: price_per_meter, dtype: float64\n",
      "data[locality_name] == \"ЛО\"\n",
      "count    7978.000000\n",
      "mean       69.020557\n",
      "std        25.999770\n",
      "min         8.000000\n",
      "25%        52.000000\n",
      "50%        69.000000\n",
      "75%        85.000000\n",
      "max       640.000000\n",
      "Name: price_per_meter, dtype: float64\n"
     ]
    },
    {
     "data": {
      "text/plain": [
       "<AxesSubplot:title={'center':'locality_name == Ленинградская область'}, xlabel='price_per_meter'>"
      ]
     },
     "execution_count": 26,
     "metadata": {},
     "output_type": "execute_result"
    },
    {
     "data": {
      "image/png": "[encoded data removed]",
      "text/plain": [
       "<Figure size 2160x720 with 2 Axes>"
      ]
     },
     "metadata": {
      "needs_background": "light"
     },
     "output_type": "display_data"
    }
   ],
   "source": [
    "print('data[locality_name] == \"Санкт-Петербург\"')\n",
    "print(data.loc[data['locality_name'] == 'Санкт-Петербург', 'price_per_meter'].describe())\n",
    "print('data[locality_name] == \"ЛО\"')\n",
    "print(data.loc[data['locality_name'] != 'Санкт-Петербург', 'price_per_meter'].describe())\n",
    "\n",
    "fig = plt.figure(figsize=(30, 10))\n",
    "ax = fig.add_subplot(121)\n",
    "\n",
    "plt.title (\"locality_name == Санкт-Петербург\")\n",
    "sb.boxplot(x=data.loc[data['locality_name'] == 'Санкт-Петербург', 'price_per_meter'])\n",
    "\n",
    "ax2 = fig.add_subplot(122)\n",
    "plt.title (\"locality_name == Ленинградская область\")\n",
    "\n",
    "sb.boxplot( x=data.loc[data['locality_name'] != 'Санкт-Петербург', 'price_per_meter'] )"
   ]
  },
  {
   "cell_type": "markdown",
   "metadata": {},
   "source": [
    "Within each category, the values differ significantly, so an additional analysis was carried out taking into account the location of the apartment. Based on this, additional anomalies were discovered."
   ]
  },
  {
   "cell_type": "code",
   "execution_count": 27,
   "metadata": {},
   "outputs": [
    {
     "data": {
      "text/plain": [
       "Text(0.5, 1.0, 'Цена за квадратный метр в Санкт- Петербурге')"
      ]
     },
     "execution_count": 27,
     "metadata": {},
     "output_type": "execute_result"
    },
    {
     "data": {
      "image/png": "[encoded data removed]",
      "text/plain": [
       "<Figure size 432x288 with 1 Axes>"
      ]
     },
     "metadata": {
      "needs_background": "light"
     },
     "output_type": "display_data"
    }
   ],
   "source": [
    "plt.show()\n",
    "plt.xlim(0, 100)\n",
    "sb.boxplot( x=data.loc[data['locality_name'] == 'Санкт-Петербург', 'price_per_meter'] )\n",
    "plt.title('Цена за квадратный метр в Санкт- Петербурге')"
   ]
  },
  {
   "cell_type": "markdown",
   "metadata": {},
   "source": [
    "As a result of studying the data in the 'price_per_meter' column, proposals with a price per square meter exceeding 600 tr., located in St. Petersburg and 200 tr. outside of St. Petersburg. Also, apartments located in St. Petersburg were removed, but with a price of less than 40 tr. per square meter."
   ]
  },
  {
   "cell_type": "code",
   "execution_count": 28,
   "metadata": {},
   "outputs": [
    {
     "name": "stdout",
     "output_type": "stream",
     "text": [
      "count    23699.000000\n",
      "mean         2.070636\n",
      "std          1.078405\n",
      "min          0.000000\n",
      "25%          1.000000\n",
      "50%          2.000000\n",
      "75%          3.000000\n",
      "max         19.000000\n",
      "Name: rooms, dtype: float64\n",
      "1     8047\n",
      "2     7940\n",
      "3     5814\n",
      "4     1180\n",
      "5      326\n",
      "0      197\n",
      "6      105\n",
      "7       59\n",
      "8       12\n",
      "9        8\n",
      "10       3\n",
      "11       2\n",
      "14       2\n",
      "15       1\n",
      "19       1\n",
      "16       1\n",
      "12       1\n",
      "Name: rooms, dtype: int64\n"
     ]
    },
    {
     "data": {
      "image/png": "[encoded data removed]",
      "text/plain": [
       "<Figure size 432x288 with 1 Axes>"
      ]
     },
     "metadata": {
      "needs_background": "light"
     },
     "output_type": "display_data"
    },
    {
     "data": {
      "text/plain": [
       "Text(0.5, 1.0, 'histogram of the number of rooms')"
      ]
     },
     "execution_count": 28,
     "metadata": {},
     "output_type": "execute_result"
    },
    {
     "data": {
      "image/png": "[encoded data removed]",
      "text/plain": [
       "<Figure size 432x288 with 1 Axes>"
      ]
     },
     "metadata": {
      "needs_background": "light"
     },
     "output_type": "display_data"
    }
   ],
   "source": [
    "# Explore the values in the number of rooms column\n",
    "print(data['rooms'].describe())\n",
    "print(data['rooms'].value_counts())\n",
    "plt.xlim(0, 9.5)\n",
    "plt.hist(data['rooms'], bins = 40)\n",
    "plt.title('histogram of the number of rooms')\n",
    "plt.show()\n",
    "plt.xlim(0, 15.2)\n",
    "sb.boxplot( x=data['rooms'] )\n",
    "plt.title('histogram of the number of rooms')"
   ]
  },
  {
   "cell_type": "markdown",
   "metadata": {},
   "source": [
    "'rooms' column. Here, values are observed outside the interquartile range, but the study of the number of rooms and their average area indicates the plausibility of such values."
   ]
  },
  {
   "cell_type": "code",
   "execution_count": 29,
   "metadata": {},
   "outputs": [
    {
     "name": "stdout",
     "output_type": "stream",
     "text": [
      "count    14504.000000\n",
      "mean         2.771499\n",
      "std          1.261056\n",
      "min          1.000000\n",
      "25%          2.520000\n",
      "50%          2.650000\n",
      "75%          2.800000\n",
      "max        100.000000\n",
      "Name: ceiling_height, dtype: float64\n"
     ]
    },
    {
     "data": {
      "image/png": "[encoded data removed]",
      "text/plain": [
       "<Figure size 432x288 with 1 Axes>"
      ]
     },
     "metadata": {
      "needs_background": "light"
     },
     "output_type": "display_data"
    },
    {
     "data": {
      "text/plain": [
       "Text(0.5, 1.0, 'ceiling height dispersion diagram')"
      ]
     },
     "execution_count": 29,
     "metadata": {},
     "output_type": "execute_result"
    },
    {
     "data": {
      "image/png": "[encoded data removed]",
      "text/plain": [
       "<Figure size 432x288 with 1 Axes>"
      ]
     },
     "metadata": {
      "needs_background": "light"
     },
     "output_type": "display_data"
    }
   ],
   "source": [
    "# Examine the values in the ceiling height column\n",
    "print(data['ceiling_height'].describe())\n",
    "plt.xlim(2.4, 4.6)\n",
    "plt.hist(data['ceiling_height'], bins =  600)\n",
    "plt.title('ceiling height bar chart')\n",
    "\n",
    "plt.show()\n",
    "plt.xlim(2, 5)\n",
    "sb.boxplot( x=data['ceiling_height'] )\n",
    "plt.title('ceiling height dispersion diagram')"
   ]
  },
  {
   "cell_type": "markdown",
   "metadata": {},
   "source": [
    "The 'ceiling_height' column has 14257 values ranging from 1 to 100 meters. A study of state standards for ceiling heights showed that ceilings below 2.5 meters are not made. At the same time, there are no strict standards on the maximum height of ceilings. However, based on common practice, ceilings are not made more than 4 meters high. values greater than 4.5 meters and less than 2.5 meters will be removed from the study"
   ]
  },
  {
   "cell_type": "code",
   "execution_count": 30,
   "metadata": {},
   "outputs": [],
   "source": [
    "data.loc[(data['ceiling_height']<2.5), ['ceiling_height']] = np.NaN\n",
    "data.loc[(data['ceiling_height']>4.5), ['ceiling_height']] = np.NaN"
   ]
  },
  {
   "cell_type": "markdown",
   "metadata": {},
   "source": [
    "A small analysis showed that in modern regulatory documents there are no strict regulations regarding the maximum height of ceilings\n",
    "The minimum ceiling height cannot be less than 2.5 meters\n",
    "However, according to existing practice, ceilings above 4 meters are not made in residential premises (http://expert-home.net/standartnaya-vysota-potolkov-v-kvartire/).\n",
    "Therefore, all rooms where the ceiling height is more than 4.5 meters will be removed from the study as an outlier."
   ]
  },
  {
   "cell_type": "code",
   "execution_count": 31,
   "metadata": {},
   "outputs": [
    {
     "data": {
      "text/plain": [
       "count    23699.000000\n",
       "mean        56.275792\n",
       "std         10.133241\n",
       "min          2.000000\n",
       "25%         50.000000\n",
       "50%         56.000000\n",
       "75%         63.000000\n",
       "max        100.000000\n",
       "Name: living_perc, dtype: float64"
      ]
     },
     "execution_count": 31,
     "metadata": {},
     "output_type": "execute_result"
    },
    {
     "data": {
      "image/png": "[encoded data removed]",
      "text/plain": [
       "<Figure size 432x288 with 1 Axes>"
      ]
     },
     "metadata": {
      "needs_background": "light"
     },
     "output_type": "display_data"
    }
   ],
   "source": [
    "# study the percentage of living space\n",
    "sb.boxplot(x= 'living_perc', data=data)\n",
    "plt.title('percent living area range chart')\n",
    "\n",
    "data['living_perc'].describe()"
   ]
  },
  {
   "cell_type": "markdown",
   "metadata": {},
   "source": [
    "The 'living_perc' column shows the ratio of living area to the total area of the premises. The range plot showed a large number of outliers both to the left and to the right of the interquartile range. However, based on the understanding of the nature of the data, we will consider outliers only the values located to the left of the interquartile range, i.e. less than 30%"
   ]
  },
  {
   "cell_type": "code",
   "execution_count": 32,
   "metadata": {},
   "outputs": [
    {
     "name": "stdout",
     "output_type": "stream",
     "text": [
      "count    20518.000000\n",
      "mean       180.888634\n",
      "std        219.727988\n",
      "min          1.000000\n",
      "25%         45.000000\n",
      "50%         95.000000\n",
      "75%        232.000000\n",
      "max       1580.000000\n",
      "Name: days_exposition, dtype: float64\n"
     ]
    },
    {
     "data": {
      "image/png": "[encoded data removed]",
      "text/plain": [
       "<Figure size 432x288 with 1 Axes>"
      ]
     },
     "metadata": {
      "needs_background": "light"
     },
     "output_type": "display_data"
    },
    {
     "data": {
      "text/plain": [
       "Text(0.5, 1.0, 'scatter chart of the number of days of real estate sales')"
      ]
     },
     "execution_count": 32,
     "metadata": {},
     "output_type": "execute_result"
    },
    {
     "data": {
      "image/png": "[encoded data removed]",
      "text/plain": [
       "<Figure size 432x288 with 1 Axes>"
      ]
     },
     "metadata": {
      "needs_background": "light"
     },
     "output_type": "display_data"
    }
   ],
   "source": [
    "print(data['days_exposition'].describe())\n",
    "plt.xlim(0, 300)\n",
    "plt.hist(data['days_exposition'], bins = 160)\n",
    "plt.title('histogram of the number of days of real estate sales')\n",
    "\n",
    "plt.show()\n",
    "plt.xlim(0, 600)\n",
    "sb.boxplot( x=data['days_exposition'] )\n",
    "plt.title('scatter chart of the number of days of real estate sales')"
   ]
  },
  {
   "cell_type": "markdown",
   "metadata": {},
   "source": [
    "**Conclusion**\n",
    "\n",
    "\n",
    "The 'days_exposition' column has 20518 values. The median value is 95 days. On the histogram, we see that the fashion is in the range of 40-50 days. Separately, we note that Q1, the first quartile is 45. From all of the above, we conclude that it usually takes from 40 to 232 days to sell. If the sale takes less than 40 days, then we can say that the sale went quickly. If the sale drags on for more than 232 days, then the sale took an unusually long time."
   ]
  },
  {
   "cell_type": "code",
   "execution_count": 33,
   "metadata": {},
   "outputs": [
    {
     "name": "stdout",
     "output_type": "stream",
     "text": [
      "Percentage of Rows Saved for Exploration: 98.9%\n"
     ]
    }
   ],
   "source": [
    "data = data.loc[data['total_area'] < 550 ]\n",
    "data = data.loc[data['last_price'] < 200 ]\n",
    "data = data.loc[data['price_per_meter'] < 600 ]\n",
    "data = data.loc[data['living_perc'] > 30]\n",
    "data = data.loc[((data['price_per_meter'] > 40) & (data['locality_name'] == 'Санкт-Петербург')) | (data['locality_name'] != 'Санкт-Петербург')]\n",
    "data = data.loc[((data['price_per_meter'] < 650) & (data['locality_name'] == 'Санкт-Петербург')) | (data['locality_name'] != 'Санкт-Петербург')]\n",
    "data = data.loc[((data['price_per_meter'] < 200) & (data['locality_name'] != 'Санкт-Петербург'))  | (data['locality_name'] == 'Санкт-Петербург')]\n",
    "\n",
    "data_rows_aft = data['total_images'].count()\n",
    "\n",
    "print(\"Percentage of Rows Saved for Exploration: {:.1%}\".format(data_rows_aft / data_rows_bef))"
   ]
  },
  {
   "cell_type": "code",
   "execution_count": 34,
   "metadata": {},
   "outputs": [
    {
     "data": {
      "text/html": [
       "<div>\n",
       "<style scoped>\n",
       "    .dataframe tbody tr th:only-of-type {\n",
       "        vertical-align: middle;\n",
       "    }\n",
       "\n",
       "    .dataframe tbody tr th {\n",
       "        vertical-align: top;\n",
       "    }\n",
       "\n",
       "    .dataframe thead th {\n",
       "        text-align: right;\n",
       "    }\n",
       "</style>\n",
       "<table border=\"1\" class=\"dataframe\">\n",
       "  <thead>\n",
       "    <tr style=\"text-align: right;\">\n",
       "      <th></th>\n",
       "      <th>total_images</th>\n",
       "      <th>last_price</th>\n",
       "      <th>price_per_meter</th>\n",
       "      <th>total_area</th>\n",
       "      <th>first_day_exposition</th>\n",
       "      <th>weekday</th>\n",
       "      <th>month</th>\n",
       "      <th>year</th>\n",
       "      <th>rooms</th>\n",
       "      <th>floor_category</th>\n",
       "      <th>ceiling_height</th>\n",
       "      <th>living_perc</th>\n",
       "      <th>floors_total</th>\n",
       "      <th>living_area</th>\n",
       "      <th>floor</th>\n",
       "      <th>is_apartment</th>\n",
       "      <th>studio</th>\n",
       "      <th>kitchen_perc</th>\n",
       "      <th>open_plan</th>\n",
       "      <th>kitchen_area</th>\n",
       "      <th>balcony</th>\n",
       "      <th>locality_name</th>\n",
       "      <th>airports_nearest</th>\n",
       "      <th>cityCenters_nearest</th>\n",
       "      <th>parks_around3000</th>\n",
       "      <th>parks_nearest</th>\n",
       "      <th>ponds_around3000</th>\n",
       "      <th>ponds_nearest</th>\n",
       "      <th>days_exposition</th>\n",
       "    </tr>\n",
       "  </thead>\n",
       "  <tbody>\n",
       "    <tr>\n",
       "      <th>0</th>\n",
       "      <td>20</td>\n",
       "      <td>13.000</td>\n",
       "      <td>120.0</td>\n",
       "      <td>108.0</td>\n",
       "      <td>2019-03-07</td>\n",
       "      <td>Чт.</td>\n",
       "      <td>3</td>\n",
       "      <td>2019</td>\n",
       "      <td>3</td>\n",
       "      <td>other</td>\n",
       "      <td>2.70</td>\n",
       "      <td>47.0</td>\n",
       "      <td>16.0</td>\n",
       "      <td>51.0</td>\n",
       "      <td>8</td>\n",
       "      <td>NaN</td>\n",
       "      <td>False</td>\n",
       "      <td>23.0</td>\n",
       "      <td>False</td>\n",
       "      <td>25.0</td>\n",
       "      <td>0</td>\n",
       "      <td>Санкт-Петербург</td>\n",
       "      <td>18863.0</td>\n",
       "      <td>16028.0</td>\n",
       "      <td>1.0</td>\n",
       "      <td>482.0</td>\n",
       "      <td>2.0</td>\n",
       "      <td>755.0</td>\n",
       "      <td>NaN</td>\n",
       "    </tr>\n",
       "    <tr>\n",
       "      <th>1</th>\n",
       "      <td>7</td>\n",
       "      <td>3.350</td>\n",
       "      <td>83.0</td>\n",
       "      <td>40.4</td>\n",
       "      <td>2018-12-04</td>\n",
       "      <td>Вт.</td>\n",
       "      <td>12</td>\n",
       "      <td>2018</td>\n",
       "      <td>1</td>\n",
       "      <td>first</td>\n",
       "      <td>NaN</td>\n",
       "      <td>46.0</td>\n",
       "      <td>11.0</td>\n",
       "      <td>18.6</td>\n",
       "      <td>1</td>\n",
       "      <td>NaN</td>\n",
       "      <td>False</td>\n",
       "      <td>27.0</td>\n",
       "      <td>False</td>\n",
       "      <td>11.0</td>\n",
       "      <td>2</td>\n",
       "      <td>посёлок Шушары</td>\n",
       "      <td>12817.0</td>\n",
       "      <td>18603.0</td>\n",
       "      <td>0.0</td>\n",
       "      <td>NaN</td>\n",
       "      <td>0.0</td>\n",
       "      <td>NaN</td>\n",
       "      <td>81.0</td>\n",
       "    </tr>\n",
       "    <tr>\n",
       "      <th>2</th>\n",
       "      <td>10</td>\n",
       "      <td>5.196</td>\n",
       "      <td>93.0</td>\n",
       "      <td>56.0</td>\n",
       "      <td>2015-08-20</td>\n",
       "      <td>Чт.</td>\n",
       "      <td>8</td>\n",
       "      <td>2015</td>\n",
       "      <td>2</td>\n",
       "      <td>other</td>\n",
       "      <td>NaN</td>\n",
       "      <td>61.0</td>\n",
       "      <td>5.0</td>\n",
       "      <td>34.3</td>\n",
       "      <td>4</td>\n",
       "      <td>NaN</td>\n",
       "      <td>False</td>\n",
       "      <td>15.0</td>\n",
       "      <td>False</td>\n",
       "      <td>8.3</td>\n",
       "      <td>0</td>\n",
       "      <td>Санкт-Петербург</td>\n",
       "      <td>21741.0</td>\n",
       "      <td>13933.0</td>\n",
       "      <td>1.0</td>\n",
       "      <td>90.0</td>\n",
       "      <td>2.0</td>\n",
       "      <td>574.0</td>\n",
       "      <td>558.0</td>\n",
       "    </tr>\n",
       "    <tr>\n",
       "      <th>3</th>\n",
       "      <td>0</td>\n",
       "      <td>64.900</td>\n",
       "      <td>408.0</td>\n",
       "      <td>159.0</td>\n",
       "      <td>2015-07-24</td>\n",
       "      <td>Пт.</td>\n",
       "      <td>7</td>\n",
       "      <td>2015</td>\n",
       "      <td>3</td>\n",
       "      <td>other</td>\n",
       "      <td>NaN</td>\n",
       "      <td>54.0</td>\n",
       "      <td>14.0</td>\n",
       "      <td>86.1</td>\n",
       "      <td>9</td>\n",
       "      <td>NaN</td>\n",
       "      <td>False</td>\n",
       "      <td>13.0</td>\n",
       "      <td>False</td>\n",
       "      <td>20.6</td>\n",
       "      <td>0</td>\n",
       "      <td>Санкт-Петербург</td>\n",
       "      <td>28098.0</td>\n",
       "      <td>6800.0</td>\n",
       "      <td>2.0</td>\n",
       "      <td>84.0</td>\n",
       "      <td>3.0</td>\n",
       "      <td>234.0</td>\n",
       "      <td>424.0</td>\n",
       "    </tr>\n",
       "    <tr>\n",
       "      <th>4</th>\n",
       "      <td>2</td>\n",
       "      <td>10.000</td>\n",
       "      <td>100.0</td>\n",
       "      <td>100.0</td>\n",
       "      <td>2018-06-19</td>\n",
       "      <td>Вт.</td>\n",
       "      <td>6</td>\n",
       "      <td>2018</td>\n",
       "      <td>2</td>\n",
       "      <td>other</td>\n",
       "      <td>3.03</td>\n",
       "      <td>32.0</td>\n",
       "      <td>14.0</td>\n",
       "      <td>32.0</td>\n",
       "      <td>13</td>\n",
       "      <td>NaN</td>\n",
       "      <td>False</td>\n",
       "      <td>41.0</td>\n",
       "      <td>False</td>\n",
       "      <td>41.0</td>\n",
       "      <td>0</td>\n",
       "      <td>Санкт-Петербург</td>\n",
       "      <td>31856.0</td>\n",
       "      <td>8098.0</td>\n",
       "      <td>2.0</td>\n",
       "      <td>112.0</td>\n",
       "      <td>1.0</td>\n",
       "      <td>48.0</td>\n",
       "      <td>121.0</td>\n",
       "    </tr>\n",
       "  </tbody>\n",
       "</table>\n",
       "</div>"
      ],
      "text/plain": [
       "   total_images  last_price  price_per_meter  total_area first_day_exposition  \\\n",
       "0            20      13.000            120.0       108.0           2019-03-07   \n",
       "1             7       3.350             83.0        40.4           2018-12-04   \n",
       "2            10       5.196             93.0        56.0           2015-08-20   \n",
       "3             0      64.900            408.0       159.0           2015-07-24   \n",
       "4             2      10.000            100.0       100.0           2018-06-19   \n",
       "\n",
       "  weekday  month  year  rooms floor_category  ceiling_height  living_perc  \\\n",
       "0     Чт.      3  2019      3          other            2.70         47.0   \n",
       "1     Вт.     12  2018      1          first             NaN         46.0   \n",
       "2     Чт.      8  2015      2          other             NaN         61.0   \n",
       "3     Пт.      7  2015      3          other             NaN         54.0   \n",
       "4     Вт.      6  2018      2          other            3.03         32.0   \n",
       "\n",
       "   floors_total  living_area  floor is_apartment  studio  kitchen_perc  \\\n",
       "0          16.0         51.0      8          NaN   False          23.0   \n",
       "1          11.0         18.6      1          NaN   False          27.0   \n",
       "2           5.0         34.3      4          NaN   False          15.0   \n",
       "3          14.0         86.1      9          NaN   False          13.0   \n",
       "4          14.0         32.0     13          NaN   False          41.0   \n",
       "\n",
       "   open_plan  kitchen_area  balcony    locality_name  airports_nearest  \\\n",
       "0      False          25.0        0  Санкт-Петербург           18863.0   \n",
       "1      False          11.0        2   посёлок Шушары           12817.0   \n",
       "2      False           8.3        0  Санкт-Петербург           21741.0   \n",
       "3      False          20.6        0  Санкт-Петербург           28098.0   \n",
       "4      False          41.0        0  Санкт-Петербург           31856.0   \n",
       "\n",
       "   cityCenters_nearest  parks_around3000  parks_nearest  ponds_around3000  \\\n",
       "0              16028.0               1.0          482.0               2.0   \n",
       "1              18603.0               0.0            NaN               0.0   \n",
       "2              13933.0               1.0           90.0               2.0   \n",
       "3               6800.0               2.0           84.0               3.0   \n",
       "4               8098.0               2.0          112.0               1.0   \n",
       "\n",
       "   ponds_nearest  days_exposition  \n",
       "0          755.0              NaN  \n",
       "1            NaN             81.0  \n",
       "2          574.0            558.0  \n",
       "3          234.0            424.0  \n",
       "4           48.0            121.0  "
      ]
     },
     "execution_count": 34,
     "metadata": {},
     "output_type": "execute_result"
    }
   ],
   "source": [
    "#The final view of the dataset we are working with:\n",
    "data.head()"
   ]
  },
  {
   "cell_type": "code",
   "execution_count": 35,
   "metadata": {},
   "outputs": [
    {
     "name": "stdout",
     "output_type": "stream",
     "text": [
      "Correlation coefficient between price and total area: 0.7591123826423088\n",
      "Correlation coefficient between price and kitchen area: 0.5771207636025764\n",
      "Correlation coefficient between price and number of rooms: 0.4561234062199837\n",
      "Correlation coefficient between price and distance from the center: -0.22946821471354872\n"
     ]
    }
   ],
   "source": [
    "print('Correlation coefficient between price and total area:',data['total_area'].corr(data['last_price']))\n",
    "print('Correlation coefficient between price and kitchen area:',data['kitchen_area'].corr(data['last_price']))\n",
    "print('Correlation coefficient between price and number of rooms:',data['rooms'].corr(data['last_price']))\n",
    "\n",
    "\n",
    "print('Correlation coefficient between price and distance from the center:',data['cityCenters_nearest'].corr(data['last_price']))"
   ]
  },
  {
   "cell_type": "code",
   "execution_count": 36,
   "metadata": {},
   "outputs": [
    {
     "name": "stdout",
     "output_type": "stream",
     "text": [
      "Correlation coefficient between distance from the center and price in St. Petersburg : -0.3466426296475355\n",
      "Correlation coefficient between distance from the center and price in L.O. : -0.29489034038338585\n"
     ]
    }
   ],
   "source": [
    "print('Correlation coefficient between distance from the center and price in St. Petersburg :',data[data['locality_name'] == 'Санкт-Петербург']['cityCenters_nearest'].corr(data['last_price']))\n",
    "\n",
    "print('Correlation coefficient between distance from the center and price in L.O. :',data[data['locality_name'] != 'Санкт-Петербург']['cityCenters_nearest'].corr(data['last_price']))"
   ]
  },
  {
   "cell_type": "code",
   "execution_count": 37,
   "metadata": {},
   "outputs": [
    {
     "data": {
      "text/html": [
       "<div>\n",
       "<style scoped>\n",
       "    .dataframe tbody tr th:only-of-type {\n",
       "        vertical-align: middle;\n",
       "    }\n",
       "\n",
       "    .dataframe tbody tr th {\n",
       "        vertical-align: top;\n",
       "    }\n",
       "\n",
       "    .dataframe thead th {\n",
       "        text-align: right;\n",
       "    }\n",
       "</style>\n",
       "<table border=\"1\" class=\"dataframe\">\n",
       "  <thead>\n",
       "    <tr style=\"text-align: right;\">\n",
       "      <th>year</th>\n",
       "      <th>2014</th>\n",
       "      <th>2015</th>\n",
       "      <th>2016</th>\n",
       "      <th>2017</th>\n",
       "      <th>2018</th>\n",
       "      <th>2019</th>\n",
       "    </tr>\n",
       "  </thead>\n",
       "  <tbody>\n",
       "    <tr>\n",
       "      <th>price_per_meter</th>\n",
       "      <td>124.904412</td>\n",
       "      <td>103.056973</td>\n",
       "      <td>97.471849</td>\n",
       "      <td>96.213889</td>\n",
       "      <td>97.199526</td>\n",
       "      <td>105.576098</td>\n",
       "    </tr>\n",
       "  </tbody>\n",
       "</table>\n",
       "</div>"
      ],
      "text/plain": [
       "year                   2014        2015       2016       2017       2018  \\\n",
       "price_per_meter  124.904412  103.056973  97.471849  96.213889  97.199526   \n",
       "\n",
       "year                   2019  \n",
       "price_per_meter  105.576098  "
      ]
     },
     "metadata": {},
     "output_type": "display_data"
    },
    {
     "data": {
      "text/plain": [
       "Text(0.5, 1.0, 'The average value of the price per square meter in different years')"
      ]
     },
     "execution_count": 37,
     "metadata": {},
     "output_type": "execute_result"
    },
    {
     "data": {
      "image/png": "[encoded data removed]",
      "text/plain": [
       "<Figure size 720x504 with 1 Axes>"
      ]
     },
     "metadata": {
      "needs_background": "light"
     },
     "output_type": "display_data"
    }
   ],
   "source": [
    "data_bar_year = data.pivot_table(columns = 'year', values= 'price_per_meter', aggfunc= 'mean')\n",
    "\n",
    "display(data_bar_year)\n",
    "\n",
    "ax = plt.subplots(figsize=(10, 7))\n",
    "ax=sb.barplot(data=data_bar_year)\n",
    "ax.set_title('The average value of the price per square meter in different years')"
   ]
  },
  {
   "cell_type": "markdown",
   "metadata": {},
   "source": [
    "Let's study the dependence of the average real estate price depending on the year.\n",
    "In this bar chart, you can see that there is an unsustainable downward trend in the average house price. Let's look at the following hitmap table."
   ]
  },
  {
   "cell_type": "code",
   "execution_count": 38,
   "metadata": {},
   "outputs": [
    {
     "data": {
      "image/png": "[encoded data removed]",
      "text/plain": [
       "<Figure size 1008x720 with 2 Axes>"
      ]
     },
     "metadata": {
      "needs_background": "light"
     },
     "output_type": "display_data"
    }
   ],
   "source": [
    "data_heat = data.pivot_table(index = \"year\",columns = \"month\", values= 'price_per_meter', aggfunc= 'mean')\n",
    "\n",
    "ax = plt.subplots(figsize=(14, 10))\n",
    "ax = sb.heatmap(data_heat)"
   ]
  },
  {
   "cell_type": "markdown",
   "metadata": {},
   "source": [
    "The hitmap allows you to get acquainted with the data in more detail and note that the downward trend in the average price is not monotonous. And although it is difficult to single out a month or a season when the price is higher, it can be noted that in the winter months the price is often lower.\n",
    "You can also see that the price of housing began a gradual increase starting from March 2018."
   ]
  },
  {
   "cell_type": "code",
   "execution_count": 39,
   "metadata": {},
   "outputs": [
    {
     "data": {
      "text/html": [
       "<div>\n",
       "<style scoped>\n",
       "    .dataframe tbody tr th:only-of-type {\n",
       "        vertical-align: middle;\n",
       "    }\n",
       "\n",
       "    .dataframe tbody tr th {\n",
       "        vertical-align: top;\n",
       "    }\n",
       "\n",
       "    .dataframe thead th {\n",
       "        text-align: right;\n",
       "    }\n",
       "</style>\n",
       "<table border=\"1\" class=\"dataframe\">\n",
       "  <thead>\n",
       "    <tr style=\"text-align: right;\">\n",
       "      <th>weekday</th>\n",
       "      <th>Вс.</th>\n",
       "      <th>Вт.</th>\n",
       "      <th>Пн.</th>\n",
       "      <th>Пт.</th>\n",
       "      <th>Сб.</th>\n",
       "      <th>Ср.</th>\n",
       "      <th>Чт.</th>\n",
       "    </tr>\n",
       "  </thead>\n",
       "  <tbody>\n",
       "    <tr>\n",
       "      <th>price_per_meter</th>\n",
       "      <td>97.339063</td>\n",
       "      <td>98.469635</td>\n",
       "      <td>98.430817</td>\n",
       "      <td>98.713459</td>\n",
       "      <td>96.682175</td>\n",
       "      <td>98.524632</td>\n",
       "      <td>98.884407</td>\n",
       "    </tr>\n",
       "  </tbody>\n",
       "</table>\n",
       "</div>"
      ],
      "text/plain": [
       "weekday                Вс.        Вт.        Пн.        Пт.        Сб.  \\\n",
       "price_per_meter  97.339063  98.469635  98.430817  98.713459  96.682175   \n",
       "\n",
       "weekday                Ср.        Чт.  \n",
       "price_per_meter  98.524632  98.884407  "
      ]
     },
     "metadata": {},
     "output_type": "display_data"
    },
    {
     "data": {
      "image/png": "[encoded data removed]",
      "text/plain": [
       "<Figure size 720x504 with 1 Axes>"
      ]
     },
     "metadata": {
      "needs_background": "light"
     },
     "output_type": "display_data"
    }
   ],
   "source": [
    "data_bar_week = data.pivot_table(columns = 'weekday', values= 'price_per_meter', aggfunc= 'mean')\n",
    "\n",
    "ax = plt.subplots(figsize=(10, 7))\n",
    "display(data_bar_week)\n",
    "ax=sb.barplot(data=data_bar_week)\n",
    "ax.set_title('The average price for an apartment on different days of the week')\n",
    "plt.show()"
   ]
  },
  {
   "cell_type": "markdown",
   "metadata": {},
   "source": [
    "The study of the bar chart of the dependence of the price on the day of the week does not show any pronounced patterns. The hitmap will be discussed next."
   ]
  },
  {
   "cell_type": "code",
   "execution_count": 40,
   "metadata": {},
   "outputs": [
    {
     "data": {
      "image/png": "[encoded data removed]",
      "text/plain": [
       "<Figure size 1008x720 with 2 Axes>"
      ]
     },
     "metadata": {
      "needs_background": "light"
     },
     "output_type": "display_data"
    }
   ],
   "source": [
    "data_heat = data.pivot_table(index = \"year\",columns = \"weekday\", values= 'price_per_meter', aggfunc= 'mean')\n",
    "\n",
    "ax = plt.subplots(figsize=(14, 10))\n",
    "ax = sb.heatmap(data_heat)"
   ]
  },
  {
   "cell_type": "markdown",
   "metadata": {},
   "source": [
    "Examining the hitmap with the days of the week shows anomalies in the values ​​for 2014. It can be assumed that this is due to the fact that the data is presented for only two months, however, it can be noted that according to open sources, Yandex.Real Estate, where the data was taken from, allowed individuals to independently publish ads only from December 2014. It is possible to assume that this fact could affect the average price in the data.\n",
    "If we remove 2014 from consideration, we can see that the day when the average price per square meter was the lowest is Saturday. However, it is worth noting that in percentage terms, the difference is not more than 2 percent."
   ]
  },
  {
   "cell_type": "code",
   "execution_count": 41,
   "metadata": {},
   "outputs": [
    {
     "name": "stdout",
     "output_type": "stream",
     "text": [
      "10 locations with the most ads:\n"
     ]
    },
    {
     "data": {
      "text/plain": [
       "Мурино               583\n",
       "посёлок Шушары       438\n",
       "Всеволожск           395\n",
       "Пушкин               362\n",
       "Колпино              336\n",
       "посёлок Парголово    320\n",
       "Гатчина              305\n",
       "деревня Кудрово      292\n",
       "Выборг               236\n",
       "Петергоф             200\n",
       "Name: locality_name, dtype: int64"
      ]
     },
     "metadata": {},
     "output_type": "display_data"
    },
    {
     "name": "stdout",
     "output_type": "stream",
     "text": [
      "Average price per square meter in the locality Мурино 86.07 thousand rubles.\n",
      "Average price per square meter in the locality посёлок Шушары 78.67 thousand rubles.\n",
      "Average price per square meter in the locality Всеволожск 67.14 thousand rubles.\n",
      "Average price per square meter in the locality Пушкин 102.2 thousand rubles.\n",
      "Average price per square meter in the locality Колпино 75.53 thousand rubles.\n",
      "Average price per square meter in the locality посёлок Парголово 90.02 thousand rubles.\n",
      "Average price per square meter in the locality Гатчина 68.84 thousand rubles.\n",
      "Average price per square meter in the locality деревня Кудрово 92.53 thousand rubles.\n",
      "Average price per square meter in the locality Выборг 58.17 thousand rubles.\n",
      "Average price per square meter in the locality Петергоф 84.03 thousand rubles.\n"
     ]
    }
   ],
   "source": [
    "data_local = data['locality_name'].value_counts().head(11)\n",
    "\n",
    "data_local = data_local.drop(labels = ['Санкт-Петербург'])\n",
    "\n",
    "print(\"10 locations with the most ads:\")\n",
    "display(data_local)\n",
    "\n",
    "locality_top_ten = data_local.index\n",
    "\n",
    "for i in locality_top_ten:\n",
    "    local_mean = data.loc[data['locality_name']== i, 'price_per_meter'].mean()\n",
    "    print('Average price per square meter in the locality',i, round(local_mean, 2), 'thousand rubles.' )"
   ]
  },
  {
   "cell_type": "code",
   "execution_count": 42,
   "metadata": {},
   "outputs": [
    {
     "data": {
      "text/html": [
       "<div>\n",
       "<style scoped>\n",
       "    .dataframe tbody tr th:only-of-type {\n",
       "        vertical-align: middle;\n",
       "    }\n",
       "\n",
       "    .dataframe tbody tr th {\n",
       "        vertical-align: top;\n",
       "    }\n",
       "\n",
       "    .dataframe thead th {\n",
       "        text-align: right;\n",
       "    }\n",
       "</style>\n",
       "<table border=\"1\" class=\"dataframe\">\n",
       "  <thead>\n",
       "    <tr style=\"text-align: right;\">\n",
       "      <th></th>\n",
       "      <th>price_per_meter</th>\n",
       "    </tr>\n",
       "    <tr>\n",
       "      <th>locality_name</th>\n",
       "      <th></th>\n",
       "    </tr>\n",
       "  </thead>\n",
       "  <tbody>\n",
       "    <tr>\n",
       "      <th>деревня Старополье</th>\n",
       "      <td>11.000000</td>\n",
       "    </tr>\n",
       "    <tr>\n",
       "      <th>посёлок станции Свирь</th>\n",
       "      <td>11.500000</td>\n",
       "    </tr>\n",
       "    <tr>\n",
       "      <th>деревня Вахнова Кара</th>\n",
       "      <td>12.000000</td>\n",
       "    </tr>\n",
       "    <tr>\n",
       "      <th>деревня Выскатка</th>\n",
       "      <td>12.000000</td>\n",
       "    </tr>\n",
       "    <tr>\n",
       "      <th>деревня Малая Романовка</th>\n",
       "      <td>13.000000</td>\n",
       "    </tr>\n",
       "    <tr>\n",
       "      <th>...</th>\n",
       "      <td>...</td>\n",
       "    </tr>\n",
       "    <tr>\n",
       "      <th>Пушкин</th>\n",
       "      <td>102.204420</td>\n",
       "    </tr>\n",
       "    <tr>\n",
       "      <th>Сестрорецк</th>\n",
       "      <td>102.209040</td>\n",
       "    </tr>\n",
       "    <tr>\n",
       "      <th>посёлок Репино</th>\n",
       "      <td>104.250000</td>\n",
       "    </tr>\n",
       "    <tr>\n",
       "      <th>Санкт-Петербург</th>\n",
       "      <td>113.464208</td>\n",
       "    </tr>\n",
       "    <tr>\n",
       "      <th>посёлок Лисий Нос</th>\n",
       "      <td>122.000000</td>\n",
       "    </tr>\n",
       "  </tbody>\n",
       "</table>\n",
       "<p>362 rows × 1 columns</p>\n",
       "</div>"
      ],
      "text/plain": [
       "                         price_per_meter\n",
       "locality_name                           \n",
       "деревня Старополье             11.000000\n",
       "посёлок станции Свирь          11.500000\n",
       "деревня Вахнова Кара           12.000000\n",
       "деревня Выскатка               12.000000\n",
       "деревня Малая Романовка        13.000000\n",
       "...                                  ...\n",
       "Пушкин                        102.204420\n",
       "Сестрорецк                    102.209040\n",
       "посёлок Репино                104.250000\n",
       "Санкт-Петербург               113.464208\n",
       "посёлок Лисий Нос             122.000000\n",
       "\n",
       "[362 rows x 1 columns]"
      ]
     },
     "metadata": {},
     "output_type": "display_data"
    }
   ],
   "source": [
    "data_top = data[['locality_name', 'price_per_meter']]\n",
    "\n",
    "data_top = data_top.groupby(['locality_name']).mean().sort_values(['price_per_meter'])#(by= 'price_per_meter')\n",
    "\n",
    "display(data_top)"
   ]
  },
  {
   "cell_type": "code",
   "execution_count": 43,
   "metadata": {},
   "outputs": [],
   "source": [
    "data.insert(25,'cityCenters_km', round(data['cityCenters_nearest']/ 1000))"
   ]
  },
  {
   "cell_type": "code",
   "execution_count": 44,
   "metadata": {},
   "outputs": [
    {
     "data": {
      "text/html": [
       "<div>\n",
       "<style scoped>\n",
       "    .dataframe tbody tr th:only-of-type {\n",
       "        vertical-align: middle;\n",
       "    }\n",
       "\n",
       "    .dataframe tbody tr th {\n",
       "        vertical-align: top;\n",
       "    }\n",
       "\n",
       "    .dataframe thead th {\n",
       "        text-align: right;\n",
       "    }\n",
       "</style>\n",
       "<table border=\"1\" class=\"dataframe\">\n",
       "  <thead>\n",
       "    <tr style=\"text-align: right;\">\n",
       "      <th>cityCenters_km</th>\n",
       "      <th>0.0</th>\n",
       "      <th>1.0</th>\n",
       "      <th>2.0</th>\n",
       "      <th>3.0</th>\n",
       "      <th>4.0</th>\n",
       "      <th>5.0</th>\n",
       "      <th>6.0</th>\n",
       "      <th>7.0</th>\n",
       "      <th>8.0</th>\n",
       "      <th>9.0</th>\n",
       "      <th>10.0</th>\n",
       "      <th>11.0</th>\n",
       "      <th>12.0</th>\n",
       "      <th>13.0</th>\n",
       "      <th>14.0</th>\n",
       "      <th>15.0</th>\n",
       "      <th>16.0</th>\n",
       "      <th>17.0</th>\n",
       "      <th>18.0</th>\n",
       "      <th>19.0</th>\n",
       "      <th>20.0</th>\n",
       "      <th>21.0</th>\n",
       "      <th>22.0</th>\n",
       "      <th>23.0</th>\n",
       "      <th>24.0</th>\n",
       "      <th>25.0</th>\n",
       "      <th>26.0</th>\n",
       "      <th>27.0</th>\n",
       "      <th>28.0</th>\n",
       "      <th>29.0</th>\n",
       "    </tr>\n",
       "  </thead>\n",
       "  <tbody>\n",
       "    <tr>\n",
       "      <th>price_per_meter</th>\n",
       "      <td>231.807692</td>\n",
       "      <td>151.569892</td>\n",
       "      <td>147.307947</td>\n",
       "      <td>119.398844</td>\n",
       "      <td>130.946746</td>\n",
       "      <td>137.677492</td>\n",
       "      <td>145.448505</td>\n",
       "      <td>153.315403</td>\n",
       "      <td>123.871795</td>\n",
       "      <td>113.158163</td>\n",
       "      <td>112.504213</td>\n",
       "      <td>108.401198</td>\n",
       "      <td>107.530663</td>\n",
       "      <td>108.142265</td>\n",
       "      <td>104.191373</td>\n",
       "      <td>104.20526</td>\n",
       "      <td>100.351481</td>\n",
       "      <td>96.514253</td>\n",
       "      <td>96.871595</td>\n",
       "      <td>98.058065</td>\n",
       "      <td>103.081633</td>\n",
       "      <td>94.42735</td>\n",
       "      <td>91.268657</td>\n",
       "      <td>91.811765</td>\n",
       "      <td>85.730769</td>\n",
       "      <td>91.0</td>\n",
       "      <td>89.355556</td>\n",
       "      <td>132.0</td>\n",
       "      <td>80.857143</td>\n",
       "      <td>73.0</td>\n",
       "    </tr>\n",
       "  </tbody>\n",
       "</table>\n",
       "</div>"
      ],
      "text/plain": [
       "cityCenters_km         0.0         1.0         2.0         3.0         4.0   \\\n",
       "price_per_meter  231.807692  151.569892  147.307947  119.398844  130.946746   \n",
       "\n",
       "cityCenters_km         5.0         6.0         7.0         8.0         9.0   \\\n",
       "price_per_meter  137.677492  145.448505  153.315403  123.871795  113.158163   \n",
       "\n",
       "cityCenters_km         10.0        11.0        12.0        13.0        14.0  \\\n",
       "price_per_meter  112.504213  108.401198  107.530663  108.142265  104.191373   \n",
       "\n",
       "cityCenters_km        15.0        16.0       17.0       18.0       19.0  \\\n",
       "price_per_meter  104.20526  100.351481  96.514253  96.871595  98.058065   \n",
       "\n",
       "cityCenters_km         20.0      21.0       22.0       23.0       24.0  25.0  \\\n",
       "price_per_meter  103.081633  94.42735  91.268657  91.811765  85.730769  91.0   \n",
       "\n",
       "cityCenters_km        26.0   27.0       28.0  29.0  \n",
       "price_per_meter  89.355556  132.0  80.857143  73.0  "
      ]
     },
     "metadata": {},
     "output_type": "display_data"
    },
    {
     "data": {
      "image/png": "[encoded data removed]",
      "text/plain": [
       "<Figure size 1296x504 with 1 Axes>"
      ]
     },
     "metadata": {
      "needs_background": "light"
     },
     "output_type": "display_data"
    }
   ],
   "source": [
    "data_spb = data.loc[data['locality_name']== 'Санкт-Петербург'].pivot_table(columns = 'cityCenters_km', values= 'price_per_meter', aggfunc= 'mean')\n",
    "\n",
    "\n",
    "ax = plt.subplots(figsize=(18, 7))\n",
    "display(data_spb)\n",
    "ax=sb.barplot(data=data_spb)\n",
    "ax.set_title('Average price per square meter for each kilometer from city center')\n",
    "plt.show()"
   ]
  },
  {
   "cell_type": "markdown",
   "metadata": {},
   "source": [
    "**Conclusion**\n",
    "\n",
    "To accomplish the task, a bar chart was built. It shows that a significant jump in prices occurs when moving from zero to the first kilometer. We will consider apartments within a kilometer radius from the center to be the center."
   ]
  },
  {
   "cell_type": "code",
   "execution_count": 45,
   "metadata": {},
   "outputs": [],
   "source": [
    "data_heart = data.loc[(data['locality_name']== 'Санкт-Петербург')& (data['cityCenters_nearest'] < 1000)]\n",
    "data_city = data.loc[(data['locality_name']== 'Санкт-Петербург')& (data['cityCenters_nearest'] >= 1000)]"
   ]
  },
  {
   "cell_type": "code",
   "execution_count": 46,
   "metadata": {
    "scrolled": true
   },
   "outputs": [
    {
     "name": "stdout",
     "output_type": "stream",
     "text": [
      "Apartment area\n",
      "count 84.0   15391.0\n",
      "mean 108.81166666666662   63.92299200831639\n",
      "std 66.91990977952376   37.411067522486555\n",
      "min 12.0   13.0\n",
      "25% 70.67500000000001   41.9\n",
      "50% 95.4   55.0\n",
      "75% 125.525   74.0\n",
      "max 483.9   517.0\n"
     ]
    },
    {
     "data": {
      "image/png": "[encoded data removed]",
      "text/plain": [
       "<Figure size 2160x720 with 2 Axes>"
      ]
     },
     "metadata": {
      "needs_background": "light"
     },
     "output_type": "display_data"
    },
    {
     "name": "stdout",
     "output_type": "stream",
     "text": [
      "Apartment price\n"
     ]
    },
    {
     "data": {
      "image/png": "[encoded data removed]",
      "text/plain": [
       "<Figure size 2160x720 with 2 Axes>"
      ]
     },
     "metadata": {
      "needs_background": "light"
     },
     "output_type": "display_data"
    },
    {
     "name": "stdout",
     "output_type": "stream",
     "text": [
      "Number of rooms\n"
     ]
    },
    {
     "data": {
      "image/png": "[encoded data removed]",
      "text/plain": [
       "<Figure size 1440x720 with 2 Axes>"
      ]
     },
     "metadata": {
      "needs_background": "light"
     },
     "output_type": "display_data"
    },
    {
     "name": "stdout",
     "output_type": "stream",
     "text": [
      "ceiling height\n"
     ]
    },
    {
     "data": {
      "image/png": "[encoded data removed]",
      "text/plain": [
       "<Figure size 2160x720 with 2 Axes>"
      ]
     },
     "metadata": {
      "needs_background": "light"
     },
     "output_type": "display_data"
    },
    {
     "name": "stdout",
     "output_type": "stream",
     "text": [
      "Apartment floor category\n"
     ]
    },
    {
     "data": {
      "image/png": "[encoded data removed]",
      "text/plain": [
       "<Figure size 2160x720 with 2 Axes>"
      ]
     },
     "metadata": {
      "needs_background": "light"
     },
     "output_type": "display_data"
    }
   ],
   "source": [
    "print('Apartment area')\n",
    "for a in zip(['count','mean','std','min','25%','50%','75%','max'],\n",
    "             data_heart['total_area'].describe(), \n",
    "             data_city['total_area'].describe()):\n",
    "    print(a[0],a[1],' ',a[2])\n",
    "fig = plt.figure(figsize=(30, 10))\n",
    "ax = fig.add_subplot(121)\n",
    "plt.title (\"Center\")\n",
    "ax=plt.hist(x='total_area', data= data_heart)\n",
    "\n",
    "ax2 = fig.add_subplot(122)\n",
    "plt.title (\"City\")\n",
    "ax2=plt.hist(x='total_area', data = data_city)\n",
    "plt.show()\n",
    "\n",
    "print('Apartment price')\n",
    "fig = plt.figure(figsize=(30, 10))\n",
    "ax = fig.add_subplot(121)\n",
    "plt.title (\"Center\")\n",
    "ax=plt.hist(x='last_price', data=data_heart,bins=20 ,facecolor='g')\n",
    "\n",
    "ax2 = fig.add_subplot(122)\n",
    "plt.title (\"City\")\n",
    "ax2=plt.hist(x='last_price', data = data_city,bins = 60 ,facecolor='g')\n",
    "plt.show()\n",
    "\n",
    "\n",
    "print('Number of rooms')\n",
    "fig = plt.figure(figsize=(20, 10))\n",
    "ax = fig.add_subplot(121)\n",
    "plt.title (\"Center\")\n",
    "ax=sb.countplot(x='rooms', data=data_heart)\n",
    "\n",
    "\n",
    "ax2 = fig.add_subplot(122)\n",
    "plt.title (\"City\")\n",
    "ax2=sb.countplot(x='rooms', data = data_city)\n",
    "plt.show()\n",
    "\n",
    "\n",
    "\n",
    "print('ceiling height')\n",
    "fig = plt.figure(figsize=(30, 10))\n",
    "ax = fig.add_subplot(121)\n",
    "plt.title (\"Center\")\n",
    "ax=plt.hist(x='ceiling_height', data=data_heart, facecolor='g')\n",
    "\n",
    "ax2 = fig.add_subplot(122)\n",
    "plt.title (\"City\")\n",
    "ax2=plt.hist(x='ceiling_height', data = data_city, facecolor='g')\n",
    "plt.show()\n",
    "\n",
    "\n",
    "\n",
    "print('Apartment floor category')\n",
    "fig = plt.figure(figsize=(30, 10))\n",
    "ax = fig.add_subplot(121)\n",
    "plt.title (\"Center\")\n",
    "ax=sb.countplot(x='floor_category', data=data_heart)\n",
    "\n",
    "ax2 = fig.add_subplot(122)\n",
    "plt.title (\"City\")\n",
    "ax2=sb.countplot(x='floor_category', data = data_city)\n",
    "plt.show()"
   ]
  },
  {
   "cell_type": "code",
   "execution_count": 47,
   "metadata": {
    "scrolled": false
   },
   "outputs": [
    {
     "name": "stdout",
     "output_type": "stream",
     "text": [
      "Scattering table of price and number of rooms\n"
     ]
    },
    {
     "data": {
      "image/png": "[encoded data removed]",
      "text/plain": [
       "<Figure size 432x288 with 1 Axes>"
      ]
     },
     "metadata": {
      "needs_background": "light"
     },
     "output_type": "display_data"
    },
    {
     "data": {
      "image/png": "[encoded data removed]",
      "text/plain": [
       "<Figure size 432x288 with 1 Axes>"
      ]
     },
     "metadata": {
      "needs_background": "light"
     },
     "output_type": "display_data"
    },
    {
     "name": "stdout",
     "output_type": "stream",
     "text": [
      "Price dispersion table and distance from the center\n"
     ]
    },
    {
     "data": {
      "image/png": "[encoded data removed]",
      "text/plain": [
       "<Figure size 432x288 with 1 Axes>"
      ]
     },
     "metadata": {
      "needs_background": "light"
     },
     "output_type": "display_data"
    },
    {
     "data": {
      "image/png": "[encoded data removed]",
      "text/plain": [
       "<Figure size 432x288 with 1 Axes>"
      ]
     },
     "metadata": {
      "needs_background": "light"
     },
     "output_type": "display_data"
    },
    {
     "name": "stdout",
     "output_type": "stream",
     "text": [
      "Price heatmap by placement dates\n"
     ]
    },
    {
     "data": {
      "image/png": "[encoded data removed]",
      "text/plain": [
       "<Figure size 1008x720 with 2 Axes>"
      ]
     },
     "metadata": {
      "needs_background": "light"
     },
     "output_type": "display_data"
    },
    {
     "data": {
      "image/png": "[encoded data removed]",
      "text/plain": [
       "<Figure size 1008x720 with 2 Axes>"
      ]
     },
     "metadata": {
      "needs_background": "light"
     },
     "output_type": "display_data"
    }
   ],
   "source": [
    "print('Scattering table of price and number of rooms')\n",
    "data_heart.plot.scatter(x = 'rooms', y = 'price_per_meter', alpha = .6)\n",
    "plt.title('Center')\n",
    "plt.show()\n",
    "\n",
    "data_city.plot.scatter(x = 'rooms', y = 'price_per_meter', alpha = .3)\n",
    "plt.title('City')\n",
    "plt.show()\n",
    "\n",
    "print('Price dispersion table and distance from the center')\n",
    "data_heart.plot.scatter(x = 'cityCenters_nearest', y = 'price_per_meter', alpha = .6)\n",
    "plt.title('Center')\n",
    "plt.show()\n",
    "\n",
    "data_city.plot.scatter(x = 'cityCenters_nearest', y = 'price_per_meter', alpha = .3)\n",
    "plt.title('City')\n",
    "plt.show()\n",
    "\n",
    "print('Price heatmap by placement dates')\n",
    "ax = plt.subplots(figsize=(14, 10))\n",
    "plt.title('Center')\n",
    "ax = sb.heatmap(data_heart.pivot_table(index = \"year\",columns = \"month\", values= 'price_per_meter', aggfunc= 'mean'))\n",
    "\n",
    "ax = plt.subplots(figsize=(14, 10))\n",
    "plt.title('City')\n",
    "ax = sb.heatmap(data_city.pivot_table(index = \"year\",columns = \"month\", values= 'price_per_meter', aggfunc= 'mean'))"
   ]
  },
  {
   "cell_type": "markdown",
   "metadata": {},
   "source": [
    "**Conclusion**\n",
    "\n",
    "Based on the above data, we can conclude that the area of ​​​​apartments in the center is on average larger than in the city as a whole, however, it is worth noting that the minimum area of ​​​​the premises is also located in the city center.\n",
    "In the center, the most common offers are three-room apartments, while in the city as a whole, apartments with one or two rooms are more common.\n",
    "It is worth noting that in the center the average ceiling height is much higher than in the city as a whole. Also, the proportion of apartments on the top floor is higher than in the city.\n",
    "\n",
    "When looking for the factors that most affect the cost, it can be noted that the category of the floor plays in a negative way. So in apartments on the first floors in the center, often, the cost per square meter is lower than on the top floor and, in particular, on a floor different from the first and last.\n",
    "\n",
    "The cost depending on the date is very noticeable. So we can see the rise in prices at the beginning of observations (end of 2014) and at the end of observations (end of 2018-first quarter of 2019). At the same time, prices for flats in the center are noticeably falling, while housing prices outside the center have been rising. So you can see that in June-July 2015 housing prices in the city were above average, while in the center the price was below the average for the period under study.\n",
    "\n",
    "It can be obtained that the pricing of the cost of apartments in the city center is insignificant, however, it differs from the pricing in the city as a whole."
   ]
  },
  {
   "cell_type": "markdown",
   "metadata": {},
   "source": [
    "**Conclusion**\n",
    "\n",
    "The data were studied in detail, various graphs were constructed that establish the relationship between the quantities and, as a result, answers to research questions were received. More details about the results of work with this section can be found in the general conclusion."
   ]
  },
  {
   "cell_type": "markdown",
   "metadata": {},
   "source": [
    "## Total conclusion"
   ]
  },
  {
   "cell_type": "markdown",
   "metadata": {},
   "source": [
    "This study is based on the table \"real_estate_data.csv\" containing 22 columns with 23699 rows. The values in each column were studied, adjusted to the form required for the study and, if possible, missing values were filled in, as can be seen in the relevant part of the study.\n",
    "\n",
    "It is important to note that the study was conducted in accordance with the chronology proposed in the documentation for the work.\n",
    "\n",
    "During the exploratory data analysis, the values in the columns were analyzed -\n",
    "-‘total_area'\n",
    "-'last_price'\n",
    "-'price_per_meter'\n",
    "-'rooms'\n",
    "-'ceiling_height'\n",
    "-‘living_perc'\n",
    "-'days_exposition'\n",
    "\n",
    "Purpose: to identify rare and outliers in order to remove them from further consideration.\n",
    "\n",
    "The 'total_area' column contains 23699 non-null values. The range plot shows a large number of outliers to the right of the interquartile range. For further research, values exceeding 550 square meters will be removed.\n",
    "\n",
    "\n",
    "Let's pay attention to the 'last_price' column. It also contains 23699 non-zero values. It is also characterized by \"outliers\" outside the interquartile range. Based on the range diagram, values in excess of 200 million rubles per apartment will be removed from the study.\n",
    "\n",
    "Next, let's take a closer look at the values in the 'price_per_meter' column. It is on this column that we will focus our attention. The price per square meter is a more universal characteristic that allows you to compare the price of an apartment with a large footage with the price of an apartment with a small footage.\n",
    "Using the range chart, we can establish that there are price outliers not only to the right of the interquartile range, but also to the right of it.\n",
    "\n",
    "Let's take into account that there are two categories in the study: apartments in St. Petersburg and the Leningrad region. These data are heterogeneous, which can lead to incorrect interpretation of the outlier concept. Therefore, two range diagrams were presented in the study. For St. Petersburg and the Leningrad region.\n",
    "\n",
    "Ads with a price exceeding 750 thousand rubles per square meter will be excluded from the study as emissions.\n",
    "\n",
    "The 'rooms' column contains 23699 non-null values. Here, values are also observed outside the interquartile range, however, it was not possible to identify values that strongly stand out from the overall picture. The study of the number of rooms and their average area indicates the plausibility of such values.\n",
    "\n",
    "The 'ceiling_height' column has 14257 values ranging from 1 to 100 meters. A study of state standards for ceiling heights showed that ceilings below 2.5 meters are not made. At the same time, there are no strict standards on the maximum height of ceilings. However, based on common practice, ceilings are not made more than 4 meters high. values greater than 4.5 meters and less than 2.5 meters will be removed from the study\n",
    "\n",
    "The 'living_perc' column shows the ratio of living area to the total area of the premises. The range plot showed a large number of outliers both to the left and to the right of the interquartile range. However, we will consider as outliers only values that are significantly to the left of the interquartile range, i.e. less than 30%\n",
    "\n",
    "\n",
    "The 'days_exposition' column has 20518 values. The median value is 95 days. On the histogram, we see that the fashion is in the range of 40-50 days. Separately, we note that Q1, the first quartile is 45. From all of the above, we conclude that it usually takes from 40 to 232 days to sell. If the sale takes less than 40 days, then we can say that the sale went quickly. If the sale drags on for more than 232 days, then the sale took an unusually long time.\n",
    "\n",
    "As a result, we note that there were anomalies in the data that could negatively affect the final conclusion. However, their percentage is not large. After removing all identified outliers, we retained 98.9% of the original dataset.\n",
    "\n",
    "Next, we proceed to the development of research hypotheses.\n",
    "\n",
    "- What factors most influence the cost of an apartment?\n",
    "\n",
    "To determine the factors affecting the price, the correlation coefficient was calculated between the total area, number of rooms, distance from the center, floor category, distance from the center and price.\n",
    "\n",
    "Note that the highest degree of correlation with the price, characterized as strong, has the total area. There is also an average relationship between price and kitchen area and a moderate relationship with the number of rooms. The relationship between floor and price is very weak. However, the fact that the value of the correlation coefficient is greater than zero indicates that the price has a direct proportional relationship with the increase in the floor, for the first floor there is a tendency to a slight decrease in price.\n",
    "Separately, consider the relationship between the distance to the center and the price. Initially, the correlation coefficient is less than zero, which indicates an inversely proportional relationship, however, its absolute value tends to zero. In this case, for the correctness of calculations, we will divide the values ​​for apartments in St. Petersburg and the Leningrad region. The obtained values of the correlation coefficient indicate a moderate relationship between the proximity of an object to the center and the price for a room within St. Petersburg and a weak relationship outside St. Petersburg.\n",
    "\n",
    "- Learn the dependence on the date of placement: day of the week, month and year.\n",
    "\n",
    "To establish the relationship between price and date, bar charts and hitmaps were built.\n",
    "\n",
    "The bar chart shows that there is an unsustainable downward trend in the average home price.\n",
    "A hitmap allows you to get acquainted with the data in more detail and note that this trend is not monotonous. And although it is difficult to single out a month or a season when the price is higher, it can be noted that in the winter months the price is often lower.\n",
    "You can also see that the price of housing began a gradual increase starting from March 2018.\n",
    "\n",
    "\n",
    "Examining the bar chart with the days of the week shows that there are anomalies in the values for 2014. It can be assumed that this is due to the fact that the data is presented for only two months, however, it can be noted that according to open sources, Yandex.Real Estate, where the data was taken from, allowed individuals to independently publish ads only from December 2014 (https://ru.wikipedia.org/wiki/%D0%AF%D0%BD%D0%B4%D0%B5%D0%BA%D1%81.%D0%9D%D0%B5%D0%B4%D0%B2%D0%B8%D0%B6%D0%B8%D0%BC%D0%BE%D1%81%D1%82%D1%8C). \n",
    "\n",
    "It is possible to assume that this fact could affect the average price in the data.\n",
    "If we remove 2014 from consideration, we can see that the day when the average price per square meter was the lowest is Saturday. However, it is worth noting that in percentage terms, the difference is not more than 2 percent.\n",
    "\n",
    "- Select the 10 locations with the most ads. Calculate the average price per square meter in these settlements\n",
    "\n",
    "Here is a list of ten localities with an indication of the average price per square meter in this locality:\n",
    "The average price per square meter in the village of Murino is 86.07 thousand rubles.\n",
    "The average price per square meter in the village of Shushary is 78.67 thousand rubles.\n",
    "The average price per square meter in the village of Vsevolozhsk is 67.14 thousand rubles.\n",
    "The average price per square meter in the village of Pushkin is 102.2 thousand rubles.\n",
    "The average price per square meter in the village of Kolpino is 75.53 thousand rubles.\n",
    "The average price per square meter in the village of Pargolovo is 90.02 thousand rubles.\n",
    "The average price per square meter in the village of Gatchina is 68.84 thousand rubles.\n",
    "The average price per square meter in the village of Kudrovo is 92.53 thousand rubles.\n",
    "The average price per square meter in the village of Vyborg is 58.17 thousand rubles.\n",
    "The average price per square meter in the village of Peterhof is 84.03 thousand rubles.\n",
    "\n",
    "It should be noted that, apart from Vyborg, all cities are located in close proximity to St. Petersburg or are an administrative unit of the federal city of St. Petersburg (for example, Pushkin).\n",
    "And it is in Vyborg that the lowest average price per square meter among the ten cities listed above.\n",
    "\n",
    "- Select the settlements with the highest and lowest cost of housing.\n",
    "\n",
    "To accomplish this task, the average values of prices per square meter in each locality were derived, sorted in ascending order.\n",
    "\n",
    "According to the data received, the lowest price per square meter is 11 tr. in the locality: \"the village of Staropolye\".\n",
    "According to Russian Wikipedia, this is a settlement with a population of 823 people. (for 2017), located in the southwest of the Leningrad region. The village has five apartment buildings and several dozen private houses.\n",
    "\n",
    "The locality with the highest average price per square meter is the village of Lisiy Nos. It is located on the northern coast of the Gulf of Finland and is part of the city of St. Petersburg. Population about 4600 people (as of 2021)\n",
    "\n",
    "- Find out which area is included in the center. Calculate the average price for each kilometer. Build a graph. Identify the boundary where the graph changes a lot.\n",
    "\n",
    "To accomplish the task, according to the task, a bar chart was built. It shows that a significant jump in prices occurs when moving from zero to the first kilometer. Please note that according to the construction of the zero kilometer, entering apartments with a distance to the center of less than 500m. There are 27 such apartments in the dataset. Additionally, we note that the average price per sq. meter within a radius of 500 m from the center: 246 thousand rubles. At the same time, the average price per square meter within a kilometer radius is 182 tr. The price per square meter within a radius of two kilometers from the center is 145 tr. apartments, within a radius of 1 km. from the center 84. Therefore, in order to maintain representativeness, two types of data were also saved: for apartments within a radius of 500m. from the center and within a radius of one kilometer from the center.\n",
    "\n",
    "For both groups of values, you can see that the most common offers are with 2 or 3 rooms, on the floor of the category different (not the first and not the last). Significant peaks in the distribution table at around 300 meters from the center and 600-700 meters from the center. It is important to note that if you take apartments from a radius of 1 km. then new offers for sale there appear regularly. New offers appear within a radius of 500 m from the center, but it is impossible to say that there is a constant presence of new offers."
   ]
  }
 ],
 "metadata": {
  "ExecuteTimeLog": [
   {
    "duration": 661,
    "start_time": "2022-01-27T21:05:52.486Z"
   },
   {
    "duration": 839,
    "start_time": "2022-01-28T08:36:05.363Z"
   },
   {
    "duration": 146,
    "start_time": "2022-01-28T08:37:32.592Z"
   },
   {
    "duration": 124,
    "start_time": "2022-01-28T11:49:16.029Z"
   },
   {
    "duration": 128,
    "start_time": "2022-01-28T11:53:46.835Z"
   },
   {
    "duration": 138,
    "start_time": "2022-01-28T11:53:55.932Z"
   },
   {
    "duration": 157,
    "start_time": "2022-01-28T11:54:48.866Z"
   },
   {
    "duration": 125,
    "start_time": "2022-01-28T11:56:12.392Z"
   },
   {
    "duration": 343,
    "start_time": "2022-01-29T07:54:45.815Z"
   },
   {
    "duration": 690,
    "start_time": "2022-01-29T07:54:54.320Z"
   },
   {
    "duration": 4,
    "start_time": "2022-01-29T07:54:59.551Z"
   },
   {
    "duration": 28,
    "start_time": "2022-01-29T07:55:30.536Z"
   },
   {
    "duration": 23,
    "start_time": "2022-01-29T07:55:43.389Z"
   },
   {
    "duration": 22,
    "start_time": "2022-01-29T07:56:01.292Z"
   },
   {
    "duration": 94,
    "start_time": "2022-01-29T07:56:12.621Z"
   },
   {
    "duration": 24,
    "start_time": "2022-01-29T07:56:12.717Z"
   },
   {
    "duration": 97,
    "start_time": "2022-01-29T07:56:26.687Z"
   },
   {
    "duration": 21,
    "start_time": "2022-01-29T07:56:30.917Z"
   },
   {
    "duration": 26,
    "start_time": "2022-01-29T07:58:07.984Z"
   },
   {
    "duration": 91,
    "start_time": "2022-01-29T07:58:23.751Z"
   },
   {
    "duration": 28,
    "start_time": "2022-01-29T07:58:27.518Z"
   },
   {
    "duration": 95,
    "start_time": "2022-01-29T07:59:52.722Z"
   },
   {
    "duration": 4,
    "start_time": "2022-01-29T07:59:57.191Z"
   },
   {
    "duration": 282,
    "start_time": "2022-01-29T08:01:35.112Z"
   },
   {
    "duration": 2,
    "start_time": "2022-01-29T08:01:54.649Z"
   },
   {
    "duration": 260,
    "start_time": "2022-01-29T08:02:46.846Z"
   },
   {
    "duration": 260,
    "start_time": "2022-01-29T08:02:51.473Z"
   },
   {
    "duration": 263,
    "start_time": "2022-01-29T08:03:10.426Z"
   },
   {
    "duration": 279,
    "start_time": "2022-01-29T08:03:37.675Z"
   },
   {
    "duration": 249,
    "start_time": "2022-01-29T08:03:58.249Z"
   },
   {
    "duration": 7,
    "start_time": "2022-01-29T08:04:17.686Z"
   },
   {
    "duration": 6,
    "start_time": "2022-01-29T08:05:11.570Z"
   },
   {
    "duration": 5,
    "start_time": "2022-01-29T08:05:21.684Z"
   },
   {
    "duration": 8,
    "start_time": "2022-01-29T08:08:51.843Z"
   },
   {
    "duration": 10,
    "start_time": "2022-01-29T08:09:18.024Z"
   },
   {
    "duration": 7061,
    "start_time": "2022-01-29T08:10:29.040Z"
   },
   {
    "duration": 6480,
    "start_time": "2022-01-29T08:10:45.800Z"
   },
   {
    "duration": 269,
    "start_time": "2022-01-29T08:10:57.011Z"
   },
   {
    "duration": 9,
    "start_time": "2022-01-29T08:11:48.518Z"
   },
   {
    "duration": 258,
    "start_time": "2022-01-29T08:13:01.279Z"
   },
   {
    "duration": 41,
    "start_time": "2022-01-29T08:13:30.165Z"
   },
   {
    "duration": 297,
    "start_time": "2022-01-29T08:16:32.702Z"
   },
   {
    "duration": 34,
    "start_time": "2022-01-29T08:25:45.435Z"
   },
   {
    "duration": 78,
    "start_time": "2022-01-29T08:32:52.637Z"
   },
   {
    "duration": 79,
    "start_time": "2022-01-29T08:33:06.610Z"
   },
   {
    "duration": 6363,
    "start_time": "2022-01-29T08:33:24.945Z"
   },
   {
    "duration": 5985,
    "start_time": "2022-01-29T08:33:45.542Z"
   },
   {
    "duration": 6267,
    "start_time": "2022-01-29T08:33:57.533Z"
   },
   {
    "duration": 36,
    "start_time": "2022-01-29T08:35:07.645Z"
   },
   {
    "duration": 40,
    "start_time": "2022-01-29T08:42:59.050Z"
   },
   {
    "duration": 270,
    "start_time": "2022-01-29T08:43:39.574Z"
   },
   {
    "duration": 42,
    "start_time": "2022-01-29T08:45:24.972Z"
   },
   {
    "duration": 6175,
    "start_time": "2022-01-29T08:45:46.626Z"
   },
   {
    "duration": 42,
    "start_time": "2022-01-29T08:46:00.094Z"
   },
   {
    "duration": 39,
    "start_time": "2022-01-29T08:46:23.445Z"
   },
   {
    "duration": 8,
    "start_time": "2022-01-29T08:55:25.281Z"
   },
   {
    "duration": 12,
    "start_time": "2022-01-29T10:09:58.870Z"
   },
   {
    "duration": 26,
    "start_time": "2022-01-29T10:10:52.499Z"
   },
   {
    "duration": 9,
    "start_time": "2022-01-29T10:12:00.908Z"
   },
   {
    "duration": 8,
    "start_time": "2022-01-29T10:13:45.186Z"
   },
   {
    "duration": 24,
    "start_time": "2022-01-29T10:16:23.919Z"
   },
   {
    "duration": 21,
    "start_time": "2022-01-29T10:16:33.536Z"
   },
   {
    "duration": 6,
    "start_time": "2022-01-29T10:16:52.684Z"
   },
   {
    "duration": 145,
    "start_time": "2022-01-29T10:17:01.893Z"
   },
   {
    "duration": 6,
    "start_time": "2022-01-29T10:17:09.868Z"
   },
   {
    "duration": 22,
    "start_time": "2022-01-29T10:17:23.475Z"
   },
   {
    "duration": 238,
    "start_time": "2022-01-29T10:19:24.066Z"
   },
   {
    "duration": 264,
    "start_time": "2022-01-29T10:19:39.021Z"
   },
   {
    "duration": 9,
    "start_time": "2022-01-29T10:19:45.221Z"
   },
   {
    "duration": 14,
    "start_time": "2022-01-29T10:19:57.620Z"
   },
   {
    "duration": 35,
    "start_time": "2022-01-29T10:20:18.107Z"
   },
   {
    "duration": 7,
    "start_time": "2022-01-29T10:20:20.854Z"
   },
   {
    "duration": 36,
    "start_time": "2022-01-29T10:21:00.928Z"
   },
   {
    "duration": 20,
    "start_time": "2022-01-29T10:21:36.192Z"
   },
   {
    "duration": 8,
    "start_time": "2022-01-29T10:21:58.370Z"
   },
   {
    "duration": 251,
    "start_time": "2022-01-29T10:22:10.138Z"
   },
   {
    "duration": 245,
    "start_time": "2022-01-29T10:22:18.179Z"
   },
   {
    "duration": 6,
    "start_time": "2022-01-29T10:22:26.333Z"
   },
   {
    "duration": 15,
    "start_time": "2022-01-29T10:22:35.712Z"
   },
   {
    "duration": 33,
    "start_time": "2022-01-29T10:23:13.218Z"
   },
   {
    "duration": 257,
    "start_time": "2022-01-29T10:25:38.155Z"
   },
   {
    "duration": 2,
    "start_time": "2022-01-29T10:28:07.282Z"
   },
   {
    "duration": 15,
    "start_time": "2022-01-29T10:28:30.339Z"
   },
   {
    "duration": 35,
    "start_time": "2022-01-29T10:28:40.862Z"
   },
   {
    "duration": 16,
    "start_time": "2022-01-29T10:29:19.251Z"
   },
   {
    "duration": 8,
    "start_time": "2022-01-29T10:45:07.296Z"
   },
   {
    "duration": 15,
    "start_time": "2022-01-29T10:45:32.490Z"
   },
   {
    "duration": 8,
    "start_time": "2022-01-29T10:50:22.927Z"
   },
   {
    "duration": 9,
    "start_time": "2022-01-29T10:52:09.873Z"
   },
   {
    "duration": 23,
    "start_time": "2022-01-29T11:42:04.916Z"
   },
   {
    "duration": 289,
    "start_time": "2022-01-29T11:42:14.927Z"
   },
   {
    "duration": 289,
    "start_time": "2022-01-29T11:42:26.791Z"
   },
   {
    "duration": 284,
    "start_time": "2022-01-29T11:44:52.436Z"
   },
   {
    "duration": 11,
    "start_time": "2022-01-29T11:45:11.341Z"
   },
   {
    "duration": 12,
    "start_time": "2022-01-29T11:45:23.041Z"
   },
   {
    "duration": 36,
    "start_time": "2022-01-29T11:47:50.203Z"
   },
   {
    "duration": 92,
    "start_time": "2022-01-29T11:48:21.985Z"
   },
   {
    "duration": 19,
    "start_time": "2022-01-29T11:48:22.079Z"
   },
   {
    "duration": 38,
    "start_time": "2022-01-29T11:48:22.100Z"
   },
   {
    "duration": 10,
    "start_time": "2022-01-29T11:51:11.669Z"
   },
   {
    "duration": 97,
    "start_time": "2022-01-29T12:08:14.544Z"
   },
   {
    "duration": 34,
    "start_time": "2022-01-29T12:08:14.643Z"
   },
   {
    "duration": 28,
    "start_time": "2022-01-29T12:10:58.624Z"
   },
   {
    "duration": 23,
    "start_time": "2022-01-29T12:11:14.329Z"
   },
   {
    "duration": 11,
    "start_time": "2022-01-29T12:17:06.430Z"
   },
   {
    "duration": 125,
    "start_time": "2022-01-29T12:21:51.648Z"
   },
   {
    "duration": 29,
    "start_time": "2022-01-29T12:21:51.775Z"
   },
   {
    "duration": 9,
    "start_time": "2022-01-29T12:21:51.806Z"
   },
   {
    "duration": 9,
    "start_time": "2022-01-29T12:21:51.817Z"
   },
   {
    "duration": 40,
    "start_time": "2022-01-29T12:21:51.828Z"
   },
   {
    "duration": 51,
    "start_time": "2022-01-29T12:21:51.870Z"
   },
   {
    "duration": 23,
    "start_time": "2022-01-29T12:22:22.478Z"
   },
   {
    "duration": 24,
    "start_time": "2022-01-29T12:24:55.518Z"
   },
   {
    "duration": 14,
    "start_time": "2022-01-29T12:26:11.225Z"
   },
   {
    "duration": 17,
    "start_time": "2022-01-29T12:28:53.579Z"
   },
   {
    "duration": 15,
    "start_time": "2022-01-29T12:31:55.650Z"
   },
   {
    "duration": 9,
    "start_time": "2022-01-29T12:36:17.038Z"
   },
   {
    "duration": 165,
    "start_time": "2022-01-29T12:38:07.944Z"
   },
   {
    "duration": 25,
    "start_time": "2022-01-29T12:38:08.111Z"
   },
   {
    "duration": 29,
    "start_time": "2022-01-29T12:38:08.138Z"
   },
   {
    "duration": 14,
    "start_time": "2022-01-29T12:38:09.806Z"
   },
   {
    "duration": 799,
    "start_time": "2022-01-29T17:05:06.170Z"
   },
   {
    "duration": 33,
    "start_time": "2022-01-29T17:05:06.972Z"
   },
   {
    "duration": 12,
    "start_time": "2022-01-29T17:05:07.023Z"
   },
   {
    "duration": 19,
    "start_time": "2022-01-29T17:05:07.039Z"
   },
   {
    "duration": 16,
    "start_time": "2022-01-29T17:05:07.061Z"
   },
   {
    "duration": 74,
    "start_time": "2022-01-29T17:05:07.080Z"
   },
   {
    "duration": 7,
    "start_time": "2022-01-29T17:05:09.549Z"
   },
   {
    "duration": 61,
    "start_time": "2022-01-29T17:05:55.224Z"
   },
   {
    "duration": 69,
    "start_time": "2022-01-29T17:06:15.376Z"
   },
   {
    "duration": 58,
    "start_time": "2022-01-29T17:06:39.493Z"
   },
   {
    "duration": 53,
    "start_time": "2022-01-29T17:06:48.047Z"
   },
   {
    "duration": 60,
    "start_time": "2022-01-29T17:17:59.518Z"
   },
   {
    "duration": 10,
    "start_time": "2022-01-29T17:25:27.768Z"
   },
   {
    "duration": 12,
    "start_time": "2022-01-29T17:33:37.175Z"
   },
   {
    "duration": 10,
    "start_time": "2022-01-29T17:33:42.325Z"
   },
   {
    "duration": 10,
    "start_time": "2022-01-29T17:33:52.341Z"
   },
   {
    "duration": 13,
    "start_time": "2022-01-29T17:34:05.644Z"
   },
   {
    "duration": 11,
    "start_time": "2022-01-29T17:34:10.489Z"
   },
   {
    "duration": 10,
    "start_time": "2022-01-29T17:34:15.002Z"
   },
   {
    "duration": 10,
    "start_time": "2022-01-29T17:39:13.582Z"
   },
   {
    "duration": 11,
    "start_time": "2022-01-29T17:39:18.766Z"
   },
   {
    "duration": 10,
    "start_time": "2022-01-29T17:39:23.713Z"
   },
   {
    "duration": 12,
    "start_time": "2022-01-29T17:39:32.238Z"
   },
   {
    "duration": 14,
    "start_time": "2022-01-29T17:39:39.081Z"
   },
   {
    "duration": 12,
    "start_time": "2022-01-29T17:39:44.405Z"
   },
   {
    "duration": 10,
    "start_time": "2022-01-29T17:39:55.217Z"
   },
   {
    "duration": 153,
    "start_time": "2022-01-29T17:44:05.512Z"
   },
   {
    "duration": 40,
    "start_time": "2022-01-29T17:44:23.653Z"
   },
   {
    "duration": 95,
    "start_time": "2022-01-29T18:46:57.721Z"
   },
   {
    "duration": 6319,
    "start_time": "2022-01-29T18:47:02.044Z"
   },
   {
    "duration": 18,
    "start_time": "2022-01-29T18:47:24.279Z"
   },
   {
    "duration": 773,
    "start_time": "2022-01-29T18:47:52.685Z"
   },
   {
    "duration": 783,
    "start_time": "2022-01-29T18:48:01.346Z"
   },
   {
    "duration": 779,
    "start_time": "2022-01-29T18:53:59.104Z"
   },
   {
    "duration": 18,
    "start_time": "2022-01-29T18:54:03.300Z"
   },
   {
    "duration": 17,
    "start_time": "2022-01-29T18:56:42.415Z"
   },
   {
    "duration": 95,
    "start_time": "2022-01-29T18:56:47.801Z"
   },
   {
    "duration": 17,
    "start_time": "2022-01-29T18:56:54.194Z"
   },
   {
    "duration": 204,
    "start_time": "2022-01-29T18:57:04.259Z"
   },
   {
    "duration": 58,
    "start_time": "2022-01-29T18:57:04.467Z"
   },
   {
    "duration": 21,
    "start_time": "2022-01-29T18:57:04.535Z"
   },
   {
    "duration": 37,
    "start_time": "2022-01-29T18:57:04.560Z"
   },
   {
    "duration": 36,
    "start_time": "2022-01-29T18:57:04.600Z"
   },
   {
    "duration": 54,
    "start_time": "2022-01-29T18:57:04.640Z"
   },
   {
    "duration": 35,
    "start_time": "2022-01-29T19:17:17.216Z"
   },
   {
    "duration": 116,
    "start_time": "2022-01-29T19:17:28.960Z"
   },
   {
    "duration": 48,
    "start_time": "2022-01-29T19:17:29.079Z"
   },
   {
    "duration": 11,
    "start_time": "2022-01-29T19:17:29.130Z"
   },
   {
    "duration": 17,
    "start_time": "2022-01-29T19:17:29.143Z"
   },
   {
    "duration": 13,
    "start_time": "2022-01-29T19:17:29.162Z"
   },
   {
    "duration": 63,
    "start_time": "2022-01-29T19:17:29.177Z"
   },
   {
    "duration": 138,
    "start_time": "2022-01-29T19:17:48.294Z"
   },
   {
    "duration": 37,
    "start_time": "2022-01-29T19:17:48.436Z"
   },
   {
    "duration": 12,
    "start_time": "2022-01-29T19:17:48.476Z"
   },
   {
    "duration": 49,
    "start_time": "2022-01-29T19:17:48.491Z"
   },
   {
    "duration": 14,
    "start_time": "2022-01-29T19:17:48.543Z"
   },
   {
    "duration": 31,
    "start_time": "2022-01-29T19:17:48.560Z"
   },
   {
    "duration": 20,
    "start_time": "2022-01-29T19:17:48.624Z"
   },
   {
    "duration": 16,
    "start_time": "2022-01-29T19:18:10.392Z"
   },
   {
    "duration": 49,
    "start_time": "2022-01-29T19:19:03.119Z"
   },
   {
    "duration": 124,
    "start_time": "2022-01-29T19:26:00.954Z"
   },
   {
    "duration": 5,
    "start_time": "2022-01-29T19:26:01.081Z"
   },
   {
    "duration": 19,
    "start_time": "2022-01-29T19:26:01.089Z"
   },
   {
    "duration": 30,
    "start_time": "2022-01-29T19:26:01.110Z"
   },
   {
    "duration": 14,
    "start_time": "2022-01-29T19:26:01.142Z"
   },
   {
    "duration": 45,
    "start_time": "2022-01-29T19:26:01.159Z"
   },
   {
    "duration": 51,
    "start_time": "2022-01-29T19:26:04.694Z"
   },
   {
    "duration": 14,
    "start_time": "2022-01-29T19:41:30.416Z"
   },
   {
    "duration": 30,
    "start_time": "2022-01-29T20:05:44.405Z"
   },
   {
    "duration": 13,
    "start_time": "2022-01-29T20:05:53.807Z"
   },
   {
    "duration": 8,
    "start_time": "2022-01-29T20:06:39.619Z"
   },
   {
    "duration": 9,
    "start_time": "2022-01-29T20:06:59.884Z"
   },
   {
    "duration": 10,
    "start_time": "2022-01-29T20:07:05.798Z"
   },
   {
    "duration": 286,
    "start_time": "2022-01-29T20:07:25.966Z"
   },
   {
    "duration": 11,
    "start_time": "2022-01-29T20:07:45.061Z"
   },
   {
    "duration": 7,
    "start_time": "2022-01-29T20:08:08.611Z"
   },
   {
    "duration": 349,
    "start_time": "2022-01-29T20:08:16.632Z"
   },
   {
    "duration": 10,
    "start_time": "2022-01-29T20:08:39.504Z"
   },
   {
    "duration": 11,
    "start_time": "2022-01-29T20:08:51.129Z"
   },
   {
    "duration": 10,
    "start_time": "2022-01-29T20:08:57.687Z"
   },
   {
    "duration": 261,
    "start_time": "2022-01-29T20:10:48.953Z"
   },
   {
    "duration": 13,
    "start_time": "2022-01-29T20:10:56.231Z"
   },
   {
    "duration": 11,
    "start_time": "2022-01-29T20:11:40.223Z"
   },
   {
    "duration": 10,
    "start_time": "2022-01-29T20:13:12.916Z"
   },
   {
    "duration": 13,
    "start_time": "2022-01-29T20:14:11.533Z"
   },
   {
    "duration": 92,
    "start_time": "2022-01-29T20:16:00.438Z"
   },
   {
    "duration": 78,
    "start_time": "2022-01-29T20:16:19.673Z"
   },
   {
    "duration": 22,
    "start_time": "2022-01-29T20:33:05.548Z"
   },
   {
    "duration": 40,
    "start_time": "2022-01-29T20:33:12.872Z"
   },
   {
    "duration": 22,
    "start_time": "2022-01-29T20:34:31.671Z"
   },
   {
    "duration": 22,
    "start_time": "2022-01-29T20:34:36.377Z"
   },
   {
    "duration": 48,
    "start_time": "2022-01-29T20:34:41.740Z"
   },
   {
    "duration": 55,
    "start_time": "2022-01-29T20:35:18.986Z"
   },
   {
    "duration": 48,
    "start_time": "2022-01-29T20:35:37.233Z"
   },
   {
    "duration": 51,
    "start_time": "2022-01-29T20:56:02.260Z"
   },
   {
    "duration": 125,
    "start_time": "2022-01-29T20:56:15.170Z"
   },
   {
    "duration": 6,
    "start_time": "2022-01-29T20:56:15.299Z"
   },
   {
    "duration": 12,
    "start_time": "2022-01-29T20:56:15.324Z"
   },
   {
    "duration": 20,
    "start_time": "2022-01-29T20:56:15.340Z"
   },
   {
    "duration": 15,
    "start_time": "2022-01-29T20:56:15.363Z"
   },
   {
    "duration": 77,
    "start_time": "2022-01-29T20:56:15.381Z"
   },
   {
    "duration": 22,
    "start_time": "2022-01-29T20:56:15.461Z"
   },
   {
    "duration": 49,
    "start_time": "2022-01-29T20:56:15.522Z"
   },
   {
    "duration": 35,
    "start_time": "2022-01-29T20:57:07.967Z"
   },
   {
    "duration": 16,
    "start_time": "2022-01-29T20:57:20.813Z"
   },
   {
    "duration": 35,
    "start_time": "2022-01-29T20:57:23.553Z"
   },
   {
    "duration": 38,
    "start_time": "2022-01-29T20:57:29.232Z"
   },
   {
    "duration": 34,
    "start_time": "2022-01-29T20:57:34.517Z"
   },
   {
    "duration": 14,
    "start_time": "2022-01-29T20:58:10.028Z"
   },
   {
    "duration": 14,
    "start_time": "2022-01-29T21:11:19.900Z"
   },
   {
    "duration": 3,
    "start_time": "2022-01-29T21:14:13.784Z"
   },
   {
    "duration": 14,
    "start_time": "2022-01-29T21:21:01.216Z"
   },
   {
    "duration": 119,
    "start_time": "2022-01-29T22:03:42.122Z"
   },
   {
    "duration": 34,
    "start_time": "2022-01-29T22:03:42.243Z"
   },
   {
    "duration": 4,
    "start_time": "2022-01-29T22:03:42.281Z"
   },
   {
    "duration": 40,
    "start_time": "2022-01-29T22:03:42.288Z"
   },
   {
    "duration": 15,
    "start_time": "2022-01-29T22:03:42.331Z"
   },
   {
    "duration": 18,
    "start_time": "2022-01-29T22:03:42.349Z"
   },
   {
    "duration": 13,
    "start_time": "2022-01-29T22:03:42.369Z"
   },
   {
    "duration": 50,
    "start_time": "2022-01-29T22:03:42.384Z"
   },
   {
    "duration": 129,
    "start_time": "2022-01-29T22:05:21.151Z"
   },
   {
    "duration": 53,
    "start_time": "2022-01-29T22:05:21.283Z"
   },
   {
    "duration": 4,
    "start_time": "2022-01-29T22:05:21.339Z"
   },
   {
    "duration": 16,
    "start_time": "2022-01-29T22:05:21.346Z"
   },
   {
    "duration": 19,
    "start_time": "2022-01-29T22:05:21.365Z"
   },
   {
    "duration": 112,
    "start_time": "2022-01-29T22:05:21.387Z"
   },
   {
    "duration": -15,
    "start_time": "2022-01-29T22:05:21.518Z"
   },
   {
    "duration": -17,
    "start_time": "2022-01-29T22:05:21.522Z"
   },
   {
    "duration": -21,
    "start_time": "2022-01-29T22:05:21.527Z"
   },
   {
    "duration": 20,
    "start_time": "2022-01-29T22:07:16.807Z"
   },
   {
    "duration": 5,
    "start_time": "2022-01-29T22:08:36.980Z"
   },
   {
    "duration": 15,
    "start_time": "2022-01-29T22:08:44.167Z"
   },
   {
    "duration": 295,
    "start_time": "2022-01-29T22:09:50.972Z"
   },
   {
    "duration": 272,
    "start_time": "2022-01-29T22:10:04.267Z"
   },
   {
    "duration": 10,
    "start_time": "2022-01-29T22:10:53.957Z"
   },
   {
    "duration": 296,
    "start_time": "2022-01-29T22:11:09.570Z"
   },
   {
    "duration": 287,
    "start_time": "2022-01-29T22:11:13.614Z"
   },
   {
    "duration": 9,
    "start_time": "2022-01-29T22:11:22.171Z"
   },
   {
    "duration": 289,
    "start_time": "2022-01-29T22:11:49.577Z"
   },
   {
    "duration": 298,
    "start_time": "2022-01-29T22:12:05.895Z"
   },
   {
    "duration": 277,
    "start_time": "2022-01-29T22:12:12.811Z"
   },
   {
    "duration": 7,
    "start_time": "2022-01-29T22:12:23.236Z"
   },
   {
    "duration": 279,
    "start_time": "2022-01-29T22:12:49.176Z"
   },
   {
    "duration": 15,
    "start_time": "2022-01-29T22:14:14.761Z"
   },
   {
    "duration": 281,
    "start_time": "2022-01-29T22:14:27.075Z"
   },
   {
    "duration": 15,
    "start_time": "2022-01-29T22:14:30.804Z"
   },
   {
    "duration": 456,
    "start_time": "2022-01-29T22:14:39.698Z"
   },
   {
    "duration": 13,
    "start_time": "2022-01-29T22:14:48.565Z"
   },
   {
    "duration": 6,
    "start_time": "2022-01-29T22:15:31.969Z"
   },
   {
    "duration": 283,
    "start_time": "2022-01-29T22:19:57.468Z"
   },
   {
    "duration": 9,
    "start_time": "2022-01-29T22:20:07.020Z"
   },
   {
    "duration": 20,
    "start_time": "2022-01-29T22:20:17.985Z"
   },
   {
    "duration": 35,
    "start_time": "2022-01-29T22:22:01.820Z"
   },
   {
    "duration": 62,
    "start_time": "2022-01-29T22:22:06.423Z"
   },
   {
    "duration": 52,
    "start_time": "2022-01-29T22:22:13.222Z"
   },
   {
    "duration": 43,
    "start_time": "2022-01-29T22:22:16.513Z"
   },
   {
    "duration": 18,
    "start_time": "2022-01-29T22:23:08.910Z"
   },
   {
    "duration": 20,
    "start_time": "2022-01-29T22:24:20.487Z"
   },
   {
    "duration": 34,
    "start_time": "2022-01-29T22:24:34.960Z"
   },
   {
    "duration": 37,
    "start_time": "2022-01-29T22:24:39.240Z"
   },
   {
    "duration": 33,
    "start_time": "2022-01-29T22:24:42.692Z"
   },
   {
    "duration": 19,
    "start_time": "2022-01-29T22:24:46.748Z"
   },
   {
    "duration": 34,
    "start_time": "2022-01-29T22:24:52.869Z"
   },
   {
    "duration": 45,
    "start_time": "2022-01-29T22:24:56.118Z"
   },
   {
    "duration": 19,
    "start_time": "2022-01-29T22:25:51.857Z"
   },
   {
    "duration": 43,
    "start_time": "2022-01-29T22:26:10.744Z"
   },
   {
    "duration": 271,
    "start_time": "2022-01-29T22:27:43.141Z"
   },
   {
    "duration": 45,
    "start_time": "2022-01-29T22:27:55.524Z"
   },
   {
    "duration": 3409,
    "start_time": "2022-01-29T22:28:13.517Z"
   },
   {
    "duration": 252,
    "start_time": "2022-01-29T22:28:24.191Z"
   },
   {
    "duration": 588,
    "start_time": "2022-01-29T22:28:34.618Z"
   },
   {
    "duration": 2894,
    "start_time": "2022-01-29T22:28:39.483Z"
   },
   {
    "duration": 3021,
    "start_time": "2022-01-29T22:28:59.769Z"
   },
   {
    "duration": 249,
    "start_time": "2022-01-29T22:43:07.831Z"
   },
   {
    "duration": 670,
    "start_time": "2022-01-29T22:44:41.793Z"
   },
   {
    "duration": 597,
    "start_time": "2022-01-29T22:45:48.657Z"
   },
   {
    "duration": 817,
    "start_time": "2022-01-29T22:45:54.022Z"
   },
   {
    "duration": 839,
    "start_time": "2022-01-29T22:46:11.844Z"
   },
   {
    "duration": 870,
    "start_time": "2022-01-29T22:47:06.288Z"
   },
   {
    "duration": 850,
    "start_time": "2022-01-29T22:47:12.699Z"
   },
   {
    "duration": 886,
    "start_time": "2022-01-29T22:47:17.072Z"
   },
   {
    "duration": 297,
    "start_time": "2022-01-29T22:47:33.610Z"
   },
   {
    "duration": 22,
    "start_time": "2022-01-29T22:47:41.268Z"
   },
   {
    "duration": 25,
    "start_time": "2022-01-29T22:47:53.312Z"
   },
   {
    "duration": 21,
    "start_time": "2022-01-29T22:48:20.182Z"
   },
   {
    "duration": 90,
    "start_time": "2022-01-29T22:53:09.814Z"
   },
   {
    "duration": 519,
    "start_time": "2022-01-29T22:53:16.134Z"
   },
   {
    "duration": 543,
    "start_time": "2022-01-29T22:53:22.168Z"
   },
   {
    "duration": 637,
    "start_time": "2022-01-29T22:53:32.289Z"
   },
   {
    "duration": 520,
    "start_time": "2022-01-29T22:53:42.157Z"
   },
   {
    "duration": 1295,
    "start_time": "2022-01-29T22:54:23.885Z"
   },
   {
    "duration": 785,
    "start_time": "2022-01-29T22:54:35.549Z"
   },
   {
    "duration": 1401,
    "start_time": "2022-01-29T22:55:10.093Z"
   },
   {
    "duration": 801,
    "start_time": "2022-01-29T22:57:32.612Z"
   },
   {
    "duration": 798,
    "start_time": "2022-01-29T22:58:54.204Z"
   },
   {
    "duration": 533,
    "start_time": "2022-01-29T22:59:14.163Z"
   },
   {
    "duration": 514,
    "start_time": "2022-01-29T22:59:47.449Z"
   },
   {
    "duration": 523,
    "start_time": "2022-01-29T22:59:51.668Z"
   },
   {
    "duration": 1039,
    "start_time": "2022-01-29T23:00:24.722Z"
   },
   {
    "duration": 684,
    "start_time": "2022-01-29T23:00:33.411Z"
   },
   {
    "duration": 672,
    "start_time": "2022-01-29T23:00:38.673Z"
   },
   {
    "duration": 406,
    "start_time": "2022-01-29T23:00:58.736Z"
   },
   {
    "duration": 644,
    "start_time": "2022-01-29T23:01:37.762Z"
   },
   {
    "duration": 547,
    "start_time": "2022-01-29T23:02:33.342Z"
   },
   {
    "duration": 569,
    "start_time": "2022-01-29T23:02:55.270Z"
   },
   {
    "duration": 470,
    "start_time": "2022-01-29T23:06:35.979Z"
   },
   {
    "duration": 507,
    "start_time": "2022-01-29T23:08:39.759Z"
   },
   {
    "duration": 655,
    "start_time": "2022-01-29T23:08:56.873Z"
   },
   {
    "duration": 493,
    "start_time": "2022-01-29T23:09:06.558Z"
   },
   {
    "duration": 509,
    "start_time": "2022-01-29T23:09:23.098Z"
   },
   {
    "duration": 477,
    "start_time": "2022-01-29T23:11:05.760Z"
   },
   {
    "duration": 438,
    "start_time": "2022-01-29T23:18:46.244Z"
   },
   {
    "duration": 1210,
    "start_time": "2022-01-30T07:16:12.113Z"
   },
   {
    "duration": 25,
    "start_time": "2022-01-30T07:16:13.325Z"
   },
   {
    "duration": 10,
    "start_time": "2022-01-30T07:16:13.352Z"
   },
   {
    "duration": 9,
    "start_time": "2022-01-30T07:16:13.364Z"
   },
   {
    "duration": 6,
    "start_time": "2022-01-30T07:16:13.375Z"
   },
   {
    "duration": 279,
    "start_time": "2022-01-30T07:16:13.382Z"
   },
   {
    "duration": 16,
    "start_time": "2022-01-30T07:16:13.663Z"
   },
   {
    "duration": 39,
    "start_time": "2022-01-30T07:16:13.681Z"
   },
   {
    "duration": 14,
    "start_time": "2022-01-30T07:16:13.722Z"
   },
   {
    "duration": 260,
    "start_time": "2022-01-30T07:22:18.093Z"
   },
   {
    "duration": 257,
    "start_time": "2022-01-30T07:22:24.554Z"
   },
   {
    "duration": 246,
    "start_time": "2022-01-30T07:23:13.562Z"
   },
   {
    "duration": 97,
    "start_time": "2022-01-30T07:34:40.117Z"
   },
   {
    "duration": 225,
    "start_time": "2022-01-30T07:38:04.938Z"
   },
   {
    "duration": 212,
    "start_time": "2022-01-30T07:39:01.205Z"
   },
   {
    "duration": 282,
    "start_time": "2022-01-30T07:39:24.286Z"
   },
   {
    "duration": 207,
    "start_time": "2022-01-30T07:39:44.936Z"
   },
   {
    "duration": 216,
    "start_time": "2022-01-30T07:39:51.397Z"
   },
   {
    "duration": 211,
    "start_time": "2022-01-30T07:44:03.327Z"
   },
   {
    "duration": 215,
    "start_time": "2022-01-30T07:44:19.432Z"
   },
   {
    "duration": 209,
    "start_time": "2022-01-30T07:44:29.429Z"
   },
   {
    "duration": 218,
    "start_time": "2022-01-30T07:44:37.199Z"
   },
   {
    "duration": 224,
    "start_time": "2022-01-30T07:44:57.573Z"
   },
   {
    "duration": 91,
    "start_time": "2022-01-30T07:46:33.056Z"
   },
   {
    "duration": 227,
    "start_time": "2022-01-30T07:51:14.284Z"
   },
   {
    "duration": 11,
    "start_time": "2022-01-30T08:01:00.843Z"
   },
   {
    "duration": 9,
    "start_time": "2022-01-30T08:01:11.432Z"
   },
   {
    "duration": 13,
    "start_time": "2022-01-30T08:04:20.818Z"
   },
   {
    "duration": 20,
    "start_time": "2022-01-30T08:04:38.272Z"
   },
   {
    "duration": 40,
    "start_time": "2022-01-30T08:05:22.580Z"
   },
   {
    "duration": 38,
    "start_time": "2022-01-30T08:05:44.242Z"
   },
   {
    "duration": 22,
    "start_time": "2022-01-30T08:07:09.732Z"
   },
   {
    "duration": 127,
    "start_time": "2022-01-30T08:07:14.307Z"
   },
   {
    "duration": 17,
    "start_time": "2022-01-30T08:07:18.120Z"
   },
   {
    "duration": 28,
    "start_time": "2022-01-30T08:07:36.056Z"
   },
   {
    "duration": 69,
    "start_time": "2022-01-30T08:08:09.632Z"
   },
   {
    "duration": 55,
    "start_time": "2022-01-30T08:08:26.642Z"
   },
   {
    "duration": 41,
    "start_time": "2022-01-30T08:08:47.568Z"
   },
   {
    "duration": 17,
    "start_time": "2022-01-30T08:09:37.755Z"
   },
   {
    "duration": 21,
    "start_time": "2022-01-30T08:11:16.706Z"
   },
   {
    "duration": 31,
    "start_time": "2022-01-30T08:11:39.937Z"
   },
   {
    "duration": 46,
    "start_time": "2022-01-30T08:11:46.128Z"
   },
   {
    "duration": 21,
    "start_time": "2022-01-30T08:20:10.650Z"
   },
   {
    "duration": 22,
    "start_time": "2022-01-30T08:20:15.672Z"
   },
   {
    "duration": 21,
    "start_time": "2022-01-30T08:20:31.631Z"
   },
   {
    "duration": 22,
    "start_time": "2022-01-30T08:20:54.362Z"
   },
   {
    "duration": 20,
    "start_time": "2022-01-30T08:21:07.347Z"
   },
   {
    "duration": 23,
    "start_time": "2022-01-30T08:21:20.817Z"
   },
   {
    "duration": 30,
    "start_time": "2022-01-30T08:21:43.313Z"
   },
   {
    "duration": 373,
    "start_time": "2022-01-30T08:22:30.025Z"
   },
   {
    "duration": 32,
    "start_time": "2022-01-30T08:22:37.355Z"
   },
   {
    "duration": 32,
    "start_time": "2022-01-30T08:22:44.368Z"
   },
   {
    "duration": 32,
    "start_time": "2022-01-30T08:22:48.160Z"
   },
   {
    "duration": 32,
    "start_time": "2022-01-30T08:22:53.798Z"
   },
   {
    "duration": 52,
    "start_time": "2022-01-30T08:22:58.190Z"
   },
   {
    "duration": 40,
    "start_time": "2022-01-30T08:23:33.946Z"
   },
   {
    "duration": 274,
    "start_time": "2022-01-30T08:24:10.803Z"
   },
   {
    "duration": 20,
    "start_time": "2022-01-30T08:24:27.618Z"
   },
   {
    "duration": 370,
    "start_time": "2022-01-30T08:27:58.576Z"
   },
   {
    "duration": 1317,
    "start_time": "2022-01-30T08:28:07.547Z"
   },
   {
    "duration": 28,
    "start_time": "2022-01-30T08:28:08.866Z"
   },
   {
    "duration": 4,
    "start_time": "2022-01-30T08:28:08.896Z"
   },
   {
    "duration": 15,
    "start_time": "2022-01-30T08:28:08.902Z"
   },
   {
    "duration": 9,
    "start_time": "2022-01-30T08:28:08.919Z"
   },
   {
    "duration": 242,
    "start_time": "2022-01-30T08:28:08.930Z"
   },
   {
    "duration": 16,
    "start_time": "2022-01-30T08:28:09.174Z"
   },
   {
    "duration": 11,
    "start_time": "2022-01-30T08:28:09.192Z"
   },
   {
    "duration": 33,
    "start_time": "2022-01-30T08:28:09.205Z"
   },
   {
    "duration": 20,
    "start_time": "2022-01-30T08:28:09.240Z"
   },
   {
    "duration": 16,
    "start_time": "2022-01-30T08:28:09.263Z"
   },
   {
    "duration": 20,
    "start_time": "2022-01-30T08:28:29.642Z"
   },
   {
    "duration": 287,
    "start_time": "2022-01-30T08:29:20.867Z"
   },
   {
    "duration": 1322,
    "start_time": "2022-01-30T08:29:26.980Z"
   },
   {
    "duration": 24,
    "start_time": "2022-01-30T08:29:28.304Z"
   },
   {
    "duration": 4,
    "start_time": "2022-01-30T08:29:28.330Z"
   },
   {
    "duration": 9,
    "start_time": "2022-01-30T08:29:28.336Z"
   },
   {
    "duration": 4,
    "start_time": "2022-01-30T08:29:28.361Z"
   },
   {
    "duration": 238,
    "start_time": "2022-01-30T08:29:28.366Z"
   },
   {
    "duration": 15,
    "start_time": "2022-01-30T08:29:28.606Z"
   },
   {
    "duration": 9,
    "start_time": "2022-01-30T08:29:28.623Z"
   },
   {
    "duration": 21,
    "start_time": "2022-01-30T08:29:32.869Z"
   },
   {
    "duration": 38,
    "start_time": "2022-01-30T08:33:12.628Z"
   },
   {
    "duration": 36,
    "start_time": "2022-01-30T08:33:30.742Z"
   },
   {
    "duration": 11,
    "start_time": "2022-01-30T08:33:38.388Z"
   },
   {
    "duration": 34,
    "start_time": "2022-01-30T08:33:44.288Z"
   },
   {
    "duration": 14,
    "start_time": "2022-01-30T08:34:10.526Z"
   },
   {
    "duration": 13,
    "start_time": "2022-01-30T08:35:25.973Z"
   },
   {
    "duration": 11,
    "start_time": "2022-01-30T08:35:34.136Z"
   },
   {
    "duration": 679,
    "start_time": "2022-01-30T08:35:47.829Z"
   },
   {
    "duration": 15,
    "start_time": "2022-01-30T08:35:59.567Z"
   },
   {
    "duration": 105,
    "start_time": "2022-01-30T08:37:49.398Z"
   },
   {
    "duration": 89,
    "start_time": "2022-01-30T08:40:30.882Z"
   },
   {
    "duration": 36,
    "start_time": "2022-01-30T08:40:44.682Z"
   },
   {
    "duration": 662,
    "start_time": "2022-01-30T08:41:03.492Z"
   },
   {
    "duration": 643,
    "start_time": "2022-01-30T08:41:37.188Z"
   },
   {
    "duration": 9,
    "start_time": "2022-01-30T08:41:45.722Z"
   },
   {
    "duration": 784,
    "start_time": "2022-01-30T08:42:04.463Z"
   },
   {
    "duration": 767,
    "start_time": "2022-01-30T08:42:11.240Z"
   },
   {
    "duration": 60,
    "start_time": "2022-01-30T08:42:37.568Z"
   },
   {
    "duration": 701,
    "start_time": "2022-01-30T08:43:55.070Z"
   },
   {
    "duration": 655,
    "start_time": "2022-01-30T08:44:08.457Z"
   },
   {
    "duration": 668,
    "start_time": "2022-01-30T08:44:19.858Z"
   },
   {
    "duration": 308,
    "start_time": "2022-01-30T08:44:47.005Z"
   },
   {
    "duration": 654,
    "start_time": "2022-01-30T08:45:21.792Z"
   },
   {
    "duration": 664,
    "start_time": "2022-01-30T08:45:30.264Z"
   },
   {
    "duration": 629,
    "start_time": "2022-01-30T08:45:33.962Z"
   },
   {
    "duration": 281,
    "start_time": "2022-01-30T08:45:47.541Z"
   },
   {
    "duration": 338,
    "start_time": "2022-01-30T08:46:14.469Z"
   },
   {
    "duration": 84,
    "start_time": "2022-01-30T08:47:05.801Z"
   },
   {
    "duration": 700,
    "start_time": "2022-01-30T08:47:12.017Z"
   },
   {
    "duration": 37,
    "start_time": "2022-01-30T08:47:24.350Z"
   },
   {
    "duration": 91,
    "start_time": "2022-01-30T08:47:58.439Z"
   },
   {
    "duration": 36,
    "start_time": "2022-01-30T08:48:13.272Z"
   },
   {
    "duration": -132,
    "start_time": "2022-01-30T08:48:46.855Z"
   },
   {
    "duration": 267,
    "start_time": "2022-01-30T08:49:01.767Z"
   },
   {
    "duration": 91,
    "start_time": "2022-01-30T08:49:59.508Z"
   },
   {
    "duration": 23,
    "start_time": "2022-01-30T08:49:59.601Z"
   },
   {
    "duration": 4,
    "start_time": "2022-01-30T08:49:59.626Z"
   },
   {
    "duration": 12,
    "start_time": "2022-01-30T08:49:59.631Z"
   },
   {
    "duration": 3,
    "start_time": "2022-01-30T08:49:59.644Z"
   },
   {
    "duration": 226,
    "start_time": "2022-01-30T08:49:59.661Z"
   },
   {
    "duration": 13,
    "start_time": "2022-01-30T08:49:59.888Z"
   },
   {
    "duration": 6,
    "start_time": "2022-01-30T08:49:59.904Z"
   },
   {
    "duration": 42,
    "start_time": "2022-01-30T08:50:11.224Z"
   },
   {
    "duration": 263,
    "start_time": "2022-01-30T08:50:21.071Z"
   },
   {
    "duration": 268,
    "start_time": "2022-01-30T08:50:24.096Z"
   },
   {
    "duration": 260,
    "start_time": "2022-01-30T08:50:33.636Z"
   },
   {
    "duration": 40,
    "start_time": "2022-01-30T08:50:44.599Z"
   },
   {
    "duration": 41,
    "start_time": "2022-01-30T08:51:08.909Z"
   },
   {
    "duration": 44,
    "start_time": "2022-01-30T08:51:33.989Z"
   },
   {
    "duration": 44,
    "start_time": "2022-01-30T08:51:48.234Z"
   },
   {
    "duration": 94,
    "start_time": "2022-01-30T08:52:03.488Z"
   },
   {
    "duration": 24,
    "start_time": "2022-01-30T08:52:03.583Z"
   },
   {
    "duration": 4,
    "start_time": "2022-01-30T08:52:03.609Z"
   },
   {
    "duration": 13,
    "start_time": "2022-01-30T08:52:03.615Z"
   },
   {
    "duration": 5,
    "start_time": "2022-01-30T08:52:03.629Z"
   },
   {
    "duration": 255,
    "start_time": "2022-01-30T08:52:03.635Z"
   },
   {
    "duration": 13,
    "start_time": "2022-01-30T08:52:03.892Z"
   },
   {
    "duration": 8,
    "start_time": "2022-01-30T08:52:03.906Z"
   },
   {
    "duration": 70,
    "start_time": "2022-01-30T08:52:03.916Z"
   },
   {
    "duration": 5,
    "start_time": "2022-01-30T08:52:03.988Z"
   },
   {
    "duration": 15,
    "start_time": "2022-01-30T08:52:03.994Z"
   },
   {
    "duration": 88,
    "start_time": "2022-01-30T08:52:24.272Z"
   },
   {
    "duration": 22,
    "start_time": "2022-01-30T08:52:24.362Z"
   },
   {
    "duration": 4,
    "start_time": "2022-01-30T08:52:24.385Z"
   },
   {
    "duration": 10,
    "start_time": "2022-01-30T08:52:24.391Z"
   },
   {
    "duration": 3,
    "start_time": "2022-01-30T08:52:24.403Z"
   },
   {
    "duration": 304,
    "start_time": "2022-01-30T08:52:24.407Z"
   },
   {
    "duration": 14,
    "start_time": "2022-01-30T08:52:24.713Z"
   },
   {
    "duration": 7,
    "start_time": "2022-01-30T08:52:24.729Z"
   },
   {
    "duration": 39,
    "start_time": "2022-01-30T08:52:24.738Z"
   },
   {
    "duration": 4,
    "start_time": "2022-01-30T08:52:24.779Z"
   },
   {
    "duration": 12,
    "start_time": "2022-01-30T08:52:24.785Z"
   },
   {
    "duration": 22,
    "start_time": "2022-01-30T08:53:03.370Z"
   },
   {
    "duration": 89,
    "start_time": "2022-01-30T08:53:41.489Z"
   },
   {
    "duration": 18,
    "start_time": "2022-01-30T08:54:17.491Z"
   },
   {
    "duration": 357,
    "start_time": "2022-01-30T08:54:55.563Z"
   },
   {
    "duration": 282,
    "start_time": "2022-01-30T08:55:29.757Z"
   },
   {
    "duration": 14,
    "start_time": "2022-01-30T08:56:29.258Z"
   },
   {
    "duration": 38,
    "start_time": "2022-01-30T08:57:19.371Z"
   },
   {
    "duration": 13,
    "start_time": "2022-01-30T08:57:35.681Z"
   },
   {
    "duration": 92,
    "start_time": "2022-01-30T09:00:30.902Z"
   },
   {
    "duration": 13,
    "start_time": "2022-01-30T09:00:38.502Z"
   },
   {
    "duration": 17,
    "start_time": "2022-01-30T09:01:21.938Z"
   },
   {
    "duration": 35,
    "start_time": "2022-01-30T09:01:50.928Z"
   },
   {
    "duration": 14,
    "start_time": "2022-01-30T09:02:12.295Z"
   },
   {
    "duration": 285,
    "start_time": "2022-01-30T09:03:16.096Z"
   },
   {
    "duration": 276,
    "start_time": "2022-01-30T09:03:32.165Z"
   },
   {
    "duration": 23,
    "start_time": "2022-01-30T09:03:49.466Z"
   },
   {
    "duration": 274,
    "start_time": "2022-01-30T09:05:07.548Z"
   },
   {
    "duration": 18,
    "start_time": "2022-01-30T09:05:32.594Z"
   },
   {
    "duration": 14,
    "start_time": "2022-01-30T09:06:01.351Z"
   },
   {
    "duration": 18,
    "start_time": "2022-01-30T09:06:05.050Z"
   },
   {
    "duration": 21,
    "start_time": "2022-01-30T09:06:39.807Z"
   },
   {
    "duration": 23,
    "start_time": "2022-01-30T09:07:07.432Z"
   },
   {
    "duration": 21,
    "start_time": "2022-01-30T09:07:30.830Z"
   },
   {
    "duration": 266,
    "start_time": "2022-01-30T09:08:07.571Z"
   },
   {
    "duration": 22,
    "start_time": "2022-01-30T09:08:23.924Z"
   },
   {
    "duration": 22,
    "start_time": "2022-01-30T09:08:54.455Z"
   },
   {
    "duration": 26,
    "start_time": "2022-01-30T09:09:19.442Z"
   },
   {
    "duration": 95,
    "start_time": "2022-01-30T09:10:15.475Z"
   },
   {
    "duration": 25,
    "start_time": "2022-01-30T09:10:15.572Z"
   },
   {
    "duration": 4,
    "start_time": "2022-01-30T09:10:15.600Z"
   },
   {
    "duration": 10,
    "start_time": "2022-01-30T09:10:15.606Z"
   },
   {
    "duration": 4,
    "start_time": "2022-01-30T09:10:15.618Z"
   },
   {
    "duration": 261,
    "start_time": "2022-01-30T09:10:15.624Z"
   },
   {
    "duration": 15,
    "start_time": "2022-01-30T09:10:15.887Z"
   },
   {
    "duration": 9,
    "start_time": "2022-01-30T09:10:15.905Z"
   },
   {
    "duration": 11,
    "start_time": "2022-01-30T09:10:15.916Z"
   },
   {
    "duration": 7,
    "start_time": "2022-01-30T09:10:15.961Z"
   },
   {
    "duration": 13,
    "start_time": "2022-01-30T09:10:15.970Z"
   },
   {
    "duration": 23,
    "start_time": "2022-01-30T09:10:40.508Z"
   },
   {
    "duration": 99,
    "start_time": "2022-01-30T09:11:37.411Z"
   },
   {
    "duration": 24,
    "start_time": "2022-01-30T09:11:37.511Z"
   },
   {
    "duration": 4,
    "start_time": "2022-01-30T09:11:37.537Z"
   },
   {
    "duration": 27,
    "start_time": "2022-01-30T09:11:37.542Z"
   },
   {
    "duration": 8,
    "start_time": "2022-01-30T09:11:37.570Z"
   },
   {
    "duration": 238,
    "start_time": "2022-01-30T09:11:37.579Z"
   },
   {
    "duration": 16,
    "start_time": "2022-01-30T09:11:37.819Z"
   },
   {
    "duration": 26,
    "start_time": "2022-01-30T09:11:37.838Z"
   },
   {
    "duration": 17,
    "start_time": "2022-01-30T09:11:37.866Z"
   },
   {
    "duration": 6,
    "start_time": "2022-01-30T09:11:37.885Z"
   },
   {
    "duration": 15,
    "start_time": "2022-01-30T09:11:37.893Z"
   },
   {
    "duration": 91,
    "start_time": "2022-01-30T09:12:13.627Z"
   },
   {
    "duration": 24,
    "start_time": "2022-01-30T09:12:13.720Z"
   },
   {
    "duration": 4,
    "start_time": "2022-01-30T09:12:13.761Z"
   },
   {
    "duration": 10,
    "start_time": "2022-01-30T09:12:13.768Z"
   },
   {
    "duration": 3,
    "start_time": "2022-01-30T09:12:13.780Z"
   },
   {
    "duration": 238,
    "start_time": "2022-01-30T09:12:13.785Z"
   },
   {
    "duration": 15,
    "start_time": "2022-01-30T09:12:14.025Z"
   },
   {
    "duration": 25,
    "start_time": "2022-01-30T09:12:14.042Z"
   },
   {
    "duration": 21,
    "start_time": "2022-01-30T09:12:14.069Z"
   },
   {
    "duration": 4,
    "start_time": "2022-01-30T09:12:14.092Z"
   },
   {
    "duration": 14,
    "start_time": "2022-01-30T09:12:14.098Z"
   },
   {
    "duration": 19,
    "start_time": "2022-01-30T09:17:18.352Z"
   },
   {
    "duration": 18,
    "start_time": "2022-01-30T09:17:27.238Z"
   },
   {
    "duration": 4,
    "start_time": "2022-01-30T09:17:28.210Z"
   },
   {
    "duration": 20,
    "start_time": "2022-01-30T09:17:37.262Z"
   },
   {
    "duration": 23,
    "start_time": "2022-01-30T09:23:05.800Z"
   },
   {
    "duration": 24,
    "start_time": "2022-01-30T09:23:28.048Z"
   },
   {
    "duration": 8,
    "start_time": "2022-01-30T09:27:49.286Z"
   },
   {
    "duration": 13,
    "start_time": "2022-01-30T09:27:53.122Z"
   },
   {
    "duration": 91,
    "start_time": "2022-01-30T09:27:59.037Z"
   },
   {
    "duration": 30,
    "start_time": "2022-01-30T09:27:59.130Z"
   },
   {
    "duration": 3,
    "start_time": "2022-01-30T09:27:59.163Z"
   },
   {
    "duration": 10,
    "start_time": "2022-01-30T09:27:59.168Z"
   },
   {
    "duration": 4,
    "start_time": "2022-01-30T09:27:59.179Z"
   },
   {
    "duration": 241,
    "start_time": "2022-01-30T09:27:59.185Z"
   },
   {
    "duration": 13,
    "start_time": "2022-01-30T09:27:59.428Z"
   },
   {
    "duration": 17,
    "start_time": "2022-01-30T09:27:59.443Z"
   },
   {
    "duration": 8,
    "start_time": "2022-01-30T09:27:59.463Z"
   },
   {
    "duration": 13,
    "start_time": "2022-01-30T09:27:59.473Z"
   },
   {
    "duration": 4,
    "start_time": "2022-01-30T09:27:59.488Z"
   },
   {
    "duration": 21,
    "start_time": "2022-01-30T09:27:59.494Z"
   },
   {
    "duration": 15,
    "start_time": "2022-01-30T09:28:14.519Z"
   },
   {
    "duration": 9,
    "start_time": "2022-01-30T09:39:39.937Z"
   },
   {
    "duration": 14,
    "start_time": "2022-01-30T09:39:47.897Z"
   },
   {
    "duration": 92,
    "start_time": "2022-01-30T09:39:52.881Z"
   },
   {
    "duration": 24,
    "start_time": "2022-01-30T09:39:52.975Z"
   },
   {
    "duration": 4,
    "start_time": "2022-01-30T09:39:53.001Z"
   },
   {
    "duration": 15,
    "start_time": "2022-01-30T09:39:53.007Z"
   },
   {
    "duration": 5,
    "start_time": "2022-01-30T09:39:53.024Z"
   },
   {
    "duration": 348,
    "start_time": "2022-01-30T09:39:53.030Z"
   },
   {
    "duration": 13,
    "start_time": "2022-01-30T09:39:53.380Z"
   },
   {
    "duration": 9,
    "start_time": "2022-01-30T09:39:53.394Z"
   },
   {
    "duration": 8,
    "start_time": "2022-01-30T09:39:53.405Z"
   },
   {
    "duration": 12,
    "start_time": "2022-01-30T09:39:53.414Z"
   },
   {
    "duration": 36,
    "start_time": "2022-01-30T09:39:53.428Z"
   },
   {
    "duration": 14,
    "start_time": "2022-01-30T09:39:53.466Z"
   },
   {
    "duration": 3284,
    "start_time": "2022-01-30T09:40:57.130Z"
   },
   {
    "duration": 3467,
    "start_time": "2022-01-30T09:42:13.638Z"
   },
   {
    "duration": 3239,
    "start_time": "2022-01-30T09:42:39.649Z"
   },
   {
    "duration": 125,
    "start_time": "2022-01-30T09:44:01.792Z"
   },
   {
    "duration": 47,
    "start_time": "2022-01-30T09:44:01.920Z"
   },
   {
    "duration": 4,
    "start_time": "2022-01-30T09:44:01.969Z"
   },
   {
    "duration": 13,
    "start_time": "2022-01-30T09:44:01.975Z"
   },
   {
    "duration": 12,
    "start_time": "2022-01-30T09:44:01.990Z"
   },
   {
    "duration": 239,
    "start_time": "2022-01-30T09:44:02.004Z"
   },
   {
    "duration": 19,
    "start_time": "2022-01-30T09:44:02.245Z"
   },
   {
    "duration": 8,
    "start_time": "2022-01-30T09:44:02.266Z"
   },
   {
    "duration": 11,
    "start_time": "2022-01-30T09:44:02.276Z"
   },
   {
    "duration": 12,
    "start_time": "2022-01-30T09:44:02.289Z"
   },
   {
    "duration": 5,
    "start_time": "2022-01-30T09:44:02.303Z"
   },
   {
    "duration": 51,
    "start_time": "2022-01-30T09:44:02.310Z"
   },
   {
    "duration": 93,
    "start_time": "2022-01-30T09:44:34.103Z"
   },
   {
    "duration": 24,
    "start_time": "2022-01-30T09:44:34.198Z"
   },
   {
    "duration": 4,
    "start_time": "2022-01-30T09:44:34.224Z"
   },
   {
    "duration": 11,
    "start_time": "2022-01-30T09:44:34.229Z"
   },
   {
    "duration": 21,
    "start_time": "2022-01-30T09:44:34.242Z"
   },
   {
    "duration": 243,
    "start_time": "2022-01-30T09:44:34.265Z"
   },
   {
    "duration": 15,
    "start_time": "2022-01-30T09:44:34.510Z"
   },
   {
    "duration": 8,
    "start_time": "2022-01-30T09:44:34.527Z"
   },
   {
    "duration": 24,
    "start_time": "2022-01-30T09:44:34.537Z"
   },
   {
    "duration": 13,
    "start_time": "2022-01-30T09:44:34.564Z"
   },
   {
    "duration": 14,
    "start_time": "2022-01-30T09:44:42.914Z"
   },
   {
    "duration": 13,
    "start_time": "2022-01-30T09:45:01.602Z"
   },
   {
    "duration": 14,
    "start_time": "2022-01-30T09:45:46.955Z"
   },
   {
    "duration": 13,
    "start_time": "2022-01-30T09:46:04.031Z"
   },
   {
    "duration": 250,
    "start_time": "2022-01-30T09:46:28.443Z"
   },
   {
    "duration": 13,
    "start_time": "2022-01-30T09:46:35.056Z"
   },
   {
    "duration": 11,
    "start_time": "2022-01-30T09:52:13.710Z"
   },
   {
    "duration": 14,
    "start_time": "2022-01-30T10:03:37.606Z"
   },
   {
    "duration": 28,
    "start_time": "2022-01-30T10:04:19.086Z"
   },
   {
    "duration": 26,
    "start_time": "2022-01-30T10:04:28.120Z"
   },
   {
    "duration": 37,
    "start_time": "2022-01-30T10:04:44.270Z"
   },
   {
    "duration": 22,
    "start_time": "2022-01-30T10:05:04.320Z"
   },
   {
    "duration": 19,
    "start_time": "2022-01-30T10:05:18.409Z"
   },
   {
    "duration": 18,
    "start_time": "2022-01-30T10:05:32.323Z"
   },
   {
    "duration": 13,
    "start_time": "2022-01-30T10:05:40.949Z"
   },
   {
    "duration": 6,
    "start_time": "2022-01-30T10:07:56.114Z"
   },
   {
    "duration": 256,
    "start_time": "2022-01-30T10:08:08.775Z"
   },
   {
    "duration": 258,
    "start_time": "2022-01-30T10:08:27.443Z"
   },
   {
    "duration": 11,
    "start_time": "2022-01-30T10:09:54.085Z"
   },
   {
    "duration": 2,
    "start_time": "2022-01-30T10:10:29.346Z"
   },
   {
    "duration": 266,
    "start_time": "2022-01-30T10:10:34.938Z"
   },
   {
    "duration": 6,
    "start_time": "2022-01-30T10:10:40.089Z"
   },
   {
    "duration": 286,
    "start_time": "2022-01-30T10:10:58.843Z"
   },
   {
    "duration": 333,
    "start_time": "2022-01-30T10:11:08.274Z"
   },
   {
    "duration": 264,
    "start_time": "2022-01-30T10:11:11.786Z"
   },
   {
    "duration": 266,
    "start_time": "2022-01-30T10:11:55.453Z"
   },
   {
    "duration": 248,
    "start_time": "2022-01-30T10:12:03.316Z"
   },
   {
    "duration": 4,
    "start_time": "2022-01-30T10:12:15.882Z"
   },
   {
    "duration": 9,
    "start_time": "2022-01-30T10:15:13.503Z"
   },
   {
    "duration": 345,
    "start_time": "2022-01-30T11:57:52.783Z"
   },
   {
    "duration": 1206,
    "start_time": "2022-01-30T11:57:58.329Z"
   },
   {
    "duration": 21,
    "start_time": "2022-01-30T11:57:59.537Z"
   },
   {
    "duration": 3,
    "start_time": "2022-01-30T11:57:59.560Z"
   },
   {
    "duration": 7,
    "start_time": "2022-01-30T11:57:59.565Z"
   },
   {
    "duration": 4,
    "start_time": "2022-01-30T11:57:59.573Z"
   },
   {
    "duration": 218,
    "start_time": "2022-01-30T11:57:59.578Z"
   },
   {
    "duration": 13,
    "start_time": "2022-01-30T11:57:59.798Z"
   },
   {
    "duration": 20,
    "start_time": "2022-01-30T11:57:59.813Z"
   },
   {
    "duration": 7,
    "start_time": "2022-01-30T11:57:59.835Z"
   },
   {
    "duration": 2,
    "start_time": "2022-01-30T11:57:59.844Z"
   },
   {
    "duration": 9,
    "start_time": "2022-01-30T11:57:59.848Z"
   },
   {
    "duration": 11,
    "start_time": "2022-01-30T11:58:01.912Z"
   },
   {
    "duration": 35,
    "start_time": "2022-01-30T12:00:06.332Z"
   },
   {
    "duration": 39,
    "start_time": "2022-01-30T12:00:32.344Z"
   },
   {
    "duration": 8,
    "start_time": "2022-01-30T12:02:31.022Z"
   },
   {
    "duration": 36,
    "start_time": "2022-01-30T13:50:14.687Z"
   },
   {
    "duration": 30,
    "start_time": "2022-01-30T13:51:11.533Z"
   },
   {
    "duration": 118,
    "start_time": "2022-01-30T13:55:35.205Z"
   },
   {
    "duration": 7,
    "start_time": "2022-01-30T14:02:23.477Z"
   },
   {
    "duration": 30,
    "start_time": "2022-01-30T14:02:45.270Z"
   },
   {
    "duration": 30,
    "start_time": "2022-01-30T14:03:02.493Z"
   },
   {
    "duration": 40,
    "start_time": "2022-01-30T14:03:34.202Z"
   },
   {
    "duration": 37,
    "start_time": "2022-01-30T14:22:35.487Z"
   },
   {
    "duration": 8,
    "start_time": "2022-01-30T14:22:45.694Z"
   },
   {
    "duration": 83,
    "start_time": "2022-01-30T14:24:38.006Z"
   },
   {
    "duration": 26,
    "start_time": "2022-01-30T14:36:10.135Z"
   },
   {
    "duration": 362,
    "start_time": "2022-01-30T14:37:12.426Z"
   },
   {
    "duration": 9,
    "start_time": "2022-01-30T14:37:34.824Z"
   },
   {
    "duration": 8,
    "start_time": "2022-01-30T14:37:53.020Z"
   },
   {
    "duration": 9,
    "start_time": "2022-01-30T14:38:27.556Z"
   },
   {
    "duration": 8,
    "start_time": "2022-01-30T14:40:31.604Z"
   },
   {
    "duration": 80,
    "start_time": "2022-01-30T14:41:41.545Z"
   },
   {
    "duration": 8,
    "start_time": "2022-01-30T14:41:49.188Z"
   },
   {
    "duration": 86,
    "start_time": "2022-01-30T14:44:31.281Z"
   },
   {
    "duration": 8,
    "start_time": "2022-01-30T14:44:49.870Z"
   },
   {
    "duration": 9,
    "start_time": "2022-01-30T14:45:25.812Z"
   },
   {
    "duration": 108,
    "start_time": "2022-01-30T14:46:31.871Z"
   },
   {
    "duration": 7,
    "start_time": "2022-01-30T14:46:37.843Z"
   },
   {
    "duration": 6,
    "start_time": "2022-01-30T14:46:40.573Z"
   },
   {
    "duration": 7,
    "start_time": "2022-01-30T14:48:04.418Z"
   },
   {
    "duration": 8,
    "start_time": "2022-01-30T14:48:16.526Z"
   },
   {
    "duration": 9,
    "start_time": "2022-01-30T14:48:31.657Z"
   },
   {
    "duration": 9,
    "start_time": "2022-01-30T14:48:50.824Z"
   },
   {
    "duration": 9,
    "start_time": "2022-01-30T14:48:59.840Z"
   },
   {
    "duration": 8,
    "start_time": "2022-01-30T14:49:16.140Z"
   },
   {
    "duration": 9,
    "start_time": "2022-01-30T14:49:28.838Z"
   },
   {
    "duration": 328,
    "start_time": "2022-01-30T14:49:35.549Z"
   },
   {
    "duration": 13,
    "start_time": "2022-01-30T14:49:54.241Z"
   },
   {
    "duration": 1676,
    "start_time": "2022-01-30T19:26:41.439Z"
   },
   {
    "duration": 44,
    "start_time": "2022-01-30T19:26:43.118Z"
   },
   {
    "duration": 6,
    "start_time": "2022-01-30T19:26:43.166Z"
   },
   {
    "duration": 12,
    "start_time": "2022-01-30T19:26:43.174Z"
   },
   {
    "duration": 4,
    "start_time": "2022-01-30T19:26:43.188Z"
   },
   {
    "duration": 424,
    "start_time": "2022-01-30T19:26:43.195Z"
   },
   {
    "duration": 28,
    "start_time": "2022-01-30T19:26:43.622Z"
   },
   {
    "duration": 14,
    "start_time": "2022-01-30T19:26:43.654Z"
   },
   {
    "duration": 13,
    "start_time": "2022-01-30T19:26:43.673Z"
   },
   {
    "duration": 42,
    "start_time": "2022-01-30T19:26:43.690Z"
   },
   {
    "duration": 19,
    "start_time": "2022-01-30T19:26:43.736Z"
   },
   {
    "duration": 22,
    "start_time": "2022-01-30T19:26:43.758Z"
   },
   {
    "duration": 53,
    "start_time": "2022-01-30T19:26:43.783Z"
   },
   {
    "duration": 5,
    "start_time": "2022-01-30T19:26:43.838Z"
   },
   {
    "duration": 89,
    "start_time": "2022-01-30T19:26:43.846Z"
   },
   {
    "duration": 0,
    "start_time": "2022-01-30T19:26:43.938Z"
   },
   {
    "duration": 21,
    "start_time": "2022-01-30T20:15:33.112Z"
   },
   {
    "duration": 13,
    "start_time": "2022-01-30T20:20:55.024Z"
   },
   {
    "duration": 337,
    "start_time": "2022-01-30T20:37:11.607Z"
   },
   {
    "duration": 141,
    "start_time": "2022-01-30T20:39:29.315Z"
   },
   {
    "duration": 31,
    "start_time": "2022-01-30T20:39:58.097Z"
   },
   {
    "duration": 29,
    "start_time": "2022-01-30T20:40:49.776Z"
   },
   {
    "duration": 28,
    "start_time": "2022-01-30T20:41:04.001Z"
   },
   {
    "duration": 391,
    "start_time": "2022-01-30T20:42:11.025Z"
   },
   {
    "duration": 7346,
    "start_time": "2022-01-30T20:43:08.672Z"
   },
   {
    "duration": 92,
    "start_time": "2022-01-30T20:43:54.040Z"
   },
   {
    "duration": 93,
    "start_time": "2022-01-30T20:45:56.358Z"
   },
   {
    "duration": 39,
    "start_time": "2022-01-30T20:49:23.038Z"
   },
   {
    "duration": 27,
    "start_time": "2022-01-30T20:49:47.019Z"
   },
   {
    "duration": 33,
    "start_time": "2022-01-30T20:50:04.639Z"
   },
   {
    "duration": 34,
    "start_time": "2022-01-30T20:50:11.133Z"
   },
   {
    "duration": 30,
    "start_time": "2022-01-30T20:50:20.107Z"
   },
   {
    "duration": 28,
    "start_time": "2022-01-30T20:50:25.696Z"
   },
   {
    "duration": 31,
    "start_time": "2022-01-30T20:51:16.258Z"
   },
   {
    "duration": 30,
    "start_time": "2022-01-30T20:54:28.446Z"
   },
   {
    "duration": 29,
    "start_time": "2022-01-30T20:54:45.519Z"
   },
   {
    "duration": 30,
    "start_time": "2022-01-30T20:55:53.413Z"
   },
   {
    "duration": 27,
    "start_time": "2022-01-30T20:57:57.645Z"
   },
   {
    "duration": 328,
    "start_time": "2022-01-30T20:59:02.353Z"
   },
   {
    "duration": 323,
    "start_time": "2022-01-30T20:59:20.503Z"
   },
   {
    "duration": 1220,
    "start_time": "2022-01-31T06:52:56.550Z"
   },
   {
    "duration": 33,
    "start_time": "2022-01-31T06:52:57.772Z"
   },
   {
    "duration": 5,
    "start_time": "2022-01-31T06:52:57.808Z"
   },
   {
    "duration": 10,
    "start_time": "2022-01-31T06:52:57.815Z"
   },
   {
    "duration": 6,
    "start_time": "2022-01-31T06:52:57.827Z"
   },
   {
    "duration": 297,
    "start_time": "2022-01-31T06:52:57.834Z"
   },
   {
    "duration": 18,
    "start_time": "2022-01-31T06:52:58.133Z"
   },
   {
    "duration": 11,
    "start_time": "2022-01-31T06:52:58.154Z"
   },
   {
    "duration": 37,
    "start_time": "2022-01-31T06:52:58.167Z"
   },
   {
    "duration": 4,
    "start_time": "2022-01-31T06:52:58.206Z"
   },
   {
    "duration": 14,
    "start_time": "2022-01-31T06:52:58.212Z"
   },
   {
    "duration": 15,
    "start_time": "2022-01-31T06:52:58.228Z"
   },
   {
    "duration": 7,
    "start_time": "2022-01-31T06:52:58.245Z"
   },
   {
    "duration": 5,
    "start_time": "2022-01-31T06:52:58.253Z"
   },
   {
    "duration": 61,
    "start_time": "2022-01-31T06:52:58.260Z"
   },
   {
    "duration": 12,
    "start_time": "2022-01-31T06:52:58.322Z"
   },
   {
    "duration": 94,
    "start_time": "2022-01-31T06:53:23.464Z"
   },
   {
    "duration": 24,
    "start_time": "2022-01-31T06:53:23.559Z"
   },
   {
    "duration": 13,
    "start_time": "2022-01-31T06:53:23.585Z"
   },
   {
    "duration": 13,
    "start_time": "2022-01-31T06:53:23.600Z"
   },
   {
    "duration": 5,
    "start_time": "2022-01-31T06:53:23.614Z"
   },
   {
    "duration": 280,
    "start_time": "2022-01-31T06:53:23.620Z"
   },
   {
    "duration": 14,
    "start_time": "2022-01-31T06:53:23.901Z"
   },
   {
    "duration": 8,
    "start_time": "2022-01-31T06:53:23.918Z"
   },
   {
    "duration": 9,
    "start_time": "2022-01-31T06:53:23.928Z"
   },
   {
    "duration": 3,
    "start_time": "2022-01-31T06:53:23.939Z"
   },
   {
    "duration": 14,
    "start_time": "2022-01-31T06:53:23.943Z"
   },
   {
    "duration": 47,
    "start_time": "2022-01-31T06:53:23.958Z"
   },
   {
    "duration": 4,
    "start_time": "2022-01-31T06:53:24.007Z"
   },
   {
    "duration": 7,
    "start_time": "2022-01-31T06:53:24.013Z"
   },
   {
    "duration": 20,
    "start_time": "2022-01-31T06:53:24.022Z"
   },
   {
    "duration": 12,
    "start_time": "2022-01-31T06:53:24.043Z"
   },
   {
    "duration": 39,
    "start_time": "2022-01-31T06:53:45.418Z"
   },
   {
    "duration": 216,
    "start_time": "2022-01-31T06:54:12.189Z"
   },
   {
    "duration": 66,
    "start_time": "2022-01-31T06:55:14.820Z"
   },
   {
    "duration": 50,
    "start_time": "2022-01-31T06:55:45.377Z"
   },
   {
    "duration": 176,
    "start_time": "2022-01-31T06:56:00.063Z"
   },
   {
    "duration": 35,
    "start_time": "2022-01-31T07:42:26.447Z"
   },
   {
    "duration": 21,
    "start_time": "2022-01-31T07:43:04.284Z"
   },
   {
    "duration": 17,
    "start_time": "2022-01-31T07:43:21.750Z"
   },
   {
    "duration": 210,
    "start_time": "2022-01-31T07:43:39.254Z"
   },
   {
    "duration": 237,
    "start_time": "2022-01-31T07:43:44.696Z"
   },
   {
    "duration": 413,
    "start_time": "2022-01-31T07:44:15.777Z"
   },
   {
    "duration": 99,
    "start_time": "2022-01-31T07:44:53.788Z"
   },
   {
    "duration": 34,
    "start_time": "2022-01-31T07:44:53.888Z"
   },
   {
    "duration": 3,
    "start_time": "2022-01-31T07:44:53.925Z"
   },
   {
    "duration": 12,
    "start_time": "2022-01-31T07:44:53.930Z"
   },
   {
    "duration": 8,
    "start_time": "2022-01-31T07:44:53.944Z"
   },
   {
    "duration": 297,
    "start_time": "2022-01-31T07:44:53.954Z"
   },
   {
    "duration": 206,
    "start_time": "2022-01-31T07:44:54.253Z"
   },
   {
    "duration": 8,
    "start_time": "2022-01-31T07:44:54.462Z"
   },
   {
    "duration": 20,
    "start_time": "2022-01-31T07:44:54.471Z"
   },
   {
    "duration": 8,
    "start_time": "2022-01-31T07:44:54.493Z"
   },
   {
    "duration": 26,
    "start_time": "2022-01-31T07:44:54.503Z"
   },
   {
    "duration": 14,
    "start_time": "2022-01-31T07:44:54.530Z"
   },
   {
    "duration": 5,
    "start_time": "2022-01-31T07:44:54.546Z"
   },
   {
    "duration": 5,
    "start_time": "2022-01-31T07:44:54.552Z"
   },
   {
    "duration": 238,
    "start_time": "2022-01-31T07:45:07.227Z"
   },
   {
    "duration": 220,
    "start_time": "2022-01-31T07:53:22.561Z"
   },
   {
    "duration": 221,
    "start_time": "2022-01-31T08:11:46.094Z"
   },
   {
    "duration": 215,
    "start_time": "2022-01-31T08:11:49.891Z"
   },
   {
    "duration": 6,
    "start_time": "2022-01-31T08:12:17.272Z"
   },
   {
    "duration": 35,
    "start_time": "2022-01-31T08:13:25.635Z"
   },
   {
    "duration": 35,
    "start_time": "2022-01-31T08:20:46.123Z"
   },
   {
    "duration": 362,
    "start_time": "2022-01-31T08:29:05.868Z"
   },
   {
    "duration": 13,
    "start_time": "2022-01-31T08:29:27.454Z"
   },
   {
    "duration": 29,
    "start_time": "2022-01-31T08:39:52.051Z"
   },
   {
    "duration": 37,
    "start_time": "2022-01-31T08:39:59.619Z"
   },
   {
    "duration": 46,
    "start_time": "2022-01-31T08:40:10.692Z"
   },
   {
    "duration": 47,
    "start_time": "2022-01-31T08:41:40.322Z"
   },
   {
    "duration": 52,
    "start_time": "2022-01-31T08:44:34.183Z"
   },
   {
    "duration": 52,
    "start_time": "2022-01-31T08:44:46.720Z"
   },
   {
    "duration": 55,
    "start_time": "2022-01-31T08:44:53.345Z"
   },
   {
    "duration": 43,
    "start_time": "2022-01-31T08:46:50.735Z"
   },
   {
    "duration": 61,
    "start_time": "2022-01-31T08:47:00.679Z"
   },
   {
    "duration": 43,
    "start_time": "2022-01-31T08:47:09.544Z"
   },
   {
    "duration": 44,
    "start_time": "2022-01-31T08:47:26.182Z"
   },
   {
    "duration": 287,
    "start_time": "2022-01-31T08:47:34.262Z"
   },
   {
    "duration": 271,
    "start_time": "2022-01-31T08:47:37.993Z"
   },
   {
    "duration": 48,
    "start_time": "2022-01-31T08:47:47.840Z"
   },
   {
    "duration": 44,
    "start_time": "2022-01-31T08:54:53.432Z"
   },
   {
    "duration": 46,
    "start_time": "2022-01-31T08:55:21.338Z"
   },
   {
    "duration": 47,
    "start_time": "2022-01-31T11:50:37.308Z"
   },
   {
    "duration": 108,
    "start_time": "2022-01-31T11:51:26.507Z"
   },
   {
    "duration": 26,
    "start_time": "2022-01-31T11:51:26.617Z"
   },
   {
    "duration": 4,
    "start_time": "2022-01-31T11:51:26.645Z"
   },
   {
    "duration": 12,
    "start_time": "2022-01-31T11:51:26.650Z"
   },
   {
    "duration": 9,
    "start_time": "2022-01-31T11:51:26.664Z"
   },
   {
    "duration": 313,
    "start_time": "2022-01-31T11:51:26.675Z"
   },
   {
    "duration": 20,
    "start_time": "2022-01-31T11:51:26.990Z"
   },
   {
    "duration": 24,
    "start_time": "2022-01-31T11:51:27.012Z"
   },
   {
    "duration": 20,
    "start_time": "2022-01-31T11:51:27.039Z"
   },
   {
    "duration": 4,
    "start_time": "2022-01-31T11:51:27.061Z"
   },
   {
    "duration": 14,
    "start_time": "2022-01-31T11:51:27.067Z"
   },
   {
    "duration": 39,
    "start_time": "2022-01-31T11:51:27.083Z"
   },
   {
    "duration": 23,
    "start_time": "2022-01-31T11:51:27.124Z"
   },
   {
    "duration": 24,
    "start_time": "2022-01-31T11:51:27.149Z"
   },
   {
    "duration": 38,
    "start_time": "2022-01-31T11:51:29.542Z"
   },
   {
    "duration": 47,
    "start_time": "2022-01-31T11:52:10.847Z"
   },
   {
    "duration": 111,
    "start_time": "2022-01-31T11:52:51.907Z"
   },
   {
    "duration": 29,
    "start_time": "2022-01-31T11:55:44.270Z"
   },
   {
    "duration": 45,
    "start_time": "2022-01-31T11:55:58.720Z"
   },
   {
    "duration": 271,
    "start_time": "2022-01-31T11:56:52.865Z"
   },
   {
    "duration": 40,
    "start_time": "2022-01-31T11:57:05.727Z"
   },
   {
    "duration": 98,
    "start_time": "2022-01-31T11:57:45.450Z"
   },
   {
    "duration": 27,
    "start_time": "2022-01-31T11:57:45.551Z"
   },
   {
    "duration": 18,
    "start_time": "2022-01-31T11:57:45.580Z"
   },
   {
    "duration": 9,
    "start_time": "2022-01-31T11:57:45.600Z"
   },
   {
    "duration": 7,
    "start_time": "2022-01-31T11:57:45.611Z"
   },
   {
    "duration": 287,
    "start_time": "2022-01-31T11:57:45.620Z"
   },
   {
    "duration": 14,
    "start_time": "2022-01-31T11:57:45.908Z"
   },
   {
    "duration": 8,
    "start_time": "2022-01-31T11:57:45.924Z"
   },
   {
    "duration": 8,
    "start_time": "2022-01-31T11:57:45.935Z"
   },
   {
    "duration": 3,
    "start_time": "2022-01-31T11:57:45.945Z"
   },
   {
    "duration": 8,
    "start_time": "2022-01-31T11:57:45.950Z"
   },
   {
    "duration": 44,
    "start_time": "2022-01-31T11:57:45.960Z"
   },
   {
    "duration": 5,
    "start_time": "2022-01-31T11:57:46.006Z"
   },
   {
    "duration": 5,
    "start_time": "2022-01-31T11:57:46.013Z"
   },
   {
    "duration": 34,
    "start_time": "2022-01-31T11:57:49.597Z"
   },
   {
    "duration": 41,
    "start_time": "2022-01-31T12:06:20.293Z"
   },
   {
    "duration": 52,
    "start_time": "2022-01-31T12:07:01.069Z"
   },
   {
    "duration": 97,
    "start_time": "2022-01-31T12:07:09.847Z"
   },
   {
    "duration": 26,
    "start_time": "2022-01-31T12:07:09.946Z"
   },
   {
    "duration": 4,
    "start_time": "2022-01-31T12:07:09.975Z"
   },
   {
    "duration": 24,
    "start_time": "2022-01-31T12:07:09.981Z"
   },
   {
    "duration": 8,
    "start_time": "2022-01-31T12:07:10.007Z"
   },
   {
    "duration": 289,
    "start_time": "2022-01-31T12:07:10.017Z"
   },
   {
    "duration": 16,
    "start_time": "2022-01-31T12:07:10.308Z"
   },
   {
    "duration": 11,
    "start_time": "2022-01-31T12:07:10.327Z"
   },
   {
    "duration": 10,
    "start_time": "2022-01-31T12:07:10.340Z"
   },
   {
    "duration": 4,
    "start_time": "2022-01-31T12:07:10.353Z"
   },
   {
    "duration": 45,
    "start_time": "2022-01-31T12:07:10.359Z"
   },
   {
    "duration": 21,
    "start_time": "2022-01-31T12:07:10.406Z"
   },
   {
    "duration": 6,
    "start_time": "2022-01-31T12:07:10.429Z"
   },
   {
    "duration": 4,
    "start_time": "2022-01-31T12:07:10.436Z"
   },
   {
    "duration": 74,
    "start_time": "2022-01-31T12:07:10.442Z"
   },
   {
    "duration": 46,
    "start_time": "2022-01-31T12:07:12.238Z"
   },
   {
    "duration": 27,
    "start_time": "2022-01-31T12:07:51.688Z"
   },
   {
    "duration": 46,
    "start_time": "2022-01-31T12:08:14.389Z"
   },
   {
    "duration": 137,
    "start_time": "2022-01-31T12:08:43.795Z"
   },
   {
    "duration": 46,
    "start_time": "2022-01-31T12:08:51.474Z"
   },
   {
    "duration": 44,
    "start_time": "2022-01-31T12:09:33.778Z"
   },
   {
    "duration": 48,
    "start_time": "2022-01-31T12:10:59.281Z"
   },
   {
    "duration": 9114,
    "start_time": "2022-01-31T12:12:02.385Z"
   },
   {
    "duration": 43,
    "start_time": "2022-01-31T12:13:54.061Z"
   },
   {
    "duration": 38,
    "start_time": "2022-01-31T12:14:17.260Z"
   },
   {
    "duration": 99,
    "start_time": "2022-01-31T12:14:38.163Z"
   },
   {
    "duration": 25,
    "start_time": "2022-01-31T12:14:38.263Z"
   },
   {
    "duration": 6,
    "start_time": "2022-01-31T12:14:38.299Z"
   },
   {
    "duration": 12,
    "start_time": "2022-01-31T12:14:38.307Z"
   },
   {
    "duration": 16,
    "start_time": "2022-01-31T12:14:38.321Z"
   },
   {
    "duration": 286,
    "start_time": "2022-01-31T12:14:38.340Z"
   },
   {
    "duration": 16,
    "start_time": "2022-01-31T12:14:38.628Z"
   },
   {
    "duration": 10,
    "start_time": "2022-01-31T12:14:38.647Z"
   },
   {
    "duration": 10,
    "start_time": "2022-01-31T12:14:38.659Z"
   },
   {
    "duration": 5,
    "start_time": "2022-01-31T12:14:38.699Z"
   },
   {
    "duration": 9,
    "start_time": "2022-01-31T12:14:38.706Z"
   },
   {
    "duration": 15,
    "start_time": "2022-01-31T12:14:38.717Z"
   },
   {
    "duration": 5,
    "start_time": "2022-01-31T12:14:38.734Z"
   },
   {
    "duration": 5,
    "start_time": "2022-01-31T12:14:38.741Z"
   },
   {
    "duration": 40,
    "start_time": "2022-01-31T12:14:40.510Z"
   },
   {
    "duration": 4,
    "start_time": "2022-01-31T13:25:06.693Z"
   },
   {
    "duration": -75,
    "start_time": "2022-01-31T13:25:37.569Z"
   },
   {
    "duration": 8,
    "start_time": "2022-01-31T13:25:41.613Z"
   },
   {
    "duration": 4,
    "start_time": "2022-01-31T13:25:46.058Z"
   },
   {
    "duration": 4,
    "start_time": "2022-01-31T13:26:10.691Z"
   },
   {
    "duration": 9,
    "start_time": "2022-01-31T13:26:34.022Z"
   },
   {
    "duration": 14,
    "start_time": "2022-01-31T13:42:27.556Z"
   },
   {
    "duration": 7,
    "start_time": "2022-01-31T13:42:28.558Z"
   },
   {
    "duration": 12,
    "start_time": "2022-01-31T13:42:29.413Z"
   },
   {
    "duration": 5,
    "start_time": "2022-01-31T13:42:30.318Z"
   },
   {
    "duration": 4,
    "start_time": "2022-01-31T13:42:32.595Z"
   },
   {
    "duration": 111,
    "start_time": "2022-01-31T13:42:40.438Z"
   },
   {
    "duration": 27,
    "start_time": "2022-01-31T13:42:40.552Z"
   },
   {
    "duration": 8,
    "start_time": "2022-01-31T13:42:40.598Z"
   },
   {
    "duration": 18,
    "start_time": "2022-01-31T13:42:40.610Z"
   },
   {
    "duration": 11,
    "start_time": "2022-01-31T13:42:40.630Z"
   },
   {
    "duration": 320,
    "start_time": "2022-01-31T13:42:40.643Z"
   },
   {
    "duration": 20,
    "start_time": "2022-01-31T13:42:40.965Z"
   },
   {
    "duration": 16,
    "start_time": "2022-01-31T13:42:41.001Z"
   },
   {
    "duration": 15,
    "start_time": "2022-01-31T13:42:41.020Z"
   },
   {
    "duration": 8,
    "start_time": "2022-01-31T13:42:41.037Z"
   },
   {
    "duration": 8,
    "start_time": "2022-01-31T13:42:41.047Z"
   },
   {
    "duration": 9,
    "start_time": "2022-01-31T13:42:49.563Z"
   },
   {
    "duration": 5,
    "start_time": "2022-01-31T13:42:54.919Z"
   },
   {
    "duration": 4,
    "start_time": "2022-01-31T13:42:55.384Z"
   },
   {
    "duration": 117,
    "start_time": "2022-01-31T13:43:00.737Z"
   },
   {
    "duration": 26,
    "start_time": "2022-01-31T13:43:00.856Z"
   },
   {
    "duration": 3,
    "start_time": "2022-01-31T13:43:00.884Z"
   },
   {
    "duration": 14,
    "start_time": "2022-01-31T13:43:00.899Z"
   },
   {
    "duration": 23,
    "start_time": "2022-01-31T13:43:00.915Z"
   },
   {
    "duration": 317,
    "start_time": "2022-01-31T13:43:00.940Z"
   },
   {
    "duration": 18,
    "start_time": "2022-01-31T13:43:01.259Z"
   },
   {
    "duration": 28,
    "start_time": "2022-01-31T13:43:01.280Z"
   },
   {
    "duration": 12,
    "start_time": "2022-01-31T13:43:01.311Z"
   },
   {
    "duration": 8,
    "start_time": "2022-01-31T13:43:01.325Z"
   },
   {
    "duration": 24,
    "start_time": "2022-01-31T13:43:01.335Z"
   },
   {
    "duration": 18,
    "start_time": "2022-01-31T13:43:01.361Z"
   },
   {
    "duration": 17,
    "start_time": "2022-01-31T13:43:01.382Z"
   },
   {
    "duration": 13,
    "start_time": "2022-01-31T13:43:01.402Z"
   },
   {
    "duration": 59,
    "start_time": "2022-01-31T13:43:01.418Z"
   },
   {
    "duration": 15,
    "start_time": "2022-01-31T13:43:01.479Z"
   },
   {
    "duration": 8,
    "start_time": "2022-01-31T13:43:51.579Z"
   },
   {
    "duration": 152,
    "start_time": "2022-01-31T15:49:04.778Z"
   },
   {
    "duration": 107,
    "start_time": "2022-01-31T15:49:32.843Z"
   },
   {
    "duration": 25,
    "start_time": "2022-01-31T15:49:32.952Z"
   },
   {
    "duration": 4,
    "start_time": "2022-01-31T15:49:32.979Z"
   },
   {
    "duration": 26,
    "start_time": "2022-01-31T15:49:32.985Z"
   },
   {
    "duration": 6,
    "start_time": "2022-01-31T15:49:33.013Z"
   },
   {
    "duration": 336,
    "start_time": "2022-01-31T15:49:33.021Z"
   },
   {
    "duration": 14,
    "start_time": "2022-01-31T15:49:33.359Z"
   },
   {
    "duration": 36,
    "start_time": "2022-01-31T15:49:33.375Z"
   },
   {
    "duration": 12,
    "start_time": "2022-01-31T15:49:33.415Z"
   },
   {
    "duration": 4,
    "start_time": "2022-01-31T15:49:33.430Z"
   },
   {
    "duration": 20,
    "start_time": "2022-01-31T15:49:33.436Z"
   },
   {
    "duration": 14,
    "start_time": "2022-01-31T15:49:33.457Z"
   },
   {
    "duration": 4,
    "start_time": "2022-01-31T15:49:33.472Z"
   },
   {
    "duration": 3,
    "start_time": "2022-01-31T15:49:33.500Z"
   },
   {
    "duration": 43,
    "start_time": "2022-01-31T15:49:39.629Z"
   },
   {
    "duration": 41,
    "start_time": "2022-01-31T15:49:58.333Z"
   },
   {
    "duration": 104,
    "start_time": "2022-01-31T15:59:54.794Z"
   },
   {
    "duration": 25,
    "start_time": "2022-01-31T15:59:54.900Z"
   },
   {
    "duration": 4,
    "start_time": "2022-01-31T15:59:54.927Z"
   },
   {
    "duration": 13,
    "start_time": "2022-01-31T15:59:54.932Z"
   },
   {
    "duration": 12,
    "start_time": "2022-01-31T15:59:54.947Z"
   },
   {
    "duration": 282,
    "start_time": "2022-01-31T15:59:54.961Z"
   },
   {
    "duration": 14,
    "start_time": "2022-01-31T15:59:55.245Z"
   },
   {
    "duration": 8,
    "start_time": "2022-01-31T15:59:55.262Z"
   },
   {
    "duration": 28,
    "start_time": "2022-01-31T15:59:55.272Z"
   },
   {
    "duration": 4,
    "start_time": "2022-01-31T15:59:55.301Z"
   },
   {
    "duration": 16,
    "start_time": "2022-01-31T15:59:55.306Z"
   },
   {
    "duration": 14,
    "start_time": "2022-01-31T15:59:55.324Z"
   },
   {
    "duration": 5,
    "start_time": "2022-01-31T15:59:55.340Z"
   },
   {
    "duration": 2,
    "start_time": "2022-01-31T15:59:55.347Z"
   },
   {
    "duration": 61,
    "start_time": "2022-01-31T15:59:55.351Z"
   },
   {
    "duration": 15,
    "start_time": "2022-01-31T15:59:55.414Z"
   },
   {
    "duration": 72,
    "start_time": "2022-01-31T16:00:06.635Z"
   },
   {
    "duration": 6810,
    "start_time": "2022-01-31T16:05:38.960Z"
   },
   {
    "duration": 5252,
    "start_time": "2022-01-31T16:06:12.682Z"
   },
   {
    "duration": 284,
    "start_time": "2022-01-31T16:07:10.357Z"
   },
   {
    "duration": 2524,
    "start_time": "2022-01-31T16:25:19.662Z"
   },
   {
    "duration": 1805,
    "start_time": "2022-01-31T16:25:36.294Z"
   },
   {
    "duration": 12,
    "start_time": "2022-01-31T16:27:25.261Z"
   },
   {
    "duration": 30,
    "start_time": "2022-01-31T16:48:16.676Z"
   },
   {
    "duration": 210,
    "start_time": "2022-01-31T16:48:25.462Z"
   },
   {
    "duration": 214,
    "start_time": "2022-01-31T16:51:25.343Z"
   },
   {
    "duration": 1541,
    "start_time": "2022-02-01T07:20:28.780Z"
   },
   {
    "duration": 42,
    "start_time": "2022-02-01T07:20:30.324Z"
   },
   {
    "duration": 5,
    "start_time": "2022-02-01T07:20:30.369Z"
   },
   {
    "duration": 14,
    "start_time": "2022-02-01T07:20:30.377Z"
   },
   {
    "duration": 20,
    "start_time": "2022-02-01T07:20:30.394Z"
   },
   {
    "duration": 410,
    "start_time": "2022-02-01T07:20:30.416Z"
   },
   {
    "duration": 21,
    "start_time": "2022-02-01T07:20:30.832Z"
   },
   {
    "duration": 38,
    "start_time": "2022-02-01T07:20:30.856Z"
   },
   {
    "duration": 12,
    "start_time": "2022-02-01T07:20:30.897Z"
   },
   {
    "duration": 4,
    "start_time": "2022-02-01T07:20:30.911Z"
   },
   {
    "duration": 17,
    "start_time": "2022-02-01T07:20:30.933Z"
   },
   {
    "duration": 20,
    "start_time": "2022-02-01T07:20:30.953Z"
   },
   {
    "duration": 8,
    "start_time": "2022-02-01T07:20:30.975Z"
   },
   {
    "duration": 16,
    "start_time": "2022-02-01T07:20:30.985Z"
   },
   {
    "duration": 46,
    "start_time": "2022-02-01T07:20:31.033Z"
   },
   {
    "duration": 20,
    "start_time": "2022-02-01T07:20:31.081Z"
   },
   {
    "duration": 13,
    "start_time": "2022-02-01T07:23:34.273Z"
   },
   {
    "duration": 128,
    "start_time": "2022-02-01T07:23:41.504Z"
   },
   {
    "duration": 37,
    "start_time": "2022-02-01T07:23:41.635Z"
   },
   {
    "duration": 5,
    "start_time": "2022-02-01T07:23:41.676Z"
   },
   {
    "duration": 13,
    "start_time": "2022-02-01T07:23:41.685Z"
   },
   {
    "duration": 5,
    "start_time": "2022-02-01T07:23:41.733Z"
   },
   {
    "duration": 418,
    "start_time": "2022-02-01T07:23:41.741Z"
   },
   {
    "duration": 359,
    "start_time": "2022-02-01T07:23:42.162Z"
   },
   {
    "duration": 16,
    "start_time": "2022-02-01T07:23:42.524Z"
   },
   {
    "duration": 10,
    "start_time": "2022-02-01T07:23:42.544Z"
   },
   {
    "duration": 4,
    "start_time": "2022-02-01T07:23:42.557Z"
   },
   {
    "duration": 382,
    "start_time": "2022-02-01T07:23:42.564Z"
   },
   {
    "duration": 19,
    "start_time": "2022-02-01T07:23:42.949Z"
   },
   {
    "duration": 6,
    "start_time": "2022-02-01T07:23:42.971Z"
   },
   {
    "duration": 3,
    "start_time": "2022-02-01T07:23:42.980Z"
   },
   {
    "duration": 84,
    "start_time": "2022-02-01T07:23:42.985Z"
   },
   {
    "duration": 18,
    "start_time": "2022-02-01T07:23:43.071Z"
   },
   {
    "duration": 118,
    "start_time": "2022-02-01T07:24:45.581Z"
   },
   {
    "duration": 44,
    "start_time": "2022-02-01T07:24:45.702Z"
   },
   {
    "duration": 4,
    "start_time": "2022-02-01T07:24:45.748Z"
   },
   {
    "duration": 12,
    "start_time": "2022-02-01T07:24:45.755Z"
   },
   {
    "duration": 5,
    "start_time": "2022-02-01T07:24:45.769Z"
   },
   {
    "duration": 400,
    "start_time": "2022-02-01T07:24:45.777Z"
   },
   {
    "duration": 313,
    "start_time": "2022-02-01T07:24:46.180Z"
   },
   {
    "duration": 11,
    "start_time": "2022-02-01T07:24:46.497Z"
   },
   {
    "duration": 25,
    "start_time": "2022-02-01T07:24:46.510Z"
   },
   {
    "duration": 15,
    "start_time": "2022-02-01T07:24:46.537Z"
   },
   {
    "duration": 342,
    "start_time": "2022-02-01T07:24:46.555Z"
   },
   {
    "duration": 38,
    "start_time": "2022-02-01T07:24:46.900Z"
   },
   {
    "duration": 6,
    "start_time": "2022-02-01T07:24:46.940Z"
   },
   {
    "duration": 5,
    "start_time": "2022-02-01T07:24:46.948Z"
   },
   {
    "duration": 47,
    "start_time": "2022-02-01T07:24:46.955Z"
   },
   {
    "duration": 43,
    "start_time": "2022-02-01T07:24:47.004Z"
   },
   {
    "duration": 117,
    "start_time": "2022-02-01T07:28:53.386Z"
   },
   {
    "duration": 48,
    "start_time": "2022-02-01T07:28:53.506Z"
   },
   {
    "duration": 4,
    "start_time": "2022-02-01T07:28:53.558Z"
   },
   {
    "duration": 15,
    "start_time": "2022-02-01T07:28:53.565Z"
   },
   {
    "duration": 4,
    "start_time": "2022-02-01T07:28:53.583Z"
   },
   {
    "duration": 416,
    "start_time": "2022-02-01T07:28:53.589Z"
   },
   {
    "duration": 328,
    "start_time": "2022-02-01T07:28:54.007Z"
   },
   {
    "duration": 10,
    "start_time": "2022-02-01T07:28:54.338Z"
   },
   {
    "duration": 10,
    "start_time": "2022-02-01T07:28:54.351Z"
   },
   {
    "duration": 4,
    "start_time": "2022-02-01T07:28:54.363Z"
   },
   {
    "duration": 367,
    "start_time": "2022-02-01T07:28:54.370Z"
   },
   {
    "duration": 20,
    "start_time": "2022-02-01T07:28:54.739Z"
   },
   {
    "duration": 6,
    "start_time": "2022-02-01T07:28:54.761Z"
   },
   {
    "duration": 4,
    "start_time": "2022-02-01T07:28:54.770Z"
   },
   {
    "duration": 80,
    "start_time": "2022-02-01T07:28:54.776Z"
   },
   {
    "duration": 17,
    "start_time": "2022-02-01T07:28:54.858Z"
   },
   {
    "duration": 347,
    "start_time": "2022-02-01T07:29:42.946Z"
   },
   {
    "duration": 343,
    "start_time": "2022-02-01T07:29:51.436Z"
   },
   {
    "duration": 343,
    "start_time": "2022-02-01T07:30:13.248Z"
   },
   {
    "duration": 355,
    "start_time": "2022-02-01T07:30:37.643Z"
   },
   {
    "duration": 13,
    "start_time": "2022-02-01T07:55:18.107Z"
   },
   {
    "duration": 345,
    "start_time": "2022-02-01T07:55:38.109Z"
   },
   {
    "duration": 342,
    "start_time": "2022-02-01T07:55:51.342Z"
   },
   {
    "duration": 131,
    "start_time": "2022-02-01T08:00:05.726Z"
   },
   {
    "duration": 38,
    "start_time": "2022-02-01T08:00:05.860Z"
   },
   {
    "duration": 32,
    "start_time": "2022-02-01T08:00:05.902Z"
   },
   {
    "duration": 25,
    "start_time": "2022-02-01T08:00:05.938Z"
   },
   {
    "duration": 19,
    "start_time": "2022-02-01T08:00:05.966Z"
   },
   {
    "duration": 403,
    "start_time": "2022-02-01T08:00:05.987Z"
   },
   {
    "duration": 343,
    "start_time": "2022-02-01T08:00:06.393Z"
   },
   {
    "duration": 15,
    "start_time": "2022-02-01T08:00:06.739Z"
   },
   {
    "duration": 25,
    "start_time": "2022-02-01T08:00:06.760Z"
   },
   {
    "duration": 9,
    "start_time": "2022-02-01T08:00:06.788Z"
   },
   {
    "duration": 380,
    "start_time": "2022-02-01T08:00:06.799Z"
   },
   {
    "duration": 21,
    "start_time": "2022-02-01T08:00:07.182Z"
   },
   {
    "duration": 31,
    "start_time": "2022-02-01T08:00:07.206Z"
   },
   {
    "duration": 10,
    "start_time": "2022-02-01T08:00:07.241Z"
   },
   {
    "duration": 47,
    "start_time": "2022-02-01T08:00:07.253Z"
   },
   {
    "duration": 43,
    "start_time": "2022-02-01T08:00:07.302Z"
   },
   {
    "duration": 355,
    "start_time": "2022-02-01T08:00:13.180Z"
   },
   {
    "duration": 126,
    "start_time": "2022-02-01T08:00:25.983Z"
   },
   {
    "duration": 48,
    "start_time": "2022-02-01T08:00:26.112Z"
   },
   {
    "duration": 4,
    "start_time": "2022-02-01T08:00:26.163Z"
   },
   {
    "duration": 18,
    "start_time": "2022-02-01T08:00:26.170Z"
   },
   {
    "duration": 11,
    "start_time": "2022-02-01T08:00:26.190Z"
   },
   {
    "duration": 510,
    "start_time": "2022-02-01T08:00:26.203Z"
   },
   {
    "duration": 378,
    "start_time": "2022-02-01T08:00:26.715Z"
   },
   {
    "duration": 10,
    "start_time": "2022-02-01T08:00:27.095Z"
   },
   {
    "duration": 28,
    "start_time": "2022-02-01T08:00:27.109Z"
   },
   {
    "duration": 6,
    "start_time": "2022-02-01T08:00:27.141Z"
   },
   {
    "duration": 370,
    "start_time": "2022-02-01T08:00:27.150Z"
   },
   {
    "duration": 19,
    "start_time": "2022-02-01T08:00:27.522Z"
   },
   {
    "duration": 6,
    "start_time": "2022-02-01T08:00:27.544Z"
   },
   {
    "duration": 5,
    "start_time": "2022-02-01T08:00:27.553Z"
   },
   {
    "duration": 87,
    "start_time": "2022-02-01T08:00:27.561Z"
   },
   {
    "duration": 20,
    "start_time": "2022-02-01T08:00:27.650Z"
   },
   {
    "duration": 14,
    "start_time": "2022-02-01T08:02:05.088Z"
   },
   {
    "duration": 119,
    "start_time": "2022-02-01T08:02:50.257Z"
   },
   {
    "duration": 36,
    "start_time": "2022-02-01T08:02:50.378Z"
   },
   {
    "duration": 17,
    "start_time": "2022-02-01T08:02:50.417Z"
   },
   {
    "duration": 17,
    "start_time": "2022-02-01T08:02:50.437Z"
   },
   {
    "duration": 4,
    "start_time": "2022-02-01T08:02:50.457Z"
   },
   {
    "duration": 388,
    "start_time": "2022-02-01T08:02:50.463Z"
   },
   {
    "duration": 324,
    "start_time": "2022-02-01T08:02:50.854Z"
   },
   {
    "duration": 10,
    "start_time": "2022-02-01T08:02:51.182Z"
   },
   {
    "duration": 11,
    "start_time": "2022-02-01T08:02:51.195Z"
   },
   {
    "duration": 26,
    "start_time": "2022-02-01T08:02:51.208Z"
   },
   {
    "duration": 350,
    "start_time": "2022-02-01T08:02:51.237Z"
   },
   {
    "duration": 21,
    "start_time": "2022-02-01T08:02:51.589Z"
   },
   {
    "duration": 24,
    "start_time": "2022-02-01T08:02:51.613Z"
   },
   {
    "duration": 6,
    "start_time": "2022-02-01T08:02:51.639Z"
   },
   {
    "duration": 43,
    "start_time": "2022-02-01T08:02:51.647Z"
   },
   {
    "duration": 46,
    "start_time": "2022-02-01T08:02:51.692Z"
   },
   {
    "duration": 19,
    "start_time": "2022-02-01T08:03:18.930Z"
   },
   {
    "duration": 365,
    "start_time": "2022-02-01T08:03:29.467Z"
   },
   {
    "duration": 354,
    "start_time": "2022-02-01T08:15:36.289Z"
   },
   {
    "duration": 43,
    "start_time": "2022-02-01T08:15:51.559Z"
   },
   {
    "duration": 16,
    "start_time": "2022-02-01T08:15:55.052Z"
   },
   {
    "duration": 15,
    "start_time": "2022-02-01T08:23:35.248Z"
   },
   {
    "duration": 36,
    "start_time": "2022-02-01T08:40:41.585Z"
   },
   {
    "duration": 37,
    "start_time": "2022-02-01T08:45:52.618Z"
   },
   {
    "duration": 44,
    "start_time": "2022-02-01T08:53:03.895Z"
   },
   {
    "duration": 14,
    "start_time": "2022-02-01T08:56:28.771Z"
   },
   {
    "duration": 29,
    "start_time": "2022-02-01T08:57:07.422Z"
   },
   {
    "duration": 32,
    "start_time": "2022-02-01T08:59:14.841Z"
   },
   {
    "duration": 27,
    "start_time": "2022-02-01T08:59:52.336Z"
   },
   {
    "duration": 31,
    "start_time": "2022-02-01T08:59:59.404Z"
   },
   {
    "duration": 27,
    "start_time": "2022-02-01T09:00:09.363Z"
   },
   {
    "duration": 36,
    "start_time": "2022-02-01T09:00:27.142Z"
   },
   {
    "duration": 116,
    "start_time": "2022-02-01T09:00:55.794Z"
   },
   {
    "duration": 48,
    "start_time": "2022-02-01T09:00:55.912Z"
   },
   {
    "duration": 5,
    "start_time": "2022-02-01T09:00:55.963Z"
   },
   {
    "duration": 14,
    "start_time": "2022-02-01T09:00:55.971Z"
   },
   {
    "duration": 15,
    "start_time": "2022-02-01T09:00:55.988Z"
   },
   {
    "duration": 439,
    "start_time": "2022-02-01T09:00:56.005Z"
   },
   {
    "duration": 24,
    "start_time": "2022-02-01T09:00:56.447Z"
   },
   {
    "duration": 13,
    "start_time": "2022-02-01T09:00:56.474Z"
   },
   {
    "duration": 51,
    "start_time": "2022-02-01T09:00:56.492Z"
   },
   {
    "duration": 23,
    "start_time": "2022-02-01T09:00:59.279Z"
   },
   {
    "duration": 117,
    "start_time": "2022-02-01T09:23:41.158Z"
   },
   {
    "duration": 35,
    "start_time": "2022-02-01T09:23:41.278Z"
   },
   {
    "duration": 17,
    "start_time": "2022-02-01T09:23:41.316Z"
   },
   {
    "duration": 15,
    "start_time": "2022-02-01T09:23:41.337Z"
   },
   {
    "duration": 11,
    "start_time": "2022-02-01T09:23:41.354Z"
   },
   {
    "duration": 400,
    "start_time": "2022-02-01T09:23:41.367Z"
   },
   {
    "duration": 18,
    "start_time": "2022-02-01T09:23:41.770Z"
   },
   {
    "duration": 10,
    "start_time": "2022-02-01T09:23:41.791Z"
   },
   {
    "duration": 38,
    "start_time": "2022-02-01T09:23:41.804Z"
   },
   {
    "duration": 21,
    "start_time": "2022-02-01T09:23:49.762Z"
   },
   {
    "duration": 24,
    "start_time": "2022-02-01T09:24:06.503Z"
   },
   {
    "duration": 44,
    "start_time": "2022-02-01T09:25:04.084Z"
   },
   {
    "duration": 36,
    "start_time": "2022-02-01T09:27:07.561Z"
   },
   {
    "duration": 406,
    "start_time": "2022-02-01T09:33:33.673Z"
   },
   {
    "duration": 8,
    "start_time": "2022-02-01T09:36:33.850Z"
   },
   {
    "duration": 250,
    "start_time": "2022-02-01T09:37:21.543Z"
   },
   {
    "duration": 104,
    "start_time": "2022-02-01T09:37:28.652Z"
   },
   {
    "duration": 293,
    "start_time": "2022-02-01T09:37:36.346Z"
   },
   {
    "duration": 242,
    "start_time": "2022-02-01T09:37:47.652Z"
   },
   {
    "duration": 120,
    "start_time": "2022-02-01T09:40:06.068Z"
   },
   {
    "duration": 6,
    "start_time": "2022-02-01T09:40:11.069Z"
   },
   {
    "duration": 11,
    "start_time": "2022-02-01T09:43:13.351Z"
   },
   {
    "duration": 9,
    "start_time": "2022-02-01T09:43:44.312Z"
   },
   {
    "duration": 10,
    "start_time": "2022-02-01T09:44:23.792Z"
   },
   {
    "duration": 117,
    "start_time": "2022-02-01T09:46:04.178Z"
   },
   {
    "duration": 118,
    "start_time": "2022-02-01T09:46:21.995Z"
   },
   {
    "duration": 16,
    "start_time": "2022-02-01T09:46:28.587Z"
   },
   {
    "duration": 127,
    "start_time": "2022-02-01T09:50:24.120Z"
   },
   {
    "duration": 11,
    "start_time": "2022-02-01T09:50:31.301Z"
   },
   {
    "duration": 235,
    "start_time": "2022-02-01T09:50:56.767Z"
   },
   {
    "duration": 260,
    "start_time": "2022-02-01T09:52:13.718Z"
   },
   {
    "duration": 52,
    "start_time": "2022-02-01T09:52:33.444Z"
   },
   {
    "duration": 52,
    "start_time": "2022-02-01T09:52:44.116Z"
   },
   {
    "duration": 257,
    "start_time": "2022-02-01T09:53:21.560Z"
   },
   {
    "duration": 28,
    "start_time": "2022-02-01T09:54:02.951Z"
   },
   {
    "duration": 63,
    "start_time": "2022-02-01T09:54:19.175Z"
   },
   {
    "duration": 31,
    "start_time": "2022-02-01T09:54:26.757Z"
   },
   {
    "duration": 20,
    "start_time": "2022-02-01T09:54:43.331Z"
   },
   {
    "duration": 14,
    "start_time": "2022-02-01T10:17:31.467Z"
   },
   {
    "duration": 44,
    "start_time": "2022-02-01T10:22:09.414Z"
   },
   {
    "duration": 81,
    "start_time": "2022-02-01T10:36:02.148Z"
   },
   {
    "duration": 84,
    "start_time": "2022-02-01T10:36:19.326Z"
   },
   {
    "duration": 101,
    "start_time": "2022-02-01T10:36:30.043Z"
   },
   {
    "duration": 94,
    "start_time": "2022-02-01T10:37:21.211Z"
   },
   {
    "duration": 57,
    "start_time": "2022-02-01T11:21:35.855Z"
   },
   {
    "duration": 86,
    "start_time": "2022-02-01T11:22:31.634Z"
   },
   {
    "duration": 84,
    "start_time": "2022-02-01T11:22:51.273Z"
   },
   {
    "duration": 107,
    "start_time": "2022-02-01T11:23:23.271Z"
   },
   {
    "duration": 63,
    "start_time": "2022-02-01T11:24:36.654Z"
   },
   {
    "duration": 90,
    "start_time": "2022-02-01T11:30:04.276Z"
   },
   {
    "duration": 88,
    "start_time": "2022-02-01T11:30:35.091Z"
   },
   {
    "duration": 78,
    "start_time": "2022-02-01T11:32:06.633Z"
   },
   {
    "duration": 120,
    "start_time": "2022-02-01T11:53:43.791Z"
   },
   {
    "duration": 65,
    "start_time": "2022-02-01T11:53:43.915Z"
   },
   {
    "duration": 5,
    "start_time": "2022-02-01T11:53:43.983Z"
   },
   {
    "duration": 40,
    "start_time": "2022-02-01T11:53:43.992Z"
   },
   {
    "duration": 4,
    "start_time": "2022-02-01T11:53:44.035Z"
   },
   {
    "duration": 418,
    "start_time": "2022-02-01T11:53:44.041Z"
   },
   {
    "duration": 20,
    "start_time": "2022-02-01T11:53:44.461Z"
   },
   {
    "duration": 10,
    "start_time": "2022-02-01T11:53:44.484Z"
   },
   {
    "duration": 48,
    "start_time": "2022-02-01T11:53:44.498Z"
   },
   {
    "duration": 44,
    "start_time": "2022-02-01T11:53:44.549Z"
   },
   {
    "duration": 67,
    "start_time": "2022-02-01T11:53:44.596Z"
   },
   {
    "duration": 7,
    "start_time": "2022-02-01T11:53:44.666Z"
   },
   {
    "duration": 23,
    "start_time": "2022-02-01T11:53:44.675Z"
   },
   {
    "duration": 105,
    "start_time": "2022-02-01T11:53:44.701Z"
   },
   {
    "duration": 17,
    "start_time": "2022-02-01T11:53:47.999Z"
   },
   {
    "duration": 15,
    "start_time": "2022-02-01T11:54:02.024Z"
   },
   {
    "duration": 59,
    "start_time": "2022-02-01T11:54:41.390Z"
   },
   {
    "duration": 120,
    "start_time": "2022-02-01T11:55:15.074Z"
   },
   {
    "duration": 81,
    "start_time": "2022-02-01T11:55:24.774Z"
   },
   {
    "duration": 58,
    "start_time": "2022-02-01T11:56:52.458Z"
   },
   {
    "duration": 34,
    "start_time": "2022-02-01T11:58:16.992Z"
   },
   {
    "duration": 58,
    "start_time": "2022-02-01T11:58:23.238Z"
   },
   {
    "duration": 42,
    "start_time": "2022-02-01T12:06:22.410Z"
   },
   {
    "duration": 82,
    "start_time": "2022-02-01T12:10:19.359Z"
   },
   {
    "duration": 240,
    "start_time": "2022-02-01T12:10:22.369Z"
   },
   {
    "duration": 271,
    "start_time": "2022-02-01T12:10:27.643Z"
   },
   {
    "duration": 247,
    "start_time": "2022-02-01T12:11:18.286Z"
   },
   {
    "duration": 337,
    "start_time": "2022-02-01T12:12:38.194Z"
   },
   {
    "duration": 246,
    "start_time": "2022-02-01T12:13:19.153Z"
   },
   {
    "duration": 257,
    "start_time": "2022-02-01T12:14:31.125Z"
   },
   {
    "duration": 123,
    "start_time": "2022-02-01T12:15:06.653Z"
   },
   {
    "duration": 33,
    "start_time": "2022-02-01T12:15:06.778Z"
   },
   {
    "duration": 5,
    "start_time": "2022-02-01T12:15:06.832Z"
   },
   {
    "duration": 3074,
    "start_time": "2022-02-01T12:15:08.488Z"
   },
   {
    "duration": 128,
    "start_time": "2022-02-01T12:15:26.178Z"
   },
   {
    "duration": 52,
    "start_time": "2022-02-01T12:15:26.309Z"
   },
   {
    "duration": 6,
    "start_time": "2022-02-01T12:15:26.364Z"
   },
   {
    "duration": 2237,
    "start_time": "2022-02-01T12:15:28.402Z"
   },
   {
    "duration": 417,
    "start_time": "2022-02-01T12:15:44.594Z"
   },
   {
    "duration": 120,
    "start_time": "2022-02-01T12:15:50.434Z"
   },
   {
    "duration": 34,
    "start_time": "2022-02-01T12:15:50.558Z"
   },
   {
    "duration": 5,
    "start_time": "2022-02-01T12:15:50.595Z"
   },
   {
    "duration": 281,
    "start_time": "2022-02-01T12:15:52.761Z"
   },
   {
    "duration": 119,
    "start_time": "2022-02-01T12:15:56.458Z"
   },
   {
    "duration": 36,
    "start_time": "2022-02-01T12:15:56.580Z"
   },
   {
    "duration": 5,
    "start_time": "2022-02-01T12:15:56.633Z"
   },
   {
    "duration": 2120,
    "start_time": "2022-02-01T12:15:59.131Z"
   },
   {
    "duration": 43,
    "start_time": "2022-02-01T12:44:40.257Z"
   },
   {
    "duration": 281,
    "start_time": "2022-02-01T12:47:05.352Z"
   },
   {
    "duration": 175,
    "start_time": "2022-02-01T13:13:55.623Z"
   },
   {
    "duration": 18,
    "start_time": "2022-02-01T13:14:31.861Z"
   },
   {
    "duration": 268,
    "start_time": "2022-02-01T13:15:21.335Z"
   },
   {
    "duration": 252,
    "start_time": "2022-02-01T13:15:33.573Z"
   },
   {
    "duration": 60,
    "start_time": "2022-02-01T13:15:37.879Z"
   },
   {
    "duration": 307,
    "start_time": "2022-02-01T13:17:35.156Z"
   },
   {
    "duration": 39,
    "start_time": "2022-02-01T13:17:39.612Z"
   },
   {
    "duration": 111,
    "start_time": "2022-02-01T13:17:50.508Z"
   },
   {
    "duration": 36,
    "start_time": "2022-02-01T13:17:50.631Z"
   },
   {
    "duration": 5,
    "start_time": "2022-02-01T13:17:50.670Z"
   },
   {
    "duration": 2080,
    "start_time": "2022-02-01T13:17:50.677Z"
   },
   {
    "duration": 4,
    "start_time": "2022-02-01T13:17:52.759Z"
   },
   {
    "duration": 423,
    "start_time": "2022-02-01T13:17:52.765Z"
   },
   {
    "duration": 334,
    "start_time": "2022-02-01T13:17:53.191Z"
   },
   {
    "duration": 11,
    "start_time": "2022-02-01T13:17:53.528Z"
   },
   {
    "duration": 16,
    "start_time": "2022-02-01T13:17:53.542Z"
   },
   {
    "duration": 380,
    "start_time": "2022-02-01T13:17:53.561Z"
   },
   {
    "duration": 336,
    "start_time": "2022-02-01T13:17:53.944Z"
   },
   {
    "duration": 6,
    "start_time": "2022-02-01T13:17:54.282Z"
   },
   {
    "duration": 618,
    "start_time": "2022-02-01T13:17:54.290Z"
   },
   {
    "duration": 5596,
    "start_time": "2022-02-01T13:17:54.910Z"
   },
   {
    "duration": 58,
    "start_time": "2022-02-01T13:18:00.508Z"
   },
   {
    "duration": 40,
    "start_time": "2022-02-01T13:18:09.788Z"
   },
   {
    "duration": 40,
    "start_time": "2022-02-01T13:19:13.316Z"
   },
   {
    "duration": 18,
    "start_time": "2022-02-01T13:20:03.768Z"
   },
   {
    "duration": 17,
    "start_time": "2022-02-01T13:20:23.996Z"
   },
   {
    "duration": 21,
    "start_time": "2022-02-01T13:20:33.310Z"
   },
   {
    "duration": 16,
    "start_time": "2022-02-01T13:20:42.215Z"
   },
   {
    "duration": 26,
    "start_time": "2022-02-01T13:20:52.531Z"
   },
   {
    "duration": 26,
    "start_time": "2022-02-01T13:21:06.666Z"
   },
   {
    "duration": 123,
    "start_time": "2022-02-01T14:08:54.203Z"
   },
   {
    "duration": 35,
    "start_time": "2022-02-01T14:08:54.333Z"
   },
   {
    "duration": 5,
    "start_time": "2022-02-01T14:08:54.372Z"
   },
   {
    "duration": 2135,
    "start_time": "2022-02-01T14:08:54.381Z"
   },
   {
    "duration": 14,
    "start_time": "2022-02-01T14:08:56.519Z"
   },
   {
    "duration": 206,
    "start_time": "2022-02-01T16:05:49.144Z"
   },
   {
    "duration": 36,
    "start_time": "2022-02-01T16:05:49.353Z"
   },
   {
    "duration": 4,
    "start_time": "2022-02-01T16:05:49.392Z"
   },
   {
    "duration": 2098,
    "start_time": "2022-02-01T16:05:49.399Z"
   },
   {
    "duration": 4,
    "start_time": "2022-02-01T16:05:51.500Z"
   },
   {
    "duration": 413,
    "start_time": "2022-02-01T16:05:51.506Z"
   },
   {
    "duration": 333,
    "start_time": "2022-02-01T16:05:51.921Z"
   },
   {
    "duration": 10,
    "start_time": "2022-02-01T16:05:52.256Z"
   },
   {
    "duration": 18,
    "start_time": "2022-02-01T16:05:52.270Z"
   },
   {
    "duration": 357,
    "start_time": "2022-02-01T16:05:52.291Z"
   },
   {
    "duration": 333,
    "start_time": "2022-02-01T16:05:52.651Z"
   },
   {
    "duration": 5,
    "start_time": "2022-02-01T16:05:52.986Z"
   },
   {
    "duration": 663,
    "start_time": "2022-02-01T16:05:52.994Z"
   },
   {
    "duration": 5750,
    "start_time": "2022-02-01T16:05:53.659Z"
   },
   {
    "duration": 142,
    "start_time": "2022-02-01T16:06:57.401Z"
   },
   {
    "duration": 18,
    "start_time": "2022-02-01T16:07:27.798Z"
   },
   {
    "duration": 246,
    "start_time": "2022-02-01T16:10:07.271Z"
   },
   {
    "duration": 17,
    "start_time": "2022-02-01T16:15:39.887Z"
   },
   {
    "duration": 18,
    "start_time": "2022-02-01T16:16:54.645Z"
   },
   {
    "duration": 21,
    "start_time": "2022-02-01T16:19:30.493Z"
   },
   {
    "duration": 23,
    "start_time": "2022-02-01T16:20:15.116Z"
   },
   {
    "duration": 23,
    "start_time": "2022-02-01T16:20:54.082Z"
   },
   {
    "duration": 288,
    "start_time": "2022-02-01T16:22:37.009Z"
   },
   {
    "duration": 24,
    "start_time": "2022-02-01T16:23:11.501Z"
   },
   {
    "duration": 788,
    "start_time": "2022-02-01T16:23:56.198Z"
   },
   {
    "duration": 23,
    "start_time": "2022-02-01T16:24:48.064Z"
   },
   {
    "duration": 318,
    "start_time": "2022-02-01T16:31:12.473Z"
   },
   {
    "duration": 312,
    "start_time": "2022-02-01T16:31:21.693Z"
   },
   {
    "duration": 313,
    "start_time": "2022-02-01T16:32:26.558Z"
   },
   {
    "duration": 345,
    "start_time": "2022-02-01T16:32:44.844Z"
   },
   {
    "duration": 458,
    "start_time": "2022-02-01T16:33:35.477Z"
   },
   {
    "duration": 565,
    "start_time": "2022-02-01T16:34:02.821Z"
   },
   {
    "duration": 605,
    "start_time": "2022-02-01T16:34:11.741Z"
   },
   {
    "duration": 345,
    "start_time": "2022-02-01T16:35:00.267Z"
   },
   {
    "duration": 346,
    "start_time": "2022-02-01T16:35:33.852Z"
   },
   {
    "duration": 356,
    "start_time": "2022-02-01T16:35:42.936Z"
   },
   {
    "duration": 343,
    "start_time": "2022-02-01T16:36:57.215Z"
   },
   {
    "duration": 337,
    "start_time": "2022-02-01T16:37:09.274Z"
   },
   {
    "duration": 387,
    "start_time": "2022-02-01T16:37:17.648Z"
   },
   {
    "duration": 401,
    "start_time": "2022-02-01T16:37:44.777Z"
   },
   {
    "duration": 404,
    "start_time": "2022-02-01T16:37:50.309Z"
   },
   {
    "duration": 648,
    "start_time": "2022-02-01T16:37:54.839Z"
   },
   {
    "duration": 386,
    "start_time": "2022-02-01T16:37:59.168Z"
   },
   {
    "duration": 534,
    "start_time": "2022-02-01T16:38:02.519Z"
   },
   {
    "duration": 380,
    "start_time": "2022-02-01T16:38:06.439Z"
   },
   {
    "duration": 320,
    "start_time": "2022-02-01T16:38:10.784Z"
   },
   {
    "duration": 245,
    "start_time": "2022-02-01T17:19:33.503Z"
   },
   {
    "duration": 35,
    "start_time": "2022-02-01T17:20:32.531Z"
   },
   {
    "duration": 40,
    "start_time": "2022-02-01T17:20:57.022Z"
   },
   {
    "duration": 358,
    "start_time": "2022-02-01T17:21:32.621Z"
   },
   {
    "duration": 51,
    "start_time": "2022-02-01T17:22:58.306Z"
   },
   {
    "duration": 81,
    "start_time": "2022-02-01T17:23:14.204Z"
   },
   {
    "duration": 51,
    "start_time": "2022-02-01T17:24:19.542Z"
   },
   {
    "duration": 362,
    "start_time": "2022-02-01T17:25:18.794Z"
   },
   {
    "duration": 114,
    "start_time": "2022-02-01T17:30:11.074Z"
   },
   {
    "duration": 43,
    "start_time": "2022-02-01T17:30:11.190Z"
   },
   {
    "duration": 5,
    "start_time": "2022-02-01T17:30:11.235Z"
   },
   {
    "duration": 2162,
    "start_time": "2022-02-01T17:30:11.242Z"
   },
   {
    "duration": 4,
    "start_time": "2022-02-01T17:30:13.406Z"
   },
   {
    "duration": 430,
    "start_time": "2022-02-01T17:30:13.412Z"
   },
   {
    "duration": 315,
    "start_time": "2022-02-01T17:30:13.844Z"
   },
   {
    "duration": 10,
    "start_time": "2022-02-01T17:30:14.161Z"
   },
   {
    "duration": 13,
    "start_time": "2022-02-01T17:30:14.174Z"
   },
   {
    "duration": 359,
    "start_time": "2022-02-01T17:30:14.190Z"
   },
   {
    "duration": 7,
    "start_time": "2022-02-01T17:30:19.255Z"
   },
   {
    "duration": 8,
    "start_time": "2022-02-01T17:35:44.077Z"
   },
   {
    "duration": 112,
    "start_time": "2022-02-01T17:40:41.468Z"
   },
   {
    "duration": 49,
    "start_time": "2022-02-01T17:40:41.583Z"
   },
   {
    "duration": 4,
    "start_time": "2022-02-01T17:40:41.635Z"
   },
   {
    "duration": 2212,
    "start_time": "2022-02-01T17:40:41.642Z"
   },
   {
    "duration": 4,
    "start_time": "2022-02-01T17:40:43.857Z"
   },
   {
    "duration": 402,
    "start_time": "2022-02-01T17:40:43.863Z"
   },
   {
    "duration": 321,
    "start_time": "2022-02-01T17:40:44.267Z"
   },
   {
    "duration": 10,
    "start_time": "2022-02-01T17:40:44.592Z"
   },
   {
    "duration": 34,
    "start_time": "2022-02-01T17:40:44.605Z"
   },
   {
    "duration": 350,
    "start_time": "2022-02-01T17:40:44.641Z"
   },
   {
    "duration": 10,
    "start_time": "2022-02-01T17:40:56.763Z"
   },
   {
    "duration": 16,
    "start_time": "2022-02-01T17:41:39.919Z"
   },
   {
    "duration": 86,
    "start_time": "2022-02-01T17:42:09.706Z"
   },
   {
    "duration": 307,
    "start_time": "2022-02-01T17:42:33.374Z"
   },
   {
    "duration": 112,
    "start_time": "2022-02-01T17:45:38.514Z"
   },
   {
    "duration": 35,
    "start_time": "2022-02-01T17:45:38.633Z"
   },
   {
    "duration": 5,
    "start_time": "2022-02-01T17:45:38.671Z"
   },
   {
    "duration": 2081,
    "start_time": "2022-02-01T17:45:38.679Z"
   },
   {
    "duration": 5,
    "start_time": "2022-02-01T17:45:40.762Z"
   },
   {
    "duration": 403,
    "start_time": "2022-02-01T17:45:40.770Z"
   },
   {
    "duration": 313,
    "start_time": "2022-02-01T17:45:41.176Z"
   },
   {
    "duration": 11,
    "start_time": "2022-02-01T17:45:41.492Z"
   },
   {
    "duration": 38,
    "start_time": "2022-02-01T17:45:41.505Z"
   },
   {
    "duration": 345,
    "start_time": "2022-02-01T17:45:41.545Z"
   },
   {
    "duration": 84,
    "start_time": "2022-02-01T17:46:12.536Z"
   },
   {
    "duration": 21,
    "start_time": "2022-02-01T17:46:17.473Z"
   },
   {
    "duration": 326,
    "start_time": "2022-02-01T17:46:30.052Z"
   },
   {
    "duration": 4640,
    "start_time": "2022-02-01T17:48:06.284Z"
   },
   {
    "duration": 4966,
    "start_time": "2022-02-01T17:50:13.576Z"
   },
   {
    "duration": 407,
    "start_time": "2022-02-01T17:51:39.781Z"
   },
   {
    "duration": 462,
    "start_time": "2022-02-01T17:58:18.659Z"
   },
   {
    "duration": 324,
    "start_time": "2022-02-01T18:03:02.764Z"
   },
   {
    "duration": 4653,
    "start_time": "2022-02-01T18:10:45.525Z"
   },
   {
    "duration": -148,
    "start_time": "2022-02-01T18:15:01.870Z"
   },
   {
    "duration": -95,
    "start_time": "2022-02-01T18:15:22.241Z"
   },
   {
    "duration": 4609,
    "start_time": "2022-02-01T18:15:32.496Z"
   },
   {
    "duration": 4278,
    "start_time": "2022-02-01T18:15:54.912Z"
   },
   {
    "duration": 4882,
    "start_time": "2022-02-01T18:17:11.960Z"
   },
   {
    "duration": 363,
    "start_time": "2022-02-01T19:30:47.635Z"
   },
   {
    "duration": 673,
    "start_time": "2022-02-01T19:41:29.941Z"
   },
   {
    "duration": 135,
    "start_time": "2022-02-01T19:42:01.799Z"
   },
   {
    "duration": 43,
    "start_time": "2022-02-01T19:42:01.938Z"
   },
   {
    "duration": 6,
    "start_time": "2022-02-01T19:42:01.984Z"
   },
   {
    "duration": 2301,
    "start_time": "2022-02-01T19:42:01.992Z"
   },
   {
    "duration": 5,
    "start_time": "2022-02-01T19:42:04.295Z"
   },
   {
    "duration": 432,
    "start_time": "2022-02-01T19:42:04.302Z"
   },
   {
    "duration": 357,
    "start_time": "2022-02-01T19:42:04.738Z"
   },
   {
    "duration": 11,
    "start_time": "2022-02-01T19:42:05.099Z"
   },
   {
    "duration": 16,
    "start_time": "2022-02-01T19:42:05.133Z"
   },
   {
    "duration": 73,
    "start_time": "2022-02-01T19:42:32.722Z"
   },
   {
    "duration": 74,
    "start_time": "2022-02-01T19:43:04.484Z"
   },
   {
    "duration": 54,
    "start_time": "2022-02-01T19:43:48.137Z"
   },
   {
    "duration": 373,
    "start_time": "2022-02-01T19:43:50.507Z"
   },
   {
    "duration": 13,
    "start_time": "2022-02-01T19:43:52.552Z"
   },
   {
    "duration": 38,
    "start_time": "2022-02-01T19:44:09.726Z"
   },
   {
    "duration": 127,
    "start_time": "2022-02-01T19:44:38.479Z"
   },
   {
    "duration": 52,
    "start_time": "2022-02-01T19:44:38.609Z"
   },
   {
    "duration": 5,
    "start_time": "2022-02-01T19:44:38.664Z"
   },
   {
    "duration": 2265,
    "start_time": "2022-02-01T19:44:38.672Z"
   },
   {
    "duration": 5,
    "start_time": "2022-02-01T19:44:40.940Z"
   },
   {
    "duration": 425,
    "start_time": "2022-02-01T19:44:40.947Z"
   },
   {
    "duration": 349,
    "start_time": "2022-02-01T19:44:41.375Z"
   },
   {
    "duration": 19,
    "start_time": "2022-02-01T19:44:41.726Z"
   },
   {
    "duration": 17,
    "start_time": "2022-02-01T19:44:41.750Z"
   },
   {
    "duration": 82,
    "start_time": "2022-02-01T19:44:41.770Z"
   },
   {
    "duration": 36,
    "start_time": "2022-02-01T19:44:45.300Z"
   },
   {
    "duration": 46,
    "start_time": "2022-02-01T19:45:06.126Z"
   },
   {
    "duration": 353,
    "start_time": "2022-02-01T19:46:48.081Z"
   },
   {
    "duration": 33,
    "start_time": "2022-02-01T19:46:52.172Z"
   },
   {
    "duration": 323,
    "start_time": "2022-02-01T20:03:33.159Z"
   },
   {
    "duration": 2761,
    "start_time": "2022-02-01T20:22:37.068Z"
   },
   {
    "duration": 2841,
    "start_time": "2022-02-01T20:23:19.854Z"
   },
   {
    "duration": 2819,
    "start_time": "2022-02-01T20:24:10.188Z"
   },
   {
    "duration": 2758,
    "start_time": "2022-02-01T20:26:15.099Z"
   },
   {
    "duration": 2805,
    "start_time": "2022-02-01T20:26:45.434Z"
   },
   {
    "duration": 2611,
    "start_time": "2022-02-01T20:31:03.265Z"
   },
   {
    "duration": 2630,
    "start_time": "2022-02-01T20:32:05.153Z"
   },
   {
    "duration": 2686,
    "start_time": "2022-02-01T20:35:06.695Z"
   },
   {
    "duration": 5364,
    "start_time": "2022-02-01T21:55:55.002Z"
   },
   {
    "duration": 81,
    "start_time": "2022-02-01T22:09:48.872Z"
   },
   {
    "duration": 11984,
    "start_time": "2022-02-01T22:09:58.620Z"
   },
   {
    "duration": 5502,
    "start_time": "2022-02-01T22:10:54.551Z"
   },
   {
    "duration": 5441,
    "start_time": "2022-02-01T22:11:22.796Z"
   },
   {
    "duration": 5288,
    "start_time": "2022-02-01T22:12:40.876Z"
   },
   {
    "duration": 5308,
    "start_time": "2022-02-01T22:13:27.455Z"
   },
   {
    "duration": 5274,
    "start_time": "2022-02-01T22:13:44.957Z"
   },
   {
    "duration": 5264,
    "start_time": "2022-02-01T22:13:56.961Z"
   },
   {
    "duration": 5192,
    "start_time": "2022-02-01T22:14:12.269Z"
   },
   {
    "duration": 5452,
    "start_time": "2022-02-01T22:14:27.142Z"
   },
   {
    "duration": 5249,
    "start_time": "2022-02-01T22:14:42.452Z"
   },
   {
    "duration": 5415,
    "start_time": "2022-02-01T22:15:24.299Z"
   },
   {
    "duration": 5311,
    "start_time": "2022-02-01T22:18:09.777Z"
   },
   {
    "duration": 5309,
    "start_time": "2022-02-01T22:18:31.540Z"
   },
   {
    "duration": 5491,
    "start_time": "2022-02-01T22:26:06.184Z"
   },
   {
    "duration": 6192,
    "start_time": "2022-02-01T22:26:38.999Z"
   },
   {
    "duration": 6114,
    "start_time": "2022-02-01T22:29:28.648Z"
   },
   {
    "duration": 571,
    "start_time": "2022-02-01T22:31:38.059Z"
   },
   {
    "duration": 82,
    "start_time": "2022-02-01T22:34:07.483Z"
   },
   {
    "duration": 77,
    "start_time": "2022-02-01T22:34:19.159Z"
   },
   {
    "duration": 12095,
    "start_time": "2022-02-01T22:35:02.211Z"
   },
   {
    "duration": 12023,
    "start_time": "2022-02-01T22:36:28.948Z"
   },
   {
    "duration": 129,
    "start_time": "2022-02-01T22:38:35.705Z"
   },
   {
    "duration": 44,
    "start_time": "2022-02-01T22:38:35.837Z"
   },
   {
    "duration": 4,
    "start_time": "2022-02-01T22:38:35.884Z"
   },
   {
    "duration": 2291,
    "start_time": "2022-02-01T22:38:35.891Z"
   },
   {
    "duration": 4,
    "start_time": "2022-02-01T22:38:38.185Z"
   },
   {
    "duration": 419,
    "start_time": "2022-02-01T22:38:38.191Z"
   },
   {
    "duration": 341,
    "start_time": "2022-02-01T22:38:38.612Z"
   },
   {
    "duration": 11,
    "start_time": "2022-02-01T22:38:38.956Z"
   },
   {
    "duration": 5105,
    "start_time": "2022-02-01T22:38:38.969Z"
   },
   {
    "duration": 14,
    "start_time": "2022-02-01T22:38:44.076Z"
   },
   {
    "duration": 330,
    "start_time": "2022-02-01T22:38:44.093Z"
   },
   {
    "duration": 11207,
    "start_time": "2022-02-01T22:38:44.425Z"
   },
   {
    "duration": 9,
    "start_time": "2022-02-01T22:38:55.634Z"
   },
   {
    "duration": 654,
    "start_time": "2022-02-01T22:38:55.645Z"
   },
   {
    "duration": 5987,
    "start_time": "2022-02-01T22:38:56.304Z"
   },
   {
    "duration": 354,
    "start_time": "2022-02-01T22:39:02.293Z"
   },
   {
    "duration": 17,
    "start_time": "2022-02-01T22:39:02.650Z"
   },
   {
    "duration": 84,
    "start_time": "2022-02-01T22:45:18.676Z"
   },
   {
    "duration": 724,
    "start_time": "2022-02-01T22:45:23.687Z"
   },
   {
    "duration": 765,
    "start_time": "2022-02-01T22:48:09.291Z"
   },
   {
    "duration": 337,
    "start_time": "2022-02-01T22:51:44.959Z"
   },
   {
    "duration": 324,
    "start_time": "2022-02-01T22:52:05.646Z"
   },
   {
    "duration": 351,
    "start_time": "2022-02-01T22:52:43.429Z"
   },
   {
    "duration": 302,
    "start_time": "2022-02-01T22:58:03.825Z"
   },
   {
    "duration": 12009,
    "start_time": "2022-02-01T22:58:18.993Z"
   },
   {
    "duration": 11745,
    "start_time": "2022-02-01T22:58:39.767Z"
   },
   {
    "duration": 32,
    "start_time": "2022-02-01T22:59:42.619Z"
   },
   {
    "duration": 86,
    "start_time": "2022-02-01T23:02:07.290Z"
   },
   {
    "duration": 36,
    "start_time": "2022-02-01T23:02:20.045Z"
   },
   {
    "duration": 19,
    "start_time": "2022-02-01T23:02:26.828Z"
   },
   {
    "duration": 14,
    "start_time": "2022-02-01T23:02:55.658Z"
   },
   {
    "duration": 145,
    "start_time": "2022-02-01T23:03:33.512Z"
   },
   {
    "duration": 67,
    "start_time": "2022-02-01T23:04:49.667Z"
   },
   {
    "duration": 33,
    "start_time": "2022-02-01T23:05:14.225Z"
   },
   {
    "duration": 42,
    "start_time": "2022-02-01T23:05:27.364Z"
   },
   {
    "duration": 23,
    "start_time": "2022-02-01T23:05:31.814Z"
   },
   {
    "duration": 24,
    "start_time": "2022-02-01T23:05:36.842Z"
   },
   {
    "duration": 136,
    "start_time": "2022-02-01T23:05:50.420Z"
   },
   {
    "duration": 36,
    "start_time": "2022-02-01T23:05:50.559Z"
   },
   {
    "duration": 4,
    "start_time": "2022-02-01T23:05:50.598Z"
   },
   {
    "duration": 2189,
    "start_time": "2022-02-01T23:05:50.605Z"
   },
   {
    "duration": 5,
    "start_time": "2022-02-01T23:05:52.796Z"
   },
   {
    "duration": 512,
    "start_time": "2022-02-01T23:05:52.803Z"
   },
   {
    "duration": 352,
    "start_time": "2022-02-01T23:05:53.318Z"
   },
   {
    "duration": -42,
    "start_time": "2022-02-01T23:05:53.715Z"
   },
   {
    "duration": -44,
    "start_time": "2022-02-01T23:05:53.718Z"
   },
   {
    "duration": -44,
    "start_time": "2022-02-01T23:05:53.720Z"
   },
   {
    "duration": -44,
    "start_time": "2022-02-01T23:05:53.721Z"
   },
   {
    "duration": -44,
    "start_time": "2022-02-01T23:05:53.723Z"
   },
   {
    "duration": -44,
    "start_time": "2022-02-01T23:05:53.724Z"
   },
   {
    "duration": 21,
    "start_time": "2022-02-01T23:06:07.105Z"
   },
   {
    "duration": 337,
    "start_time": "2022-02-01T23:10:36.501Z"
   },
   {
    "duration": 23,
    "start_time": "2022-02-01T23:11:39.822Z"
   },
   {
    "duration": 126,
    "start_time": "2022-02-01T23:11:57.201Z"
   },
   {
    "duration": 39,
    "start_time": "2022-02-01T23:11:57.333Z"
   },
   {
    "duration": 6,
    "start_time": "2022-02-01T23:11:57.377Z"
   },
   {
    "duration": 2246,
    "start_time": "2022-02-01T23:11:57.386Z"
   },
   {
    "duration": 5,
    "start_time": "2022-02-01T23:11:59.635Z"
   },
   {
    "duration": 415,
    "start_time": "2022-02-01T23:11:59.643Z"
   },
   {
    "duration": 356,
    "start_time": "2022-02-01T23:12:00.060Z"
   },
   {
    "duration": 21,
    "start_time": "2022-02-01T23:12:00.419Z"
   },
   {
    "duration": 5361,
    "start_time": "2022-02-01T23:12:00.444Z"
   },
   {
    "duration": 25,
    "start_time": "2022-02-01T23:12:05.807Z"
   },
   {
    "duration": 332,
    "start_time": "2022-02-01T23:12:05.835Z"
   },
   {
    "duration": 11065,
    "start_time": "2022-02-01T23:12:06.170Z"
   },
   {
    "duration": 161,
    "start_time": "2022-02-01T23:12:17.238Z"
   },
   {
    "duration": 131,
    "start_time": "2022-02-01T23:12:39.431Z"
   },
   {
    "duration": 182,
    "start_time": "2022-02-01T23:13:09.715Z"
   },
   {
    "duration": 15,
    "start_time": "2022-02-01T23:15:32.769Z"
   },
   {
    "duration": 27,
    "start_time": "2022-02-01T23:15:58.726Z"
   },
   {
    "duration": 40,
    "start_time": "2022-02-01T23:16:13.863Z"
   },
   {
    "duration": 5,
    "start_time": "2022-02-01T23:17:06.778Z"
   },
   {
    "duration": 361,
    "start_time": "2022-02-02T07:50:49.055Z"
   },
   {
    "duration": 1665,
    "start_time": "2022-02-02T07:50:54.309Z"
   },
   {
    "duration": 50,
    "start_time": "2022-02-02T07:50:55.977Z"
   },
   {
    "duration": 6,
    "start_time": "2022-02-02T07:50:56.031Z"
   },
   {
    "duration": 6,
    "start_time": "2022-02-02T07:50:56.041Z"
   },
   {
    "duration": 20,
    "start_time": "2022-02-02T07:50:56.050Z"
   },
   {
    "duration": 365,
    "start_time": "2022-02-02T07:53:26.459Z"
   },
   {
    "duration": 123,
    "start_time": "2022-02-02T07:53:36.719Z"
   },
   {
    "duration": 322,
    "start_time": "2022-02-02T07:54:05.455Z"
   },
   {
    "duration": 334,
    "start_time": "2022-02-02T07:54:31.212Z"
   },
   {
    "duration": 139,
    "start_time": "2022-02-02T07:54:41.206Z"
   },
   {
    "duration": 36,
    "start_time": "2022-02-02T07:54:41.348Z"
   },
   {
    "duration": 5,
    "start_time": "2022-02-02T07:54:41.388Z"
   },
   {
    "duration": 32,
    "start_time": "2022-02-02T07:54:41.395Z"
   },
   {
    "duration": 17,
    "start_time": "2022-02-02T07:54:45.243Z"
   },
   {
    "duration": 12,
    "start_time": "2022-02-02T07:55:34.840Z"
   },
   {
    "duration": 308,
    "start_time": "2022-02-02T07:55:41.226Z"
   },
   {
    "duration": 125,
    "start_time": "2022-02-02T08:06:27.144Z"
   },
   {
    "duration": 35,
    "start_time": "2022-02-02T08:06:27.272Z"
   },
   {
    "duration": 5,
    "start_time": "2022-02-02T08:06:27.323Z"
   },
   {
    "duration": 14,
    "start_time": "2022-02-02T08:06:27.332Z"
   },
   {
    "duration": 364,
    "start_time": "2022-02-02T08:06:27.349Z"
   },
   {
    "duration": 310,
    "start_time": "2022-02-02T08:06:29.755Z"
   },
   {
    "duration": -36,
    "start_time": "2022-02-02T08:08:50.007Z"
   },
   {
    "duration": 10144,
    "start_time": "2022-02-02T08:09:19.601Z"
   },
   {
    "duration": 7990,
    "start_time": "2022-02-02T08:09:34.591Z"
   },
   {
    "duration": 5327,
    "start_time": "2022-02-02T08:10:48.956Z"
   },
   {
    "duration": 116,
    "start_time": "2022-02-02T08:11:18.602Z"
   },
   {
    "duration": 35,
    "start_time": "2022-02-02T08:11:18.723Z"
   },
   {
    "duration": 5,
    "start_time": "2022-02-02T08:11:18.761Z"
   },
   {
    "duration": 10,
    "start_time": "2022-02-02T08:11:18.768Z"
   },
   {
    "duration": 325,
    "start_time": "2022-02-02T08:11:18.780Z"
   },
   {
    "duration": 5370,
    "start_time": "2022-02-02T08:11:31.478Z"
   },
   {
    "duration": 92,
    "start_time": "2022-02-02T08:13:29.103Z"
   },
   {
    "duration": 8,
    "start_time": "2022-02-02T08:29:52.983Z"
   },
   {
    "duration": 4898,
    "start_time": "2022-02-02T08:36:42.460Z"
   },
   {
    "duration": 5617,
    "start_time": "2022-02-02T08:37:27.675Z"
   },
   {
    "duration": 116,
    "start_time": "2022-02-02T08:37:56.840Z"
   },
   {
    "duration": 35,
    "start_time": "2022-02-02T08:37:56.959Z"
   },
   {
    "duration": 26,
    "start_time": "2022-02-02T08:37:56.997Z"
   },
   {
    "duration": 9,
    "start_time": "2022-02-02T08:37:57.026Z"
   },
   {
    "duration": 312,
    "start_time": "2022-02-02T08:37:57.038Z"
   },
   {
    "duration": 7,
    "start_time": "2022-02-02T08:37:57.352Z"
   },
   {
    "duration": 4835,
    "start_time": "2022-02-02T08:37:57.361Z"
   },
   {
    "duration": 24,
    "start_time": "2022-02-02T08:38:02.199Z"
   },
   {
    "duration": 320,
    "start_time": "2022-02-02T08:38:02.227Z"
   },
   {
    "duration": 5221,
    "start_time": "2022-02-02T08:38:02.549Z"
   },
   {
    "duration": 677,
    "start_time": "2022-02-02T08:39:31.498Z"
   },
   {
    "duration": 18299,
    "start_time": "2022-02-02T08:40:04.696Z"
   },
   {
    "duration": 115,
    "start_time": "2022-02-02T08:40:29.385Z"
   },
   {
    "duration": 44,
    "start_time": "2022-02-02T08:40:29.503Z"
   },
   {
    "duration": 5,
    "start_time": "2022-02-02T08:40:29.550Z"
   },
   {
    "duration": 6,
    "start_time": "2022-02-02T08:40:29.557Z"
   },
   {
    "duration": 334,
    "start_time": "2022-02-02T08:40:29.566Z"
   },
   {
    "duration": 7,
    "start_time": "2022-02-02T08:40:29.902Z"
   },
   {
    "duration": 4909,
    "start_time": "2022-02-02T08:40:29.924Z"
   },
   {
    "duration": 13,
    "start_time": "2022-02-02T08:40:34.835Z"
   },
   {
    "duration": 320,
    "start_time": "2022-02-02T08:40:34.852Z"
   },
   {
    "duration": 10771,
    "start_time": "2022-02-02T08:40:35.175Z"
   },
   {
    "duration": 21,
    "start_time": "2022-02-02T08:41:09.884Z"
   },
   {
    "duration": 30,
    "start_time": "2022-02-02T08:42:03.755Z"
   },
   {
    "duration": 399,
    "start_time": "2022-02-02T08:53:03.183Z"
   },
   {
    "duration": 361,
    "start_time": "2022-02-02T08:58:19.220Z"
   },
   {
    "duration": 515,
    "start_time": "2022-02-02T08:58:29.676Z"
   },
   {
    "duration": 344,
    "start_time": "2022-02-02T09:03:45.195Z"
   },
   {
    "duration": 33,
    "start_time": "2022-02-02T09:03:58.480Z"
   },
   {
    "duration": 34,
    "start_time": "2022-02-02T09:09:25.311Z"
   },
   {
    "duration": 328,
    "start_time": "2022-02-02T09:10:15.432Z"
   },
   {
    "duration": 495,
    "start_time": "2022-02-02T09:10:38.287Z"
   },
   {
    "duration": 123,
    "start_time": "2022-02-02T09:11:01.113Z"
   },
   {
    "duration": 112,
    "start_time": "2022-02-02T09:11:07.128Z"
   },
   {
    "duration": 108,
    "start_time": "2022-02-02T09:11:16.272Z"
   },
   {
    "duration": 53,
    "start_time": "2022-02-02T09:11:16.384Z"
   },
   {
    "duration": 5,
    "start_time": "2022-02-02T09:11:16.441Z"
   },
   {
    "duration": 6,
    "start_time": "2022-02-02T09:11:16.449Z"
   },
   {
    "duration": 343,
    "start_time": "2022-02-02T09:11:16.458Z"
   },
   {
    "duration": 7,
    "start_time": "2022-02-02T09:11:16.804Z"
   },
   {
    "duration": 4769,
    "start_time": "2022-02-02T09:11:16.813Z"
   },
   {
    "duration": 13,
    "start_time": "2022-02-02T09:11:21.585Z"
   },
   {
    "duration": 308,
    "start_time": "2022-02-02T09:11:21.602Z"
   },
   {
    "duration": 10300,
    "start_time": "2022-02-02T09:11:21.913Z"
   },
   {
    "duration": 10,
    "start_time": "2022-02-02T09:11:32.216Z"
   },
   {
    "duration": 603,
    "start_time": "2022-02-02T09:11:32.228Z"
   },
   {
    "duration": 5582,
    "start_time": "2022-02-02T09:11:32.834Z"
   },
   {
    "duration": 326,
    "start_time": "2022-02-02T09:11:38.419Z"
   },
   {
    "duration": 399,
    "start_time": "2022-02-02T09:11:38.748Z"
   },
   {
    "duration": 2065,
    "start_time": "2022-02-02T09:11:39.150Z"
   },
   {
    "duration": 37,
    "start_time": "2022-02-02T09:11:41.217Z"
   },
   {
    "duration": 288,
    "start_time": "2022-02-02T09:28:13.370Z"
   },
   {
    "duration": 119,
    "start_time": "2022-02-02T09:54:36.438Z"
   },
   {
    "duration": 33,
    "start_time": "2022-02-02T09:54:36.559Z"
   },
   {
    "duration": 28,
    "start_time": "2022-02-02T09:54:36.595Z"
   },
   {
    "duration": 8,
    "start_time": "2022-02-02T09:54:36.626Z"
   },
   {
    "duration": 490,
    "start_time": "2022-02-02T09:54:36.636Z"
   },
   {
    "duration": 11,
    "start_time": "2022-02-02T09:54:37.129Z"
   },
   {
    "duration": 5790,
    "start_time": "2022-02-02T09:54:37.142Z"
   },
   {
    "duration": 19,
    "start_time": "2022-02-02T09:54:42.935Z"
   },
   {
    "duration": 436,
    "start_time": "2022-02-02T09:54:42.957Z"
   },
   {
    "duration": 11544,
    "start_time": "2022-02-02T09:54:43.396Z"
   },
   {
    "duration": 6,
    "start_time": "2022-02-02T09:54:54.943Z"
   },
   {
    "duration": 666,
    "start_time": "2022-02-02T09:54:54.951Z"
   },
   {
    "duration": 6016,
    "start_time": "2022-02-02T09:54:55.620Z"
   },
   {
    "duration": 371,
    "start_time": "2022-02-02T09:55:01.640Z"
   },
   {
    "duration": 452,
    "start_time": "2022-02-02T09:55:02.014Z"
   },
   {
    "duration": 2270,
    "start_time": "2022-02-02T09:55:02.469Z"
   },
   {
    "duration": 6,
    "start_time": "2022-02-02T09:55:04.741Z"
   },
   {
    "duration": 127,
    "start_time": "2022-02-02T09:55:04.750Z"
   },
   {
    "duration": 715,
    "start_time": "2022-02-02T09:56:37.267Z"
   },
   {
    "duration": 892,
    "start_time": "2022-02-02T11:15:43.858Z"
   },
   {
    "duration": 4672,
    "start_time": "2022-02-02T11:16:03.947Z"
   },
   {
    "duration": 36,
    "start_time": "2022-02-02T11:27:43.301Z"
   },
   {
    "duration": 4252,
    "start_time": "2022-02-02T11:37:09.352Z"
   },
   {
    "duration": 895,
    "start_time": "2022-02-02T11:38:01.823Z"
   },
   {
    "duration": 889,
    "start_time": "2022-02-02T11:38:41.081Z"
   },
   {
    "duration": 4678,
    "start_time": "2022-02-02T11:38:52.061Z"
   },
   {
    "duration": 641,
    "start_time": "2022-02-02T11:43:09.183Z"
   },
   {
    "duration": 125,
    "start_time": "2022-02-02T11:43:16.180Z"
   },
   {
    "duration": 48,
    "start_time": "2022-02-02T11:43:16.308Z"
   },
   {
    "duration": 4,
    "start_time": "2022-02-02T11:43:16.359Z"
   },
   {
    "duration": 6,
    "start_time": "2022-02-02T11:43:16.367Z"
   },
   {
    "duration": 366,
    "start_time": "2022-02-02T11:43:16.375Z"
   },
   {
    "duration": 10,
    "start_time": "2022-02-02T11:43:16.744Z"
   },
   {
    "duration": 5458,
    "start_time": "2022-02-02T11:43:16.758Z"
   },
   {
    "duration": 17,
    "start_time": "2022-02-02T11:43:22.219Z"
   },
   {
    "duration": 341,
    "start_time": "2022-02-02T11:43:22.240Z"
   },
   {
    "duration": 11997,
    "start_time": "2022-02-02T11:43:22.584Z"
   },
   {
    "duration": 6,
    "start_time": "2022-02-02T11:43:34.583Z"
   },
   {
    "duration": 675,
    "start_time": "2022-02-02T11:43:34.591Z"
   },
   {
    "duration": 6146,
    "start_time": "2022-02-02T11:43:35.268Z"
   },
   {
    "duration": 362,
    "start_time": "2022-02-02T11:43:41.417Z"
   },
   {
    "duration": 437,
    "start_time": "2022-02-02T11:43:41.781Z"
   },
   {
    "duration": 2468,
    "start_time": "2022-02-02T11:43:42.224Z"
   },
   {
    "duration": 6,
    "start_time": "2022-02-02T11:43:44.694Z"
   },
   {
    "duration": 2457,
    "start_time": "2022-02-02T11:43:44.702Z"
   },
   {
    "duration": 711,
    "start_time": "2022-02-02T11:44:29.159Z"
   },
   {
    "duration": 4468,
    "start_time": "2022-02-02T12:38:04.037Z"
   },
   {
    "duration": 5130,
    "start_time": "2022-02-02T13:32:15.354Z"
   },
   {
    "duration": 751,
    "start_time": "2022-02-02T13:33:31.396Z"
   },
   {
    "duration": 440,
    "start_time": "2022-02-02T21:05:02.681Z"
   },
   {
    "duration": 1549,
    "start_time": "2022-02-02T21:05:09.302Z"
   },
   {
    "duration": 43,
    "start_time": "2022-02-02T21:05:10.853Z"
   },
   {
    "duration": 5,
    "start_time": "2022-02-02T21:05:10.899Z"
   },
   {
    "duration": 5,
    "start_time": "2022-02-02T21:05:10.907Z"
   },
   {
    "duration": 365,
    "start_time": "2022-02-02T21:05:10.914Z"
   },
   {
    "duration": 8,
    "start_time": "2022-02-02T21:05:11.282Z"
   },
   {
    "duration": 5197,
    "start_time": "2022-02-02T21:05:11.292Z"
   },
   {
    "duration": 19,
    "start_time": "2022-02-02T21:05:16.492Z"
   },
   {
    "duration": 356,
    "start_time": "2022-02-02T21:05:16.514Z"
   },
   {
    "duration": 11523,
    "start_time": "2022-02-02T21:05:16.873Z"
   },
   {
    "duration": 6,
    "start_time": "2022-02-02T21:05:28.399Z"
   },
   {
    "duration": 635,
    "start_time": "2022-02-02T21:05:28.407Z"
   },
   {
    "duration": 6122,
    "start_time": "2022-02-02T21:05:29.045Z"
   },
   {
    "duration": 316,
    "start_time": "2022-02-02T21:05:35.169Z"
   },
   {
    "duration": 527,
    "start_time": "2022-02-02T21:05:35.487Z"
   },
   {
    "duration": 2169,
    "start_time": "2022-02-02T21:05:36.016Z"
   },
   {
    "duration": 6,
    "start_time": "2022-02-02T21:05:38.188Z"
   },
   {
    "duration": 803,
    "start_time": "2022-02-02T21:05:38.196Z"
   },
   {
    "duration": 139,
    "start_time": "2022-02-02T21:06:01.924Z"
   },
   {
    "duration": 41,
    "start_time": "2022-02-02T21:06:02.065Z"
   },
   {
    "duration": 5,
    "start_time": "2022-02-02T21:06:02.110Z"
   },
   {
    "duration": 5,
    "start_time": "2022-02-02T21:06:02.118Z"
   },
   {
    "duration": 353,
    "start_time": "2022-02-02T21:06:02.126Z"
   },
   {
    "duration": 6,
    "start_time": "2022-02-02T21:06:02.482Z"
   },
   {
    "duration": 5038,
    "start_time": "2022-02-02T21:06:02.490Z"
   },
   {
    "duration": 29,
    "start_time": "2022-02-02T21:06:07.530Z"
   },
   {
    "duration": 317,
    "start_time": "2022-02-02T21:06:07.567Z"
   },
   {
    "duration": 11411,
    "start_time": "2022-02-02T21:06:07.887Z"
   },
   {
    "duration": 8,
    "start_time": "2022-02-02T21:06:19.300Z"
   },
   {
    "duration": 638,
    "start_time": "2022-02-02T21:06:19.310Z"
   },
   {
    "duration": 6064,
    "start_time": "2022-02-02T21:06:19.951Z"
   },
   {
    "duration": 434,
    "start_time": "2022-02-02T21:06:26.018Z"
   },
   {
    "duration": 417,
    "start_time": "2022-02-02T21:06:26.454Z"
   },
   {
    "duration": 2337,
    "start_time": "2022-02-02T21:06:26.874Z"
   },
   {
    "duration": 5,
    "start_time": "2022-02-02T21:06:29.214Z"
   },
   {
    "duration": 820,
    "start_time": "2022-02-02T21:06:29.222Z"
   },
   {
    "duration": 144,
    "start_time": "2022-02-02T21:18:27.863Z"
   },
   {
    "duration": 56,
    "start_time": "2022-02-02T21:18:28.010Z"
   },
   {
    "duration": 5,
    "start_time": "2022-02-02T21:18:28.070Z"
   },
   {
    "duration": 7,
    "start_time": "2022-02-02T21:18:28.078Z"
   },
   {
    "duration": 335,
    "start_time": "2022-02-02T21:18:28.088Z"
   },
   {
    "duration": 7,
    "start_time": "2022-02-02T21:18:28.426Z"
   },
   {
    "duration": 4900,
    "start_time": "2022-02-02T21:18:28.436Z"
   },
   {
    "duration": 22,
    "start_time": "2022-02-02T21:18:33.339Z"
   },
   {
    "duration": 324,
    "start_time": "2022-02-02T21:18:33.364Z"
   },
   {
    "duration": 11313,
    "start_time": "2022-02-02T21:18:33.691Z"
   },
   {
    "duration": 6,
    "start_time": "2022-02-02T21:18:45.006Z"
   },
   {
    "duration": 639,
    "start_time": "2022-02-02T21:18:45.014Z"
   },
   {
    "duration": 6003,
    "start_time": "2022-02-02T21:18:45.658Z"
   },
   {
    "duration": 337,
    "start_time": "2022-02-02T21:18:51.663Z"
   },
   {
    "duration": 407,
    "start_time": "2022-02-02T21:18:52.002Z"
   },
   {
    "duration": 2381,
    "start_time": "2022-02-02T21:18:52.412Z"
   },
   {
    "duration": 6,
    "start_time": "2022-02-02T21:18:54.796Z"
   },
   {
    "duration": 814,
    "start_time": "2022-02-02T21:18:54.805Z"
   },
   {
    "duration": 10664,
    "start_time": "2022-02-02T21:18:55.621Z"
   },
   {
    "duration": 385,
    "start_time": "2022-02-02T21:22:41.659Z"
   },
   {
    "duration": 140,
    "start_time": "2022-02-02T21:22:58.346Z"
   },
   {
    "duration": 35,
    "start_time": "2022-02-02T21:22:58.488Z"
   },
   {
    "duration": 4,
    "start_time": "2022-02-02T21:22:58.526Z"
   },
   {
    "duration": 36,
    "start_time": "2022-02-02T21:22:58.533Z"
   },
   {
    "duration": 344,
    "start_time": "2022-02-02T21:22:58.572Z"
   },
   {
    "duration": 8,
    "start_time": "2022-02-02T21:22:58.919Z"
   },
   {
    "duration": 5325,
    "start_time": "2022-02-02T21:22:58.930Z"
   },
   {
    "duration": 15,
    "start_time": "2022-02-02T21:23:04.262Z"
   },
   {
    "duration": 338,
    "start_time": "2022-02-02T21:23:04.280Z"
   },
   {
    "duration": 11500,
    "start_time": "2022-02-02T21:23:04.620Z"
   },
   {
    "duration": 7,
    "start_time": "2022-02-02T21:23:16.123Z"
   },
   {
    "duration": 732,
    "start_time": "2022-02-02T21:23:16.133Z"
   },
   {
    "duration": 5821,
    "start_time": "2022-02-02T21:23:16.868Z"
   },
   {
    "duration": 334,
    "start_time": "2022-02-02T21:23:22.691Z"
   },
   {
    "duration": 513,
    "start_time": "2022-02-02T21:23:23.027Z"
   },
   {
    "duration": 2171,
    "start_time": "2022-02-02T21:23:23.542Z"
   },
   {
    "duration": 6,
    "start_time": "2022-02-02T21:23:25.715Z"
   },
   {
    "duration": 816,
    "start_time": "2022-02-02T21:23:25.723Z"
   },
   {
    "duration": 47,
    "start_time": "2022-02-02T21:23:26.542Z"
   },
   {
    "duration": 40,
    "start_time": "2022-02-02T21:28:50.201Z"
   },
   {
    "duration": 125,
    "start_time": "2022-02-02T21:29:38.537Z"
   },
   {
    "duration": 36,
    "start_time": "2022-02-02T21:29:43.617Z"
   },
   {
    "duration": 1169,
    "start_time": "2022-02-03T07:04:35.968Z"
   },
   {
    "duration": 25,
    "start_time": "2022-02-03T07:04:37.139Z"
   },
   {
    "duration": 4,
    "start_time": "2022-02-03T07:04:37.166Z"
   },
   {
    "duration": 5,
    "start_time": "2022-02-03T07:04:37.172Z"
   },
   {
    "duration": 202,
    "start_time": "2022-02-03T07:04:37.178Z"
   },
   {
    "duration": 6,
    "start_time": "2022-02-03T07:04:37.382Z"
   },
   {
    "duration": 3708,
    "start_time": "2022-02-03T07:04:37.390Z"
   },
   {
    "duration": 18,
    "start_time": "2022-02-03T07:04:41.100Z"
   },
   {
    "duration": 185,
    "start_time": "2022-02-03T07:04:41.120Z"
   },
   {
    "duration": 6246,
    "start_time": "2022-02-03T07:04:41.307Z"
   },
   {
    "duration": 6,
    "start_time": "2022-02-03T07:04:47.555Z"
   },
   {
    "duration": 377,
    "start_time": "2022-02-03T07:04:47.563Z"
   },
   {
    "duration": 3273,
    "start_time": "2022-02-03T07:04:47.941Z"
   },
   {
    "duration": 193,
    "start_time": "2022-02-03T07:04:51.215Z"
   },
   {
    "duration": 271,
    "start_time": "2022-02-03T07:04:51.412Z"
   },
   {
    "duration": 1257,
    "start_time": "2022-02-03T07:04:51.685Z"
   },
   {
    "duration": 4,
    "start_time": "2022-02-03T07:04:52.944Z"
   },
   {
    "duration": 483,
    "start_time": "2022-02-03T07:04:52.950Z"
   },
   {
    "duration": 25,
    "start_time": "2022-02-03T07:04:53.435Z"
   },
   {
    "duration": 346,
    "start_time": "2022-02-03T07:08:32.704Z"
   },
   {
    "duration": 574,
    "start_time": "2022-02-03T07:09:38.391Z"
   },
   {
    "duration": 474,
    "start_time": "2022-02-03T07:09:49.258Z"
   },
   {
    "duration": 495,
    "start_time": "2022-02-03T07:09:57.851Z"
   },
   {
    "duration": 249,
    "start_time": "2022-02-03T07:10:44.923Z"
   },
   {
    "duration": 278,
    "start_time": "2022-02-03T07:10:51.882Z"
   },
   {
    "duration": 1353,
    "start_time": "2022-02-03T11:10:22.945Z"
   },
   {
    "duration": 33,
    "start_time": "2022-02-03T11:10:24.300Z"
   },
   {
    "duration": 26,
    "start_time": "2022-02-03T11:10:24.336Z"
   },
   {
    "duration": 19,
    "start_time": "2022-02-03T11:10:24.364Z"
   },
   {
    "duration": 215,
    "start_time": "2022-02-03T11:10:24.385Z"
   },
   {
    "duration": 12,
    "start_time": "2022-02-03T11:10:24.602Z"
   },
   {
    "duration": 3877,
    "start_time": "2022-02-03T11:10:24.617Z"
   },
   {
    "duration": 21,
    "start_time": "2022-02-03T11:10:28.497Z"
   },
   {
    "duration": 214,
    "start_time": "2022-02-03T11:10:28.520Z"
   },
   {
    "duration": 6930,
    "start_time": "2022-02-03T11:10:28.736Z"
   },
   {
    "duration": 5,
    "start_time": "2022-02-03T11:10:35.668Z"
   },
   {
    "duration": 392,
    "start_time": "2022-02-03T11:10:35.675Z"
   },
   {
    "duration": 3749,
    "start_time": "2022-02-03T11:10:36.069Z"
   },
   {
    "duration": 235,
    "start_time": "2022-02-03T11:10:39.821Z"
   },
   {
    "duration": 321,
    "start_time": "2022-02-03T11:10:40.058Z"
   },
   {
    "duration": 1372,
    "start_time": "2022-02-03T11:10:40.382Z"
   },
   {
    "duration": 4,
    "start_time": "2022-02-03T11:10:41.756Z"
   },
   {
    "duration": 521,
    "start_time": "2022-02-03T11:10:41.762Z"
   },
   {
    "duration": 44,
    "start_time": "2022-02-03T11:10:42.285Z"
   },
   {
    "duration": 590,
    "start_time": "2022-02-03T11:24:42.455Z"
   },
   {
    "duration": 313,
    "start_time": "2022-02-03T11:27:02.397Z"
   },
   {
    "duration": 318,
    "start_time": "2022-02-03T11:27:04.888Z"
   },
   {
    "duration": 151,
    "start_time": "2022-02-03T11:29:18.319Z"
   },
   {
    "duration": 193,
    "start_time": "2022-02-03T11:31:19.730Z"
   },
   {
    "duration": 101,
    "start_time": "2022-02-03T11:32:43.706Z"
   },
   {
    "duration": 24,
    "start_time": "2022-02-03T11:32:43.809Z"
   },
   {
    "duration": 3,
    "start_time": "2022-02-03T11:32:43.836Z"
   },
   {
    "duration": 11,
    "start_time": "2022-02-03T11:32:43.841Z"
   },
   {
    "duration": 156,
    "start_time": "2022-02-03T11:32:43.854Z"
   },
   {
    "duration": 138,
    "start_time": "2022-02-03T11:32:46.228Z"
   },
   {
    "duration": 1185,
    "start_time": "2022-02-03T11:45:17.559Z"
   },
   {
    "duration": 273,
    "start_time": "2022-02-03T11:45:36.965Z"
   },
   {
    "duration": 5266,
    "start_time": "2022-02-03T11:46:02.617Z"
   },
   {
    "duration": 4898,
    "start_time": "2022-02-03T11:47:00.107Z"
   },
   {
    "duration": 447,
    "start_time": "2022-02-03T11:48:02.805Z"
   },
   {
    "duration": 154,
    "start_time": "2022-02-03T11:48:21.399Z"
   },
   {
    "duration": 382,
    "start_time": "2022-02-03T11:50:50.521Z"
   },
   {
    "duration": 152,
    "start_time": "2022-02-03T11:50:52.969Z"
   },
   {
    "duration": 3681,
    "start_time": "2022-02-03T11:52:16.432Z"
   },
   {
    "duration": 6428,
    "start_time": "2022-02-03T11:52:28.414Z"
   },
   {
    "duration": 303,
    "start_time": "2022-02-03T11:55:41.274Z"
   },
   {
    "duration": 356,
    "start_time": "2022-02-03T11:55:55.070Z"
   },
   {
    "duration": 497,
    "start_time": "2022-02-03T11:56:13.125Z"
   },
   {
    "duration": 514,
    "start_time": "2022-02-03T11:56:18.776Z"
   },
   {
    "duration": 561,
    "start_time": "2022-02-03T11:56:39.917Z"
   },
   {
    "duration": 413,
    "start_time": "2022-02-03T11:57:02.418Z"
   },
   {
    "duration": 393,
    "start_time": "2022-02-03T11:57:10.499Z"
   },
   {
    "duration": 392,
    "start_time": "2022-02-03T11:57:36.611Z"
   },
   {
    "duration": 510,
    "start_time": "2022-02-03T12:03:33.566Z"
   },
   {
    "duration": 425,
    "start_time": "2022-02-03T12:09:11.814Z"
   },
   {
    "duration": 9828,
    "start_time": "2022-02-03T12:19:06.509Z"
   },
   {
    "duration": 2335,
    "start_time": "2022-02-03T12:19:33.194Z"
   },
   {
    "duration": 416,
    "start_time": "2022-02-03T12:21:09.008Z"
   },
   {
    "duration": 5,
    "start_time": "2022-02-03T12:49:41.006Z"
   },
   {
    "duration": 254,
    "start_time": "2022-02-03T12:50:01.830Z"
   },
   {
    "duration": 250,
    "start_time": "2022-02-03T12:50:13.931Z"
   },
   {
    "duration": 271,
    "start_time": "2022-02-03T12:50:29.581Z"
   },
   {
    "duration": 21,
    "start_time": "2022-02-03T12:51:04.385Z"
   },
   {
    "duration": 260,
    "start_time": "2022-02-03T12:51:30.354Z"
   },
   {
    "duration": 21,
    "start_time": "2022-02-03T12:51:35.837Z"
   },
   {
    "duration": 100,
    "start_time": "2022-02-03T12:51:41.389Z"
   },
   {
    "duration": 30,
    "start_time": "2022-02-03T12:51:41.491Z"
   },
   {
    "duration": 4,
    "start_time": "2022-02-03T12:51:41.523Z"
   },
   {
    "duration": 11,
    "start_time": "2022-02-03T12:51:41.529Z"
   },
   {
    "duration": 153,
    "start_time": "2022-02-03T12:51:41.542Z"
   },
   {
    "duration": 366,
    "start_time": "2022-02-03T12:51:41.697Z"
   },
   {
    "duration": 165,
    "start_time": "2022-02-03T12:51:42.066Z"
   },
   {
    "duration": 6,
    "start_time": "2022-02-03T12:51:42.233Z"
   },
   {
    "duration": 4065,
    "start_time": "2022-02-03T12:51:42.242Z"
   },
   {
    "duration": 11,
    "start_time": "2022-02-03T12:51:46.310Z"
   },
   {
    "duration": 213,
    "start_time": "2022-02-03T12:51:46.323Z"
   },
   {
    "duration": 7085,
    "start_time": "2022-02-03T12:51:46.538Z"
   },
   {
    "duration": 5,
    "start_time": "2022-02-03T12:51:53.625Z"
   },
   {
    "duration": 416,
    "start_time": "2022-02-03T12:51:53.632Z"
   },
   {
    "duration": 3683,
    "start_time": "2022-02-03T12:51:54.050Z"
   },
   {
    "duration": 208,
    "start_time": "2022-02-03T12:51:57.735Z"
   },
   {
    "duration": 1327,
    "start_time": "2022-02-03T12:51:57.945Z"
   },
   {
    "duration": 5,
    "start_time": "2022-02-03T12:51:59.274Z"
   },
   {
    "duration": 38,
    "start_time": "2022-02-03T12:51:59.281Z"
   },
   {
    "duration": 505,
    "start_time": "2022-02-03T12:51:59.321Z"
   },
   {
    "duration": 32,
    "start_time": "2022-02-03T12:51:59.828Z"
   },
   {
    "duration": 432,
    "start_time": "2022-02-03T12:51:59.862Z"
   },
   {
    "duration": 273,
    "start_time": "2022-02-03T12:54:46.707Z"
   },
   {
    "duration": 26,
    "start_time": "2022-02-03T12:54:51.397Z"
   },
   {
    "duration": 107,
    "start_time": "2022-02-03T12:55:00.740Z"
   },
   {
    "duration": 25,
    "start_time": "2022-02-03T12:55:00.849Z"
   },
   {
    "duration": 4,
    "start_time": "2022-02-03T12:55:00.876Z"
   },
   {
    "duration": 25,
    "start_time": "2022-02-03T12:55:00.882Z"
   },
   {
    "duration": 175,
    "start_time": "2022-02-03T12:55:00.910Z"
   },
   {
    "duration": 374,
    "start_time": "2022-02-03T12:55:01.087Z"
   },
   {
    "duration": 172,
    "start_time": "2022-02-03T12:55:01.463Z"
   },
   {
    "duration": 6,
    "start_time": "2022-02-03T12:55:01.637Z"
   },
   {
    "duration": 3857,
    "start_time": "2022-02-03T12:55:01.646Z"
   },
   {
    "duration": 12,
    "start_time": "2022-02-03T12:55:05.508Z"
   },
   {
    "duration": 200,
    "start_time": "2022-02-03T12:55:05.522Z"
   },
   {
    "duration": 6787,
    "start_time": "2022-02-03T12:55:05.724Z"
   },
   {
    "duration": 5,
    "start_time": "2022-02-03T12:55:12.513Z"
   },
   {
    "duration": 371,
    "start_time": "2022-02-03T12:55:12.520Z"
   },
   {
    "duration": 3469,
    "start_time": "2022-02-03T12:55:12.893Z"
   },
   {
    "duration": 211,
    "start_time": "2022-02-03T12:55:16.364Z"
   },
   {
    "duration": 1459,
    "start_time": "2022-02-03T12:55:16.577Z"
   },
   {
    "duration": 5,
    "start_time": "2022-02-03T12:55:18.038Z"
   },
   {
    "duration": 27,
    "start_time": "2022-02-03T12:55:18.045Z"
   },
   {
    "duration": 483,
    "start_time": "2022-02-03T12:55:18.074Z"
   },
   {
    "duration": 27,
    "start_time": "2022-02-03T12:55:18.559Z"
   },
   {
    "duration": 406,
    "start_time": "2022-02-03T12:55:18.588Z"
   },
   {
    "duration": 386,
    "start_time": "2022-02-03T13:05:32.438Z"
   },
   {
    "duration": 390,
    "start_time": "2022-02-03T13:05:42.003Z"
   },
   {
    "duration": 3,
    "start_time": "2022-02-03T13:06:22.902Z"
   },
   {
    "duration": 90,
    "start_time": "2022-02-03T13:07:07.347Z"
   },
   {
    "duration": 110,
    "start_time": "2022-02-03T13:07:13.638Z"
   },
   {
    "duration": 84,
    "start_time": "2022-02-03T13:07:19.989Z"
   },
   {
    "duration": 6248,
    "start_time": "2022-02-03T13:07:23.732Z"
   },
   {
    "duration": 5065,
    "start_time": "2022-02-03T13:07:58.617Z"
   },
   {
    "duration": 98,
    "start_time": "2022-02-03T13:08:13.754Z"
   },
   {
    "duration": 5572,
    "start_time": "2022-02-03T13:08:28.536Z"
   },
   {
    "duration": 19,
    "start_time": "2022-02-03T13:09:00.671Z"
   },
   {
    "duration": 645,
    "start_time": "2022-02-03T13:13:23.617Z"
   },
   {
    "duration": 471,
    "start_time": "2022-02-03T13:13:37.527Z"
   },
   {
    "duration": 721,
    "start_time": "2022-02-03T13:14:08.647Z"
   },
   {
    "duration": 824,
    "start_time": "2022-02-03T13:14:22.052Z"
   },
   {
    "duration": 861,
    "start_time": "2022-02-03T13:14:36.915Z"
   },
   {
    "duration": 420,
    "start_time": "2022-02-03T13:14:51.625Z"
   },
   {
    "duration": 552,
    "start_time": "2022-02-03T13:15:02.017Z"
   },
   {
    "duration": 451,
    "start_time": "2022-02-03T13:15:16.356Z"
   },
   {
    "duration": 1850,
    "start_time": "2022-02-03T13:16:15.034Z"
   },
   {
    "duration": 1854,
    "start_time": "2022-02-03T13:16:38.396Z"
   },
   {
    "duration": 1894,
    "start_time": "2022-02-03T13:17:58.697Z"
   },
   {
    "duration": 31,
    "start_time": "2022-02-03T13:24:32.135Z"
   },
   {
    "duration": 440,
    "start_time": "2022-02-03T13:25:01.570Z"
   },
   {
    "duration": 99,
    "start_time": "2022-02-03T13:25:08.914Z"
   },
   {
    "duration": 24,
    "start_time": "2022-02-03T13:25:09.015Z"
   },
   {
    "duration": 3,
    "start_time": "2022-02-03T13:25:09.042Z"
   },
   {
    "duration": 6,
    "start_time": "2022-02-03T13:25:09.047Z"
   },
   {
    "duration": 165,
    "start_time": "2022-02-03T13:25:09.054Z"
   },
   {
    "duration": 392,
    "start_time": "2022-02-03T13:25:09.221Z"
   },
   {
    "duration": 180,
    "start_time": "2022-02-03T13:25:09.615Z"
   },
   {
    "duration": 13,
    "start_time": "2022-02-03T13:25:09.797Z"
   },
   {
    "duration": 3809,
    "start_time": "2022-02-03T13:25:09.813Z"
   },
   {
    "duration": 11,
    "start_time": "2022-02-03T13:25:13.626Z"
   },
   {
    "duration": 208,
    "start_time": "2022-02-03T13:25:13.639Z"
   },
   {
    "duration": 6771,
    "start_time": "2022-02-03T13:25:13.849Z"
   },
   {
    "duration": 6,
    "start_time": "2022-02-03T13:25:20.622Z"
   },
   {
    "duration": 413,
    "start_time": "2022-02-03T13:25:20.630Z"
   },
   {
    "duration": 3530,
    "start_time": "2022-02-03T13:25:21.045Z"
   },
   {
    "duration": 210,
    "start_time": "2022-02-03T13:25:24.577Z"
   },
   {
    "duration": 1303,
    "start_time": "2022-02-03T13:25:24.789Z"
   },
   {
    "duration": 5,
    "start_time": "2022-02-03T13:25:26.094Z"
   },
   {
    "duration": 68,
    "start_time": "2022-02-03T13:25:26.108Z"
   },
   {
    "duration": 509,
    "start_time": "2022-02-03T13:25:26.178Z"
   },
   {
    "duration": 79,
    "start_time": "2022-02-03T13:25:26.699Z"
   },
   {
    "duration": 491,
    "start_time": "2022-02-03T13:25:26.788Z"
   },
   {
    "duration": 28,
    "start_time": "2022-02-03T13:25:27.281Z"
   },
   {
    "duration": 2041,
    "start_time": "2022-02-03T13:25:27.311Z"
   },
   {
    "duration": 431,
    "start_time": "2022-02-03T13:25:29.354Z"
   },
   {
    "duration": 28,
    "start_time": "2022-02-03T13:25:29.786Z"
   },
   {
    "duration": 13,
    "start_time": "2022-02-03T14:03:49.005Z"
   },
   {
    "duration": 28,
    "start_time": "2022-02-03T14:03:54.190Z"
   },
   {
    "duration": 491,
    "start_time": "2022-02-03T14:05:38.923Z"
   },
   {
    "duration": 615,
    "start_time": "2022-02-03T14:07:18.524Z"
   },
   {
    "duration": 500,
    "start_time": "2022-02-03T14:07:52.935Z"
   },
   {
    "duration": 528,
    "start_time": "2022-02-03T14:08:34.676Z"
   },
   {
    "duration": 250,
    "start_time": "2022-02-03T14:09:56.236Z"
   },
   {
    "duration": 306,
    "start_time": "2022-02-03T14:12:05.533Z"
   },
   {
    "duration": 6,
    "start_time": "2022-02-03T14:12:30.852Z"
   },
   {
    "duration": 6,
    "start_time": "2022-02-03T14:12:50.898Z"
   },
   {
    "duration": 3630,
    "start_time": "2022-02-03T14:14:36.889Z"
   },
   {
    "duration": 3356,
    "start_time": "2022-02-03T14:15:05.776Z"
   },
   {
    "duration": 4491,
    "start_time": "2022-02-03T14:18:18.240Z"
   },
   {
    "duration": 3339,
    "start_time": "2022-02-03T14:18:48.053Z"
   },
   {
    "duration": 112,
    "start_time": "2022-02-03T14:19:09.978Z"
   },
   {
    "duration": 34,
    "start_time": "2022-02-03T14:19:10.092Z"
   },
   {
    "duration": 4,
    "start_time": "2022-02-03T14:19:10.128Z"
   },
   {
    "duration": 8,
    "start_time": "2022-02-03T14:19:10.134Z"
   },
   {
    "duration": 310,
    "start_time": "2022-02-03T14:19:19.712Z"
   },
   {
    "duration": 189,
    "start_time": "2022-02-03T14:19:52.320Z"
   },
   {
    "duration": 21,
    "start_time": "2022-02-03T14:20:01.343Z"
   },
   {
    "duration": 115,
    "start_time": "2022-02-03T14:20:16.196Z"
   },
   {
    "duration": 29,
    "start_time": "2022-02-03T14:20:16.314Z"
   },
   {
    "duration": 4,
    "start_time": "2022-02-03T14:20:16.346Z"
   },
   {
    "duration": 14,
    "start_time": "2022-02-03T14:20:16.353Z"
   },
   {
    "duration": 217,
    "start_time": "2022-02-03T14:20:16.369Z"
   },
   {
    "duration": 150,
    "start_time": "2022-02-03T14:20:16.589Z"
   },
   {
    "duration": 408,
    "start_time": "2022-02-03T14:20:16.741Z"
   },
   {
    "duration": 210,
    "start_time": "2022-02-03T14:20:17.151Z"
   },
   {
    "duration": 6,
    "start_time": "2022-02-03T14:20:17.364Z"
   },
   {
    "duration": 3817,
    "start_time": "2022-02-03T14:20:17.373Z"
   },
   {
    "duration": 19,
    "start_time": "2022-02-03T14:20:21.192Z"
   },
   {
    "duration": 199,
    "start_time": "2022-02-03T14:20:21.213Z"
   },
   {
    "duration": 6953,
    "start_time": "2022-02-03T14:20:21.413Z"
   },
   {
    "duration": 6,
    "start_time": "2022-02-03T14:20:28.368Z"
   },
   {
    "duration": 395,
    "start_time": "2022-02-03T14:20:28.376Z"
   },
   {
    "duration": 3650,
    "start_time": "2022-02-03T14:20:28.773Z"
   },
   {
    "duration": 213,
    "start_time": "2022-02-03T14:20:32.424Z"
   },
   {
    "duration": 1423,
    "start_time": "2022-02-03T14:20:32.639Z"
   },
   {
    "duration": 5,
    "start_time": "2022-02-03T14:20:34.064Z"
   },
   {
    "duration": 480,
    "start_time": "2022-02-03T14:20:34.071Z"
   },
   {
    "duration": 27,
    "start_time": "2022-02-03T14:20:34.553Z"
   },
   {
    "duration": 412,
    "start_time": "2022-02-03T14:20:34.582Z"
   },
   {
    "duration": 33,
    "start_time": "2022-02-03T14:20:34.995Z"
   },
   {
    "duration": 2057,
    "start_time": "2022-02-03T14:20:35.030Z"
   },
   {
    "duration": 437,
    "start_time": "2022-02-03T14:20:37.088Z"
   },
   {
    "duration": 22,
    "start_time": "2022-02-03T14:20:37.527Z"
   },
   {
    "duration": 24,
    "start_time": "2022-02-03T14:20:37.553Z"
   },
   {
    "duration": 309,
    "start_time": "2022-02-03T14:30:46.050Z"
   },
   {
    "duration": 111,
    "start_time": "2022-02-03T14:31:01.905Z"
   },
   {
    "duration": 27,
    "start_time": "2022-02-03T14:31:02.018Z"
   },
   {
    "duration": 13,
    "start_time": "2022-02-03T14:31:02.049Z"
   },
   {
    "duration": 21,
    "start_time": "2022-02-03T14:31:02.064Z"
   },
   {
    "duration": 228,
    "start_time": "2022-02-03T14:31:02.087Z"
   },
   {
    "duration": 160,
    "start_time": "2022-02-03T14:31:02.317Z"
   },
   {
    "duration": 416,
    "start_time": "2022-02-03T14:31:02.479Z"
   },
   {
    "duration": 176,
    "start_time": "2022-02-03T14:31:02.897Z"
   },
   {
    "duration": 6,
    "start_time": "2022-02-03T14:31:03.076Z"
   },
   {
    "duration": 3861,
    "start_time": "2022-02-03T14:31:03.084Z"
   },
   {
    "duration": 11,
    "start_time": "2022-02-03T14:31:06.947Z"
   },
   {
    "duration": 197,
    "start_time": "2022-02-03T14:31:06.960Z"
   },
   {
    "duration": 6860,
    "start_time": "2022-02-03T14:31:07.159Z"
   },
   {
    "duration": 6,
    "start_time": "2022-02-03T14:31:14.021Z"
   },
   {
    "duration": 396,
    "start_time": "2022-02-03T14:31:14.029Z"
   },
   {
    "duration": 3595,
    "start_time": "2022-02-03T14:31:14.427Z"
   },
   {
    "duration": 214,
    "start_time": "2022-02-03T14:31:18.024Z"
   },
   {
    "duration": 1309,
    "start_time": "2022-02-03T14:31:18.240Z"
   },
   {
    "duration": 5,
    "start_time": "2022-02-03T14:31:19.551Z"
   },
   {
    "duration": 498,
    "start_time": "2022-02-03T14:31:19.558Z"
   },
   {
    "duration": 29,
    "start_time": "2022-02-03T14:31:25.047Z"
   },
   {
    "duration": 442,
    "start_time": "2022-02-03T14:31:38.602Z"
   },
   {
    "duration": 259,
    "start_time": "2022-02-03T14:31:46.740Z"
   },
   {
    "duration": 445,
    "start_time": "2022-02-03T15:45:46.829Z"
   },
   {
    "duration": 301,
    "start_time": "2022-02-03T15:46:08.032Z"
   },
   {
    "duration": 404,
    "start_time": "2022-02-03T15:46:14.105Z"
   },
   {
    "duration": 494,
    "start_time": "2022-02-03T15:48:34.659Z"
   },
   {
    "duration": 2250,
    "start_time": "2022-02-03T15:48:40.748Z"
   },
   {
    "duration": 585,
    "start_time": "2022-02-03T15:49:29.277Z"
   },
   {
    "duration": 501,
    "start_time": "2022-02-03T15:50:05.278Z"
   },
   {
    "duration": 680,
    "start_time": "2022-02-03T15:50:14.345Z"
   },
   {
    "duration": 871,
    "start_time": "2022-02-03T15:50:40.623Z"
   },
   {
    "duration": 664,
    "start_time": "2022-02-03T15:53:25.151Z"
   },
   {
    "duration": 1239,
    "start_time": "2022-02-03T15:54:12.473Z"
   },
   {
    "duration": 1136,
    "start_time": "2022-02-03T15:54:44.534Z"
   },
   {
    "duration": 668,
    "start_time": "2022-02-03T15:55:11.280Z"
   },
   {
    "duration": 1096,
    "start_time": "2022-02-03T15:55:34.669Z"
   },
   {
    "duration": 1436,
    "start_time": "2022-02-03T15:56:41.733Z"
   },
   {
    "duration": 850,
    "start_time": "2022-02-03T15:56:58.035Z"
   },
   {
    "duration": 954,
    "start_time": "2022-02-03T15:59:40.540Z"
   },
   {
    "duration": 851,
    "start_time": "2022-02-03T15:59:53.432Z"
   },
   {
    "duration": 360,
    "start_time": "2022-02-03T16:00:07.945Z"
   },
   {
    "duration": 1030,
    "start_time": "2022-02-03T16:00:19.161Z"
   },
   {
    "duration": 271,
    "start_time": "2022-02-03T16:13:00.609Z"
   },
   {
    "duration": 2181,
    "start_time": "2022-02-03T16:14:03.003Z"
   },
   {
    "duration": 2164,
    "start_time": "2022-02-03T16:14:09.983Z"
   },
   {
    "duration": 2336,
    "start_time": "2022-02-03T16:14:22.576Z"
   },
   {
    "duration": 1947,
    "start_time": "2022-02-03T16:23:22.138Z"
   },
   {
    "duration": 424,
    "start_time": "2022-02-03T16:24:25.669Z"
   },
   {
    "duration": 113,
    "start_time": "2022-02-03T16:24:56.306Z"
   },
   {
    "duration": 28,
    "start_time": "2022-02-03T16:24:56.422Z"
   },
   {
    "duration": 4,
    "start_time": "2022-02-03T16:24:56.453Z"
   },
   {
    "duration": 10,
    "start_time": "2022-02-03T16:24:56.460Z"
   },
   {
    "duration": 213,
    "start_time": "2022-02-03T16:24:56.472Z"
   },
   {
    "duration": 151,
    "start_time": "2022-02-03T16:24:56.688Z"
   },
   {
    "duration": 376,
    "start_time": "2022-02-03T16:24:56.842Z"
   },
   {
    "duration": 164,
    "start_time": "2022-02-03T16:24:57.221Z"
   },
   {
    "duration": 6,
    "start_time": "2022-02-03T16:24:57.387Z"
   },
   {
    "duration": 3696,
    "start_time": "2022-02-03T16:24:57.395Z"
   },
   {
    "duration": 23,
    "start_time": "2022-02-03T16:25:01.093Z"
   },
   {
    "duration": 267,
    "start_time": "2022-02-03T16:25:01.118Z"
   },
   {
    "duration": 6848,
    "start_time": "2022-02-03T16:25:01.387Z"
   },
   {
    "duration": 4,
    "start_time": "2022-02-03T16:25:08.237Z"
   },
   {
    "duration": 405,
    "start_time": "2022-02-03T16:25:08.243Z"
   },
   {
    "duration": 3496,
    "start_time": "2022-02-03T16:25:08.650Z"
   },
   {
    "duration": 207,
    "start_time": "2022-02-03T16:25:12.148Z"
   },
   {
    "duration": 1273,
    "start_time": "2022-02-03T16:25:12.356Z"
   },
   {
    "duration": 7,
    "start_time": "2022-02-03T16:25:13.631Z"
   },
   {
    "duration": 490,
    "start_time": "2022-02-03T16:25:13.640Z"
   },
   {
    "duration": 7,
    "start_time": "2022-02-03T16:25:14.132Z"
   },
   {
    "duration": 1033,
    "start_time": "2022-02-03T16:25:14.141Z"
   },
   {
    "duration": 40,
    "start_time": "2022-02-03T16:25:15.178Z"
   },
   {
    "duration": 1965,
    "start_time": "2022-02-03T16:25:15.220Z"
   },
   {
    "duration": 1945,
    "start_time": "2022-02-03T16:28:42.835Z"
   },
   {
    "duration": 445,
    "start_time": "2022-02-03T16:32:10.008Z"
   },
   {
    "duration": 423,
    "start_time": "2022-02-03T16:32:27.067Z"
   },
   {
    "duration": 424,
    "start_time": "2022-02-03T16:32:37.606Z"
   },
   {
    "duration": 411,
    "start_time": "2022-02-03T16:32:52.577Z"
   },
   {
    "duration": 801,
    "start_time": "2022-02-03T16:32:59.558Z"
   },
   {
    "duration": 678,
    "start_time": "2022-02-03T16:33:59.277Z"
   },
   {
    "duration": 667,
    "start_time": "2022-02-03T16:34:05.686Z"
   },
   {
    "duration": 335,
    "start_time": "2022-02-03T16:34:26.122Z"
   },
   {
    "duration": 3762,
    "start_time": "2022-02-03T16:34:33.158Z"
   },
   {
    "duration": 4145,
    "start_time": "2022-02-03T16:37:15.222Z"
   },
   {
    "duration": 3779,
    "start_time": "2022-02-03T16:37:27.416Z"
   },
   {
    "duration": 738,
    "start_time": "2022-02-03T16:49:56.760Z"
   },
   {
    "duration": 3570,
    "start_time": "2022-02-03T16:50:04.402Z"
   },
   {
    "duration": 3917,
    "start_time": "2022-02-03T16:51:28.239Z"
   },
   {
    "duration": 3996,
    "start_time": "2022-02-03T16:51:43.462Z"
   },
   {
    "duration": 3736,
    "start_time": "2022-02-03T16:52:34.863Z"
   },
   {
    "duration": 4054,
    "start_time": "2022-02-03T16:56:27.347Z"
   },
   {
    "duration": 4524,
    "start_time": "2022-02-03T17:02:06.397Z"
   },
   {
    "duration": 382,
    "start_time": "2022-02-03T17:02:22.961Z"
   },
   {
    "duration": 353,
    "start_time": "2022-02-03T17:02:30.513Z"
   },
   {
    "duration": 828,
    "start_time": "2022-02-03T17:02:37.134Z"
   },
   {
    "duration": 535,
    "start_time": "2022-02-03T17:02:55.123Z"
   },
   {
    "duration": 408,
    "start_time": "2022-02-03T17:03:14.452Z"
   },
   {
    "duration": 338,
    "start_time": "2022-02-03T17:03:29.888Z"
   },
   {
    "duration": 365,
    "start_time": "2022-02-03T17:03:36.484Z"
   },
   {
    "duration": 395,
    "start_time": "2022-02-03T17:03:57.570Z"
   },
   {
    "duration": 397,
    "start_time": "2022-02-03T17:07:47.439Z"
   },
   {
    "duration": 451,
    "start_time": "2022-02-03T17:08:14.847Z"
   },
   {
    "duration": 407,
    "start_time": "2022-02-03T17:11:08.516Z"
   },
   {
    "duration": 353,
    "start_time": "2022-02-03T17:11:38.910Z"
   },
   {
    "duration": 617,
    "start_time": "2022-02-03T17:11:45.399Z"
   },
   {
    "duration": 353,
    "start_time": "2022-02-03T17:12:05.385Z"
   },
   {
    "duration": 337,
    "start_time": "2022-02-03T17:13:07.080Z"
   },
   {
    "duration": 460,
    "start_time": "2022-02-03T17:13:15.909Z"
   },
   {
    "duration": 341,
    "start_time": "2022-02-03T17:13:24.201Z"
   },
   {
    "duration": 446,
    "start_time": "2022-02-03T17:13:28.700Z"
   },
   {
    "duration": 375,
    "start_time": "2022-02-03T17:14:03.767Z"
   },
   {
    "duration": 339,
    "start_time": "2022-02-03T17:14:20.323Z"
   },
   {
    "duration": 371,
    "start_time": "2022-02-03T17:14:27.272Z"
   },
   {
    "duration": 109,
    "start_time": "2022-02-03T17:14:32.349Z"
   },
   {
    "duration": 26,
    "start_time": "2022-02-03T17:14:32.460Z"
   },
   {
    "duration": 4,
    "start_time": "2022-02-03T17:14:32.489Z"
   },
   {
    "duration": 5,
    "start_time": "2022-02-03T17:14:32.508Z"
   },
   {
    "duration": 213,
    "start_time": "2022-02-03T17:14:32.515Z"
   },
   {
    "duration": 341,
    "start_time": "2022-02-03T17:14:34.613Z"
   },
   {
    "duration": 332,
    "start_time": "2022-02-03T17:17:50.061Z"
   },
   {
    "duration": 918,
    "start_time": "2022-02-03T18:00:35.658Z"
   },
   {
    "duration": 639,
    "start_time": "2022-02-03T18:01:08.805Z"
   },
   {
    "duration": 650,
    "start_time": "2022-02-03T18:01:19.953Z"
   },
   {
    "duration": 4041,
    "start_time": "2022-02-03T18:01:57.108Z"
   },
   {
    "duration": 345,
    "start_time": "2022-02-03T18:19:41.304Z"
   },
   {
    "duration": 346,
    "start_time": "2022-02-03T18:19:50.808Z"
   },
   {
    "duration": 385,
    "start_time": "2022-02-03T18:20:11.853Z"
   },
   {
    "duration": 6211,
    "start_time": "2022-02-03T18:22:32.076Z"
   },
   {
    "duration": 3847,
    "start_time": "2022-02-03T18:22:50.616Z"
   },
   {
    "duration": 605,
    "start_time": "2022-02-03T18:23:22.624Z"
   },
   {
    "duration": 633,
    "start_time": "2022-02-03T18:24:04.099Z"
   },
   {
    "duration": 85,
    "start_time": "2022-02-03T18:47:34.586Z"
   },
   {
    "duration": 121,
    "start_time": "2022-02-03T18:47:51.919Z"
   },
   {
    "duration": 987,
    "start_time": "2022-02-03T18:48:08.104Z"
   },
   {
    "duration": 668,
    "start_time": "2022-02-03T18:48:29.633Z"
   },
   {
    "duration": 263,
    "start_time": "2022-02-03T18:55:40.683Z"
   },
   {
    "duration": 20,
    "start_time": "2022-02-03T18:57:23.924Z"
   },
   {
    "duration": 104,
    "start_time": "2022-02-03T18:57:38.224Z"
   },
   {
    "duration": 28,
    "start_time": "2022-02-03T18:57:38.331Z"
   },
   {
    "duration": 5,
    "start_time": "2022-02-03T18:57:38.362Z"
   },
   {
    "duration": 8,
    "start_time": "2022-02-03T18:57:38.369Z"
   },
   {
    "duration": 208,
    "start_time": "2022-02-03T18:57:38.379Z"
   },
   {
    "duration": 4239,
    "start_time": "2022-02-03T18:57:38.589Z"
   },
   {
    "duration": 371,
    "start_time": "2022-02-03T18:57:42.830Z"
   },
   {
    "duration": 165,
    "start_time": "2022-02-03T18:57:43.203Z"
   },
   {
    "duration": 6,
    "start_time": "2022-02-03T18:57:43.372Z"
   },
   {
    "duration": 3773,
    "start_time": "2022-02-03T18:57:43.381Z"
   },
   {
    "duration": 13,
    "start_time": "2022-02-03T18:57:47.156Z"
   },
   {
    "duration": 250,
    "start_time": "2022-02-03T18:57:47.172Z"
   },
   {
    "duration": 6929,
    "start_time": "2022-02-03T18:57:47.424Z"
   },
   {
    "duration": 5,
    "start_time": "2022-02-03T18:57:54.355Z"
   },
   {
    "duration": 387,
    "start_time": "2022-02-03T18:57:54.362Z"
   },
   {
    "duration": 3689,
    "start_time": "2022-02-03T18:57:54.751Z"
   },
   {
    "duration": 216,
    "start_time": "2022-02-03T18:57:58.442Z"
   },
   {
    "duration": 1271,
    "start_time": "2022-02-03T18:57:58.660Z"
   },
   {
    "duration": 5,
    "start_time": "2022-02-03T18:57:59.933Z"
   },
   {
    "duration": 481,
    "start_time": "2022-02-03T18:57:59.940Z"
   },
   {
    "duration": 8,
    "start_time": "2022-02-03T18:58:00.422Z"
   },
   {
    "duration": 861,
    "start_time": "2022-02-03T18:58:00.431Z"
   },
   {
    "duration": 35,
    "start_time": "2022-02-03T18:58:01.294Z"
   },
   {
    "duration": 2043,
    "start_time": "2022-02-03T18:58:01.331Z"
   },
   {
    "duration": 4232,
    "start_time": "2022-02-03T18:58:03.377Z"
   },
   {
    "duration": 20,
    "start_time": "2022-02-03T18:58:07.611Z"
   },
   {
    "duration": 406,
    "start_time": "2022-02-03T18:58:07.635Z"
   },
   {
    "duration": 345,
    "start_time": "2022-02-03T18:58:08.043Z"
   },
   {
    "duration": 602,
    "start_time": "2022-02-03T18:58:08.390Z"
   },
   {
    "duration": 2981,
    "start_time": "2022-02-03T18:59:18.918Z"
   },
   {
    "duration": 25,
    "start_time": "2022-02-03T19:06:32.513Z"
   },
   {
    "duration": 1145,
    "start_time": "2022-02-03T19:07:02.742Z"
   },
   {
    "duration": 9,
    "start_time": "2022-02-03T19:08:30.961Z"
   },
   {
    "duration": 114,
    "start_time": "2022-02-03T20:24:16.193Z"
   },
   {
    "duration": 27,
    "start_time": "2022-02-03T20:24:16.310Z"
   },
   {
    "duration": 3,
    "start_time": "2022-02-03T20:24:16.340Z"
   },
   {
    "duration": 10,
    "start_time": "2022-02-03T20:24:16.346Z"
   },
   {
    "duration": 213,
    "start_time": "2022-02-03T20:24:16.358Z"
   },
   {
    "duration": 7,
    "start_time": "2022-02-03T20:24:16.573Z"
   },
   {
    "duration": 4032,
    "start_time": "2022-02-03T20:24:16.582Z"
   },
   {
    "duration": 12,
    "start_time": "2022-02-03T20:24:20.616Z"
   },
   {
    "duration": 211,
    "start_time": "2022-02-03T20:24:20.630Z"
   },
   {
    "duration": 7137,
    "start_time": "2022-02-03T20:24:20.843Z"
   },
   {
    "duration": 5,
    "start_time": "2022-02-03T20:24:27.981Z"
   },
   {
    "duration": 422,
    "start_time": "2022-02-03T20:24:27.988Z"
   },
   {
    "duration": 3621,
    "start_time": "2022-02-03T20:24:28.412Z"
   },
   {
    "duration": 290,
    "start_time": "2022-02-03T20:24:32.035Z"
   },
   {
    "duration": 1299,
    "start_time": "2022-02-03T20:24:32.327Z"
   },
   {
    "duration": 6,
    "start_time": "2022-02-03T20:24:33.628Z"
   },
   {
    "duration": 493,
    "start_time": "2022-02-03T20:24:33.636Z"
   },
   {
    "duration": 9,
    "start_time": "2022-02-03T20:24:34.131Z"
   },
   {
    "duration": 1229,
    "start_time": "2022-02-03T20:24:49.743Z"
   },
   {
    "duration": 906,
    "start_time": "2022-02-03T20:31:15.470Z"
   },
   {
    "duration": 1354,
    "start_time": "2022-02-04T10:48:01.116Z"
   },
   {
    "duration": 34,
    "start_time": "2022-02-04T10:48:02.472Z"
   },
   {
    "duration": 9,
    "start_time": "2022-02-04T10:48:02.509Z"
   },
   {
    "duration": 30,
    "start_time": "2022-02-04T10:48:02.520Z"
   },
   {
    "duration": 249,
    "start_time": "2022-02-04T10:48:02.552Z"
   },
   {
    "duration": 6,
    "start_time": "2022-02-04T10:48:02.803Z"
   },
   {
    "duration": 4371,
    "start_time": "2022-02-04T10:48:02.811Z"
   },
   {
    "duration": 18,
    "start_time": "2022-02-04T10:48:07.186Z"
   },
   {
    "duration": 229,
    "start_time": "2022-02-04T10:48:07.207Z"
   },
   {
    "duration": 6993,
    "start_time": "2022-02-04T10:48:07.438Z"
   },
   {
    "duration": 5,
    "start_time": "2022-02-04T10:48:14.433Z"
   },
   {
    "duration": 395,
    "start_time": "2022-02-04T10:48:14.440Z"
   },
   {
    "duration": 3643,
    "start_time": "2022-02-04T10:48:14.837Z"
   },
   {
    "duration": 225,
    "start_time": "2022-02-04T10:48:18.481Z"
   },
   {
    "duration": 1409,
    "start_time": "2022-02-04T10:48:18.708Z"
   },
   {
    "duration": 5,
    "start_time": "2022-02-04T10:48:20.119Z"
   },
   {
    "duration": 504,
    "start_time": "2022-02-04T10:48:20.126Z"
   },
   {
    "duration": 7,
    "start_time": "2022-02-04T10:48:20.632Z"
   },
   {
    "duration": 1032,
    "start_time": "2022-02-04T10:48:20.640Z"
   },
   {
    "duration": 38,
    "start_time": "2022-02-04T10:48:21.674Z"
   },
   {
    "duration": 2166,
    "start_time": "2022-02-04T10:48:21.714Z"
   },
   {
    "duration": 4352,
    "start_time": "2022-02-04T10:48:23.882Z"
   },
   {
    "duration": 22,
    "start_time": "2022-02-04T10:48:28.237Z"
   },
   {
    "duration": 641,
    "start_time": "2022-02-04T10:48:28.261Z"
   },
   {
    "duration": 397,
    "start_time": "2022-02-04T10:48:28.903Z"
   },
   {
    "duration": 4059,
    "start_time": "2022-02-04T10:48:29.302Z"
   },
   {
    "duration": 387,
    "start_time": "2022-02-04T10:48:33.363Z"
   },
   {
    "duration": 367,
    "start_time": "2022-02-04T10:48:33.752Z"
   },
   {
    "duration": 686,
    "start_time": "2022-02-04T10:48:34.120Z"
   },
   {
    "duration": 7,
    "start_time": "2022-02-04T10:48:34.808Z"
   },
   {
    "duration": 26,
    "start_time": "2022-02-04T10:48:34.817Z"
   },
   {
    "duration": 416,
    "start_time": "2022-02-04T10:49:33.458Z"
   },
   {
    "duration": 303,
    "start_time": "2022-02-04T10:49:51.989Z"
   },
   {
    "duration": 357,
    "start_time": "2022-02-04T10:50:07.605Z"
   },
   {
    "duration": 1241,
    "start_time": "2022-02-04T10:50:23.384Z"
   },
   {
    "duration": 474,
    "start_time": "2022-02-04T10:54:29.162Z"
   },
   {
    "duration": 355,
    "start_time": "2022-02-04T10:55:01.269Z"
   },
   {
    "duration": 1128,
    "start_time": "2022-02-04T10:55:11.070Z"
   },
   {
    "duration": 1230,
    "start_time": "2022-02-04T10:55:55.382Z"
   },
   {
    "duration": 27,
    "start_time": "2022-02-04T10:57:15.352Z"
   },
   {
    "duration": 1208,
    "start_time": "2022-02-04T11:01:32.120Z"
   },
   {
    "duration": 2226,
    "start_time": "2022-02-04T11:01:55.683Z"
   },
   {
    "duration": 1193,
    "start_time": "2022-02-04T11:03:05.614Z"
   },
   {
    "duration": 28,
    "start_time": "2022-02-04T11:03:19.509Z"
   },
   {
    "duration": 16,
    "start_time": "2022-02-04T11:04:21.338Z"
   },
   {
    "duration": 14,
    "start_time": "2022-02-04T11:04:32.604Z"
   },
   {
    "duration": 22,
    "start_time": "2022-02-04T11:04:46.042Z"
   },
   {
    "duration": 16,
    "start_time": "2022-02-04T11:06:05.304Z"
   },
   {
    "duration": 27,
    "start_time": "2022-02-04T11:06:12.028Z"
   },
   {
    "duration": 4473,
    "start_time": "2022-02-04T11:13:15.668Z"
   },
   {
    "duration": 4360,
    "start_time": "2022-02-04T11:13:31.848Z"
   },
   {
    "duration": 27,
    "start_time": "2022-02-04T11:14:01.193Z"
   },
   {
    "duration": 49,
    "start_time": "2022-02-04T11:14:09.352Z"
   },
   {
    "duration": 29,
    "start_time": "2022-02-04T11:14:15.796Z"
   },
   {
    "duration": 998,
    "start_time": "2022-02-04T11:15:15.119Z"
   },
   {
    "duration": 565,
    "start_time": "2022-02-04T11:15:22.599Z"
   },
   {
    "duration": 469,
    "start_time": "2022-02-04T11:15:27.686Z"
   },
   {
    "duration": 476,
    "start_time": "2022-02-04T11:15:42.365Z"
   },
   {
    "duration": 612,
    "start_time": "2022-02-04T11:36:00.481Z"
   },
   {
    "duration": 352,
    "start_time": "2022-02-04T11:36:35.091Z"
   },
   {
    "duration": 452,
    "start_time": "2022-02-04T11:36:52.537Z"
   },
   {
    "duration": 1688,
    "start_time": "2022-02-04T19:09:48.935Z"
   },
   {
    "duration": 48,
    "start_time": "2022-02-04T19:09:50.626Z"
   },
   {
    "duration": 6,
    "start_time": "2022-02-04T19:09:50.677Z"
   },
   {
    "duration": 8,
    "start_time": "2022-02-04T19:09:50.686Z"
   },
   {
    "duration": 326,
    "start_time": "2022-02-04T19:09:50.696Z"
   },
   {
    "duration": 7,
    "start_time": "2022-02-04T19:09:51.024Z"
   },
   {
    "duration": 5172,
    "start_time": "2022-02-04T19:09:51.035Z"
   },
   {
    "duration": 17,
    "start_time": "2022-02-04T19:09:56.209Z"
   },
   {
    "duration": 349,
    "start_time": "2022-02-04T19:09:56.230Z"
   },
   {
    "duration": 11502,
    "start_time": "2022-02-04T19:09:56.582Z"
   },
   {
    "duration": 6,
    "start_time": "2022-02-04T19:10:08.086Z"
   },
   {
    "duration": 651,
    "start_time": "2022-02-04T19:10:08.095Z"
   },
   {
    "duration": 5932,
    "start_time": "2022-02-04T19:10:08.749Z"
   },
   {
    "duration": 331,
    "start_time": "2022-02-04T19:10:14.684Z"
   },
   {
    "duration": 2177,
    "start_time": "2022-02-04T19:10:15.018Z"
   },
   {
    "duration": 6,
    "start_time": "2022-02-04T19:10:17.197Z"
   },
   {
    "duration": 810,
    "start_time": "2022-02-04T19:10:17.206Z"
   },
   {
    "duration": 8,
    "start_time": "2022-02-04T19:10:18.019Z"
   },
   {
    "duration": 1760,
    "start_time": "2022-02-04T19:10:18.030Z"
   },
   {
    "duration": 43,
    "start_time": "2022-02-04T19:10:19.792Z"
   },
   {
    "duration": 2903,
    "start_time": "2022-02-04T19:10:19.837Z"
   },
   {
    "duration": 47,
    "start_time": "2022-02-04T19:10:22.743Z"
   },
   {
    "duration": 36,
    "start_time": "2022-02-04T19:10:22.792Z"
   },
   {
    "duration": 6218,
    "start_time": "2022-02-04T19:10:22.831Z"
   },
   {
    "duration": 48,
    "start_time": "2022-02-04T19:10:29.051Z"
   },
   {
    "duration": 636,
    "start_time": "2022-02-04T19:10:29.101Z"
   },
   {
    "duration": 752,
    "start_time": "2022-02-04T19:10:29.744Z"
   },
   {
    "duration": 671,
    "start_time": "2022-02-04T19:10:30.499Z"
   },
   {
    "duration": 252,
    "start_time": "2022-02-04T19:10:31.173Z"
   },
   {
    "duration": 963,
    "start_time": "2022-02-04T19:10:31.427Z"
   },
   {
    "duration": 12,
    "start_time": "2022-02-04T19:10:32.393Z"
   },
   {
    "duration": 68,
    "start_time": "2022-02-04T19:10:32.408Z"
   },
   {
    "duration": 558,
    "start_time": "2022-02-04T19:32:22.512Z"
   },
   {
    "duration": 1316,
    "start_time": "2022-02-04T19:34:47.742Z"
   },
   {
    "duration": 994,
    "start_time": "2022-02-04T19:34:57.424Z"
   },
   {
    "duration": 561,
    "start_time": "2022-02-04T19:35:09.885Z"
   },
   {
    "duration": 575,
    "start_time": "2022-02-04T19:36:06.518Z"
   },
   {
    "duration": 578,
    "start_time": "2022-02-04T19:36:14.477Z"
   },
   {
    "duration": 630,
    "start_time": "2022-02-04T19:36:26.231Z"
   },
   {
    "duration": 1028,
    "start_time": "2022-02-04T19:36:39.715Z"
   },
   {
    "duration": 741,
    "start_time": "2022-02-04T19:36:49.000Z"
   },
   {
    "duration": 705,
    "start_time": "2022-02-04T19:36:57.187Z"
   },
   {
    "duration": 759,
    "start_time": "2022-02-04T19:37:04.894Z"
   },
   {
    "duration": 602,
    "start_time": "2022-02-04T19:37:17.215Z"
   },
   {
    "duration": 627,
    "start_time": "2022-02-04T19:37:30.490Z"
   },
   {
    "duration": 952,
    "start_time": "2022-02-04T19:37:37.566Z"
   },
   {
    "duration": 1082,
    "start_time": "2022-02-04T19:40:42.397Z"
   },
   {
    "duration": 37,
    "start_time": "2022-02-04T19:48:26.403Z"
   },
   {
    "duration": 25,
    "start_time": "2022-02-04T19:49:15.215Z"
   },
   {
    "duration": 24,
    "start_time": "2022-02-04T19:49:19.338Z"
   },
   {
    "duration": 24,
    "start_time": "2022-02-04T19:49:32.610Z"
   },
   {
    "duration": 25,
    "start_time": "2022-02-04T19:49:36.149Z"
   },
   {
    "duration": 38,
    "start_time": "2022-02-04T19:49:43.872Z"
   },
   {
    "duration": 33,
    "start_time": "2022-02-04T19:52:01.270Z"
   },
   {
    "duration": 33,
    "start_time": "2022-02-04T19:53:13.724Z"
   },
   {
    "duration": 5830,
    "start_time": "2022-02-04T19:54:37.382Z"
   },
   {
    "duration": 2654,
    "start_time": "2022-02-04T19:59:45.909Z"
   },
   {
    "duration": 2962,
    "start_time": "2022-02-04T20:01:06.856Z"
   },
   {
    "duration": 2599,
    "start_time": "2022-02-04T20:08:30.867Z"
   },
   {
    "duration": 3543,
    "start_time": "2022-02-04T20:12:33.128Z"
   },
   {
    "duration": 3848,
    "start_time": "2022-02-04T20:12:51.333Z"
   },
   {
    "duration": 47,
    "start_time": "2022-02-04T20:14:50.461Z"
   },
   {
    "duration": 1231,
    "start_time": "2022-02-04T20:15:05.746Z"
   },
   {
    "duration": 570,
    "start_time": "2022-02-04T20:16:25.219Z"
   },
   {
    "duration": 582,
    "start_time": "2022-02-04T20:17:16.942Z"
   },
   {
    "duration": 596,
    "start_time": "2022-02-04T20:18:33.603Z"
   },
   {
    "duration": 727,
    "start_time": "2022-02-04T20:18:50.913Z"
   },
   {
    "duration": 33,
    "start_time": "2022-02-04T20:40:25.752Z"
   },
   {
    "duration": 32,
    "start_time": "2022-02-04T20:43:44.283Z"
   },
   {
    "duration": 35,
    "start_time": "2022-02-04T20:44:06.338Z"
   },
   {
    "duration": 1239,
    "start_time": "2022-02-04T20:45:58.432Z"
   },
   {
    "duration": 1117,
    "start_time": "2022-02-04T20:46:17.183Z"
   },
   {
    "duration": 1412,
    "start_time": "2022-02-04T20:46:32.529Z"
   },
   {
    "duration": 235,
    "start_time": "2022-02-04T20:47:38.853Z"
   },
   {
    "duration": 12,
    "start_time": "2022-02-04T20:48:48.695Z"
   },
   {
    "duration": 11553,
    "start_time": "2022-02-04T20:50:16.382Z"
   },
   {
    "duration": 39,
    "start_time": "2022-02-04T20:50:52.303Z"
   },
   {
    "duration": 2313,
    "start_time": "2022-02-04T20:55:58.053Z"
   },
   {
    "duration": 220,
    "start_time": "2022-02-04T20:56:43.052Z"
   },
   {
    "duration": 236,
    "start_time": "2022-02-04T20:56:48.582Z"
   },
   {
    "duration": 18,
    "start_time": "2022-02-04T20:57:45.509Z"
   },
   {
    "duration": 252,
    "start_time": "2022-02-04T20:58:42.280Z"
   },
   {
    "duration": 451,
    "start_time": "2022-02-04T20:58:59.719Z"
   },
   {
    "duration": 462,
    "start_time": "2022-02-04T21:00:09.337Z"
   },
   {
    "duration": 1328,
    "start_time": "2022-02-04T21:01:23.411Z"
   },
   {
    "duration": 578,
    "start_time": "2022-02-04T21:11:50.581Z"
   },
   {
    "duration": 478,
    "start_time": "2022-02-04T21:12:03.303Z"
   },
   {
    "duration": 807,
    "start_time": "2022-02-04T21:13:12.668Z"
   },
   {
    "duration": 347,
    "start_time": "2022-02-04T21:13:32.841Z"
   },
   {
    "duration": 285,
    "start_time": "2022-02-04T21:15:05.002Z"
   },
   {
    "duration": 337,
    "start_time": "2022-02-04T21:15:14.022Z"
   },
   {
    "duration": 292,
    "start_time": "2022-02-04T21:15:20.204Z"
   },
   {
    "duration": 285,
    "start_time": "2022-02-04T21:15:42.087Z"
   },
   {
    "duration": 190,
    "start_time": "2022-02-04T21:16:02.148Z"
   },
   {
    "duration": 557,
    "start_time": "2022-02-04T21:16:07.421Z"
   },
   {
    "duration": 686,
    "start_time": "2022-02-04T21:16:24.909Z"
   },
   {
    "duration": 443,
    "start_time": "2022-02-04T21:17:36.251Z"
   },
   {
    "duration": 561,
    "start_time": "2022-02-04T21:17:45.568Z"
   },
   {
    "duration": 600,
    "start_time": "2022-02-04T21:18:05.123Z"
   },
   {
    "duration": 815,
    "start_time": "2022-02-04T21:18:22.408Z"
   },
   {
    "duration": 451,
    "start_time": "2022-02-04T21:18:33.614Z"
   },
   {
    "duration": 427,
    "start_time": "2022-02-04T21:18:49.635Z"
   },
   {
    "duration": 816,
    "start_time": "2022-02-04T21:23:03.460Z"
   },
   {
    "duration": 458,
    "start_time": "2022-02-04T21:23:13.175Z"
   },
   {
    "duration": 463,
    "start_time": "2022-02-04T21:23:45.554Z"
   },
   {
    "duration": 692,
    "start_time": "2022-02-04T21:23:57.647Z"
   },
   {
    "duration": 464,
    "start_time": "2022-02-04T21:24:13.897Z"
   },
   {
    "duration": 690,
    "start_time": "2022-02-04T21:24:26.182Z"
   },
   {
    "duration": 893,
    "start_time": "2022-02-04T21:24:40.856Z"
   },
   {
    "duration": 1265,
    "start_time": "2022-02-04T21:24:59.707Z"
   },
   {
    "duration": 743,
    "start_time": "2022-02-04T21:25:28.011Z"
   },
   {
    "duration": 896,
    "start_time": "2022-02-04T21:25:37.843Z"
   },
   {
    "duration": 913,
    "start_time": "2022-02-04T21:25:54.112Z"
   },
   {
    "duration": 998,
    "start_time": "2022-02-04T21:26:58.517Z"
   },
   {
    "duration": 1365,
    "start_time": "2022-02-04T21:27:12.781Z"
   },
   {
    "duration": 1340,
    "start_time": "2022-02-04T21:27:23.800Z"
   },
   {
    "duration": 911,
    "start_time": "2022-02-04T21:27:46.133Z"
   },
   {
    "duration": 908,
    "start_time": "2022-02-04T21:28:57.031Z"
   },
   {
    "duration": 945,
    "start_time": "2022-02-04T21:29:55.200Z"
   },
   {
    "duration": 1703,
    "start_time": "2022-02-04T21:31:06.193Z"
   },
   {
    "duration": 1235,
    "start_time": "2022-02-04T21:31:29.179Z"
   },
   {
    "duration": 2002,
    "start_time": "2022-02-04T21:31:48.422Z"
   },
   {
    "duration": 2473,
    "start_time": "2022-02-04T21:32:37.545Z"
   },
   {
    "duration": 2867,
    "start_time": "2022-02-04T21:32:59.085Z"
   },
   {
    "duration": 2849,
    "start_time": "2022-02-04T21:33:35.486Z"
   },
   {
    "duration": 2804,
    "start_time": "2022-02-04T21:33:46.886Z"
   },
   {
    "duration": 2762,
    "start_time": "2022-02-04T21:34:42.985Z"
   },
   {
    "duration": 3290,
    "start_time": "2022-02-04T21:34:56.794Z"
   },
   {
    "duration": 2411,
    "start_time": "2022-02-04T21:35:07.039Z"
   },
   {
    "duration": 2456,
    "start_time": "2022-02-04T21:35:32.150Z"
   },
   {
    "duration": 1147,
    "start_time": "2022-02-04T21:35:51.735Z"
   },
   {
    "duration": 1663,
    "start_time": "2022-02-04T21:36:01.209Z"
   },
   {
    "duration": 1882,
    "start_time": "2022-02-04T21:44:16.612Z"
   },
   {
    "duration": 1958,
    "start_time": "2022-02-04T21:44:21.072Z"
   },
   {
    "duration": 1706,
    "start_time": "2022-02-04T21:44:45.673Z"
   },
   {
    "duration": 1698,
    "start_time": "2022-02-04T21:45:01.606Z"
   },
   {
    "duration": 204,
    "start_time": "2022-02-04T21:51:04.852Z"
   },
   {
    "duration": 207,
    "start_time": "2022-02-04T21:51:42.687Z"
   },
   {
    "duration": 192,
    "start_time": "2022-02-04T21:51:47.293Z"
   },
   {
    "duration": 1002,
    "start_time": "2022-02-04T21:53:54.095Z"
   },
   {
    "duration": 865,
    "start_time": "2022-02-04T21:54:10.872Z"
   },
   {
    "duration": 844,
    "start_time": "2022-02-04T21:54:32.703Z"
   },
   {
    "duration": 858,
    "start_time": "2022-02-04T21:55:09.439Z"
   },
   {
    "duration": 55,
    "start_time": "2022-02-04T22:00:15.242Z"
   },
   {
    "duration": 39,
    "start_time": "2022-02-04T22:00:39.404Z"
   },
   {
    "duration": 16,
    "start_time": "2022-02-04T22:02:17.912Z"
   },
   {
    "duration": 16,
    "start_time": "2022-02-04T22:02:21.476Z"
   },
   {
    "duration": 155,
    "start_time": "2022-02-04T22:05:12.451Z"
   },
   {
    "duration": 62,
    "start_time": "2022-02-04T22:05:12.609Z"
   },
   {
    "duration": 6,
    "start_time": "2022-02-04T22:05:12.675Z"
   },
   {
    "duration": 5,
    "start_time": "2022-02-04T22:05:12.684Z"
   },
   {
    "duration": 339,
    "start_time": "2022-02-04T22:05:12.691Z"
   },
   {
    "duration": 7,
    "start_time": "2022-02-04T22:05:13.032Z"
   },
   {
    "duration": 5088,
    "start_time": "2022-02-04T22:05:13.041Z"
   },
   {
    "duration": 14,
    "start_time": "2022-02-04T22:05:18.132Z"
   },
   {
    "duration": 319,
    "start_time": "2022-02-04T22:05:18.150Z"
   },
   {
    "duration": 11137,
    "start_time": "2022-02-04T22:05:18.472Z"
   },
   {
    "duration": 6,
    "start_time": "2022-02-04T22:05:29.612Z"
   },
   {
    "duration": 647,
    "start_time": "2022-02-04T22:05:29.620Z"
   },
   {
    "duration": 5746,
    "start_time": "2022-02-04T22:05:30.270Z"
   },
   {
    "duration": 345,
    "start_time": "2022-02-04T22:05:36.018Z"
   },
   {
    "duration": 2157,
    "start_time": "2022-02-04T22:05:36.366Z"
   },
   {
    "duration": 6,
    "start_time": "2022-02-04T22:05:38.525Z"
   },
   {
    "duration": 1138,
    "start_time": "2022-02-04T22:05:38.533Z"
   },
   {
    "duration": 8,
    "start_time": "2022-02-04T22:05:39.674Z"
   },
   {
    "duration": 1600,
    "start_time": "2022-02-04T22:05:39.684Z"
   },
   {
    "duration": 41,
    "start_time": "2022-02-04T22:05:41.287Z"
   },
   {
    "duration": 2675,
    "start_time": "2022-02-04T22:05:41.331Z"
   },
   {
    "duration": 3,
    "start_time": "2022-02-04T22:05:44.009Z"
   },
   {
    "duration": 37,
    "start_time": "2022-02-04T22:05:44.014Z"
   },
   {
    "duration": 6682,
    "start_time": "2022-02-04T22:05:44.053Z"
   },
   {
    "duration": 54,
    "start_time": "2022-02-04T22:05:50.737Z"
   },
   {
    "duration": 1244,
    "start_time": "2022-02-04T22:05:50.794Z"
   },
   {
    "duration": 882,
    "start_time": "2022-02-04T22:05:52.045Z"
   },
   {
    "duration": 236,
    "start_time": "2022-02-04T22:05:52.931Z"
   },
   {
    "duration": 622,
    "start_time": "2022-02-04T22:05:53.170Z"
   },
   {
    "duration": 31,
    "start_time": "2022-02-04T22:05:53.795Z"
   },
   {
    "duration": 643,
    "start_time": "2022-02-04T22:05:53.829Z"
   },
   {
    "duration": 627,
    "start_time": "2022-02-04T22:05:54.474Z"
   },
   {
    "duration": 237,
    "start_time": "2022-02-04T22:05:55.104Z"
   },
   {
    "duration": 935,
    "start_time": "2022-02-04T22:05:55.343Z"
   },
   {
    "duration": 33,
    "start_time": "2022-02-04T22:05:56.281Z"
   },
   {
    "duration": 9,
    "start_time": "2022-02-04T22:05:56.317Z"
   },
   {
    "duration": 63,
    "start_time": "2022-02-04T22:05:56.328Z"
   },
   {
    "duration": 9343,
    "start_time": "2022-02-04T22:21:54.092Z"
   },
   {
    "duration": 68,
    "start_time": "2022-02-04T22:22:12.736Z"
   },
   {
    "duration": 67,
    "start_time": "2022-02-04T22:23:36.207Z"
   },
   {
    "duration": 128,
    "start_time": "2022-02-04T22:24:50.466Z"
   },
   {
    "duration": 95,
    "start_time": "2022-02-04T22:25:03.347Z"
   },
   {
    "duration": 212,
    "start_time": "2022-02-04T22:26:13.921Z"
   },
   {
    "duration": 1191,
    "start_time": "2022-02-04T22:26:46.212Z"
   },
   {
    "duration": 210,
    "start_time": "2022-02-04T22:27:20.925Z"
   },
   {
    "duration": 214,
    "start_time": "2022-02-04T22:27:26.911Z"
   },
   {
    "duration": 233,
    "start_time": "2022-02-04T22:27:29.900Z"
   },
   {
    "duration": 216,
    "start_time": "2022-02-04T22:28:11.443Z"
   },
   {
    "duration": 226,
    "start_time": "2022-02-04T22:28:24.932Z"
   },
   {
    "duration": 229,
    "start_time": "2022-02-04T22:29:32.072Z"
   },
   {
    "duration": 55,
    "start_time": "2022-02-04T22:30:42.069Z"
   },
   {
    "duration": 118,
    "start_time": "2022-02-04T22:32:42.073Z"
   },
   {
    "duration": 130,
    "start_time": "2022-02-04T22:32:54.905Z"
   },
   {
    "duration": 142,
    "start_time": "2022-02-04T22:35:39.131Z"
   },
   {
    "duration": 34,
    "start_time": "2022-02-04T22:35:39.276Z"
   },
   {
    "duration": 4,
    "start_time": "2022-02-04T22:35:39.313Z"
   },
   {
    "duration": 5,
    "start_time": "2022-02-04T22:35:39.320Z"
   },
   {
    "duration": 324,
    "start_time": "2022-02-04T22:35:39.360Z"
   },
   {
    "duration": 7,
    "start_time": "2022-02-04T22:35:39.686Z"
   },
   {
    "duration": 5009,
    "start_time": "2022-02-04T22:35:39.695Z"
   },
   {
    "duration": 12,
    "start_time": "2022-02-04T22:35:44.708Z"
   },
   {
    "duration": 311,
    "start_time": "2022-02-04T22:35:44.723Z"
   },
   {
    "duration": 11085,
    "start_time": "2022-02-04T22:35:45.036Z"
   },
   {
    "duration": 6,
    "start_time": "2022-02-04T22:35:56.124Z"
   },
   {
    "duration": 657,
    "start_time": "2022-02-04T22:35:56.132Z"
   },
   {
    "duration": 5886,
    "start_time": "2022-02-04T22:35:56.791Z"
   },
   {
    "duration": 339,
    "start_time": "2022-02-04T22:36:02.679Z"
   },
   {
    "duration": 2131,
    "start_time": "2022-02-04T22:36:03.021Z"
   },
   {
    "duration": 8,
    "start_time": "2022-02-04T22:36:05.154Z"
   },
   {
    "duration": 763,
    "start_time": "2022-02-04T22:36:05.164Z"
   },
   {
    "duration": 9,
    "start_time": "2022-02-04T22:36:05.929Z"
   },
   {
    "duration": 1549,
    "start_time": "2022-02-04T22:36:05.940Z"
   },
   {
    "duration": 42,
    "start_time": "2022-02-04T22:36:07.492Z"
   },
   {
    "duration": 2605,
    "start_time": "2022-02-04T22:36:07.537Z"
   },
   {
    "duration": 59,
    "start_time": "2022-02-04T22:36:10.144Z"
   },
   {
    "duration": 6488,
    "start_time": "2022-02-04T22:36:10.208Z"
   },
   {
    "duration": 38,
    "start_time": "2022-02-04T22:36:16.700Z"
   },
   {
    "duration": 1711,
    "start_time": "2022-02-04T22:36:16.741Z"
   },
   {
    "duration": 871,
    "start_time": "2022-02-04T22:36:18.459Z"
   },
   {
    "duration": 215,
    "start_time": "2022-02-04T22:36:19.333Z"
   },
   {
    "duration": 581,
    "start_time": "2022-02-04T22:36:19.550Z"
   },
   {
    "duration": 42,
    "start_time": "2022-02-04T22:36:20.133Z"
   },
   {
    "duration": 604,
    "start_time": "2022-02-04T22:36:20.178Z"
   },
   {
    "duration": 725,
    "start_time": "2022-02-04T22:36:20.784Z"
   },
   {
    "duration": 229,
    "start_time": "2022-02-04T22:36:21.511Z"
   },
   {
    "duration": 946,
    "start_time": "2022-02-04T22:36:21.743Z"
   },
   {
    "duration": 459,
    "start_time": "2022-02-04T22:36:22.691Z"
   },
   {
    "duration": 11,
    "start_time": "2022-02-04T22:36:23.141Z"
   },
   {
    "duration": 10,
    "start_time": "2022-02-04T22:36:23.143Z"
   },
   {
    "duration": 49,
    "start_time": "2022-02-04T22:36:32.280Z"
   },
   {
    "duration": 52,
    "start_time": "2022-02-04T22:37:22.493Z"
   },
   {
    "duration": 10,
    "start_time": "2022-02-04T22:39:07.858Z"
   },
   {
    "duration": 1220,
    "start_time": "2022-02-04T22:40:16.412Z"
   },
   {
    "duration": 8682,
    "start_time": "2022-02-04T22:40:53.275Z"
   },
   {
    "duration": 50,
    "start_time": "2022-02-04T22:41:26.225Z"
   },
   {
    "duration": 9562,
    "start_time": "2022-02-04T22:41:40.587Z"
   },
   {
    "duration": 8242,
    "start_time": "2022-02-04T22:42:07.383Z"
   },
   {
    "duration": 395,
    "start_time": "2022-02-04T22:42:18.180Z"
   },
   {
    "duration": 8753,
    "start_time": "2022-02-04T22:42:33.649Z"
   },
   {
    "duration": 474,
    "start_time": "2022-02-04T22:42:51.672Z"
   },
   {
    "duration": 1587,
    "start_time": "2022-02-04T22:44:58.817Z"
   },
   {
    "duration": 1442,
    "start_time": "2022-02-04T22:45:22.218Z"
   },
   {
    "duration": 8587,
    "start_time": "2022-02-04T22:45:45.492Z"
   },
   {
    "duration": 8284,
    "start_time": "2022-02-04T22:46:15.991Z"
   },
   {
    "duration": 9332,
    "start_time": "2022-02-04T22:46:52.559Z"
   },
   {
    "duration": 605,
    "start_time": "2022-02-04T23:02:21.091Z"
   },
   {
    "duration": 962,
    "start_time": "2022-02-04T23:03:04.318Z"
   },
   {
    "duration": 1046,
    "start_time": "2022-02-04T23:03:17.984Z"
   },
   {
    "duration": 400,
    "start_time": "2022-02-04T23:03:30.983Z"
   },
   {
    "duration": 387,
    "start_time": "2022-02-04T23:03:46.563Z"
   },
   {
    "duration": 1151,
    "start_time": "2022-02-04T23:04:48.129Z"
   },
   {
    "duration": 387,
    "start_time": "2022-02-04T23:05:21.537Z"
   },
   {
    "duration": 11,
    "start_time": "2022-02-04T23:05:59.045Z"
   },
   {
    "duration": 35,
    "start_time": "2022-02-04T23:06:20.603Z"
   },
   {
    "duration": 1614,
    "start_time": "2022-02-05T17:41:46.906Z"
   },
   {
    "duration": 41,
    "start_time": "2022-02-05T17:41:48.522Z"
   },
   {
    "duration": 6,
    "start_time": "2022-02-05T17:41:48.566Z"
   },
   {
    "duration": 6,
    "start_time": "2022-02-05T17:41:48.574Z"
   },
   {
    "duration": 379,
    "start_time": "2022-02-05T17:41:48.582Z"
   },
   {
    "duration": 7,
    "start_time": "2022-02-05T17:41:48.964Z"
   },
   {
    "duration": 4894,
    "start_time": "2022-02-05T17:41:48.974Z"
   },
   {
    "duration": 15,
    "start_time": "2022-02-05T17:41:53.872Z"
   },
   {
    "duration": 355,
    "start_time": "2022-02-05T17:41:53.890Z"
   },
   {
    "duration": 11031,
    "start_time": "2022-02-05T17:41:54.248Z"
   },
   {
    "duration": 5,
    "start_time": "2022-02-05T17:42:05.281Z"
   },
   {
    "duration": 627,
    "start_time": "2022-02-05T17:42:05.288Z"
   },
   {
    "duration": 5825,
    "start_time": "2022-02-05T17:42:05.918Z"
   },
   {
    "duration": 345,
    "start_time": "2022-02-05T17:42:11.745Z"
   },
   {
    "duration": 2090,
    "start_time": "2022-02-05T17:42:12.093Z"
   },
   {
    "duration": 5,
    "start_time": "2022-02-05T17:42:14.186Z"
   },
   {
    "duration": 745,
    "start_time": "2022-02-05T17:42:14.194Z"
   },
   {
    "duration": 8,
    "start_time": "2022-02-05T17:42:14.941Z"
   },
   {
    "duration": 1542,
    "start_time": "2022-02-05T17:42:14.951Z"
   },
   {
    "duration": 54,
    "start_time": "2022-02-05T17:42:16.495Z"
   },
   {
    "duration": 2584,
    "start_time": "2022-02-05T17:42:16.551Z"
   },
   {
    "duration": 58,
    "start_time": "2022-02-05T17:42:19.139Z"
   },
   {
    "duration": 6045,
    "start_time": "2022-02-05T17:42:19.204Z"
   },
   {
    "duration": 38,
    "start_time": "2022-02-05T17:42:25.252Z"
   },
   {
    "duration": 1231,
    "start_time": "2022-02-05T17:42:25.292Z"
   },
   {
    "duration": 880,
    "start_time": "2022-02-05T17:42:26.533Z"
   },
   {
    "duration": 217,
    "start_time": "2022-02-05T17:42:27.415Z"
   },
   {
    "duration": 555,
    "start_time": "2022-02-05T17:42:27.634Z"
   },
   {
    "duration": 30,
    "start_time": "2022-02-05T17:42:28.191Z"
   },
   {
    "duration": 873,
    "start_time": "2022-02-05T17:42:28.233Z"
   },
   {
    "duration": 594,
    "start_time": "2022-02-05T17:42:29.109Z"
   },
   {
    "duration": 214,
    "start_time": "2022-02-05T17:42:29.706Z"
   },
   {
    "duration": 936,
    "start_time": "2022-02-05T17:42:29.922Z"
   },
   {
    "duration": 72,
    "start_time": "2022-02-05T17:42:30.860Z"
   },
   {
    "duration": 5941,
    "start_time": "2022-02-05T17:42:30.934Z"
   },
   {
    "duration": -78,
    "start_time": "2022-02-05T17:42:36.956Z"
   },
   {
    "duration": 35,
    "start_time": "2022-02-05T17:54:19.345Z"
   },
   {
    "duration": 634,
    "start_time": "2022-02-05T17:56:25.185Z"
   },
   {
    "duration": 37,
    "start_time": "2022-02-05T17:56:31.454Z"
   },
   {
    "duration": 143,
    "start_time": "2022-02-05T17:57:44.416Z"
   },
   {
    "duration": 36,
    "start_time": "2022-02-05T17:57:44.562Z"
   },
   {
    "duration": 4,
    "start_time": "2022-02-05T17:57:44.601Z"
   },
   {
    "duration": 27,
    "start_time": "2022-02-05T17:57:44.608Z"
   },
   {
    "duration": 327,
    "start_time": "2022-02-05T17:57:44.638Z"
   },
   {
    "duration": 9,
    "start_time": "2022-02-05T17:57:44.967Z"
   },
   {
    "duration": 5077,
    "start_time": "2022-02-05T17:57:44.978Z"
   },
   {
    "duration": 14,
    "start_time": "2022-02-05T17:57:50.061Z"
   },
   {
    "duration": 325,
    "start_time": "2022-02-05T17:57:50.079Z"
   },
   {
    "duration": 11512,
    "start_time": "2022-02-05T17:57:50.406Z"
   },
   {
    "duration": 12,
    "start_time": "2022-02-05T17:58:01.920Z"
   },
   {
    "duration": 632,
    "start_time": "2022-02-05T17:58:01.934Z"
   },
   {
    "duration": 5819,
    "start_time": "2022-02-05T17:58:02.569Z"
   },
   {
    "duration": 321,
    "start_time": "2022-02-05T17:58:08.390Z"
   },
   {
    "duration": 3014,
    "start_time": "2022-02-05T17:58:08.713Z"
   },
   {
    "duration": 7,
    "start_time": "2022-02-05T17:58:11.730Z"
   },
   {
    "duration": 1275,
    "start_time": "2022-02-05T17:58:11.740Z"
   },
   {
    "duration": 19,
    "start_time": "2022-02-05T17:58:13.018Z"
   },
   {
    "duration": 1747,
    "start_time": "2022-02-05T17:58:13.040Z"
   },
   {
    "duration": 52,
    "start_time": "2022-02-05T17:58:14.790Z"
   },
   {
    "duration": 2528,
    "start_time": "2022-02-05T17:58:14.845Z"
   },
   {
    "duration": 37,
    "start_time": "2022-02-05T17:58:17.376Z"
   },
   {
    "duration": 6215,
    "start_time": "2022-02-05T17:58:17.431Z"
   },
   {
    "duration": 41,
    "start_time": "2022-02-05T17:58:23.649Z"
   },
   {
    "duration": 1225,
    "start_time": "2022-02-05T17:58:23.693Z"
   },
   {
    "duration": 1136,
    "start_time": "2022-02-05T17:58:24.921Z"
   },
   {
    "duration": 226,
    "start_time": "2022-02-05T17:58:26.059Z"
   },
   {
    "duration": 568,
    "start_time": "2022-02-05T17:58:26.287Z"
   },
   {
    "duration": 33,
    "start_time": "2022-02-05T17:58:26.858Z"
   },
   {
    "duration": 860,
    "start_time": "2022-02-05T17:58:26.894Z"
   },
   {
    "duration": 617,
    "start_time": "2022-02-05T17:58:27.757Z"
   },
   {
    "duration": 234,
    "start_time": "2022-02-05T17:58:28.377Z"
   },
   {
    "duration": 958,
    "start_time": "2022-02-05T17:58:28.613Z"
   },
   {
    "duration": 73,
    "start_time": "2022-02-05T17:58:29.574Z"
   },
   {
    "duration": 922,
    "start_time": "2022-02-05T17:58:29.649Z"
   },
   {
    "duration": -6,
    "start_time": "2022-02-05T17:58:30.580Z"
   },
   {
    "duration": 143,
    "start_time": "2022-02-05T18:06:38.069Z"
   },
   {
    "duration": 50,
    "start_time": "2022-02-05T18:06:38.215Z"
   },
   {
    "duration": 6,
    "start_time": "2022-02-05T18:06:38.269Z"
   },
   {
    "duration": 8,
    "start_time": "2022-02-05T18:06:38.278Z"
   },
   {
    "duration": 361,
    "start_time": "2022-02-05T18:06:38.289Z"
   },
   {
    "duration": 7,
    "start_time": "2022-02-05T18:06:38.652Z"
   },
   {
    "duration": 5677,
    "start_time": "2022-02-05T18:06:38.662Z"
   },
   {
    "duration": 14,
    "start_time": "2022-02-05T18:06:44.341Z"
   },
   {
    "duration": 362,
    "start_time": "2022-02-05T18:06:44.359Z"
   },
   {
    "duration": 12244,
    "start_time": "2022-02-05T18:06:44.724Z"
   },
   {
    "duration": 6,
    "start_time": "2022-02-05T18:06:56.971Z"
   },
   {
    "duration": 647,
    "start_time": "2022-02-05T18:06:56.980Z"
   },
   {
    "duration": 5630,
    "start_time": "2022-02-05T18:06:57.630Z"
   },
   {
    "duration": 328,
    "start_time": "2022-02-05T18:07:03.263Z"
   },
   {
    "duration": 2087,
    "start_time": "2022-02-05T18:07:03.593Z"
   },
   {
    "duration": 8,
    "start_time": "2022-02-05T18:07:05.683Z"
   },
   {
    "duration": 761,
    "start_time": "2022-02-05T18:07:05.694Z"
   },
   {
    "duration": 9,
    "start_time": "2022-02-05T18:07:06.457Z"
   },
   {
    "duration": 1767,
    "start_time": "2022-02-05T18:07:06.469Z"
   },
   {
    "duration": 52,
    "start_time": "2022-02-05T18:07:08.239Z"
   },
   {
    "duration": 2911,
    "start_time": "2022-02-05T18:07:08.293Z"
   },
   {
    "duration": 52,
    "start_time": "2022-02-05T18:07:11.206Z"
   },
   {
    "duration": 6343,
    "start_time": "2022-02-05T18:07:11.260Z"
   },
   {
    "duration": 49,
    "start_time": "2022-02-05T18:07:17.605Z"
   },
   {
    "duration": 1491,
    "start_time": "2022-02-05T18:07:17.656Z"
   },
   {
    "duration": 1015,
    "start_time": "2022-02-05T18:07:19.151Z"
   },
   {
    "duration": 201,
    "start_time": "2022-02-05T18:07:20.171Z"
   },
   {
    "duration": 568,
    "start_time": "2022-02-05T18:07:20.375Z"
   },
   {
    "duration": 30,
    "start_time": "2022-02-05T18:07:20.945Z"
   },
   {
    "duration": 600,
    "start_time": "2022-02-05T18:07:20.978Z"
   },
   {
    "duration": 601,
    "start_time": "2022-02-05T18:07:21.581Z"
   },
   {
    "duration": 323,
    "start_time": "2022-02-05T18:07:22.184Z"
   },
   {
    "duration": 909,
    "start_time": "2022-02-05T18:07:22.509Z"
   },
   {
    "duration": 61,
    "start_time": "2022-02-05T18:07:23.421Z"
   },
   {
    "duration": 557,
    "start_time": "2022-02-05T18:07:23.485Z"
   },
   {
    "duration": 38,
    "start_time": "2022-02-05T18:07:24.045Z"
   },
   {
    "duration": 139,
    "start_time": "2022-02-05T18:23:27.525Z"
   },
   {
    "duration": 39,
    "start_time": "2022-02-05T18:23:27.666Z"
   },
   {
    "duration": 25,
    "start_time": "2022-02-05T18:23:27.708Z"
   },
   {
    "duration": 7,
    "start_time": "2022-02-05T18:23:27.736Z"
   },
   {
    "duration": 317,
    "start_time": "2022-02-05T18:23:27.745Z"
   },
   {
    "duration": 7,
    "start_time": "2022-02-05T18:23:28.065Z"
   },
   {
    "duration": 5174,
    "start_time": "2022-02-05T18:23:28.075Z"
   },
   {
    "duration": 13,
    "start_time": "2022-02-05T18:23:33.253Z"
   },
   {
    "duration": 324,
    "start_time": "2022-02-05T18:23:33.269Z"
   },
   {
    "duration": 11068,
    "start_time": "2022-02-05T18:23:33.596Z"
   },
   {
    "duration": 5,
    "start_time": "2022-02-05T18:23:44.667Z"
   },
   {
    "duration": 620,
    "start_time": "2022-02-05T18:23:44.675Z"
   },
   {
    "duration": 5638,
    "start_time": "2022-02-05T18:23:45.298Z"
   },
   {
    "duration": 324,
    "start_time": "2022-02-05T18:23:50.939Z"
   },
   {
    "duration": 2430,
    "start_time": "2022-02-05T18:23:51.266Z"
   },
   {
    "duration": 7,
    "start_time": "2022-02-05T18:23:53.699Z"
   },
   {
    "duration": 1155,
    "start_time": "2022-02-05T18:23:53.710Z"
   },
   {
    "duration": 10,
    "start_time": "2022-02-05T18:23:54.868Z"
   },
   {
    "duration": 2062,
    "start_time": "2022-02-05T18:23:54.881Z"
   },
   {
    "duration": 48,
    "start_time": "2022-02-05T18:23:56.946Z"
   },
   {
    "duration": 2742,
    "start_time": "2022-02-05T18:23:56.996Z"
   },
   {
    "duration": 36,
    "start_time": "2022-02-05T18:23:59.741Z"
   },
   {
    "duration": 6316,
    "start_time": "2022-02-05T18:23:59.782Z"
   },
   {
    "duration": 51,
    "start_time": "2022-02-05T18:24:06.101Z"
   },
   {
    "duration": 1214,
    "start_time": "2022-02-05T18:24:06.154Z"
   },
   {
    "duration": 863,
    "start_time": "2022-02-05T18:24:07.370Z"
   },
   {
    "duration": 467,
    "start_time": "2022-02-05T18:24:08.235Z"
   },
   {
    "duration": 578,
    "start_time": "2022-02-05T18:24:08.704Z"
   },
   {
    "duration": 31,
    "start_time": "2022-02-05T18:24:09.285Z"
   },
   {
    "duration": 598,
    "start_time": "2022-02-05T18:24:09.318Z"
   },
   {
    "duration": 614,
    "start_time": "2022-02-05T18:24:09.918Z"
   },
   {
    "duration": 221,
    "start_time": "2022-02-05T18:24:10.535Z"
   },
   {
    "duration": 930,
    "start_time": "2022-02-05T18:24:10.759Z"
   },
   {
    "duration": 65,
    "start_time": "2022-02-05T18:24:11.692Z"
   },
   {
    "duration": 799,
    "start_time": "2022-02-05T18:24:11.759Z"
   },
   {
    "duration": 36,
    "start_time": "2022-02-05T18:24:12.560Z"
   },
   {
    "duration": 545,
    "start_time": "2022-02-05T19:37:09.376Z"
   },
   {
    "duration": 544,
    "start_time": "2022-02-05T19:37:44.914Z"
   },
   {
    "duration": 652,
    "start_time": "2022-02-05T19:47:56.743Z"
   },
   {
    "duration": 628,
    "start_time": "2022-02-05T19:49:15.986Z"
   },
   {
    "duration": 539,
    "start_time": "2022-02-05T20:08:20.650Z"
   },
   {
    "duration": 1103,
    "start_time": "2022-02-05T20:08:34.572Z"
   },
   {
    "duration": 595,
    "start_time": "2022-02-05T20:08:41.797Z"
   },
   {
    "duration": 670,
    "start_time": "2022-02-05T20:09:06.968Z"
   },
   {
    "duration": 563,
    "start_time": "2022-02-05T20:09:32.986Z"
   },
   {
    "duration": 659,
    "start_time": "2022-02-05T20:09:48.037Z"
   },
   {
    "duration": 610,
    "start_time": "2022-02-05T20:19:17.523Z"
   },
   {
    "duration": 680,
    "start_time": "2022-02-05T20:19:46.496Z"
   },
   {
    "duration": 121,
    "start_time": "2022-02-05T20:21:31.094Z"
   },
   {
    "duration": 45,
    "start_time": "2022-02-05T20:21:31.217Z"
   },
   {
    "duration": 5,
    "start_time": "2022-02-05T20:21:31.265Z"
   },
   {
    "duration": 9,
    "start_time": "2022-02-05T20:21:31.272Z"
   },
   {
    "duration": 323,
    "start_time": "2022-02-05T20:21:31.284Z"
   },
   {
    "duration": 8,
    "start_time": "2022-02-05T20:21:31.609Z"
   },
   {
    "duration": 4782,
    "start_time": "2022-02-05T20:21:31.619Z"
   },
   {
    "duration": 13,
    "start_time": "2022-02-05T20:21:36.403Z"
   },
   {
    "duration": 309,
    "start_time": "2022-02-05T20:21:36.433Z"
   },
   {
    "duration": 10613,
    "start_time": "2022-02-05T20:21:36.745Z"
   },
   {
    "duration": 5,
    "start_time": "2022-02-05T20:21:47.361Z"
   },
   {
    "duration": 607,
    "start_time": "2022-02-05T20:21:47.369Z"
   },
   {
    "duration": 5603,
    "start_time": "2022-02-05T20:21:47.978Z"
   },
   {
    "duration": 328,
    "start_time": "2022-02-05T20:21:53.584Z"
   },
   {
    "duration": 2080,
    "start_time": "2022-02-05T20:21:53.915Z"
   },
   {
    "duration": 8,
    "start_time": "2022-02-05T20:21:55.997Z"
   },
   {
    "duration": 749,
    "start_time": "2022-02-05T20:21:56.008Z"
   },
   {
    "duration": 10,
    "start_time": "2022-02-05T20:21:56.760Z"
   },
   {
    "duration": 1565,
    "start_time": "2022-02-05T20:21:56.773Z"
   },
   {
    "duration": 39,
    "start_time": "2022-02-05T20:21:58.340Z"
   },
   {
    "duration": 2670,
    "start_time": "2022-02-05T20:21:58.381Z"
   },
   {
    "duration": 38,
    "start_time": "2022-02-05T20:22:01.053Z"
   },
   {
    "duration": 6143,
    "start_time": "2022-02-05T20:22:01.094Z"
   },
   {
    "duration": 41,
    "start_time": "2022-02-05T20:22:07.240Z"
   },
   {
    "duration": 1431,
    "start_time": "2022-02-05T20:22:07.283Z"
   },
   {
    "duration": 853,
    "start_time": "2022-02-05T20:22:08.716Z"
   },
   {
    "duration": 216,
    "start_time": "2022-02-05T20:22:09.573Z"
   },
   {
    "duration": 566,
    "start_time": "2022-02-05T20:22:09.792Z"
   },
   {
    "duration": 30,
    "start_time": "2022-02-05T20:22:10.361Z"
   },
   {
    "duration": 598,
    "start_time": "2022-02-05T20:22:10.394Z"
   },
   {
    "duration": 589,
    "start_time": "2022-02-05T20:22:10.994Z"
   },
   {
    "duration": 223,
    "start_time": "2022-02-05T20:22:11.585Z"
   },
   {
    "duration": 1151,
    "start_time": "2022-02-05T20:22:11.810Z"
   },
   {
    "duration": 52,
    "start_time": "2022-02-05T20:22:12.964Z"
   },
   {
    "duration": 10,
    "start_time": "2022-02-05T20:22:13.032Z"
   },
   {
    "duration": 556,
    "start_time": "2022-02-05T20:22:13.044Z"
   },
   {
    "duration": 41,
    "start_time": "2022-02-05T20:22:13.602Z"
   },
   {
    "duration": 253,
    "start_time": "2022-02-05T20:32:42.171Z"
   },
   {
    "duration": 252,
    "start_time": "2022-02-05T20:33:18.035Z"
   },
   {
    "duration": 4647,
    "start_time": "2022-02-05T20:34:05.420Z"
   },
   {
    "duration": 239,
    "start_time": "2022-02-05T20:34:16.496Z"
   },
   {
    "duration": 7,
    "start_time": "2022-02-05T20:34:45.539Z"
   },
   {
    "duration": 244,
    "start_time": "2022-02-05T20:35:09.641Z"
   },
   {
    "duration": 2118,
    "start_time": "2022-02-05T20:35:31.585Z"
   },
   {
    "duration": 4622,
    "start_time": "2022-02-05T20:35:49.772Z"
   },
   {
    "duration": 4413,
    "start_time": "2022-02-05T20:36:13.156Z"
   },
   {
    "duration": 7,
    "start_time": "2022-02-05T20:36:28.626Z"
   },
   {
    "duration": 7,
    "start_time": "2022-02-05T20:36:34.146Z"
   },
   {
    "duration": 15,
    "start_time": "2022-02-05T20:36:54.242Z"
   },
   {
    "duration": 23,
    "start_time": "2022-02-05T20:37:53.399Z"
   },
   {
    "duration": 30,
    "start_time": "2022-02-05T21:07:02.492Z"
   },
   {
    "duration": 9,
    "start_time": "2022-02-05T21:07:58.965Z"
   },
   {
    "duration": 294,
    "start_time": "2022-02-05T21:27:31.597Z"
   },
   {
    "duration": 294,
    "start_time": "2022-02-05T21:27:37.357Z"
   },
   {
    "duration": 246,
    "start_time": "2022-02-05T21:27:42.230Z"
   },
   {
    "duration": 6,
    "start_time": "2022-02-05T21:27:48.240Z"
   },
   {
    "duration": 274,
    "start_time": "2022-02-05T21:29:02.236Z"
   },
   {
    "duration": 7,
    "start_time": "2022-02-05T21:29:55.252Z"
   },
   {
    "duration": 7,
    "start_time": "2022-02-05T21:30:14.810Z"
   },
   {
    "duration": 7,
    "start_time": "2022-02-05T21:44:14.807Z"
   },
   {
    "duration": 6,
    "start_time": "2022-02-05T21:44:20.747Z"
   },
   {
    "duration": 8,
    "start_time": "2022-02-05T21:44:29.323Z"
   },
   {
    "duration": 7,
    "start_time": "2022-02-05T21:44:44.006Z"
   },
   {
    "duration": 89,
    "start_time": "2022-02-05T21:52:42.419Z"
   },
   {
    "duration": 272,
    "start_time": "2022-02-05T21:52:48.749Z"
   },
   {
    "duration": 120,
    "start_time": "2022-02-05T21:53:04.126Z"
   },
   {
    "duration": 32,
    "start_time": "2022-02-05T21:53:30.331Z"
   },
   {
    "duration": 4499,
    "start_time": "2022-02-05T21:54:01.507Z"
   },
   {
    "duration": 4585,
    "start_time": "2022-02-05T21:55:06.541Z"
   },
   {
    "duration": 286,
    "start_time": "2022-02-05T21:57:35.223Z"
   },
   {
    "duration": 34,
    "start_time": "2022-02-05T21:57:43.765Z"
   },
   {
    "duration": 38,
    "start_time": "2022-02-05T21:58:39.458Z"
   },
   {
    "duration": 119,
    "start_time": "2022-02-05T21:58:59.365Z"
   },
   {
    "duration": 47,
    "start_time": "2022-02-05T21:58:59.487Z"
   },
   {
    "duration": 4,
    "start_time": "2022-02-05T21:58:59.537Z"
   },
   {
    "duration": 6,
    "start_time": "2022-02-05T21:58:59.543Z"
   },
   {
    "duration": 307,
    "start_time": "2022-02-05T21:58:59.552Z"
   },
   {
    "duration": 8,
    "start_time": "2022-02-05T21:58:59.862Z"
   },
   {
    "duration": 4829,
    "start_time": "2022-02-05T21:58:59.873Z"
   },
   {
    "duration": 12,
    "start_time": "2022-02-05T21:59:04.704Z"
   },
   {
    "duration": 302,
    "start_time": "2022-02-05T21:59:04.733Z"
   },
   {
    "duration": 10457,
    "start_time": "2022-02-05T21:59:05.039Z"
   },
   {
    "duration": 6,
    "start_time": "2022-02-05T21:59:15.498Z"
   },
   {
    "duration": 611,
    "start_time": "2022-02-05T21:59:15.506Z"
   },
   {
    "duration": 5488,
    "start_time": "2022-02-05T21:59:16.119Z"
   },
   {
    "duration": 331,
    "start_time": "2022-02-05T21:59:21.610Z"
   },
   {
    "duration": 2057,
    "start_time": "2022-02-05T21:59:21.943Z"
   },
   {
    "duration": 5,
    "start_time": "2022-02-05T21:59:24.002Z"
   },
   {
    "duration": 746,
    "start_time": "2022-02-05T21:59:24.010Z"
   },
   {
    "duration": 8,
    "start_time": "2022-02-05T21:59:24.758Z"
   },
   {
    "duration": 1631,
    "start_time": "2022-02-05T21:59:24.769Z"
   },
   {
    "duration": 47,
    "start_time": "2022-02-05T21:59:26.402Z"
   },
   {
    "duration": 2503,
    "start_time": "2022-02-05T21:59:26.451Z"
   },
   {
    "duration": 39,
    "start_time": "2022-02-05T21:59:28.957Z"
   },
   {
    "duration": 6344,
    "start_time": "2022-02-05T21:59:28.999Z"
   },
   {
    "duration": 40,
    "start_time": "2022-02-05T21:59:35.346Z"
   },
   {
    "duration": 1199,
    "start_time": "2022-02-05T21:59:35.390Z"
   },
   {
    "duration": 845,
    "start_time": "2022-02-05T21:59:36.592Z"
   },
   {
    "duration": 209,
    "start_time": "2022-02-05T21:59:37.442Z"
   },
   {
    "duration": 572,
    "start_time": "2022-02-05T21:59:37.654Z"
   },
   {
    "duration": 31,
    "start_time": "2022-02-05T21:59:38.229Z"
   },
   {
    "duration": 599,
    "start_time": "2022-02-05T21:59:38.263Z"
   },
   {
    "duration": 600,
    "start_time": "2022-02-05T21:59:38.864Z"
   },
   {
    "duration": 529,
    "start_time": "2022-02-05T21:59:39.466Z"
   },
   {
    "duration": 936,
    "start_time": "2022-02-05T21:59:39.998Z"
   },
   {
    "duration": 51,
    "start_time": "2022-02-05T21:59:40.937Z"
   },
   {
    "duration": 9,
    "start_time": "2022-02-05T21:59:40.990Z"
   },
   {
    "duration": 569,
    "start_time": "2022-02-05T21:59:41.002Z"
   },
   {
    "duration": 26,
    "start_time": "2022-02-05T21:59:41.573Z"
   },
   {
    "duration": 57,
    "start_time": "2022-02-05T21:59:41.601Z"
   },
   {
    "duration": 5,
    "start_time": "2022-02-05T21:59:41.660Z"
   },
   {
    "duration": 34,
    "start_time": "2022-02-05T21:59:41.668Z"
   },
   {
    "duration": 284,
    "start_time": "2022-02-05T22:50:29.277Z"
   },
   {
    "duration": 289,
    "start_time": "2022-02-05T22:51:07.556Z"
   },
   {
    "duration": 318,
    "start_time": "2022-02-05T22:51:22.382Z"
   },
   {
    "duration": 34,
    "start_time": "2022-02-05T22:52:29.740Z"
   },
   {
    "duration": 279,
    "start_time": "2022-02-05T22:52:53.491Z"
   },
   {
    "duration": 329,
    "start_time": "2022-02-05T22:53:07.097Z"
   },
   {
    "duration": 36,
    "start_time": "2022-02-05T22:53:20.737Z"
   },
   {
    "duration": 78,
    "start_time": "2022-02-05T23:02:54.629Z"
   },
   {
    "duration": 278,
    "start_time": "2022-02-05T23:03:06.972Z"
   },
   {
    "duration": 264,
    "start_time": "2022-02-05T23:03:32.879Z"
   },
   {
    "duration": 118,
    "start_time": "2022-02-05T23:03:43.972Z"
   },
   {
    "duration": 52,
    "start_time": "2022-02-05T23:03:44.093Z"
   },
   {
    "duration": 5,
    "start_time": "2022-02-05T23:03:44.148Z"
   },
   {
    "duration": 6,
    "start_time": "2022-02-05T23:03:44.155Z"
   },
   {
    "duration": 314,
    "start_time": "2022-02-05T23:03:44.164Z"
   },
   {
    "duration": 7,
    "start_time": "2022-02-05T23:03:44.480Z"
   },
   {
    "duration": 4785,
    "start_time": "2022-02-05T23:03:44.490Z"
   },
   {
    "duration": 15,
    "start_time": "2022-02-05T23:03:49.279Z"
   },
   {
    "duration": 321,
    "start_time": "2022-02-05T23:03:49.298Z"
   },
   {
    "duration": 10639,
    "start_time": "2022-02-05T23:03:49.622Z"
   },
   {
    "duration": 6,
    "start_time": "2022-02-05T23:04:00.263Z"
   },
   {
    "duration": 621,
    "start_time": "2022-02-05T23:04:00.272Z"
   },
   {
    "duration": 5562,
    "start_time": "2022-02-05T23:04:00.896Z"
   },
   {
    "duration": 324,
    "start_time": "2022-02-05T23:04:06.461Z"
   },
   {
    "duration": -10,
    "start_time": "2022-02-05T23:04:12.642Z"
   },
   {
    "duration": 243,
    "start_time": "2022-02-05T23:04:27.059Z"
   },
   {
    "duration": 258,
    "start_time": "2022-02-05T23:04:50.267Z"
   },
   {
    "duration": 30,
    "start_time": "2022-02-05T23:04:56.521Z"
   },
   {
    "duration": 261,
    "start_time": "2022-02-05T23:05:16.798Z"
   },
   {
    "duration": 132,
    "start_time": "2022-02-05T23:05:24.040Z"
   },
   {
    "duration": 37,
    "start_time": "2022-02-05T23:05:24.175Z"
   },
   {
    "duration": 5,
    "start_time": "2022-02-05T23:05:24.234Z"
   },
   {
    "duration": 7,
    "start_time": "2022-02-05T23:05:24.242Z"
   },
   {
    "duration": 324,
    "start_time": "2022-02-05T23:05:24.252Z"
   },
   {
    "duration": 8,
    "start_time": "2022-02-05T23:05:24.579Z"
   },
   {
    "duration": 6371,
    "start_time": "2022-02-05T23:05:24.589Z"
   },
   {
    "duration": 14,
    "start_time": "2022-02-05T23:05:30.963Z"
   },
   {
    "duration": 316,
    "start_time": "2022-02-05T23:05:30.981Z"
   },
   {
    "duration": 10599,
    "start_time": "2022-02-05T23:05:31.300Z"
   },
   {
    "duration": 5,
    "start_time": "2022-02-05T23:05:41.902Z"
   },
   {
    "duration": 675,
    "start_time": "2022-02-05T23:05:41.909Z"
   },
   {
    "duration": 5522,
    "start_time": "2022-02-05T23:05:42.587Z"
   },
   {
    "duration": 324,
    "start_time": "2022-02-05T23:05:48.112Z"
   },
   {
    "duration": 6494,
    "start_time": "2022-02-05T23:05:48.439Z"
   },
   {
    "duration": 4,
    "start_time": "2022-02-05T23:05:54.931Z"
   },
   {
    "duration": 115,
    "start_time": "2022-02-05T23:06:20.079Z"
   },
   {
    "duration": 2092,
    "start_time": "2022-02-05T23:06:24.224Z"
   },
   {
    "duration": 34,
    "start_time": "2022-02-05T23:06:30.644Z"
   },
   {
    "duration": 242,
    "start_time": "2022-02-05T23:08:36.233Z"
   },
   {
    "duration": 811,
    "start_time": "2022-02-05T23:13:27.876Z"
   },
   {
    "duration": 892,
    "start_time": "2022-02-05T23:14:20.174Z"
   },
   {
    "duration": 2413,
    "start_time": "2022-02-05T23:14:40.672Z"
   },
   {
    "duration": 567,
    "start_time": "2022-02-05T23:15:24.193Z"
   },
   {
    "duration": 32,
    "start_time": "2022-02-05T23:15:33.172Z"
   },
   {
    "duration": 2564,
    "start_time": "2022-02-05T23:16:37.048Z"
   },
   {
    "duration": 97,
    "start_time": "2022-02-05T23:17:52.039Z"
   },
   {
    "duration": 2820,
    "start_time": "2022-02-05T23:17:56.740Z"
   },
   {
    "duration": 654,
    "start_time": "2022-02-05T23:18:28.689Z"
   },
   {
    "duration": 615,
    "start_time": "2022-02-05T23:18:34.587Z"
   },
   {
    "duration": 2123,
    "start_time": "2022-02-05T23:20:25.914Z"
   },
   {
    "duration": 677,
    "start_time": "2022-02-05T23:20:33.477Z"
   },
   {
    "duration": 825,
    "start_time": "2022-02-05T23:20:41.579Z"
   },
   {
    "duration": 2601,
    "start_time": "2022-02-05T23:20:46.058Z"
   },
   {
    "duration": 2563,
    "start_time": "2022-02-05T23:21:10.791Z"
   },
   {
    "duration": 620,
    "start_time": "2022-02-05T23:21:35.741Z"
   },
   {
    "duration": 110,
    "start_time": "2022-02-05T23:21:49.373Z"
   },
   {
    "duration": 590,
    "start_time": "2022-02-05T23:21:53.384Z"
   },
   {
    "duration": 648,
    "start_time": "2022-02-05T23:21:59.172Z"
   },
   {
    "duration": 22,
    "start_time": "2022-02-05T23:23:01.727Z"
   },
   {
    "duration": 609,
    "start_time": "2022-02-05T23:25:29.928Z"
   },
   {
    "duration": 231,
    "start_time": "2022-02-05T23:25:49.178Z"
   },
   {
    "duration": 273,
    "start_time": "2022-02-05T23:25:53.694Z"
   },
   {
    "duration": 806,
    "start_time": "2022-02-05T23:26:04.372Z"
   },
   {
    "duration": 22,
    "start_time": "2022-02-05T23:28:12.191Z"
   },
   {
    "duration": 120,
    "start_time": "2022-02-05T23:29:59.071Z"
   },
   {
    "duration": 49,
    "start_time": "2022-02-05T23:29:59.194Z"
   },
   {
    "duration": 5,
    "start_time": "2022-02-05T23:29:59.246Z"
   },
   {
    "duration": 8,
    "start_time": "2022-02-05T23:29:59.254Z"
   },
   {
    "duration": 331,
    "start_time": "2022-02-05T23:29:59.264Z"
   },
   {
    "duration": 8,
    "start_time": "2022-02-05T23:29:59.597Z"
   },
   {
    "duration": 4984,
    "start_time": "2022-02-05T23:29:59.608Z"
   },
   {
    "duration": 14,
    "start_time": "2022-02-05T23:30:04.594Z"
   },
   {
    "duration": 337,
    "start_time": "2022-02-05T23:30:04.612Z"
   },
   {
    "duration": 12068,
    "start_time": "2022-02-05T23:30:04.952Z"
   },
   {
    "duration": 10,
    "start_time": "2022-02-05T23:30:17.022Z"
   },
   {
    "duration": 585,
    "start_time": "2022-02-05T23:30:17.035Z"
   },
   {
    "duration": 5458,
    "start_time": "2022-02-05T23:30:17.622Z"
   },
   {
    "duration": 332,
    "start_time": "2022-02-05T23:30:23.082Z"
   },
   {
    "duration": 2057,
    "start_time": "2022-02-05T23:30:23.416Z"
   },
   {
    "duration": 29,
    "start_time": "2022-02-05T23:30:25.475Z"
   },
   {
    "duration": 8,
    "start_time": "2022-02-05T23:30:25.506Z"
   },
   {
    "duration": 713,
    "start_time": "2022-02-05T23:30:25.532Z"
   },
   {
    "duration": 10,
    "start_time": "2022-02-05T23:30:26.248Z"
   },
   {
    "duration": 1544,
    "start_time": "2022-02-05T23:30:26.260Z"
   },
   {
    "duration": 52,
    "start_time": "2022-02-05T23:30:27.807Z"
   },
   {
    "duration": 2483,
    "start_time": "2022-02-05T23:30:27.861Z"
   },
   {
    "duration": 38,
    "start_time": "2022-02-05T23:30:30.347Z"
   },
   {
    "duration": 6076,
    "start_time": "2022-02-05T23:30:30.388Z"
   },
   {
    "duration": 39,
    "start_time": "2022-02-05T23:30:36.467Z"
   },
   {
    "duration": 1439,
    "start_time": "2022-02-05T23:30:36.508Z"
   },
   {
    "duration": 856,
    "start_time": "2022-02-05T23:30:37.952Z"
   },
   {
    "duration": 208,
    "start_time": "2022-02-05T23:30:38.811Z"
   },
   {
    "duration": 569,
    "start_time": "2022-02-05T23:30:39.022Z"
   },
   {
    "duration": 30,
    "start_time": "2022-02-05T23:30:39.593Z"
   },
   {
    "duration": 585,
    "start_time": "2022-02-05T23:30:39.632Z"
   },
   {
    "duration": 572,
    "start_time": "2022-02-05T23:30:40.219Z"
   },
   {
    "duration": 210,
    "start_time": "2022-02-05T23:30:40.794Z"
   },
   {
    "duration": 907,
    "start_time": "2022-02-05T23:30:41.007Z"
   },
   {
    "duration": 58,
    "start_time": "2022-02-05T23:30:41.917Z"
   },
   {
    "duration": 13,
    "start_time": "2022-02-05T23:30:41.978Z"
   },
   {
    "duration": 578,
    "start_time": "2022-02-05T23:30:41.994Z"
   },
   {
    "duration": 23,
    "start_time": "2022-02-05T23:30:42.574Z"
   },
   {
    "duration": 60,
    "start_time": "2022-02-05T23:30:42.599Z"
   },
   {
    "duration": 826,
    "start_time": "2022-02-05T23:30:42.661Z"
   },
   {
    "duration": 19,
    "start_time": "2022-02-05T23:30:43.490Z"
   },
   {
    "duration": 54,
    "start_time": "2022-02-05T23:30:43.511Z"
   },
   {
    "duration": 619,
    "start_time": "2022-02-05T23:32:15.654Z"
   },
   {
    "duration": 786,
    "start_time": "2022-02-05T23:33:36.857Z"
   },
   {
    "duration": 595,
    "start_time": "2022-02-05T23:34:32.531Z"
   },
   {
    "duration": 806,
    "start_time": "2022-02-05T23:35:32.599Z"
   },
   {
    "duration": 905,
    "start_time": "2022-02-05T23:36:02.119Z"
   },
   {
    "duration": 80,
    "start_time": "2022-02-05T23:39:10.167Z"
   },
   {
    "duration": 91,
    "start_time": "2022-02-05T23:39:44.914Z"
   },
   {
    "duration": 82,
    "start_time": "2022-02-05T23:40:02.892Z"
   },
   {
    "duration": 21,
    "start_time": "2022-02-05T23:40:45.902Z"
   },
   {
    "duration": 21,
    "start_time": "2022-02-05T23:40:54.513Z"
   },
   {
    "duration": 21,
    "start_time": "2022-02-05T23:40:59.958Z"
   },
   {
    "duration": 22,
    "start_time": "2022-02-05T23:41:43.811Z"
   },
   {
    "duration": 36,
    "start_time": "2022-02-05T23:41:48.648Z"
   },
   {
    "duration": 19,
    "start_time": "2022-02-05T23:42:30.593Z"
   },
   {
    "duration": 20,
    "start_time": "2022-02-05T23:43:01.190Z"
   },
   {
    "duration": 20,
    "start_time": "2022-02-05T23:43:06.061Z"
   },
   {
    "duration": 43,
    "start_time": "2022-02-05T23:43:16.732Z"
   },
   {
    "duration": 21,
    "start_time": "2022-02-05T23:43:25.120Z"
   },
   {
    "duration": 20,
    "start_time": "2022-02-05T23:43:37.103Z"
   },
   {
    "duration": 36,
    "start_time": "2022-02-05T23:43:47.138Z"
   },
   {
    "duration": 38,
    "start_time": "2022-02-05T23:44:11.259Z"
   },
   {
    "duration": 37,
    "start_time": "2022-02-05T23:44:17.097Z"
   },
   {
    "duration": -12,
    "start_time": "2022-02-05T23:44:37.410Z"
   },
   {
    "duration": 286,
    "start_time": "2022-02-05T23:45:37.243Z"
   },
   {
    "duration": 53,
    "start_time": "2022-02-05T23:45:44.357Z"
   },
   {
    "duration": 172,
    "start_time": "2022-02-05T23:46:32.385Z"
   },
   {
    "duration": 649,
    "start_time": "2022-02-05T23:46:52.990Z"
   },
   {
    "duration": 592,
    "start_time": "2022-02-05T23:47:47.482Z"
   },
   {
    "duration": 594,
    "start_time": "2022-02-05T23:48:01.070Z"
   },
   {
    "duration": 249,
    "start_time": "2022-02-05T23:51:29.073Z"
   },
   {
    "duration": 251,
    "start_time": "2022-02-05T23:51:38.242Z"
   },
   {
    "duration": 602,
    "start_time": "2022-02-05T23:51:52.199Z"
   },
   {
    "duration": 625,
    "start_time": "2022-02-05T23:52:04.169Z"
   },
   {
    "duration": 613,
    "start_time": "2022-02-05T23:52:18.087Z"
   },
   {
    "duration": 647,
    "start_time": "2022-02-05T23:52:34.796Z"
   },
   {
    "duration": 633,
    "start_time": "2022-02-05T23:53:57.234Z"
   },
   {
    "duration": 578,
    "start_time": "2022-02-05T23:54:12.621Z"
   },
   {
    "duration": 587,
    "start_time": "2022-02-05T23:55:32.286Z"
   },
   {
    "duration": 1183,
    "start_time": "2022-02-06T13:06:07.522Z"
   },
   {
    "duration": 27,
    "start_time": "2022-02-06T13:06:08.708Z"
   },
   {
    "duration": 22,
    "start_time": "2022-02-06T13:06:08.737Z"
   },
   {
    "duration": 3,
    "start_time": "2022-02-06T13:06:08.761Z"
   },
   {
    "duration": 183,
    "start_time": "2022-02-06T13:06:08.766Z"
   },
   {
    "duration": 9,
    "start_time": "2022-02-06T13:06:08.951Z"
   },
   {
    "duration": 3742,
    "start_time": "2022-02-06T13:06:08.963Z"
   },
   {
    "duration": 13,
    "start_time": "2022-02-06T13:06:12.707Z"
   },
   {
    "duration": 192,
    "start_time": "2022-02-06T13:06:12.723Z"
   },
   {
    "duration": 5729,
    "start_time": "2022-02-06T13:06:12.917Z"
   },
   {
    "duration": 11,
    "start_time": "2022-02-06T13:06:18.648Z"
   },
   {
    "duration": 343,
    "start_time": "2022-02-06T13:06:18.661Z"
   },
   {
    "duration": 3039,
    "start_time": "2022-02-06T13:06:19.006Z"
   },
   {
    "duration": 184,
    "start_time": "2022-02-06T13:06:22.047Z"
   },
   {
    "duration": 1131,
    "start_time": "2022-02-06T13:06:22.233Z"
   },
   {
    "duration": 20,
    "start_time": "2022-02-06T13:06:23.365Z"
   },
   {
    "duration": 6,
    "start_time": "2022-02-06T13:06:23.387Z"
   },
   {
    "duration": 436,
    "start_time": "2022-02-06T13:06:23.395Z"
   },
   {
    "duration": 7,
    "start_time": "2022-02-06T13:06:23.833Z"
   },
   {
    "duration": 964,
    "start_time": "2022-02-06T13:06:23.842Z"
   },
   {
    "duration": 28,
    "start_time": "2022-02-06T13:06:24.808Z"
   },
   {
    "duration": 1792,
    "start_time": "2022-02-06T13:06:24.838Z"
   },
   {
    "duration": 31,
    "start_time": "2022-02-06T13:06:26.633Z"
   },
   {
    "duration": 3555,
    "start_time": "2022-02-06T13:06:26.666Z"
   },
   {
    "duration": 36,
    "start_time": "2022-02-06T13:06:30.223Z"
   },
   {
    "duration": 753,
    "start_time": "2022-02-06T13:06:30.261Z"
   },
   {
    "duration": 532,
    "start_time": "2022-02-06T13:06:31.015Z"
   },
   {
    "duration": 129,
    "start_time": "2022-02-06T13:06:31.549Z"
   },
   {
    "duration": 585,
    "start_time": "2022-02-06T13:06:31.680Z"
   },
   {
    "duration": 19,
    "start_time": "2022-02-06T13:06:32.266Z"
   },
   {
    "duration": 361,
    "start_time": "2022-02-06T13:06:32.286Z"
   },
   {
    "duration": 333,
    "start_time": "2022-02-06T13:06:32.649Z"
   },
   {
    "duration": 138,
    "start_time": "2022-02-06T13:06:32.984Z"
   },
   {
    "duration": 559,
    "start_time": "2022-02-06T13:06:33.123Z"
   },
   {
    "duration": 37,
    "start_time": "2022-02-06T13:06:33.684Z"
   },
   {
    "duration": 8,
    "start_time": "2022-02-06T13:06:33.722Z"
   },
   {
    "duration": 342,
    "start_time": "2022-02-06T13:06:33.732Z"
   },
   {
    "duration": 18,
    "start_time": "2022-02-06T13:06:34.076Z"
   },
   {
    "duration": 26,
    "start_time": "2022-02-06T13:06:34.096Z"
   },
   {
    "duration": 454,
    "start_time": "2022-02-06T13:06:34.124Z"
   },
   {
    "duration": 481,
    "start_time": "2022-02-06T13:06:34.580Z"
   },
   {
    "duration": 23,
    "start_time": "2022-02-06T13:06:35.063Z"
   },
   {
    "duration": 433,
    "start_time": "2022-02-06T13:09:34.219Z"
   },
   {
    "duration": 405,
    "start_time": "2022-02-06T13:09:42.746Z"
   },
   {
    "duration": 440,
    "start_time": "2022-02-06T13:09:50.721Z"
   },
   {
    "duration": 266,
    "start_time": "2022-02-06T13:12:15.544Z"
   },
   {
    "duration": 23,
    "start_time": "2022-02-06T13:12:52.415Z"
   },
   {
    "duration": 193,
    "start_time": "2022-02-06T13:13:16.692Z"
   },
   {
    "duration": 6,
    "start_time": "2022-02-06T13:13:30.733Z"
   },
   {
    "duration": 66,
    "start_time": "2022-02-06T13:13:57.215Z"
   },
   {
    "duration": 48,
    "start_time": "2022-02-06T13:14:06.584Z"
   },
   {
    "duration": 53,
    "start_time": "2022-02-06T13:14:40.055Z"
   },
   {
    "duration": 349,
    "start_time": "2022-02-06T13:16:11.435Z"
   },
   {
    "duration": 16,
    "start_time": "2022-02-06T13:16:26.045Z"
   },
   {
    "duration": 482,
    "start_time": "2022-02-06T13:18:15.079Z"
   },
   {
    "duration": 408,
    "start_time": "2022-02-06T13:19:15.957Z"
   },
   {
    "duration": 399,
    "start_time": "2022-02-06T13:19:42.373Z"
   },
   {
    "duration": 3538,
    "start_time": "2022-02-06T13:22:05.083Z"
   },
   {
    "duration": 3292,
    "start_time": "2022-02-06T13:22:46.691Z"
   },
   {
    "duration": 1746,
    "start_time": "2022-02-06T13:23:32.323Z"
   },
   {
    "duration": 1857,
    "start_time": "2022-02-06T13:26:04.794Z"
   },
   {
    "duration": 15,
    "start_time": "2022-02-06T13:27:30.215Z"
   },
   {
    "duration": 197,
    "start_time": "2022-02-06T13:28:58.432Z"
   },
   {
    "duration": 163,
    "start_time": "2022-02-06T13:29:11.199Z"
   },
   {
    "duration": 160,
    "start_time": "2022-02-06T13:30:36.552Z"
   },
   {
    "duration": 381,
    "start_time": "2022-02-06T13:35:02.773Z"
   },
   {
    "duration": 175,
    "start_time": "2022-02-06T13:35:42.342Z"
   },
   {
    "duration": 174,
    "start_time": "2022-02-06T13:36:56.623Z"
   },
   {
    "duration": 203,
    "start_time": "2022-02-06T13:37:01.495Z"
   },
   {
    "duration": 163,
    "start_time": "2022-02-06T13:37:12.320Z"
   },
   {
    "duration": 236,
    "start_time": "2022-02-06T13:37:17.686Z"
   },
   {
    "duration": 166,
    "start_time": "2022-02-06T13:37:20.453Z"
   },
   {
    "duration": 160,
    "start_time": "2022-02-06T13:37:32.384Z"
   },
   {
    "duration": 179,
    "start_time": "2022-02-06T13:37:45.137Z"
   },
   {
    "duration": 164,
    "start_time": "2022-02-06T13:38:52.126Z"
   },
   {
    "duration": 274,
    "start_time": "2022-02-06T13:39:09.444Z"
   },
   {
    "duration": 227,
    "start_time": "2022-02-06T13:39:24.761Z"
   },
   {
    "duration": 221,
    "start_time": "2022-02-06T13:39:51.106Z"
   },
   {
    "duration": 5,
    "start_time": "2022-02-06T13:44:13.529Z"
   },
   {
    "duration": 9,
    "start_time": "2022-02-06T13:44:16.909Z"
   },
   {
    "duration": 11,
    "start_time": "2022-02-06T13:44:37.809Z"
   },
   {
    "duration": 8,
    "start_time": "2022-02-06T13:44:48.347Z"
   },
   {
    "duration": 9,
    "start_time": "2022-02-06T13:47:20.320Z"
   },
   {
    "duration": 9,
    "start_time": "2022-02-06T13:47:31.124Z"
   },
   {
    "duration": 7,
    "start_time": "2022-02-06T13:53:19.867Z"
   },
   {
    "duration": 254,
    "start_time": "2022-02-06T13:55:42.489Z"
   },
   {
    "duration": 196,
    "start_time": "2022-02-06T13:55:49.299Z"
   },
   {
    "duration": 187,
    "start_time": "2022-02-06T13:55:54.906Z"
   },
   {
    "duration": 230,
    "start_time": "2022-02-06T13:56:09.607Z"
   },
   {
    "duration": 9,
    "start_time": "2022-02-06T13:56:18.699Z"
   },
   {
    "duration": 10,
    "start_time": "2022-02-06T13:56:35.744Z"
   },
   {
    "duration": 9,
    "start_time": "2022-02-06T13:56:49.193Z"
   },
   {
    "duration": 10,
    "start_time": "2022-02-06T13:57:15.188Z"
   },
   {
    "duration": 9,
    "start_time": "2022-02-06T13:57:19.128Z"
   },
   {
    "duration": 11,
    "start_time": "2022-02-06T14:02:15.891Z"
   },
   {
    "duration": 9,
    "start_time": "2022-02-06T14:02:27.888Z"
   },
   {
    "duration": 8,
    "start_time": "2022-02-06T14:02:50.168Z"
   },
   {
    "duration": 9,
    "start_time": "2022-02-06T14:03:54.373Z"
   },
   {
    "duration": 13,
    "start_time": "2022-02-06T14:04:12.358Z"
   },
   {
    "duration": 63,
    "start_time": "2022-02-06T14:06:47.436Z"
   },
   {
    "duration": 180,
    "start_time": "2022-02-06T14:06:57.714Z"
   },
   {
    "duration": 17,
    "start_time": "2022-02-06T14:08:38.041Z"
   },
   {
    "duration": 18,
    "start_time": "2022-02-06T14:08:50.773Z"
   },
   {
    "duration": 15,
    "start_time": "2022-02-06T14:09:32.386Z"
   },
   {
    "duration": 10,
    "start_time": "2022-02-06T14:09:46.835Z"
   },
   {
    "duration": 428,
    "start_time": "2022-02-06T14:10:00.709Z"
   },
   {
    "duration": 203,
    "start_time": "2022-02-06T14:10:47.800Z"
   },
   {
    "duration": 10,
    "start_time": "2022-02-06T14:10:50.711Z"
   },
   {
    "duration": 26,
    "start_time": "2022-02-06T14:11:08.244Z"
   },
   {
    "duration": 27,
    "start_time": "2022-02-06T14:12:15.609Z"
   },
   {
    "duration": 29,
    "start_time": "2022-02-06T14:12:40.686Z"
   },
   {
    "duration": 26,
    "start_time": "2022-02-06T14:12:54.460Z"
   },
   {
    "duration": 252,
    "start_time": "2022-02-06T14:14:38.954Z"
   },
   {
    "duration": 28,
    "start_time": "2022-02-06T14:14:43.741Z"
   },
   {
    "duration": 27,
    "start_time": "2022-02-06T14:14:51.427Z"
   },
   {
    "duration": 29,
    "start_time": "2022-02-06T14:16:47.486Z"
   },
   {
    "duration": 63,
    "start_time": "2022-02-06T14:16:58.943Z"
   },
   {
    "duration": 34,
    "start_time": "2022-02-06T14:17:12.229Z"
   },
   {
    "duration": 34,
    "start_time": "2022-02-06T14:17:35.426Z"
   },
   {
    "duration": 5,
    "start_time": "2022-02-06T14:19:38.571Z"
   },
   {
    "duration": 170,
    "start_time": "2022-02-06T14:20:32.498Z"
   },
   {
    "duration": 5,
    "start_time": "2022-02-06T14:20:38.464Z"
   },
   {
    "duration": 4,
    "start_time": "2022-02-06T14:21:03.620Z"
   },
   {
    "duration": 4,
    "start_time": "2022-02-06T14:21:29.828Z"
   },
   {
    "duration": 4,
    "start_time": "2022-02-06T14:21:42.786Z"
   },
   {
    "duration": 5,
    "start_time": "2022-02-06T14:21:49.283Z"
   },
   {
    "duration": 213,
    "start_time": "2022-02-06T14:22:41.783Z"
   },
   {
    "duration": 173,
    "start_time": "2022-02-06T14:23:26.725Z"
   },
   {
    "duration": 178,
    "start_time": "2022-02-06T14:23:52.576Z"
   },
   {
    "duration": 310,
    "start_time": "2022-02-06T14:25:11.942Z"
   },
   {
    "duration": 170,
    "start_time": "2022-02-06T14:25:28.370Z"
   },
   {
    "duration": 167,
    "start_time": "2022-02-06T14:27:32.752Z"
   },
   {
    "duration": 176,
    "start_time": "2022-02-06T14:27:41.117Z"
   },
   {
    "duration": 192,
    "start_time": "2022-02-06T14:27:47.086Z"
   },
   {
    "duration": 191,
    "start_time": "2022-02-06T14:28:41.476Z"
   },
   {
    "duration": 188,
    "start_time": "2022-02-06T14:29:19.726Z"
   },
   {
    "duration": 217,
    "start_time": "2022-02-06T14:29:26.947Z"
   },
   {
    "duration": 3,
    "start_time": "2022-02-06T14:31:19.503Z"
   },
   {
    "duration": 34,
    "start_time": "2022-02-06T14:31:26.783Z"
   },
   {
    "duration": 173,
    "start_time": "2022-02-06T14:36:03.595Z"
   },
   {
    "duration": 168,
    "start_time": "2022-02-06T14:38:28.520Z"
   },
   {
    "duration": 190,
    "start_time": "2022-02-06T14:38:42.594Z"
   },
   {
    "duration": 4625,
    "start_time": "2022-02-06T14:39:19.160Z"
   },
   {
    "duration": 176,
    "start_time": "2022-02-06T14:39:38.766Z"
   },
   {
    "duration": 14,
    "start_time": "2022-02-06T14:39:51.558Z"
   },
   {
    "duration": 4,
    "start_time": "2022-02-06T15:09:59.051Z"
   },
   {
    "duration": 3,
    "start_time": "2022-02-06T15:10:09.432Z"
   },
   {
    "duration": 190,
    "start_time": "2022-02-06T15:20:00.712Z"
   },
   {
    "duration": 176,
    "start_time": "2022-02-06T15:20:10.505Z"
   },
   {
    "duration": 4,
    "start_time": "2022-02-06T15:20:19.042Z"
   },
   {
    "duration": 24,
    "start_time": "2022-02-06T15:20:22.672Z"
   },
   {
    "duration": 59,
    "start_time": "2022-02-06T15:21:09.754Z"
   },
   {
    "duration": 181,
    "start_time": "2022-02-06T15:21:15.845Z"
   },
   {
    "duration": 3,
    "start_time": "2022-02-06T15:21:21.204Z"
   },
   {
    "duration": 91,
    "start_time": "2022-02-06T15:21:21.212Z"
   },
   {
    "duration": 24,
    "start_time": "2022-02-06T15:21:21.304Z"
   },
   {
    "duration": 30,
    "start_time": "2022-02-06T15:21:21.330Z"
   },
   {
    "duration": 8,
    "start_time": "2022-02-06T15:21:21.362Z"
   },
   {
    "duration": 8,
    "start_time": "2022-02-06T15:21:21.372Z"
   },
   {
    "duration": 6,
    "start_time": "2022-02-06T15:21:21.381Z"
   },
   {
    "duration": 3569,
    "start_time": "2022-02-06T15:21:21.389Z"
   },
   {
    "duration": 9,
    "start_time": "2022-02-06T15:21:24.961Z"
   },
   {
    "duration": 8,
    "start_time": "2022-02-06T15:21:24.972Z"
   },
   {
    "duration": 146,
    "start_time": "2022-02-06T15:21:24.982Z"
   },
   {
    "duration": 4,
    "start_time": "2022-02-06T15:21:25.129Z"
   },
   {
    "duration": 692,
    "start_time": "2022-02-06T15:21:25.135Z"
   },
   {
    "duration": -31,
    "start_time": "2022-02-06T15:21:25.861Z"
   },
   {
    "duration": -33,
    "start_time": "2022-02-06T15:21:25.864Z"
   },
   {
    "duration": -38,
    "start_time": "2022-02-06T15:21:25.870Z"
   },
   {
    "duration": -40,
    "start_time": "2022-02-06T15:21:25.873Z"
   },
   {
    "duration": -42,
    "start_time": "2022-02-06T15:21:25.876Z"
   },
   {
    "duration": -43,
    "start_time": "2022-02-06T15:21:25.878Z"
   },
   {
    "duration": -44,
    "start_time": "2022-02-06T15:21:25.880Z"
   },
   {
    "duration": -48,
    "start_time": "2022-02-06T15:21:25.885Z"
   },
   {
    "duration": -50,
    "start_time": "2022-02-06T15:21:25.888Z"
   },
   {
    "duration": -50,
    "start_time": "2022-02-06T15:21:25.889Z"
   },
   {
    "duration": -52,
    "start_time": "2022-02-06T15:21:25.892Z"
   },
   {
    "duration": -53,
    "start_time": "2022-02-06T15:21:25.894Z"
   },
   {
    "duration": -65,
    "start_time": "2022-02-06T15:21:25.906Z"
   },
   {
    "duration": -66,
    "start_time": "2022-02-06T15:21:25.909Z"
   },
   {
    "duration": -67,
    "start_time": "2022-02-06T15:21:25.911Z"
   },
   {
    "duration": -68,
    "start_time": "2022-02-06T15:21:25.913Z"
   },
   {
    "duration": -70,
    "start_time": "2022-02-06T15:21:25.916Z"
   },
   {
    "duration": -73,
    "start_time": "2022-02-06T15:21:25.920Z"
   },
   {
    "duration": -75,
    "start_time": "2022-02-06T15:21:25.923Z"
   },
   {
    "duration": -76,
    "start_time": "2022-02-06T15:21:25.925Z"
   },
   {
    "duration": -77,
    "start_time": "2022-02-06T15:21:25.927Z"
   },
   {
    "duration": -78,
    "start_time": "2022-02-06T15:21:25.929Z"
   },
   {
    "duration": -80,
    "start_time": "2022-02-06T15:21:25.932Z"
   },
   {
    "duration": -83,
    "start_time": "2022-02-06T15:21:25.936Z"
   },
   {
    "duration": -85,
    "start_time": "2022-02-06T15:21:25.939Z"
   },
   {
    "duration": -87,
    "start_time": "2022-02-06T15:21:25.942Z"
   },
   {
    "duration": -87,
    "start_time": "2022-02-06T15:21:25.943Z"
   },
   {
    "duration": -89,
    "start_time": "2022-02-06T15:21:25.946Z"
   },
   {
    "duration": -91,
    "start_time": "2022-02-06T15:21:25.949Z"
   },
   {
    "duration": -94,
    "start_time": "2022-02-06T15:21:25.953Z"
   },
   {
    "duration": -97,
    "start_time": "2022-02-06T15:21:25.957Z"
   },
   {
    "duration": -97,
    "start_time": "2022-02-06T15:21:25.958Z"
   },
   {
    "duration": -99,
    "start_time": "2022-02-06T15:21:25.961Z"
   },
   {
    "duration": -101,
    "start_time": "2022-02-06T15:21:25.963Z"
   },
   {
    "duration": 19,
    "start_time": "2022-02-06T15:23:43.034Z"
   },
   {
    "duration": 3,
    "start_time": "2022-02-06T15:23:50.780Z"
   },
   {
    "duration": 94,
    "start_time": "2022-02-06T15:23:50.787Z"
   },
   {
    "duration": 22,
    "start_time": "2022-02-06T15:23:50.882Z"
   },
   {
    "duration": 3,
    "start_time": "2022-02-06T15:23:50.906Z"
   },
   {
    "duration": 10,
    "start_time": "2022-02-06T15:23:50.911Z"
   },
   {
    "duration": 13,
    "start_time": "2022-02-06T15:23:50.923Z"
   },
   {
    "duration": 22,
    "start_time": "2022-02-06T15:23:50.937Z"
   },
   {
    "duration": 3862,
    "start_time": "2022-02-06T15:23:50.960Z"
   },
   {
    "duration": 11,
    "start_time": "2022-02-06T15:23:54.825Z"
   },
   {
    "duration": 21,
    "start_time": "2022-02-06T15:23:54.838Z"
   },
   {
    "duration": 151,
    "start_time": "2022-02-06T15:23:54.860Z"
   },
   {
    "duration": 5,
    "start_time": "2022-02-06T15:23:55.012Z"
   },
   {
    "duration": 791,
    "start_time": "2022-02-06T15:23:55.018Z"
   },
   {
    "duration": -26,
    "start_time": "2022-02-06T15:23:55.838Z"
   },
   {
    "duration": -29,
    "start_time": "2022-02-06T15:23:55.842Z"
   },
   {
    "duration": -31,
    "start_time": "2022-02-06T15:23:55.845Z"
   },
   {
    "duration": -33,
    "start_time": "2022-02-06T15:23:55.847Z"
   },
   {
    "duration": -34,
    "start_time": "2022-02-06T15:23:55.849Z"
   },
   {
    "duration": -38,
    "start_time": "2022-02-06T15:23:55.854Z"
   },
   {
    "duration": -40,
    "start_time": "2022-02-06T15:23:55.856Z"
   },
   {
    "duration": -42,
    "start_time": "2022-02-06T15:23:55.859Z"
   },
   {
    "duration": -43,
    "start_time": "2022-02-06T15:23:55.861Z"
   },
   {
    "duration": -45,
    "start_time": "2022-02-06T15:23:55.864Z"
   },
   {
    "duration": -49,
    "start_time": "2022-02-06T15:23:55.869Z"
   },
   {
    "duration": -51,
    "start_time": "2022-02-06T15:23:55.871Z"
   },
   {
    "duration": -53,
    "start_time": "2022-02-06T15:23:55.874Z"
   },
   {
    "duration": -55,
    "start_time": "2022-02-06T15:23:55.876Z"
   },
   {
    "duration": -56,
    "start_time": "2022-02-06T15:23:55.878Z"
   },
   {
    "duration": -57,
    "start_time": "2022-02-06T15:23:55.881Z"
   },
   {
    "duration": -61,
    "start_time": "2022-02-06T15:23:55.887Z"
   },
   {
    "duration": -61,
    "start_time": "2022-02-06T15:23:55.889Z"
   },
   {
    "duration": -62,
    "start_time": "2022-02-06T15:23:55.891Z"
   },
   {
    "duration": -65,
    "start_time": "2022-02-06T15:23:55.895Z"
   },
   {
    "duration": -67,
    "start_time": "2022-02-06T15:23:55.898Z"
   },
   {
    "duration": -71,
    "start_time": "2022-02-06T15:23:55.903Z"
   },
   {
    "duration": -73,
    "start_time": "2022-02-06T15:23:55.906Z"
   },
   {
    "duration": -74,
    "start_time": "2022-02-06T15:23:55.908Z"
   },
   {
    "duration": -76,
    "start_time": "2022-02-06T15:23:55.911Z"
   },
   {
    "duration": -77,
    "start_time": "2022-02-06T15:23:55.913Z"
   },
   {
    "duration": -80,
    "start_time": "2022-02-06T15:23:55.918Z"
   },
   {
    "duration": -81,
    "start_time": "2022-02-06T15:23:55.920Z"
   },
   {
    "duration": -83,
    "start_time": "2022-02-06T15:23:55.923Z"
   },
   {
    "duration": -85,
    "start_time": "2022-02-06T15:23:55.926Z"
   },
   {
    "duration": -85,
    "start_time": "2022-02-06T15:23:55.928Z"
   },
   {
    "duration": -87,
    "start_time": "2022-02-06T15:23:55.931Z"
   },
   {
    "duration": -92,
    "start_time": "2022-02-06T15:23:55.937Z"
   },
   {
    "duration": -92,
    "start_time": "2022-02-06T15:23:55.939Z"
   },
   {
    "duration": 3,
    "start_time": "2022-02-06T15:25:03.365Z"
   },
   {
    "duration": 107,
    "start_time": "2022-02-06T15:25:03.372Z"
   },
   {
    "duration": 21,
    "start_time": "2022-02-06T15:25:03.481Z"
   },
   {
    "duration": 3,
    "start_time": "2022-02-06T15:25:03.504Z"
   },
   {
    "duration": 5,
    "start_time": "2022-02-06T15:25:03.509Z"
   },
   {
    "duration": 18,
    "start_time": "2022-02-06T15:25:03.516Z"
   },
   {
    "duration": 23,
    "start_time": "2022-02-06T15:25:03.536Z"
   },
   {
    "duration": 3595,
    "start_time": "2022-02-06T15:25:03.560Z"
   },
   {
    "duration": 10,
    "start_time": "2022-02-06T15:25:07.158Z"
   },
   {
    "duration": 8,
    "start_time": "2022-02-06T15:25:07.170Z"
   },
   {
    "duration": 150,
    "start_time": "2022-02-06T15:25:07.179Z"
   },
   {
    "duration": 5,
    "start_time": "2022-02-06T15:25:07.330Z"
   },
   {
    "duration": 27,
    "start_time": "2022-02-06T15:25:07.336Z"
   },
   {
    "duration": 51,
    "start_time": "2022-02-06T15:25:07.364Z"
   },
   {
    "duration": 17,
    "start_time": "2022-02-06T15:25:07.416Z"
   },
   {
    "duration": 54,
    "start_time": "2022-02-06T15:25:07.434Z"
   },
   {
    "duration": 19,
    "start_time": "2022-02-06T15:25:07.489Z"
   },
   {
    "duration": 6,
    "start_time": "2022-02-06T15:25:07.510Z"
   },
   {
    "duration": 599,
    "start_time": "2022-02-06T15:25:07.517Z"
   },
   {
    "duration": 6,
    "start_time": "2022-02-06T15:25:08.117Z"
   },
   {
    "duration": 899,
    "start_time": "2022-02-06T15:25:08.124Z"
   },
   {
    "duration": 34,
    "start_time": "2022-02-06T15:25:09.025Z"
   },
   {
    "duration": 1814,
    "start_time": "2022-02-06T15:25:09.060Z"
   },
   {
    "duration": 24,
    "start_time": "2022-02-06T15:25:10.877Z"
   },
   {
    "duration": 3956,
    "start_time": "2022-02-06T15:25:10.903Z"
   },
   {
    "duration": 26,
    "start_time": "2022-02-06T15:25:14.861Z"
   },
   {
    "duration": 753,
    "start_time": "2022-02-06T15:25:14.889Z"
   },
   {
    "duration": 844,
    "start_time": "2022-02-06T15:25:15.644Z"
   },
   {
    "duration": 138,
    "start_time": "2022-02-06T15:25:16.489Z"
   },
   {
    "duration": 344,
    "start_time": "2022-02-06T15:25:16.629Z"
   },
   {
    "duration": 20,
    "start_time": "2022-02-06T15:25:16.974Z"
   },
   {
    "duration": 378,
    "start_time": "2022-02-06T15:25:16.995Z"
   },
   {
    "duration": 8,
    "start_time": "2022-02-06T15:25:17.374Z"
   },
   {
    "duration": 135,
    "start_time": "2022-02-06T15:25:17.383Z"
   },
   {
    "duration": 589,
    "start_time": "2022-02-06T15:25:17.520Z"
   },
   {
    "duration": 48,
    "start_time": "2022-02-06T15:25:18.111Z"
   },
   {
    "duration": 8,
    "start_time": "2022-02-06T15:25:18.161Z"
   },
   {
    "duration": 338,
    "start_time": "2022-02-06T15:25:18.171Z"
   },
   {
    "duration": 16,
    "start_time": "2022-02-06T15:25:18.510Z"
   },
   {
    "duration": 232,
    "start_time": "2022-02-06T15:25:18.528Z"
   },
   {
    "duration": 433,
    "start_time": "2022-02-06T15:25:18.762Z"
   },
   {
    "duration": 396,
    "start_time": "2022-02-06T15:25:19.197Z"
   },
   {
    "duration": 398,
    "start_time": "2022-02-06T15:25:19.595Z"
   },
   {
    "duration": 33,
    "start_time": "2022-02-06T15:25:19.994Z"
   },
   {
    "duration": 33,
    "start_time": "2022-02-06T15:25:20.029Z"
   },
   {
    "duration": 14,
    "start_time": "2022-02-06T15:25:20.064Z"
   },
   {
    "duration": 34,
    "start_time": "2022-02-06T15:25:20.079Z"
   },
   {
    "duration": 274,
    "start_time": "2022-02-06T15:32:01.479Z"
   },
   {
    "duration": 3,
    "start_time": "2022-02-06T15:32:06.515Z"
   },
   {
    "duration": 95,
    "start_time": "2022-02-06T15:32:06.521Z"
   },
   {
    "duration": 41,
    "start_time": "2022-02-06T15:32:06.618Z"
   },
   {
    "duration": 3,
    "start_time": "2022-02-06T15:32:06.661Z"
   },
   {
    "duration": 6,
    "start_time": "2022-02-06T15:32:06.666Z"
   },
   {
    "duration": 7,
    "start_time": "2022-02-06T15:32:06.673Z"
   },
   {
    "duration": 5,
    "start_time": "2022-02-06T15:32:06.682Z"
   },
   {
    "duration": 3646,
    "start_time": "2022-02-06T15:32:06.688Z"
   },
   {
    "duration": 10,
    "start_time": "2022-02-06T15:32:10.336Z"
   },
   {
    "duration": 14,
    "start_time": "2022-02-06T15:32:10.349Z"
   },
   {
    "duration": 138,
    "start_time": "2022-02-06T15:32:10.365Z"
   },
   {
    "duration": 4,
    "start_time": "2022-02-06T15:32:10.505Z"
   },
   {
    "duration": 14,
    "start_time": "2022-02-06T15:32:10.511Z"
   },
   {
    "duration": 69,
    "start_time": "2022-02-06T15:32:10.527Z"
   },
   {
    "duration": 16,
    "start_time": "2022-02-06T15:32:10.598Z"
   },
   {
    "duration": 51,
    "start_time": "2022-02-06T15:32:10.616Z"
   },
   {
    "duration": 19,
    "start_time": "2022-02-06T15:32:10.669Z"
   },
   {
    "duration": 5,
    "start_time": "2022-02-06T15:32:10.690Z"
   },
   {
    "duration": 438,
    "start_time": "2022-02-06T15:32:10.697Z"
   },
   {
    "duration": 7,
    "start_time": "2022-02-06T15:32:11.137Z"
   },
   {
    "duration": 1134,
    "start_time": "2022-02-06T15:32:11.145Z"
   },
   {
    "duration": 27,
    "start_time": "2022-02-06T15:32:12.281Z"
   },
   {
    "duration": 1902,
    "start_time": "2022-02-06T15:32:12.309Z"
   },
   {
    "duration": 25,
    "start_time": "2022-02-06T15:32:14.212Z"
   },
   {
    "duration": 3800,
    "start_time": "2022-02-06T15:32:14.238Z"
   },
   {
    "duration": 36,
    "start_time": "2022-02-06T15:32:18.040Z"
   },
   {
    "duration": 1068,
    "start_time": "2022-02-06T15:32:18.078Z"
   },
   {
    "duration": 519,
    "start_time": "2022-02-06T15:32:19.150Z"
   },
   {
    "duration": 138,
    "start_time": "2022-02-06T15:32:19.671Z"
   },
   {
    "duration": 376,
    "start_time": "2022-02-06T15:32:19.811Z"
   },
   {
    "duration": 19,
    "start_time": "2022-02-06T15:32:20.188Z"
   },
   {
    "duration": 394,
    "start_time": "2022-02-06T15:32:20.209Z"
   },
   {
    "duration": 8,
    "start_time": "2022-02-06T15:32:20.605Z"
   },
   {
    "duration": 155,
    "start_time": "2022-02-06T15:32:20.615Z"
   },
   {
    "duration": 547,
    "start_time": "2022-02-06T15:32:20.772Z"
   },
   {
    "duration": 46,
    "start_time": "2022-02-06T15:32:21.320Z"
   },
   {
    "duration": 7,
    "start_time": "2022-02-06T15:32:21.368Z"
   },
   {
    "duration": 554,
    "start_time": "2022-02-06T15:32:21.376Z"
   },
   {
    "duration": 27,
    "start_time": "2022-02-06T15:32:21.932Z"
   },
   {
    "duration": 239,
    "start_time": "2022-02-06T15:32:21.961Z"
   },
   {
    "duration": 417,
    "start_time": "2022-02-06T15:32:22.201Z"
   },
   {
    "duration": 233,
    "start_time": "2022-02-06T15:32:22.620Z"
   },
   {
    "duration": 403,
    "start_time": "2022-02-06T15:32:22.858Z"
   },
   {
    "duration": 33,
    "start_time": "2022-02-06T15:32:23.263Z"
   },
   {
    "duration": 14,
    "start_time": "2022-02-06T15:32:23.297Z"
   },
   {
    "duration": 181,
    "start_time": "2022-02-06T15:32:23.312Z"
   },
   {
    "duration": -15,
    "start_time": "2022-02-06T15:32:23.510Z"
   },
   {
    "duration": 3,
    "start_time": "2022-02-06T15:33:29.740Z"
   },
   {
    "duration": 115,
    "start_time": "2022-02-06T15:33:29.745Z"
   },
   {
    "duration": 22,
    "start_time": "2022-02-06T15:33:29.862Z"
   },
   {
    "duration": 21,
    "start_time": "2022-02-06T15:33:29.886Z"
   },
   {
    "duration": 14,
    "start_time": "2022-02-06T15:33:29.909Z"
   },
   {
    "duration": 10,
    "start_time": "2022-02-06T15:33:29.925Z"
   },
   {
    "duration": 19,
    "start_time": "2022-02-06T15:33:29.937Z"
   },
   {
    "duration": 3557,
    "start_time": "2022-02-06T15:33:29.957Z"
   },
   {
    "duration": 10,
    "start_time": "2022-02-06T15:33:33.516Z"
   },
   {
    "duration": 23,
    "start_time": "2022-02-06T15:33:33.528Z"
   },
   {
    "duration": 132,
    "start_time": "2022-02-06T15:33:33.552Z"
   },
   {
    "duration": 6,
    "start_time": "2022-02-06T15:33:33.686Z"
   },
   {
    "duration": 15,
    "start_time": "2022-02-06T15:33:33.693Z"
   },
   {
    "duration": 63,
    "start_time": "2022-02-06T15:33:33.709Z"
   },
   {
    "duration": 17,
    "start_time": "2022-02-06T15:33:33.774Z"
   },
   {
    "duration": 39,
    "start_time": "2022-02-06T15:33:33.792Z"
   },
   {
    "duration": 39,
    "start_time": "2022-02-06T15:33:33.833Z"
   },
   {
    "duration": 5,
    "start_time": "2022-02-06T15:33:33.874Z"
   },
   {
    "duration": 440,
    "start_time": "2022-02-06T15:33:33.881Z"
   },
   {
    "duration": 7,
    "start_time": "2022-02-06T15:33:34.323Z"
   },
   {
    "duration": 1099,
    "start_time": "2022-02-06T15:33:34.332Z"
   },
   {
    "duration": 38,
    "start_time": "2022-02-06T15:33:35.432Z"
   },
   {
    "duration": 1763,
    "start_time": "2022-02-06T15:33:35.471Z"
   },
   {
    "duration": 27,
    "start_time": "2022-02-06T15:33:37.235Z"
   },
   {
    "duration": 3585,
    "start_time": "2022-02-06T15:33:37.263Z"
   },
   {
    "duration": 30,
    "start_time": "2022-02-06T15:33:40.850Z"
   },
   {
    "duration": 1054,
    "start_time": "2022-02-06T15:33:40.884Z"
   },
   {
    "duration": 535,
    "start_time": "2022-02-06T15:33:41.941Z"
   },
   {
    "duration": 127,
    "start_time": "2022-02-06T15:33:42.478Z"
   },
   {
    "duration": 351,
    "start_time": "2022-02-06T15:33:42.607Z"
   },
   {
    "duration": 20,
    "start_time": "2022-02-06T15:33:42.960Z"
   },
   {
    "duration": 368,
    "start_time": "2022-02-06T15:33:42.982Z"
   },
   {
    "duration": 9,
    "start_time": "2022-02-06T15:33:43.359Z"
   },
   {
    "duration": 136,
    "start_time": "2022-02-06T15:33:43.370Z"
   },
   {
    "duration": 559,
    "start_time": "2022-02-06T15:33:43.508Z"
   },
   {
    "duration": 37,
    "start_time": "2022-02-06T15:33:44.069Z"
   },
   {
    "duration": 9,
    "start_time": "2022-02-06T15:33:44.108Z"
   },
   {
    "duration": 341,
    "start_time": "2022-02-06T15:33:44.118Z"
   },
   {
    "duration": 18,
    "start_time": "2022-02-06T15:33:44.460Z"
   },
   {
    "duration": 230,
    "start_time": "2022-02-06T15:33:44.479Z"
   },
   {
    "duration": 426,
    "start_time": "2022-02-06T15:33:44.711Z"
   },
   {
    "duration": 467,
    "start_time": "2022-02-06T15:33:45.138Z"
   },
   {
    "duration": 403,
    "start_time": "2022-02-06T15:33:45.607Z"
   },
   {
    "duration": 30,
    "start_time": "2022-02-06T15:33:46.012Z"
   },
   {
    "duration": 15,
    "start_time": "2022-02-06T15:33:46.058Z"
   },
   {
    "duration": 195,
    "start_time": "2022-02-06T15:33:46.074Z"
   },
   {
    "duration": -18,
    "start_time": "2022-02-06T15:33:46.289Z"
   },
   {
    "duration": 3,
    "start_time": "2022-02-06T15:35:21.154Z"
   },
   {
    "duration": 102,
    "start_time": "2022-02-06T15:35:21.159Z"
   },
   {
    "duration": 22,
    "start_time": "2022-02-06T15:35:21.263Z"
   },
   {
    "duration": 4,
    "start_time": "2022-02-06T15:35:21.287Z"
   },
   {
    "duration": 6,
    "start_time": "2022-02-06T15:35:21.292Z"
   },
   {
    "duration": 8,
    "start_time": "2022-02-06T15:35:21.299Z"
   },
   {
    "duration": 5,
    "start_time": "2022-02-06T15:35:21.308Z"
   },
   {
    "duration": 3531,
    "start_time": "2022-02-06T15:35:21.314Z"
   },
   {
    "duration": 15,
    "start_time": "2022-02-06T15:35:24.848Z"
   },
   {
    "duration": 24,
    "start_time": "2022-02-06T15:35:24.865Z"
   },
   {
    "duration": 130,
    "start_time": "2022-02-06T15:35:24.891Z"
   },
   {
    "duration": 5,
    "start_time": "2022-02-06T15:35:25.023Z"
   },
   {
    "duration": 34,
    "start_time": "2022-02-06T15:35:25.029Z"
   },
   {
    "duration": 64,
    "start_time": "2022-02-06T15:35:25.065Z"
   },
   {
    "duration": 16,
    "start_time": "2022-02-06T15:35:25.131Z"
   },
   {
    "duration": 41,
    "start_time": "2022-02-06T15:35:25.149Z"
   },
   {
    "duration": 21,
    "start_time": "2022-02-06T15:35:25.192Z"
   },
   {
    "duration": 7,
    "start_time": "2022-02-06T15:35:25.214Z"
   },
   {
    "duration": 442,
    "start_time": "2022-02-06T15:35:25.223Z"
   },
   {
    "duration": 5,
    "start_time": "2022-02-06T15:35:25.667Z"
   },
   {
    "duration": 874,
    "start_time": "2022-02-06T15:35:25.674Z"
   },
   {
    "duration": 31,
    "start_time": "2022-02-06T15:35:26.550Z"
   },
   {
    "duration": 1816,
    "start_time": "2022-02-06T15:35:26.583Z"
   },
   {
    "duration": 23,
    "start_time": "2022-02-06T15:35:28.401Z"
   },
   {
    "duration": 4061,
    "start_time": "2022-02-06T15:35:28.425Z"
   },
   {
    "duration": 25,
    "start_time": "2022-02-06T15:35:32.488Z"
   },
   {
    "duration": 1125,
    "start_time": "2022-02-06T15:35:32.518Z"
   },
   {
    "duration": 527,
    "start_time": "2022-02-06T15:35:33.646Z"
   },
   {
    "duration": 134,
    "start_time": "2022-02-06T15:35:34.175Z"
   },
   {
    "duration": 349,
    "start_time": "2022-02-06T15:35:34.311Z"
   },
   {
    "duration": 18,
    "start_time": "2022-02-06T15:35:34.662Z"
   },
   {
    "duration": 391,
    "start_time": "2022-02-06T15:35:34.682Z"
   },
   {
    "duration": 9,
    "start_time": "2022-02-06T15:35:35.075Z"
   },
   {
    "duration": 142,
    "start_time": "2022-02-06T15:35:35.086Z"
   },
   {
    "duration": 562,
    "start_time": "2022-02-06T15:35:35.230Z"
   },
   {
    "duration": 35,
    "start_time": "2022-02-06T15:35:35.794Z"
   },
   {
    "duration": 7,
    "start_time": "2022-02-06T15:35:35.830Z"
   },
   {
    "duration": 340,
    "start_time": "2022-02-06T15:35:35.839Z"
   },
   {
    "duration": 15,
    "start_time": "2022-02-06T15:35:36.181Z"
   },
   {
    "duration": 227,
    "start_time": "2022-02-06T15:35:36.198Z"
   },
   {
    "duration": 440,
    "start_time": "2022-02-06T15:35:36.426Z"
   },
   {
    "duration": 232,
    "start_time": "2022-02-06T15:35:36.868Z"
   },
   {
    "duration": 383,
    "start_time": "2022-02-06T15:35:37.102Z"
   },
   {
    "duration": 30,
    "start_time": "2022-02-06T15:35:37.487Z"
   },
   {
    "duration": 13,
    "start_time": "2022-02-06T15:35:37.518Z"
   },
   {
    "duration": 26,
    "start_time": "2022-02-06T15:35:37.533Z"
   },
   {
    "duration": 31,
    "start_time": "2022-02-06T15:35:37.560Z"
   },
   {
    "duration": 16,
    "start_time": "2022-02-06T15:42:21.890Z"
   },
   {
    "duration": 23,
    "start_time": "2022-02-06T15:42:46.133Z"
   },
   {
    "duration": 31,
    "start_time": "2022-02-06T15:42:51.664Z"
   },
   {
    "duration": 66,
    "start_time": "2022-02-06T15:43:27.775Z"
   },
   {
    "duration": 408,
    "start_time": "2022-02-06T15:43:34.124Z"
   },
   {
    "duration": 689,
    "start_time": "2022-02-06T15:46:17.928Z"
   },
   {
    "duration": 456,
    "start_time": "2022-02-06T15:46:24.981Z"
   },
   {
    "duration": 361,
    "start_time": "2022-02-06T15:47:10.673Z"
   },
   {
    "duration": 44,
    "start_time": "2022-02-06T16:19:55.305Z"
   },
   {
    "duration": 445,
    "start_time": "2022-02-06T16:20:22.976Z"
   },
   {
    "duration": 504,
    "start_time": "2022-02-06T16:21:59.857Z"
   },
   {
    "duration": 451,
    "start_time": "2022-02-06T16:23:18.521Z"
   },
   {
    "duration": 15,
    "start_time": "2022-02-06T16:28:25.892Z"
   },
   {
    "duration": 66,
    "start_time": "2022-02-06T16:31:19.085Z"
   },
   {
    "duration": 47,
    "start_time": "2022-02-06T16:32:06.688Z"
   },
   {
    "duration": 3,
    "start_time": "2022-02-06T16:33:15.820Z"
   },
   {
    "duration": 92,
    "start_time": "2022-02-06T16:33:15.826Z"
   },
   {
    "duration": 51,
    "start_time": "2022-02-06T16:33:15.920Z"
   },
   {
    "duration": 4,
    "start_time": "2022-02-06T16:33:15.973Z"
   },
   {
    "duration": 7,
    "start_time": "2022-02-06T16:33:15.979Z"
   },
   {
    "duration": 8,
    "start_time": "2022-02-06T16:33:15.988Z"
   },
   {
    "duration": 6,
    "start_time": "2022-02-06T16:33:15.998Z"
   },
   {
    "duration": 3598,
    "start_time": "2022-02-06T16:33:16.006Z"
   },
   {
    "duration": 10,
    "start_time": "2022-02-06T16:33:19.606Z"
   },
   {
    "duration": 6,
    "start_time": "2022-02-06T16:33:19.618Z"
   },
   {
    "duration": 149,
    "start_time": "2022-02-06T16:33:19.626Z"
   },
   {
    "duration": 4,
    "start_time": "2022-02-06T16:33:19.777Z"
   },
   {
    "duration": 17,
    "start_time": "2022-02-06T16:33:19.783Z"
   },
   {
    "duration": 68,
    "start_time": "2022-02-06T16:33:19.801Z"
   },
   {
    "duration": 17,
    "start_time": "2022-02-06T16:33:19.871Z"
   },
   {
    "duration": 39,
    "start_time": "2022-02-06T16:33:19.890Z"
   },
   {
    "duration": 36,
    "start_time": "2022-02-06T16:33:19.930Z"
   },
   {
    "duration": 6,
    "start_time": "2022-02-06T16:33:19.968Z"
   },
   {
    "duration": 442,
    "start_time": "2022-02-06T16:33:19.976Z"
   },
   {
    "duration": 6,
    "start_time": "2022-02-06T16:33:20.420Z"
   },
   {
    "duration": 1244,
    "start_time": "2022-02-06T16:33:20.428Z"
   },
   {
    "duration": 28,
    "start_time": "2022-02-06T16:33:21.674Z"
   },
   {
    "duration": 1935,
    "start_time": "2022-02-06T16:33:21.704Z"
   },
   {
    "duration": 30,
    "start_time": "2022-02-06T16:33:23.642Z"
   },
   {
    "duration": 3942,
    "start_time": "2022-02-06T16:33:23.674Z"
   },
   {
    "duration": 25,
    "start_time": "2022-02-06T16:33:27.618Z"
   },
   {
    "duration": 1169,
    "start_time": "2022-02-06T16:33:27.645Z"
   },
   {
    "duration": 529,
    "start_time": "2022-02-06T16:33:28.816Z"
   },
   {
    "duration": 142,
    "start_time": "2022-02-06T16:33:29.347Z"
   },
   {
    "duration": 370,
    "start_time": "2022-02-06T16:33:29.491Z"
   },
   {
    "duration": 20,
    "start_time": "2022-02-06T16:33:29.863Z"
   },
   {
    "duration": 397,
    "start_time": "2022-02-06T16:33:29.885Z"
   },
   {
    "duration": 10,
    "start_time": "2022-02-06T16:33:30.284Z"
   },
   {
    "duration": 154,
    "start_time": "2022-02-06T16:33:30.296Z"
   },
   {
    "duration": 592,
    "start_time": "2022-02-06T16:33:30.452Z"
   },
   {
    "duration": 38,
    "start_time": "2022-02-06T16:33:31.045Z"
   },
   {
    "duration": 7,
    "start_time": "2022-02-06T16:33:31.085Z"
   },
   {
    "duration": 339,
    "start_time": "2022-02-06T16:33:31.094Z"
   },
   {
    "duration": 30,
    "start_time": "2022-02-06T16:33:31.435Z"
   },
   {
    "duration": 244,
    "start_time": "2022-02-06T16:33:31.467Z"
   },
   {
    "duration": 464,
    "start_time": "2022-02-06T16:33:31.713Z"
   },
   {
    "duration": 253,
    "start_time": "2022-02-06T16:33:32.180Z"
   },
   {
    "duration": 426,
    "start_time": "2022-02-06T16:33:32.435Z"
   },
   {
    "duration": 32,
    "start_time": "2022-02-06T16:33:32.863Z"
   },
   {
    "duration": 13,
    "start_time": "2022-02-06T16:33:32.897Z"
   },
   {
    "duration": 178,
    "start_time": "2022-02-06T16:33:32.912Z"
   },
   {
    "duration": -37,
    "start_time": "2022-02-06T16:33:33.129Z"
   },
   {
    "duration": -40,
    "start_time": "2022-02-06T16:33:33.133Z"
   },
   {
    "duration": -42,
    "start_time": "2022-02-06T16:33:33.136Z"
   },
   {
    "duration": 4,
    "start_time": "2022-02-06T16:34:24.700Z"
   },
   {
    "duration": 97,
    "start_time": "2022-02-06T16:34:24.706Z"
   },
   {
    "duration": 23,
    "start_time": "2022-02-06T16:34:24.805Z"
   },
   {
    "duration": 3,
    "start_time": "2022-02-06T16:34:24.831Z"
   },
   {
    "duration": 25,
    "start_time": "2022-02-06T16:34:24.836Z"
   },
   {
    "duration": 29,
    "start_time": "2022-02-06T16:34:24.863Z"
   },
   {
    "duration": 24,
    "start_time": "2022-02-06T16:34:24.894Z"
   },
   {
    "duration": 3657,
    "start_time": "2022-02-06T16:34:24.921Z"
   },
   {
    "duration": 10,
    "start_time": "2022-02-06T16:34:28.579Z"
   },
   {
    "duration": 11,
    "start_time": "2022-02-06T16:34:28.590Z"
   },
   {
    "duration": 145,
    "start_time": "2022-02-06T16:34:28.603Z"
   },
   {
    "duration": 9,
    "start_time": "2022-02-06T16:34:28.750Z"
   },
   {
    "duration": 14,
    "start_time": "2022-02-06T16:34:28.760Z"
   },
   {
    "duration": 53,
    "start_time": "2022-02-06T16:34:28.776Z"
   },
   {
    "duration": 28,
    "start_time": "2022-02-06T16:34:28.831Z"
   },
   {
    "duration": 41,
    "start_time": "2022-02-06T16:34:28.861Z"
   },
   {
    "duration": 19,
    "start_time": "2022-02-06T16:34:28.904Z"
   },
   {
    "duration": 13,
    "start_time": "2022-02-06T16:34:28.925Z"
   },
   {
    "duration": 432,
    "start_time": "2022-02-06T16:34:28.958Z"
   },
   {
    "duration": 6,
    "start_time": "2022-02-06T16:34:29.392Z"
   },
   {
    "duration": 1253,
    "start_time": "2022-02-06T16:34:29.400Z"
   },
   {
    "duration": 28,
    "start_time": "2022-02-06T16:34:30.658Z"
   },
   {
    "duration": 1945,
    "start_time": "2022-02-06T16:34:30.688Z"
   },
   {
    "duration": 29,
    "start_time": "2022-02-06T16:34:32.636Z"
   },
   {
    "duration": 4040,
    "start_time": "2022-02-06T16:34:32.668Z"
   },
   {
    "duration": 28,
    "start_time": "2022-02-06T16:34:36.710Z"
   },
   {
    "duration": 1201,
    "start_time": "2022-02-06T16:34:36.759Z"
   },
   {
    "duration": 536,
    "start_time": "2022-02-06T16:34:37.962Z"
   },
   {
    "duration": 136,
    "start_time": "2022-02-06T16:34:38.500Z"
   },
   {
    "duration": 378,
    "start_time": "2022-02-06T16:34:38.638Z"
   },
   {
    "duration": 20,
    "start_time": "2022-02-06T16:34:39.018Z"
   },
   {
    "duration": 398,
    "start_time": "2022-02-06T16:34:39.039Z"
   },
   {
    "duration": 20,
    "start_time": "2022-02-06T16:34:39.439Z"
   },
   {
    "duration": 158,
    "start_time": "2022-02-06T16:34:39.461Z"
   },
   {
    "duration": 610,
    "start_time": "2022-02-06T16:34:39.621Z"
   },
   {
    "duration": 48,
    "start_time": "2022-02-06T16:34:40.233Z"
   },
   {
    "duration": 7,
    "start_time": "2022-02-06T16:34:40.282Z"
   },
   {
    "duration": 343,
    "start_time": "2022-02-06T16:34:40.291Z"
   },
   {
    "duration": 30,
    "start_time": "2022-02-06T16:34:40.636Z"
   },
   {
    "duration": 244,
    "start_time": "2022-02-06T16:34:40.668Z"
   },
   {
    "duration": 450,
    "start_time": "2022-02-06T16:34:40.914Z"
   },
   {
    "duration": 245,
    "start_time": "2022-02-06T16:34:41.366Z"
   },
   {
    "duration": 457,
    "start_time": "2022-02-06T16:34:41.614Z"
   },
   {
    "duration": 46,
    "start_time": "2022-02-06T16:34:42.073Z"
   },
   {
    "duration": 43,
    "start_time": "2022-02-06T16:34:42.121Z"
   },
   {
    "duration": 262,
    "start_time": "2022-02-06T16:34:42.166Z"
   },
   {
    "duration": 16,
    "start_time": "2022-02-06T16:34:42.413Z"
   },
   {
    "duration": 14,
    "start_time": "2022-02-06T16:34:42.416Z"
   },
   {
    "duration": 13,
    "start_time": "2022-02-06T16:34:42.419Z"
   },
   {
    "duration": 89,
    "start_time": "2022-02-06T16:40:06.316Z"
   },
   {
    "duration": 202,
    "start_time": "2022-02-06T16:40:20.107Z"
   },
   {
    "duration": 188,
    "start_time": "2022-02-06T16:40:30.933Z"
   },
   {
    "duration": 300,
    "start_time": "2022-02-06T16:40:54.999Z"
   },
   {
    "duration": 84,
    "start_time": "2022-02-06T16:41:10.067Z"
   },
   {
    "duration": 710,
    "start_time": "2022-02-06T16:41:15.689Z"
   },
   {
    "duration": 88,
    "start_time": "2022-02-06T16:42:09.251Z"
   },
   {
    "duration": 186,
    "start_time": "2022-02-06T16:42:18.238Z"
   },
   {
    "duration": 324,
    "start_time": "2022-02-06T16:42:57.013Z"
   },
   {
    "duration": 100,
    "start_time": "2022-02-06T16:43:13.499Z"
   },
   {
    "duration": 3,
    "start_time": "2022-02-06T16:43:34.408Z"
   },
   {
    "duration": 96,
    "start_time": "2022-02-06T16:43:34.413Z"
   },
   {
    "duration": 23,
    "start_time": "2022-02-06T16:43:34.511Z"
   },
   {
    "duration": 24,
    "start_time": "2022-02-06T16:43:34.536Z"
   },
   {
    "duration": 15,
    "start_time": "2022-02-06T16:43:34.562Z"
   },
   {
    "duration": 14,
    "start_time": "2022-02-06T16:43:34.579Z"
   },
   {
    "duration": 26,
    "start_time": "2022-02-06T16:43:34.594Z"
   },
   {
    "duration": 3515,
    "start_time": "2022-02-06T16:43:34.621Z"
   },
   {
    "duration": 9,
    "start_time": "2022-02-06T16:43:38.138Z"
   },
   {
    "duration": 11,
    "start_time": "2022-02-06T16:43:38.149Z"
   },
   {
    "duration": 139,
    "start_time": "2022-02-06T16:43:38.161Z"
   },
   {
    "duration": 4,
    "start_time": "2022-02-06T16:43:38.302Z"
   },
   {
    "duration": 14,
    "start_time": "2022-02-06T16:43:38.307Z"
   },
   {
    "duration": 63,
    "start_time": "2022-02-06T16:43:38.322Z"
   },
   {
    "duration": 15,
    "start_time": "2022-02-06T16:43:38.386Z"
   },
   {
    "duration": 38,
    "start_time": "2022-02-06T16:43:38.403Z"
   },
   {
    "duration": 32,
    "start_time": "2022-02-06T16:43:38.443Z"
   },
   {
    "duration": 6,
    "start_time": "2022-02-06T16:43:38.477Z"
   },
   {
    "duration": 455,
    "start_time": "2022-02-06T16:43:38.484Z"
   },
   {
    "duration": 5,
    "start_time": "2022-02-06T16:43:38.941Z"
   },
   {
    "duration": 1198,
    "start_time": "2022-02-06T16:43:38.948Z"
   },
   {
    "duration": 28,
    "start_time": "2022-02-06T16:43:40.148Z"
   },
   {
    "duration": 1843,
    "start_time": "2022-02-06T16:43:40.178Z"
   },
   {
    "duration": 61,
    "start_time": "2022-02-06T16:43:42.023Z"
   },
   {
    "duration": 3904,
    "start_time": "2022-02-06T16:43:42.092Z"
   },
   {
    "duration": 26,
    "start_time": "2022-02-06T16:43:45.997Z"
   },
   {
    "duration": 1223,
    "start_time": "2022-02-06T16:43:46.027Z"
   },
   {
    "duration": 511,
    "start_time": "2022-02-06T16:43:47.252Z"
   },
   {
    "duration": 127,
    "start_time": "2022-02-06T16:43:47.765Z"
   },
   {
    "duration": 357,
    "start_time": "2022-02-06T16:43:47.894Z"
   },
   {
    "duration": 23,
    "start_time": "2022-02-06T16:43:48.253Z"
   },
   {
    "duration": 382,
    "start_time": "2022-02-06T16:43:48.278Z"
   },
   {
    "duration": 9,
    "start_time": "2022-02-06T16:43:48.662Z"
   },
   {
    "duration": 140,
    "start_time": "2022-02-06T16:43:48.673Z"
   },
   {
    "duration": 605,
    "start_time": "2022-02-06T16:43:48.815Z"
   },
   {
    "duration": 44,
    "start_time": "2022-02-06T16:43:49.422Z"
   },
   {
    "duration": 6,
    "start_time": "2022-02-06T16:43:49.468Z"
   },
   {
    "duration": 323,
    "start_time": "2022-02-06T16:43:49.476Z"
   },
   {
    "duration": 17,
    "start_time": "2022-02-06T16:43:49.801Z"
   },
   {
    "duration": 248,
    "start_time": "2022-02-06T16:43:49.819Z"
   },
   {
    "duration": 440,
    "start_time": "2022-02-06T16:43:50.069Z"
   },
   {
    "duration": 254,
    "start_time": "2022-02-06T16:43:50.511Z"
   },
   {
    "duration": 411,
    "start_time": "2022-02-06T16:43:50.767Z"
   },
   {
    "duration": 30,
    "start_time": "2022-02-06T16:43:51.180Z"
   },
   {
    "duration": 13,
    "start_time": "2022-02-06T16:43:51.212Z"
   },
   {
    "duration": 224,
    "start_time": "2022-02-06T16:43:51.227Z"
   },
   {
    "duration": 31,
    "start_time": "2022-02-06T16:43:51.422Z"
   },
   {
    "duration": 30,
    "start_time": "2022-02-06T16:43:51.425Z"
   },
   {
    "duration": 27,
    "start_time": "2022-02-06T16:43:51.429Z"
   },
   {
    "duration": 4,
    "start_time": "2022-02-06T16:44:57.950Z"
   },
   {
    "duration": 482,
    "start_time": "2022-02-06T16:45:01.265Z"
   },
   {
    "duration": 42,
    "start_time": "2022-02-06T16:45:07.198Z"
   },
   {
    "duration": 23,
    "start_time": "2022-02-06T16:45:10.657Z"
   },
   {
    "duration": 18,
    "start_time": "2022-02-06T17:31:18.954Z"
   },
   {
    "duration": 17,
    "start_time": "2022-02-06T17:32:05.681Z"
   },
   {
    "duration": 19,
    "start_time": "2022-02-06T17:33:08.689Z"
   },
   {
    "duration": 40,
    "start_time": "2022-02-06T17:33:59.617Z"
   },
   {
    "duration": 7,
    "start_time": "2022-02-06T17:34:16.070Z"
   },
   {
    "duration": 192,
    "start_time": "2022-02-06T17:37:49.050Z"
   },
   {
    "duration": 10,
    "start_time": "2022-02-06T17:37:55.630Z"
   },
   {
    "duration": 12,
    "start_time": "2022-02-06T17:48:35.411Z"
   },
   {
    "duration": 22,
    "start_time": "2022-02-06T17:49:12.947Z"
   },
   {
    "duration": 35,
    "start_time": "2022-02-06T17:49:57.533Z"
   },
   {
    "duration": 217,
    "start_time": "2022-02-06T17:52:15.933Z"
   },
   {
    "duration": 179,
    "start_time": "2022-02-06T17:53:23.300Z"
   },
   {
    "duration": 195,
    "start_time": "2022-02-06T17:53:41.854Z"
   },
   {
    "duration": 212,
    "start_time": "2022-02-06T17:53:57.374Z"
   },
   {
    "duration": 153,
    "start_time": "2022-02-06T17:55:32.878Z"
   },
   {
    "duration": 156,
    "start_time": "2022-02-06T17:55:46.979Z"
   },
   {
    "duration": 322,
    "start_time": "2022-02-06T17:56:54.911Z"
   },
   {
    "duration": 159,
    "start_time": "2022-02-06T17:57:04.320Z"
   },
   {
    "duration": 168,
    "start_time": "2022-02-06T17:57:08.125Z"
   },
   {
    "duration": 186,
    "start_time": "2022-02-06T17:57:37.793Z"
   },
   {
    "duration": 168,
    "start_time": "2022-02-06T17:57:41.522Z"
   },
   {
    "duration": 619,
    "start_time": "2022-02-06T17:58:34.687Z"
   },
   {
    "duration": 532,
    "start_time": "2022-02-06T17:59:16.285Z"
   },
   {
    "duration": 600,
    "start_time": "2022-02-06T18:00:22.933Z"
   },
   {
    "duration": 631,
    "start_time": "2022-02-06T18:00:39.463Z"
   },
   {
    "duration": 788,
    "start_time": "2022-02-06T18:03:41.980Z"
   },
   {
    "duration": 522,
    "start_time": "2022-02-06T18:03:56.517Z"
   },
   {
    "duration": 593,
    "start_time": "2022-02-06T18:04:06.500Z"
   },
   {
    "duration": 488,
    "start_time": "2022-02-06T18:04:30.997Z"
   },
   {
    "duration": 477,
    "start_time": "2022-02-06T18:05:24.067Z"
   },
   {
    "duration": 58,
    "start_time": "2022-02-06T18:14:34.227Z"
   },
   {
    "duration": 61,
    "start_time": "2022-02-06T18:14:39.476Z"
   },
   {
    "duration": 673,
    "start_time": "2022-02-06T18:14:54.201Z"
   },
   {
    "duration": 657,
    "start_time": "2022-02-06T18:15:16.956Z"
   },
   {
    "duration": 885,
    "start_time": "2022-02-06T18:15:53.143Z"
   },
   {
    "duration": 777,
    "start_time": "2022-02-06T18:16:06.240Z"
   },
   {
    "duration": 735,
    "start_time": "2022-02-06T18:16:17.804Z"
   },
   {
    "duration": 692,
    "start_time": "2022-02-06T18:16:43.663Z"
   },
   {
    "duration": 7,
    "start_time": "2022-02-06T18:19:13.736Z"
   },
   {
    "duration": 6,
    "start_time": "2022-02-06T18:19:21.233Z"
   },
   {
    "duration": 7,
    "start_time": "2022-02-06T18:19:25.896Z"
   },
   {
    "duration": 7,
    "start_time": "2022-02-06T18:39:39.407Z"
   },
   {
    "duration": 6,
    "start_time": "2022-02-06T18:39:44.230Z"
   },
   {
    "duration": 7,
    "start_time": "2022-02-06T18:39:55.005Z"
   },
   {
    "duration": 9,
    "start_time": "2022-02-06T18:40:59.223Z"
   },
   {
    "duration": 13,
    "start_time": "2022-02-06T18:41:51.850Z"
   },
   {
    "duration": 14,
    "start_time": "2022-02-06T18:42:19.706Z"
   },
   {
    "duration": 57,
    "start_time": "2022-02-06T18:43:08.753Z"
   },
   {
    "duration": 62,
    "start_time": "2022-02-06T18:43:14.675Z"
   },
   {
    "duration": 423,
    "start_time": "2022-02-06T18:44:31.199Z"
   },
   {
    "duration": 13,
    "start_time": "2022-02-06T18:48:49.121Z"
   },
   {
    "duration": 15,
    "start_time": "2022-02-06T18:50:30.060Z"
   },
   {
    "duration": 14,
    "start_time": "2022-02-06T18:50:59.443Z"
   },
   {
    "duration": 744,
    "start_time": "2022-02-06T18:52:56.473Z"
   },
   {
    "duration": 725,
    "start_time": "2022-02-06T18:53:39.677Z"
   },
   {
    "duration": 8,
    "start_time": "2022-02-06T21:31:16.852Z"
   },
   {
    "duration": 6,
    "start_time": "2022-02-06T21:31:21.447Z"
   },
   {
    "duration": 1893,
    "start_time": "2022-02-06T21:45:16.538Z"
   },
   {
    "duration": 1906,
    "start_time": "2022-02-06T21:45:28.992Z"
   },
   {
    "duration": 15,
    "start_time": "2022-02-06T21:47:12.936Z"
   },
   {
    "duration": 391,
    "start_time": "2022-02-06T21:52:31.251Z"
   },
   {
    "duration": 1209,
    "start_time": "2022-02-07T07:34:21.034Z"
   },
   {
    "duration": 25,
    "start_time": "2022-02-07T07:34:22.245Z"
   },
   {
    "duration": 4,
    "start_time": "2022-02-07T07:34:22.272Z"
   },
   {
    "duration": 3,
    "start_time": "2022-02-07T07:34:22.277Z"
   },
   {
    "duration": 30,
    "start_time": "2022-02-07T07:34:22.282Z"
   },
   {
    "duration": 6,
    "start_time": "2022-02-07T07:34:22.314Z"
   },
   {
    "duration": 3741,
    "start_time": "2022-02-07T07:34:22.322Z"
   },
   {
    "duration": 15,
    "start_time": "2022-02-07T07:34:26.065Z"
   },
   {
    "duration": 6,
    "start_time": "2022-02-07T07:34:26.081Z"
   },
   {
    "duration": 152,
    "start_time": "2022-02-07T07:34:26.088Z"
   },
   {
    "duration": 4,
    "start_time": "2022-02-07T07:34:26.242Z"
   },
   {
    "duration": 14,
    "start_time": "2022-02-07T07:34:26.248Z"
   },
   {
    "duration": 74,
    "start_time": "2022-02-07T07:34:26.263Z"
   },
   {
    "duration": 24,
    "start_time": "2022-02-07T07:34:26.339Z"
   },
   {
    "duration": 62,
    "start_time": "2022-02-07T07:34:26.365Z"
   },
   {
    "duration": 4,
    "start_time": "2022-02-07T07:34:26.429Z"
   },
   {
    "duration": 474,
    "start_time": "2022-02-07T07:34:26.435Z"
   },
   {
    "duration": 6,
    "start_time": "2022-02-07T07:34:26.912Z"
   },
   {
    "duration": 1061,
    "start_time": "2022-02-07T07:34:26.920Z"
   },
   {
    "duration": 31,
    "start_time": "2022-02-07T07:34:27.982Z"
   },
   {
    "duration": 4009,
    "start_time": "2022-02-07T07:34:28.015Z"
   },
   {
    "duration": 771,
    "start_time": "2022-02-07T07:34:32.025Z"
   },
   {
    "duration": 567,
    "start_time": "2022-02-07T07:34:32.800Z"
   },
   {
    "duration": 138,
    "start_time": "2022-02-07T07:34:33.369Z"
   },
   {
    "duration": 391,
    "start_time": "2022-02-07T07:34:33.508Z"
   },
   {
    "duration": 476,
    "start_time": "2022-02-07T07:34:33.901Z"
   },
   {
    "duration": 8,
    "start_time": "2022-02-07T07:34:34.378Z"
   },
   {
    "duration": 158,
    "start_time": "2022-02-07T07:34:34.387Z"
   },
   {
    "duration": 617,
    "start_time": "2022-02-07T07:34:34.547Z"
   },
   {
    "duration": 50,
    "start_time": "2022-02-07T07:34:35.166Z"
   },
   {
    "duration": 7,
    "start_time": "2022-02-07T07:34:35.218Z"
   },
   {
    "duration": 351,
    "start_time": "2022-02-07T07:34:35.226Z"
   },
   {
    "duration": 16,
    "start_time": "2022-02-07T07:34:35.579Z"
   },
   {
    "duration": 272,
    "start_time": "2022-02-07T07:34:35.597Z"
   },
   {
    "duration": 476,
    "start_time": "2022-02-07T07:34:35.871Z"
   },
   {
    "duration": 255,
    "start_time": "2022-02-07T07:34:36.349Z"
   },
   {
    "duration": 521,
    "start_time": "2022-02-07T07:34:36.606Z"
   },
   {
    "duration": 31,
    "start_time": "2022-02-07T07:34:37.129Z"
   },
   {
    "duration": 13,
    "start_time": "2022-02-07T07:34:37.162Z"
   },
   {
    "duration": 4,
    "start_time": "2022-02-07T07:34:37.177Z"
   },
   {
    "duration": 528,
    "start_time": "2022-02-07T07:34:37.182Z"
   },
   {
    "duration": 771,
    "start_time": "2022-02-07T07:34:37.712Z"
   },
   {
    "duration": 13,
    "start_time": "2022-02-07T07:34:38.484Z"
   },
   {
    "duration": 741,
    "start_time": "2022-02-07T07:34:38.512Z"
   },
   {
    "duration": 302,
    "start_time": "2022-02-07T08:03:39.197Z"
   },
   {
    "duration": 6,
    "start_time": "2022-02-07T08:03:47.369Z"
   },
   {
    "duration": 7,
    "start_time": "2022-02-07T08:04:00.184Z"
   },
   {
    "duration": 5,
    "start_time": "2022-02-07T08:04:10.237Z"
   },
   {
    "duration": 508,
    "start_time": "2022-02-07T13:27:03.776Z"
   },
   {
    "duration": 98,
    "start_time": "2022-02-07T13:28:33.324Z"
   },
   {
    "duration": 23,
    "start_time": "2022-02-07T13:28:33.424Z"
   },
   {
    "duration": 3,
    "start_time": "2022-02-07T13:28:33.450Z"
   },
   {
    "duration": 5,
    "start_time": "2022-02-07T13:28:33.455Z"
   },
   {
    "duration": 8,
    "start_time": "2022-02-07T13:28:33.462Z"
   },
   {
    "duration": 4048,
    "start_time": "2022-02-07T13:28:33.472Z"
   },
   {
    "duration": 10,
    "start_time": "2022-02-07T13:28:37.522Z"
   },
   {
    "duration": 6,
    "start_time": "2022-02-07T13:28:37.535Z"
   },
   {
    "duration": 174,
    "start_time": "2022-02-07T13:28:37.543Z"
   },
   {
    "duration": 4,
    "start_time": "2022-02-07T13:28:37.719Z"
   },
   {
    "duration": 16,
    "start_time": "2022-02-07T13:28:37.725Z"
   },
   {
    "duration": 69,
    "start_time": "2022-02-07T13:28:37.743Z"
   },
   {
    "duration": 18,
    "start_time": "2022-02-07T13:28:37.814Z"
   },
   {
    "duration": 42,
    "start_time": "2022-02-07T13:28:37.834Z"
   },
   {
    "duration": 4,
    "start_time": "2022-02-07T13:28:37.878Z"
   },
   {
    "duration": 492,
    "start_time": "2022-02-07T13:28:37.884Z"
   },
   {
    "duration": 8,
    "start_time": "2022-02-07T13:28:38.378Z"
   },
   {
    "duration": 1019,
    "start_time": "2022-02-07T13:28:38.387Z"
   },
   {
    "duration": 17,
    "start_time": "2022-02-07T13:28:39.412Z"
   },
   {
    "duration": 4194,
    "start_time": "2022-02-07T13:28:39.431Z"
   },
   {
    "duration": 1044,
    "start_time": "2022-02-07T13:28:43.627Z"
   },
   {
    "duration": 588,
    "start_time": "2022-02-07T13:28:44.673Z"
   },
   {
    "duration": 151,
    "start_time": "2022-02-07T13:28:45.264Z"
   },
   {
    "duration": 393,
    "start_time": "2022-02-07T13:28:45.417Z"
   },
   {
    "duration": 405,
    "start_time": "2022-02-07T13:29:01.582Z"
   },
   {
    "duration": 732,
    "start_time": "2022-02-07T14:25:22.081Z"
   },
   {
    "duration": 9,
    "start_time": "2022-02-07T15:57:28.565Z"
   },
   {
    "duration": 9,
    "start_time": "2022-02-07T16:00:41.423Z"
   },
   {
    "duration": 1775,
    "start_time": "2022-02-07T20:18:26.450Z"
   },
   {
    "duration": 45,
    "start_time": "2022-02-07T20:18:28.228Z"
   },
   {
    "duration": 36,
    "start_time": "2022-02-07T20:18:28.276Z"
   },
   {
    "duration": 29,
    "start_time": "2022-02-07T20:18:28.316Z"
   },
   {
    "duration": 46,
    "start_time": "2022-02-07T20:18:28.348Z"
   },
   {
    "duration": 5293,
    "start_time": "2022-02-07T20:18:28.396Z"
   },
   {
    "duration": 18,
    "start_time": "2022-02-07T20:18:33.692Z"
   },
   {
    "duration": 26,
    "start_time": "2022-02-07T20:18:33.713Z"
   },
   {
    "duration": 368,
    "start_time": "2022-02-07T20:18:33.745Z"
   },
   {
    "duration": 7,
    "start_time": "2022-02-07T20:18:34.117Z"
   },
   {
    "duration": 17,
    "start_time": "2022-02-07T20:18:34.133Z"
   },
   {
    "duration": 99,
    "start_time": "2022-02-07T20:18:34.153Z"
   },
   {
    "duration": 25,
    "start_time": "2022-02-07T20:18:34.255Z"
   },
   {
    "duration": 85,
    "start_time": "2022-02-07T20:18:34.283Z"
   },
   {
    "duration": 7,
    "start_time": "2022-02-07T20:18:34.371Z"
   },
   {
    "duration": 939,
    "start_time": "2022-02-07T20:18:34.380Z"
   },
   {
    "duration": 18,
    "start_time": "2022-02-07T20:18:35.322Z"
   },
   {
    "duration": 1884,
    "start_time": "2022-02-07T20:18:35.344Z"
   },
   {
    "duration": 28,
    "start_time": "2022-02-07T20:18:37.232Z"
   },
   {
    "duration": 9850,
    "start_time": "2022-02-07T20:18:37.263Z"
   },
   {
    "duration": 1521,
    "start_time": "2022-02-07T20:18:47.116Z"
   },
   {
    "duration": 1021,
    "start_time": "2022-02-07T20:18:48.639Z"
   },
   {
    "duration": 250,
    "start_time": "2022-02-07T20:18:49.663Z"
   },
   {
    "duration": 602,
    "start_time": "2022-02-07T20:18:49.916Z"
   },
   {
    "duration": 674,
    "start_time": "2022-02-07T20:18:50.520Z"
   },
   {
    "duration": 12,
    "start_time": "2022-02-07T20:18:51.197Z"
   },
   {
    "duration": 248,
    "start_time": "2022-02-07T20:18:51.214Z"
   },
   {
    "duration": 939,
    "start_time": "2022-02-07T20:18:51.466Z"
   },
   {
    "duration": 94,
    "start_time": "2022-02-07T20:18:52.408Z"
   },
   {
    "duration": 30,
    "start_time": "2022-02-07T20:18:52.505Z"
   },
   {
    "duration": 574,
    "start_time": "2022-02-07T20:18:52.537Z"
   },
   {
    "duration": 37,
    "start_time": "2022-02-07T20:18:53.114Z"
   },
   {
    "duration": 387,
    "start_time": "2022-02-07T20:18:53.154Z"
   },
   {
    "duration": 726,
    "start_time": "2022-02-07T20:18:53.544Z"
   },
   {
    "duration": 402,
    "start_time": "2022-02-07T20:18:54.273Z"
   },
   {
    "duration": 757,
    "start_time": "2022-02-07T20:18:54.678Z"
   },
   {
    "duration": 48,
    "start_time": "2022-02-07T20:18:55.438Z"
   },
   {
    "duration": 54,
    "start_time": "2022-02-07T20:18:55.489Z"
   },
   {
    "duration": 7,
    "start_time": "2022-02-07T20:18:55.546Z"
   },
   {
    "duration": 1217,
    "start_time": "2022-02-07T20:18:55.556Z"
   },
   {
    "duration": 1189,
    "start_time": "2022-02-07T20:18:56.776Z"
   },
   {
    "duration": 21,
    "start_time": "2022-02-07T20:18:57.967Z"
   },
   {
    "duration": 1819,
    "start_time": "2022-02-07T20:18:57.991Z"
   },
   {
    "duration": 15,
    "start_time": "2022-02-07T20:19:18.260Z"
   },
   {
    "duration": 637,
    "start_time": "2022-02-07T20:19:55.483Z"
   },
   {
    "duration": 22,
    "start_time": "2022-02-07T20:19:59.571Z"
   },
   {
    "duration": 399,
    "start_time": "2022-02-07T20:20:53.092Z"
   },
   {
    "duration": 83,
    "start_time": "2022-02-07T20:22:05.544Z"
   },
   {
    "duration": 79,
    "start_time": "2022-02-07T20:22:09.733Z"
   },
   {
    "duration": 405,
    "start_time": "2022-02-07T20:22:12.876Z"
   },
   {
    "duration": 31,
    "start_time": "2022-02-07T20:22:47.119Z"
   },
   {
    "duration": 32,
    "start_time": "2022-02-07T20:22:56.719Z"
   },
   {
    "duration": 65,
    "start_time": "2022-02-07T20:23:09.316Z"
   },
   {
    "duration": 483,
    "start_time": "2022-02-07T20:23:31.433Z"
   },
   {
    "duration": 22,
    "start_time": "2022-02-07T20:23:40.022Z"
   },
   {
    "duration": 21,
    "start_time": "2022-02-07T20:23:44.248Z"
   },
   {
    "duration": 54,
    "start_time": "2022-02-07T20:23:57.250Z"
   },
   {
    "duration": 25,
    "start_time": "2022-02-07T20:24:48.743Z"
   },
   {
    "duration": -11,
    "start_time": "2022-02-07T20:24:58.793Z"
   },
   {
    "duration": 20,
    "start_time": "2022-02-07T20:25:00.774Z"
   },
   {
    "duration": 36,
    "start_time": "2022-02-07T20:25:03.877Z"
   },
   {
    "duration": 36,
    "start_time": "2022-02-07T20:25:13.472Z"
   },
   {
    "duration": 20,
    "start_time": "2022-02-07T20:25:19.696Z"
   },
   {
    "duration": 39,
    "start_time": "2022-02-07T20:25:22.558Z"
   },
   {
    "duration": 34,
    "start_time": "2022-02-07T20:25:38.681Z"
   },
   {
    "duration": 19,
    "start_time": "2022-02-07T20:25:43.297Z"
   },
   {
    "duration": 20,
    "start_time": "2022-02-07T20:25:47.030Z"
   },
   {
    "duration": 35,
    "start_time": "2022-02-07T20:25:49.629Z"
   },
   {
    "duration": 21,
    "start_time": "2022-02-07T20:25:53.557Z"
   },
   {
    "duration": 44,
    "start_time": "2022-02-07T20:25:57.007Z"
   },
   {
    "duration": 36,
    "start_time": "2022-02-07T20:26:01.007Z"
   },
   {
    "duration": 426,
    "start_time": "2022-02-07T20:26:14.386Z"
   },
   {
    "duration": 47,
    "start_time": "2022-02-07T20:26:30.554Z"
   },
   {
    "duration": 303,
    "start_time": "2022-02-07T20:26:43.804Z"
   },
   {
    "duration": 65,
    "start_time": "2022-02-07T20:27:24.823Z"
   },
   {
    "duration": 315,
    "start_time": "2022-02-07T20:27:34.551Z"
   },
   {
    "duration": 13,
    "start_time": "2022-02-07T20:27:40.358Z"
   },
   {
    "duration": 218,
    "start_time": "2022-02-07T20:28:25.606Z"
   },
   {
    "duration": 360,
    "start_time": "2022-02-07T21:07:37.792Z"
   },
   {
    "duration": 637,
    "start_time": "2022-02-07T21:07:48.697Z"
   },
   {
    "duration": 204,
    "start_time": "2022-02-07T21:08:03.459Z"
   },
   {
    "duration": 456,
    "start_time": "2022-02-07T21:08:08.953Z"
   },
   {
    "duration": 616,
    "start_time": "2022-02-07T21:08:16.594Z"
   },
   {
    "duration": 344,
    "start_time": "2022-02-07T21:09:17.983Z"
   },
   {
    "duration": 466,
    "start_time": "2022-02-07T21:09:58.679Z"
   },
   {
    "duration": 58,
    "start_time": "2022-02-07T21:11:15.907Z"
   },
   {
    "duration": 12,
    "start_time": "2022-02-07T21:11:48.868Z"
   },
   {
    "duration": 375,
    "start_time": "2022-02-07T21:11:54.720Z"
   },
   {
    "duration": 662,
    "start_time": "2022-02-07T21:11:58.332Z"
   },
   {
    "duration": 317,
    "start_time": "2022-02-07T21:12:04.624Z"
   },
   {
    "duration": 358,
    "start_time": "2022-02-07T21:12:08.253Z"
   },
   {
    "duration": 681,
    "start_time": "2022-02-07T21:12:11.525Z"
   },
   {
    "duration": 11,
    "start_time": "2022-02-07T21:18:54.659Z"
   },
   {
    "duration": 7,
    "start_time": "2022-02-07T22:09:42.058Z"
   },
   {
    "duration": 15,
    "start_time": "2022-02-07T22:10:00.603Z"
   },
   {
    "duration": 739,
    "start_time": "2022-02-07T22:11:59.025Z"
   },
   {
    "duration": 1117,
    "start_time": "2022-02-07T22:12:02.651Z"
   },
   {
    "duration": 88,
    "start_time": "2022-02-07T22:23:40.133Z"
   },
   {
    "duration": 37,
    "start_time": "2022-02-07T22:42:50.515Z"
   },
   {
    "duration": 1270,
    "start_time": "2022-02-13T12:03:48.739Z"
   },
   {
    "duration": 28,
    "start_time": "2022-02-13T12:03:50.012Z"
   },
   {
    "duration": 9,
    "start_time": "2022-02-13T12:03:50.042Z"
   },
   {
    "duration": 18,
    "start_time": "2022-02-13T12:03:50.053Z"
   },
   {
    "duration": 12,
    "start_time": "2022-02-13T12:03:50.073Z"
   },
   {
    "duration": 4435,
    "start_time": "2022-02-13T12:03:50.087Z"
   },
   {
    "duration": 13,
    "start_time": "2022-02-13T12:03:54.524Z"
   },
   {
    "duration": 7,
    "start_time": "2022-02-13T12:03:54.539Z"
   },
   {
    "duration": 175,
    "start_time": "2022-02-13T12:03:54.549Z"
   },
   {
    "duration": 5,
    "start_time": "2022-02-13T12:03:54.726Z"
   },
   {
    "duration": 15,
    "start_time": "2022-02-13T12:03:54.733Z"
   },
   {
    "duration": 86,
    "start_time": "2022-02-13T12:03:54.750Z"
   },
   {
    "duration": 18,
    "start_time": "2022-02-13T12:03:54.838Z"
   },
   {
    "duration": 62,
    "start_time": "2022-02-13T12:03:54.858Z"
   },
   {
    "duration": 5,
    "start_time": "2022-02-13T12:03:54.922Z"
   },
   {
    "duration": 599,
    "start_time": "2022-02-13T12:03:54.929Z"
   },
   {
    "duration": 7,
    "start_time": "2022-02-13T12:03:55.530Z"
   },
   {
    "duration": 1045,
    "start_time": "2022-02-13T12:03:55.539Z"
   },
   {
    "duration": 36,
    "start_time": "2022-02-13T12:03:56.586Z"
   },
   {
    "duration": 4202,
    "start_time": "2022-02-13T12:03:56.624Z"
   },
   {
    "duration": 783,
    "start_time": "2022-02-13T12:04:00.828Z"
   },
   {
    "duration": 626,
    "start_time": "2022-02-13T12:04:01.613Z"
   },
   {
    "duration": 158,
    "start_time": "2022-02-13T12:04:02.242Z"
   },
   {
    "duration": 399,
    "start_time": "2022-02-13T12:04:02.402Z"
   },
   {
    "duration": 488,
    "start_time": "2022-02-13T12:04:02.807Z"
   },
   {
    "duration": 13,
    "start_time": "2022-02-13T12:04:03.297Z"
   },
   {
    "duration": 163,
    "start_time": "2022-02-13T12:04:03.315Z"
   },
   {
    "duration": 574,
    "start_time": "2022-02-13T12:04:03.480Z"
   },
   {
    "duration": 51,
    "start_time": "2022-02-13T12:04:04.056Z"
   },
   {
    "duration": 25,
    "start_time": "2022-02-13T12:04:04.110Z"
   },
   {
    "duration": 11,
    "start_time": "2022-02-13T12:04:04.137Z"
   },
   {
    "duration": 382,
    "start_time": "2022-02-13T12:04:04.149Z"
   },
   {
    "duration": 18,
    "start_time": "2022-02-13T12:04:04.533Z"
   },
   {
    "duration": 261,
    "start_time": "2022-02-13T12:04:04.553Z"
   },
   {
    "duration": 435,
    "start_time": "2022-02-13T12:04:04.816Z"
   },
   {
    "duration": 262,
    "start_time": "2022-02-13T12:04:05.253Z"
   },
   {
    "duration": 533,
    "start_time": "2022-02-13T12:04:05.518Z"
   },
   {
    "duration": 59,
    "start_time": "2022-02-13T12:04:06.053Z"
   },
   {
    "duration": 18,
    "start_time": "2022-02-13T12:04:06.114Z"
   },
   {
    "duration": 8,
    "start_time": "2022-02-13T12:04:06.134Z"
   },
   {
    "duration": 626,
    "start_time": "2022-02-13T12:04:06.143Z"
   },
   {
    "duration": 809,
    "start_time": "2022-02-13T12:04:06.772Z"
   },
   {
    "duration": 16,
    "start_time": "2022-02-13T12:04:07.583Z"
   },
   {
    "duration": 770,
    "start_time": "2022-02-13T12:04:07.601Z"
   },
   {
    "duration": 76,
    "start_time": "2022-02-13T12:37:30.545Z"
   },
   {
    "duration": 42,
    "start_time": "2022-02-13T12:49:15.272Z"
   },
   {
    "duration": 327,
    "start_time": "2022-02-13T12:55:04.611Z"
   },
   {
    "duration": 264,
    "start_time": "2022-02-13T12:55:20.899Z"
   },
   {
    "duration": 13094,
    "start_time": "2022-02-13T12:55:27.851Z"
   },
   {
    "duration": 12676,
    "start_time": "2022-02-13T12:56:28.645Z"
   },
   {
    "duration": 12883,
    "start_time": "2022-02-13T12:58:33.460Z"
   },
   {
    "duration": 13366,
    "start_time": "2022-02-13T12:59:05.500Z"
   },
   {
    "duration": 82,
    "start_time": "2022-02-13T13:37:47.331Z"
   },
   {
    "duration": 84,
    "start_time": "2022-02-13T13:37:52.613Z"
   },
   {
    "duration": 88,
    "start_time": "2022-02-13T13:37:58.184Z"
   },
   {
    "duration": 384,
    "start_time": "2022-02-13T13:49:30.591Z"
   },
   {
    "duration": 99,
    "start_time": "2022-02-13T13:49:43.794Z"
   },
   {
    "duration": 1873,
    "start_time": "2022-02-13T13:51:36.303Z"
   },
   {
    "duration": 34,
    "start_time": "2022-02-13T13:51:38.178Z"
   },
   {
    "duration": 5,
    "start_time": "2022-02-13T13:51:38.215Z"
   },
   {
    "duration": 5,
    "start_time": "2022-02-13T13:51:38.222Z"
   },
   {
    "duration": 8,
    "start_time": "2022-02-13T13:51:38.229Z"
   },
   {
    "duration": 4582,
    "start_time": "2022-02-13T13:51:38.239Z"
   },
   {
    "duration": 14,
    "start_time": "2022-02-13T13:51:42.824Z"
   },
   {
    "duration": 8,
    "start_time": "2022-02-13T13:51:42.841Z"
   },
   {
    "duration": 186,
    "start_time": "2022-02-13T13:51:42.851Z"
   },
   {
    "duration": 5,
    "start_time": "2022-02-13T13:51:43.039Z"
   },
   {
    "duration": 32,
    "start_time": "2022-02-13T13:51:43.046Z"
   },
   {
    "duration": 78,
    "start_time": "2022-02-13T13:51:43.080Z"
   },
   {
    "duration": 20,
    "start_time": "2022-02-13T13:51:43.159Z"
   },
   {
    "duration": 60,
    "start_time": "2022-02-13T13:51:43.180Z"
   },
   {
    "duration": 5,
    "start_time": "2022-02-13T13:51:43.241Z"
   },
   {
    "duration": 558,
    "start_time": "2022-02-13T13:51:43.247Z"
   },
   {
    "duration": 8,
    "start_time": "2022-02-13T13:51:43.807Z"
   },
   {
    "duration": 1344,
    "start_time": "2022-02-13T13:54:36.822Z"
   },
   {
    "duration": 1170,
    "start_time": "2022-02-13T13:58:29.882Z"
   },
   {
    "duration": 98,
    "start_time": "2022-02-13T14:04:12.009Z"
   },
   {
    "duration": 1498,
    "start_time": "2022-02-13T14:07:13.889Z"
   },
   {
    "duration": 1236,
    "start_time": "2022-02-13T14:07:50.592Z"
   },
   {
    "duration": 1334,
    "start_time": "2022-02-13T14:08:55.792Z"
   },
   {
    "duration": 1142,
    "start_time": "2022-02-13T14:09:43.482Z"
   },
   {
    "duration": 22,
    "start_time": "2022-02-13T14:10:00.267Z"
   },
   {
    "duration": 4800,
    "start_time": "2022-02-13T14:25:59.083Z"
   },
   {
    "duration": 4943,
    "start_time": "2022-02-13T14:26:16.768Z"
   },
   {
    "duration": 4683,
    "start_time": "2022-02-13T14:26:35.034Z"
   },
   {
    "duration": 1119,
    "start_time": "2022-02-13T14:30:40.099Z"
   },
   {
    "duration": 640,
    "start_time": "2022-02-13T14:41:05.366Z"
   },
   {
    "duration": 603,
    "start_time": "2022-02-13T14:41:28.127Z"
   },
   {
    "duration": 152,
    "start_time": "2022-02-13T14:56:03.313Z"
   },
   {
    "duration": 725,
    "start_time": "2022-02-13T14:57:01.377Z"
   },
   {
    "duration": 443,
    "start_time": "2022-02-13T14:57:29.853Z"
   },
   {
    "duration": 488,
    "start_time": "2022-02-13T14:57:38.759Z"
   },
   {
    "duration": 1085,
    "start_time": "2022-02-13T14:57:43.976Z"
   },
   {
    "duration": 1552,
    "start_time": "2022-02-13T14:57:58.658Z"
   },
   {
    "duration": 1607,
    "start_time": "2022-02-13T14:58:51.643Z"
   },
   {
    "duration": 168,
    "start_time": "2022-02-13T15:03:18.476Z"
   },
   {
    "duration": 678,
    "start_time": "2022-02-13T15:06:22.614Z"
   },
   {
    "duration": 13253,
    "start_time": "2022-02-13T15:10:19.789Z"
   },
   {
    "duration": 19,
    "start_time": "2022-02-13T15:12:36.452Z"
   },
   {
    "duration": 85,
    "start_time": "2022-02-13T15:16:39.053Z"
   },
   {
    "duration": 94,
    "start_time": "2022-02-13T15:45:58.610Z"
   },
   {
    "duration": 947,
    "start_time": "2022-02-13T15:56:45.281Z"
   },
   {
    "duration": 840,
    "start_time": "2022-02-13T15:58:42.619Z"
   },
   {
    "duration": 857,
    "start_time": "2022-02-13T16:00:13.490Z"
   },
   {
    "duration": 1936,
    "start_time": "2022-02-13T16:05:39.127Z"
   },
   {
    "duration": 264,
    "start_time": "2022-02-13T16:06:18.861Z"
   },
   {
    "duration": 1215,
    "start_time": "2022-02-13T16:06:33.094Z"
   },
   {
    "duration": 1068,
    "start_time": "2022-02-13T16:07:17.902Z"
   },
   {
    "duration": 1105,
    "start_time": "2022-02-13T16:07:31.939Z"
   },
   {
    "duration": 399,
    "start_time": "2022-02-13T17:57:58.671Z"
   },
   {
    "duration": 425,
    "start_time": "2022-02-13T17:58:16.100Z"
   },
   {
    "duration": 1078,
    "start_time": "2022-02-13T17:58:25.169Z"
   },
   {
    "duration": 22,
    "start_time": "2022-02-13T17:58:26.249Z"
   },
   {
    "duration": 7,
    "start_time": "2022-02-13T17:58:26.272Z"
   },
   {
    "duration": 3,
    "start_time": "2022-02-13T17:58:26.280Z"
   },
   {
    "duration": 9,
    "start_time": "2022-02-13T17:58:26.285Z"
   },
   {
    "duration": 3154,
    "start_time": "2022-02-13T17:58:26.295Z"
   },
   {
    "duration": 11,
    "start_time": "2022-02-13T17:58:29.451Z"
   },
   {
    "duration": 5,
    "start_time": "2022-02-13T17:58:29.464Z"
   },
   {
    "duration": 136,
    "start_time": "2022-02-13T17:58:29.471Z"
   },
   {
    "duration": 4,
    "start_time": "2022-02-13T17:58:29.609Z"
   },
   {
    "duration": 20,
    "start_time": "2022-02-13T17:58:29.614Z"
   },
   {
    "duration": 48,
    "start_time": "2022-02-13T17:58:29.635Z"
   },
   {
    "duration": 15,
    "start_time": "2022-02-13T17:58:29.684Z"
   },
   {
    "duration": 48,
    "start_time": "2022-02-13T17:58:29.700Z"
   },
   {
    "duration": 3,
    "start_time": "2022-02-13T17:58:29.749Z"
   },
   {
    "duration": 423,
    "start_time": "2022-02-13T17:58:29.754Z"
   },
   {
    "duration": 5,
    "start_time": "2022-02-13T17:58:30.179Z"
   },
   {
    "duration": 853,
    "start_time": "2022-02-13T17:58:30.185Z"
   },
   {
    "duration": 788,
    "start_time": "2022-02-13T17:58:31.040Z"
   },
   {
    "duration": 17,
    "start_time": "2022-02-13T17:58:31.830Z"
   },
   {
    "duration": 3244,
    "start_time": "2022-02-13T17:58:31.849Z"
   },
   {
    "duration": 807,
    "start_time": "2022-02-13T17:58:35.095Z"
   },
   {
    "duration": 483,
    "start_time": "2022-02-13T17:58:35.905Z"
   },
   {
    "duration": 128,
    "start_time": "2022-02-13T17:58:36.390Z"
   },
   {
    "duration": 333,
    "start_time": "2022-02-13T17:58:36.520Z"
   },
   {
    "duration": 1158,
    "start_time": "2022-02-13T17:58:36.854Z"
   },
   {
    "duration": 7,
    "start_time": "2022-02-13T17:58:38.014Z"
   },
   {
    "duration": 126,
    "start_time": "2022-02-13T17:58:38.027Z"
   },
   {
    "duration": 474,
    "start_time": "2022-02-13T17:58:38.154Z"
   },
   {
    "duration": 35,
    "start_time": "2022-02-13T17:58:38.629Z"
   },
   {
    "duration": 18,
    "start_time": "2022-02-13T17:58:38.665Z"
   },
   {
    "duration": 7,
    "start_time": "2022-02-13T17:58:38.685Z"
   },
   {
    "duration": 323,
    "start_time": "2022-02-13T17:58:38.693Z"
   },
   {
    "duration": 18,
    "start_time": "2022-02-13T17:58:39.018Z"
   },
   {
    "duration": 204,
    "start_time": "2022-02-13T17:58:39.038Z"
   },
   {
    "duration": 372,
    "start_time": "2022-02-13T17:58:39.244Z"
   },
   {
    "duration": 201,
    "start_time": "2022-02-13T17:58:39.617Z"
   },
   {
    "duration": 466,
    "start_time": "2022-02-13T17:58:39.820Z"
   },
   {
    "duration": 41,
    "start_time": "2022-02-13T17:58:40.288Z"
   },
   {
    "duration": 12,
    "start_time": "2022-02-13T17:58:40.330Z"
   },
   {
    "duration": 4,
    "start_time": "2022-02-13T17:58:40.343Z"
   },
   {
    "duration": 423,
    "start_time": "2022-02-13T17:58:40.348Z"
   },
   {
    "duration": 1139,
    "start_time": "2022-02-13T17:58:40.773Z"
   },
   {
    "duration": 1121,
    "start_time": "2022-02-13T17:59:20.250Z"
   },
   {
    "duration": 1053,
    "start_time": "2022-02-13T18:01:30.492Z"
   },
   {
    "duration": 1128,
    "start_time": "2022-02-13T18:01:50.657Z"
   },
   {
    "duration": 1084,
    "start_time": "2022-02-13T18:01:57.829Z"
   },
   {
    "duration": 1293,
    "start_time": "2022-02-13T18:02:40.391Z"
   },
   {
    "duration": 1201,
    "start_time": "2022-02-13T18:02:47.547Z"
   },
   {
    "duration": 1212,
    "start_time": "2022-02-13T18:02:54.626Z"
   },
   {
    "duration": 1421,
    "start_time": "2022-02-13T18:03:05.111Z"
   },
   {
    "duration": 1234,
    "start_time": "2022-02-13T18:03:22.700Z"
   },
   {
    "duration": 1081,
    "start_time": "2022-02-13T18:03:30.667Z"
   },
   {
    "duration": 901,
    "start_time": "2022-02-13T18:04:33.194Z"
   },
   {
    "duration": 1136,
    "start_time": "2022-02-13T18:04:37.390Z"
   },
   {
    "duration": 1038,
    "start_time": "2022-02-13T18:04:47.602Z"
   },
   {
    "duration": 1135,
    "start_time": "2022-02-13T18:08:50.383Z"
   },
   {
    "duration": 1128,
    "start_time": "2022-02-13T18:10:36.299Z"
   },
   {
    "duration": 1875,
    "start_time": "2022-02-13T18:20:03.454Z"
   },
   {
    "duration": 1858,
    "start_time": "2022-02-13T18:20:36.334Z"
   },
   {
    "duration": 686,
    "start_time": "2022-02-13T18:21:59.734Z"
   },
   {
    "duration": 2063,
    "start_time": "2022-02-13T18:22:07.468Z"
   },
   {
    "duration": 108,
    "start_time": "2022-02-13T18:23:11.757Z"
   },
   {
    "duration": 678,
    "start_time": "2022-02-13T18:23:28.034Z"
   },
   {
    "duration": 663,
    "start_time": "2022-02-13T18:23:49.560Z"
   },
   {
    "duration": 727,
    "start_time": "2022-02-13T18:24:02.094Z"
   },
   {
    "duration": 671,
    "start_time": "2022-02-13T18:24:18.859Z"
   },
   {
    "duration": 2102,
    "start_time": "2022-02-13T18:24:59.617Z"
   },
   {
    "duration": 2580,
    "start_time": "2022-02-13T18:34:28.095Z"
   },
   {
    "duration": 2941,
    "start_time": "2022-02-13T18:37:56.014Z"
   },
   {
    "duration": 2660,
    "start_time": "2022-02-13T18:38:17.802Z"
   },
   {
    "duration": 2845,
    "start_time": "2022-02-13T18:38:58.556Z"
   },
   {
    "duration": 4238,
    "start_time": "2022-02-13T18:40:26.719Z"
   },
   {
    "duration": 537,
    "start_time": "2022-02-13T19:09:42.805Z"
   },
   {
    "duration": 297074,
    "start_time": "2022-02-13T19:09:43.344Z"
   },
   {
    "duration": 83,
    "start_time": "2022-02-13T19:38:41.938Z"
   },
   {
    "duration": 27,
    "start_time": "2022-02-13T19:38:42.023Z"
   },
   {
    "duration": 3,
    "start_time": "2022-02-13T19:38:42.051Z"
   },
   {
    "duration": 6,
    "start_time": "2022-02-13T19:38:42.056Z"
   },
   {
    "duration": 13,
    "start_time": "2022-02-13T19:38:42.063Z"
   },
   {
    "duration": 3241,
    "start_time": "2022-02-13T19:38:42.077Z"
   },
   {
    "duration": 15,
    "start_time": "2022-02-13T19:38:45.320Z"
   },
   {
    "duration": 6,
    "start_time": "2022-02-13T19:38:45.337Z"
   },
   {
    "duration": 136,
    "start_time": "2022-02-13T19:38:45.344Z"
   },
   {
    "duration": 4,
    "start_time": "2022-02-13T19:38:45.481Z"
   },
   {
    "duration": 11,
    "start_time": "2022-02-13T19:38:45.487Z"
   },
   {
    "duration": 69,
    "start_time": "2022-02-13T19:38:45.500Z"
   },
   {
    "duration": 15,
    "start_time": "2022-02-13T19:38:45.570Z"
   },
   {
    "duration": 49,
    "start_time": "2022-02-13T19:38:45.586Z"
   },
   {
    "duration": 4,
    "start_time": "2022-02-13T19:38:45.637Z"
   },
   {
    "duration": 427,
    "start_time": "2022-02-13T19:38:45.643Z"
   },
   {
    "duration": 5,
    "start_time": "2022-02-13T19:38:46.072Z"
   },
   {
    "duration": 20335,
    "start_time": "2022-02-13T19:38:46.079Z"
   },
   {
    "duration": 823,
    "start_time": "2022-02-13T19:39:06.415Z"
   },
   {
    "duration": 16,
    "start_time": "2022-02-13T19:39:07.240Z"
   },
   {
    "duration": 3363,
    "start_time": "2022-02-13T19:39:07.258Z"
   },
   {
    "duration": 995,
    "start_time": "2022-02-13T19:39:10.623Z"
   },
   {
    "duration": 498,
    "start_time": "2022-02-13T19:39:11.621Z"
   },
   {
    "duration": 127,
    "start_time": "2022-02-13T19:39:12.121Z"
   },
   {
    "duration": 317,
    "start_time": "2022-02-13T19:39:12.250Z"
   },
   {
    "duration": 1190,
    "start_time": "2022-02-13T19:39:12.568Z"
   },
   {
    "duration": 8,
    "start_time": "2022-02-13T19:39:13.760Z"
   },
   {
    "duration": 142,
    "start_time": "2022-02-13T19:39:13.770Z"
   },
   {
    "duration": 554,
    "start_time": "2022-02-13T19:39:13.914Z"
   },
   {
    "duration": 36,
    "start_time": "2022-02-13T19:39:14.470Z"
   },
   {
    "duration": 29,
    "start_time": "2022-02-13T19:39:14.508Z"
   },
   {
    "duration": 8,
    "start_time": "2022-02-13T19:39:14.539Z"
   },
   {
    "duration": 322,
    "start_time": "2022-02-13T19:39:14.549Z"
   },
   {
    "duration": 17,
    "start_time": "2022-02-13T19:39:14.873Z"
   },
   {
    "duration": 221,
    "start_time": "2022-02-13T19:39:14.892Z"
   },
   {
    "duration": 423,
    "start_time": "2022-02-13T19:39:15.115Z"
   },
   {
    "duration": 216,
    "start_time": "2022-02-13T19:39:15.539Z"
   },
   {
    "duration": 381,
    "start_time": "2022-02-13T19:39:15.756Z"
   },
   {
    "duration": 29,
    "start_time": "2022-02-13T19:39:16.138Z"
   },
   {
    "duration": 11,
    "start_time": "2022-02-13T19:39:16.168Z"
   },
   {
    "duration": 3,
    "start_time": "2022-02-13T19:39:16.181Z"
   },
   {
    "duration": 618,
    "start_time": "2022-02-13T19:39:16.185Z"
   },
   {
    "duration": 619,
    "start_time": "2022-02-13T19:39:16.804Z"
   },
   {
    "duration": 2796,
    "start_time": "2022-02-13T19:40:07.797Z"
   },
   {
    "duration": 2493,
    "start_time": "2022-02-13T19:40:54.204Z"
   },
   {
    "duration": 3305,
    "start_time": "2022-02-13T19:41:13.843Z"
   },
   {
    "duration": 102,
    "start_time": "2022-02-13T19:43:54.934Z"
   },
   {
    "duration": 580,
    "start_time": "2022-02-13T19:47:56.619Z"
   },
   {
    "duration": 1588,
    "start_time": "2022-02-14T11:47:06.926Z"
   },
   {
    "duration": 53,
    "start_time": "2022-02-14T11:47:08.518Z"
   },
   {
    "duration": 7,
    "start_time": "2022-02-14T11:47:08.575Z"
   },
   {
    "duration": 7,
    "start_time": "2022-02-14T11:47:08.585Z"
   },
   {
    "duration": 11,
    "start_time": "2022-02-14T11:47:08.595Z"
   },
   {
    "duration": 5082,
    "start_time": "2022-02-14T11:47:08.608Z"
   },
   {
    "duration": 18,
    "start_time": "2022-02-14T11:47:13.693Z"
   },
   {
    "duration": 34,
    "start_time": "2022-02-14T11:47:13.715Z"
   },
   {
    "duration": 233,
    "start_time": "2022-02-14T11:47:13.752Z"
   },
   {
    "duration": 7,
    "start_time": "2022-02-14T11:47:13.987Z"
   },
   {
    "duration": 25,
    "start_time": "2022-02-14T11:47:13.996Z"
   },
   {
    "duration": 101,
    "start_time": "2022-02-14T11:47:14.024Z"
   },
   {
    "duration": 39,
    "start_time": "2022-02-14T11:47:14.129Z"
   },
   {
    "duration": 83,
    "start_time": "2022-02-14T11:47:14.171Z"
   },
   {
    "duration": 6,
    "start_time": "2022-02-14T11:47:14.257Z"
   },
   {
    "duration": 758,
    "start_time": "2022-02-14T11:47:14.266Z"
   },
   {
    "duration": 9,
    "start_time": "2022-02-14T11:47:15.027Z"
   },
   {
    "duration": 1574,
    "start_time": "2022-02-14T11:47:15.049Z"
   },
   {
    "duration": 1670,
    "start_time": "2022-02-14T11:47:16.627Z"
   },
   {
    "duration": 29,
    "start_time": "2022-02-14T11:47:18.300Z"
   },
   {
    "duration": 6566,
    "start_time": "2022-02-14T11:47:18.349Z"
   },
   {
    "duration": 1533,
    "start_time": "2022-02-14T11:47:24.918Z"
   },
   {
    "duration": 910,
    "start_time": "2022-02-14T11:47:26.458Z"
   },
   {
    "duration": 244,
    "start_time": "2022-02-14T11:47:27.372Z"
   },
   {
    "duration": 633,
    "start_time": "2022-02-14T11:47:27.618Z"
   },
   {
    "duration": 2266,
    "start_time": "2022-02-14T11:47:28.255Z"
   },
   {
    "duration": 25,
    "start_time": "2022-02-14T11:47:30.524Z"
   },
   {
    "duration": 275,
    "start_time": "2022-02-14T11:47:30.552Z"
   },
   {
    "duration": 933,
    "start_time": "2022-02-14T11:47:30.830Z"
   },
   {
    "duration": 56,
    "start_time": "2022-02-14T11:47:31.766Z"
   },
   {
    "duration": 52,
    "start_time": "2022-02-14T11:47:31.825Z"
   },
   {
    "duration": 14,
    "start_time": "2022-02-14T11:47:31.879Z"
   },
   {
    "duration": 633,
    "start_time": "2022-02-14T11:47:31.895Z"
   },
   {
    "duration": 42,
    "start_time": "2022-02-14T11:47:32.530Z"
   },
   {
    "duration": 502,
    "start_time": "2022-02-14T11:47:32.575Z"
   },
   {
    "duration": 675,
    "start_time": "2022-02-14T11:47:33.080Z"
   },
   {
    "duration": 415,
    "start_time": "2022-02-14T11:47:33.758Z"
   },
   {
    "duration": 739,
    "start_time": "2022-02-14T11:47:34.176Z"
   },
   {
    "duration": 63,
    "start_time": "2022-02-14T11:47:34.919Z"
   },
   {
    "duration": 20,
    "start_time": "2022-02-14T11:47:34.984Z"
   },
   {
    "duration": 7,
    "start_time": "2022-02-14T11:47:35.007Z"
   },
   {
    "duration": 905,
    "start_time": "2022-02-14T11:47:35.051Z"
   },
   {
    "duration": 4748,
    "start_time": "2022-02-14T11:47:35.958Z"
   },
   {
    "duration": 98,
    "start_time": "2022-02-14T11:51:25.275Z"
   },
   {
    "duration": 4629,
    "start_time": "2022-02-14T11:51:37.051Z"
   },
   {
    "duration": 103,
    "start_time": "2022-02-14T11:51:52.796Z"
   },
   {
    "duration": 4931,
    "start_time": "2022-02-14T11:52:00.200Z"
   },
   {
    "duration": 5750,
    "start_time": "2022-02-14T11:52:40.186Z"
   },
   {
    "duration": 2852,
    "start_time": "2022-02-14T11:55:35.479Z"
   },
   {
    "duration": 2426,
    "start_time": "2022-02-14T11:56:07.590Z"
   },
   {
    "duration": 256,
    "start_time": "2022-02-14T11:57:51.568Z"
   },
   {
    "duration": 4807,
    "start_time": "2022-02-14T11:58:04.135Z"
   },
   {
    "duration": 4849,
    "start_time": "2022-02-14T11:58:18.007Z"
   },
   {
    "duration": 1362,
    "start_time": "2022-02-14T12:16:01.032Z"
   },
   {
    "duration": 1578,
    "start_time": "2022-02-14T12:16:18.356Z"
   },
   {
    "duration": 5237,
    "start_time": "2022-02-14T12:16:56.885Z"
   },
   {
    "duration": 6106,
    "start_time": "2022-02-14T12:17:42.808Z"
   },
   {
    "duration": 4728,
    "start_time": "2022-02-14T12:18:02.947Z"
   },
   {
    "duration": 4820,
    "start_time": "2022-02-14T13:35:20.956Z"
   },
   {
    "duration": 4705,
    "start_time": "2022-02-14T13:35:57.323Z"
   },
   {
    "duration": 4751,
    "start_time": "2022-02-14T13:36:25.685Z"
   },
   {
    "duration": 4900,
    "start_time": "2022-02-14T13:36:55.014Z"
   },
   {
    "duration": 109,
    "start_time": "2022-02-14T13:37:48.881Z"
   },
   {
    "duration": 4743,
    "start_time": "2022-02-14T13:37:58.801Z"
   },
   {
    "duration": 4911,
    "start_time": "2022-02-14T13:49:19.984Z"
   },
   {
    "duration": 5006,
    "start_time": "2022-02-14T13:49:42.877Z"
   },
   {
    "duration": 1228,
    "start_time": "2022-02-14T13:52:40.406Z"
   },
   {
    "duration": 1314,
    "start_time": "2022-02-14T13:53:11.354Z"
   },
   {
    "duration": 1449,
    "start_time": "2022-02-14T13:53:23.651Z"
   },
   {
    "duration": 1589,
    "start_time": "2022-02-14T13:53:57.020Z"
   },
   {
    "duration": 154,
    "start_time": "2022-02-14T13:54:22.032Z"
   },
   {
    "duration": 4921,
    "start_time": "2022-02-14T13:54:30.105Z"
   },
   {
    "duration": 1224,
    "start_time": "2022-02-14T13:55:39.739Z"
   },
   {
    "duration": 5726,
    "start_time": "2022-02-14T13:55:57.509Z"
   },
   {
    "duration": 816,
    "start_time": "2022-02-14T14:17:52.363Z"
   },
   {
    "duration": 353,
    "start_time": "2022-02-14T14:18:02.353Z"
   },
   {
    "duration": 277,
    "start_time": "2022-02-14T14:18:37.951Z"
   },
   {
    "duration": 132,
    "start_time": "2022-02-14T14:20:02.752Z"
   },
   {
    "duration": 73,
    "start_time": "2022-02-14T14:20:02.888Z"
   },
   {
    "duration": 6,
    "start_time": "2022-02-14T14:20:02.965Z"
   },
   {
    "duration": 32,
    "start_time": "2022-02-14T14:20:02.974Z"
   },
   {
    "duration": 27,
    "start_time": "2022-02-14T14:20:03.009Z"
   },
   {
    "duration": 5515,
    "start_time": "2022-02-14T14:20:03.039Z"
   },
   {
    "duration": 16,
    "start_time": "2022-02-14T14:20:08.558Z"
   },
   {
    "duration": 10,
    "start_time": "2022-02-14T14:20:08.579Z"
   },
   {
    "duration": 388,
    "start_time": "2022-02-14T14:20:08.593Z"
   },
   {
    "duration": 8,
    "start_time": "2022-02-14T14:20:08.984Z"
   },
   {
    "duration": 34,
    "start_time": "2022-02-14T14:20:08.995Z"
   },
   {
    "duration": 116,
    "start_time": "2022-02-14T14:20:09.032Z"
   },
   {
    "duration": 26,
    "start_time": "2022-02-14T14:20:09.151Z"
   },
   {
    "duration": 86,
    "start_time": "2022-02-14T14:20:09.179Z"
   },
   {
    "duration": 6,
    "start_time": "2022-02-14T14:20:09.267Z"
   },
   {
    "duration": 784,
    "start_time": "2022-02-14T14:20:09.276Z"
   },
   {
    "duration": 11,
    "start_time": "2022-02-14T14:20:10.063Z"
   },
   {
    "duration": 2343,
    "start_time": "2022-02-14T14:20:10.077Z"
   },
   {
    "duration": 2386,
    "start_time": "2022-02-14T14:20:12.424Z"
   },
   {
    "duration": 46,
    "start_time": "2022-02-14T14:20:14.813Z"
   },
   {
    "duration": 7522,
    "start_time": "2022-02-14T14:20:14.862Z"
   },
   {
    "duration": 1335,
    "start_time": "2022-02-14T14:20:22.387Z"
   },
   {
    "duration": 925,
    "start_time": "2022-02-14T14:20:23.729Z"
   },
   {
    "duration": 237,
    "start_time": "2022-02-14T14:20:24.657Z"
   },
   {
    "duration": 636,
    "start_time": "2022-02-14T14:20:24.897Z"
   },
   {
    "duration": 2222,
    "start_time": "2022-02-14T14:20:25.535Z"
   },
   {
    "duration": 12,
    "start_time": "2022-02-14T14:20:27.760Z"
   },
   {
    "duration": 266,
    "start_time": "2022-02-14T14:20:27.775Z"
   },
   {
    "duration": 969,
    "start_time": "2022-02-14T14:20:28.048Z"
   },
   {
    "duration": 87,
    "start_time": "2022-02-14T14:20:29.019Z"
   },
   {
    "duration": 63,
    "start_time": "2022-02-14T14:20:29.109Z"
   },
   {
    "duration": 13,
    "start_time": "2022-02-14T14:20:29.175Z"
   },
   {
    "duration": 725,
    "start_time": "2022-02-14T14:20:29.191Z"
   },
   {
    "duration": 494,
    "start_time": "2022-02-14T14:23:08.482Z"
   },
   {
    "duration": 1043,
    "start_time": "2022-02-14T14:23:14.980Z"
   },
   {
    "duration": 834,
    "start_time": "2022-02-14T14:26:37.501Z"
   },
   {
    "duration": 335,
    "start_time": "2022-02-14T14:26:46.459Z"
   },
   {
    "duration": 371,
    "start_time": "2022-02-14T14:26:51.309Z"
   },
   {
    "duration": 338,
    "start_time": "2022-02-14T14:27:17.362Z"
   },
   {
    "duration": 17,
    "start_time": "2022-02-14T14:29:14.685Z"
   },
   {
    "duration": 11,
    "start_time": "2022-02-14T14:29:23.354Z"
   },
   {
    "duration": 9,
    "start_time": "2022-02-14T14:38:44.350Z"
   },
   {
    "duration": 14,
    "start_time": "2022-02-14T14:38:48.813Z"
   },
   {
    "duration": 10,
    "start_time": "2022-02-14T14:39:00.977Z"
   },
   {
    "duration": 310,
    "start_time": "2022-02-14T14:41:06.569Z"
   },
   {
    "duration": 610,
    "start_time": "2022-02-14T14:41:26.525Z"
   },
   {
    "duration": 685,
    "start_time": "2022-02-14T14:42:27.308Z"
   },
   {
    "duration": 928,
    "start_time": "2022-02-14T14:42:39.078Z"
   },
   {
    "duration": 769,
    "start_time": "2022-02-14T14:42:44.849Z"
   },
   {
    "duration": 694,
    "start_time": "2022-02-14T14:42:53.006Z"
   },
   {
    "duration": 767,
    "start_time": "2022-02-14T14:43:00.054Z"
   },
   {
    "duration": 699,
    "start_time": "2022-02-14T14:43:04.609Z"
   },
   {
    "duration": 741,
    "start_time": "2022-02-14T14:43:12.680Z"
   },
   {
    "duration": 808,
    "start_time": "2022-02-14T14:43:18.688Z"
   },
   {
    "duration": 749,
    "start_time": "2022-02-14T14:43:29.175Z"
   },
   {
    "duration": 352,
    "start_time": "2022-02-14T14:43:52.245Z"
   },
   {
    "duration": 750,
    "start_time": "2022-02-14T14:44:02.084Z"
   },
   {
    "duration": 683,
    "start_time": "2022-02-14T14:50:44.009Z"
   },
   {
    "duration": 679,
    "start_time": "2022-02-14T14:55:15.358Z"
   },
   {
    "duration": 899,
    "start_time": "2022-02-14T14:55:22.216Z"
   },
   {
    "duration": 842,
    "start_time": "2022-02-14T14:55:30.248Z"
   },
   {
    "duration": 698,
    "start_time": "2022-02-14T14:55:34.300Z"
   },
   {
    "duration": 729,
    "start_time": "2022-02-14T14:56:28.673Z"
   },
   {
    "duration": 24,
    "start_time": "2022-02-14T14:58:02.651Z"
   },
   {
    "duration": 5656,
    "start_time": "2022-02-14T15:10:02.164Z"
   },
   {
    "duration": 5055,
    "start_time": "2022-02-14T15:11:36.098Z"
   },
   {
    "duration": 6084,
    "start_time": "2022-02-14T15:14:03.203Z"
   },
   {
    "duration": 5886,
    "start_time": "2022-02-14T15:15:10.275Z"
   },
   {
    "duration": 5660,
    "start_time": "2022-02-14T15:15:32.049Z"
   },
   {
    "duration": 4680,
    "start_time": "2022-02-14T15:17:05.300Z"
   },
   {
    "duration": 4700,
    "start_time": "2022-02-14T15:54:47.030Z"
   },
   {
    "duration": 4758,
    "start_time": "2022-02-14T16:00:26.264Z"
   },
   {
    "duration": 5668,
    "start_time": "2022-02-14T16:03:08.343Z"
   },
   {
    "duration": 4960,
    "start_time": "2022-02-14T16:11:42.107Z"
   },
   {
    "duration": 16,
    "start_time": "2022-02-14T16:46:13.794Z"
   },
   {
    "duration": 615,
    "start_time": "2022-02-14T16:46:47.345Z"
   },
   {
    "duration": 282,
    "start_time": "2022-02-14T16:47:10.716Z"
   },
   {
    "duration": 806,
    "start_time": "2022-02-14T16:47:21.902Z"
   },
   {
    "duration": 569,
    "start_time": "2022-02-14T16:48:10.700Z"
   },
   {
    "duration": 397,
    "start_time": "2022-02-14T16:48:20.086Z"
   },
   {
    "duration": 101,
    "start_time": "2022-02-14T16:48:29.496Z"
   },
   {
    "duration": 536,
    "start_time": "2022-02-14T16:48:36.785Z"
   },
   {
    "duration": 978,
    "start_time": "2022-02-14T16:49:27.200Z"
   },
   {
    "duration": 937,
    "start_time": "2022-02-14T17:04:27.367Z"
   },
   {
    "duration": 2072,
    "start_time": "2022-02-14T17:06:07.200Z"
   },
   {
    "duration": 2141,
    "start_time": "2022-02-14T17:46:05.436Z"
   },
   {
    "duration": 3742,
    "start_time": "2022-02-14T17:48:23.881Z"
   },
   {
    "duration": 4453,
    "start_time": "2022-02-14T17:51:28.295Z"
   },
   {
    "duration": 308,
    "start_time": "2022-02-14T21:13:22.130Z"
   },
   {
    "duration": 1267,
    "start_time": "2022-02-14T21:13:34.340Z"
   },
   {
    "duration": 29,
    "start_time": "2022-02-14T21:13:35.610Z"
   },
   {
    "duration": 4,
    "start_time": "2022-02-14T21:13:35.641Z"
   },
   {
    "duration": 8,
    "start_time": "2022-02-14T21:13:35.647Z"
   },
   {
    "duration": 13,
    "start_time": "2022-02-14T21:13:35.657Z"
   },
   {
    "duration": 4163,
    "start_time": "2022-02-14T21:13:35.672Z"
   },
   {
    "duration": 14,
    "start_time": "2022-02-14T21:13:39.837Z"
   },
   {
    "duration": 6,
    "start_time": "2022-02-14T21:13:39.854Z"
   },
   {
    "duration": 170,
    "start_time": "2022-02-14T21:13:39.863Z"
   },
   {
    "duration": 4,
    "start_time": "2022-02-14T21:13:40.035Z"
   },
   {
    "duration": 23,
    "start_time": "2022-02-14T21:13:40.041Z"
   },
   {
    "duration": 68,
    "start_time": "2022-02-14T21:13:40.066Z"
   },
   {
    "duration": 18,
    "start_time": "2022-02-14T21:13:40.135Z"
   },
   {
    "duration": 53,
    "start_time": "2022-02-14T21:13:40.154Z"
   },
   {
    "duration": 5,
    "start_time": "2022-02-14T21:13:40.208Z"
   },
   {
    "duration": 511,
    "start_time": "2022-02-14T21:13:40.214Z"
   },
   {
    "duration": 6,
    "start_time": "2022-02-14T21:13:40.727Z"
   },
   {
    "duration": 1127,
    "start_time": "2022-02-14T21:13:40.735Z"
   },
   {
    "duration": 1080,
    "start_time": "2022-02-14T21:13:41.863Z"
   },
   {
    "duration": 21,
    "start_time": "2022-02-14T21:13:42.945Z"
   },
   {
    "duration": 4280,
    "start_time": "2022-02-14T21:13:42.967Z"
   },
   {
    "duration": 1109,
    "start_time": "2022-02-14T21:13:47.249Z"
   },
   {
    "duration": 606,
    "start_time": "2022-02-14T21:13:48.362Z"
   },
   {
    "duration": 170,
    "start_time": "2022-02-14T21:13:48.970Z"
   },
   {
    "duration": 446,
    "start_time": "2022-02-14T21:13:49.142Z"
   },
   {
    "duration": 1519,
    "start_time": "2022-02-14T21:13:49.589Z"
   },
   {
    "duration": 8,
    "start_time": "2022-02-14T21:13:51.110Z"
   },
   {
    "duration": 171,
    "start_time": "2022-02-14T21:13:51.120Z"
   },
   {
    "duration": 655,
    "start_time": "2022-02-14T21:13:51.293Z"
   },
   {
    "duration": 49,
    "start_time": "2022-02-14T21:13:51.950Z"
   },
   {
    "duration": 25,
    "start_time": "2022-02-14T21:13:52.001Z"
   },
   {
    "duration": 14,
    "start_time": "2022-02-14T21:13:52.028Z"
   },
   {
    "duration": 371,
    "start_time": "2022-02-14T21:13:52.044Z"
   },
   {
    "duration": 600,
    "start_time": "2022-02-14T21:13:52.417Z"
   },
   {
    "duration": 18,
    "start_time": "2022-02-14T21:13:53.019Z"
   },
   {
    "duration": 284,
    "start_time": "2022-02-14T21:13:53.039Z"
   },
   {
    "duration": 464,
    "start_time": "2022-02-14T21:13:53.325Z"
   },
   {
    "duration": 343,
    "start_time": "2022-02-14T21:13:53.791Z"
   },
   {
    "duration": 449,
    "start_time": "2022-02-14T21:13:54.136Z"
   },
   {
    "duration": 39,
    "start_time": "2022-02-14T21:13:54.587Z"
   },
   {
    "duration": 16,
    "start_time": "2022-02-14T21:13:54.628Z"
   },
   {
    "duration": 4,
    "start_time": "2022-02-14T21:13:54.646Z"
   },
   {
    "duration": 573,
    "start_time": "2022-02-14T21:13:54.652Z"
   },
   {
    "duration": 12,
    "start_time": "2022-02-14T21:13:55.226Z"
   },
   {
    "duration": 14,
    "start_time": "2022-02-14T21:14:26.676Z"
   },
   {
    "duration": 3486,
    "start_time": "2022-02-14T21:14:28.436Z"
   },
   {
    "duration": 3327,
    "start_time": "2022-02-14T21:14:53.436Z"
   },
   {
    "duration": 3264,
    "start_time": "2022-02-14T21:15:54.388Z"
   },
   {
    "duration": 3300,
    "start_time": "2022-02-14T21:16:26.695Z"
   },
   {
    "duration": 3188,
    "start_time": "2022-02-14T21:17:33.049Z"
   },
   {
    "duration": 7086,
    "start_time": "2022-02-14T21:18:09.083Z"
   },
   {
    "duration": 103,
    "start_time": "2022-02-14T21:41:23.636Z"
   },
   {
    "duration": 26,
    "start_time": "2022-02-14T21:41:23.741Z"
   },
   {
    "duration": 3,
    "start_time": "2022-02-14T21:41:23.769Z"
   },
   {
    "duration": 25,
    "start_time": "2022-02-14T21:41:23.774Z"
   },
   {
    "duration": 8,
    "start_time": "2022-02-14T21:41:23.801Z"
   },
   {
    "duration": 4170,
    "start_time": "2022-02-14T21:41:23.811Z"
   },
   {
    "duration": 15,
    "start_time": "2022-02-14T21:41:27.983Z"
   },
   {
    "duration": 6,
    "start_time": "2022-02-14T21:41:28.000Z"
   },
   {
    "duration": 151,
    "start_time": "2022-02-14T21:41:28.009Z"
   },
   {
    "duration": 4,
    "start_time": "2022-02-14T21:41:28.163Z"
   },
   {
    "duration": 14,
    "start_time": "2022-02-14T21:41:28.169Z"
   },
   {
    "duration": 66,
    "start_time": "2022-02-14T21:41:28.185Z"
   },
   {
    "duration": 18,
    "start_time": "2022-02-14T21:41:28.253Z"
   },
   {
    "duration": 50,
    "start_time": "2022-02-14T21:41:28.273Z"
   },
   {
    "duration": 4,
    "start_time": "2022-02-14T21:41:28.325Z"
   },
   {
    "duration": 881,
    "start_time": "2022-02-14T21:41:28.331Z"
   },
   {
    "duration": 7,
    "start_time": "2022-02-14T21:41:29.213Z"
   },
   {
    "duration": 1099,
    "start_time": "2022-02-14T21:41:29.222Z"
   },
   {
    "duration": 1222,
    "start_time": "2022-02-14T21:41:30.323Z"
   },
   {
    "duration": 19,
    "start_time": "2022-02-14T21:41:31.547Z"
   },
   {
    "duration": 4266,
    "start_time": "2022-02-14T21:41:31.568Z"
   },
   {
    "duration": 1135,
    "start_time": "2022-02-14T21:41:35.836Z"
   },
   {
    "duration": 616,
    "start_time": "2022-02-14T21:41:36.973Z"
   },
   {
    "duration": 163,
    "start_time": "2022-02-14T21:41:37.591Z"
   },
   {
    "duration": 430,
    "start_time": "2022-02-14T21:41:37.756Z"
   },
   {
    "duration": 1530,
    "start_time": "2022-02-14T21:41:38.188Z"
   },
   {
    "duration": 8,
    "start_time": "2022-02-14T21:41:39.721Z"
   },
   {
    "duration": 171,
    "start_time": "2022-02-14T21:41:39.731Z"
   },
   {
    "duration": 670,
    "start_time": "2022-02-14T21:41:39.904Z"
   },
   {
    "duration": 49,
    "start_time": "2022-02-14T21:41:40.575Z"
   },
   {
    "duration": 25,
    "start_time": "2022-02-14T21:41:40.626Z"
   },
   {
    "duration": 9,
    "start_time": "2022-02-14T21:41:40.652Z"
   },
   {
    "duration": 526,
    "start_time": "2022-02-14T21:41:40.663Z"
   },
   {
    "duration": 525,
    "start_time": "2022-02-14T21:41:41.190Z"
   },
   {
    "duration": 18,
    "start_time": "2022-02-14T21:41:41.717Z"
   },
   {
    "duration": 278,
    "start_time": "2022-02-14T21:41:41.737Z"
   },
   {
    "duration": 445,
    "start_time": "2022-02-14T21:41:42.018Z"
   },
   {
    "duration": 277,
    "start_time": "2022-02-14T21:41:42.465Z"
   },
   {
    "duration": 478,
    "start_time": "2022-02-14T21:41:42.744Z"
   },
   {
    "duration": 36,
    "start_time": "2022-02-14T21:41:43.225Z"
   },
   {
    "duration": 42,
    "start_time": "2022-02-14T21:41:43.263Z"
   },
   {
    "duration": 5,
    "start_time": "2022-02-14T21:41:43.307Z"
   },
   {
    "duration": 543,
    "start_time": "2022-02-14T21:41:43.314Z"
   },
   {
    "duration": 14,
    "start_time": "2022-02-14T21:41:43.859Z"
   },
   {
    "duration": 64753,
    "start_time": "2022-02-14T21:41:43.875Z"
   },
   {
    "duration": 3188,
    "start_time": "2022-02-14T21:42:48.630Z"
   },
   {
    "duration": 2786,
    "start_time": "2022-02-14T21:47:22.255Z"
   },
   {
    "duration": 2881,
    "start_time": "2022-02-14T21:48:11.851Z"
   },
   {
    "duration": 3259,
    "start_time": "2022-02-14T21:48:38.615Z"
   },
   {
    "duration": 3335,
    "start_time": "2022-02-14T21:49:31.883Z"
   },
   {
    "duration": 3298,
    "start_time": "2022-02-14T22:01:56.809Z"
   },
   {
    "duration": 282,
    "start_time": "2022-02-14T22:35:51.471Z"
   },
   {
    "duration": 32,
    "start_time": "2022-02-14T22:36:06.146Z"
   },
   {
    "duration": 93,
    "start_time": "2022-02-14T22:38:20.307Z"
   },
   {
    "duration": 1635,
    "start_time": "2022-02-15T15:36:43.233Z"
   },
   {
    "duration": 37,
    "start_time": "2022-02-15T15:36:44.871Z"
   },
   {
    "duration": 6,
    "start_time": "2022-02-15T15:36:44.911Z"
   },
   {
    "duration": 5,
    "start_time": "2022-02-15T15:36:44.920Z"
   },
   {
    "duration": 42,
    "start_time": "2022-02-15T15:36:44.927Z"
   },
   {
    "duration": 5441,
    "start_time": "2022-02-15T15:36:44.972Z"
   },
   {
    "duration": 22,
    "start_time": "2022-02-15T15:36:50.417Z"
   },
   {
    "duration": 32,
    "start_time": "2022-02-15T15:36:50.444Z"
   },
   {
    "duration": 363,
    "start_time": "2022-02-15T15:36:50.479Z"
   },
   {
    "duration": 7,
    "start_time": "2022-02-15T15:36:50.845Z"
   },
   {
    "duration": 41,
    "start_time": "2022-02-15T15:36:50.855Z"
   },
   {
    "duration": 144,
    "start_time": "2022-02-15T15:36:50.900Z"
   },
   {
    "duration": 37,
    "start_time": "2022-02-15T15:36:51.046Z"
   },
   {
    "duration": 66,
    "start_time": "2022-02-15T15:36:51.086Z"
   },
   {
    "duration": 7,
    "start_time": "2022-02-15T15:36:51.170Z"
   },
   {
    "duration": 838,
    "start_time": "2022-02-15T15:36:51.179Z"
   },
   {
    "duration": 9,
    "start_time": "2022-02-15T15:36:52.020Z"
   },
   {
    "duration": 1893,
    "start_time": "2022-02-15T15:36:52.032Z"
   },
   {
    "duration": 1802,
    "start_time": "2022-02-15T15:36:53.927Z"
   },
   {
    "duration": 37,
    "start_time": "2022-02-15T15:36:55.732Z"
   },
   {
    "duration": 6597,
    "start_time": "2022-02-15T15:36:55.772Z"
   },
   {
    "duration": 1516,
    "start_time": "2022-02-15T15:37:02.371Z"
   },
   {
    "duration": 894,
    "start_time": "2022-02-15T15:37:03.892Z"
   },
   {
    "duration": 238,
    "start_time": "2022-02-15T15:37:04.789Z"
   },
   {
    "duration": 622,
    "start_time": "2022-02-15T15:37:05.029Z"
   },
   {
    "duration": 2589,
    "start_time": "2022-02-15T15:37:05.654Z"
   },
   {
    "duration": 24,
    "start_time": "2022-02-15T15:37:08.245Z"
   },
   {
    "duration": 245,
    "start_time": "2022-02-15T15:37:08.272Z"
   },
   {
    "duration": 1006,
    "start_time": "2022-02-15T15:37:08.520Z"
   },
   {
    "duration": 80,
    "start_time": "2022-02-15T15:37:09.528Z"
   },
   {
    "duration": 41,
    "start_time": "2022-02-15T15:37:09.611Z"
   },
   {
    "duration": 25,
    "start_time": "2022-02-15T15:37:09.655Z"
   },
   {
    "duration": 579,
    "start_time": "2022-02-15T15:37:09.683Z"
   },
   {
    "duration": 771,
    "start_time": "2022-02-15T15:37:10.265Z"
   },
   {
    "duration": 46,
    "start_time": "2022-02-15T15:37:11.039Z"
   },
   {
    "duration": 387,
    "start_time": "2022-02-15T15:37:11.088Z"
   },
   {
    "duration": 629,
    "start_time": "2022-02-15T15:37:11.477Z"
   },
   {
    "duration": 468,
    "start_time": "2022-02-15T15:37:12.108Z"
   },
   {
    "duration": 594,
    "start_time": "2022-02-15T15:37:12.578Z"
   },
   {
    "duration": 44,
    "start_time": "2022-02-15T15:37:13.175Z"
   },
   {
    "duration": 49,
    "start_time": "2022-02-15T15:37:13.222Z"
   },
   {
    "duration": 5,
    "start_time": "2022-02-15T15:37:13.273Z"
   },
   {
    "duration": 794,
    "start_time": "2022-02-15T15:37:13.281Z"
   },
   {
    "duration": 17,
    "start_time": "2022-02-15T15:37:14.078Z"
   },
   {
    "duration": 5128,
    "start_time": "2022-02-15T15:37:14.097Z"
   },
   {
    "duration": 4405,
    "start_time": "2022-02-15T15:37:19.228Z"
   },
   {
    "duration": 6416,
    "start_time": "2022-02-15T15:44:04.224Z"
   },
   {
    "duration": 123,
    "start_time": "2022-02-15T15:44:20.458Z"
   },
   {
    "duration": 36,
    "start_time": "2022-02-15T15:44:20.584Z"
   },
   {
    "duration": 4,
    "start_time": "2022-02-15T15:44:20.623Z"
   },
   {
    "duration": 7,
    "start_time": "2022-02-15T15:44:20.630Z"
   },
   {
    "duration": 35,
    "start_time": "2022-02-15T15:44:20.640Z"
   },
   {
    "duration": 5610,
    "start_time": "2022-02-15T15:44:20.678Z"
   },
   {
    "duration": 15,
    "start_time": "2022-02-15T15:44:26.291Z"
   },
   {
    "duration": 8,
    "start_time": "2022-02-15T15:44:26.309Z"
   },
   {
    "duration": 260,
    "start_time": "2022-02-15T15:44:26.321Z"
   },
   {
    "duration": 6,
    "start_time": "2022-02-15T15:44:26.584Z"
   },
   {
    "duration": 31,
    "start_time": "2022-02-15T15:44:26.592Z"
   },
   {
    "duration": 106,
    "start_time": "2022-02-15T15:44:26.626Z"
   },
   {
    "duration": 41,
    "start_time": "2022-02-15T15:44:26.735Z"
   },
   {
    "duration": 60,
    "start_time": "2022-02-15T15:44:26.779Z"
   },
   {
    "duration": 6342,
    "start_time": "2022-02-15T15:44:29.382Z"
   },
   {
    "duration": 16,
    "start_time": "2022-02-15T15:45:27.177Z"
   },
   {
    "duration": 8,
    "start_time": "2022-02-15T15:45:45.194Z"
   },
   {
    "duration": 10,
    "start_time": "2022-02-15T15:53:10.600Z"
   },
   {
    "duration": 10,
    "start_time": "2022-02-15T15:56:38.936Z"
   },
   {
    "duration": 254,
    "start_time": "2022-02-15T15:59:43.499Z"
   },
   {
    "duration": 281,
    "start_time": "2022-02-15T16:00:26.149Z"
   },
   {
    "duration": 2518,
    "start_time": "2022-02-15T16:00:46.772Z"
   },
   {
    "duration": 9,
    "start_time": "2022-02-15T16:01:33.494Z"
   },
   {
    "duration": 9,
    "start_time": "2022-02-15T16:01:52.477Z"
   },
   {
    "duration": 1807,
    "start_time": "2022-02-15T16:01:58.429Z"
   },
   {
    "duration": 86,
    "start_time": "2022-02-15T16:04:10.647Z"
   },
   {
    "duration": 2020,
    "start_time": "2022-02-15T16:04:15.768Z"
   },
   {
    "duration": 109,
    "start_time": "2022-02-15T16:05:14.528Z"
   },
   {
    "duration": 9,
    "start_time": "2022-02-15T16:05:43.515Z"
   },
   {
    "duration": 2985,
    "start_time": "2022-02-15T16:05:44.747Z"
   },
   {
    "duration": 1957,
    "start_time": "2022-02-15T16:06:14.668Z"
   }
  ],
  "kernelspec": {
   "display_name": "Python 3 (ipykernel)",
   "language": "python",
   "name": "python3"
  },
  "language_info": {
   "codemirror_mode": {
    "name": "ipython",
    "version": 3
   },
   "file_extension": ".py",
   "mimetype": "text/x-python",
   "name": "python",
   "nbconvert_exporter": "python",
   "pygments_lexer": "ipython3",
   "version": "3.9.7"
  },
  "toc": {
   "base_numbering": 1,
   "nav_menu": {},
   "number_sections": true,
   "sideBar": true,
   "skip_h1_title": true,
   "title_cell": "Contents",
   "title_sidebar": "Contents",
   "toc_cell": true,
   "toc_position": {
    "height": "calc(100% - 180px)",
    "left": "10px",
    "top": "150px",
    "width": "165px"
   },
   "toc_section_display": true,
   "toc_window_display": true
  }
 },
 "nbformat": 4,
 "nbformat_minor": 2
}
